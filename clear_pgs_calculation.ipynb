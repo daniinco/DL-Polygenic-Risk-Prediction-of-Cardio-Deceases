{
 "cells": [
  {
   "cell_type": "code",
   "execution_count": 64,
   "metadata": {},
   "outputs": [],
   "source": [
    "import os\n",
    "import subprocess\n",
    "import pandas as pd\n",
    "import numpy as np\n",
    "import glob\n",
    "from pathlib import Path\n"
   ]
  },
  {
   "cell_type": "code",
   "execution_count": 65,
   "metadata": {},
   "outputs": [
    {
     "name": "stdout",
     "output_type": "stream",
     "text": [
      "1\n",
      "файл ./all_train.bim, содержит 591998 SNP\n",
      "Найдено 76 PGS\n",
      "\n",
      "==========================================\n",
      "Обработка PGS: PGS003725\n",
      "PGS PGS003725, содержит 1296172 SNP\n",
      "Файл содержит позиционную информацию вместо rsID. Создаем синтетиические идентификаторы.\n",
      "Количество SNP в PGS: 1296172\n",
      "Количество общих SNP: 456468\n",
      "Процент покрытия: 35.22%\n",
      "Выполняем расчет PGS PGS003725\n"
     ]
    },
    {
     "name": "stderr",
     "output_type": "stream",
     "text": [
      "Python(11978) MallocStackLogging: can't turn off malloc stack logging because it was not enabled.\n"
     ]
    },
    {
     "name": "stdout",
     "output_type": "stream",
     "text": [
      "PGS PGS003725 успешно рассчитан\n",
      "\n",
      "==========================================\n",
      "Обработка PGS: PGS000748\n",
      "PGS PGS000748, содержит 3423987 SNP\n",
      "Файл содержит позиционную информацию вместо rsID. Создаем синтетиические идентификаторы.\n",
      "Количество SNP в PGS: 3423987\n",
      "Количество общих SNP: 416579\n",
      "Процент покрытия: 12.17%\n",
      "Выполняем расчет PGS PGS000748\n"
     ]
    },
    {
     "name": "stderr",
     "output_type": "stream",
     "text": [
      "Python(12072) MallocStackLogging: can't turn off malloc stack logging because it was not enabled.\n"
     ]
    },
    {
     "name": "stdout",
     "output_type": "stream",
     "text": [
      "PGS PGS000748 успешно рассчитан\n",
      "\n",
      "==========================================\n",
      "Обработка PGS: PGS000012\n",
      "PGS PGS000012, содержит 49310 SNP\n",
      "Количество SNP в PGS: 49310\n",
      "Количество общих SNP: 15881\n",
      "Процент покрытия: 32.21%\n",
      "Выполняем расчет PGS PGS000012\n"
     ]
    },
    {
     "name": "stderr",
     "output_type": "stream",
     "text": [
      "Python(12085) MallocStackLogging: can't turn off malloc stack logging because it was not enabled.\n"
     ]
    },
    {
     "name": "stdout",
     "output_type": "stream",
     "text": [
      "PGS PGS000012 успешно рассчитан\n",
      "\n",
      "==========================================\n",
      "Обработка PGS: PGS003446\n",
      "PGS PGS003446, содержит 538084 SNP\n",
      "Файл содержит позиционную информацию вместо rsID. Создаем синтетиические идентификаторы.\n",
      "Количество SNP в PGS: 538084\n",
      "Количество общих SNP: 25529\n",
      "Процент покрытия: 4.74%\n",
      "Выполняем расчет PGS PGS003446\n"
     ]
    },
    {
     "name": "stderr",
     "output_type": "stream",
     "text": [
      "Python(12088) MallocStackLogging: can't turn off malloc stack logging because it was not enabled.\n"
     ]
    },
    {
     "name": "stdout",
     "output_type": "stream",
     "text": [
      "PGS PGS003446 успешно рассчитан\n",
      "\n",
      "==========================================\n",
      "Обработка PGS: PGS004513\n",
      "PGS PGS004513, содержит 1059939 SNP\n",
      "Количество SNP в PGS: 1059939\n",
      "Количество общих SNP: 442559\n",
      "Процент покрытия: 41.75%\n",
      "Выполняем расчет PGS PGS004513\n"
     ]
    },
    {
     "name": "stderr",
     "output_type": "stream",
     "text": [
      "Python(12105) MallocStackLogging: can't turn off malloc stack logging because it was not enabled.\n"
     ]
    },
    {
     "name": "stdout",
     "output_type": "stream",
     "text": [
      "PGS PGS004513 успешно рассчитан\n",
      "\n",
      "==========================================\n",
      "Обработка PGS: PGS000013\n",
      "PGS PGS000013, содержит 6630150 SNP\n",
      "Файл содержит позиционную информацию вместо rsID. Создаем синтетиические идентификаторы.\n",
      "Количество SNP в PGS: 6630150\n",
      "Количество общих SNP: 495928\n",
      "Процент покрытия: 7.48%\n",
      "Выполняем расчет PGS PGS000013\n"
     ]
    },
    {
     "name": "stderr",
     "output_type": "stream",
     "text": [
      "Python(12203) MallocStackLogging: can't turn off malloc stack logging because it was not enabled.\n"
     ]
    },
    {
     "name": "stdout",
     "output_type": "stream",
     "text": [
      "PGS PGS000013 успешно рассчитан\n",
      "\n",
      "==========================================\n",
      "Обработка PGS: PGS005143\n",
      "PGS PGS005143, содержит 943274 SNP\n",
      "Количество SNP в PGS: 943274\n",
      "Количество общих SNP: 395304\n",
      "Процент покрытия: 41.91%\n",
      "Выполняем расчет PGS PGS005143\n"
     ]
    },
    {
     "name": "stderr",
     "output_type": "stream",
     "text": [
      "Python(12220) MallocStackLogging: can't turn off malloc stack logging because it was not enabled.\n"
     ]
    },
    {
     "name": "stdout",
     "output_type": "stream",
     "text": [
      "PGS PGS005143 успешно рассчитан\n",
      "\n",
      "==========================================\n",
      "Обработка PGS: PGS003726\n",
      "PGS PGS003726, содержит 1296172 SNP\n",
      "Файл содержит позиционную информацию вместо rsID. Создаем синтетиические идентификаторы.\n",
      "Количество SNP в PGS: 1296172\n",
      "Количество общих SNP: 456468\n",
      "Процент покрытия: 35.22%\n",
      "Выполняем расчет PGS PGS003726\n"
     ]
    },
    {
     "name": "stderr",
     "output_type": "stream",
     "text": [
      "Python(12238) MallocStackLogging: can't turn off malloc stack logging because it was not enabled.\n"
     ]
    },
    {
     "name": "stdout",
     "output_type": "stream",
     "text": [
      "PGS PGS003726 успешно рассчитан\n",
      "\n",
      "==========================================\n",
      "Обработка PGS: PGS002809\n",
      "PGS PGS002809, содержит 205 SNP\n",
      "Количество SNP в PGS: 205\n",
      "Количество общих SNP: 48\n",
      "Процент покрытия: 23.41%\n",
      "Выполняем расчет PGS PGS002809\n"
     ]
    },
    {
     "name": "stderr",
     "output_type": "stream",
     "text": [
      "Python(12239) MallocStackLogging: can't turn off malloc stack logging because it was not enabled.\n"
     ]
    },
    {
     "name": "stdout",
     "output_type": "stream",
     "text": [
      "PGS PGS002809 успешно рассчитан\n",
      "\n",
      "==========================================\n",
      "Обработка PGS: PGS000011\n",
      "PGS PGS000011, содержит 50 SNP\n",
      "Количество SNP в PGS: 50\n",
      "Количество общих SNP: 22\n",
      "Процент покрытия: 44.00%\n",
      "Выполняем расчет PGS PGS000011\n"
     ]
    },
    {
     "name": "stderr",
     "output_type": "stream",
     "text": [
      "Python(12240) MallocStackLogging: can't turn off malloc stack logging because it was not enabled.\n"
     ]
    },
    {
     "name": "stdout",
     "output_type": "stream",
     "text": [
      "PGS PGS000011 успешно рассчитан\n",
      "\n",
      "==========================================\n",
      "Обработка PGS: PGS000818\n",
      "PGS PGS000818, содержит 138 SNP\n",
      "Количество SNP в PGS: 138\n",
      "Количество общих SNP: 42\n",
      "Процент покрытия: 30.43%\n",
      "Выполняем расчет PGS PGS000818\n"
     ]
    },
    {
     "name": "stderr",
     "output_type": "stream",
     "text": [
      "Python(12241) MallocStackLogging: can't turn off malloc stack logging because it was not enabled.\n"
     ]
    },
    {
     "name": "stdout",
     "output_type": "stream",
     "text": [
      "PGS PGS000818 успешно рассчитан\n",
      "\n",
      "==========================================\n",
      "Обработка PGS: PGS004698\n",
      "PGS PGS004698, содержит 542218 SNP\n",
      "Файл содержит позиционную информацию вместо rsID. Создаем синтетиические идентификаторы.\n",
      "Количество SNP в PGS: 542218\n",
      "Количество общих SNP: 26884\n",
      "Процент покрытия: 4.96%\n",
      "Выполняем расчет PGS PGS004698\n"
     ]
    },
    {
     "name": "stderr",
     "output_type": "stream",
     "text": [
      "Python(12244) MallocStackLogging: can't turn off malloc stack logging because it was not enabled.\n"
     ]
    },
    {
     "name": "stdout",
     "output_type": "stream",
     "text": [
      "PGS PGS004698 успешно рассчитан\n",
      "\n",
      "==========================================\n",
      "Обработка PGS: PGS000010\n",
      "PGS PGS000010, содержит 27 SNP\n",
      "Количество SNP в PGS: 27\n",
      "Количество общих SNP: 14\n",
      "Процент покрытия: 51.85%\n",
      "Выполняем расчет PGS PGS000010\n"
     ]
    },
    {
     "name": "stderr",
     "output_type": "stream",
     "text": [
      "Python(12245) MallocStackLogging: can't turn off malloc stack logging because it was not enabled.\n"
     ]
    },
    {
     "name": "stdout",
     "output_type": "stream",
     "text": [
      "PGS PGS000010 успешно рассчитан\n",
      "\n",
      "==========================================\n",
      "Обработка PGS: PGS003727\n",
      "PGS PGS003727, содержит 1125113 SNP\n",
      "Файл содержит позиционную информацию вместо rsID. Создаем синтетиические идентификаторы.\n",
      "Количество SNP в PGS: 1125113\n",
      "Количество общих SNP: 455311\n",
      "Процент покрытия: 40.47%\n",
      "Выполняем расчет PGS PGS003727\n"
     ]
    },
    {
     "name": "stderr",
     "output_type": "stream",
     "text": [
      "Python(12252) MallocStackLogging: can't turn off malloc stack logging because it was not enabled.\n"
     ]
    },
    {
     "name": "stdout",
     "output_type": "stream",
     "text": [
      "PGS PGS003727 успешно рассчитан\n",
      "\n",
      "==========================================\n",
      "Обработка PGS: PGS004921\n",
      "PGS PGS004921, содержит 161 SNP\n",
      "Количество SNP в PGS: 161\n",
      "Количество общих SNP: 30\n",
      "Процент покрытия: 18.63%\n",
      "Выполняем расчет PGS PGS004921\n"
     ]
    },
    {
     "name": "stderr",
     "output_type": "stream",
     "text": [
      "Python(12253) MallocStackLogging: can't turn off malloc stack logging because it was not enabled.\n"
     ]
    },
    {
     "name": "stdout",
     "output_type": "stream",
     "text": [
      "PGS PGS004921 успешно рассчитан\n",
      "\n",
      "==========================================\n",
      "Обработка PGS: PGS004919\n",
      "PGS PGS004919, содержит 50 SNP\n",
      "Количество SNP в PGS: 50\n",
      "Количество общих SNP: 22\n",
      "Процент покрытия: 44.00%\n",
      "Выполняем расчет PGS PGS004919\n"
     ]
    },
    {
     "name": "stderr",
     "output_type": "stream",
     "text": [
      "Python(12254) MallocStackLogging: can't turn off malloc stack logging because it was not enabled.\n"
     ]
    },
    {
     "name": "stdout",
     "output_type": "stream",
     "text": [
      "PGS PGS004919 успешно рассчитан\n",
      "\n",
      "==========================================\n",
      "Обработка PGS: PGS004925\n",
      "PGS PGS004925, содержит 300 SNP\n",
      "Количество SNP в PGS: 300\n",
      "Количество общих SNP: 46\n",
      "Процент покрытия: 15.33%\n",
      "Выполняем расчет PGS PGS004925\n"
     ]
    },
    {
     "name": "stderr",
     "output_type": "stream",
     "text": [
      "Python(12255) MallocStackLogging: can't turn off malloc stack logging because it was not enabled.\n"
     ]
    },
    {
     "name": "stdout",
     "output_type": "stream",
     "text": [
      "PGS PGS004925 успешно рассчитан\n",
      "\n",
      "==========================================\n",
      "Обработка PGS: PGS004514\n",
      "PGS PGS004514, содержит 1059939 SNP\n",
      "Количество SNP в PGS: 1059939\n",
      "Количество общих SNP: 442559\n",
      "Процент покрытия: 41.75%\n",
      "Выполняем расчет PGS PGS004514\n"
     ]
    },
    {
     "name": "stderr",
     "output_type": "stream",
     "text": [
      "Python(12342) MallocStackLogging: can't turn off malloc stack logging because it was not enabled.\n"
     ]
    },
    {
     "name": "stdout",
     "output_type": "stream",
     "text": [
      "PGS PGS004514 успешно рассчитан\n",
      "\n",
      "==========================================\n",
      "Обработка PGS: PGS004306\n",
      "PGS PGS004306, содержит 4000 SNP\n",
      "Файл содержит позиционную информацию вместо rsID. Создаем синтетиические идентификаторы.\n",
      "Количество SNP в PGS: 4000\n",
      "Количество общих SNP: 1576\n",
      "Процент покрытия: 39.40%\n",
      "Выполняем расчет PGS PGS004306\n"
     ]
    },
    {
     "name": "stderr",
     "output_type": "stream",
     "text": [
      "Python(12343) MallocStackLogging: can't turn off malloc stack logging because it was not enabled.\n"
     ]
    },
    {
     "name": "stdout",
     "output_type": "stream",
     "text": [
      "PGS PGS004306 успешно рассчитан\n",
      "\n",
      "==========================================\n",
      "Обработка PGS: PGS004879\n",
      "PGS PGS004879, содержит 610677 SNP\n",
      "Количество SNP в PGS: 610677\n",
      "Количество общих SNP: 259008\n",
      "Процент покрытия: 42.41%\n",
      "Выполняем расчет PGS PGS004879\n"
     ]
    },
    {
     "name": "stderr",
     "output_type": "stream",
     "text": [
      "Python(12361) MallocStackLogging: can't turn off malloc stack logging because it was not enabled.\n"
     ]
    },
    {
     "name": "stdout",
     "output_type": "stream",
     "text": [
      "PGS PGS004879 успешно рассчитан\n",
      "\n",
      "==========================================\n",
      "Обработка PGS: PGS004307\n",
      "PGS PGS004307, содержит 4000 SNP\n",
      "Файл содержит позиционную информацию вместо rsID. Создаем синтетиические идентификаторы.\n",
      "Количество SNP в PGS: 4000\n",
      "Количество общих SNP: 1596\n",
      "Процент покрытия: 39.90%\n",
      "Выполняем расчет PGS PGS004307\n"
     ]
    },
    {
     "name": "stderr",
     "output_type": "stream",
     "text": [
      "Python(12362) MallocStackLogging: can't turn off malloc stack logging because it was not enabled.\n"
     ]
    },
    {
     "name": "stdout",
     "output_type": "stream",
     "text": [
      "PGS PGS004307 успешно рассчитан\n",
      "\n",
      "==========================================\n",
      "Обработка PGS: PGS002776\n",
      "PGS PGS002776, содержит 390782 SNP\n",
      "Количество SNP в PGS: 390782\n",
      "Количество общих SNP: 44688\n",
      "Процент покрытия: 11.44%\n",
      "Выполняем расчет PGS PGS002776\n"
     ]
    },
    {
     "name": "stderr",
     "output_type": "stream",
     "text": [
      "Python(12363) MallocStackLogging: can't turn off malloc stack logging because it was not enabled.\n"
     ]
    },
    {
     "name": "stdout",
     "output_type": "stream",
     "text": [
      "PGS PGS002776 успешно рассчитан\n",
      "\n",
      "==========================================\n",
      "Обработка PGS: PGS000798\n",
      "PGS PGS000798, содержит 157 SNP\n",
      "Количество SNP в PGS: 157\n",
      "Количество общих SNP: 29\n",
      "Процент покрытия: 18.47%\n",
      "Выполняем расчет PGS PGS000798\n"
     ]
    },
    {
     "name": "stderr",
     "output_type": "stream",
     "text": [
      "Python(12364) MallocStackLogging: can't turn off malloc stack logging because it was not enabled.\n"
     ]
    },
    {
     "name": "stdout",
     "output_type": "stream",
     "text": [
      "PGS PGS000798 успешно рассчитан\n",
      "\n",
      "==========================================\n",
      "Обработка PGS: PGS004305\n",
      "PGS PGS004305, содержит 3000 SNP\n",
      "Файл содержит позиционную информацию вместо rsID. Создаем синтетиические идентификаторы.\n",
      "Количество SNP в PGS: 3000\n",
      "Количество общих SNP: 1127\n",
      "Процент покрытия: 37.57%\n",
      "Выполняем расчет PGS PGS004305\n"
     ]
    },
    {
     "name": "stderr",
     "output_type": "stream",
     "text": [
      "Python(12365) MallocStackLogging: can't turn off malloc stack logging because it was not enabled.\n"
     ]
    },
    {
     "name": "stdout",
     "output_type": "stream",
     "text": [
      "PGS PGS004305 успешно рассчитан\n",
      "\n",
      "==========================================\n",
      "Обработка PGS: PGS000349\n",
      "PGS PGS000349, содержит 70 SNP\n",
      "Количество SNP в PGS: 70\n",
      "Количество общих SNP: 24\n",
      "Процент покрытия: 34.29%\n",
      "Выполняем расчет PGS PGS000349\n"
     ]
    },
    {
     "name": "stderr",
     "output_type": "stream",
     "text": [
      "Python(12367) MallocStackLogging: can't turn off malloc stack logging because it was not enabled.\n"
     ]
    },
    {
     "name": "stdout",
     "output_type": "stream",
     "text": [
      "PGS PGS000349 успешно рассчитан\n",
      "\n",
      "==========================================\n",
      "Обработка PGS: PGS003866\n",
      "PGS PGS003866, содержит 10440 SNP\n",
      "Количество SNP в PGS: 10440\n",
      "Количество общих SNP: 4335\n",
      "Процент покрытия: 41.52%\n",
      "Выполняем расчет PGS PGS003866\n"
     ]
    },
    {
     "name": "stderr",
     "output_type": "stream",
     "text": [
      "Python(12369) MallocStackLogging: can't turn off malloc stack logging because it was not enabled.\n"
     ]
    },
    {
     "name": "stdout",
     "output_type": "stream",
     "text": [
      "PGS PGS003866 успешно рассчитан\n",
      "\n",
      "==========================================\n",
      "Обработка PGS: PGS002775\n",
      "PGS PGS002775, содержит 1059 SNP\n",
      "Количество SNP в PGS: 1059\n",
      "Количество общих SNP: 180\n",
      "Процент покрытия: 17.00%\n",
      "Выполняем расчет PGS PGS002775\n"
     ]
    },
    {
     "name": "stderr",
     "output_type": "stream",
     "text": [
      "Python(12370) MallocStackLogging: can't turn off malloc stack logging because it was not enabled.\n"
     ]
    },
    {
     "name": "stdout",
     "output_type": "stream",
     "text": [
      "PGS PGS002775 успешно рассчитан\n",
      "\n",
      "==========================================\n",
      "Обработка PGS: PGS005152\n",
      "PGS PGS005152, содержит 943274 SNP\n",
      "Количество SNP в PGS: 943274\n",
      "Количество общих SNP: 395304\n",
      "Процент покрытия: 41.91%\n",
      "Выполняем расчет PGS PGS005152\n"
     ]
    },
    {
     "name": "stderr",
     "output_type": "stream",
     "text": [
      "Python(12375) MallocStackLogging: can't turn off malloc stack logging because it was not enabled.\n"
     ]
    },
    {
     "name": "stdout",
     "output_type": "stream",
     "text": [
      "PGS PGS005152 успешно рассчитан\n",
      "\n",
      "==========================================\n",
      "Обработка PGS: PGS000200\n",
      "PGS PGS000200, содержит 28 SNP\n",
      "Количество SNP в PGS: 28\n",
      "Количество общих SNP: 15\n",
      "Процент покрытия: 53.57%\n",
      "Выполняем расчет PGS PGS000200\n"
     ]
    },
    {
     "name": "stderr",
     "output_type": "stream",
     "text": [
      "Python(12376) MallocStackLogging: can't turn off malloc stack logging because it was not enabled.\n"
     ]
    },
    {
     "name": "stdout",
     "output_type": "stream",
     "text": [
      "PGS PGS000200 успешно рассчитан\n",
      "\n",
      "==========================================\n",
      "Обработка PGS: PGS000059\n",
      "PGS PGS000059, содержит 46 SNP\n",
      "Количество SNP в PGS: 46\n",
      "Количество общих SNP: 18\n",
      "Процент покрытия: 39.13%\n",
      "Выполняем расчет PGS PGS000059\n"
     ]
    },
    {
     "name": "stderr",
     "output_type": "stream",
     "text": [
      "Python(12377) MallocStackLogging: can't turn off malloc stack logging because it was not enabled.\n"
     ]
    },
    {
     "name": "stdout",
     "output_type": "stream",
     "text": [
      "PGS PGS000059 успешно рассчитан\n",
      "\n",
      "==========================================\n",
      "Обработка PGS: PGS003356\n",
      "PGS PGS003356, содержит 2324683 SNP\n",
      "Файл содержит позиционную информацию вместо rsID. Создаем синтетиические идентификаторы.\n",
      "Количество SNP в PGS: 2324683\n",
      "Количество общих SNP: 497605\n",
      "Процент покрытия: 21.41%\n",
      "Выполняем расчет PGS PGS003356\n"
     ]
    },
    {
     "name": "stderr",
     "output_type": "stream",
     "text": [
      "Python(12395) MallocStackLogging: can't turn off malloc stack logging because it was not enabled.\n"
     ]
    },
    {
     "name": "stdout",
     "output_type": "stream",
     "text": [
      "PGS PGS003356 успешно рассчитан\n",
      "\n",
      "==========================================\n",
      "Обработка PGS: PGS002048\n",
      "PGS PGS002048, содержит 762124 SNP\n",
      "Количество SNP в PGS: 762124\n",
      "Количество общих SNP: 322896\n",
      "Процент покрытия: 42.37%\n",
      "Выполняем расчет PGS PGS002048\n"
     ]
    },
    {
     "name": "stderr",
     "output_type": "stream",
     "text": [
      "Python(12435) MallocStackLogging: can't turn off malloc stack logging because it was not enabled.\n"
     ]
    },
    {
     "name": "stdout",
     "output_type": "stream",
     "text": [
      "PGS PGS002048 успешно рассчитан\n",
      "\n",
      "==========================================\n",
      "Обработка PGS: PGS001780\n",
      "PGS PGS001780, содержит 1090048 SNP\n",
      "Количество SNP в PGS: 1090048\n",
      "Количество общих SNP: 450206\n",
      "Процент покрытия: 41.30%\n",
      "Выполняем расчет PGS PGS001780\n"
     ]
    },
    {
     "name": "stderr",
     "output_type": "stream",
     "text": [
      "Python(12502) MallocStackLogging: can't turn off malloc stack logging because it was not enabled.\n"
     ]
    },
    {
     "name": "stdout",
     "output_type": "stream",
     "text": [
      "PGS PGS001780 успешно рассчитан\n",
      "\n",
      "==========================================\n",
      "Обработка PGS: PGS002262\n",
      "PGS PGS002262, содержит 540 SNP\n",
      "Количество SNP в PGS: 540\n",
      "Количество общих SNP: 136\n",
      "Процент покрытия: 25.19%\n",
      "Выполняем расчет PGS PGS002262\n"
     ]
    },
    {
     "name": "stderr",
     "output_type": "stream",
     "text": [
      "Python(12503) MallocStackLogging: can't turn off malloc stack logging because it was not enabled.\n"
     ]
    },
    {
     "name": "stdout",
     "output_type": "stream",
     "text": [
      "PGS PGS002262 успешно рассчитан\n",
      "\n",
      "==========================================\n",
      "Обработка PGS: PGS000058\n",
      "PGS PGS000058, содержит 204 SNP\n",
      "Количество SNP в PGS: 204\n",
      "Количество общих SNP: 41\n",
      "Процент покрытия: 20.10%\n",
      "Выполняем расчет PGS PGS000058\n"
     ]
    },
    {
     "name": "stderr",
     "output_type": "stream",
     "text": [
      "Python(12504) MallocStackLogging: can't turn off malloc stack logging because it was not enabled.\n"
     ]
    },
    {
     "name": "stdout",
     "output_type": "stream",
     "text": [
      "PGS PGS000058 успешно рассчитан\n",
      "\n",
      "==========================================\n",
      "Обработка PGS: PGS001839\n",
      "PGS PGS001839, содержит 25425 SNP\n",
      "Количество SNP в PGS: 25425\n",
      "Количество общих SNP: 11260\n",
      "Процент покрытия: 44.29%\n",
      "Выполняем расчет PGS PGS001839\n"
     ]
    },
    {
     "name": "stderr",
     "output_type": "stream",
     "text": [
      "Python(12506) MallocStackLogging: can't turn off malloc stack logging because it was not enabled.\n"
     ]
    },
    {
     "name": "stdout",
     "output_type": "stream",
     "text": [
      "PGS PGS001839 успешно рассчитан\n",
      "\n",
      "==========================================\n",
      "Обработка PGS: PGS004941\n",
      "PGS PGS004941, содержит 3711629 SNP\n",
      "Файл содержит позиционную информацию вместо rsID. Создаем синтетиические идентификаторы.\n",
      "Количество SNP в PGS: 3711629\n",
      "Количество общих SNP: 429616\n",
      "Процент покрытия: 11.57%\n",
      "Выполняем расчет PGS PGS004941\n"
     ]
    },
    {
     "name": "stderr",
     "output_type": "stream",
     "text": [
      "Python(12533) MallocStackLogging: can't turn off malloc stack logging because it was not enabled.\n"
     ]
    },
    {
     "name": "stdout",
     "output_type": "stream",
     "text": [
      "PGS PGS004941 успешно рассчитан\n",
      "\n",
      "==========================================\n",
      "Обработка PGS: PGS004200\n",
      "PGS PGS004200, содержит 8361 SNP\n",
      "Количество SNP в PGS: 8361\n",
      "Количество общих SNP: 899\n",
      "Процент покрытия: 10.75%\n",
      "Выполняем расчет PGS PGS004200\n"
     ]
    },
    {
     "name": "stderr",
     "output_type": "stream",
     "text": [
      "Python(12534) MallocStackLogging: can't turn off malloc stack logging because it was not enabled.\n"
     ]
    },
    {
     "name": "stdout",
     "output_type": "stream",
     "text": [
      "PGS PGS004200 успешно рассчитан\n",
      "\n",
      "==========================================\n",
      "Обработка PGS: PGS003355\n",
      "PGS PGS003355, содержит 1532758 SNP\n",
      "Файл содержит позиционную информацию вместо rsID. Создаем синтетиические идентификаторы.\n",
      "Количество SNP в PGS: 1532758\n",
      "Количество общих SNP: 116470\n",
      "Процент покрытия: 7.60%\n",
      "Выполняем расчет PGS PGS003355\n"
     ]
    },
    {
     "name": "stderr",
     "output_type": "stream",
     "text": [
      "Python(12544) MallocStackLogging: can't turn off malloc stack logging because it was not enabled.\n"
     ]
    },
    {
     "name": "stdout",
     "output_type": "stream",
     "text": [
      "PGS PGS003355 успешно рассчитан\n",
      "\n",
      "==========================================\n",
      "Обработка PGS: PGS001355\n",
      "PGS PGS001355, содержит 2994055 SNP\n",
      "Количество SNP в PGS: 2994055\n",
      "Количество общих SNP: 317044\n",
      "Процент покрытия: 10.59%\n",
      "Выполняем расчет PGS PGS001355\n"
     ]
    },
    {
     "name": "stderr",
     "output_type": "stream",
     "text": [
      "Python(12622) MallocStackLogging: can't turn off malloc stack logging because it was not enabled.\n"
     ]
    },
    {
     "name": "stdout",
     "output_type": "stream",
     "text": [
      "PGS PGS001355 успешно рассчитан\n",
      "\n",
      "==========================================\n",
      "Обработка PGS: PGS004198\n",
      "PGS PGS004198, содержит 5723 SNP\n",
      "Количество SNP в PGS: 5723\n",
      "Количество общих SNP: 670\n",
      "Процент покрытия: 11.71%\n",
      "Выполняем расчет PGS PGS004198\n"
     ]
    },
    {
     "name": "stderr",
     "output_type": "stream",
     "text": [
      "Python(12623) MallocStackLogging: can't turn off malloc stack logging because it was not enabled.\n"
     ]
    },
    {
     "name": "stdout",
     "output_type": "stream",
     "text": [
      "PGS PGS004198 успешно рассчитан\n",
      "\n",
      "==========================================\n",
      "Обработка PGS: PGS000329\n",
      "PGS PGS000329, содержит 6423165 SNP\n",
      "Количество SNP в PGS: 6423165\n",
      "Количество общих SNP: 490575\n",
      "Процент покрытия: 7.64%\n",
      "Выполняем расчет PGS PGS000329\n"
     ]
    },
    {
     "name": "stderr",
     "output_type": "stream",
     "text": [
      "Python(12656) MallocStackLogging: can't turn off malloc stack logging because it was not enabled.\n"
     ]
    },
    {
     "name": "stdout",
     "output_type": "stream",
     "text": [
      "PGS PGS000329 успешно рассчитан\n",
      "\n",
      "==========================================\n",
      "Обработка PGS: PGS004199\n",
      "PGS PGS004199, содержит 6085 SNP\n",
      "Количество SNP в PGS: 6085\n",
      "Количество общих SNP: 682\n",
      "Процент покрытия: 11.21%\n",
      "Выполняем расчет PGS PGS004199\n"
     ]
    },
    {
     "name": "stderr",
     "output_type": "stream",
     "text": [
      "Python(12657) MallocStackLogging: can't turn off malloc stack logging because it was not enabled.\n"
     ]
    },
    {
     "name": "stdout",
     "output_type": "stream",
     "text": [
      "PGS PGS004199 успешно рассчитан\n",
      "\n",
      "==========================================\n",
      "Обработка PGS: PGS000116\n",
      "PGS PGS000116, содержит 40079 SNP\n",
      "Количество SNP в PGS: 40079\n",
      "Количество общих SNP: 3662\n",
      "Процент покрытия: 9.14%\n",
      "Выполняем расчет PGS PGS000116\n"
     ]
    },
    {
     "name": "stderr",
     "output_type": "stream",
     "text": [
      "Python(12658) MallocStackLogging: can't turn off malloc stack logging because it was not enabled.\n"
     ]
    },
    {
     "name": "stdout",
     "output_type": "stream",
     "text": [
      "PGS PGS000116 успешно рассчитан\n",
      "\n",
      "==========================================\n",
      "Обработка PGS: PGS005091\n",
      "PGS PGS005091, содержит 1428772 SNP\n",
      "Файл содержит позиционную информацию вместо rsID. Создаем синтетиические идентификаторы.\n",
      "Количество SNP в PGS: 1428772\n",
      "Количество общих SNP: 4354\n",
      "Процент покрытия: 0.30%\n",
      "Выполняем расчет PGS PGS005091\n"
     ]
    },
    {
     "name": "stderr",
     "output_type": "stream",
     "text": [
      "Python(12662) MallocStackLogging: can't turn off malloc stack logging because it was not enabled.\n"
     ]
    },
    {
     "name": "stdout",
     "output_type": "stream",
     "text": [
      "PGS PGS005091 успешно рассчитан\n",
      "\n",
      "==========================================\n",
      "Обработка PGS: PGS005092\n",
      "PGS PGS005092, содержит 1279502 SNP\n",
      "Файл содержит позиционную информацию вместо rsID. Создаем синтетиические идентификаторы.\n",
      "Количество SNP в PGS: 1279502\n",
      "Количество общих SNP: 4540\n",
      "Процент покрытия: 0.35%\n",
      "Выполняем расчет PGS PGS005092\n"
     ]
    },
    {
     "name": "stderr",
     "output_type": "stream",
     "text": [
      "Python(12674) MallocStackLogging: can't turn off malloc stack logging because it was not enabled.\n"
     ]
    },
    {
     "name": "stdout",
     "output_type": "stream",
     "text": [
      "PGS PGS005092 успешно рассчитан\n",
      "\n",
      "==========================================\n",
      "Обработка PGS: PGS004746\n",
      "PGS PGS004746, содержит 6483064 SNP\n",
      "Файл содержит позиционную информацию вместо rsID. Создаем синтетиические идентификаторы.\n",
      "Количество SNP в PGS: 6483064\n",
      "Количество общих SNP: 6132\n",
      "Процент покрытия: 0.09%\n",
      "Выполняем расчет PGS PGS004746\n"
     ]
    },
    {
     "name": "stderr",
     "output_type": "stream",
     "text": [
      "Python(12687) MallocStackLogging: can't turn off malloc stack logging because it was not enabled.\n"
     ]
    },
    {
     "name": "stdout",
     "output_type": "stream",
     "text": [
      "PGS PGS004746 успешно рассчитан\n",
      "\n",
      "==========================================\n",
      "Обработка PGS: PGS004197\n",
      "PGS PGS004197, содержит 11490 SNP\n",
      "Количество SNP в PGS: 11490\n",
      "Количество общих SNP: 1193\n",
      "Процент покрытия: 10.38%\n",
      "Выполняем расчет PGS PGS004197\n"
     ]
    },
    {
     "name": "stderr",
     "output_type": "stream",
     "text": [
      "Python(12688) MallocStackLogging: can't turn off malloc stack logging because it was not enabled.\n"
     ]
    },
    {
     "name": "stdout",
     "output_type": "stream",
     "text": [
      "PGS PGS004197 успешно рассчитан\n",
      "\n",
      "==========================================\n",
      "Обработка PGS: PGS004196\n",
      "PGS PGS004196, содержит 3892 SNP\n",
      "Количество SNP в PGS: 3892\n",
      "Количество общих SNP: 464\n",
      "Процент покрытия: 11.92%\n",
      "Выполняем расчет PGS PGS004196\n"
     ]
    },
    {
     "name": "stderr",
     "output_type": "stream",
     "text": [
      "Python(12690) MallocStackLogging: can't turn off malloc stack logging because it was not enabled.\n"
     ]
    },
    {
     "name": "stdout",
     "output_type": "stream",
     "text": [
      "PGS PGS004196 успешно рассчитан\n",
      "\n",
      "==========================================\n",
      "Обработка PGS: PGS003438\n",
      "PGS PGS003438, содержит 241 SNP\n",
      "Количество SNP в PGS: 241\n",
      "Количество общих SNP: 29\n",
      "Процент покрытия: 12.03%\n",
      "Выполняем расчет PGS PGS003438\n"
     ]
    },
    {
     "name": "stderr",
     "output_type": "stream",
     "text": [
      "Python(12727) MallocStackLogging: can't turn off malloc stack logging because it was not enabled.\n"
     ]
    },
    {
     "name": "stdout",
     "output_type": "stream",
     "text": [
      "PGS PGS003438 успешно рассчитан\n",
      "\n",
      "==========================================\n",
      "Обработка PGS: PGS004237\n",
      "PGS PGS004237, содержит 1146511 SNP\n",
      "Количество SNP в PGS: 1146511\n",
      "Количество общих SNP: 474392\n",
      "Процент покрытия: 41.38%\n",
      "Выполняем расчет PGS PGS004237\n"
     ]
    },
    {
     "name": "stderr",
     "output_type": "stream",
     "text": [
      "Python(12796) MallocStackLogging: can't turn off malloc stack logging because it was not enabled.\n"
     ]
    },
    {
     "name": "stdout",
     "output_type": "stream",
     "text": [
      "PGS PGS004237 успешно рассчитан\n",
      "\n",
      "==========================================\n",
      "Обработка PGS: PGS004745\n",
      "PGS PGS004745, содержит 4769577 SNP\n",
      "Файл содержит позиционную информацию вместо rsID. Создаем синтетиические идентификаторы.\n",
      "Количество SNP в PGS: 4769577\n",
      "Количество общих SNP: 4560\n",
      "Процент покрытия: 0.10%\n",
      "Выполняем расчет PGS PGS004745\n"
     ]
    },
    {
     "name": "stderr",
     "output_type": "stream",
     "text": [
      "Python(12811) MallocStackLogging: can't turn off malloc stack logging because it was not enabled.\n"
     ]
    },
    {
     "name": "stdout",
     "output_type": "stream",
     "text": [
      "Ошибк при расчете PGS PGS004745 Error: Duplicate variant 'rs7862687' in --score file.\n",
      "\n",
      "\n",
      "==========================================\n",
      "Обработка PGS: PGS000899\n",
      "PGS PGS000899, содержит 176 SNP\n",
      "Количество SNP в PGS: 176\n",
      "Количество общих SNP: 37\n",
      "Процент покрытия: 21.02%\n",
      "Выполняем расчет PGS PGS000899\n"
     ]
    },
    {
     "name": "stderr",
     "output_type": "stream",
     "text": [
      "Python(12812) MallocStackLogging: can't turn off malloc stack logging because it was not enabled.\n"
     ]
    },
    {
     "name": "stdout",
     "output_type": "stream",
     "text": [
      "PGS PGS000899 успешно рассчитан\n",
      "\n",
      "==========================================\n",
      "Обработка PGS: PGS004744\n",
      "PGS PGS004744, содержит 7082943 SNP\n",
      "Файл содержит позиционную информацию вместо rsID. Создаем синтетиические идентификаторы.\n",
      "Количество SNP в PGS: 7082943\n",
      "Количество общих SNP: 6891\n",
      "Процент покрытия: 0.10%\n",
      "Выполняем расчет PGS PGS004744\n"
     ]
    },
    {
     "name": "stderr",
     "output_type": "stream",
     "text": [
      "Python(12894) MallocStackLogging: can't turn off malloc stack logging because it was not enabled.\n"
     ]
    },
    {
     "name": "stdout",
     "output_type": "stream",
     "text": [
      "PGS PGS004744 успешно рассчитан\n",
      "\n",
      "==========================================\n",
      "Обработка PGS: PGS004595\n",
      "PGS PGS004595, содержит 164 SNP\n",
      "Количество SNP в PGS: 164\n",
      "Количество общих SNP: 40\n",
      "Процент покрытия: 24.39%\n",
      "Выполняем расчет PGS PGS004595\n"
     ]
    },
    {
     "name": "stderr",
     "output_type": "stream",
     "text": [
      "Python(12907) MallocStackLogging: can't turn off malloc stack logging because it was not enabled.\n"
     ]
    },
    {
     "name": "stdout",
     "output_type": "stream",
     "text": [
      "PGS PGS004595 успешно рассчитан\n",
      "\n",
      "==========================================\n",
      "Обработка PGS: PGS005112\n",
      "PGS PGS005112, содержит 1106628 SNP\n",
      "Количество SNP в PGS: 1106628\n",
      "Количество общих SNP: 454934\n",
      "Процент покрытия: 41.11%\n",
      "Выполняем расчет PGS PGS005112\n"
     ]
    },
    {
     "name": "stderr",
     "output_type": "stream",
     "text": [
      "Python(12944) MallocStackLogging: can't turn off malloc stack logging because it was not enabled.\n"
     ]
    },
    {
     "name": "stdout",
     "output_type": "stream",
     "text": [
      "PGS PGS005112 успешно рассчитан\n",
      "\n",
      "==========================================\n",
      "Обработка PGS: PGS002244\n",
      "PGS PGS002244, содержит 6576338 SNP\n",
      "Количество SNP в PGS: 6576338\n",
      "Количество общих SNP: 497179\n",
      "Процент покрытия: 7.56%\n",
      "Выполняем расчет PGS PGS002244\n"
     ]
    },
    {
     "name": "stderr",
     "output_type": "stream",
     "text": [
      "Python(12954) MallocStackLogging: can't turn off malloc stack logging because it was not enabled.\n"
     ]
    },
    {
     "name": "stdout",
     "output_type": "stream",
     "text": [
      "PGS PGS002244 успешно рассчитан\n",
      "\n",
      "==========================================\n",
      "Обработка PGS: PGS000057\n",
      "PGS PGS000057, содержит 57 SNP\n",
      "Количество SNP в PGS: 57\n",
      "Количество общих SNP: 19\n",
      "Процент покрытия: 33.33%\n",
      "Выполняем расчет PGS PGS000057\n"
     ]
    },
    {
     "name": "stderr",
     "output_type": "stream",
     "text": [
      "Python(12956) MallocStackLogging: can't turn off malloc stack logging because it was not enabled.\n"
     ]
    },
    {
     "name": "stdout",
     "output_type": "stream",
     "text": [
      "PGS PGS000057 успешно рассчитан\n",
      "\n",
      "==========================================\n",
      "Обработка PGS: PGS000296\n",
      "PGS PGS000296, содержит 6630150 SNP\n",
      "Файл содержит позиционную информацию вместо rsID. Создаем синтетиические идентификаторы.\n",
      "Количество SNP в PGS: 6630150\n",
      "Количество общих SNP: 495928\n",
      "Процент покрытия: 7.48%\n",
      "Выполняем расчет PGS PGS000296\n"
     ]
    },
    {
     "name": "stderr",
     "output_type": "stream",
     "text": [
      "Python(13199) MallocStackLogging: can't turn off malloc stack logging because it was not enabled.\n"
     ]
    },
    {
     "name": "stdout",
     "output_type": "stream",
     "text": [
      "PGS PGS000296 успешно рассчитан\n",
      "\n",
      "==========================================\n",
      "Обработка PGS: PGS004743\n",
      "PGS PGS004743, содержит 3606321 SNP\n",
      "Файл содержит позиционную информацию вместо rsID. Создаем синтетиические идентификаторы.\n",
      "Количество SNP в PGS: 3606321\n",
      "Количество общих SNP: 3853\n",
      "Процент покрытия: 0.11%\n",
      "Выполняем расчет PGS PGS004743\n"
     ]
    },
    {
     "name": "stderr",
     "output_type": "stream",
     "text": [
      "Python(13205) MallocStackLogging: can't turn off malloc stack logging because it was not enabled.\n"
     ]
    },
    {
     "name": "stdout",
     "output_type": "stream",
     "text": [
      "Ошибк при расчете PGS PGS004743 Error: Duplicate variant 'rs7862687' in --score file.\n",
      "\n",
      "\n",
      "==========================================\n",
      "Обработка PGS: PGS004596\n",
      "PGS PGS004596, содержит 64 SNP\n",
      "Количество SNP в PGS: 64\n",
      "Количество общих SNP: 24\n",
      "Процент покрытия: 37.50%\n",
      "Выполняем расчет PGS PGS004596\n"
     ]
    },
    {
     "name": "stderr",
     "output_type": "stream",
     "text": [
      "Python(13206) MallocStackLogging: can't turn off malloc stack logging because it was not enabled.\n"
     ]
    },
    {
     "name": "stdout",
     "output_type": "stream",
     "text": [
      "PGS PGS004596 успешно рассчитан\n",
      "\n",
      "==========================================\n",
      "Обработка PGS: PGS000337\n",
      "PGS PGS000337, содержит 75028 SNP\n",
      "Файл содержит позиционную информацию вместо rsID. Создаем синтетиические идентификаторы.\n",
      "Количество SNP в PGS: 75028\n",
      "Количество общих SNP: 10154\n",
      "Процент покрытия: 13.53%\n",
      "Выполняем расчет PGS PGS000337\n"
     ]
    },
    {
     "name": "stderr",
     "output_type": "stream",
     "text": [
      "Python(13208) MallocStackLogging: can't turn off malloc stack logging because it was not enabled.\n"
     ]
    },
    {
     "name": "stdout",
     "output_type": "stream",
     "text": [
      "PGS PGS000337 успешно рассчитан\n",
      "\n",
      "==========================================\n",
      "Обработка PGS: PGS004309\n",
      "PGS PGS004309, содержит 3000 SNP\n",
      "Файл содержит позиционную информацию вместо rsID. Создаем синтетиические идентификаторы.\n",
      "Количество SNP в PGS: 3000\n",
      "Количество общих SNP: 1174\n",
      "Процент покрытия: 39.13%\n",
      "Выполняем расчет PGS PGS004309\n"
     ]
    },
    {
     "name": "stderr",
     "output_type": "stream",
     "text": [
      "Python(13209) MallocStackLogging: can't turn off malloc stack logging because it was not enabled.\n"
     ]
    },
    {
     "name": "stdout",
     "output_type": "stream",
     "text": [
      "PGS PGS004309 успешно рассчитан\n",
      "\n",
      "==========================================\n",
      "Обработка PGS: PGS004321\n",
      "PGS PGS004321, содержит 27 SNP\n",
      "Количество SNP в PGS: 27\n",
      "Количество общих SNP: 14\n",
      "Процент покрытия: 51.85%\n",
      "Выполняем расчет PGS PGS004321\n"
     ]
    },
    {
     "name": "stderr",
     "output_type": "stream",
     "text": [
      "Python(13210) MallocStackLogging: can't turn off malloc stack logging because it was not enabled.\n"
     ]
    },
    {
     "name": "stdout",
     "output_type": "stream",
     "text": [
      "PGS PGS004321 успешно рассчитан\n",
      "\n",
      "==========================================\n",
      "Обработка PGS: PGS004888\n",
      "PGS PGS004888, содержит 1110046 SNP\n",
      "Файл содержит позиционную информацию вместо rsID. Создаем синтетиические идентификаторы.\n",
      "Количество SNP в PGS: 1110046\n",
      "Количество общих SNP: 453801\n",
      "Процент покрытия: 40.88%\n",
      "Выполняем расчет PGS PGS004888\n"
     ]
    },
    {
     "name": "stderr",
     "output_type": "stream",
     "text": [
      "Python(13232) MallocStackLogging: can't turn off malloc stack logging because it was not enabled.\n"
     ]
    },
    {
     "name": "stdout",
     "output_type": "stream",
     "text": [
      "PGS PGS004888 успешно рассчитан\n",
      "\n",
      "==========================================\n",
      "Обработка PGS: PGS004308\n",
      "PGS PGS004308, содержит 1500 SNP\n",
      "Файл содержит позиционную информацию вместо rsID. Создаем синтетиические идентификаторы.\n",
      "Количество SNP в PGS: 1500\n",
      "Количество общих SNP: 584\n",
      "Процент покрытия: 38.93%\n",
      "Выполняем расчет PGS PGS004308\n"
     ]
    },
    {
     "name": "stderr",
     "output_type": "stream",
     "text": [
      "Python(13233) MallocStackLogging: can't turn off malloc stack logging because it was not enabled.\n"
     ]
    },
    {
     "name": "stdout",
     "output_type": "stream",
     "text": [
      "PGS PGS004308 успешно рассчитан\n",
      "\n",
      "==========================================\n",
      "Обработка PGS: PGS000018\n",
      "PGS PGS000018, содержит 1745179 SNP\n",
      "Количество SNP в PGS: 1745179\n",
      "Количество общих SNP: 129619\n",
      "Процент покрытия: 7.43%\n",
      "Выполняем расчет PGS PGS000018\n"
     ]
    },
    {
     "name": "stderr",
     "output_type": "stream",
     "text": [
      "Python(13240) MallocStackLogging: can't turn off malloc stack logging because it was not enabled.\n"
     ]
    },
    {
     "name": "stdout",
     "output_type": "stream",
     "text": [
      "PGS PGS000018 успешно рассчитан\n",
      "\n",
      "==========================================\n",
      "Обработка PGS: PGS004444\n",
      "PGS PGS004444, содержит 1059939 SNP\n",
      "Количество SNP в PGS: 1059939\n",
      "Количество общих SNP: 442559\n",
      "Процент покрытия: 41.75%\n",
      "Выполняем расчет PGS PGS004444\n"
     ]
    },
    {
     "name": "stderr",
     "output_type": "stream",
     "text": [
      "Python(13344) MallocStackLogging: can't turn off malloc stack logging because it was not enabled.\n"
     ]
    },
    {
     "name": "stdout",
     "output_type": "stream",
     "text": [
      "PGS PGS004444 успешно рассчитан\n",
      "\n",
      "==========================================\n",
      "Обработка PGS: PGS000019\n",
      "PGS PGS000019, содержит 192 SNP\n",
      "Количество SNP в PGS: 192\n",
      "Количество общих SNP: 26\n",
      "Процент покрытия: 13.54%\n",
      "Выполняем расчет PGS PGS000019\n"
     ]
    },
    {
     "name": "stderr",
     "output_type": "stream",
     "text": [
      "Python(13346) MallocStackLogging: can't turn off malloc stack logging because it was not enabled.\n"
     ]
    },
    {
     "name": "stdout",
     "output_type": "stream",
     "text": [
      "PGS PGS000019 успешно рассчитан\n",
      "\n",
      "==========================================\n",
      "Обработка PGS: PGS000747\n",
      "PGS PGS000747, содержит 375822 SNP\n",
      "Файл содержит позиционную информацию вместо rsID. Создаем синтетиические идентификаторы.\n",
      "Количество SNP в PGS: 375822\n",
      "Количество общих SNP: 31294\n",
      "Процент покрытия: 8.33%\n",
      "Выполняем расчет PGS PGS000747\n"
     ]
    },
    {
     "name": "stderr",
     "output_type": "stream",
     "text": [
      "Python(13361) MallocStackLogging: can't turn off malloc stack logging because it was not enabled.\n"
     ]
    },
    {
     "name": "stdout",
     "output_type": "stream",
     "text": [
      "PGS PGS000747 успешно рассчитан\n",
      "\n",
      "==========================================\n",
      "Обработка PGS: PGS000746\n",
      "PGS PGS000746, содержит 1940 SNP\n",
      "Файл содержит позиционную информацию вместо rsID. Создаем синтетиические идентификаторы.\n",
      "Количество SNP в PGS: 1940\n",
      "Количество общих SNP: 232\n",
      "Процент покрытия: 11.96%\n",
      "Выполняем расчет PGS PGS000746\n"
     ]
    },
    {
     "name": "stderr",
     "output_type": "stream",
     "text": [
      "Python(13362) MallocStackLogging: can't turn off malloc stack logging because it was not enabled.\n"
     ]
    },
    {
     "name": "stdout",
     "output_type": "stream",
     "text": [
      "PGS PGS000746 успешно рассчитан\n",
      "\n",
      "==========================================\n",
      "Обработка PGS: PGS004697\n",
      "PGS PGS004697, содержит 1120251 SNP\n",
      "Количество SNP в PGS: 1120251\n",
      "Количество общих SNP: 456041\n",
      "Процент покрытия: 40.71%\n",
      "Выполняем расчет PGS PGS004697\n"
     ]
    },
    {
     "name": "stderr",
     "output_type": "stream",
     "text": [
      "Python(13944) MallocStackLogging: can't turn off malloc stack logging because it was not enabled.\n"
     ]
    },
    {
     "name": "stdout",
     "output_type": "stream",
     "text": [
      "PGS PGS004697 успешно рассчитан\n",
      "\n",
      "==========================================\n",
      "Обработка PGS: PGS004899\n",
      "PGS PGS004899, содержит 7 SNP\n",
      "Количество SNP в PGS: 7\n",
      "Количество общих SNP: 0\n",
      "Процент покрытия: 0.00%\n",
      "нет общих SNP для PGS004899\n",
      "\n",
      "==========================================\n",
      "Обработка PGS: PGS004696\n",
      "PGS PGS004696, содержит 1289980 SNP\n",
      "Количество SNP в PGS: 1289980\n",
      "Количество общих SNP: 456450\n",
      "Процент покрытия: 35.38%\n",
      "Выполняем расчет PGS PGS004696\n"
     ]
    },
    {
     "name": "stderr",
     "output_type": "stream",
     "text": [
      "Python(13991) MallocStackLogging: can't turn off malloc stack logging because it was not enabled.\n"
     ]
    },
    {
     "name": "stdout",
     "output_type": "stream",
     "text": [
      "PGS PGS004696 успешно рассчитан\n",
      "\n",
      "==========================================\n",
      "Обработка PGS: PGS004443\n",
      "PGS PGS004443, содержит 1059939 SNP\n",
      "Количество SNP в PGS: 1059939\n",
      "Количество общих SNP: 442559\n",
      "Процент покрытия: 41.75%\n",
      "Выполняем расчет PGS PGS004443\n"
     ]
    },
    {
     "name": "stderr",
     "output_type": "stream",
     "text": [
      "Python(14010) MallocStackLogging: can't turn off malloc stack logging because it was not enabled.\n"
     ]
    },
    {
     "name": "stdout",
     "output_type": "stream",
     "text": [
      "PGS PGS004443 успешно рассчитан\n",
      "\n",
      "==========================================\n",
      "Обработка PGS: PGS000962\n",
      "PGS PGS000962, содержит 2168 SNP\n",
      "Количество SNP в PGS: 2168\n",
      "Количество общих SNP: 444\n",
      "Процент покрытия: 20.48%\n",
      "Выполняем расчет PGS PGS000962\n"
     ]
    },
    {
     "name": "stderr",
     "output_type": "stream",
     "text": [
      "Python(14012) MallocStackLogging: can't turn off malloc stack logging because it was not enabled.\n"
     ]
    },
    {
     "name": "stdout",
     "output_type": "stream",
     "text": [
      "PGS PGS000962 успешно рассчитан\n"
     ]
    },
    {
     "name": "stderr",
     "output_type": "stream",
     "text": [
      "/Users/daklo/for_dipl/pgs_calculator.py:139: SettingWithCopyWarning: \n",
      "A value is trying to be set on a copy of a slice from a DataFrame.\n",
      "Try using .loc[row_indexer,col_indexer] = value instead\n",
      "\n",
      "See the caveats in the documentation: https://pandas.pydata.org/pandas-docs/stable/user_guide/indexing.html#returning-a-view-versus-a-copy\n",
      "  combined[pgs_name] = df['SCORE']\n",
      "/Users/daklo/for_dipl/pgs_calculator.py:139: SettingWithCopyWarning: \n",
      "A value is trying to be set on a copy of a slice from a DataFrame.\n",
      "Try using .loc[row_indexer,col_indexer] = value instead\n",
      "\n",
      "See the caveats in the documentation: https://pandas.pydata.org/pandas-docs/stable/user_guide/indexing.html#returning-a-view-versus-a-copy\n",
      "  combined[pgs_name] = df['SCORE']\n",
      "/Users/daklo/for_dipl/pgs_calculator.py:139: SettingWithCopyWarning: \n",
      "A value is trying to be set on a copy of a slice from a DataFrame.\n",
      "Try using .loc[row_indexer,col_indexer] = value instead\n",
      "\n",
      "See the caveats in the documentation: https://pandas.pydata.org/pandas-docs/stable/user_guide/indexing.html#returning-a-view-versus-a-copy\n",
      "  combined[pgs_name] = df['SCORE']\n"
     ]
    },
    {
     "name": "stdout",
     "output_type": "stream",
     "text": [
      "Объеденены PGS для 1120 образцов и 73 PGS\n",
      "Сохраняю в ./pgs_results_calculated/all_train_pgs.csv\n",
      "1\n",
      "файл ./validation.bim, содержит 591998 SNP\n",
      "Найдено 76 PGS\n",
      "\n",
      "==========================================\n",
      "Обработка PGS: PGS003725\n",
      "PGS PGS003725, содержит 1296172 SNP\n",
      "Файл содержит позиционную информацию вместо rsID. Создаем синтетиические идентификаторы.\n",
      "Количество SNP в PGS: 1296172\n",
      "Количество общих SNP: 456468\n",
      "Процент покрытия: 35.22%\n",
      "Выполняем расчет PGS PGS003725\n"
     ]
    },
    {
     "name": "stderr",
     "output_type": "stream",
     "text": [
      "Python(14146) MallocStackLogging: can't turn off malloc stack logging because it was not enabled.\n"
     ]
    },
    {
     "name": "stdout",
     "output_type": "stream",
     "text": [
      "PGS PGS003725 успешно рассчитан\n",
      "\n",
      "==========================================\n",
      "Обработка PGS: PGS000748\n",
      "PGS PGS000748, содержит 3423987 SNP\n",
      "Файл содержит позиционную информацию вместо rsID. Создаем синтетиические идентификаторы.\n",
      "Количество SNP в PGS: 3423987\n",
      "Количество общих SNP: 416579\n",
      "Процент покрытия: 12.17%\n",
      "Выполняем расчет PGS PGS000748\n"
     ]
    },
    {
     "name": "stderr",
     "output_type": "stream",
     "text": [
      "Python(14255) MallocStackLogging: can't turn off malloc stack logging because it was not enabled.\n"
     ]
    },
    {
     "name": "stdout",
     "output_type": "stream",
     "text": [
      "PGS PGS000748 успешно рассчитан\n",
      "\n",
      "==========================================\n",
      "Обработка PGS: PGS000012\n",
      "PGS PGS000012, содержит 49310 SNP\n",
      "Количество SNP в PGS: 49310\n",
      "Количество общих SNP: 15881\n",
      "Процент покрытия: 32.21%\n",
      "Выполняем расчет PGS PGS000012\n"
     ]
    },
    {
     "name": "stderr",
     "output_type": "stream",
     "text": [
      "Python(14269) MallocStackLogging: can't turn off malloc stack logging because it was not enabled.\n"
     ]
    },
    {
     "name": "stdout",
     "output_type": "stream",
     "text": [
      "PGS PGS000012 успешно рассчитан\n",
      "\n",
      "==========================================\n",
      "Обработка PGS: PGS003446\n",
      "PGS PGS003446, содержит 538084 SNP\n",
      "Файл содержит позиционную информацию вместо rsID. Создаем синтетиические идентификаторы.\n",
      "Количество SNP в PGS: 538084\n",
      "Количество общих SNP: 25529\n",
      "Процент покрытия: 4.74%\n",
      "Выполняем расчет PGS PGS003446\n"
     ]
    },
    {
     "name": "stderr",
     "output_type": "stream",
     "text": [
      "Python(14276) MallocStackLogging: can't turn off malloc stack logging because it was not enabled.\n"
     ]
    },
    {
     "name": "stdout",
     "output_type": "stream",
     "text": [
      "PGS PGS003446 успешно рассчитан\n",
      "\n",
      "==========================================\n",
      "Обработка PGS: PGS004513\n",
      "PGS PGS004513, содержит 1059939 SNP\n",
      "Количество SNP в PGS: 1059939\n",
      "Количество общих SNP: 442559\n",
      "Процент покрытия: 41.75%\n",
      "Выполняем расчет PGS PGS004513\n"
     ]
    },
    {
     "name": "stderr",
     "output_type": "stream",
     "text": [
      "Python(14308) MallocStackLogging: can't turn off malloc stack logging because it was not enabled.\n"
     ]
    },
    {
     "name": "stdout",
     "output_type": "stream",
     "text": [
      "PGS PGS004513 успешно рассчитан\n",
      "\n",
      "==========================================\n",
      "Обработка PGS: PGS000013\n",
      "PGS PGS000013, содержит 6630150 SNP\n",
      "Файл содержит позиционную информацию вместо rsID. Создаем синтетиические идентификаторы.\n",
      "Количество SNP в PGS: 6630150\n",
      "Количество общих SNP: 495928\n",
      "Процент покрытия: 7.48%\n",
      "Выполняем расчет PGS PGS000013\n"
     ]
    },
    {
     "name": "stderr",
     "output_type": "stream",
     "text": [
      "Python(14428) MallocStackLogging: can't turn off malloc stack logging because it was not enabled.\n"
     ]
    },
    {
     "name": "stdout",
     "output_type": "stream",
     "text": [
      "PGS PGS000013 успешно рассчитан\n",
      "\n",
      "==========================================\n",
      "Обработка PGS: PGS005143\n",
      "PGS PGS005143, содержит 943274 SNP\n",
      "Количество SNP в PGS: 943274\n",
      "Количество общих SNP: 395304\n",
      "Процент покрытия: 41.91%\n",
      "Выполняем расчет PGS PGS005143\n"
     ]
    },
    {
     "name": "stderr",
     "output_type": "stream",
     "text": [
      "Python(14459) MallocStackLogging: can't turn off malloc stack logging because it was not enabled.\n"
     ]
    },
    {
     "name": "stdout",
     "output_type": "stream",
     "text": [
      "PGS PGS005143 успешно рассчитан\n",
      "\n",
      "==========================================\n",
      "Обработка PGS: PGS003726\n",
      "PGS PGS003726, содержит 1296172 SNP\n",
      "Файл содержит позиционную информацию вместо rsID. Создаем синтетиические идентификаторы.\n",
      "Количество SNP в PGS: 1296172\n",
      "Количество общих SNP: 456468\n",
      "Процент покрытия: 35.22%\n",
      "Выполняем расчет PGS PGS003726\n"
     ]
    },
    {
     "name": "stderr",
     "output_type": "stream",
     "text": [
      "Python(14497) MallocStackLogging: can't turn off malloc stack logging because it was not enabled.\n"
     ]
    },
    {
     "name": "stdout",
     "output_type": "stream",
     "text": [
      "PGS PGS003726 успешно рассчитан\n",
      "\n",
      "==========================================\n",
      "Обработка PGS: PGS002809\n",
      "PGS PGS002809, содержит 205 SNP\n",
      "Количество SNP в PGS: 205\n",
      "Количество общих SNP: 48\n",
      "Процент покрытия: 23.41%\n",
      "Выполняем расчет PGS PGS002809\n"
     ]
    },
    {
     "name": "stderr",
     "output_type": "stream",
     "text": [
      "Python(14498) MallocStackLogging: can't turn off malloc stack logging because it was not enabled.\n"
     ]
    },
    {
     "name": "stdout",
     "output_type": "stream",
     "text": [
      "PGS PGS002809 успешно рассчитан\n",
      "\n",
      "==========================================\n",
      "Обработка PGS: PGS000011\n",
      "PGS PGS000011, содержит 50 SNP\n",
      "Количество SNP в PGS: 50\n",
      "Количество общих SNP: 22\n",
      "Процент покрытия: 44.00%\n",
      "Выполняем расчет PGS PGS000011\n"
     ]
    },
    {
     "name": "stderr",
     "output_type": "stream",
     "text": [
      "Python(14499) MallocStackLogging: can't turn off malloc stack logging because it was not enabled.\n"
     ]
    },
    {
     "name": "stdout",
     "output_type": "stream",
     "text": [
      "PGS PGS000011 успешно рассчитан\n",
      "\n",
      "==========================================\n",
      "Обработка PGS: PGS000818\n",
      "PGS PGS000818, содержит 138 SNP\n",
      "Количество SNP в PGS: 138\n",
      "Количество общих SNP: 42\n",
      "Процент покрытия: 30.43%\n",
      "Выполняем расчет PGS PGS000818\n"
     ]
    },
    {
     "name": "stderr",
     "output_type": "stream",
     "text": [
      "Python(14502) MallocStackLogging: can't turn off malloc stack logging because it was not enabled.\n"
     ]
    },
    {
     "name": "stdout",
     "output_type": "stream",
     "text": [
      "PGS PGS000818 успешно рассчитан\n",
      "\n",
      "==========================================\n",
      "Обработка PGS: PGS004698\n",
      "PGS PGS004698, содержит 542218 SNP\n",
      "Файл содержит позиционную информацию вместо rsID. Создаем синтетиические идентификаторы.\n",
      "Количество SNP в PGS: 542218\n",
      "Количество общих SNP: 26884\n",
      "Процент покрытия: 4.96%\n",
      "Выполняем расчет PGS PGS004698\n"
     ]
    },
    {
     "name": "stderr",
     "output_type": "stream",
     "text": [
      "Python(14530) MallocStackLogging: can't turn off malloc stack logging because it was not enabled.\n"
     ]
    },
    {
     "name": "stdout",
     "output_type": "stream",
     "text": [
      "PGS PGS004698 успешно рассчитан\n",
      "\n",
      "==========================================\n",
      "Обработка PGS: PGS000010\n",
      "PGS PGS000010, содержит 27 SNP\n",
      "Количество SNP в PGS: 27\n",
      "Количество общих SNP: 14\n",
      "Процент покрытия: 51.85%\n",
      "Выполняем расчет PGS PGS000010\n"
     ]
    },
    {
     "name": "stderr",
     "output_type": "stream",
     "text": [
      "Python(14531) MallocStackLogging: can't turn off malloc stack logging because it was not enabled.\n"
     ]
    },
    {
     "name": "stdout",
     "output_type": "stream",
     "text": [
      "PGS PGS000010 успешно рассчитан\n",
      "\n",
      "==========================================\n",
      "Обработка PGS: PGS003727\n",
      "PGS PGS003727, содержит 1125113 SNP\n",
      "Файл содержит позиционную информацию вместо rsID. Создаем синтетиические идентификаторы.\n",
      "Количество SNP в PGS: 1125113\n",
      "Количество общих SNP: 455311\n",
      "Процент покрытия: 40.47%\n",
      "Выполняем расчет PGS PGS003727\n"
     ]
    },
    {
     "name": "stderr",
     "output_type": "stream",
     "text": [
      "Python(14610) MallocStackLogging: can't turn off malloc stack logging because it was not enabled.\n"
     ]
    },
    {
     "name": "stdout",
     "output_type": "stream",
     "text": [
      "PGS PGS003727 успешно рассчитан\n",
      "\n",
      "==========================================\n",
      "Обработка PGS: PGS004921\n",
      "PGS PGS004921, содержит 161 SNP\n",
      "Количество SNP в PGS: 161\n",
      "Количество общих SNP: 30\n",
      "Процент покрытия: 18.63%\n",
      "Выполняем расчет PGS PGS004921\n"
     ]
    },
    {
     "name": "stderr",
     "output_type": "stream",
     "text": [
      "Python(14611) MallocStackLogging: can't turn off malloc stack logging because it was not enabled.\n"
     ]
    },
    {
     "name": "stdout",
     "output_type": "stream",
     "text": [
      "PGS PGS004921 успешно рассчитан\n",
      "\n",
      "==========================================\n",
      "Обработка PGS: PGS004919\n",
      "PGS PGS004919, содержит 50 SNP\n",
      "Количество SNP в PGS: 50\n",
      "Количество общих SNP: 22\n",
      "Процент покрытия: 44.00%\n",
      "Выполняем расчет PGS PGS004919\n"
     ]
    },
    {
     "name": "stderr",
     "output_type": "stream",
     "text": [
      "Python(14613) MallocStackLogging: can't turn off malloc stack logging because it was not enabled.\n"
     ]
    },
    {
     "name": "stdout",
     "output_type": "stream",
     "text": [
      "PGS PGS004919 успешно рассчитан\n",
      "\n",
      "==========================================\n",
      "Обработка PGS: PGS004925\n",
      "PGS PGS004925, содержит 300 SNP\n",
      "Количество SNP в PGS: 300\n",
      "Количество общих SNP: 46\n",
      "Процент покрытия: 15.33%\n",
      "Выполняем расчет PGS PGS004925\n"
     ]
    },
    {
     "name": "stderr",
     "output_type": "stream",
     "text": [
      "Python(14615) MallocStackLogging: can't turn off malloc stack logging because it was not enabled.\n"
     ]
    },
    {
     "name": "stdout",
     "output_type": "stream",
     "text": [
      "PGS PGS004925 успешно рассчитан\n",
      "\n",
      "==========================================\n",
      "Обработка PGS: PGS004514\n",
      "PGS PGS004514, содержит 1059939 SNP\n",
      "Количество SNP в PGS: 1059939\n",
      "Количество общих SNP: 442559\n",
      "Процент покрытия: 41.75%\n",
      "Выполняем расчет PGS PGS004514\n"
     ]
    },
    {
     "name": "stderr",
     "output_type": "stream",
     "text": [
      "Python(14644) MallocStackLogging: can't turn off malloc stack logging because it was not enabled.\n"
     ]
    },
    {
     "name": "stdout",
     "output_type": "stream",
     "text": [
      "PGS PGS004514 успешно рассчитан\n",
      "\n",
      "==========================================\n",
      "Обработка PGS: PGS004306\n",
      "PGS PGS004306, содержит 4000 SNP\n",
      "Файл содержит позиционную информацию вместо rsID. Создаем синтетиические идентификаторы.\n",
      "Количество SNP в PGS: 4000\n",
      "Количество общих SNP: 1576\n",
      "Процент покрытия: 39.40%\n",
      "Выполняем расчет PGS PGS004306\n"
     ]
    },
    {
     "name": "stderr",
     "output_type": "stream",
     "text": [
      "Python(14646) MallocStackLogging: can't turn off malloc stack logging because it was not enabled.\n"
     ]
    },
    {
     "name": "stdout",
     "output_type": "stream",
     "text": [
      "PGS PGS004306 успешно рассчитан\n",
      "\n",
      "==========================================\n",
      "Обработка PGS: PGS004879\n",
      "PGS PGS004879, содержит 610677 SNP\n",
      "Количество SNP в PGS: 610677\n",
      "Количество общих SNP: 259008\n",
      "Процент покрытия: 42.41%\n",
      "Выполняем расчет PGS PGS004879\n"
     ]
    },
    {
     "name": "stderr",
     "output_type": "stream",
     "text": [
      "Python(14653) MallocStackLogging: can't turn off malloc stack logging because it was not enabled.\n"
     ]
    },
    {
     "name": "stdout",
     "output_type": "stream",
     "text": [
      "PGS PGS004879 успешно рассчитан\n",
      "\n",
      "==========================================\n",
      "Обработка PGS: PGS004307\n",
      "PGS PGS004307, содержит 4000 SNP\n",
      "Файл содержит позиционную информацию вместо rsID. Создаем синтетиические идентификаторы.\n",
      "Количество SNP в PGS: 4000\n",
      "Количество общих SNP: 1596\n",
      "Процент покрытия: 39.90%\n",
      "Выполняем расчет PGS PGS004307\n"
     ]
    },
    {
     "name": "stderr",
     "output_type": "stream",
     "text": [
      "Python(14654) MallocStackLogging: can't turn off malloc stack logging because it was not enabled.\n"
     ]
    },
    {
     "name": "stdout",
     "output_type": "stream",
     "text": [
      "PGS PGS004307 успешно рассчитан\n",
      "\n",
      "==========================================\n",
      "Обработка PGS: PGS002776\n",
      "PGS PGS002776, содержит 390782 SNP\n",
      "Количество SNP в PGS: 390782\n",
      "Количество общих SNP: 44688\n",
      "Процент покрытия: 11.44%\n",
      "Выполняем расчет PGS PGS002776\n"
     ]
    },
    {
     "name": "stderr",
     "output_type": "stream",
     "text": [
      "Python(14656) MallocStackLogging: can't turn off malloc stack logging because it was not enabled.\n"
     ]
    },
    {
     "name": "stdout",
     "output_type": "stream",
     "text": [
      "PGS PGS002776 успешно рассчитан\n",
      "\n",
      "==========================================\n",
      "Обработка PGS: PGS000798\n",
      "PGS PGS000798, содержит 157 SNP\n",
      "Количество SNP в PGS: 157\n",
      "Количество общих SNP: 29\n",
      "Процент покрытия: 18.47%\n",
      "Выполняем расчет PGS PGS000798\n"
     ]
    },
    {
     "name": "stderr",
     "output_type": "stream",
     "text": [
      "Python(14657) MallocStackLogging: can't turn off malloc stack logging because it was not enabled.\n"
     ]
    },
    {
     "name": "stdout",
     "output_type": "stream",
     "text": [
      "PGS PGS000798 успешно рассчитан\n",
      "\n",
      "==========================================\n",
      "Обработка PGS: PGS004305\n",
      "PGS PGS004305, содержит 3000 SNP\n",
      "Файл содержит позиционную информацию вместо rsID. Создаем синтетиические идентификаторы.\n",
      "Количество SNP в PGS: 3000\n",
      "Количество общих SNP: 1127\n",
      "Процент покрытия: 37.57%\n",
      "Выполняем расчет PGS PGS004305\n"
     ]
    },
    {
     "name": "stderr",
     "output_type": "stream",
     "text": [
      "Python(14658) MallocStackLogging: can't turn off malloc stack logging because it was not enabled.\n"
     ]
    },
    {
     "name": "stdout",
     "output_type": "stream",
     "text": [
      "PGS PGS004305 успешно рассчитан\n",
      "\n",
      "==========================================\n",
      "Обработка PGS: PGS000349\n",
      "PGS PGS000349, содержит 70 SNP\n",
      "Количество SNP в PGS: 70\n",
      "Количество общих SNP: 24\n",
      "Процент покрытия: 34.29%\n",
      "Выполняем расчет PGS PGS000349\n"
     ]
    },
    {
     "name": "stderr",
     "output_type": "stream",
     "text": [
      "Python(14659) MallocStackLogging: can't turn off malloc stack logging because it was not enabled.\n"
     ]
    },
    {
     "name": "stdout",
     "output_type": "stream",
     "text": [
      "PGS PGS000349 успешно рассчитан\n",
      "\n",
      "==========================================\n",
      "Обработка PGS: PGS003866\n",
      "PGS PGS003866, содержит 10440 SNP\n",
      "Количество SNP в PGS: 10440\n",
      "Количество общих SNP: 4335\n",
      "Процент покрытия: 41.52%\n",
      "Выполняем расчет PGS PGS003866\n"
     ]
    },
    {
     "name": "stderr",
     "output_type": "stream",
     "text": [
      "Python(14660) MallocStackLogging: can't turn off malloc stack logging because it was not enabled.\n"
     ]
    },
    {
     "name": "stdout",
     "output_type": "stream",
     "text": [
      "PGS PGS003866 успешно рассчитан\n",
      "\n",
      "==========================================\n",
      "Обработка PGS: PGS002775\n",
      "PGS PGS002775, содержит 1059 SNP\n",
      "Количество SNP в PGS: 1059\n",
      "Количество общих SNP: 180\n",
      "Процент покрытия: 17.00%\n",
      "Выполняем расчет PGS PGS002775\n"
     ]
    },
    {
     "name": "stderr",
     "output_type": "stream",
     "text": [
      "Python(14661) MallocStackLogging: can't turn off malloc stack logging because it was not enabled.\n"
     ]
    },
    {
     "name": "stdout",
     "output_type": "stream",
     "text": [
      "PGS PGS002775 успешно рассчитан\n",
      "\n",
      "==========================================\n",
      "Обработка PGS: PGS005152\n",
      "PGS PGS005152, содержит 943274 SNP\n",
      "Количество SNP в PGS: 943274\n",
      "Количество общих SNP: 395304\n",
      "Процент покрытия: 41.91%\n",
      "Выполняем расчет PGS PGS005152\n"
     ]
    },
    {
     "name": "stderr",
     "output_type": "stream",
     "text": [
      "Python(14664) MallocStackLogging: can't turn off malloc stack logging because it was not enabled.\n"
     ]
    },
    {
     "name": "stdout",
     "output_type": "stream",
     "text": [
      "PGS PGS005152 успешно рассчитан\n",
      "\n",
      "==========================================\n",
      "Обработка PGS: PGS000200\n",
      "PGS PGS000200, содержит 28 SNP\n",
      "Количество SNP в PGS: 28\n",
      "Количество общих SNP: 15\n",
      "Процент покрытия: 53.57%\n",
      "Выполняем расчет PGS PGS000200\n"
     ]
    },
    {
     "name": "stderr",
     "output_type": "stream",
     "text": [
      "Python(14665) MallocStackLogging: can't turn off malloc stack logging because it was not enabled.\n"
     ]
    },
    {
     "name": "stdout",
     "output_type": "stream",
     "text": [
      "PGS PGS000200 успешно рассчитан\n",
      "\n",
      "==========================================\n",
      "Обработка PGS: PGS000059\n",
      "PGS PGS000059, содержит 46 SNP\n",
      "Количество SNP в PGS: 46\n",
      "Количество общих SNP: 18\n",
      "Процент покрытия: 39.13%\n",
      "Выполняем расчет PGS PGS000059\n"
     ]
    },
    {
     "name": "stderr",
     "output_type": "stream",
     "text": [
      "Python(14666) MallocStackLogging: can't turn off malloc stack logging because it was not enabled.\n"
     ]
    },
    {
     "name": "stdout",
     "output_type": "stream",
     "text": [
      "PGS PGS000059 успешно рассчитан\n",
      "\n",
      "==========================================\n",
      "Обработка PGS: PGS003356\n",
      "PGS PGS003356, содержит 2324683 SNP\n",
      "Файл содержит позиционную информацию вместо rsID. Создаем синтетиические идентификаторы.\n",
      "Количество SNP в PGS: 2324683\n",
      "Количество общих SNP: 497605\n",
      "Процент покрытия: 21.41%\n",
      "Выполняем расчет PGS PGS003356\n"
     ]
    },
    {
     "name": "stderr",
     "output_type": "stream",
     "text": [
      "Python(14756) MallocStackLogging: can't turn off malloc stack logging because it was not enabled.\n"
     ]
    },
    {
     "name": "stdout",
     "output_type": "stream",
     "text": [
      "PGS PGS003356 успешно рассчитан\n",
      "\n",
      "==========================================\n",
      "Обработка PGS: PGS002048\n",
      "PGS PGS002048, содержит 762124 SNP\n",
      "Количество SNP в PGS: 762124\n",
      "Количество общих SNP: 322896\n",
      "Процент покрытия: 42.37%\n",
      "Выполняем расчет PGS PGS002048\n"
     ]
    },
    {
     "name": "stderr",
     "output_type": "stream",
     "text": [
      "Python(14787) MallocStackLogging: can't turn off malloc stack logging because it was not enabled.\n"
     ]
    },
    {
     "name": "stdout",
     "output_type": "stream",
     "text": [
      "PGS PGS002048 успешно рассчитан\n",
      "\n",
      "==========================================\n",
      "Обработка PGS: PGS001780\n",
      "PGS PGS001780, содержит 1090048 SNP\n",
      "Количество SNP в PGS: 1090048\n",
      "Количество общих SNP: 450206\n",
      "Процент покрытия: 41.30%\n",
      "Выполняем расчет PGS PGS001780\n"
     ]
    },
    {
     "name": "stderr",
     "output_type": "stream",
     "text": [
      "Python(14797) MallocStackLogging: can't turn off malloc stack logging because it was not enabled.\n"
     ]
    },
    {
     "name": "stdout",
     "output_type": "stream",
     "text": [
      "PGS PGS001780 успешно рассчитан\n",
      "\n",
      "==========================================\n",
      "Обработка PGS: PGS002262\n",
      "PGS PGS002262, содержит 540 SNP\n",
      "Количество SNP в PGS: 540\n",
      "Количество общих SNP: 136\n",
      "Процент покрытия: 25.19%\n",
      "Выполняем расчет PGS PGS002262\n"
     ]
    },
    {
     "name": "stderr",
     "output_type": "stream",
     "text": [
      "Python(14799) MallocStackLogging: can't turn off malloc stack logging because it was not enabled.\n"
     ]
    },
    {
     "name": "stdout",
     "output_type": "stream",
     "text": [
      "PGS PGS002262 успешно рассчитан\n",
      "\n",
      "==========================================\n",
      "Обработка PGS: PGS000058\n",
      "PGS PGS000058, содержит 204 SNP\n",
      "Количество SNP в PGS: 204\n",
      "Количество общих SNP: 41\n",
      "Процент покрытия: 20.10%\n",
      "Выполняем расчет PGS PGS000058\n"
     ]
    },
    {
     "name": "stderr",
     "output_type": "stream",
     "text": [
      "Python(14800) MallocStackLogging: can't turn off malloc stack logging because it was not enabled.\n"
     ]
    },
    {
     "name": "stdout",
     "output_type": "stream",
     "text": [
      "PGS PGS000058 успешно рассчитан\n",
      "\n",
      "==========================================\n",
      "Обработка PGS: PGS001839\n",
      "PGS PGS001839, содержит 25425 SNP\n",
      "Количество SNP в PGS: 25425\n",
      "Количество общих SNP: 11260\n",
      "Процент покрытия: 44.29%\n",
      "Выполняем расчет PGS PGS001839\n"
     ]
    },
    {
     "name": "stderr",
     "output_type": "stream",
     "text": [
      "Python(14801) MallocStackLogging: can't turn off malloc stack logging because it was not enabled.\n"
     ]
    },
    {
     "name": "stdout",
     "output_type": "stream",
     "text": [
      "PGS PGS001839 успешно рассчитан\n",
      "\n",
      "==========================================\n",
      "Обработка PGS: PGS004941\n",
      "PGS PGS004941, содержит 3711629 SNP\n",
      "Файл содержит позиционную информацию вместо rsID. Создаем синтетиические идентификаторы.\n",
      "Количество SNP в PGS: 3711629\n",
      "Количество общих SNP: 429616\n",
      "Процент покрытия: 11.57%\n",
      "Выполняем расчет PGS PGS004941\n"
     ]
    },
    {
     "name": "stderr",
     "output_type": "stream",
     "text": [
      "Python(14830) MallocStackLogging: can't turn off malloc stack logging because it was not enabled.\n"
     ]
    },
    {
     "name": "stdout",
     "output_type": "stream",
     "text": [
      "PGS PGS004941 успешно рассчитан\n",
      "\n",
      "==========================================\n",
      "Обработка PGS: PGS004200\n",
      "PGS PGS004200, содержит 8361 SNP\n",
      "Количество SNP в PGS: 8361\n",
      "Количество общих SNP: 899\n",
      "Процент покрытия: 10.75%\n",
      "Выполняем расчет PGS PGS004200\n"
     ]
    },
    {
     "name": "stderr",
     "output_type": "stream",
     "text": [
      "Python(14832) MallocStackLogging: can't turn off malloc stack logging because it was not enabled.\n"
     ]
    },
    {
     "name": "stdout",
     "output_type": "stream",
     "text": [
      "PGS PGS004200 успешно рассчитан\n",
      "\n",
      "==========================================\n",
      "Обработка PGS: PGS003355\n",
      "PGS PGS003355, содержит 1532758 SNP\n",
      "Файл содержит позиционную информацию вместо rsID. Создаем синтетиические идентификаторы.\n",
      "Количество SNP в PGS: 1532758\n",
      "Количество общих SNP: 116470\n",
      "Процент покрытия: 7.60%\n",
      "Выполняем расчет PGS PGS003355\n"
     ]
    },
    {
     "name": "stderr",
     "output_type": "stream",
     "text": [
      "Python(14911) MallocStackLogging: can't turn off malloc stack logging because it was not enabled.\n"
     ]
    },
    {
     "name": "stdout",
     "output_type": "stream",
     "text": [
      "PGS PGS003355 успешно рассчитан\n",
      "\n",
      "==========================================\n",
      "Обработка PGS: PGS001355\n",
      "PGS PGS001355, содержит 2994055 SNP\n",
      "Количество SNP в PGS: 2994055\n",
      "Количество общих SNP: 317044\n",
      "Процент покрытия: 10.59%\n",
      "Выполняем расчет PGS PGS001355\n"
     ]
    },
    {
     "name": "stderr",
     "output_type": "stream",
     "text": [
      "Python(14944) MallocStackLogging: can't turn off malloc stack logging because it was not enabled.\n"
     ]
    },
    {
     "name": "stdout",
     "output_type": "stream",
     "text": [
      "PGS PGS001355 успешно рассчитан\n",
      "\n",
      "==========================================\n",
      "Обработка PGS: PGS004198\n",
      "PGS PGS004198, содержит 5723 SNP\n",
      "Количество SNP в PGS: 5723\n",
      "Количество общих SNP: 670\n",
      "Процент покрытия: 11.71%\n",
      "Выполняем расчет PGS PGS004198\n"
     ]
    },
    {
     "name": "stderr",
     "output_type": "stream",
     "text": [
      "Python(14945) MallocStackLogging: can't turn off malloc stack logging because it was not enabled.\n"
     ]
    },
    {
     "name": "stdout",
     "output_type": "stream",
     "text": [
      "PGS PGS004198 успешно рассчитан\n",
      "\n",
      "==========================================\n",
      "Обработка PGS: PGS000329\n",
      "PGS PGS000329, содержит 6423165 SNP\n",
      "Количество SNP в PGS: 6423165\n",
      "Количество общих SNP: 490575\n",
      "Процент покрытия: 7.64%\n",
      "Выполняем расчет PGS PGS000329\n"
     ]
    },
    {
     "name": "stderr",
     "output_type": "stream",
     "text": [
      "Python(14954) MallocStackLogging: can't turn off malloc stack logging because it was not enabled.\n"
     ]
    },
    {
     "name": "stdout",
     "output_type": "stream",
     "text": [
      "PGS PGS000329 успешно рассчитан\n",
      "\n",
      "==========================================\n",
      "Обработка PGS: PGS004199\n",
      "PGS PGS004199, содержит 6085 SNP\n",
      "Количество SNP в PGS: 6085\n",
      "Количество общих SNP: 682\n",
      "Процент покрытия: 11.21%\n",
      "Выполняем расчет PGS PGS004199\n"
     ]
    },
    {
     "name": "stderr",
     "output_type": "stream",
     "text": [
      "Python(14955) MallocStackLogging: can't turn off malloc stack logging because it was not enabled.\n"
     ]
    },
    {
     "name": "stdout",
     "output_type": "stream",
     "text": [
      "PGS PGS004199 успешно рассчитан\n",
      "\n",
      "==========================================\n",
      "Обработка PGS: PGS000116\n",
      "PGS PGS000116, содержит 40079 SNP\n",
      "Количество SNP в PGS: 40079\n",
      "Количество общих SNP: 3662\n",
      "Процент покрытия: 9.14%\n",
      "Выполняем расчет PGS PGS000116\n"
     ]
    },
    {
     "name": "stderr",
     "output_type": "stream",
     "text": [
      "Python(14956) MallocStackLogging: can't turn off malloc stack logging because it was not enabled.\n"
     ]
    },
    {
     "name": "stdout",
     "output_type": "stream",
     "text": [
      "PGS PGS000116 успешно рассчитан\n",
      "\n",
      "==========================================\n",
      "Обработка PGS: PGS005091\n",
      "PGS PGS005091, содержит 1428772 SNP\n",
      "Файл содержит позиционную информацию вместо rsID. Создаем синтетиические идентификаторы.\n",
      "Количество SNP в PGS: 1428772\n",
      "Количество общих SNP: 4354\n",
      "Процент покрытия: 0.30%\n",
      "Выполняем расчет PGS PGS005091\n"
     ]
    },
    {
     "name": "stderr",
     "output_type": "stream",
     "text": [
      "Python(14959) MallocStackLogging: can't turn off malloc stack logging because it was not enabled.\n"
     ]
    },
    {
     "name": "stdout",
     "output_type": "stream",
     "text": [
      "PGS PGS005091 успешно рассчитан\n",
      "\n",
      "==========================================\n",
      "Обработка PGS: PGS005092\n",
      "PGS PGS005092, содержит 1279502 SNP\n",
      "Файл содержит позиционную информацию вместо rsID. Создаем синтетиические идентификаторы.\n",
      "Количество SNP в PGS: 1279502\n",
      "Количество общих SNP: 4540\n",
      "Процент покрытия: 0.35%\n",
      "Выполняем расчет PGS PGS005092\n"
     ]
    },
    {
     "name": "stderr",
     "output_type": "stream",
     "text": [
      "Python(14975) MallocStackLogging: can't turn off malloc stack logging because it was not enabled.\n"
     ]
    },
    {
     "name": "stdout",
     "output_type": "stream",
     "text": [
      "PGS PGS005092 успешно рассчитан\n",
      "\n",
      "==========================================\n",
      "Обработка PGS: PGS004746\n",
      "PGS PGS004746, содержит 6483064 SNP\n",
      "Файл содержит позиционную информацию вместо rsID. Создаем синтетиические идентификаторы.\n",
      "Количество SNP в PGS: 6483064\n",
      "Количество общих SNP: 6132\n",
      "Процент покрытия: 0.09%\n",
      "Выполняем расчет PGS PGS004746\n"
     ]
    },
    {
     "name": "stderr",
     "output_type": "stream",
     "text": [
      "Python(15078) MallocStackLogging: can't turn off malloc stack logging because it was not enabled.\n"
     ]
    },
    {
     "name": "stdout",
     "output_type": "stream",
     "text": [
      "PGS PGS004746 успешно рассчитан\n",
      "\n",
      "==========================================\n",
      "Обработка PGS: PGS004197\n",
      "PGS PGS004197, содержит 11490 SNP\n",
      "Количество SNP в PGS: 11490\n",
      "Количество общих SNP: 1193\n",
      "Процент покрытия: 10.38%\n",
      "Выполняем расчет PGS PGS004197\n"
     ]
    },
    {
     "name": "stderr",
     "output_type": "stream",
     "text": [
      "Python(15079) MallocStackLogging: can't turn off malloc stack logging because it was not enabled.\n"
     ]
    },
    {
     "name": "stdout",
     "output_type": "stream",
     "text": [
      "PGS PGS004197 успешно рассчитан\n",
      "\n",
      "==========================================\n",
      "Обработка PGS: PGS004196\n",
      "PGS PGS004196, содержит 3892 SNP\n",
      "Количество SNP в PGS: 3892\n",
      "Количество общих SNP: 464\n",
      "Процент покрытия: 11.92%\n",
      "Выполняем расчет PGS PGS004196\n"
     ]
    },
    {
     "name": "stderr",
     "output_type": "stream",
     "text": [
      "Python(15082) MallocStackLogging: can't turn off malloc stack logging because it was not enabled.\n"
     ]
    },
    {
     "name": "stdout",
     "output_type": "stream",
     "text": [
      "PGS PGS004196 успешно рассчитан\n",
      "\n",
      "==========================================\n",
      "Обработка PGS: PGS003438\n",
      "PGS PGS003438, содержит 241 SNP\n",
      "Количество SNP в PGS: 241\n",
      "Количество общих SNP: 29\n",
      "Процент покрытия: 12.03%\n",
      "Выполняем расчет PGS PGS003438\n"
     ]
    },
    {
     "name": "stderr",
     "output_type": "stream",
     "text": [
      "Python(15085) MallocStackLogging: can't turn off malloc stack logging because it was not enabled.\n"
     ]
    },
    {
     "name": "stdout",
     "output_type": "stream",
     "text": [
      "PGS PGS003438 успешно рассчитан\n",
      "\n",
      "==========================================\n",
      "Обработка PGS: PGS004237\n",
      "PGS PGS004237, содержит 1146511 SNP\n",
      "Количество SNP в PGS: 1146511\n",
      "Количество общих SNP: 474392\n",
      "Процент покрытия: 41.38%\n",
      "Выполняем расчет PGS PGS004237\n"
     ]
    },
    {
     "name": "stderr",
     "output_type": "stream",
     "text": [
      "Python(15179) MallocStackLogging: can't turn off malloc stack logging because it was not enabled.\n"
     ]
    },
    {
     "name": "stdout",
     "output_type": "stream",
     "text": [
      "PGS PGS004237 успешно рассчитан\n",
      "\n",
      "==========================================\n",
      "Обработка PGS: PGS004745\n",
      "PGS PGS004745, содержит 4769577 SNP\n",
      "Файл содержит позиционную информацию вместо rsID. Создаем синтетиические идентификаторы.\n",
      "Количество SNP в PGS: 4769577\n",
      "Количество общих SNP: 4560\n",
      "Процент покрытия: 0.10%\n",
      "Выполняем расчет PGS PGS004745\n"
     ]
    },
    {
     "name": "stderr",
     "output_type": "stream",
     "text": [
      "Python(15226) MallocStackLogging: can't turn off malloc stack logging because it was not enabled.\n"
     ]
    },
    {
     "name": "stdout",
     "output_type": "stream",
     "text": [
      "Ошибк при расчете PGS PGS004745 Error: Duplicate variant 'rs7862687' in --score file.\n",
      "\n",
      "\n",
      "==========================================\n",
      "Обработка PGS: PGS000899\n",
      "PGS PGS000899, содержит 176 SNP\n",
      "Количество SNP в PGS: 176\n",
      "Количество общих SNP: 37\n",
      "Процент покрытия: 21.02%\n",
      "Выполняем расчет PGS PGS000899\n"
     ]
    },
    {
     "name": "stderr",
     "output_type": "stream",
     "text": [
      "Python(15227) MallocStackLogging: can't turn off malloc stack logging because it was not enabled.\n"
     ]
    },
    {
     "name": "stdout",
     "output_type": "stream",
     "text": [
      "PGS PGS000899 успешно рассчитан\n",
      "\n",
      "==========================================\n",
      "Обработка PGS: PGS004744\n",
      "PGS PGS004744, содержит 7082943 SNP\n",
      "Файл содержит позиционную информацию вместо rsID. Создаем синтетиические идентификаторы.\n",
      "Количество SNP в PGS: 7082943\n",
      "Количество общих SNP: 6891\n",
      "Процент покрытия: 0.10%\n",
      "Выполняем расчет PGS PGS004744\n"
     ]
    },
    {
     "name": "stderr",
     "output_type": "stream",
     "text": [
      "Python(15336) MallocStackLogging: can't turn off malloc stack logging because it was not enabled.\n"
     ]
    },
    {
     "name": "stdout",
     "output_type": "stream",
     "text": [
      "PGS PGS004744 успешно рассчитан\n",
      "\n",
      "==========================================\n",
      "Обработка PGS: PGS004595\n",
      "PGS PGS004595, содержит 164 SNP\n",
      "Количество SNP в PGS: 164\n",
      "Количество общих SNP: 40\n",
      "Процент покрытия: 24.39%\n",
      "Выполняем расчет PGS PGS004595\n"
     ]
    },
    {
     "name": "stderr",
     "output_type": "stream",
     "text": [
      "Python(15337) MallocStackLogging: can't turn off malloc stack logging because it was not enabled.\n"
     ]
    },
    {
     "name": "stdout",
     "output_type": "stream",
     "text": [
      "PGS PGS004595 успешно рассчитан\n",
      "\n",
      "==========================================\n",
      "Обработка PGS: PGS005112\n",
      "PGS PGS005112, содержит 1106628 SNP\n",
      "Количество SNP в PGS: 1106628\n",
      "Количество общих SNP: 454934\n",
      "Процент покрытия: 41.11%\n",
      "Выполняем расчет PGS PGS005112\n"
     ]
    },
    {
     "name": "stderr",
     "output_type": "stream",
     "text": [
      "Python(15351) MallocStackLogging: can't turn off malloc stack logging because it was not enabled.\n"
     ]
    },
    {
     "name": "stdout",
     "output_type": "stream",
     "text": [
      "PGS PGS005112 успешно рассчитан\n",
      "\n",
      "==========================================\n",
      "Обработка PGS: PGS002244\n",
      "PGS PGS002244, содержит 6576338 SNP\n",
      "Количество SNP в PGS: 6576338\n",
      "Количество общих SNP: 497179\n",
      "Процент покрытия: 7.56%\n",
      "Выполняем расчет PGS PGS002244\n"
     ]
    },
    {
     "name": "stderr",
     "output_type": "stream",
     "text": [
      "Python(15369) MallocStackLogging: can't turn off malloc stack logging because it was not enabled.\n"
     ]
    },
    {
     "name": "stdout",
     "output_type": "stream",
     "text": [
      "PGS PGS002244 успешно рассчитан\n",
      "\n",
      "==========================================\n",
      "Обработка PGS: PGS000057\n",
      "PGS PGS000057, содержит 57 SNP\n",
      "Количество SNP в PGS: 57\n",
      "Количество общих SNP: 19\n",
      "Процент покрытия: 33.33%\n",
      "Выполняем расчет PGS PGS000057\n"
     ]
    },
    {
     "name": "stderr",
     "output_type": "stream",
     "text": [
      "Python(15370) MallocStackLogging: can't turn off malloc stack logging because it was not enabled.\n"
     ]
    },
    {
     "name": "stdout",
     "output_type": "stream",
     "text": [
      "PGS PGS000057 успешно рассчитан\n",
      "\n",
      "==========================================\n",
      "Обработка PGS: PGS000296\n",
      "PGS PGS000296, содержит 6630150 SNP\n",
      "Файл содержит позиционную информацию вместо rsID. Создаем синтетиические идентификаторы.\n",
      "Количество SNP в PGS: 6630150\n",
      "Количество общих SNP: 495928\n",
      "Процент покрытия: 7.48%\n",
      "Выполняем расчет PGS PGS000296\n"
     ]
    },
    {
     "name": "stderr",
     "output_type": "stream",
     "text": [
      "Python(15484) MallocStackLogging: can't turn off malloc stack logging because it was not enabled.\n"
     ]
    },
    {
     "name": "stdout",
     "output_type": "stream",
     "text": [
      "PGS PGS000296 успешно рассчитан\n",
      "\n",
      "==========================================\n",
      "Обработка PGS: PGS004743\n",
      "PGS PGS004743, содержит 3606321 SNP\n",
      "Файл содержит позиционную информацию вместо rsID. Создаем синтетиические идентификаторы.\n",
      "Количество SNP в PGS: 3606321\n",
      "Количество общих SNP: 3853\n",
      "Процент покрытия: 0.11%\n",
      "Выполняем расчет PGS PGS004743\n"
     ]
    },
    {
     "name": "stderr",
     "output_type": "stream",
     "text": [
      "Python(15491) MallocStackLogging: can't turn off malloc stack logging because it was not enabled.\n"
     ]
    },
    {
     "name": "stdout",
     "output_type": "stream",
     "text": [
      "Ошибк при расчете PGS PGS004743 Error: Duplicate variant 'rs7862687' in --score file.\n",
      "\n",
      "\n",
      "==========================================\n",
      "Обработка PGS: PGS004596\n",
      "PGS PGS004596, содержит 64 SNP\n",
      "Количество SNP в PGS: 64\n",
      "Количество общих SNP: 24\n",
      "Процент покрытия: 37.50%\n",
      "Выполняем расчет PGS PGS004596\n"
     ]
    },
    {
     "name": "stderr",
     "output_type": "stream",
     "text": [
      "Python(15492) MallocStackLogging: can't turn off malloc stack logging because it was not enabled.\n"
     ]
    },
    {
     "name": "stdout",
     "output_type": "stream",
     "text": [
      "PGS PGS004596 успешно рассчитан\n",
      "\n",
      "==========================================\n",
      "Обработка PGS: PGS000337\n",
      "PGS PGS000337, содержит 75028 SNP\n",
      "Файл содержит позиционную информацию вместо rsID. Создаем синтетиические идентификаторы.\n",
      "Количество SNP в PGS: 75028\n",
      "Количество общих SNP: 10154\n",
      "Процент покрытия: 13.53%\n",
      "Выполняем расчет PGS PGS000337\n"
     ]
    },
    {
     "name": "stderr",
     "output_type": "stream",
     "text": [
      "Python(15493) MallocStackLogging: can't turn off malloc stack logging because it was not enabled.\n"
     ]
    },
    {
     "name": "stdout",
     "output_type": "stream",
     "text": [
      "PGS PGS000337 успешно рассчитан\n",
      "\n",
      "==========================================\n",
      "Обработка PGS: PGS004309\n",
      "PGS PGS004309, содержит 3000 SNP\n",
      "Файл содержит позиционную информацию вместо rsID. Создаем синтетиические идентификаторы.\n",
      "Количество SNP в PGS: 3000\n",
      "Количество общих SNP: 1174\n",
      "Процент покрытия: 39.13%\n",
      "Выполняем расчет PGS PGS004309\n"
     ]
    },
    {
     "name": "stderr",
     "output_type": "stream",
     "text": [
      "Python(15495) MallocStackLogging: can't turn off malloc stack logging because it was not enabled.\n"
     ]
    },
    {
     "name": "stdout",
     "output_type": "stream",
     "text": [
      "PGS PGS004309 успешно рассчитан\n",
      "\n",
      "==========================================\n",
      "Обработка PGS: PGS004321\n",
      "PGS PGS004321, содержит 27 SNP\n",
      "Количество SNP в PGS: 27\n",
      "Количество общих SNP: 14\n",
      "Процент покрытия: 51.85%\n",
      "Выполняем расчет PGS PGS004321\n"
     ]
    },
    {
     "name": "stderr",
     "output_type": "stream",
     "text": [
      "Python(15496) MallocStackLogging: can't turn off malloc stack logging because it was not enabled.\n"
     ]
    },
    {
     "name": "stdout",
     "output_type": "stream",
     "text": [
      "PGS PGS004321 успешно рассчитан\n",
      "\n",
      "==========================================\n",
      "Обработка PGS: PGS004888\n",
      "PGS PGS004888, содержит 1110046 SNP\n",
      "Файл содержит позиционную информацию вместо rsID. Создаем синтетиические идентификаторы.\n",
      "Количество SNP в PGS: 1110046\n",
      "Количество общих SNP: 453801\n",
      "Процент покрытия: 40.88%\n",
      "Выполняем расчет PGS PGS004888\n"
     ]
    },
    {
     "name": "stderr",
     "output_type": "stream",
     "text": [
      "Python(15593) MallocStackLogging: can't turn off malloc stack logging because it was not enabled.\n"
     ]
    },
    {
     "name": "stdout",
     "output_type": "stream",
     "text": [
      "PGS PGS004888 успешно рассчитан\n",
      "\n",
      "==========================================\n",
      "Обработка PGS: PGS004308\n",
      "PGS PGS004308, содержит 1500 SNP\n",
      "Файл содержит позиционную информацию вместо rsID. Создаем синтетиические идентификаторы.\n",
      "Количество SNP в PGS: 1500\n",
      "Количество общих SNP: 584\n",
      "Процент покрытия: 38.93%\n",
      "Выполняем расчет PGS PGS004308\n"
     ]
    },
    {
     "name": "stderr",
     "output_type": "stream",
     "text": [
      "Python(15594) MallocStackLogging: can't turn off malloc stack logging because it was not enabled.\n"
     ]
    },
    {
     "name": "stdout",
     "output_type": "stream",
     "text": [
      "PGS PGS004308 успешно рассчитан\n",
      "\n",
      "==========================================\n",
      "Обработка PGS: PGS000018\n",
      "PGS PGS000018, содержит 1745179 SNP\n",
      "Количество SNP в PGS: 1745179\n",
      "Количество общих SNP: 129619\n",
      "Процент покрытия: 7.43%\n",
      "Выполняем расчет PGS PGS000018\n"
     ]
    },
    {
     "name": "stderr",
     "output_type": "stream",
     "text": [
      "Python(15600) MallocStackLogging: can't turn off malloc stack logging because it was not enabled.\n"
     ]
    },
    {
     "name": "stdout",
     "output_type": "stream",
     "text": [
      "PGS PGS000018 успешно рассчитан\n",
      "\n",
      "==========================================\n",
      "Обработка PGS: PGS004444\n",
      "PGS PGS004444, содержит 1059939 SNP\n",
      "Количество SNP в PGS: 1059939\n",
      "Количество общих SNP: 442559\n",
      "Процент покрытия: 41.75%\n",
      "Выполняем расчет PGS PGS004444\n"
     ]
    },
    {
     "name": "stderr",
     "output_type": "stream",
     "text": [
      "Python(15637) MallocStackLogging: can't turn off malloc stack logging because it was not enabled.\n"
     ]
    },
    {
     "name": "stdout",
     "output_type": "stream",
     "text": [
      "PGS PGS004444 успешно рассчитан\n",
      "\n",
      "==========================================\n",
      "Обработка PGS: PGS000019\n",
      "PGS PGS000019, содержит 192 SNP\n",
      "Количество SNP в PGS: 192\n",
      "Количество общих SNP: 26\n",
      "Процент покрытия: 13.54%\n",
      "Выполняем расчет PGS PGS000019\n"
     ]
    },
    {
     "name": "stderr",
     "output_type": "stream",
     "text": [
      "Python(15639) MallocStackLogging: can't turn off malloc stack logging because it was not enabled.\n"
     ]
    },
    {
     "name": "stdout",
     "output_type": "stream",
     "text": [
      "PGS PGS000019 успешно рассчитан\n",
      "\n",
      "==========================================\n",
      "Обработка PGS: PGS000747\n",
      "PGS PGS000747, содержит 375822 SNP\n",
      "Файл содержит позиционную информацию вместо rsID. Создаем синтетиические идентификаторы.\n",
      "Количество SNP в PGS: 375822\n",
      "Количество общих SNP: 31294\n",
      "Процент покрытия: 8.33%\n",
      "Выполняем расчет PGS PGS000747\n"
     ]
    },
    {
     "name": "stderr",
     "output_type": "stream",
     "text": [
      "Python(15643) MallocStackLogging: can't turn off malloc stack logging because it was not enabled.\n"
     ]
    },
    {
     "name": "stdout",
     "output_type": "stream",
     "text": [
      "PGS PGS000747 успешно рассчитан\n",
      "\n",
      "==========================================\n",
      "Обработка PGS: PGS000746\n",
      "PGS PGS000746, содержит 1940 SNP\n",
      "Файл содержит позиционную информацию вместо rsID. Создаем синтетиические идентификаторы.\n",
      "Количество SNP в PGS: 1940\n",
      "Количество общих SNP: 232\n",
      "Процент покрытия: 11.96%\n",
      "Выполняем расчет PGS PGS000746\n"
     ]
    },
    {
     "name": "stderr",
     "output_type": "stream",
     "text": [
      "Python(15644) MallocStackLogging: can't turn off malloc stack logging because it was not enabled.\n"
     ]
    },
    {
     "name": "stdout",
     "output_type": "stream",
     "text": [
      "PGS PGS000746 успешно рассчитан\n",
      "\n",
      "==========================================\n",
      "Обработка PGS: PGS004697\n",
      "PGS PGS004697, содержит 1120251 SNP\n",
      "Количество SNP в PGS: 1120251\n",
      "Количество общих SNP: 456041\n",
      "Процент покрытия: 40.71%\n",
      "Выполняем расчет PGS PGS004697\n"
     ]
    },
    {
     "name": "stderr",
     "output_type": "stream",
     "text": [
      "Python(15650) MallocStackLogging: can't turn off malloc stack logging because it was not enabled.\n"
     ]
    },
    {
     "name": "stdout",
     "output_type": "stream",
     "text": [
      "PGS PGS004697 успешно рассчитан\n",
      "\n",
      "==========================================\n",
      "Обработка PGS: PGS004899\n",
      "PGS PGS004899, содержит 7 SNP\n",
      "Количество SNP в PGS: 7\n",
      "Количество общих SNP: 0\n",
      "Процент покрытия: 0.00%\n",
      "нет общих SNP для PGS004899\n",
      "\n",
      "==========================================\n",
      "Обработка PGS: PGS004696\n",
      "PGS PGS004696, содержит 1289980 SNP\n",
      "Количество SNP в PGS: 1289980\n",
      "Количество общих SNP: 456450\n",
      "Процент покрытия: 35.38%\n",
      "Выполняем расчет PGS PGS004696\n"
     ]
    },
    {
     "name": "stderr",
     "output_type": "stream",
     "text": [
      "Python(15653) MallocStackLogging: can't turn off malloc stack logging because it was not enabled.\n"
     ]
    },
    {
     "name": "stdout",
     "output_type": "stream",
     "text": [
      "PGS PGS004696 успешно рассчитан\n",
      "\n",
      "==========================================\n",
      "Обработка PGS: PGS004443\n",
      "PGS PGS004443, содержит 1059939 SNP\n",
      "Количество SNP в PGS: 1059939\n",
      "Количество общих SNP: 442559\n",
      "Процент покрытия: 41.75%\n",
      "Выполняем расчет PGS PGS004443\n"
     ]
    },
    {
     "name": "stderr",
     "output_type": "stream",
     "text": [
      "Python(15743) MallocStackLogging: can't turn off malloc stack logging because it was not enabled.\n"
     ]
    },
    {
     "name": "stdout",
     "output_type": "stream",
     "text": [
      "PGS PGS004443 успешно рассчитан\n",
      "\n",
      "==========================================\n",
      "Обработка PGS: PGS000962\n",
      "PGS PGS000962, содержит 2168 SNP\n",
      "Количество SNP в PGS: 2168\n",
      "Количество общих SNP: 444\n",
      "Процент покрытия: 20.48%\n",
      "Выполняем расчет PGS PGS000962\n"
     ]
    },
    {
     "name": "stderr",
     "output_type": "stream",
     "text": [
      "Python(15744) MallocStackLogging: can't turn off malloc stack logging because it was not enabled.\n"
     ]
    },
    {
     "name": "stdout",
     "output_type": "stream",
     "text": [
      "PGS PGS000962 успешно рассчитан\n",
      "Объеденены PGS для 281 образцов и 73 PGS\n",
      "Сохраняю в ./pgs_results_calculated/validation_pgs.csv\n"
     ]
    },
    {
     "name": "stderr",
     "output_type": "stream",
     "text": [
      "/Users/daklo/for_dipl/pgs_calculator.py:139: SettingWithCopyWarning: \n",
      "A value is trying to be set on a copy of a slice from a DataFrame.\n",
      "Try using .loc[row_indexer,col_indexer] = value instead\n",
      "\n",
      "See the caveats in the documentation: https://pandas.pydata.org/pandas-docs/stable/user_guide/indexing.html#returning-a-view-versus-a-copy\n",
      "  combined[pgs_name] = df['SCORE']\n",
      "/Users/daklo/for_dipl/pgs_calculator.py:139: SettingWithCopyWarning: \n",
      "A value is trying to be set on a copy of a slice from a DataFrame.\n",
      "Try using .loc[row_indexer,col_indexer] = value instead\n",
      "\n",
      "See the caveats in the documentation: https://pandas.pydata.org/pandas-docs/stable/user_guide/indexing.html#returning-a-view-versus-a-copy\n",
      "  combined[pgs_name] = df['SCORE']\n",
      "/Users/daklo/for_dipl/pgs_calculator.py:139: SettingWithCopyWarning: \n",
      "A value is trying to be set on a copy of a slice from a DataFrame.\n",
      "Try using .loc[row_indexer,col_indexer] = value instead\n",
      "\n",
      "See the caveats in the documentation: https://pandas.pydata.org/pandas-docs/stable/user_guide/indexing.html#returning-a-view-versus-a-copy\n",
      "  combined[pgs_name] = df['SCORE']\n"
     ]
    },
    {
     "name": "stdout",
     "output_type": "stream",
     "text": [
      "X_train: (1120, 73)\n",
      "y_train: (1120,)\n",
      "X_val: (281, 73)\n",
      "y_val: (281,)\n"
     ]
    },
    {
     "data": {
      "text/html": [
       "<div>\n",
       "<style scoped>\n",
       "    .dataframe tbody tr th:only-of-type {\n",
       "        vertical-align: middle;\n",
       "    }\n",
       "\n",
       "    .dataframe tbody tr th {\n",
       "        vertical-align: top;\n",
       "    }\n",
       "\n",
       "    .dataframe thead th {\n",
       "        text-align: right;\n",
       "    }\n",
       "</style>\n",
       "<table border=\"1\" class=\"dataframe\">\n",
       "  <thead>\n",
       "    <tr style=\"text-align: right;\">\n",
       "      <th></th>\n",
       "      <th>PGS003725</th>\n",
       "      <th>PGS000748</th>\n",
       "      <th>PGS000012</th>\n",
       "      <th>PGS003446</th>\n",
       "      <th>PGS004513</th>\n",
       "      <th>PGS000013</th>\n",
       "      <th>PGS005143</th>\n",
       "      <th>PGS003726</th>\n",
       "      <th>PGS002809</th>\n",
       "      <th>PGS000011</th>\n",
       "      <th>...</th>\n",
       "      <th>PGS004308</th>\n",
       "      <th>PGS000018</th>\n",
       "      <th>PGS004444</th>\n",
       "      <th>PGS000019</th>\n",
       "      <th>PGS000747</th>\n",
       "      <th>PGS000746</th>\n",
       "      <th>PGS004697</th>\n",
       "      <th>PGS004696</th>\n",
       "      <th>PGS004443</th>\n",
       "      <th>PGS000962</th>\n",
       "    </tr>\n",
       "  </thead>\n",
       "  <tbody>\n",
       "    <tr>\n",
       "      <th>0</th>\n",
       "      <td>-0.000002</td>\n",
       "      <td>-0.000063</td>\n",
       "      <td>0.006168</td>\n",
       "      <td>0.000101</td>\n",
       "      <td>9.579200e-09</td>\n",
       "      <td>0.000001</td>\n",
       "      <td>2.133570e-07</td>\n",
       "      <td>-7.219010e-07</td>\n",
       "      <td>0.031915</td>\n",
       "      <td>0.049704</td>\n",
       "      <td>...</td>\n",
       "      <td>-0.000415</td>\n",
       "      <td>0.000024</td>\n",
       "      <td>-4.742760e-08</td>\n",
       "      <td>0.027678</td>\n",
       "      <td>-0.000215</td>\n",
       "      <td>-0.001155</td>\n",
       "      <td>9.150740e-08</td>\n",
       "      <td>-2.453470e-08</td>\n",
       "      <td>3.405430e-08</td>\n",
       "      <td>0.000154</td>\n",
       "    </tr>\n",
       "    <tr>\n",
       "      <th>1</th>\n",
       "      <td>-0.000002</td>\n",
       "      <td>-0.000086</td>\n",
       "      <td>0.006297</td>\n",
       "      <td>0.000143</td>\n",
       "      <td>-9.080650e-09</td>\n",
       "      <td>0.000001</td>\n",
       "      <td>3.248620e-07</td>\n",
       "      <td>-9.691360e-07</td>\n",
       "      <td>0.033945</td>\n",
       "      <td>0.052974</td>\n",
       "      <td>...</td>\n",
       "      <td>0.000108</td>\n",
       "      <td>0.000026</td>\n",
       "      <td>-4.720820e-08</td>\n",
       "      <td>0.041390</td>\n",
       "      <td>-0.000261</td>\n",
       "      <td>0.000481</td>\n",
       "      <td>-6.659240e-08</td>\n",
       "      <td>-8.712210e-08</td>\n",
       "      <td>-3.072910e-07</td>\n",
       "      <td>0.000240</td>\n",
       "    </tr>\n",
       "    <tr>\n",
       "      <th>2</th>\n",
       "      <td>-0.000002</td>\n",
       "      <td>-0.000077</td>\n",
       "      <td>0.006248</td>\n",
       "      <td>0.000084</td>\n",
       "      <td>-6.495300e-09</td>\n",
       "      <td>0.000001</td>\n",
       "      <td>2.044360e-07</td>\n",
       "      <td>-7.322030e-07</td>\n",
       "      <td>0.028568</td>\n",
       "      <td>0.053982</td>\n",
       "      <td>...</td>\n",
       "      <td>-0.000121</td>\n",
       "      <td>0.000025</td>\n",
       "      <td>4.175640e-08</td>\n",
       "      <td>0.028056</td>\n",
       "      <td>-0.000272</td>\n",
       "      <td>0.001207</td>\n",
       "      <td>2.012530e-08</td>\n",
       "      <td>-4.647040e-08</td>\n",
       "      <td>-1.235450e-07</td>\n",
       "      <td>0.000443</td>\n",
       "    </tr>\n",
       "    <tr>\n",
       "      <th>3</th>\n",
       "      <td>-0.000002</td>\n",
       "      <td>-0.000090</td>\n",
       "      <td>0.006240</td>\n",
       "      <td>0.000113</td>\n",
       "      <td>3.235680e-08</td>\n",
       "      <td>0.000001</td>\n",
       "      <td>1.327900e-07</td>\n",
       "      <td>-8.976650e-07</td>\n",
       "      <td>0.031143</td>\n",
       "      <td>0.044140</td>\n",
       "      <td>...</td>\n",
       "      <td>-0.000299</td>\n",
       "      <td>0.000026</td>\n",
       "      <td>8.789870e-08</td>\n",
       "      <td>0.036693</td>\n",
       "      <td>-0.000271</td>\n",
       "      <td>0.000935</td>\n",
       "      <td>-2.097750e-07</td>\n",
       "      <td>-1.455150e-07</td>\n",
       "      <td>8.523510e-08</td>\n",
       "      <td>0.000223</td>\n",
       "    </tr>\n",
       "    <tr>\n",
       "      <th>4</th>\n",
       "      <td>-0.000002</td>\n",
       "      <td>-0.000103</td>\n",
       "      <td>0.006256</td>\n",
       "      <td>0.000172</td>\n",
       "      <td>3.373960e-08</td>\n",
       "      <td>0.000001</td>\n",
       "      <td>8.315370e-08</td>\n",
       "      <td>-1.076880e-06</td>\n",
       "      <td>0.028405</td>\n",
       "      <td>0.059610</td>\n",
       "      <td>...</td>\n",
       "      <td>-0.000317</td>\n",
       "      <td>0.000025</td>\n",
       "      <td>1.868100e-07</td>\n",
       "      <td>0.026249</td>\n",
       "      <td>-0.000253</td>\n",
       "      <td>0.001527</td>\n",
       "      <td>-4.594400e-08</td>\n",
       "      <td>9.210910e-09</td>\n",
       "      <td>2.313740e-07</td>\n",
       "      <td>0.000099</td>\n",
       "    </tr>\n",
       "  </tbody>\n",
       "</table>\n",
       "<p>5 rows × 73 columns</p>\n",
       "</div>"
      ],
      "text/plain": [
       "   PGS003725  PGS000748  PGS000012  PGS003446     PGS004513  PGS000013  \\\n",
       "0  -0.000002  -0.000063   0.006168   0.000101  9.579200e-09   0.000001   \n",
       "1  -0.000002  -0.000086   0.006297   0.000143 -9.080650e-09   0.000001   \n",
       "2  -0.000002  -0.000077   0.006248   0.000084 -6.495300e-09   0.000001   \n",
       "3  -0.000002  -0.000090   0.006240   0.000113  3.235680e-08   0.000001   \n",
       "4  -0.000002  -0.000103   0.006256   0.000172  3.373960e-08   0.000001   \n",
       "\n",
       "      PGS005143     PGS003726  PGS002809  PGS000011  ...  PGS004308  \\\n",
       "0  2.133570e-07 -7.219010e-07   0.031915   0.049704  ...  -0.000415   \n",
       "1  3.248620e-07 -9.691360e-07   0.033945   0.052974  ...   0.000108   \n",
       "2  2.044360e-07 -7.322030e-07   0.028568   0.053982  ...  -0.000121   \n",
       "3  1.327900e-07 -8.976650e-07   0.031143   0.044140  ...  -0.000299   \n",
       "4  8.315370e-08 -1.076880e-06   0.028405   0.059610  ...  -0.000317   \n",
       "\n",
       "   PGS000018     PGS004444  PGS000019  PGS000747  PGS000746     PGS004697  \\\n",
       "0   0.000024 -4.742760e-08   0.027678  -0.000215  -0.001155  9.150740e-08   \n",
       "1   0.000026 -4.720820e-08   0.041390  -0.000261   0.000481 -6.659240e-08   \n",
       "2   0.000025  4.175640e-08   0.028056  -0.000272   0.001207  2.012530e-08   \n",
       "3   0.000026  8.789870e-08   0.036693  -0.000271   0.000935 -2.097750e-07   \n",
       "4   0.000025  1.868100e-07   0.026249  -0.000253   0.001527 -4.594400e-08   \n",
       "\n",
       "      PGS004696     PGS004443  PGS000962  \n",
       "0 -2.453470e-08  3.405430e-08   0.000154  \n",
       "1 -8.712210e-08 -3.072910e-07   0.000240  \n",
       "2 -4.647040e-08 -1.235450e-07   0.000443  \n",
       "3 -1.455150e-07  8.523510e-08   0.000223  \n",
       "4  9.210910e-09  2.313740e-07   0.000099  \n",
       "\n",
       "[5 rows x 73 columns]"
      ]
     },
     "execution_count": 65,
     "metadata": {},
     "output_type": "execute_result"
    }
   ],
   "source": [
    "# Импортируем функцию calculate_pgs из модуля\n",
    "from pgs_calculator import calculate_pgs\n",
    "import os\n",
    "import pandas as pd\n",
    "import matplotlib.pyplot as plt\n",
    "import seaborn as sns\n",
    "\n",
    "train_plink = \"./all_train\"  # PLINK файл без расширения\n",
    "validation_plink = \"./validation\"  # PLINK файл без расширения \n",
    "pgs_folder = \"./pgs\"  # Папка с .txt файлами для расчета PGS\n",
    "results_dir = \"./pgs_results_calculated\"  # Директория для сохранения результатов\n",
    "\n",
    "os.makedirs(results_dir, exist_ok=True)\n",
    "\n",
    "train_output = os.path.join(results_dir, \"all_train_pgs.csv\")\n",
    "val_output = os.path.join(results_dir, \"validation_pgs.csv\")\n",
    "\n",
    "X_train, y_train = calculate_pgs(train_plink, pgs_folder, train_output)\n",
    "\n",
    "X_val, y_val = calculate_pgs(validation_plink, pgs_folder, val_output)\n",
    "\n",
    "print(f\"X_train: {X_train.shape}\")\n",
    "print(f\"y_train: {y_train.shape}\")\n",
    "print(f\"X_val: {X_val.shape}\")\n",
    "print(f\"y_val: {y_val.shape}\")\n",
    "\n",
    "X_train.head()\n"
   ]
  },
  {
   "cell_type": "markdown",
   "metadata": {},
   "source": [
    "Учим логистическую регрессию на подсчитанных PGS"
   ]
  },
  {
   "cell_type": "code",
   "execution_count": 66,
   "metadata": {},
   "outputs": [
    {
     "name": "stdout",
     "output_type": "stream",
     "text": [
      "ROC-AUC на валидационных данных: 0.61\n"
     ]
    },
    {
     "data": {
      "image/png": "[encoded data removed]",
      "text/plain": [
       "<Figure size 800x600 with 1 Axes>"
      ]
     },
     "metadata": {},
     "output_type": "display_data"
    }
   ],
   "source": [
    "import pandas as pd\n",
    "from sklearn.linear_model import LogisticRegression\n",
    "from sklearn.metrics import roc_auc_score, roc_curve\n",
    "import matplotlib.pyplot as plt\n",
    "\n",
    "model = LogisticRegression()\n",
    "model.fit(X_train, y_train)\n",
    "\n",
    "y_val_pred_probs = model.predict_proba(X_val)[:, 1]\n",
    "\n",
    "roc_auc = roc_auc_score(y_val, y_val_pred_probs)\n",
    "print(f\"ROC-AUC на валидационных данных: {roc_auc:.2f}\")\n",
    "\n",
    "fpr, tpr, thresholds = roc_curve(y_val - 1, y_val_pred_probs)\n",
    "plt.figure(figsize=(8, 6))\n",
    "plt.plot(fpr, tpr, label=f'ROC-Kривая (AUC = {roc_auc:.2f})')\n",
    "plt.plot([0, 1], [0, 1], 'k--', label='Случайное угадывание')\n",
    "plt.xlabel('False Positive Rate')\n",
    "plt.ylabel('True Positive Rate')\n",
    "plt.title('ROC-Кривая')\n",
    "plt.legend(loc='lower right')\n",
    "plt.show()"
   ]
  },
  {
   "cell_type": "markdown",
   "metadata": {},
   "source": [
    "Пробуем различные методы отбора признаков:"
   ]
  },
  {
   "cell_type": "code",
   "execution_count": 67,
   "metadata": {},
   "outputs": [],
   "source": [
    "from sklearn.feature_selection import SelectKBest, f_classif, mutual_info_classif\n",
    "\n",
    "# По F-статистике\n",
    "selector = SelectKBest(f_classif, k=10)\n",
    "X_train_new = selector.fit_transform(X_train, y_train)\n",
    "X_val_new = selector.transform(X_val)\n"
   ]
  },
  {
   "cell_type": "code",
   "execution_count": 68,
   "metadata": {},
   "outputs": [
    {
     "name": "stdout",
     "output_type": "stream",
     "text": [
      "ROC-AUC на валидационных данных: 0.76\n"
     ]
    },
    {
     "data": {
      "image/png": "[encoded data removed]",
      "text/plain": [
       "<Figure size 800x600 with 1 Axes>"
      ]
     },
     "metadata": {},
     "output_type": "display_data"
    }
   ],
   "source": [
    "model = LogisticRegression()\n",
    "model.fit(X_train_new, y_train)\n",
    "\n",
    "y_val_pred_probs = model.predict_proba(X_val_new)[:, 1]\n",
    "\n",
    "roc_auc = roc_auc_score(y_val, y_val_pred_probs)\n",
    "print(f\"ROC-AUC на валидационных данных: {roc_auc:.2f}\")\n",
    "\n",
    "fpr, tpr, thresholds = roc_curve(y_val - 1, y_val_pred_probs)\n",
    "plt.figure(figsize=(8, 6))\n",
    "plt.plot(fpr, tpr, label=f'ROC-Kривая (AUC = {roc_auc:.2f})')\n",
    "plt.plot([0, 1], [0, 1], 'k--', label='Случайное угадывание')\n",
    "plt.xlabel('False Positive Rate')\n",
    "plt.ylabel('True Positive Rate')\n",
    "plt.title('ROC-Кривая')\n",
    "plt.legend(loc='lower right')\n",
    "plt.show()"
   ]
  },
  {
   "cell_type": "code",
   "execution_count": 69,
   "metadata": {},
   "outputs": [],
   "source": [
    "# По информации\n",
    "selector_mi = SelectKBest(mutual_info_classif, k=10)\n",
    "X_train_new = selector_mi.fit_transform(X_train, y_train)\n",
    "X_val_new = selector_mi.transform(X_val)\n"
   ]
  },
  {
   "cell_type": "code",
   "execution_count": 70,
   "metadata": {},
   "outputs": [
    {
     "name": "stdout",
     "output_type": "stream",
     "text": [
      "ROC-AUC на валидационных данных: 0.75\n"
     ]
    },
    {
     "data": {
      "image/png": "[encoded data removed]",
      "text/plain": [
       "<Figure size 800x600 with 1 Axes>"
      ]
     },
     "metadata": {},
     "output_type": "display_data"
    }
   ],
   "source": [
    "model = LogisticRegression()\n",
    "model.fit(X_train_new, y_train)\n",
    "\n",
    "y_val_pred_probs = model.predict_proba(X_val_new)[:, 1]\n",
    "\n",
    "roc_auc = roc_auc_score(y_val, y_val_pred_probs)\n",
    "print(f\"ROC-AUC на валидационных данных: {roc_auc:.2f}\")\n",
    "\n",
    "fpr, tpr, thresholds = roc_curve(y_val - 1, y_val_pred_probs)\n",
    "plt.figure(figsize=(8, 6))\n",
    "plt.plot(fpr, tpr, label=f'ROC-Kривая (AUC = {roc_auc:.2f})')\n",
    "plt.plot([0, 1], [0, 1], 'k--', label='Случайное угадывание')\n",
    "plt.xlabel('False Positive Rate')\n",
    "plt.ylabel('True Positive Rate')\n",
    "plt.title('ROC-Кривая')\n",
    "plt.legend(loc='lower right')\n",
    "plt.show()"
   ]
  },
  {
   "cell_type": "code",
   "execution_count": 71,
   "metadata": {},
   "outputs": [],
   "source": [
    "from sklearn.feature_selection import RFE\n",
    "from sklearn.linear_model import LogisticRegression\n",
    "\n",
    "model = LogisticRegression()\n",
    "rfe = RFE(model, n_features_to_select=10)\n",
    "X_train_new = rfe.fit_transform(X_train, y_train)\n",
    "X_val_new = rfe.transform(X_val)"
   ]
  },
  {
   "cell_type": "code",
   "execution_count": 72,
   "metadata": {},
   "outputs": [
    {
     "name": "stdout",
     "output_type": "stream",
     "text": [
      "ROC-AUC на валидационных данных: 0.60\n"
     ]
    },
    {
     "data": {
      "image/png": "[encoded data removed]",
      "text/plain": [
       "<Figure size 800x600 with 1 Axes>"
      ]
     },
     "metadata": {},
     "output_type": "display_data"
    }
   ],
   "source": [
    "model.fit(X_train_new, y_train)\n",
    "\n",
    "y_val_pred_probs = model.predict_proba(X_val_new)[:, 1]\n",
    "\n",
    "roc_auc = roc_auc_score(y_val, y_val_pred_probs)\n",
    "print(f\"ROC-AUC на валидационных данных: {roc_auc:.2f}\")\n",
    "\n",
    "fpr, tpr, thresholds = roc_curve(y_val - 1, y_val_pred_probs)\n",
    "plt.figure(figsize=(8, 6))\n",
    "plt.plot(fpr, tpr, label=f'ROC-Kривая (AUC = {roc_auc:.2f})')\n",
    "plt.plot([0, 1], [0, 1], 'k--', label='Случайное угадывание')\n",
    "plt.xlabel('False Positive Rate')\n",
    "plt.ylabel('True Positive Rate')\n",
    "plt.title('ROC-Кривая')\n",
    "plt.legend(loc='lower right')\n",
    "plt.show()"
   ]
  },
  {
   "cell_type": "code",
   "execution_count": 73,
   "metadata": {},
   "outputs": [],
   "source": [
    "from sklearn.ensemble import RandomForestClassifier\n",
    "from sklearn.feature_selection import SelectFromModel\n",
    "\n",
    "# На основе важности в случайном лесу\n",
    "rf = RandomForestClassifier()\n",
    "rf.fit(X_train, y_train)\n",
    "\n",
    "selector = SelectFromModel(rf, threshold=\"median\")\n",
    "X_train_new = selector.fit_transform(X_train, y_train)\n",
    "X_val_new = selector.transform(X_val)\n"
   ]
  },
  {
   "cell_type": "code",
   "execution_count": 74,
   "metadata": {},
   "outputs": [
    {
     "name": "stdout",
     "output_type": "stream",
     "text": [
      "ROC-AUC на валидационных данных: 0.61\n"
     ]
    },
    {
     "data": {
      "image/png": "[encoded data removed]",
      "text/plain": [
       "<Figure size 800x600 with 1 Axes>"
      ]
     },
     "metadata": {},
     "output_type": "display_data"
    }
   ],
   "source": [
    "model = LogisticRegression()\n",
    "model.fit(X_train_new, y_train)\n",
    "\n",
    "y_val_pred_probs = model.predict_proba(X_val_new)[:, 1]\n",
    "\n",
    "roc_auc = roc_auc_score(y_val, y_val_pred_probs)\n",
    "print(f\"ROC-AUC на валидационных данных: {roc_auc:.2f}\")\n",
    "\n",
    "fpr, tpr, thresholds = roc_curve(y_val - 1, y_val_pred_probs)\n",
    "plt.figure(figsize=(8, 6))\n",
    "plt.plot(fpr, tpr, label=f'ROC-Kривая (AUC = {roc_auc:.2f})')\n",
    "plt.plot([0, 1], [0, 1], 'k--', label='Случайное угадывание')\n",
    "plt.xlabel('False Positive Rate')\n",
    "plt.ylabel('True Positive Rate')\n",
    "plt.title('ROC-Кривая')\n",
    "plt.legend(loc='lower right')\n",
    "plt.show()"
   ]
  },
  {
   "cell_type": "markdown",
   "metadata": {},
   "source": [
    "Лучше всего себя показал отбор по F-статистике. Выбираем сколько признаков отбирать"
   ]
  },
  {
   "cell_type": "code",
   "execution_count": 75,
   "metadata": {},
   "outputs": [
    {
     "name": "stdout",
     "output_type": "stream",
     "text": [
      "число признаков: 1, ROC-AUC на валидационных данных: 0.7363\n",
      "число признаков: 2, ROC-AUC на валидационных данных: 0.7531\n",
      "число признаков: 3, ROC-AUC на валидационных данных: 0.7549\n",
      "число признаков: 4, ROC-AUC на валидационных данных: 0.7551\n",
      "число признаков: 5, ROC-AUC на валидационных данных: 0.7524\n",
      "число признаков: 6, ROC-AUC на валидационных данных: 0.7534\n",
      "число признаков: 7, ROC-AUC на валидационных данных: 0.7570\n",
      "число признаков: 8, ROC-AUC на валидационных данных: 0.7627\n",
      "число признаков: 9, ROC-AUC на валидационных данных: 0.7628\n",
      "число признаков: 10, ROC-AUC на валидационных данных: 0.7626\n",
      "число признаков: 11, ROC-AUC на валидационных данных: 0.7626\n",
      "число признаков: 12, ROC-AUC на валидационных данных: 0.6519\n",
      "число признаков: 13, ROC-AUC на валидационных данных: 0.6519\n",
      "число признаков: 14, ROC-AUC на валидационных данных: 0.6017\n",
      "число признаков: 15, ROC-AUC на валидационных данных: 0.6248\n",
      "число признаков: 16, ROC-AUC на валидационных данных: 0.6248\n",
      "число признаков: 19, ROC-AUC на валидационных данных: 0.6248\n",
      "число признаков: 22, ROC-AUC на валидационных данных: 0.6234\n"
     ]
    }
   ],
   "source": [
    "for k in [1, 2, 3, 4, 5, 6, 7, 8, 9, 10, 11, 12, 13, 14, 15, 16, 19, 22]:\n",
    "    selector = SelectKBest(f_classif, k=k)\n",
    "    X_train_new = selector.fit_transform(X_train, y_train)\n",
    "    X_val_new = selector.transform(X_val)\n",
    "    model = LogisticRegression()\n",
    "    model.fit(X_train_new, y_train)\n",
    "\n",
    "    y_val_pred_probs = model.predict_proba(X_val_new)[:, 1]\n",
    "\n",
    "    roc_auc = roc_auc_score(y_val, y_val_pred_probs)\n",
    "    print(f\"число признаков: {k}, ROC-AUC на валидационных данных: {roc_auc:.4f}\")"
   ]
  },
  {
   "cell_type": "markdown",
   "metadata": {},
   "source": [
    "Будем брать 8, так как на 12 качество резко падает и лучше сделать отступ от 12, но и взять побольше. Это будет финальная линейная модель на основе только PGS. Теперь измерим качество модели на всех PGS и на 10 отбираемых. Измерим проведя кросс-валидацию на 5 частях и усреднив результат. Для каждого из 5 разбиений на train и test полность повторим процесс обучения."
   ]
  },
  {
   "cell_type": "code",
   "execution_count": 76,
   "metadata": {},
   "outputs": [
    {
     "name": "stdout",
     "output_type": "stream",
     "text": [
      "1\n",
      "файл ./train_1.bim, содержит 591998 SNP\n",
      "Найдено 76 PGS\n",
      "\n",
      "==========================================\n",
      "Обработка PGS: PGS003725\n",
      "PGS PGS003725, содержит 1296172 SNP\n",
      "Файл содержит позиционную информацию вместо rsID. Создаем синтетиические идентификаторы.\n",
      "Количество SNP в PGS: 1296172\n",
      "Количество общих SNP: 456468\n",
      "Процент покрытия: 35.22%\n",
      "Выполняем расчет PGS PGS003725\n"
     ]
    },
    {
     "name": "stderr",
     "output_type": "stream",
     "text": [
      "Python(16656) MallocStackLogging: can't turn off malloc stack logging because it was not enabled.\n"
     ]
    },
    {
     "name": "stdout",
     "output_type": "stream",
     "text": [
      "PGS PGS003725 успешно рассчитан\n",
      "\n",
      "==========================================\n",
      "Обработка PGS: PGS000748\n",
      "PGS PGS000748, содержит 3423987 SNP\n",
      "Файл содержит позиционную информацию вместо rsID. Создаем синтетиические идентификаторы.\n",
      "Количество SNP в PGS: 3423987\n",
      "Количество общих SNP: 416579\n",
      "Процент покрытия: 12.17%\n",
      "Выполняем расчет PGS PGS000748\n"
     ]
    },
    {
     "name": "stderr",
     "output_type": "stream",
     "text": [
      "Python(16679) MallocStackLogging: can't turn off malloc stack logging because it was not enabled.\n"
     ]
    },
    {
     "name": "stdout",
     "output_type": "stream",
     "text": [
      "PGS PGS000748 успешно рассчитан\n",
      "\n",
      "==========================================\n",
      "Обработка PGS: PGS000012\n",
      "PGS PGS000012, содержит 49310 SNP\n",
      "Количество SNP в PGS: 49310\n",
      "Количество общих SNP: 15881\n",
      "Процент покрытия: 32.21%\n",
      "Выполняем расчет PGS PGS000012\n"
     ]
    },
    {
     "name": "stderr",
     "output_type": "stream",
     "text": [
      "Python(16681) MallocStackLogging: can't turn off malloc stack logging because it was not enabled.\n"
     ]
    },
    {
     "name": "stdout",
     "output_type": "stream",
     "text": [
      "PGS PGS000012 успешно рассчитан\n",
      "\n",
      "==========================================\n",
      "Обработка PGS: PGS003446\n",
      "PGS PGS003446, содержит 538084 SNP\n",
      "Файл содержит позиционную информацию вместо rsID. Создаем синтетиические идентификаторы.\n",
      "Количество SNP в PGS: 538084\n",
      "Количество общих SNP: 25529\n",
      "Процент покрытия: 4.74%\n",
      "Выполняем расчет PGS PGS003446\n"
     ]
    },
    {
     "name": "stderr",
     "output_type": "stream",
     "text": [
      "Python(16684) MallocStackLogging: can't turn off malloc stack logging because it was not enabled.\n"
     ]
    },
    {
     "name": "stdout",
     "output_type": "stream",
     "text": [
      "PGS PGS003446 успешно рассчитан\n",
      "\n",
      "==========================================\n",
      "Обработка PGS: PGS004513\n",
      "PGS PGS004513, содержит 1059939 SNP\n",
      "Количество SNP в PGS: 1059939\n",
      "Количество общих SNP: 442559\n",
      "Процент покрытия: 41.75%\n",
      "Выполняем расчет PGS PGS004513\n"
     ]
    },
    {
     "name": "stderr",
     "output_type": "stream",
     "text": [
      "Python(16774) MallocStackLogging: can't turn off malloc stack logging because it was not enabled.\n"
     ]
    },
    {
     "name": "stdout",
     "output_type": "stream",
     "text": [
      "PGS PGS004513 успешно рассчитан\n",
      "\n",
      "==========================================\n",
      "Обработка PGS: PGS000013\n",
      "PGS PGS000013, содержит 6630150 SNP\n",
      "Файл содержит позиционную информацию вместо rsID. Создаем синтетиические идентификаторы.\n",
      "Количество SNP в PGS: 6630150\n",
      "Количество общих SNP: 495928\n",
      "Процент покрытия: 7.48%\n",
      "Выполняем расчет PGS PGS000013\n"
     ]
    },
    {
     "name": "stderr",
     "output_type": "stream",
     "text": [
      "Python(16813) MallocStackLogging: can't turn off malloc stack logging because it was not enabled.\n"
     ]
    },
    {
     "name": "stdout",
     "output_type": "stream",
     "text": [
      "PGS PGS000013 успешно рассчитан\n",
      "\n",
      "==========================================\n",
      "Обработка PGS: PGS005143\n",
      "PGS PGS005143, содержит 943274 SNP\n",
      "Количество SNP в PGS: 943274\n",
      "Количество общих SNP: 395304\n",
      "Процент покрытия: 41.91%\n",
      "Выполняем расчет PGS PGS005143\n"
     ]
    },
    {
     "name": "stderr",
     "output_type": "stream",
     "text": [
      "Python(16879) MallocStackLogging: can't turn off malloc stack logging because it was not enabled.\n"
     ]
    },
    {
     "name": "stdout",
     "output_type": "stream",
     "text": [
      "PGS PGS005143 успешно рассчитан\n",
      "\n",
      "==========================================\n",
      "Обработка PGS: PGS003726\n",
      "PGS PGS003726, содержит 1296172 SNP\n",
      "Файл содержит позиционную информацию вместо rsID. Создаем синтетиические идентификаторы.\n",
      "Количество SNP в PGS: 1296172\n",
      "Количество общих SNP: 456468\n",
      "Процент покрытия: 35.22%\n",
      "Выполняем расчет PGS PGS003726\n"
     ]
    },
    {
     "name": "stderr",
     "output_type": "stream",
     "text": [
      "Python(16919) MallocStackLogging: can't turn off malloc stack logging because it was not enabled.\n"
     ]
    },
    {
     "name": "stdout",
     "output_type": "stream",
     "text": [
      "PGS PGS003726 успешно рассчитан\n",
      "\n",
      "==========================================\n",
      "Обработка PGS: PGS002809\n",
      "PGS PGS002809, содержит 205 SNP\n",
      "Количество SNP в PGS: 205\n",
      "Количество общих SNP: 48\n",
      "Процент покрытия: 23.41%\n",
      "Выполняем расчет PGS PGS002809\n"
     ]
    },
    {
     "name": "stderr",
     "output_type": "stream",
     "text": [
      "Python(16921) MallocStackLogging: can't turn off malloc stack logging because it was not enabled.\n"
     ]
    },
    {
     "name": "stdout",
     "output_type": "stream",
     "text": [
      "PGS PGS002809 успешно рассчитан\n",
      "\n",
      "==========================================\n",
      "Обработка PGS: PGS000011\n",
      "PGS PGS000011, содержит 50 SNP\n",
      "Количество SNP в PGS: 50\n",
      "Количество общих SNP: 22\n",
      "Процент покрытия: 44.00%\n",
      "Выполняем расчет PGS PGS000011\n"
     ]
    },
    {
     "name": "stderr",
     "output_type": "stream",
     "text": [
      "Python(16922) MallocStackLogging: can't turn off malloc stack logging because it was not enabled.\n"
     ]
    },
    {
     "name": "stdout",
     "output_type": "stream",
     "text": [
      "PGS PGS000011 успешно рассчитан\n",
      "\n",
      "==========================================\n",
      "Обработка PGS: PGS000818\n",
      "PGS PGS000818, содержит 138 SNP\n",
      "Количество SNP в PGS: 138\n",
      "Количество общих SNP: 42\n",
      "Процент покрытия: 30.43%\n",
      "Выполняем расчет PGS PGS000818\n"
     ]
    },
    {
     "name": "stderr",
     "output_type": "stream",
     "text": [
      "Python(16923) MallocStackLogging: can't turn off malloc stack logging because it was not enabled.\n"
     ]
    },
    {
     "name": "stdout",
     "output_type": "stream",
     "text": [
      "PGS PGS000818 успешно рассчитан\n",
      "\n",
      "==========================================\n",
      "Обработка PGS: PGS004698\n",
      "PGS PGS004698, содержит 542218 SNP\n",
      "Файл содержит позиционную информацию вместо rsID. Создаем синтетиические идентификаторы.\n",
      "Количество SNP в PGS: 542218\n",
      "Количество общих SNP: 26884\n",
      "Процент покрытия: 4.96%\n",
      "Выполняем расчет PGS PGS004698\n"
     ]
    },
    {
     "name": "stderr",
     "output_type": "stream",
     "text": [
      "Python(16926) MallocStackLogging: can't turn off malloc stack logging because it was not enabled.\n"
     ]
    },
    {
     "name": "stdout",
     "output_type": "stream",
     "text": [
      "PGS PGS004698 успешно рассчитан\n",
      "\n",
      "==========================================\n",
      "Обработка PGS: PGS000010\n",
      "PGS PGS000010, содержит 27 SNP\n",
      "Количество SNP в PGS: 27\n",
      "Количество общих SNP: 14\n",
      "Процент покрытия: 51.85%\n",
      "Выполняем расчет PGS PGS000010\n"
     ]
    },
    {
     "name": "stderr",
     "output_type": "stream",
     "text": [
      "Python(16927) MallocStackLogging: can't turn off malloc stack logging because it was not enabled.\n"
     ]
    },
    {
     "name": "stdout",
     "output_type": "stream",
     "text": [
      "PGS PGS000010 успешно рассчитан\n",
      "\n",
      "==========================================\n",
      "Обработка PGS: PGS003727\n",
      "PGS PGS003727, содержит 1125113 SNP\n",
      "Файл содержит позиционную информацию вместо rsID. Создаем синтетиические идентификаторы.\n",
      "Количество SNP в PGS: 1125113\n",
      "Количество общих SNP: 455311\n",
      "Процент покрытия: 40.47%\n",
      "Выполняем расчет PGS PGS003727\n"
     ]
    },
    {
     "name": "stderr",
     "output_type": "stream",
     "text": [
      "Python(16953) MallocStackLogging: can't turn off malloc stack logging because it was not enabled.\n"
     ]
    },
    {
     "name": "stdout",
     "output_type": "stream",
     "text": [
      "PGS PGS003727 успешно рассчитан\n",
      "\n",
      "==========================================\n",
      "Обработка PGS: PGS004921\n",
      "PGS PGS004921, содержит 161 SNP\n",
      "Количество SNP в PGS: 161\n",
      "Количество общих SNP: 30\n",
      "Процент покрытия: 18.63%\n",
      "Выполняем расчет PGS PGS004921\n"
     ]
    },
    {
     "name": "stderr",
     "output_type": "stream",
     "text": [
      "Python(16954) MallocStackLogging: can't turn off malloc stack logging because it was not enabled.\n"
     ]
    },
    {
     "name": "stdout",
     "output_type": "stream",
     "text": [
      "PGS PGS004921 успешно рассчитан\n",
      "\n",
      "==========================================\n",
      "Обработка PGS: PGS004919\n",
      "PGS PGS004919, содержит 50 SNP\n",
      "Количество SNP в PGS: 50\n",
      "Количество общих SNP: 22\n",
      "Процент покрытия: 44.00%\n",
      "Выполняем расчет PGS PGS004919\n"
     ]
    },
    {
     "name": "stderr",
     "output_type": "stream",
     "text": [
      "Python(16955) MallocStackLogging: can't turn off malloc stack logging because it was not enabled.\n"
     ]
    },
    {
     "name": "stdout",
     "output_type": "stream",
     "text": [
      "PGS PGS004919 успешно рассчитан\n",
      "\n",
      "==========================================\n",
      "Обработка PGS: PGS004925\n",
      "PGS PGS004925, содержит 300 SNP\n",
      "Количество SNP в PGS: 300\n",
      "Количество общих SNP: 46\n",
      "Процент покрытия: 15.33%\n",
      "Выполняем расчет PGS PGS004925\n"
     ]
    },
    {
     "name": "stderr",
     "output_type": "stream",
     "text": [
      "Python(16956) MallocStackLogging: can't turn off malloc stack logging because it was not enabled.\n"
     ]
    },
    {
     "name": "stdout",
     "output_type": "stream",
     "text": [
      "PGS PGS004925 успешно рассчитан\n",
      "\n",
      "==========================================\n",
      "Обработка PGS: PGS004514\n",
      "PGS PGS004514, содержит 1059939 SNP\n",
      "Количество SNP в PGS: 1059939\n",
      "Количество общих SNP: 442559\n",
      "Процент покрытия: 41.75%\n",
      "Выполняем расчет PGS PGS004514\n"
     ]
    },
    {
     "name": "stderr",
     "output_type": "stream",
     "text": [
      "Python(16967) MallocStackLogging: can't turn off malloc stack logging because it was not enabled.\n"
     ]
    },
    {
     "name": "stdout",
     "output_type": "stream",
     "text": [
      "PGS PGS004514 успешно рассчитан\n",
      "\n",
      "==========================================\n",
      "Обработка PGS: PGS004306\n",
      "PGS PGS004306, содержит 4000 SNP\n",
      "Файл содержит позиционную информацию вместо rsID. Создаем синтетиические идентификаторы.\n",
      "Количество SNP в PGS: 4000\n",
      "Количество общих SNP: 1576\n",
      "Процент покрытия: 39.40%\n",
      "Выполняем расчет PGS PGS004306\n"
     ]
    },
    {
     "name": "stderr",
     "output_type": "stream",
     "text": [
      "Python(16968) MallocStackLogging: can't turn off malloc stack logging because it was not enabled.\n"
     ]
    },
    {
     "name": "stdout",
     "output_type": "stream",
     "text": [
      "PGS PGS004306 успешно рассчитан\n",
      "\n",
      "==========================================\n",
      "Обработка PGS: PGS004879\n",
      "PGS PGS004879, содержит 610677 SNP\n",
      "Количество SNP в PGS: 610677\n",
      "Количество общих SNP: 259008\n",
      "Процент покрытия: 42.41%\n",
      "Выполняем расчет PGS PGS004879\n"
     ]
    },
    {
     "name": "stderr",
     "output_type": "stream",
     "text": [
      "Python(17055) MallocStackLogging: can't turn off malloc stack logging because it was not enabled.\n"
     ]
    },
    {
     "name": "stdout",
     "output_type": "stream",
     "text": [
      "PGS PGS004879 успешно рассчитан\n",
      "\n",
      "==========================================\n",
      "Обработка PGS: PGS004307\n",
      "PGS PGS004307, содержит 4000 SNP\n",
      "Файл содержит позиционную информацию вместо rsID. Создаем синтетиические идентификаторы.\n",
      "Количество SNP в PGS: 4000\n",
      "Количество общих SNP: 1596\n",
      "Процент покрытия: 39.90%\n",
      "Выполняем расчет PGS PGS004307\n"
     ]
    },
    {
     "name": "stderr",
     "output_type": "stream",
     "text": [
      "Python(17056) MallocStackLogging: can't turn off malloc stack logging because it was not enabled.\n"
     ]
    },
    {
     "name": "stdout",
     "output_type": "stream",
     "text": [
      "PGS PGS004307 успешно рассчитан\n",
      "\n",
      "==========================================\n",
      "Обработка PGS: PGS002776\n",
      "PGS PGS002776, содержит 390782 SNP\n",
      "Количество SNP в PGS: 390782\n",
      "Количество общих SNP: 44688\n",
      "Процент покрытия: 11.44%\n",
      "Выполняем расчет PGS PGS002776\n"
     ]
    },
    {
     "name": "stderr",
     "output_type": "stream",
     "text": [
      "Python(17057) MallocStackLogging: can't turn off malloc stack logging because it was not enabled.\n"
     ]
    },
    {
     "name": "stdout",
     "output_type": "stream",
     "text": [
      "PGS PGS002776 успешно рассчитан\n",
      "\n",
      "==========================================\n",
      "Обработка PGS: PGS000798\n",
      "PGS PGS000798, содержит 157 SNP\n",
      "Количество SNP в PGS: 157\n",
      "Количество общих SNP: 29\n",
      "Процент покрытия: 18.47%\n",
      "Выполняем расчет PGS PGS000798\n"
     ]
    },
    {
     "name": "stderr",
     "output_type": "stream",
     "text": [
      "Python(17059) MallocStackLogging: can't turn off malloc stack logging because it was not enabled.\n"
     ]
    },
    {
     "name": "stdout",
     "output_type": "stream",
     "text": [
      "PGS PGS000798 успешно рассчитан\n",
      "\n",
      "==========================================\n",
      "Обработка PGS: PGS004305\n",
      "PGS PGS004305, содержит 3000 SNP\n",
      "Файл содержит позиционную информацию вместо rsID. Создаем синтетиические идентификаторы.\n",
      "Количество SNP в PGS: 3000\n",
      "Количество общих SNP: 1127\n",
      "Процент покрытия: 37.57%\n",
      "Выполняем расчет PGS PGS004305\n"
     ]
    },
    {
     "name": "stderr",
     "output_type": "stream",
     "text": [
      "Python(17060) MallocStackLogging: can't turn off malloc stack logging because it was not enabled.\n"
     ]
    },
    {
     "name": "stdout",
     "output_type": "stream",
     "text": [
      "PGS PGS004305 успешно рассчитан\n",
      "\n",
      "==========================================\n",
      "Обработка PGS: PGS000349\n",
      "PGS PGS000349, содержит 70 SNP\n",
      "Количество SNP в PGS: 70\n",
      "Количество общих SNP: 24\n",
      "Процент покрытия: 34.29%\n",
      "Выполняем расчет PGS PGS000349\n"
     ]
    },
    {
     "name": "stderr",
     "output_type": "stream",
     "text": [
      "Python(17062) MallocStackLogging: can't turn off malloc stack logging because it was not enabled.\n"
     ]
    },
    {
     "name": "stdout",
     "output_type": "stream",
     "text": [
      "PGS PGS000349 успешно рассчитан\n",
      "\n",
      "==========================================\n",
      "Обработка PGS: PGS003866\n",
      "PGS PGS003866, содержит 10440 SNP\n",
      "Количество SNP в PGS: 10440\n",
      "Количество общих SNP: 4335\n",
      "Процент покрытия: 41.52%\n",
      "Выполняем расчет PGS PGS003866\n"
     ]
    },
    {
     "name": "stderr",
     "output_type": "stream",
     "text": [
      "Python(17063) MallocStackLogging: can't turn off malloc stack logging because it was not enabled.\n"
     ]
    },
    {
     "name": "stdout",
     "output_type": "stream",
     "text": [
      "PGS PGS003866 успешно рассчитан\n",
      "\n",
      "==========================================\n",
      "Обработка PGS: PGS002775\n",
      "PGS PGS002775, содержит 1059 SNP\n",
      "Количество SNP в PGS: 1059\n",
      "Количество общих SNP: 180\n",
      "Процент покрытия: 17.00%\n",
      "Выполняем расчет PGS PGS002775\n"
     ]
    },
    {
     "name": "stderr",
     "output_type": "stream",
     "text": [
      "Python(17064) MallocStackLogging: can't turn off malloc stack logging because it was not enabled.\n"
     ]
    },
    {
     "name": "stdout",
     "output_type": "stream",
     "text": [
      "PGS PGS002775 успешно рассчитан\n",
      "\n",
      "==========================================\n",
      "Обработка PGS: PGS005152\n",
      "PGS PGS005152, содержит 943274 SNP\n",
      "Количество SNP в PGS: 943274\n",
      "Количество общих SNP: 395304\n",
      "Процент покрытия: 41.91%\n",
      "Выполняем расчет PGS PGS005152\n"
     ]
    },
    {
     "name": "stderr",
     "output_type": "stream",
     "text": [
      "Python(17079) MallocStackLogging: can't turn off malloc stack logging because it was not enabled.\n"
     ]
    },
    {
     "name": "stdout",
     "output_type": "stream",
     "text": [
      "PGS PGS005152 успешно рассчитан\n",
      "\n",
      "==========================================\n",
      "Обработка PGS: PGS000200\n",
      "PGS PGS000200, содержит 28 SNP\n",
      "Количество SNP в PGS: 28\n",
      "Количество общих SNP: 15\n",
      "Процент покрытия: 53.57%\n",
      "Выполняем расчет PGS PGS000200\n"
     ]
    },
    {
     "name": "stderr",
     "output_type": "stream",
     "text": [
      "Python(17080) MallocStackLogging: can't turn off malloc stack logging because it was not enabled.\n"
     ]
    },
    {
     "name": "stdout",
     "output_type": "stream",
     "text": [
      "PGS PGS000200 успешно рассчитан\n",
      "\n",
      "==========================================\n",
      "Обработка PGS: PGS000059\n",
      "PGS PGS000059, содержит 46 SNP\n",
      "Количество SNP в PGS: 46\n",
      "Количество общих SNP: 18\n",
      "Процент покрытия: 39.13%\n",
      "Выполняем расчет PGS PGS000059\n"
     ]
    },
    {
     "name": "stderr",
     "output_type": "stream",
     "text": [
      "Python(17081) MallocStackLogging: can't turn off malloc stack logging because it was not enabled.\n"
     ]
    },
    {
     "name": "stdout",
     "output_type": "stream",
     "text": [
      "PGS PGS000059 успешно рассчитан\n",
      "\n",
      "==========================================\n",
      "Обработка PGS: PGS003356\n",
      "PGS PGS003356, содержит 2324683 SNP\n",
      "Файл содержит позиционную информацию вместо rsID. Создаем синтетиические идентификаторы.\n",
      "Количество SNP в PGS: 2324683\n",
      "Количество общих SNP: 497605\n",
      "Процент покрытия: 21.41%\n",
      "Выполняем расчет PGS PGS003356\n"
     ]
    },
    {
     "name": "stderr",
     "output_type": "stream",
     "text": [
      "Python(17102) MallocStackLogging: can't turn off malloc stack logging because it was not enabled.\n"
     ]
    },
    {
     "name": "stdout",
     "output_type": "stream",
     "text": [
      "PGS PGS003356 успешно рассчитан\n",
      "\n",
      "==========================================\n",
      "Обработка PGS: PGS002048\n",
      "PGS PGS002048, содержит 762124 SNP\n",
      "Количество SNP в PGS: 762124\n",
      "Количество общих SNP: 322896\n",
      "Процент покрытия: 42.37%\n",
      "Выполняем расчет PGS PGS002048\n"
     ]
    },
    {
     "name": "stderr",
     "output_type": "stream",
     "text": [
      "Python(17108) MallocStackLogging: can't turn off malloc stack logging because it was not enabled.\n"
     ]
    },
    {
     "name": "stdout",
     "output_type": "stream",
     "text": [
      "PGS PGS002048 успешно рассчитан\n",
      "\n",
      "==========================================\n",
      "Обработка PGS: PGS001780\n",
      "PGS PGS001780, содержит 1090048 SNP\n",
      "Количество SNP в PGS: 1090048\n",
      "Количество общих SNP: 450206\n",
      "Процент покрытия: 41.30%\n",
      "Выполняем расчет PGS PGS001780\n"
     ]
    },
    {
     "name": "stderr",
     "output_type": "stream",
     "text": [
      "Python(17197) MallocStackLogging: can't turn off malloc stack logging because it was not enabled.\n"
     ]
    },
    {
     "name": "stdout",
     "output_type": "stream",
     "text": [
      "PGS PGS001780 успешно рассчитан\n",
      "\n",
      "==========================================\n",
      "Обработка PGS: PGS002262\n",
      "PGS PGS002262, содержит 540 SNP\n",
      "Количество SNP в PGS: 540\n",
      "Количество общих SNP: 136\n",
      "Процент покрытия: 25.19%\n",
      "Выполняем расчет PGS PGS002262\n"
     ]
    },
    {
     "name": "stderr",
     "output_type": "stream",
     "text": [
      "Python(17201) MallocStackLogging: can't turn off malloc stack logging because it was not enabled.\n"
     ]
    },
    {
     "name": "stdout",
     "output_type": "stream",
     "text": [
      "PGS PGS002262 успешно рассчитан\n",
      "\n",
      "==========================================\n",
      "Обработка PGS: PGS000058\n",
      "PGS PGS000058, содержит 204 SNP\n",
      "Количество SNP в PGS: 204\n",
      "Количество общих SNP: 41\n",
      "Процент покрытия: 20.10%\n",
      "Выполняем расчет PGS PGS000058\n"
     ]
    },
    {
     "name": "stderr",
     "output_type": "stream",
     "text": [
      "Python(17202) MallocStackLogging: can't turn off malloc stack logging because it was not enabled.\n"
     ]
    },
    {
     "name": "stdout",
     "output_type": "stream",
     "text": [
      "PGS PGS000058 успешно рассчитан\n",
      "\n",
      "==========================================\n",
      "Обработка PGS: PGS001839\n",
      "PGS PGS001839, содержит 25425 SNP\n",
      "Количество SNP в PGS: 25425\n",
      "Количество общих SNP: 11260\n",
      "Процент покрытия: 44.29%\n",
      "Выполняем расчет PGS PGS001839\n"
     ]
    },
    {
     "name": "stderr",
     "output_type": "stream",
     "text": [
      "Python(17203) MallocStackLogging: can't turn off malloc stack logging because it was not enabled.\n"
     ]
    },
    {
     "name": "stdout",
     "output_type": "stream",
     "text": [
      "PGS PGS001839 успешно рассчитан\n",
      "\n",
      "==========================================\n",
      "Обработка PGS: PGS004941\n",
      "PGS PGS004941, содержит 3711629 SNP\n",
      "Файл содержит позиционную информацию вместо rsID. Создаем синтетиические идентификаторы.\n",
      "Количество SNP в PGS: 3711629\n",
      "Количество общих SNP: 429616\n",
      "Процент покрытия: 11.57%\n",
      "Выполняем расчет PGS PGS004941\n"
     ]
    },
    {
     "name": "stderr",
     "output_type": "stream",
     "text": [
      "Python(17234) MallocStackLogging: can't turn off malloc stack logging because it was not enabled.\n"
     ]
    },
    {
     "name": "stdout",
     "output_type": "stream",
     "text": [
      "PGS PGS004941 успешно рассчитан\n",
      "\n",
      "==========================================\n",
      "Обработка PGS: PGS004200\n",
      "PGS PGS004200, содержит 8361 SNP\n",
      "Количество SNP в PGS: 8361\n",
      "Количество общих SNP: 899\n",
      "Процент покрытия: 10.75%\n",
      "Выполняем расчет PGS PGS004200\n"
     ]
    },
    {
     "name": "stderr",
     "output_type": "stream",
     "text": [
      "Python(17236) MallocStackLogging: can't turn off malloc stack logging because it was not enabled.\n"
     ]
    },
    {
     "name": "stdout",
     "output_type": "stream",
     "text": [
      "PGS PGS004200 успешно рассчитан\n",
      "\n",
      "==========================================\n",
      "Обработка PGS: PGS003355\n",
      "PGS PGS003355, содержит 1532758 SNP\n",
      "Файл содержит позиционную информацию вместо rsID. Создаем синтетиические идентификаторы.\n",
      "Количество SNP в PGS: 1532758\n",
      "Количество общих SNP: 116470\n",
      "Процент покрытия: 7.60%\n",
      "Выполняем расчет PGS PGS003355\n"
     ]
    },
    {
     "name": "stderr",
     "output_type": "stream",
     "text": [
      "Python(17241) MallocStackLogging: can't turn off malloc stack logging because it was not enabled.\n"
     ]
    },
    {
     "name": "stdout",
     "output_type": "stream",
     "text": [
      "PGS PGS003355 успешно рассчитан\n",
      "\n",
      "==========================================\n",
      "Обработка PGS: PGS001355\n",
      "PGS PGS001355, содержит 2994055 SNP\n",
      "Количество SNP в PGS: 2994055\n",
      "Количество общих SNP: 317044\n",
      "Процент покрытия: 10.59%\n",
      "Выполняем расчет PGS PGS001355\n"
     ]
    },
    {
     "name": "stderr",
     "output_type": "stream",
     "text": [
      "Python(17245) MallocStackLogging: can't turn off malloc stack logging because it was not enabled.\n"
     ]
    },
    {
     "name": "stdout",
     "output_type": "stream",
     "text": [
      "PGS PGS001355 успешно рассчитан\n",
      "\n",
      "==========================================\n",
      "Обработка PGS: PGS004198\n",
      "PGS PGS004198, содержит 5723 SNP\n",
      "Количество SNP в PGS: 5723\n",
      "Количество общих SNP: 670\n",
      "Процент покрытия: 11.71%\n",
      "Выполняем расчет PGS PGS004198\n"
     ]
    },
    {
     "name": "stderr",
     "output_type": "stream",
     "text": [
      "Python(17246) MallocStackLogging: can't turn off malloc stack logging because it was not enabled.\n"
     ]
    },
    {
     "name": "stdout",
     "output_type": "stream",
     "text": [
      "PGS PGS004198 успешно рассчитан\n",
      "\n",
      "==========================================\n",
      "Обработка PGS: PGS000329\n",
      "PGS PGS000329, содержит 6423165 SNP\n",
      "Количество SNP в PGS: 6423165\n",
      "Количество общих SNP: 490575\n",
      "Процент покрытия: 7.64%\n",
      "Выполняем расчет PGS PGS000329\n"
     ]
    },
    {
     "name": "stderr",
     "output_type": "stream",
     "text": [
      "Python(17346) MallocStackLogging: can't turn off malloc stack logging because it was not enabled.\n"
     ]
    },
    {
     "name": "stdout",
     "output_type": "stream",
     "text": [
      "PGS PGS000329 успешно рассчитан\n",
      "\n",
      "==========================================\n",
      "Обработка PGS: PGS004199\n",
      "PGS PGS004199, содержит 6085 SNP\n",
      "Количество SNP в PGS: 6085\n",
      "Количество общих SNP: 682\n",
      "Процент покрытия: 11.21%\n",
      "Выполняем расчет PGS PGS004199\n"
     ]
    },
    {
     "name": "stderr",
     "output_type": "stream",
     "text": [
      "Python(17348) MallocStackLogging: can't turn off malloc stack logging because it was not enabled.\n"
     ]
    },
    {
     "name": "stdout",
     "output_type": "stream",
     "text": [
      "PGS PGS004199 успешно рассчитан\n",
      "\n",
      "==========================================\n",
      "Обработка PGS: PGS000116\n",
      "PGS PGS000116, содержит 40079 SNP\n",
      "Количество SNP в PGS: 40079\n",
      "Количество общих SNP: 3662\n",
      "Процент покрытия: 9.14%\n",
      "Выполняем расчет PGS PGS000116\n"
     ]
    },
    {
     "name": "stderr",
     "output_type": "stream",
     "text": [
      "Python(17349) MallocStackLogging: can't turn off malloc stack logging because it was not enabled.\n"
     ]
    },
    {
     "name": "stdout",
     "output_type": "stream",
     "text": [
      "PGS PGS000116 успешно рассчитан\n",
      "\n",
      "==========================================\n",
      "Обработка PGS: PGS005091\n",
      "PGS PGS005091, содержит 1428772 SNP\n",
      "Файл содержит позиционную информацию вместо rsID. Создаем синтетиические идентификаторы.\n",
      "Количество SNP в PGS: 1428772\n",
      "Количество общих SNP: 4354\n",
      "Процент покрытия: 0.30%\n",
      "Выполняем расчет PGS PGS005091\n"
     ]
    },
    {
     "name": "stderr",
     "output_type": "stream",
     "text": [
      "Python(17354) MallocStackLogging: can't turn off malloc stack logging because it was not enabled.\n"
     ]
    },
    {
     "name": "stdout",
     "output_type": "stream",
     "text": [
      "PGS PGS005091 успешно рассчитан\n",
      "\n",
      "==========================================\n",
      "Обработка PGS: PGS005092\n",
      "PGS PGS005092, содержит 1279502 SNP\n",
      "Файл содержит позиционную информацию вместо rsID. Создаем синтетиические идентификаторы.\n",
      "Количество SNP в PGS: 1279502\n",
      "Количество общих SNP: 4540\n",
      "Процент покрытия: 0.35%\n",
      "Выполняем расчет PGS PGS005092\n"
     ]
    },
    {
     "name": "stderr",
     "output_type": "stream",
     "text": [
      "Python(17360) MallocStackLogging: can't turn off malloc stack logging because it was not enabled.\n"
     ]
    },
    {
     "name": "stdout",
     "output_type": "stream",
     "text": [
      "PGS PGS005092 успешно рассчитан\n",
      "\n",
      "==========================================\n",
      "Обработка PGS: PGS004746\n",
      "PGS PGS004746, содержит 6483064 SNP\n",
      "Файл содержит позиционную информацию вместо rsID. Создаем синтетиические идентификаторы.\n",
      "Количество SNP в PGS: 6483064\n",
      "Количество общих SNP: 6132\n",
      "Процент покрытия: 0.09%\n",
      "Выполняем расчет PGS PGS004746\n"
     ]
    },
    {
     "name": "stderr",
     "output_type": "stream",
     "text": [
      "Python(17383) MallocStackLogging: can't turn off malloc stack logging because it was not enabled.\n"
     ]
    },
    {
     "name": "stdout",
     "output_type": "stream",
     "text": [
      "PGS PGS004746 успешно рассчитан\n",
      "\n",
      "==========================================\n",
      "Обработка PGS: PGS004197\n",
      "PGS PGS004197, содержит 11490 SNP\n",
      "Количество SNP в PGS: 11490\n",
      "Количество общих SNP: 1193\n",
      "Процент покрытия: 10.38%\n",
      "Выполняем расчет PGS PGS004197\n"
     ]
    },
    {
     "name": "stderr",
     "output_type": "stream",
     "text": [
      "Python(17386) MallocStackLogging: can't turn off malloc stack logging because it was not enabled.\n"
     ]
    },
    {
     "name": "stdout",
     "output_type": "stream",
     "text": [
      "PGS PGS004197 успешно рассчитан\n",
      "\n",
      "==========================================\n",
      "Обработка PGS: PGS004196\n",
      "PGS PGS004196, содержит 3892 SNP\n",
      "Количество SNP в PGS: 3892\n",
      "Количество общих SNP: 464\n",
      "Процент покрытия: 11.92%\n",
      "Выполняем расчет PGS PGS004196\n"
     ]
    },
    {
     "name": "stderr",
     "output_type": "stream",
     "text": [
      "Python(17387) MallocStackLogging: can't turn off malloc stack logging because it was not enabled.\n"
     ]
    },
    {
     "name": "stdout",
     "output_type": "stream",
     "text": [
      "PGS PGS004196 успешно рассчитан\n",
      "\n",
      "==========================================\n",
      "Обработка PGS: PGS003438\n",
      "PGS PGS003438, содержит 241 SNP\n",
      "Количество SNP в PGS: 241\n",
      "Количество общих SNP: 29\n",
      "Процент покрытия: 12.03%\n",
      "Выполняем расчет PGS PGS003438\n"
     ]
    },
    {
     "name": "stderr",
     "output_type": "stream",
     "text": [
      "Python(17388) MallocStackLogging: can't turn off malloc stack logging because it was not enabled.\n"
     ]
    },
    {
     "name": "stdout",
     "output_type": "stream",
     "text": [
      "PGS PGS003438 успешно рассчитан\n",
      "\n",
      "==========================================\n",
      "Обработка PGS: PGS004237\n",
      "PGS PGS004237, содержит 1146511 SNP\n",
      "Количество SNP в PGS: 1146511\n",
      "Количество общих SNP: 474392\n",
      "Процент покрытия: 41.38%\n",
      "Выполняем расчет PGS PGS004237\n"
     ]
    },
    {
     "name": "stderr",
     "output_type": "stream",
     "text": [
      "Python(17482) MallocStackLogging: can't turn off malloc stack logging because it was not enabled.\n"
     ]
    },
    {
     "name": "stdout",
     "output_type": "stream",
     "text": [
      "PGS PGS004237 успешно рассчитан\n",
      "\n",
      "==========================================\n",
      "Обработка PGS: PGS004745\n",
      "PGS PGS004745, содержит 4769577 SNP\n",
      "Файл содержит позиционную информацию вместо rsID. Создаем синтетиические идентификаторы.\n",
      "Количество SNP в PGS: 4769577\n",
      "Количество общих SNP: 4560\n",
      "Процент покрытия: 0.10%\n",
      "Выполняем расчет PGS PGS004745\n"
     ]
    },
    {
     "name": "stderr",
     "output_type": "stream",
     "text": [
      "Python(17613) MallocStackLogging: can't turn off malloc stack logging because it was not enabled.\n"
     ]
    },
    {
     "name": "stdout",
     "output_type": "stream",
     "text": [
      "Ошибк при расчете PGS PGS004745 Error: Duplicate variant 'rs7862687' in --score file.\n",
      "\n",
      "\n",
      "==========================================\n",
      "Обработка PGS: PGS000899\n",
      "PGS PGS000899, содержит 176 SNP\n",
      "Количество SNP в PGS: 176\n",
      "Количество общих SNP: 37\n",
      "Процент покрытия: 21.02%\n",
      "Выполняем расчет PGS PGS000899\n"
     ]
    },
    {
     "name": "stderr",
     "output_type": "stream",
     "text": [
      "Python(17614) MallocStackLogging: can't turn off malloc stack logging because it was not enabled.\n"
     ]
    },
    {
     "name": "stdout",
     "output_type": "stream",
     "text": [
      "PGS PGS000899 успешно рассчитан\n",
      "\n",
      "==========================================\n",
      "Обработка PGS: PGS004744\n",
      "PGS PGS004744, содержит 7082943 SNP\n",
      "Файл содержит позиционную информацию вместо rsID. Создаем синтетиические идентификаторы.\n",
      "Количество SNP в PGS: 7082943\n",
      "Количество общих SNP: 6891\n",
      "Процент покрытия: 0.10%\n",
      "Выполняем расчет PGS PGS004744\n"
     ]
    },
    {
     "name": "stderr",
     "output_type": "stream",
     "text": [
      "Python(17700) MallocStackLogging: can't turn off malloc stack logging because it was not enabled.\n"
     ]
    },
    {
     "name": "stdout",
     "output_type": "stream",
     "text": [
      "PGS PGS004744 успешно рассчитан\n",
      "\n",
      "==========================================\n",
      "Обработка PGS: PGS004595\n",
      "PGS PGS004595, содержит 164 SNP\n",
      "Количество SNP в PGS: 164\n",
      "Количество общих SNP: 40\n",
      "Процент покрытия: 24.39%\n",
      "Выполняем расчет PGS PGS004595\n"
     ]
    },
    {
     "name": "stderr",
     "output_type": "stream",
     "text": [
      "Python(17714) MallocStackLogging: can't turn off malloc stack logging because it was not enabled.\n"
     ]
    },
    {
     "name": "stdout",
     "output_type": "stream",
     "text": [
      "PGS PGS004595 успешно рассчитан\n",
      "\n",
      "==========================================\n",
      "Обработка PGS: PGS005112\n",
      "PGS PGS005112, содержит 1106628 SNP\n",
      "Количество SNP в PGS: 1106628\n",
      "Количество общих SNP: 454934\n",
      "Процент покрытия: 41.11%\n",
      "Выполняем расчет PGS PGS005112\n"
     ]
    },
    {
     "name": "stderr",
     "output_type": "stream",
     "text": [
      "Python(17741) MallocStackLogging: can't turn off malloc stack logging because it was not enabled.\n"
     ]
    },
    {
     "name": "stdout",
     "output_type": "stream",
     "text": [
      "PGS PGS005112 успешно рассчитан\n",
      "\n",
      "==========================================\n",
      "Обработка PGS: PGS002244\n",
      "PGS PGS002244, содержит 6576338 SNP\n",
      "Количество SNP в PGS: 6576338\n",
      "Количество общих SNP: 497179\n",
      "Процент покрытия: 7.56%\n",
      "Выполняем расчет PGS PGS002244\n"
     ]
    },
    {
     "name": "stderr",
     "output_type": "stream",
     "text": [
      "Python(17747) MallocStackLogging: can't turn off malloc stack logging because it was not enabled.\n"
     ]
    },
    {
     "name": "stdout",
     "output_type": "stream",
     "text": [
      "PGS PGS002244 успешно рассчитан\n",
      "\n",
      "==========================================\n",
      "Обработка PGS: PGS000057\n",
      "PGS PGS000057, содержит 57 SNP\n",
      "Количество SNP в PGS: 57\n",
      "Количество общих SNP: 19\n",
      "Процент покрытия: 33.33%\n",
      "Выполняем расчет PGS PGS000057\n"
     ]
    },
    {
     "name": "stderr",
     "output_type": "stream",
     "text": [
      "Python(17748) MallocStackLogging: can't turn off malloc stack logging because it was not enabled.\n"
     ]
    },
    {
     "name": "stdout",
     "output_type": "stream",
     "text": [
      "PGS PGS000057 успешно рассчитан\n",
      "\n",
      "==========================================\n",
      "Обработка PGS: PGS000296\n",
      "PGS PGS000296, содержит 6630150 SNP\n",
      "Файл содержит позиционную информацию вместо rsID. Создаем синтетиические идентификаторы.\n",
      "Количество SNP в PGS: 6630150\n",
      "Количество общих SNP: 495928\n",
      "Процент покрытия: 7.48%\n",
      "Выполняем расчет PGS PGS000296\n"
     ]
    },
    {
     "name": "stderr",
     "output_type": "stream",
     "text": [
      "Python(17871) MallocStackLogging: can't turn off malloc stack logging because it was not enabled.\n"
     ]
    },
    {
     "name": "stdout",
     "output_type": "stream",
     "text": [
      "PGS PGS000296 успешно рассчитан\n",
      "\n",
      "==========================================\n",
      "Обработка PGS: PGS004743\n",
      "PGS PGS004743, содержит 3606321 SNP\n",
      "Файл содержит позиционную информацию вместо rsID. Создаем синтетиические идентификаторы.\n",
      "Количество SNP в PGS: 3606321\n",
      "Количество общих SNP: 3853\n",
      "Процент покрытия: 0.11%\n",
      "Выполняем расчет PGS PGS004743\n"
     ]
    },
    {
     "name": "stderr",
     "output_type": "stream",
     "text": [
      "Python(17878) MallocStackLogging: can't turn off malloc stack logging because it was not enabled.\n"
     ]
    },
    {
     "name": "stdout",
     "output_type": "stream",
     "text": [
      "Ошибк при расчете PGS PGS004743 Error: Duplicate variant 'rs7862687' in --score file.\n",
      "\n",
      "\n",
      "==========================================\n",
      "Обработка PGS: PGS004596\n",
      "PGS PGS004596, содержит 64 SNP\n",
      "Количество SNP в PGS: 64\n",
      "Количество общих SNP: 24\n",
      "Процент покрытия: 37.50%\n",
      "Выполняем расчет PGS PGS004596\n"
     ]
    },
    {
     "name": "stderr",
     "output_type": "stream",
     "text": [
      "Python(17879) MallocStackLogging: can't turn off malloc stack logging because it was not enabled.\n"
     ]
    },
    {
     "name": "stdout",
     "output_type": "stream",
     "text": [
      "PGS PGS004596 успешно рассчитан\n",
      "\n",
      "==========================================\n",
      "Обработка PGS: PGS000337\n",
      "PGS PGS000337, содержит 75028 SNP\n",
      "Файл содержит позиционную информацию вместо rsID. Создаем синтетиические идентификаторы.\n",
      "Количество SNP в PGS: 75028\n",
      "Количество общих SNP: 10154\n",
      "Процент покрытия: 13.53%\n",
      "Выполняем расчет PGS PGS000337\n"
     ]
    },
    {
     "name": "stderr",
     "output_type": "stream",
     "text": [
      "Python(17881) MallocStackLogging: can't turn off malloc stack logging because it was not enabled.\n"
     ]
    },
    {
     "name": "stdout",
     "output_type": "stream",
     "text": [
      "PGS PGS000337 успешно рассчитан\n",
      "\n",
      "==========================================\n",
      "Обработка PGS: PGS004309\n",
      "PGS PGS004309, содержит 3000 SNP\n",
      "Файл содержит позиционную информацию вместо rsID. Создаем синтетиические идентификаторы.\n",
      "Количество SNP в PGS: 3000\n",
      "Количество общих SNP: 1174\n",
      "Процент покрытия: 39.13%\n",
      "Выполняем расчет PGS PGS004309\n"
     ]
    },
    {
     "name": "stderr",
     "output_type": "stream",
     "text": [
      "Python(17882) MallocStackLogging: can't turn off malloc stack logging because it was not enabled.\n"
     ]
    },
    {
     "name": "stdout",
     "output_type": "stream",
     "text": [
      "PGS PGS004309 успешно рассчитан\n",
      "\n",
      "==========================================\n",
      "Обработка PGS: PGS004321\n",
      "PGS PGS004321, содержит 27 SNP\n",
      "Количество SNP в PGS: 27\n",
      "Количество общих SNP: 14\n",
      "Процент покрытия: 51.85%\n",
      "Выполняем расчет PGS PGS004321\n"
     ]
    },
    {
     "name": "stderr",
     "output_type": "stream",
     "text": [
      "Python(17883) MallocStackLogging: can't turn off malloc stack logging because it was not enabled.\n"
     ]
    },
    {
     "name": "stdout",
     "output_type": "stream",
     "text": [
      "PGS PGS004321 успешно рассчитан\n",
      "\n",
      "==========================================\n",
      "Обработка PGS: PGS004888\n",
      "PGS PGS004888, содержит 1110046 SNP\n",
      "Файл содержит позиционную информацию вместо rsID. Создаем синтетиические идентификаторы.\n",
      "Количество SNP в PGS: 1110046\n",
      "Количество общих SNP: 453801\n",
      "Процент покрытия: 40.88%\n",
      "Выполняем расчет PGS PGS004888\n"
     ]
    },
    {
     "name": "stderr",
     "output_type": "stream",
     "text": [
      "Python(17903) MallocStackLogging: can't turn off malloc stack logging because it was not enabled.\n"
     ]
    },
    {
     "name": "stdout",
     "output_type": "stream",
     "text": [
      "PGS PGS004888 успешно рассчитан\n",
      "\n",
      "==========================================\n",
      "Обработка PGS: PGS004308\n",
      "PGS PGS004308, содержит 1500 SNP\n",
      "Файл содержит позиционную информацию вместо rsID. Создаем синтетиические идентификаторы.\n",
      "Количество SNP в PGS: 1500\n",
      "Количество общих SNP: 584\n",
      "Процент покрытия: 38.93%\n",
      "Выполняем расчет PGS PGS004308\n"
     ]
    },
    {
     "name": "stderr",
     "output_type": "stream",
     "text": [
      "Python(17904) MallocStackLogging: can't turn off malloc stack logging because it was not enabled.\n"
     ]
    },
    {
     "name": "stdout",
     "output_type": "stream",
     "text": [
      "PGS PGS004308 успешно рассчитан\n",
      "\n",
      "==========================================\n",
      "Обработка PGS: PGS000018\n",
      "PGS PGS000018, содержит 1745179 SNP\n",
      "Количество SNP в PGS: 1745179\n",
      "Количество общих SNP: 129619\n",
      "Процент покрытия: 7.43%\n",
      "Выполняем расчет PGS PGS000018\n"
     ]
    },
    {
     "name": "stderr",
     "output_type": "stream",
     "text": [
      "Python(17943) MallocStackLogging: can't turn off malloc stack logging because it was not enabled.\n"
     ]
    },
    {
     "name": "stdout",
     "output_type": "stream",
     "text": [
      "PGS PGS000018 успешно рассчитан\n",
      "\n",
      "==========================================\n",
      "Обработка PGS: PGS004444\n",
      "PGS PGS004444, содержит 1059939 SNP\n",
      "Количество SNP в PGS: 1059939\n",
      "Количество общих SNP: 442559\n",
      "Процент покрытия: 41.75%\n",
      "Выполняем расчет PGS PGS004444\n"
     ]
    },
    {
     "name": "stderr",
     "output_type": "stream",
     "text": [
      "Python(17995) MallocStackLogging: can't turn off malloc stack logging because it was not enabled.\n"
     ]
    },
    {
     "name": "stdout",
     "output_type": "stream",
     "text": [
      "PGS PGS004444 успешно рассчитан\n",
      "\n",
      "==========================================\n",
      "Обработка PGS: PGS000019\n",
      "PGS PGS000019, содержит 192 SNP\n",
      "Количество SNP в PGS: 192\n",
      "Количество общих SNP: 26\n",
      "Процент покрытия: 13.54%\n",
      "Выполняем расчет PGS PGS000019\n"
     ]
    },
    {
     "name": "stderr",
     "output_type": "stream",
     "text": [
      "Python(18008) MallocStackLogging: can't turn off malloc stack logging because it was not enabled.\n"
     ]
    },
    {
     "name": "stdout",
     "output_type": "stream",
     "text": [
      "PGS PGS000019 успешно рассчитан\n",
      "\n",
      "==========================================\n",
      "Обработка PGS: PGS000747\n",
      "PGS PGS000747, содержит 375822 SNP\n",
      "Файл содержит позиционную информацию вместо rsID. Создаем синтетиические идентификаторы.\n",
      "Количество SNP в PGS: 375822\n",
      "Количество общих SNP: 31294\n",
      "Процент покрытия: 8.33%\n",
      "Выполняем расчет PGS PGS000747\n"
     ]
    },
    {
     "name": "stderr",
     "output_type": "stream",
     "text": [
      "Python(18009) MallocStackLogging: can't turn off malloc stack logging because it was not enabled.\n"
     ]
    },
    {
     "name": "stdout",
     "output_type": "stream",
     "text": [
      "PGS PGS000747 успешно рассчитан\n",
      "\n",
      "==========================================\n",
      "Обработка PGS: PGS000746\n",
      "PGS PGS000746, содержит 1940 SNP\n",
      "Файл содержит позиционную информацию вместо rsID. Создаем синтетиические идентификаторы.\n",
      "Количество SNP в PGS: 1940\n",
      "Количество общих SNP: 232\n",
      "Процент покрытия: 11.96%\n",
      "Выполняем расчет PGS PGS000746\n"
     ]
    },
    {
     "name": "stderr",
     "output_type": "stream",
     "text": [
      "Python(18010) MallocStackLogging: can't turn off malloc stack logging because it was not enabled.\n"
     ]
    },
    {
     "name": "stdout",
     "output_type": "stream",
     "text": [
      "PGS PGS000746 успешно рассчитан\n",
      "\n",
      "==========================================\n",
      "Обработка PGS: PGS004697\n",
      "PGS PGS004697, содержит 1120251 SNP\n",
      "Количество SNP в PGS: 1120251\n",
      "Количество общих SNP: 456041\n",
      "Процент покрытия: 40.71%\n",
      "Выполняем расчет PGS PGS004697\n"
     ]
    },
    {
     "name": "stderr",
     "output_type": "stream",
     "text": [
      "Python(18021) MallocStackLogging: can't turn off malloc stack logging because it was not enabled.\n"
     ]
    },
    {
     "name": "stdout",
     "output_type": "stream",
     "text": [
      "PGS PGS004697 успешно рассчитан\n",
      "\n",
      "==========================================\n",
      "Обработка PGS: PGS004899\n",
      "PGS PGS004899, содержит 7 SNP\n",
      "Количество SNP в PGS: 7\n",
      "Количество общих SNP: 0\n",
      "Процент покрытия: 0.00%\n",
      "нет общих SNP для PGS004899\n",
      "\n",
      "==========================================\n",
      "Обработка PGS: PGS004696\n",
      "PGS PGS004696, содержит 1289980 SNP\n",
      "Количество SNP в PGS: 1289980\n",
      "Количество общих SNP: 456450\n",
      "Процент покрытия: 35.38%\n",
      "Выполняем расчет PGS PGS004696\n"
     ]
    },
    {
     "name": "stderr",
     "output_type": "stream",
     "text": [
      "Python(18036) MallocStackLogging: can't turn off malloc stack logging because it was not enabled.\n"
     ]
    },
    {
     "name": "stdout",
     "output_type": "stream",
     "text": [
      "PGS PGS004696 успешно рассчитан\n",
      "\n",
      "==========================================\n",
      "Обработка PGS: PGS004443\n",
      "PGS PGS004443, содержит 1059939 SNP\n",
      "Количество SNP в PGS: 1059939\n",
      "Количество общих SNP: 442559\n",
      "Процент покрытия: 41.75%\n",
      "Выполняем расчет PGS PGS004443\n"
     ]
    },
    {
     "name": "stderr",
     "output_type": "stream",
     "text": [
      "Python(18041) MallocStackLogging: can't turn off malloc stack logging because it was not enabled.\n"
     ]
    },
    {
     "name": "stdout",
     "output_type": "stream",
     "text": [
      "PGS PGS004443 успешно рассчитан\n",
      "\n",
      "==========================================\n",
      "Обработка PGS: PGS000962\n",
      "PGS PGS000962, содержит 2168 SNP\n",
      "Количество SNP в PGS: 2168\n",
      "Количество общих SNP: 444\n",
      "Процент покрытия: 20.48%\n",
      "Выполняем расчет PGS PGS000962\n"
     ]
    },
    {
     "name": "stderr",
     "output_type": "stream",
     "text": [
      "Python(18042) MallocStackLogging: can't turn off malloc stack logging because it was not enabled.\n"
     ]
    },
    {
     "name": "stdout",
     "output_type": "stream",
     "text": [
      "PGS PGS000962 успешно рассчитан\n"
     ]
    },
    {
     "name": "stderr",
     "output_type": "stream",
     "text": [
      "/Users/daklo/for_dipl/pgs_calculator.py:139: SettingWithCopyWarning: \n",
      "A value is trying to be set on a copy of a slice from a DataFrame.\n",
      "Try using .loc[row_indexer,col_indexer] = value instead\n",
      "\n",
      "See the caveats in the documentation: https://pandas.pydata.org/pandas-docs/stable/user_guide/indexing.html#returning-a-view-versus-a-copy\n",
      "  combined[pgs_name] = df['SCORE']\n",
      "/Users/daklo/for_dipl/pgs_calculator.py:139: SettingWithCopyWarning: \n",
      "A value is trying to be set on a copy of a slice from a DataFrame.\n",
      "Try using .loc[row_indexer,col_indexer] = value instead\n",
      "\n",
      "See the caveats in the documentation: https://pandas.pydata.org/pandas-docs/stable/user_guide/indexing.html#returning-a-view-versus-a-copy\n",
      "  combined[pgs_name] = df['SCORE']\n",
      "/Users/daklo/for_dipl/pgs_calculator.py:139: SettingWithCopyWarning: \n",
      "A value is trying to be set on a copy of a slice from a DataFrame.\n",
      "Try using .loc[row_indexer,col_indexer] = value instead\n",
      "\n",
      "See the caveats in the documentation: https://pandas.pydata.org/pandas-docs/stable/user_guide/indexing.html#returning-a-view-versus-a-copy\n",
      "  combined[pgs_name] = df['SCORE']\n"
     ]
    },
    {
     "name": "stdout",
     "output_type": "stream",
     "text": [
      "Объеденены PGS для 896 образцов и 73 PGS\n",
      "Сохраняю в ./pgs_results_calculated/train_1_pgs.csv\n",
      "1\n",
      "файл ./test_1.bim, содержит 591998 SNP\n",
      "Найдено 76 PGS\n",
      "\n",
      "==========================================\n",
      "Обработка PGS: PGS003725\n",
      "PGS PGS003725, содержит 1296172 SNP\n",
      "Файл содержит позиционную информацию вместо rsID. Создаем синтетиические идентификаторы.\n",
      "Количество SNP в PGS: 1296172\n",
      "Количество общих SNP: 456468\n",
      "Процент покрытия: 35.22%\n",
      "Выполняем расчет PGS PGS003725\n"
     ]
    },
    {
     "name": "stderr",
     "output_type": "stream",
     "text": [
      "Python(18170) MallocStackLogging: can't turn off malloc stack logging because it was not enabled.\n"
     ]
    },
    {
     "name": "stdout",
     "output_type": "stream",
     "text": [
      "PGS PGS003725 успешно рассчитан\n",
      "\n",
      "==========================================\n",
      "Обработка PGS: PGS000748\n",
      "PGS PGS000748, содержит 3423987 SNP\n",
      "Файл содержит позиционную информацию вместо rsID. Создаем синтетиические идентификаторы.\n",
      "Количество SNP в PGS: 3423987\n",
      "Количество общих SNP: 416579\n",
      "Процент покрытия: 12.17%\n",
      "Выполняем расчет PGS PGS000748\n"
     ]
    },
    {
     "name": "stderr",
     "output_type": "stream",
     "text": [
      "Python(18238) MallocStackLogging: can't turn off malloc stack logging because it was not enabled.\n"
     ]
    },
    {
     "name": "stdout",
     "output_type": "stream",
     "text": [
      "PGS PGS000748 успешно рассчитан\n",
      "\n",
      "==========================================\n",
      "Обработка PGS: PGS000012\n",
      "PGS PGS000012, содержит 49310 SNP\n",
      "Количество SNP в PGS: 49310\n",
      "Количество общих SNP: 15881\n",
      "Процент покрытия: 32.21%\n",
      "Выполняем расчет PGS PGS000012\n"
     ]
    },
    {
     "name": "stderr",
     "output_type": "stream",
     "text": [
      "Python(18242) MallocStackLogging: can't turn off malloc stack logging because it was not enabled.\n"
     ]
    },
    {
     "name": "stdout",
     "output_type": "stream",
     "text": [
      "PGS PGS000012 успешно рассчитан\n",
      "\n",
      "==========================================\n",
      "Обработка PGS: PGS003446\n",
      "PGS PGS003446, содержит 538084 SNP\n",
      "Файл содержит позиционную информацию вместо rsID. Создаем синтетиические идентификаторы.\n",
      "Количество SNP в PGS: 538084\n",
      "Количество общих SNP: 25529\n",
      "Процент покрытия: 4.74%\n",
      "Выполняем расчет PGS PGS003446\n"
     ]
    },
    {
     "name": "stderr",
     "output_type": "stream",
     "text": [
      "Python(18249) MallocStackLogging: can't turn off malloc stack logging because it was not enabled.\n"
     ]
    },
    {
     "name": "stdout",
     "output_type": "stream",
     "text": [
      "PGS PGS003446 успешно рассчитан\n",
      "\n",
      "==========================================\n",
      "Обработка PGS: PGS004513\n",
      "PGS PGS004513, содержит 1059939 SNP\n",
      "Количество SNP в PGS: 1059939\n",
      "Количество общих SNP: 442559\n",
      "Процент покрытия: 41.75%\n",
      "Выполняем расчет PGS PGS004513\n"
     ]
    },
    {
     "name": "stderr",
     "output_type": "stream",
     "text": [
      "Python(18339) MallocStackLogging: can't turn off malloc stack logging because it was not enabled.\n"
     ]
    },
    {
     "name": "stdout",
     "output_type": "stream",
     "text": [
      "PGS PGS004513 успешно рассчитан\n",
      "\n",
      "==========================================\n",
      "Обработка PGS: PGS000013\n",
      "PGS PGS000013, содержит 6630150 SNP\n",
      "Файл содержит позиционную информацию вместо rsID. Создаем синтетиические идентификаторы.\n",
      "Количество SNP в PGS: 6630150\n",
      "Количество общих SNP: 495928\n",
      "Процент покрытия: 7.48%\n",
      "Выполняем расчет PGS PGS000013\n"
     ]
    },
    {
     "name": "stderr",
     "output_type": "stream",
     "text": [
      "Python(18513) MallocStackLogging: can't turn off malloc stack logging because it was not enabled.\n"
     ]
    },
    {
     "name": "stdout",
     "output_type": "stream",
     "text": [
      "PGS PGS000013 успешно рассчитан\n",
      "\n",
      "==========================================\n",
      "Обработка PGS: PGS005143\n",
      "PGS PGS005143, содержит 943274 SNP\n",
      "Количество SNP в PGS: 943274\n",
      "Количество общих SNP: 395304\n",
      "Процент покрытия: 41.91%\n",
      "Выполняем расчет PGS PGS005143\n"
     ]
    },
    {
     "name": "stderr",
     "output_type": "stream",
     "text": [
      "Python(18648) MallocStackLogging: can't turn off malloc stack logging because it was not enabled.\n"
     ]
    },
    {
     "name": "stdout",
     "output_type": "stream",
     "text": [
      "PGS PGS005143 успешно рассчитан\n",
      "\n",
      "==========================================\n",
      "Обработка PGS: PGS003726\n",
      "PGS PGS003726, содержит 1296172 SNP\n",
      "Файл содержит позиционную информацию вместо rsID. Создаем синтетиические идентификаторы.\n",
      "Количество SNP в PGS: 1296172\n",
      "Количество общих SNP: 456468\n",
      "Процент покрытия: 35.22%\n",
      "Выполняем расчет PGS PGS003726\n"
     ]
    },
    {
     "name": "stderr",
     "output_type": "stream",
     "text": [
      "Python(18678) MallocStackLogging: can't turn off malloc stack logging because it was not enabled.\n"
     ]
    },
    {
     "name": "stdout",
     "output_type": "stream",
     "text": [
      "PGS PGS003726 успешно рассчитан\n",
      "\n",
      "==========================================\n",
      "Обработка PGS: PGS002809\n",
      "PGS PGS002809, содержит 205 SNP\n",
      "Количество SNP в PGS: 205\n",
      "Количество общих SNP: 48\n",
      "Процент покрытия: 23.41%\n",
      "Выполняем расчет PGS PGS002809\n"
     ]
    },
    {
     "name": "stderr",
     "output_type": "stream",
     "text": [
      "Python(18681) MallocStackLogging: can't turn off malloc stack logging because it was not enabled.\n"
     ]
    },
    {
     "name": "stdout",
     "output_type": "stream",
     "text": [
      "PGS PGS002809 успешно рассчитан\n",
      "\n",
      "==========================================\n",
      "Обработка PGS: PGS000011\n",
      "PGS PGS000011, содержит 50 SNP\n",
      "Количество SNP в PGS: 50\n",
      "Количество общих SNP: 22\n",
      "Процент покрытия: 44.00%\n",
      "Выполняем расчет PGS PGS000011\n"
     ]
    },
    {
     "name": "stderr",
     "output_type": "stream",
     "text": [
      "Python(18682) MallocStackLogging: can't turn off malloc stack logging because it was not enabled.\n"
     ]
    },
    {
     "name": "stdout",
     "output_type": "stream",
     "text": [
      "PGS PGS000011 успешно рассчитан\n",
      "\n",
      "==========================================\n",
      "Обработка PGS: PGS000818\n",
      "PGS PGS000818, содержит 138 SNP\n",
      "Количество SNP в PGS: 138\n",
      "Количество общих SNP: 42\n",
      "Процент покрытия: 30.43%\n",
      "Выполняем расчет PGS PGS000818\n"
     ]
    },
    {
     "name": "stderr",
     "output_type": "stream",
     "text": [
      "Python(18683) MallocStackLogging: can't turn off malloc stack logging because it was not enabled.\n"
     ]
    },
    {
     "name": "stdout",
     "output_type": "stream",
     "text": [
      "PGS PGS000818 успешно рассчитан\n",
      "\n",
      "==========================================\n",
      "Обработка PGS: PGS004698\n",
      "PGS PGS004698, содержит 542218 SNP\n",
      "Файл содержит позиционную информацию вместо rsID. Создаем синтетиические идентификаторы.\n",
      "Количество SNP в PGS: 542218\n",
      "Количество общих SNP: 26884\n",
      "Процент покрытия: 4.96%\n",
      "Выполняем расчет PGS PGS004698\n"
     ]
    },
    {
     "name": "stderr",
     "output_type": "stream",
     "text": [
      "Python(18687) MallocStackLogging: can't turn off malloc stack logging because it was not enabled.\n"
     ]
    },
    {
     "name": "stdout",
     "output_type": "stream",
     "text": [
      "PGS PGS004698 успешно рассчитан\n",
      "\n",
      "==========================================\n",
      "Обработка PGS: PGS000010\n",
      "PGS PGS000010, содержит 27 SNP\n",
      "Количество SNP в PGS: 27\n",
      "Количество общих SNP: 14\n",
      "Процент покрытия: 51.85%\n",
      "Выполняем расчет PGS PGS000010\n"
     ]
    },
    {
     "name": "stderr",
     "output_type": "stream",
     "text": [
      "Python(18688) MallocStackLogging: can't turn off malloc stack logging because it was not enabled.\n"
     ]
    },
    {
     "name": "stdout",
     "output_type": "stream",
     "text": [
      "PGS PGS000010 успешно рассчитан\n",
      "\n",
      "==========================================\n",
      "Обработка PGS: PGS003727\n",
      "PGS PGS003727, содержит 1125113 SNP\n",
      "Файл содержит позиционную информацию вместо rsID. Создаем синтетиические идентификаторы.\n",
      "Количество SNP в PGS: 1125113\n",
      "Количество общих SNP: 455311\n",
      "Процент покрытия: 40.47%\n",
      "Выполняем расчет PGS PGS003727\n"
     ]
    },
    {
     "name": "stderr",
     "output_type": "stream",
     "text": [
      "Python(18717) MallocStackLogging: can't turn off malloc stack logging because it was not enabled.\n"
     ]
    },
    {
     "name": "stdout",
     "output_type": "stream",
     "text": [
      "PGS PGS003727 успешно рассчитан\n",
      "\n",
      "==========================================\n",
      "Обработка PGS: PGS004921\n",
      "PGS PGS004921, содержит 161 SNP\n",
      "Количество SNP в PGS: 161\n",
      "Количество общих SNP: 30\n",
      "Процент покрытия: 18.63%\n",
      "Выполняем расчет PGS PGS004921\n"
     ]
    },
    {
     "name": "stderr",
     "output_type": "stream",
     "text": [
      "Python(18718) MallocStackLogging: can't turn off malloc stack logging because it was not enabled.\n"
     ]
    },
    {
     "name": "stdout",
     "output_type": "stream",
     "text": [
      "PGS PGS004921 успешно рассчитан\n",
      "\n",
      "==========================================\n",
      "Обработка PGS: PGS004919\n",
      "PGS PGS004919, содержит 50 SNP\n",
      "Количество SNP в PGS: 50\n",
      "Количество общих SNP: 22\n",
      "Процент покрытия: 44.00%\n",
      "Выполняем расчет PGS PGS004919\n"
     ]
    },
    {
     "name": "stderr",
     "output_type": "stream",
     "text": [
      "Python(18719) MallocStackLogging: can't turn off malloc stack logging because it was not enabled.\n"
     ]
    },
    {
     "name": "stdout",
     "output_type": "stream",
     "text": [
      "PGS PGS004919 успешно рассчитан\n",
      "\n",
      "==========================================\n",
      "Обработка PGS: PGS004925\n",
      "PGS PGS004925, содержит 300 SNP\n",
      "Количество SNP в PGS: 300\n",
      "Количество общих SNP: 46\n",
      "Процент покрытия: 15.33%\n",
      "Выполняем расчет PGS PGS004925\n"
     ]
    },
    {
     "name": "stderr",
     "output_type": "stream",
     "text": [
      "Python(18720) MallocStackLogging: can't turn off malloc stack logging because it was not enabled.\n"
     ]
    },
    {
     "name": "stdout",
     "output_type": "stream",
     "text": [
      "PGS PGS004925 успешно рассчитан\n",
      "\n",
      "==========================================\n",
      "Обработка PGS: PGS004514\n",
      "PGS PGS004514, содержит 1059939 SNP\n",
      "Количество SNP в PGS: 1059939\n",
      "Количество общих SNP: 442559\n",
      "Процент покрытия: 41.75%\n",
      "Выполняем расчет PGS PGS004514\n"
     ]
    },
    {
     "name": "stderr",
     "output_type": "stream",
     "text": [
      "Python(18799) MallocStackLogging: can't turn off malloc stack logging because it was not enabled.\n"
     ]
    },
    {
     "name": "stdout",
     "output_type": "stream",
     "text": [
      "PGS PGS004514 успешно рассчитан\n",
      "\n",
      "==========================================\n",
      "Обработка PGS: PGS004306\n",
      "PGS PGS004306, содержит 4000 SNP\n",
      "Файл содержит позиционную информацию вместо rsID. Создаем синтетиические идентификаторы.\n",
      "Количество SNP в PGS: 4000\n",
      "Количество общих SNP: 1576\n",
      "Процент покрытия: 39.40%\n",
      "Выполняем расчет PGS PGS004306\n"
     ]
    },
    {
     "name": "stderr",
     "output_type": "stream",
     "text": [
      "Python(18805) MallocStackLogging: can't turn off malloc stack logging because it was not enabled.\n"
     ]
    },
    {
     "name": "stdout",
     "output_type": "stream",
     "text": [
      "PGS PGS004306 успешно рассчитан\n",
      "\n",
      "==========================================\n",
      "Обработка PGS: PGS004879\n",
      "PGS PGS004879, содержит 610677 SNP\n",
      "Количество SNP в PGS: 610677\n",
      "Количество общих SNP: 259008\n",
      "Процент покрытия: 42.41%\n",
      "Выполняем расчет PGS PGS004879\n"
     ]
    },
    {
     "name": "stderr",
     "output_type": "stream",
     "text": [
      "Python(18814) MallocStackLogging: can't turn off malloc stack logging because it was not enabled.\n"
     ]
    },
    {
     "name": "stdout",
     "output_type": "stream",
     "text": [
      "PGS PGS004879 успешно рассчитан\n",
      "\n",
      "==========================================\n",
      "Обработка PGS: PGS004307\n",
      "PGS PGS004307, содержит 4000 SNP\n",
      "Файл содержит позиционную информацию вместо rsID. Создаем синтетиические идентификаторы.\n",
      "Количество SNP в PGS: 4000\n",
      "Количество общих SNP: 1596\n",
      "Процент покрытия: 39.90%\n",
      "Выполняем расчет PGS PGS004307\n"
     ]
    },
    {
     "name": "stderr",
     "output_type": "stream",
     "text": [
      "Python(18815) MallocStackLogging: can't turn off malloc stack logging because it was not enabled.\n"
     ]
    },
    {
     "name": "stdout",
     "output_type": "stream",
     "text": [
      "PGS PGS004307 успешно рассчитан\n",
      "\n",
      "==========================================\n",
      "Обработка PGS: PGS002776\n",
      "PGS PGS002776, содержит 390782 SNP\n",
      "Количество SNP в PGS: 390782\n",
      "Количество общих SNP: 44688\n",
      "Процент покрытия: 11.44%\n",
      "Выполняем расчет PGS PGS002776\n"
     ]
    },
    {
     "name": "stderr",
     "output_type": "stream",
     "text": [
      "Python(18819) MallocStackLogging: can't turn off malloc stack logging because it was not enabled.\n"
     ]
    },
    {
     "name": "stdout",
     "output_type": "stream",
     "text": [
      "PGS PGS002776 успешно рассчитан\n",
      "\n",
      "==========================================\n",
      "Обработка PGS: PGS000798\n",
      "PGS PGS000798, содержит 157 SNP\n",
      "Количество SNP в PGS: 157\n",
      "Количество общих SNP: 29\n",
      "Процент покрытия: 18.47%\n",
      "Выполняем расчет PGS PGS000798\n"
     ]
    },
    {
     "name": "stderr",
     "output_type": "stream",
     "text": [
      "Python(18820) MallocStackLogging: can't turn off malloc stack logging because it was not enabled.\n"
     ]
    },
    {
     "name": "stdout",
     "output_type": "stream",
     "text": [
      "PGS PGS000798 успешно рассчитан\n",
      "\n",
      "==========================================\n",
      "Обработка PGS: PGS004305\n",
      "PGS PGS004305, содержит 3000 SNP\n",
      "Файл содержит позиционную информацию вместо rsID. Создаем синтетиические идентификаторы.\n",
      "Количество SNP в PGS: 3000\n",
      "Количество общих SNP: 1127\n",
      "Процент покрытия: 37.57%\n",
      "Выполняем расчет PGS PGS004305\n"
     ]
    },
    {
     "name": "stderr",
     "output_type": "stream",
     "text": [
      "Python(18821) MallocStackLogging: can't turn off malloc stack logging because it was not enabled.\n"
     ]
    },
    {
     "name": "stdout",
     "output_type": "stream",
     "text": [
      "PGS PGS004305 успешно рассчитан\n",
      "\n",
      "==========================================\n",
      "Обработка PGS: PGS000349\n",
      "PGS PGS000349, содержит 70 SNP\n",
      "Количество SNP в PGS: 70\n",
      "Количество общих SNP: 24\n",
      "Процент покрытия: 34.29%\n",
      "Выполняем расчет PGS PGS000349\n"
     ]
    },
    {
     "name": "stderr",
     "output_type": "stream",
     "text": [
      "Python(18822) MallocStackLogging: can't turn off malloc stack logging because it was not enabled.\n"
     ]
    },
    {
     "name": "stdout",
     "output_type": "stream",
     "text": [
      "PGS PGS000349 успешно рассчитан\n",
      "\n",
      "==========================================\n",
      "Обработка PGS: PGS003866\n",
      "PGS PGS003866, содержит 10440 SNP\n",
      "Количество SNP в PGS: 10440\n",
      "Количество общих SNP: 4335\n",
      "Процент покрытия: 41.52%\n",
      "Выполняем расчет PGS PGS003866\n"
     ]
    },
    {
     "name": "stderr",
     "output_type": "stream",
     "text": [
      "Python(18823) MallocStackLogging: can't turn off malloc stack logging because it was not enabled.\n"
     ]
    },
    {
     "name": "stdout",
     "output_type": "stream",
     "text": [
      "PGS PGS003866 успешно рассчитан\n",
      "\n",
      "==========================================\n",
      "Обработка PGS: PGS002775\n",
      "PGS PGS002775, содержит 1059 SNP\n",
      "Количество SNP в PGS: 1059\n",
      "Количество общих SNP: 180\n",
      "Процент покрытия: 17.00%\n",
      "Выполняем расчет PGS PGS002775\n"
     ]
    },
    {
     "name": "stderr",
     "output_type": "stream",
     "text": [
      "Python(18824) MallocStackLogging: can't turn off malloc stack logging because it was not enabled.\n"
     ]
    },
    {
     "name": "stdout",
     "output_type": "stream",
     "text": [
      "PGS PGS002775 успешно рассчитан\n",
      "\n",
      "==========================================\n",
      "Обработка PGS: PGS005152\n",
      "PGS PGS005152, содержит 943274 SNP\n",
      "Количество SNP в PGS: 943274\n",
      "Количество общих SNP: 395304\n",
      "Процент покрытия: 41.91%\n",
      "Выполняем расчет PGS PGS005152\n"
     ]
    },
    {
     "name": "stderr",
     "output_type": "stream",
     "text": [
      "Python(18864) MallocStackLogging: can't turn off malloc stack logging because it was not enabled.\n"
     ]
    },
    {
     "name": "stdout",
     "output_type": "stream",
     "text": [
      "PGS PGS005152 успешно рассчитан\n",
      "\n",
      "==========================================\n",
      "Обработка PGS: PGS000200\n",
      "PGS PGS000200, содержит 28 SNP\n",
      "Количество SNP в PGS: 28\n",
      "Количество общих SNP: 15\n",
      "Процент покрытия: 53.57%\n",
      "Выполняем расчет PGS PGS000200\n"
     ]
    },
    {
     "name": "stderr",
     "output_type": "stream",
     "text": [
      "Python(18866) MallocStackLogging: can't turn off malloc stack logging because it was not enabled.\n"
     ]
    },
    {
     "name": "stdout",
     "output_type": "stream",
     "text": [
      "PGS PGS000200 успешно рассчитан\n",
      "\n",
      "==========================================\n",
      "Обработка PGS: PGS000059\n",
      "PGS PGS000059, содержит 46 SNP\n",
      "Количество SNP в PGS: 46\n",
      "Количество общих SNP: 18\n",
      "Процент покрытия: 39.13%\n",
      "Выполняем расчет PGS PGS000059\n"
     ]
    },
    {
     "name": "stderr",
     "output_type": "stream",
     "text": [
      "Python(18867) MallocStackLogging: can't turn off malloc stack logging because it was not enabled.\n"
     ]
    },
    {
     "name": "stdout",
     "output_type": "stream",
     "text": [
      "PGS PGS000059 успешно рассчитан\n",
      "\n",
      "==========================================\n",
      "Обработка PGS: PGS003356\n",
      "PGS PGS003356, содержит 2324683 SNP\n",
      "Файл содержит позиционную информацию вместо rsID. Создаем синтетиические идентификаторы.\n",
      "Количество SNP в PGS: 2324683\n",
      "Количество общих SNP: 497605\n",
      "Процент покрытия: 21.41%\n",
      "Выполняем расчет PGS PGS003356\n"
     ]
    },
    {
     "name": "stderr",
     "output_type": "stream",
     "text": [
      "Python(18902) MallocStackLogging: can't turn off malloc stack logging because it was not enabled.\n"
     ]
    },
    {
     "name": "stdout",
     "output_type": "stream",
     "text": [
      "PGS PGS003356 успешно рассчитан\n",
      "\n",
      "==========================================\n",
      "Обработка PGS: PGS002048\n",
      "PGS PGS002048, содержит 762124 SNP\n",
      "Количество SNP в PGS: 762124\n",
      "Количество общих SNP: 322896\n",
      "Процент покрытия: 42.37%\n",
      "Выполняем расчет PGS PGS002048\n"
     ]
    },
    {
     "name": "stderr",
     "output_type": "stream",
     "text": [
      "Python(18982) MallocStackLogging: can't turn off malloc stack logging because it was not enabled.\n"
     ]
    },
    {
     "name": "stdout",
     "output_type": "stream",
     "text": [
      "PGS PGS002048 успешно рассчитан\n",
      "\n",
      "==========================================\n",
      "Обработка PGS: PGS001780\n",
      "PGS PGS001780, содержит 1090048 SNP\n",
      "Количество SNP в PGS: 1090048\n",
      "Количество общих SNP: 450206\n",
      "Процент покрытия: 41.30%\n",
      "Выполняем расчет PGS PGS001780\n"
     ]
    },
    {
     "name": "stderr",
     "output_type": "stream",
     "text": [
      "Python(19014) MallocStackLogging: can't turn off malloc stack logging because it was not enabled.\n"
     ]
    },
    {
     "name": "stdout",
     "output_type": "stream",
     "text": [
      "PGS PGS001780 успешно рассчитан\n",
      "\n",
      "==========================================\n",
      "Обработка PGS: PGS002262\n",
      "PGS PGS002262, содержит 540 SNP\n",
      "Количество SNP в PGS: 540\n",
      "Количество общих SNP: 136\n",
      "Процент покрытия: 25.19%\n",
      "Выполняем расчет PGS PGS002262\n"
     ]
    },
    {
     "name": "stderr",
     "output_type": "stream",
     "text": [
      "Python(19015) MallocStackLogging: can't turn off malloc stack logging because it was not enabled.\n"
     ]
    },
    {
     "name": "stdout",
     "output_type": "stream",
     "text": [
      "PGS PGS002262 успешно рассчитан\n",
      "\n",
      "==========================================\n",
      "Обработка PGS: PGS000058\n",
      "PGS PGS000058, содержит 204 SNP\n",
      "Количество SNP в PGS: 204\n",
      "Количество общих SNP: 41\n",
      "Процент покрытия: 20.10%\n",
      "Выполняем расчет PGS PGS000058\n"
     ]
    },
    {
     "name": "stderr",
     "output_type": "stream",
     "text": [
      "Python(19016) MallocStackLogging: can't turn off malloc stack logging because it was not enabled.\n"
     ]
    },
    {
     "name": "stdout",
     "output_type": "stream",
     "text": [
      "PGS PGS000058 успешно рассчитан\n",
      "\n",
      "==========================================\n",
      "Обработка PGS: PGS001839\n",
      "PGS PGS001839, содержит 25425 SNP\n",
      "Количество SNP в PGS: 25425\n",
      "Количество общих SNP: 11260\n",
      "Процент покрытия: 44.29%\n",
      "Выполняем расчет PGS PGS001839\n"
     ]
    },
    {
     "name": "stderr",
     "output_type": "stream",
     "text": [
      "Python(19017) MallocStackLogging: can't turn off malloc stack logging because it was not enabled.\n"
     ]
    },
    {
     "name": "stdout",
     "output_type": "stream",
     "text": [
      "PGS PGS001839 успешно рассчитан\n",
      "\n",
      "==========================================\n",
      "Обработка PGS: PGS004941\n",
      "PGS PGS004941, содержит 3711629 SNP\n",
      "Файл содержит позиционную информацию вместо rsID. Создаем синтетиические идентификаторы.\n",
      "Количество SNP в PGS: 3711629\n",
      "Количество общих SNP: 429616\n",
      "Процент покрытия: 11.57%\n",
      "Выполняем расчет PGS PGS004941\n"
     ]
    },
    {
     "name": "stderr",
     "output_type": "stream",
     "text": [
      "Python(19031) MallocStackLogging: can't turn off malloc stack logging because it was not enabled.\n"
     ]
    },
    {
     "name": "stdout",
     "output_type": "stream",
     "text": [
      "PGS PGS004941 успешно рассчитан\n",
      "\n",
      "==========================================\n",
      "Обработка PGS: PGS004200\n",
      "PGS PGS004200, содержит 8361 SNP\n",
      "Количество SNP в PGS: 8361\n",
      "Количество общих SNP: 899\n",
      "Процент покрытия: 10.75%\n",
      "Выполняем расчет PGS PGS004200\n"
     ]
    },
    {
     "name": "stderr",
     "output_type": "stream",
     "text": [
      "Python(19043) MallocStackLogging: can't turn off malloc stack logging because it was not enabled.\n"
     ]
    },
    {
     "name": "stdout",
     "output_type": "stream",
     "text": [
      "PGS PGS004200 успешно рассчитан\n",
      "\n",
      "==========================================\n",
      "Обработка PGS: PGS003355\n",
      "PGS PGS003355, содержит 1532758 SNP\n",
      "Файл содержит позиционную информацию вместо rsID. Создаем синтетиические идентификаторы.\n",
      "Количество SNP в PGS: 1532758\n",
      "Количество общих SNP: 116470\n",
      "Процент покрытия: 7.60%\n",
      "Выполняем расчет PGS PGS003355\n"
     ]
    },
    {
     "name": "stderr",
     "output_type": "stream",
     "text": [
      "Python(19048) MallocStackLogging: can't turn off malloc stack logging because it was not enabled.\n"
     ]
    },
    {
     "name": "stdout",
     "output_type": "stream",
     "text": [
      "PGS PGS003355 успешно рассчитан\n",
      "\n",
      "==========================================\n",
      "Обработка PGS: PGS001355\n",
      "PGS PGS001355, содержит 2994055 SNP\n",
      "Количество SNP в PGS: 2994055\n",
      "Количество общих SNP: 317044\n",
      "Процент покрытия: 10.59%\n",
      "Выполняем расчет PGS PGS001355\n"
     ]
    },
    {
     "name": "stderr",
     "output_type": "stream",
     "text": [
      "Python(19123) MallocStackLogging: can't turn off malloc stack logging because it was not enabled.\n"
     ]
    },
    {
     "name": "stdout",
     "output_type": "stream",
     "text": [
      "PGS PGS001355 успешно рассчитан\n",
      "\n",
      "==========================================\n",
      "Обработка PGS: PGS004198\n",
      "PGS PGS004198, содержит 5723 SNP\n",
      "Количество SNP в PGS: 5723\n",
      "Количество общих SNP: 670\n",
      "Процент покрытия: 11.71%\n",
      "Выполняем расчет PGS PGS004198\n"
     ]
    },
    {
     "name": "stderr",
     "output_type": "stream",
     "text": [
      "Python(19124) MallocStackLogging: can't turn off malloc stack logging because it was not enabled.\n"
     ]
    },
    {
     "name": "stdout",
     "output_type": "stream",
     "text": [
      "PGS PGS004198 успешно рассчитан\n",
      "\n",
      "==========================================\n",
      "Обработка PGS: PGS000329\n",
      "PGS PGS000329, содержит 6423165 SNP\n",
      "Количество SNP в PGS: 6423165\n",
      "Количество общих SNP: 490575\n",
      "Процент покрытия: 7.64%\n",
      "Выполняем расчет PGS PGS000329\n"
     ]
    },
    {
     "name": "stderr",
     "output_type": "stream",
     "text": [
      "Python(19155) MallocStackLogging: can't turn off malloc stack logging because it was not enabled.\n"
     ]
    },
    {
     "name": "stdout",
     "output_type": "stream",
     "text": [
      "PGS PGS000329 успешно рассчитан\n",
      "\n",
      "==========================================\n",
      "Обработка PGS: PGS004199\n",
      "PGS PGS004199, содержит 6085 SNP\n",
      "Количество SNP в PGS: 6085\n",
      "Количество общих SNP: 682\n",
      "Процент покрытия: 11.21%\n",
      "Выполняем расчет PGS PGS004199\n"
     ]
    },
    {
     "name": "stderr",
     "output_type": "stream",
     "text": [
      "Python(19156) MallocStackLogging: can't turn off malloc stack logging because it was not enabled.\n"
     ]
    },
    {
     "name": "stdout",
     "output_type": "stream",
     "text": [
      "PGS PGS004199 успешно рассчитан\n",
      "\n",
      "==========================================\n",
      "Обработка PGS: PGS000116\n",
      "PGS PGS000116, содержит 40079 SNP\n",
      "Количество SNP в PGS: 40079\n",
      "Количество общих SNP: 3662\n",
      "Процент покрытия: 9.14%\n",
      "Выполняем расчет PGS PGS000116\n"
     ]
    },
    {
     "name": "stderr",
     "output_type": "stream",
     "text": [
      "Python(19157) MallocStackLogging: can't turn off malloc stack logging because it was not enabled.\n"
     ]
    },
    {
     "name": "stdout",
     "output_type": "stream",
     "text": [
      "PGS PGS000116 успешно рассчитан\n",
      "\n",
      "==========================================\n",
      "Обработка PGS: PGS005091\n",
      "PGS PGS005091, содержит 1428772 SNP\n",
      "Файл содержит позиционную информацию вместо rsID. Создаем синтетиические идентификаторы.\n",
      "Количество SNP в PGS: 1428772\n",
      "Количество общих SNP: 4354\n",
      "Процент покрытия: 0.30%\n",
      "Выполняем расчет PGS PGS005091\n"
     ]
    },
    {
     "name": "stderr",
     "output_type": "stream",
     "text": [
      "Python(19244) MallocStackLogging: can't turn off malloc stack logging because it was not enabled.\n"
     ]
    },
    {
     "name": "stdout",
     "output_type": "stream",
     "text": [
      "PGS PGS005091 успешно рассчитан\n",
      "\n",
      "==========================================\n",
      "Обработка PGS: PGS005092\n",
      "PGS PGS005092, содержит 1279502 SNP\n",
      "Файл содержит позиционную информацию вместо rsID. Создаем синтетиические идентификаторы.\n",
      "Количество SNP в PGS: 1279502\n",
      "Количество общих SNP: 4540\n",
      "Процент покрытия: 0.35%\n",
      "Выполняем расчет PGS PGS005092\n"
     ]
    },
    {
     "name": "stderr",
     "output_type": "stream",
     "text": [
      "Python(19273) MallocStackLogging: can't turn off malloc stack logging because it was not enabled.\n"
     ]
    },
    {
     "name": "stdout",
     "output_type": "stream",
     "text": [
      "PGS PGS005092 успешно рассчитан\n",
      "\n",
      "==========================================\n",
      "Обработка PGS: PGS004746\n",
      "PGS PGS004746, содержит 6483064 SNP\n",
      "Файл содержит позиционную информацию вместо rsID. Создаем синтетиические идентификаторы.\n",
      "Количество SNP в PGS: 6483064\n",
      "Количество общих SNP: 6132\n",
      "Процент покрытия: 0.09%\n",
      "Выполняем расчет PGS PGS004746\n"
     ]
    },
    {
     "name": "stderr",
     "output_type": "stream",
     "text": [
      "Python(19368) MallocStackLogging: can't turn off malloc stack logging because it was not enabled.\n"
     ]
    },
    {
     "name": "stdout",
     "output_type": "stream",
     "text": [
      "PGS PGS004746 успешно рассчитан\n",
      "\n",
      "==========================================\n",
      "Обработка PGS: PGS004197\n",
      "PGS PGS004197, содержит 11490 SNP\n",
      "Количество SNP в PGS: 11490\n",
      "Количество общих SNP: 1193\n",
      "Процент покрытия: 10.38%\n",
      "Выполняем расчет PGS PGS004197\n"
     ]
    },
    {
     "name": "stderr",
     "output_type": "stream",
     "text": [
      "Python(19369) MallocStackLogging: can't turn off malloc stack logging because it was not enabled.\n"
     ]
    },
    {
     "name": "stdout",
     "output_type": "stream",
     "text": [
      "PGS PGS004197 успешно рассчитан\n",
      "\n",
      "==========================================\n",
      "Обработка PGS: PGS004196\n",
      "PGS PGS004196, содержит 3892 SNP\n",
      "Количество SNP в PGS: 3892\n",
      "Количество общих SNP: 464\n",
      "Процент покрытия: 11.92%\n",
      "Выполняем расчет PGS PGS004196\n"
     ]
    },
    {
     "name": "stderr",
     "output_type": "stream",
     "text": [
      "Python(19371) MallocStackLogging: can't turn off malloc stack logging because it was not enabled.\n"
     ]
    },
    {
     "name": "stdout",
     "output_type": "stream",
     "text": [
      "PGS PGS004196 успешно рассчитан\n",
      "\n",
      "==========================================\n",
      "Обработка PGS: PGS003438\n",
      "PGS PGS003438, содержит 241 SNP\n",
      "Количество SNP в PGS: 241\n",
      "Количество общих SNP: 29\n",
      "Процент покрытия: 12.03%\n",
      "Выполняем расчет PGS PGS003438\n"
     ]
    },
    {
     "name": "stderr",
     "output_type": "stream",
     "text": [
      "Python(19373) MallocStackLogging: can't turn off malloc stack logging because it was not enabled.\n"
     ]
    },
    {
     "name": "stdout",
     "output_type": "stream",
     "text": [
      "PGS PGS003438 успешно рассчитан\n",
      "\n",
      "==========================================\n",
      "Обработка PGS: PGS004237\n",
      "PGS PGS004237, содержит 1146511 SNP\n",
      "Количество SNP в PGS: 1146511\n",
      "Количество общих SNP: 474392\n",
      "Процент покрытия: 41.38%\n",
      "Выполняем расчет PGS PGS004237\n"
     ]
    },
    {
     "name": "stderr",
     "output_type": "stream",
     "text": [
      "Python(19407) MallocStackLogging: can't turn off malloc stack logging because it was not enabled.\n"
     ]
    },
    {
     "name": "stdout",
     "output_type": "stream",
     "text": [
      "PGS PGS004237 успешно рассчитан\n",
      "\n",
      "==========================================\n",
      "Обработка PGS: PGS004745\n",
      "PGS PGS004745, содержит 4769577 SNP\n",
      "Файл содержит позиционную информацию вместо rsID. Создаем синтетиические идентификаторы.\n",
      "Количество SNP в PGS: 4769577\n",
      "Количество общих SNP: 4560\n",
      "Процент покрытия: 0.10%\n",
      "Выполняем расчет PGS PGS004745\n"
     ]
    },
    {
     "name": "stderr",
     "output_type": "stream",
     "text": [
      "Python(19416) MallocStackLogging: can't turn off malloc stack logging because it was not enabled.\n"
     ]
    },
    {
     "name": "stdout",
     "output_type": "stream",
     "text": [
      "Ошибк при расчете PGS PGS004745 Error: Duplicate variant 'rs7862687' in --score file.\n",
      "\n",
      "\n",
      "==========================================\n",
      "Обработка PGS: PGS000899\n",
      "PGS PGS000899, содержит 176 SNP\n",
      "Количество SNP в PGS: 176\n",
      "Количество общих SNP: 37\n",
      "Процент покрытия: 21.02%\n",
      "Выполняем расчет PGS PGS000899\n"
     ]
    },
    {
     "name": "stderr",
     "output_type": "stream",
     "text": [
      "Python(19417) MallocStackLogging: can't turn off malloc stack logging because it was not enabled.\n"
     ]
    },
    {
     "name": "stdout",
     "output_type": "stream",
     "text": [
      "PGS PGS000899 успешно рассчитан\n",
      "\n",
      "==========================================\n",
      "Обработка PGS: PGS004744\n",
      "PGS PGS004744, содержит 7082943 SNP\n",
      "Файл содержит позиционную информацию вместо rsID. Создаем синтетиические идентификаторы.\n",
      "Количество SNP в PGS: 7082943\n",
      "Количество общих SNP: 6891\n",
      "Процент покрытия: 0.10%\n",
      "Выполняем расчет PGS PGS004744\n"
     ]
    },
    {
     "name": "stderr",
     "output_type": "stream",
     "text": [
      "Python(19514) MallocStackLogging: can't turn off malloc stack logging because it was not enabled.\n"
     ]
    },
    {
     "name": "stdout",
     "output_type": "stream",
     "text": [
      "PGS PGS004744 успешно рассчитан\n",
      "\n",
      "==========================================\n",
      "Обработка PGS: PGS004595\n",
      "PGS PGS004595, содержит 164 SNP\n",
      "Количество SNP в PGS: 164\n",
      "Количество общих SNP: 40\n",
      "Процент покрытия: 24.39%\n",
      "Выполняем расчет PGS PGS004595\n"
     ]
    },
    {
     "name": "stderr",
     "output_type": "stream",
     "text": [
      "Python(19528) MallocStackLogging: can't turn off malloc stack logging because it was not enabled.\n"
     ]
    },
    {
     "name": "stdout",
     "output_type": "stream",
     "text": [
      "PGS PGS004595 успешно рассчитан\n",
      "\n",
      "==========================================\n",
      "Обработка PGS: PGS005112\n",
      "PGS PGS005112, содержит 1106628 SNP\n",
      "Количество SNP в PGS: 1106628\n",
      "Количество общих SNP: 454934\n",
      "Процент покрытия: 41.11%\n",
      "Выполняем расчет PGS PGS005112\n"
     ]
    },
    {
     "name": "stderr",
     "output_type": "stream",
     "text": [
      "Python(19546) MallocStackLogging: can't turn off malloc stack logging because it was not enabled.\n"
     ]
    },
    {
     "name": "stdout",
     "output_type": "stream",
     "text": [
      "PGS PGS005112 успешно рассчитан\n",
      "\n",
      "==========================================\n",
      "Обработка PGS: PGS002244\n",
      "PGS PGS002244, содержит 6576338 SNP\n",
      "Количество SNP в PGS: 6576338\n",
      "Количество общих SNP: 497179\n",
      "Процент покрытия: 7.56%\n",
      "Выполняем расчет PGS PGS002244\n"
     ]
    },
    {
     "name": "stderr",
     "output_type": "stream",
     "text": [
      "Python(19553) MallocStackLogging: can't turn off malloc stack logging because it was not enabled.\n"
     ]
    },
    {
     "name": "stdout",
     "output_type": "stream",
     "text": [
      "PGS PGS002244 успешно рассчитан\n",
      "\n",
      "==========================================\n",
      "Обработка PGS: PGS000057\n",
      "PGS PGS000057, содержит 57 SNP\n",
      "Количество SNP в PGS: 57\n",
      "Количество общих SNP: 19\n",
      "Процент покрытия: 33.33%\n",
      "Выполняем расчет PGS PGS000057\n"
     ]
    },
    {
     "name": "stderr",
     "output_type": "stream",
     "text": [
      "Python(19555) MallocStackLogging: can't turn off malloc stack logging because it was not enabled.\n"
     ]
    },
    {
     "name": "stdout",
     "output_type": "stream",
     "text": [
      "PGS PGS000057 успешно рассчитан\n",
      "\n",
      "==========================================\n",
      "Обработка PGS: PGS000296\n",
      "PGS PGS000296, содержит 6630150 SNP\n",
      "Файл содержит позиционную информацию вместо rsID. Создаем синтетиические идентификаторы.\n",
      "Количество SNP в PGS: 6630150\n",
      "Количество общих SNP: 495928\n",
      "Процент покрытия: 7.48%\n",
      "Выполняем расчет PGS PGS000296\n"
     ]
    },
    {
     "name": "stderr",
     "output_type": "stream",
     "text": [
      "Python(19693) MallocStackLogging: can't turn off malloc stack logging because it was not enabled.\n"
     ]
    },
    {
     "name": "stdout",
     "output_type": "stream",
     "text": [
      "PGS PGS000296 успешно рассчитан\n",
      "\n",
      "==========================================\n",
      "Обработка PGS: PGS004743\n",
      "PGS PGS004743, содержит 3606321 SNP\n",
      "Файл содержит позиционную информацию вместо rsID. Создаем синтетиические идентификаторы.\n",
      "Количество SNP в PGS: 3606321\n",
      "Количество общих SNP: 3853\n",
      "Процент покрытия: 0.11%\n",
      "Выполняем расчет PGS PGS004743\n"
     ]
    },
    {
     "name": "stderr",
     "output_type": "stream",
     "text": [
      "Python(19699) MallocStackLogging: can't turn off malloc stack logging because it was not enabled.\n"
     ]
    },
    {
     "name": "stdout",
     "output_type": "stream",
     "text": [
      "Ошибк при расчете PGS PGS004743 Error: Duplicate variant 'rs7862687' in --score file.\n",
      "\n",
      "\n",
      "==========================================\n",
      "Обработка PGS: PGS004596\n",
      "PGS PGS004596, содержит 64 SNP\n",
      "Количество SNP в PGS: 64\n",
      "Количество общих SNP: 24\n",
      "Процент покрытия: 37.50%\n",
      "Выполняем расчет PGS PGS004596\n"
     ]
    },
    {
     "name": "stderr",
     "output_type": "stream",
     "text": [
      "Python(19700) MallocStackLogging: can't turn off malloc stack logging because it was not enabled.\n"
     ]
    },
    {
     "name": "stdout",
     "output_type": "stream",
     "text": [
      "PGS PGS004596 успешно рассчитан\n",
      "\n",
      "==========================================\n",
      "Обработка PGS: PGS000337\n",
      "PGS PGS000337, содержит 75028 SNP\n",
      "Файл содержит позиционную информацию вместо rsID. Создаем синтетиические идентификаторы.\n",
      "Количество SNP в PGS: 75028\n",
      "Количество общих SNP: 10154\n",
      "Процент покрытия: 13.53%\n",
      "Выполняем расчет PGS PGS000337\n"
     ]
    },
    {
     "name": "stderr",
     "output_type": "stream",
     "text": [
      "Python(19701) MallocStackLogging: can't turn off malloc stack logging because it was not enabled.\n"
     ]
    },
    {
     "name": "stdout",
     "output_type": "stream",
     "text": [
      "PGS PGS000337 успешно рассчитан\n",
      "\n",
      "==========================================\n",
      "Обработка PGS: PGS004309\n",
      "PGS PGS004309, содержит 3000 SNP\n",
      "Файл содержит позиционную информацию вместо rsID. Создаем синтетиические идентификаторы.\n",
      "Количество SNP в PGS: 3000\n",
      "Количество общих SNP: 1174\n",
      "Процент покрытия: 39.13%\n",
      "Выполняем расчет PGS PGS004309\n"
     ]
    },
    {
     "name": "stderr",
     "output_type": "stream",
     "text": [
      "Python(19702) MallocStackLogging: can't turn off malloc stack logging because it was not enabled.\n"
     ]
    },
    {
     "name": "stdout",
     "output_type": "stream",
     "text": [
      "PGS PGS004309 успешно рассчитан\n",
      "\n",
      "==========================================\n",
      "Обработка PGS: PGS004321\n",
      "PGS PGS004321, содержит 27 SNP\n",
      "Количество SNP в PGS: 27\n",
      "Количество общих SNP: 14\n",
      "Процент покрытия: 51.85%\n",
      "Выполняем расчет PGS PGS004321\n"
     ]
    },
    {
     "name": "stderr",
     "output_type": "stream",
     "text": [
      "Python(19703) MallocStackLogging: can't turn off malloc stack logging because it was not enabled.\n"
     ]
    },
    {
     "name": "stdout",
     "output_type": "stream",
     "text": [
      "PGS PGS004321 успешно рассчитан\n",
      "\n",
      "==========================================\n",
      "Обработка PGS: PGS004888\n",
      "PGS PGS004888, содержит 1110046 SNP\n",
      "Файл содержит позиционную информацию вместо rsID. Создаем синтетиические идентификаторы.\n",
      "Количество SNP в PGS: 1110046\n",
      "Количество общих SNP: 453801\n",
      "Процент покрытия: 40.88%\n",
      "Выполняем расчет PGS PGS004888\n"
     ]
    },
    {
     "name": "stderr",
     "output_type": "stream",
     "text": [
      "Python(19793) MallocStackLogging: can't turn off malloc stack logging because it was not enabled.\n"
     ]
    },
    {
     "name": "stdout",
     "output_type": "stream",
     "text": [
      "PGS PGS004888 успешно рассчитан\n",
      "\n",
      "==========================================\n",
      "Обработка PGS: PGS004308\n",
      "PGS PGS004308, содержит 1500 SNP\n",
      "Файл содержит позиционную информацию вместо rsID. Создаем синтетиические идентификаторы.\n",
      "Количество SNP в PGS: 1500\n",
      "Количество общих SNP: 584\n",
      "Процент покрытия: 38.93%\n",
      "Выполняем расчет PGS PGS004308\n"
     ]
    },
    {
     "name": "stderr",
     "output_type": "stream",
     "text": [
      "Python(19794) MallocStackLogging: can't turn off malloc stack logging because it was not enabled.\n"
     ]
    },
    {
     "name": "stdout",
     "output_type": "stream",
     "text": [
      "PGS PGS004308 успешно рассчитан\n",
      "\n",
      "==========================================\n",
      "Обработка PGS: PGS000018\n",
      "PGS PGS000018, содержит 1745179 SNP\n",
      "Количество SNP в PGS: 1745179\n",
      "Количество общих SNP: 129619\n",
      "Процент покрытия: 7.43%\n",
      "Выполняем расчет PGS PGS000018\n"
     ]
    },
    {
     "name": "stderr",
     "output_type": "stream",
     "text": [
      "Python(19809) MallocStackLogging: can't turn off malloc stack logging because it was not enabled.\n"
     ]
    },
    {
     "name": "stdout",
     "output_type": "stream",
     "text": [
      "PGS PGS000018 успешно рассчитан\n",
      "\n",
      "==========================================\n",
      "Обработка PGS: PGS004444\n",
      "PGS PGS004444, содержит 1059939 SNP\n",
      "Количество SNP в PGS: 1059939\n",
      "Количество общих SNP: 442559\n",
      "Процент покрытия: 41.75%\n",
      "Выполняем расчет PGS PGS004444\n"
     ]
    },
    {
     "name": "stderr",
     "output_type": "stream",
     "text": [
      "Python(19839) MallocStackLogging: can't turn off malloc stack logging because it was not enabled.\n"
     ]
    },
    {
     "name": "stdout",
     "output_type": "stream",
     "text": [
      "PGS PGS004444 успешно рассчитан\n",
      "\n",
      "==========================================\n",
      "Обработка PGS: PGS000019\n",
      "PGS PGS000019, содержит 192 SNP\n",
      "Количество SNP в PGS: 192\n",
      "Количество общих SNP: 26\n",
      "Процент покрытия: 13.54%\n",
      "Выполняем расчет PGS PGS000019\n"
     ]
    },
    {
     "name": "stderr",
     "output_type": "stream",
     "text": [
      "Python(19843) MallocStackLogging: can't turn off malloc stack logging because it was not enabled.\n"
     ]
    },
    {
     "name": "stdout",
     "output_type": "stream",
     "text": [
      "PGS PGS000019 успешно рассчитан\n",
      "\n",
      "==========================================\n",
      "Обработка PGS: PGS000747\n",
      "PGS PGS000747, содержит 375822 SNP\n",
      "Файл содержит позиционную информацию вместо rsID. Создаем синтетиические идентификаторы.\n",
      "Количество SNP в PGS: 375822\n",
      "Количество общих SNP: 31294\n",
      "Процент покрытия: 8.33%\n",
      "Выполняем расчет PGS PGS000747\n"
     ]
    },
    {
     "name": "stderr",
     "output_type": "stream",
     "text": [
      "Python(19849) MallocStackLogging: can't turn off malloc stack logging because it was not enabled.\n"
     ]
    },
    {
     "name": "stdout",
     "output_type": "stream",
     "text": [
      "PGS PGS000747 успешно рассчитан\n",
      "\n",
      "==========================================\n",
      "Обработка PGS: PGS000746\n",
      "PGS PGS000746, содержит 1940 SNP\n",
      "Файл содержит позиционную информацию вместо rsID. Создаем синтетиические идентификаторы.\n",
      "Количество SNP в PGS: 1940\n",
      "Количество общих SNP: 232\n",
      "Процент покрытия: 11.96%\n",
      "Выполняем расчет PGS PGS000746\n"
     ]
    },
    {
     "name": "stderr",
     "output_type": "stream",
     "text": [
      "Python(19850) MallocStackLogging: can't turn off malloc stack logging because it was not enabled.\n"
     ]
    },
    {
     "name": "stdout",
     "output_type": "stream",
     "text": [
      "PGS PGS000746 успешно рассчитан\n",
      "\n",
      "==========================================\n",
      "Обработка PGS: PGS004697\n",
      "PGS PGS004697, содержит 1120251 SNP\n",
      "Количество SNP в PGS: 1120251\n",
      "Количество общих SNP: 456041\n",
      "Процент покрытия: 40.71%\n",
      "Выполняем расчет PGS PGS004697\n"
     ]
    },
    {
     "name": "stderr",
     "output_type": "stream",
     "text": [
      "Python(19856) MallocStackLogging: can't turn off malloc stack logging because it was not enabled.\n"
     ]
    },
    {
     "name": "stdout",
     "output_type": "stream",
     "text": [
      "PGS PGS004697 успешно рассчитан\n",
      "\n",
      "==========================================\n",
      "Обработка PGS: PGS004899\n",
      "PGS PGS004899, содержит 7 SNP\n",
      "Количество SNP в PGS: 7\n",
      "Количество общих SNP: 0\n",
      "Процент покрытия: 0.00%\n",
      "нет общих SNP для PGS004899\n",
      "\n",
      "==========================================\n",
      "Обработка PGS: PGS004696\n",
      "PGS PGS004696, содержит 1289980 SNP\n",
      "Количество SNP в PGS: 1289980\n",
      "Количество общих SNP: 456450\n",
      "Процент покрытия: 35.38%\n",
      "Выполняем расчет PGS PGS004696\n"
     ]
    },
    {
     "name": "stderr",
     "output_type": "stream",
     "text": [
      "Python(19944) MallocStackLogging: can't turn off malloc stack logging because it was not enabled.\n"
     ]
    },
    {
     "name": "stdout",
     "output_type": "stream",
     "text": [
      "PGS PGS004696 успешно рассчитан\n",
      "\n",
      "==========================================\n",
      "Обработка PGS: PGS004443\n",
      "PGS PGS004443, содержит 1059939 SNP\n",
      "Количество SNP в PGS: 1059939\n",
      "Количество общих SNP: 442559\n",
      "Процент покрытия: 41.75%\n",
      "Выполняем расчет PGS PGS004443\n"
     ]
    },
    {
     "name": "stderr",
     "output_type": "stream",
     "text": [
      "Python(19963) MallocStackLogging: can't turn off malloc stack logging because it was not enabled.\n"
     ]
    },
    {
     "name": "stdout",
     "output_type": "stream",
     "text": [
      "PGS PGS004443 успешно рассчитан\n",
      "\n",
      "==========================================\n",
      "Обработка PGS: PGS000962\n",
      "PGS PGS000962, содержит 2168 SNP\n",
      "Количество SNP в PGS: 2168\n",
      "Количество общих SNP: 444\n",
      "Процент покрытия: 20.48%\n",
      "Выполняем расчет PGS PGS000962\n"
     ]
    },
    {
     "name": "stderr",
     "output_type": "stream",
     "text": [
      "Python(19964) MallocStackLogging: can't turn off malloc stack logging because it was not enabled.\n"
     ]
    },
    {
     "name": "stdout",
     "output_type": "stream",
     "text": [
      "PGS PGS000962 успешно рассчитан\n",
      "Объеденены PGS для 224 образцов и 73 PGS\n"
     ]
    },
    {
     "name": "stderr",
     "output_type": "stream",
     "text": [
      "/Users/daklo/for_dipl/pgs_calculator.py:139: SettingWithCopyWarning: \n",
      "A value is trying to be set on a copy of a slice from a DataFrame.\n",
      "Try using .loc[row_indexer,col_indexer] = value instead\n",
      "\n",
      "See the caveats in the documentation: https://pandas.pydata.org/pandas-docs/stable/user_guide/indexing.html#returning-a-view-versus-a-copy\n",
      "  combined[pgs_name] = df['SCORE']\n",
      "/Users/daklo/for_dipl/pgs_calculator.py:139: SettingWithCopyWarning: \n",
      "A value is trying to be set on a copy of a slice from a DataFrame.\n",
      "Try using .loc[row_indexer,col_indexer] = value instead\n",
      "\n",
      "See the caveats in the documentation: https://pandas.pydata.org/pandas-docs/stable/user_guide/indexing.html#returning-a-view-versus-a-copy\n",
      "  combined[pgs_name] = df['SCORE']\n",
      "/Users/daklo/for_dipl/pgs_calculator.py:139: SettingWithCopyWarning: \n",
      "A value is trying to be set on a copy of a slice from a DataFrame.\n",
      "Try using .loc[row_indexer,col_indexer] = value instead\n",
      "\n",
      "See the caveats in the documentation: https://pandas.pydata.org/pandas-docs/stable/user_guide/indexing.html#returning-a-view-versus-a-copy\n",
      "  combined[pgs_name] = df['SCORE']\n"
     ]
    },
    {
     "name": "stdout",
     "output_type": "stream",
     "text": [
      "Сохраняю в ./pgs_results_calculated/test_1_pgs.csv\n",
      "\n",
      "Примеры данных из X_train:\n"
     ]
    },
    {
     "data": {
      "text/html": [
       "<div>\n",
       "<style scoped>\n",
       "    .dataframe tbody tr th:only-of-type {\n",
       "        vertical-align: middle;\n",
       "    }\n",
       "\n",
       "    .dataframe tbody tr th {\n",
       "        vertical-align: top;\n",
       "    }\n",
       "\n",
       "    .dataframe thead th {\n",
       "        text-align: right;\n",
       "    }\n",
       "</style>\n",
       "<table border=\"1\" class=\"dataframe\">\n",
       "  <thead>\n",
       "    <tr style=\"text-align: right;\">\n",
       "      <th></th>\n",
       "      <th>PGS003725</th>\n",
       "      <th>PGS000748</th>\n",
       "      <th>PGS000012</th>\n",
       "      <th>PGS003446</th>\n",
       "      <th>PGS004513</th>\n",
       "      <th>PGS000013</th>\n",
       "      <th>PGS005143</th>\n",
       "      <th>PGS003726</th>\n",
       "      <th>PGS002809</th>\n",
       "      <th>PGS000011</th>\n",
       "      <th>...</th>\n",
       "      <th>PGS004308</th>\n",
       "      <th>PGS000018</th>\n",
       "      <th>PGS004444</th>\n",
       "      <th>PGS000019</th>\n",
       "      <th>PGS000747</th>\n",
       "      <th>PGS000746</th>\n",
       "      <th>PGS004697</th>\n",
       "      <th>PGS004696</th>\n",
       "      <th>PGS004443</th>\n",
       "      <th>PGS000962</th>\n",
       "    </tr>\n",
       "  </thead>\n",
       "  <tbody>\n",
       "    <tr>\n",
       "      <th>0</th>\n",
       "      <td>-0.000002</td>\n",
       "      <td>-0.000063</td>\n",
       "      <td>0.006168</td>\n",
       "      <td>0.000101</td>\n",
       "      <td>9.564110e-09</td>\n",
       "      <td>0.000001</td>\n",
       "      <td>2.133860e-07</td>\n",
       "      <td>-7.218230e-07</td>\n",
       "      <td>0.031939</td>\n",
       "      <td>0.049722</td>\n",
       "      <td>...</td>\n",
       "      <td>-0.000415</td>\n",
       "      <td>0.000024</td>\n",
       "      <td>-4.750460e-08</td>\n",
       "      <td>0.027707</td>\n",
       "      <td>-0.000216</td>\n",
       "      <td>-0.001155</td>\n",
       "      <td>9.168060e-08</td>\n",
       "      <td>-2.434950e-08</td>\n",
       "      <td>3.394500e-08</td>\n",
       "      <td>0.000155</td>\n",
       "    </tr>\n",
       "    <tr>\n",
       "      <th>1</th>\n",
       "      <td>-0.000002</td>\n",
       "      <td>-0.000086</td>\n",
       "      <td>0.006297</td>\n",
       "      <td>0.000143</td>\n",
       "      <td>-9.101150e-09</td>\n",
       "      <td>0.000001</td>\n",
       "      <td>3.248400e-07</td>\n",
       "      <td>-9.692360e-07</td>\n",
       "      <td>0.033945</td>\n",
       "      <td>0.052974</td>\n",
       "      <td>...</td>\n",
       "      <td>0.000108</td>\n",
       "      <td>0.000026</td>\n",
       "      <td>-4.730070e-08</td>\n",
       "      <td>0.041390</td>\n",
       "      <td>-0.000261</td>\n",
       "      <td>0.000481</td>\n",
       "      <td>-6.658430e-08</td>\n",
       "      <td>-8.708460e-08</td>\n",
       "      <td>-3.074330e-07</td>\n",
       "      <td>0.000240</td>\n",
       "    </tr>\n",
       "    <tr>\n",
       "      <th>2</th>\n",
       "      <td>-0.000002</td>\n",
       "      <td>-0.000077</td>\n",
       "      <td>0.006248</td>\n",
       "      <td>0.000084</td>\n",
       "      <td>-6.522850e-09</td>\n",
       "      <td>0.000001</td>\n",
       "      <td>2.045290e-07</td>\n",
       "      <td>-7.326330e-07</td>\n",
       "      <td>0.028568</td>\n",
       "      <td>0.053982</td>\n",
       "      <td>...</td>\n",
       "      <td>-0.000122</td>\n",
       "      <td>0.000025</td>\n",
       "      <td>4.170420e-08</td>\n",
       "      <td>0.028056</td>\n",
       "      <td>-0.000272</td>\n",
       "      <td>0.001207</td>\n",
       "      <td>2.006940e-08</td>\n",
       "      <td>-4.644520e-08</td>\n",
       "      <td>-1.237580e-07</td>\n",
       "      <td>0.000443</td>\n",
       "    </tr>\n",
       "    <tr>\n",
       "      <th>3</th>\n",
       "      <td>-0.000002</td>\n",
       "      <td>-0.000103</td>\n",
       "      <td>0.006256</td>\n",
       "      <td>0.000172</td>\n",
       "      <td>3.369850e-08</td>\n",
       "      <td>0.000001</td>\n",
       "      <td>8.305090e-08</td>\n",
       "      <td>-1.077140e-06</td>\n",
       "      <td>0.028405</td>\n",
       "      <td>0.059610</td>\n",
       "      <td>...</td>\n",
       "      <td>-0.000317</td>\n",
       "      <td>0.000025</td>\n",
       "      <td>1.866090e-07</td>\n",
       "      <td>0.026249</td>\n",
       "      <td>-0.000253</td>\n",
       "      <td>0.001528</td>\n",
       "      <td>-4.605220e-08</td>\n",
       "      <td>9.093590e-09</td>\n",
       "      <td>2.311260e-07</td>\n",
       "      <td>0.000099</td>\n",
       "    </tr>\n",
       "    <tr>\n",
       "      <th>4</th>\n",
       "      <td>-0.000002</td>\n",
       "      <td>-0.000073</td>\n",
       "      <td>0.006176</td>\n",
       "      <td>0.000113</td>\n",
       "      <td>1.468600e-08</td>\n",
       "      <td>0.000001</td>\n",
       "      <td>-1.259080e-07</td>\n",
       "      <td>-1.019170e-06</td>\n",
       "      <td>0.029801</td>\n",
       "      <td>0.047192</td>\n",
       "      <td>...</td>\n",
       "      <td>-0.000132</td>\n",
       "      <td>0.000025</td>\n",
       "      <td>2.014950e-07</td>\n",
       "      <td>0.029258</td>\n",
       "      <td>-0.000246</td>\n",
       "      <td>0.000573</td>\n",
       "      <td>-5.109820e-08</td>\n",
       "      <td>-1.013180e-07</td>\n",
       "      <td>-2.865600e-08</td>\n",
       "      <td>0.000167</td>\n",
       "    </tr>\n",
       "  </tbody>\n",
       "</table>\n",
       "<p>5 rows × 73 columns</p>\n",
       "</div>"
      ],
      "text/plain": [
       "   PGS003725  PGS000748  PGS000012  PGS003446     PGS004513  PGS000013  \\\n",
       "0  -0.000002  -0.000063   0.006168   0.000101  9.564110e-09   0.000001   \n",
       "1  -0.000002  -0.000086   0.006297   0.000143 -9.101150e-09   0.000001   \n",
       "2  -0.000002  -0.000077   0.006248   0.000084 -6.522850e-09   0.000001   \n",
       "3  -0.000002  -0.000103   0.006256   0.000172  3.369850e-08   0.000001   \n",
       "4  -0.000002  -0.000073   0.006176   0.000113  1.468600e-08   0.000001   \n",
       "\n",
       "      PGS005143     PGS003726  PGS002809  PGS000011  ...  PGS004308  \\\n",
       "0  2.133860e-07 -7.218230e-07   0.031939   0.049722  ...  -0.000415   \n",
       "1  3.248400e-07 -9.692360e-07   0.033945   0.052974  ...   0.000108   \n",
       "2  2.045290e-07 -7.326330e-07   0.028568   0.053982  ...  -0.000122   \n",
       "3  8.305090e-08 -1.077140e-06   0.028405   0.059610  ...  -0.000317   \n",
       "4 -1.259080e-07 -1.019170e-06   0.029801   0.047192  ...  -0.000132   \n",
       "\n",
       "   PGS000018     PGS004444  PGS000019  PGS000747  PGS000746     PGS004697  \\\n",
       "0   0.000024 -4.750460e-08   0.027707  -0.000216  -0.001155  9.168060e-08   \n",
       "1   0.000026 -4.730070e-08   0.041390  -0.000261   0.000481 -6.658430e-08   \n",
       "2   0.000025  4.170420e-08   0.028056  -0.000272   0.001207  2.006940e-08   \n",
       "3   0.000025  1.866090e-07   0.026249  -0.000253   0.001528 -4.605220e-08   \n",
       "4   0.000025  2.014950e-07   0.029258  -0.000246   0.000573 -5.109820e-08   \n",
       "\n",
       "      PGS004696     PGS004443  PGS000962  \n",
       "0 -2.434950e-08  3.394500e-08   0.000155  \n",
       "1 -8.708460e-08 -3.074330e-07   0.000240  \n",
       "2 -4.644520e-08 -1.237580e-07   0.000443  \n",
       "3  9.093590e-09  2.311260e-07   0.000099  \n",
       "4 -1.013180e-07 -2.865600e-08   0.000167  \n",
       "\n",
       "[5 rows x 73 columns]"
      ]
     },
     "metadata": {},
     "output_type": "display_data"
    },
    {
     "data": {
      "text/html": [
       "<div>\n",
       "<style scoped>\n",
       "    .dataframe tbody tr th:only-of-type {\n",
       "        vertical-align: middle;\n",
       "    }\n",
       "\n",
       "    .dataframe tbody tr th {\n",
       "        vertical-align: top;\n",
       "    }\n",
       "\n",
       "    .dataframe thead th {\n",
       "        text-align: right;\n",
       "    }\n",
       "</style>\n",
       "<table border=\"1\" class=\"dataframe\">\n",
       "  <thead>\n",
       "    <tr style=\"text-align: right;\">\n",
       "      <th></th>\n",
       "      <th>PGS003725</th>\n",
       "      <th>PGS000748</th>\n",
       "      <th>PGS000012</th>\n",
       "      <th>PGS003446</th>\n",
       "      <th>PGS004513</th>\n",
       "      <th>PGS000013</th>\n",
       "      <th>PGS005143</th>\n",
       "      <th>PGS003726</th>\n",
       "      <th>PGS002809</th>\n",
       "      <th>PGS000011</th>\n",
       "      <th>...</th>\n",
       "      <th>PGS004308</th>\n",
       "      <th>PGS000018</th>\n",
       "      <th>PGS004444</th>\n",
       "      <th>PGS000019</th>\n",
       "      <th>PGS000747</th>\n",
       "      <th>PGS000746</th>\n",
       "      <th>PGS004697</th>\n",
       "      <th>PGS004696</th>\n",
       "      <th>PGS004443</th>\n",
       "      <th>PGS000962</th>\n",
       "    </tr>\n",
       "  </thead>\n",
       "  <tbody>\n",
       "    <tr>\n",
       "      <th>0</th>\n",
       "      <td>-0.000002</td>\n",
       "      <td>-0.000090</td>\n",
       "      <td>0.006240</td>\n",
       "      <td>0.000114</td>\n",
       "      <td>3.232680e-08</td>\n",
       "      <td>0.000001</td>\n",
       "      <td>1.326820e-07</td>\n",
       "      <td>-8.974010e-07</td>\n",
       "      <td>0.031143</td>\n",
       "      <td>0.044140</td>\n",
       "      <td>...</td>\n",
       "      <td>-0.000298</td>\n",
       "      <td>0.000026</td>\n",
       "      <td>8.757510e-08</td>\n",
       "      <td>0.036693</td>\n",
       "      <td>-0.000271</td>\n",
       "      <td>0.000935</td>\n",
       "      <td>-2.081210e-07</td>\n",
       "      <td>-1.443550e-07</td>\n",
       "      <td>8.508190e-08</td>\n",
       "      <td>0.000222</td>\n",
       "    </tr>\n",
       "    <tr>\n",
       "      <th>1</th>\n",
       "      <td>-0.000002</td>\n",
       "      <td>-0.000100</td>\n",
       "      <td>0.006222</td>\n",
       "      <td>0.000147</td>\n",
       "      <td>1.397100e-08</td>\n",
       "      <td>0.000001</td>\n",
       "      <td>3.206020e-07</td>\n",
       "      <td>-6.322580e-07</td>\n",
       "      <td>0.036419</td>\n",
       "      <td>0.060008</td>\n",
       "      <td>...</td>\n",
       "      <td>0.000264</td>\n",
       "      <td>0.000025</td>\n",
       "      <td>1.927280e-07</td>\n",
       "      <td>0.029749</td>\n",
       "      <td>-0.000293</td>\n",
       "      <td>0.003227</td>\n",
       "      <td>-1.010620e-07</td>\n",
       "      <td>-5.048970e-08</td>\n",
       "      <td>7.445720e-08</td>\n",
       "      <td>0.000300</td>\n",
       "    </tr>\n",
       "    <tr>\n",
       "      <th>2</th>\n",
       "      <td>-0.000002</td>\n",
       "      <td>-0.000082</td>\n",
       "      <td>0.006276</td>\n",
       "      <td>0.000143</td>\n",
       "      <td>3.775060e-09</td>\n",
       "      <td>0.000001</td>\n",
       "      <td>1.422490e-07</td>\n",
       "      <td>-1.140040e-06</td>\n",
       "      <td>0.030426</td>\n",
       "      <td>0.064864</td>\n",
       "      <td>...</td>\n",
       "      <td>-0.000518</td>\n",
       "      <td>0.000025</td>\n",
       "      <td>4.896200e-08</td>\n",
       "      <td>0.031422</td>\n",
       "      <td>-0.000235</td>\n",
       "      <td>0.002630</td>\n",
       "      <td>2.264130e-08</td>\n",
       "      <td>-2.129720e-08</td>\n",
       "      <td>-3.854420e-08</td>\n",
       "      <td>0.000329</td>\n",
       "    </tr>\n",
       "    <tr>\n",
       "      <th>3</th>\n",
       "      <td>-0.000002</td>\n",
       "      <td>-0.000068</td>\n",
       "      <td>0.006353</td>\n",
       "      <td>0.000137</td>\n",
       "      <td>1.349510e-08</td>\n",
       "      <td>0.000001</td>\n",
       "      <td>2.176190e-07</td>\n",
       "      <td>-6.943480e-07</td>\n",
       "      <td>0.038709</td>\n",
       "      <td>0.061327</td>\n",
       "      <td>...</td>\n",
       "      <td>-0.000099</td>\n",
       "      <td>0.000026</td>\n",
       "      <td>6.603960e-09</td>\n",
       "      <td>0.033910</td>\n",
       "      <td>-0.000233</td>\n",
       "      <td>0.002900</td>\n",
       "      <td>-3.168850e-08</td>\n",
       "      <td>4.789640e-08</td>\n",
       "      <td>3.269710e-08</td>\n",
       "      <td>0.000172</td>\n",
       "    </tr>\n",
       "    <tr>\n",
       "      <th>4</th>\n",
       "      <td>-0.000002</td>\n",
       "      <td>-0.000073</td>\n",
       "      <td>0.006288</td>\n",
       "      <td>0.000144</td>\n",
       "      <td>1.477940e-08</td>\n",
       "      <td>0.000001</td>\n",
       "      <td>1.299590e-07</td>\n",
       "      <td>-4.747900e-07</td>\n",
       "      <td>0.039592</td>\n",
       "      <td>0.065155</td>\n",
       "      <td>...</td>\n",
       "      <td>-0.000323</td>\n",
       "      <td>0.000025</td>\n",
       "      <td>2.412310e-07</td>\n",
       "      <td>0.026753</td>\n",
       "      <td>-0.000271</td>\n",
       "      <td>0.002381</td>\n",
       "      <td>-3.297300e-08</td>\n",
       "      <td>-7.666710e-08</td>\n",
       "      <td>1.025000e-07</td>\n",
       "      <td>0.000320</td>\n",
       "    </tr>\n",
       "  </tbody>\n",
       "</table>\n",
       "<p>5 rows × 73 columns</p>\n",
       "</div>"
      ],
      "text/plain": [
       "   PGS003725  PGS000748  PGS000012  PGS003446     PGS004513  PGS000013  \\\n",
       "0  -0.000002  -0.000090   0.006240   0.000114  3.232680e-08   0.000001   \n",
       "1  -0.000002  -0.000100   0.006222   0.000147  1.397100e-08   0.000001   \n",
       "2  -0.000002  -0.000082   0.006276   0.000143  3.775060e-09   0.000001   \n",
       "3  -0.000002  -0.000068   0.006353   0.000137  1.349510e-08   0.000001   \n",
       "4  -0.000002  -0.000073   0.006288   0.000144  1.477940e-08   0.000001   \n",
       "\n",
       "      PGS005143     PGS003726  PGS002809  PGS000011  ...  PGS004308  \\\n",
       "0  1.326820e-07 -8.974010e-07   0.031143   0.044140  ...  -0.000298   \n",
       "1  3.206020e-07 -6.322580e-07   0.036419   0.060008  ...   0.000264   \n",
       "2  1.422490e-07 -1.140040e-06   0.030426   0.064864  ...  -0.000518   \n",
       "3  2.176190e-07 -6.943480e-07   0.038709   0.061327  ...  -0.000099   \n",
       "4  1.299590e-07 -4.747900e-07   0.039592   0.065155  ...  -0.000323   \n",
       "\n",
       "   PGS000018     PGS004444  PGS000019  PGS000747  PGS000746     PGS004697  \\\n",
       "0   0.000026  8.757510e-08   0.036693  -0.000271   0.000935 -2.081210e-07   \n",
       "1   0.000025  1.927280e-07   0.029749  -0.000293   0.003227 -1.010620e-07   \n",
       "2   0.000025  4.896200e-08   0.031422  -0.000235   0.002630  2.264130e-08   \n",
       "3   0.000026  6.603960e-09   0.033910  -0.000233   0.002900 -3.168850e-08   \n",
       "4   0.000025  2.412310e-07   0.026753  -0.000271   0.002381 -3.297300e-08   \n",
       "\n",
       "      PGS004696     PGS004443  PGS000962  \n",
       "0 -1.443550e-07  8.508190e-08   0.000222  \n",
       "1 -5.048970e-08  7.445720e-08   0.000300  \n",
       "2 -2.129720e-08 -3.854420e-08   0.000329  \n",
       "3  4.789640e-08  3.269710e-08   0.000172  \n",
       "4 -7.666710e-08  1.025000e-07   0.000320  \n",
       "\n",
       "[5 rows x 73 columns]"
      ]
     },
     "metadata": {},
     "output_type": "display_data"
    },
    {
     "name": "stdout",
     "output_type": "stream",
     "text": [
      "1\n",
      "файл ./train_2.bim, содержит 591998 SNP\n",
      "Найдено 76 PGS\n",
      "\n",
      "==========================================\n",
      "Обработка PGS: PGS003725\n",
      "PGS PGS003725, содержит 1296172 SNP\n",
      "Файл содержит позиционную информацию вместо rsID. Создаем синтетиические идентификаторы.\n",
      "Количество SNP в PGS: 1296172\n",
      "Количество общих SNP: 456468\n",
      "Процент покрытия: 35.22%\n",
      "Выполняем расчет PGS PGS003725\n"
     ]
    },
    {
     "name": "stderr",
     "output_type": "stream",
     "text": [
      "Python(19985) MallocStackLogging: can't turn off malloc stack logging because it was not enabled.\n"
     ]
    },
    {
     "name": "stdout",
     "output_type": "stream",
     "text": [
      "PGS PGS003725 успешно рассчитан\n",
      "\n",
      "==========================================\n",
      "Обработка PGS: PGS000748\n",
      "PGS PGS000748, содержит 3423987 SNP\n",
      "Файл содержит позиционную информацию вместо rsID. Создаем синтетиические идентификаторы.\n",
      "Количество SNP в PGS: 3423987\n",
      "Количество общих SNP: 416579\n",
      "Процент покрытия: 12.17%\n",
      "Выполняем расчет PGS PGS000748\n"
     ]
    },
    {
     "name": "stderr",
     "output_type": "stream",
     "text": [
      "Python(20089) MallocStackLogging: can't turn off malloc stack logging because it was not enabled.\n"
     ]
    },
    {
     "name": "stdout",
     "output_type": "stream",
     "text": [
      "PGS PGS000748 успешно рассчитан\n",
      "\n",
      "==========================================\n",
      "Обработка PGS: PGS000012\n",
      "PGS PGS000012, содержит 49310 SNP\n",
      "Количество SNP в PGS: 49310\n",
      "Количество общих SNP: 15881\n",
      "Процент покрытия: 32.21%\n",
      "Выполняем расчет PGS PGS000012\n"
     ]
    },
    {
     "name": "stderr",
     "output_type": "stream",
     "text": [
      "Python(20092) MallocStackLogging: can't turn off malloc stack logging because it was not enabled.\n"
     ]
    },
    {
     "name": "stdout",
     "output_type": "stream",
     "text": [
      "PGS PGS000012 успешно рассчитан\n",
      "\n",
      "==========================================\n",
      "Обработка PGS: PGS003446\n",
      "PGS PGS003446, содержит 538084 SNP\n",
      "Файл содержит позиционную информацию вместо rsID. Создаем синтетиические идентификаторы.\n",
      "Количество SNP в PGS: 538084\n",
      "Количество общих SNP: 25529\n",
      "Процент покрытия: 4.74%\n",
      "Выполняем расчет PGS PGS003446\n"
     ]
    },
    {
     "name": "stderr",
     "output_type": "stream",
     "text": [
      "Python(20093) MallocStackLogging: can't turn off malloc stack logging because it was not enabled.\n"
     ]
    },
    {
     "name": "stdout",
     "output_type": "stream",
     "text": [
      "PGS PGS003446 успешно рассчитан\n",
      "\n",
      "==========================================\n",
      "Обработка PGS: PGS004513\n",
      "PGS PGS004513, содержит 1059939 SNP\n",
      "Количество SNP в PGS: 1059939\n",
      "Количество общих SNP: 442559\n",
      "Процент покрытия: 41.75%\n",
      "Выполняем расчет PGS PGS004513\n"
     ]
    },
    {
     "name": "stderr",
     "output_type": "stream",
     "text": [
      "Python(20113) MallocStackLogging: can't turn off malloc stack logging because it was not enabled.\n"
     ]
    },
    {
     "name": "stdout",
     "output_type": "stream",
     "text": [
      "PGS PGS004513 успешно рассчитан\n",
      "\n",
      "==========================================\n",
      "Обработка PGS: PGS000013\n",
      "PGS PGS000013, содержит 6630150 SNP\n",
      "Файл содержит позиционную информацию вместо rsID. Создаем синтетиические идентификаторы.\n",
      "Количество SNP в PGS: 6630150\n",
      "Количество общих SNP: 495928\n",
      "Процент покрытия: 7.48%\n",
      "Выполняем расчет PGS PGS000013\n"
     ]
    },
    {
     "name": "stderr",
     "output_type": "stream",
     "text": [
      "Python(20242) MallocStackLogging: can't turn off malloc stack logging because it was not enabled.\n"
     ]
    },
    {
     "name": "stdout",
     "output_type": "stream",
     "text": [
      "PGS PGS000013 успешно рассчитан\n",
      "\n",
      "==========================================\n",
      "Обработка PGS: PGS005143\n",
      "PGS PGS005143, содержит 943274 SNP\n",
      "Количество SNP в PGS: 943274\n",
      "Количество общих SNP: 395304\n",
      "Процент покрытия: 41.91%\n",
      "Выполняем расчет PGS PGS005143\n"
     ]
    },
    {
     "name": "stderr",
     "output_type": "stream",
     "text": [
      "Python(20261) MallocStackLogging: can't turn off malloc stack logging because it was not enabled.\n"
     ]
    },
    {
     "name": "stdout",
     "output_type": "stream",
     "text": [
      "PGS PGS005143 успешно рассчитан\n",
      "\n",
      "==========================================\n",
      "Обработка PGS: PGS003726\n",
      "PGS PGS003726, содержит 1296172 SNP\n",
      "Файл содержит позиционную информацию вместо rsID. Создаем синтетиические идентификаторы.\n",
      "Количество SNP в PGS: 1296172\n",
      "Количество общих SNP: 456468\n",
      "Процент покрытия: 35.22%\n",
      "Выполняем расчет PGS PGS003726\n"
     ]
    },
    {
     "name": "stderr",
     "output_type": "stream",
     "text": [
      "Python(20268) MallocStackLogging: can't turn off malloc stack logging because it was not enabled.\n"
     ]
    },
    {
     "name": "stdout",
     "output_type": "stream",
     "text": [
      "PGS PGS003726 успешно рассчитан\n",
      "\n",
      "==========================================\n",
      "Обработка PGS: PGS002809\n",
      "PGS PGS002809, содержит 205 SNP\n",
      "Количество SNP в PGS: 205\n",
      "Количество общих SNP: 48\n",
      "Процент покрытия: 23.41%\n",
      "Выполняем расчет PGS PGS002809\n"
     ]
    },
    {
     "name": "stderr",
     "output_type": "stream",
     "text": [
      "Python(20269) MallocStackLogging: can't turn off malloc stack logging because it was not enabled.\n"
     ]
    },
    {
     "name": "stdout",
     "output_type": "stream",
     "text": [
      "PGS PGS002809 успешно рассчитан\n",
      "\n",
      "==========================================\n",
      "Обработка PGS: PGS000011\n",
      "PGS PGS000011, содержит 50 SNP\n",
      "Количество SNP в PGS: 50\n",
      "Количество общих SNP: 22\n",
      "Процент покрытия: 44.00%\n",
      "Выполняем расчет PGS PGS000011\n"
     ]
    },
    {
     "name": "stderr",
     "output_type": "stream",
     "text": [
      "Python(20270) MallocStackLogging: can't turn off malloc stack logging because it was not enabled.\n"
     ]
    },
    {
     "name": "stdout",
     "output_type": "stream",
     "text": [
      "PGS PGS000011 успешно рассчитан\n",
      "\n",
      "==========================================\n",
      "Обработка PGS: PGS000818\n",
      "PGS PGS000818, содержит 138 SNP\n",
      "Количество SNP в PGS: 138\n",
      "Количество общих SNP: 42\n",
      "Процент покрытия: 30.43%\n",
      "Выполняем расчет PGS PGS000818\n"
     ]
    },
    {
     "name": "stderr",
     "output_type": "stream",
     "text": [
      "Python(20271) MallocStackLogging: can't turn off malloc stack logging because it was not enabled.\n"
     ]
    },
    {
     "name": "stdout",
     "output_type": "stream",
     "text": [
      "PGS PGS000818 успешно рассчитан\n",
      "\n",
      "==========================================\n",
      "Обработка PGS: PGS004698\n",
      "PGS PGS004698, содержит 542218 SNP\n",
      "Файл содержит позиционную информацию вместо rsID. Создаем синтетиические идентификаторы.\n",
      "Количество SNP в PGS: 542218\n",
      "Количество общих SNP: 26884\n",
      "Процент покрытия: 4.96%\n",
      "Выполняем расчет PGS PGS004698\n"
     ]
    },
    {
     "name": "stderr",
     "output_type": "stream",
     "text": [
      "Python(20348) MallocStackLogging: can't turn off malloc stack logging because it was not enabled.\n"
     ]
    },
    {
     "name": "stdout",
     "output_type": "stream",
     "text": [
      "PGS PGS004698 успешно рассчитан\n",
      "\n",
      "==========================================\n",
      "Обработка PGS: PGS000010\n",
      "PGS PGS000010, содержит 27 SNP\n",
      "Количество SNP в PGS: 27\n",
      "Количество общих SNP: 14\n",
      "Процент покрытия: 51.85%\n",
      "Выполняем расчет PGS PGS000010\n"
     ]
    },
    {
     "name": "stderr",
     "output_type": "stream",
     "text": [
      "Python(20349) MallocStackLogging: can't turn off malloc stack logging because it was not enabled.\n"
     ]
    },
    {
     "name": "stdout",
     "output_type": "stream",
     "text": [
      "PGS PGS000010 успешно рассчитан\n",
      "\n",
      "==========================================\n",
      "Обработка PGS: PGS003727\n",
      "PGS PGS003727, содержит 1125113 SNP\n",
      "Файл содержит позиционную информацию вместо rsID. Создаем синтетиические идентификаторы.\n",
      "Количество SNP в PGS: 1125113\n",
      "Количество общих SNP: 455311\n",
      "Процент покрытия: 40.47%\n",
      "Выполняем расчет PGS PGS003727\n"
     ]
    },
    {
     "name": "stderr",
     "output_type": "stream",
     "text": [
      "Python(20380) MallocStackLogging: can't turn off malloc stack logging because it was not enabled.\n"
     ]
    },
    {
     "name": "stdout",
     "output_type": "stream",
     "text": [
      "PGS PGS003727 успешно рассчитан\n",
      "\n",
      "==========================================\n",
      "Обработка PGS: PGS004921\n",
      "PGS PGS004921, содержит 161 SNP\n",
      "Количество SNP в PGS: 161\n",
      "Количество общих SNP: 30\n",
      "Процент покрытия: 18.63%\n",
      "Выполняем расчет PGS PGS004921\n"
     ]
    },
    {
     "name": "stderr",
     "output_type": "stream",
     "text": [
      "Python(20381) MallocStackLogging: can't turn off malloc stack logging because it was not enabled.\n"
     ]
    },
    {
     "name": "stdout",
     "output_type": "stream",
     "text": [
      "PGS PGS004921 успешно рассчитан\n",
      "\n",
      "==========================================\n",
      "Обработка PGS: PGS004919\n",
      "PGS PGS004919, содержит 50 SNP\n",
      "Количество SNP в PGS: 50\n",
      "Количество общих SNP: 22\n",
      "Процент покрытия: 44.00%\n",
      "Выполняем расчет PGS PGS004919\n"
     ]
    },
    {
     "name": "stderr",
     "output_type": "stream",
     "text": [
      "Python(20382) MallocStackLogging: can't turn off malloc stack logging because it was not enabled.\n"
     ]
    },
    {
     "name": "stdout",
     "output_type": "stream",
     "text": [
      "PGS PGS004919 успешно рассчитан\n",
      "\n",
      "==========================================\n",
      "Обработка PGS: PGS004925\n",
      "PGS PGS004925, содержит 300 SNP\n",
      "Количество SNP в PGS: 300\n",
      "Количество общих SNP: 46\n",
      "Процент покрытия: 15.33%\n",
      "Выполняем расчет PGS PGS004925\n"
     ]
    },
    {
     "name": "stderr",
     "output_type": "stream",
     "text": [
      "Python(20383) MallocStackLogging: can't turn off malloc stack logging because it was not enabled.\n"
     ]
    },
    {
     "name": "stdout",
     "output_type": "stream",
     "text": [
      "PGS PGS004925 успешно рассчитан\n",
      "\n",
      "==========================================\n",
      "Обработка PGS: PGS004514\n",
      "PGS PGS004514, содержит 1059939 SNP\n",
      "Количество SNP в PGS: 1059939\n",
      "Количество общих SNP: 442559\n",
      "Процент покрытия: 41.75%\n",
      "Выполняем расчет PGS PGS004514\n"
     ]
    },
    {
     "name": "stderr",
     "output_type": "stream",
     "text": [
      "Python(20402) MallocStackLogging: can't turn off malloc stack logging because it was not enabled.\n"
     ]
    },
    {
     "name": "stdout",
     "output_type": "stream",
     "text": [
      "PGS PGS004514 успешно рассчитан\n",
      "\n",
      "==========================================\n",
      "Обработка PGS: PGS004306\n",
      "PGS PGS004306, содержит 4000 SNP\n",
      "Файл содержит позиционную информацию вместо rsID. Создаем синтетиические идентификаторы.\n",
      "Количество SNP в PGS: 4000\n",
      "Количество общих SNP: 1576\n",
      "Процент покрытия: 39.40%\n",
      "Выполняем расчет PGS PGS004306\n"
     ]
    },
    {
     "name": "stderr",
     "output_type": "stream",
     "text": [
      "Python(20404) MallocStackLogging: can't turn off malloc stack logging because it was not enabled.\n"
     ]
    },
    {
     "name": "stdout",
     "output_type": "stream",
     "text": [
      "PGS PGS004306 успешно рассчитан\n",
      "\n",
      "==========================================\n",
      "Обработка PGS: PGS004879\n",
      "PGS PGS004879, содержит 610677 SNP\n",
      "Количество SNP в PGS: 610677\n",
      "Количество общих SNP: 259008\n",
      "Процент покрытия: 42.41%\n",
      "Выполняем расчет PGS PGS004879\n"
     ]
    },
    {
     "name": "stderr",
     "output_type": "stream",
     "text": [
      "Python(20407) MallocStackLogging: can't turn off malloc stack logging because it was not enabled.\n"
     ]
    },
    {
     "name": "stdout",
     "output_type": "stream",
     "text": [
      "PGS PGS004879 успешно рассчитан\n",
      "\n",
      "==========================================\n",
      "Обработка PGS: PGS004307\n",
      "PGS PGS004307, содержит 4000 SNP\n",
      "Файл содержит позиционную информацию вместо rsID. Создаем синтетиические идентификаторы.\n",
      "Количество SNP в PGS: 4000\n",
      "Количество общих SNP: 1596\n",
      "Процент покрытия: 39.90%\n",
      "Выполняем расчет PGS PGS004307\n"
     ]
    },
    {
     "name": "stderr",
     "output_type": "stream",
     "text": [
      "Python(20408) MallocStackLogging: can't turn off malloc stack logging because it was not enabled.\n"
     ]
    },
    {
     "name": "stdout",
     "output_type": "stream",
     "text": [
      "PGS PGS004307 успешно рассчитан\n",
      "\n",
      "==========================================\n",
      "Обработка PGS: PGS002776\n",
      "PGS PGS002776, содержит 390782 SNP\n",
      "Количество SNP в PGS: 390782\n",
      "Количество общих SNP: 44688\n",
      "Процент покрытия: 11.44%\n",
      "Выполняем расчет PGS PGS002776\n"
     ]
    },
    {
     "name": "stderr",
     "output_type": "stream",
     "text": [
      "Python(20409) MallocStackLogging: can't turn off malloc stack logging because it was not enabled.\n"
     ]
    },
    {
     "name": "stdout",
     "output_type": "stream",
     "text": [
      "PGS PGS002776 успешно рассчитан\n",
      "\n",
      "==========================================\n",
      "Обработка PGS: PGS000798\n",
      "PGS PGS000798, содержит 157 SNP\n",
      "Количество SNP в PGS: 157\n",
      "Количество общих SNP: 29\n",
      "Процент покрытия: 18.47%\n",
      "Выполняем расчет PGS PGS000798\n"
     ]
    },
    {
     "name": "stderr",
     "output_type": "stream",
     "text": [
      "Python(20410) MallocStackLogging: can't turn off malloc stack logging because it was not enabled.\n"
     ]
    },
    {
     "name": "stdout",
     "output_type": "stream",
     "text": [
      "PGS PGS000798 успешно рассчитан\n",
      "\n",
      "==========================================\n",
      "Обработка PGS: PGS004305\n",
      "PGS PGS004305, содержит 3000 SNP\n",
      "Файл содержит позиционную информацию вместо rsID. Создаем синтетиические идентификаторы.\n",
      "Количество SNP в PGS: 3000\n",
      "Количество общих SNP: 1127\n",
      "Процент покрытия: 37.57%\n",
      "Выполняем расчет PGS PGS004305\n"
     ]
    },
    {
     "name": "stderr",
     "output_type": "stream",
     "text": [
      "Python(20411) MallocStackLogging: can't turn off malloc stack logging because it was not enabled.\n"
     ]
    },
    {
     "name": "stdout",
     "output_type": "stream",
     "text": [
      "PGS PGS004305 успешно рассчитан\n",
      "\n",
      "==========================================\n",
      "Обработка PGS: PGS000349\n",
      "PGS PGS000349, содержит 70 SNP\n",
      "Количество SNP в PGS: 70\n",
      "Количество общих SNP: 24\n",
      "Процент покрытия: 34.29%\n",
      "Выполняем расчет PGS PGS000349\n"
     ]
    },
    {
     "name": "stderr",
     "output_type": "stream",
     "text": [
      "Python(20412) MallocStackLogging: can't turn off malloc stack logging because it was not enabled.\n"
     ]
    },
    {
     "name": "stdout",
     "output_type": "stream",
     "text": [
      "PGS PGS000349 успешно рассчитан\n",
      "\n",
      "==========================================\n",
      "Обработка PGS: PGS003866\n",
      "PGS PGS003866, содержит 10440 SNP\n",
      "Количество SNP в PGS: 10440\n",
      "Количество общих SNP: 4335\n",
      "Процент покрытия: 41.52%\n",
      "Выполняем расчет PGS PGS003866\n"
     ]
    },
    {
     "name": "stderr",
     "output_type": "stream",
     "text": [
      "Python(20420) MallocStackLogging: can't turn off malloc stack logging because it was not enabled.\n"
     ]
    },
    {
     "name": "stdout",
     "output_type": "stream",
     "text": [
      "PGS PGS003866 успешно рассчитан\n",
      "\n",
      "==========================================\n",
      "Обработка PGS: PGS002775\n",
      "PGS PGS002775, содержит 1059 SNP\n",
      "Количество SNP в PGS: 1059\n",
      "Количество общих SNP: 180\n",
      "Процент покрытия: 17.00%\n",
      "Выполняем расчет PGS PGS002775\n"
     ]
    },
    {
     "name": "stderr",
     "output_type": "stream",
     "text": [
      "Python(20421) MallocStackLogging: can't turn off malloc stack logging because it was not enabled.\n"
     ]
    },
    {
     "name": "stdout",
     "output_type": "stream",
     "text": [
      "PGS PGS002775 успешно рассчитан\n",
      "\n",
      "==========================================\n",
      "Обработка PGS: PGS005152\n",
      "PGS PGS005152, содержит 943274 SNP\n",
      "Количество SNP в PGS: 943274\n",
      "Количество общих SNP: 395304\n",
      "Процент покрытия: 41.91%\n",
      "Выполняем расчет PGS PGS005152\n"
     ]
    },
    {
     "name": "stderr",
     "output_type": "stream",
     "text": [
      "Python(20424) MallocStackLogging: can't turn off malloc stack logging because it was not enabled.\n"
     ]
    },
    {
     "name": "stdout",
     "output_type": "stream",
     "text": [
      "PGS PGS005152 успешно рассчитан\n",
      "\n",
      "==========================================\n",
      "Обработка PGS: PGS000200\n",
      "PGS PGS000200, содержит 28 SNP\n",
      "Количество SNP в PGS: 28\n",
      "Количество общих SNP: 15\n",
      "Процент покрытия: 53.57%\n",
      "Выполняем расчет PGS PGS000200\n"
     ]
    },
    {
     "name": "stderr",
     "output_type": "stream",
     "text": [
      "Python(20425) MallocStackLogging: can't turn off malloc stack logging because it was not enabled.\n"
     ]
    },
    {
     "name": "stdout",
     "output_type": "stream",
     "text": [
      "PGS PGS000200 успешно рассчитан\n",
      "\n",
      "==========================================\n",
      "Обработка PGS: PGS000059\n",
      "PGS PGS000059, содержит 46 SNP\n",
      "Количество SNP в PGS: 46\n",
      "Количество общих SNP: 18\n",
      "Процент покрытия: 39.13%\n",
      "Выполняем расчет PGS PGS000059\n"
     ]
    },
    {
     "name": "stderr",
     "output_type": "stream",
     "text": [
      "Python(20426) MallocStackLogging: can't turn off malloc stack logging because it was not enabled.\n"
     ]
    },
    {
     "name": "stdout",
     "output_type": "stream",
     "text": [
      "PGS PGS000059 успешно рассчитан\n",
      "\n",
      "==========================================\n",
      "Обработка PGS: PGS003356\n",
      "PGS PGS003356, содержит 2324683 SNP\n",
      "Файл содержит позиционную информацию вместо rsID. Создаем синтетиические идентификаторы.\n",
      "Количество SNP в PGS: 2324683\n",
      "Количество общих SNP: 497605\n",
      "Процент покрытия: 21.41%\n",
      "Выполняем расчет PGS PGS003356\n"
     ]
    },
    {
     "name": "stderr",
     "output_type": "stream",
     "text": [
      "Python(20533) MallocStackLogging: can't turn off malloc stack logging because it was not enabled.\n"
     ]
    },
    {
     "name": "stdout",
     "output_type": "stream",
     "text": [
      "PGS PGS003356 успешно рассчитан\n",
      "\n",
      "==========================================\n",
      "Обработка PGS: PGS002048\n",
      "PGS PGS002048, содержит 762124 SNP\n",
      "Количество SNP в PGS: 762124\n",
      "Количество общих SNP: 322896\n",
      "Процент покрытия: 42.37%\n",
      "Выполняем расчет PGS PGS002048\n"
     ]
    },
    {
     "name": "stderr",
     "output_type": "stream",
     "text": [
      "Python(20649) MallocStackLogging: can't turn off malloc stack logging because it was not enabled.\n"
     ]
    },
    {
     "name": "stdout",
     "output_type": "stream",
     "text": [
      "PGS PGS002048 успешно рассчитан\n",
      "\n",
      "==========================================\n",
      "Обработка PGS: PGS001780\n",
      "PGS PGS001780, содержит 1090048 SNP\n",
      "Количество SNP в PGS: 1090048\n",
      "Количество общих SNP: 450206\n",
      "Процент покрытия: 41.30%\n",
      "Выполняем расчет PGS PGS001780\n"
     ]
    },
    {
     "name": "stderr",
     "output_type": "stream",
     "text": [
      "Python(20665) MallocStackLogging: can't turn off malloc stack logging because it was not enabled.\n"
     ]
    },
    {
     "name": "stdout",
     "output_type": "stream",
     "text": [
      "PGS PGS001780 успешно рассчитан\n",
      "\n",
      "==========================================\n",
      "Обработка PGS: PGS002262\n",
      "PGS PGS002262, содержит 540 SNP\n",
      "Количество SNP в PGS: 540\n",
      "Количество общих SNP: 136\n",
      "Процент покрытия: 25.19%\n",
      "Выполняем расчет PGS PGS002262\n"
     ]
    },
    {
     "name": "stderr",
     "output_type": "stream",
     "text": [
      "Python(20666) MallocStackLogging: can't turn off malloc stack logging because it was not enabled.\n"
     ]
    },
    {
     "name": "stdout",
     "output_type": "stream",
     "text": [
      "PGS PGS002262 успешно рассчитан\n",
      "\n",
      "==========================================\n",
      "Обработка PGS: PGS000058\n",
      "PGS PGS000058, содержит 204 SNP\n",
      "Количество SNP в PGS: 204\n",
      "Количество общих SNP: 41\n",
      "Процент покрытия: 20.10%\n",
      "Выполняем расчет PGS PGS000058\n"
     ]
    },
    {
     "name": "stderr",
     "output_type": "stream",
     "text": [
      "Python(20668) MallocStackLogging: can't turn off malloc stack logging because it was not enabled.\n"
     ]
    },
    {
     "name": "stdout",
     "output_type": "stream",
     "text": [
      "PGS PGS000058 успешно рассчитан\n",
      "\n",
      "==========================================\n",
      "Обработка PGS: PGS001839\n",
      "PGS PGS001839, содержит 25425 SNP\n",
      "Количество SNP в PGS: 25425\n",
      "Количество общих SNP: 11260\n",
      "Процент покрытия: 44.29%\n",
      "Выполняем расчет PGS PGS001839\n"
     ]
    },
    {
     "name": "stderr",
     "output_type": "stream",
     "text": [
      "Python(20670) MallocStackLogging: can't turn off malloc stack logging because it was not enabled.\n"
     ]
    },
    {
     "name": "stdout",
     "output_type": "stream",
     "text": [
      "PGS PGS001839 успешно рассчитан\n",
      "\n",
      "==========================================\n",
      "Обработка PGS: PGS004941\n",
      "PGS PGS004941, содержит 3711629 SNP\n",
      "Файл содержит позиционную информацию вместо rsID. Создаем синтетиические идентификаторы.\n",
      "Количество SNP в PGS: 3711629\n",
      "Количество общих SNP: 429616\n",
      "Процент покрытия: 11.57%\n",
      "Выполняем расчет PGS PGS004941\n"
     ]
    },
    {
     "name": "stderr",
     "output_type": "stream",
     "text": [
      "Python(20765) MallocStackLogging: can't turn off malloc stack logging because it was not enabled.\n"
     ]
    },
    {
     "name": "stdout",
     "output_type": "stream",
     "text": [
      "PGS PGS004941 успешно рассчитан\n",
      "\n",
      "==========================================\n",
      "Обработка PGS: PGS004200\n",
      "PGS PGS004200, содержит 8361 SNP\n",
      "Количество SNP в PGS: 8361\n",
      "Количество общих SNP: 899\n",
      "Процент покрытия: 10.75%\n",
      "Выполняем расчет PGS PGS004200\n"
     ]
    },
    {
     "name": "stderr",
     "output_type": "stream",
     "text": [
      "Python(20767) MallocStackLogging: can't turn off malloc stack logging because it was not enabled.\n"
     ]
    },
    {
     "name": "stdout",
     "output_type": "stream",
     "text": [
      "PGS PGS004200 успешно рассчитан\n",
      "\n",
      "==========================================\n",
      "Обработка PGS: PGS003355\n",
      "PGS PGS003355, содержит 1532758 SNP\n",
      "Файл содержит позиционную информацию вместо rsID. Создаем синтетиические идентификаторы.\n",
      "Количество SNP в PGS: 1532758\n",
      "Количество общих SNP: 116470\n",
      "Процент покрытия: 7.60%\n",
      "Выполняем расчет PGS PGS003355\n"
     ]
    },
    {
     "name": "stderr",
     "output_type": "stream",
     "text": [
      "Python(20770) MallocStackLogging: can't turn off malloc stack logging because it was not enabled.\n"
     ]
    },
    {
     "name": "stdout",
     "output_type": "stream",
     "text": [
      "PGS PGS003355 успешно рассчитан\n",
      "\n",
      "==========================================\n",
      "Обработка PGS: PGS001355\n",
      "PGS PGS001355, содержит 2994055 SNP\n",
      "Количество SNP в PGS: 2994055\n",
      "Количество общих SNP: 317044\n",
      "Процент покрытия: 10.59%\n",
      "Выполняем расчет PGS PGS001355\n"
     ]
    },
    {
     "name": "stderr",
     "output_type": "stream",
     "text": [
      "Python(20830) MallocStackLogging: can't turn off malloc stack logging because it was not enabled.\n"
     ]
    },
    {
     "name": "stdout",
     "output_type": "stream",
     "text": [
      "PGS PGS001355 успешно рассчитан\n",
      "\n",
      "==========================================\n",
      "Обработка PGS: PGS004198\n",
      "PGS PGS004198, содержит 5723 SNP\n",
      "Количество SNP в PGS: 5723\n",
      "Количество общих SNP: 670\n",
      "Процент покрытия: 11.71%\n",
      "Выполняем расчет PGS PGS004198\n"
     ]
    },
    {
     "name": "stderr",
     "output_type": "stream",
     "text": [
      "Python(20840) MallocStackLogging: can't turn off malloc stack logging because it was not enabled.\n"
     ]
    },
    {
     "name": "stdout",
     "output_type": "stream",
     "text": [
      "PGS PGS004198 успешно рассчитан\n",
      "\n",
      "==========================================\n",
      "Обработка PGS: PGS000329\n",
      "PGS PGS000329, содержит 6423165 SNP\n",
      "Количество SNP в PGS: 6423165\n",
      "Количество общих SNP: 490575\n",
      "Процент покрытия: 7.64%\n",
      "Выполняем расчет PGS PGS000329\n"
     ]
    },
    {
     "name": "stderr",
     "output_type": "stream",
     "text": [
      "Python(21162) MallocStackLogging: can't turn off malloc stack logging because it was not enabled.\n"
     ]
    },
    {
     "name": "stdout",
     "output_type": "stream",
     "text": [
      "PGS PGS000329 успешно рассчитан\n",
      "\n",
      "==========================================\n",
      "Обработка PGS: PGS004199\n",
      "PGS PGS004199, содержит 6085 SNP\n",
      "Количество SNP в PGS: 6085\n",
      "Количество общих SNP: 682\n",
      "Процент покрытия: 11.21%\n",
      "Выполняем расчет PGS PGS004199\n"
     ]
    },
    {
     "name": "stderr",
     "output_type": "stream",
     "text": [
      "Python(21185) MallocStackLogging: can't turn off malloc stack logging because it was not enabled.\n"
     ]
    },
    {
     "name": "stdout",
     "output_type": "stream",
     "text": [
      "PGS PGS004199 успешно рассчитан\n",
      "\n",
      "==========================================\n",
      "Обработка PGS: PGS000116\n",
      "PGS PGS000116, содержит 40079 SNP\n",
      "Количество SNP в PGS: 40079\n",
      "Количество общих SNP: 3662\n",
      "Процент покрытия: 9.14%\n",
      "Выполняем расчет PGS PGS000116\n"
     ]
    },
    {
     "name": "stderr",
     "output_type": "stream",
     "text": [
      "Python(21194) MallocStackLogging: can't turn off malloc stack logging because it was not enabled.\n"
     ]
    },
    {
     "name": "stdout",
     "output_type": "stream",
     "text": [
      "PGS PGS000116 успешно рассчитан\n",
      "\n",
      "==========================================\n",
      "Обработка PGS: PGS005091\n",
      "PGS PGS005091, содержит 1428772 SNP\n",
      "Файл содержит позиционную информацию вместо rsID. Создаем синтетиические идентификаторы.\n",
      "Количество SNP в PGS: 1428772\n",
      "Количество общих SNP: 4354\n",
      "Процент покрытия: 0.30%\n",
      "Выполняем расчет PGS PGS005091\n"
     ]
    },
    {
     "name": "stderr",
     "output_type": "stream",
     "text": [
      "Python(21276) MallocStackLogging: can't turn off malloc stack logging because it was not enabled.\n"
     ]
    },
    {
     "name": "stdout",
     "output_type": "stream",
     "text": [
      "PGS PGS005091 успешно рассчитан\n",
      "\n",
      "==========================================\n",
      "Обработка PGS: PGS005092\n",
      "PGS PGS005092, содержит 1279502 SNP\n",
      "Файл содержит позиционную информацию вместо rsID. Создаем синтетиические идентификаторы.\n",
      "Количество SNP в PGS: 1279502\n",
      "Количество общих SNP: 4540\n",
      "Процент покрытия: 0.35%\n",
      "Выполняем расчет PGS PGS005092\n"
     ]
    },
    {
     "name": "stderr",
     "output_type": "stream",
     "text": [
      "Python(21444) MallocStackLogging: can't turn off malloc stack logging because it was not enabled.\n"
     ]
    },
    {
     "name": "stdout",
     "output_type": "stream",
     "text": [
      "PGS PGS005092 успешно рассчитан\n",
      "\n",
      "==========================================\n",
      "Обработка PGS: PGS004746\n",
      "PGS PGS004746, содержит 6483064 SNP\n",
      "Файл содержит позиционную информацию вместо rsID. Создаем синтетиические идентификаторы.\n",
      "Количество SNP в PGS: 6483064\n",
      "Количество общих SNP: 6132\n",
      "Процент покрытия: 0.09%\n",
      "Выполняем расчет PGS PGS004746\n"
     ]
    },
    {
     "name": "stderr",
     "output_type": "stream",
     "text": [
      "Python(21915) MallocStackLogging: can't turn off malloc stack logging because it was not enabled.\n"
     ]
    },
    {
     "name": "stdout",
     "output_type": "stream",
     "text": [
      "PGS PGS004746 успешно рассчитан\n",
      "\n",
      "==========================================\n",
      "Обработка PGS: PGS004197\n",
      "PGS PGS004197, содержит 11490 SNP\n",
      "Количество SNP в PGS: 11490\n",
      "Количество общих SNP: 1193\n",
      "Процент покрытия: 10.38%\n",
      "Выполняем расчет PGS PGS004197\n"
     ]
    },
    {
     "name": "stderr",
     "output_type": "stream",
     "text": [
      "Python(21923) MallocStackLogging: can't turn off malloc stack logging because it was not enabled.\n"
     ]
    },
    {
     "name": "stdout",
     "output_type": "stream",
     "text": [
      "PGS PGS004197 успешно рассчитан\n",
      "\n",
      "==========================================\n",
      "Обработка PGS: PGS004196\n",
      "PGS PGS004196, содержит 3892 SNP\n",
      "Количество SNP в PGS: 3892\n",
      "Количество общих SNP: 464\n",
      "Процент покрытия: 11.92%\n",
      "Выполняем расчет PGS PGS004196\n"
     ]
    },
    {
     "name": "stderr",
     "output_type": "stream",
     "text": [
      "Python(21926) MallocStackLogging: can't turn off malloc stack logging because it was not enabled.\n"
     ]
    },
    {
     "name": "stdout",
     "output_type": "stream",
     "text": [
      "PGS PGS004196 успешно рассчитан\n",
      "\n",
      "==========================================\n",
      "Обработка PGS: PGS003438\n",
      "PGS PGS003438, содержит 241 SNP\n",
      "Количество SNP в PGS: 241\n",
      "Количество общих SNP: 29\n",
      "Процент покрытия: 12.03%\n",
      "Выполняем расчет PGS PGS003438\n"
     ]
    },
    {
     "name": "stderr",
     "output_type": "stream",
     "text": [
      "Python(21929) MallocStackLogging: can't turn off malloc stack logging because it was not enabled.\n"
     ]
    },
    {
     "name": "stdout",
     "output_type": "stream",
     "text": [
      "PGS PGS003438 успешно рассчитан\n",
      "\n",
      "==========================================\n",
      "Обработка PGS: PGS004237\n",
      "PGS PGS004237, содержит 1146511 SNP\n",
      "Количество SNP в PGS: 1146511\n",
      "Количество общих SNP: 474392\n",
      "Процент покрытия: 41.38%\n",
      "Выполняем расчет PGS PGS004237\n"
     ]
    },
    {
     "name": "stderr",
     "output_type": "stream",
     "text": [
      "Python(22131) MallocStackLogging: can't turn off malloc stack logging because it was not enabled.\n"
     ]
    },
    {
     "name": "stdout",
     "output_type": "stream",
     "text": [
      "PGS PGS004237 успешно рассчитан\n",
      "\n",
      "==========================================\n",
      "Обработка PGS: PGS004745\n",
      "PGS PGS004745, содержит 4769577 SNP\n",
      "Файл содержит позиционную информацию вместо rsID. Создаем синтетиические идентификаторы.\n",
      "Количество SNP в PGS: 4769577\n",
      "Количество общих SNP: 4560\n",
      "Процент покрытия: 0.10%\n",
      "Выполняем расчет PGS PGS004745\n"
     ]
    },
    {
     "name": "stderr",
     "output_type": "stream",
     "text": [
      "Python(22491) MallocStackLogging: can't turn off malloc stack logging because it was not enabled.\n"
     ]
    },
    {
     "name": "stdout",
     "output_type": "stream",
     "text": [
      "Ошибк при расчете PGS PGS004745 Error: Duplicate variant 'rs7862687' in --score file.\n",
      "\n",
      "\n",
      "==========================================\n",
      "Обработка PGS: PGS000899\n",
      "PGS PGS000899, содержит 176 SNP\n",
      "Количество SNP в PGS: 176\n",
      "Количество общих SNP: 37\n",
      "Процент покрытия: 21.02%\n",
      "Выполняем расчет PGS PGS000899\n"
     ]
    },
    {
     "name": "stderr",
     "output_type": "stream",
     "text": [
      "Python(22498) MallocStackLogging: can't turn off malloc stack logging because it was not enabled.\n"
     ]
    },
    {
     "name": "stdout",
     "output_type": "stream",
     "text": [
      "PGS PGS000899 успешно рассчитан\n",
      "\n",
      "==========================================\n",
      "Обработка PGS: PGS004744\n",
      "PGS PGS004744, содержит 7082943 SNP\n",
      "Файл содержит позиционную информацию вместо rsID. Создаем синтетиические идентификаторы.\n",
      "Количество SNP в PGS: 7082943\n",
      "Количество общих SNP: 6891\n",
      "Процент покрытия: 0.10%\n",
      "Выполняем расчет PGS PGS004744\n"
     ]
    },
    {
     "name": "stderr",
     "output_type": "stream",
     "text": [
      "Python(22973) MallocStackLogging: can't turn off malloc stack logging because it was not enabled.\n"
     ]
    },
    {
     "name": "stdout",
     "output_type": "stream",
     "text": [
      "PGS PGS004744 успешно рассчитан\n",
      "\n",
      "==========================================\n",
      "Обработка PGS: PGS004595\n",
      "PGS PGS004595, содержит 164 SNP\n",
      "Количество SNP в PGS: 164\n",
      "Количество общих SNP: 40\n",
      "Процент покрытия: 24.39%\n",
      "Выполняем расчет PGS PGS004595\n"
     ]
    },
    {
     "name": "stderr",
     "output_type": "stream",
     "text": [
      "Python(22982) MallocStackLogging: can't turn off malloc stack logging because it was not enabled.\n"
     ]
    },
    {
     "name": "stdout",
     "output_type": "stream",
     "text": [
      "PGS PGS004595 успешно рассчитан\n",
      "\n",
      "==========================================\n",
      "Обработка PGS: PGS005112\n",
      "PGS PGS005112, содержит 1106628 SNP\n",
      "Количество SNP в PGS: 1106628\n",
      "Количество общих SNP: 454934\n",
      "Процент покрытия: 41.11%\n",
      "Выполняем расчет PGS PGS005112\n"
     ]
    },
    {
     "name": "stderr",
     "output_type": "stream",
     "text": [
      "Python(23226) MallocStackLogging: can't turn off malloc stack logging because it was not enabled.\n"
     ]
    },
    {
     "name": "stdout",
     "output_type": "stream",
     "text": [
      "PGS PGS005112 успешно рассчитан\n",
      "\n",
      "==========================================\n",
      "Обработка PGS: PGS002244\n",
      "PGS PGS002244, содержит 6576338 SNP\n",
      "Количество SNP в PGS: 6576338\n",
      "Количество общих SNP: 497179\n",
      "Процент покрытия: 7.56%\n",
      "Выполняем расчет PGS PGS002244\n"
     ]
    },
    {
     "name": "stderr",
     "output_type": "stream",
     "text": [
      "Python(23504) MallocStackLogging: can't turn off malloc stack logging because it was not enabled.\n"
     ]
    },
    {
     "name": "stdout",
     "output_type": "stream",
     "text": [
      "PGS PGS002244 успешно рассчитан\n",
      "\n",
      "==========================================\n",
      "Обработка PGS: PGS000057\n",
      "PGS PGS000057, содержит 57 SNP\n",
      "Количество SNP в PGS: 57\n",
      "Количество общих SNP: 19\n",
      "Процент покрытия: 33.33%\n",
      "Выполняем расчет PGS PGS000057\n"
     ]
    },
    {
     "name": "stderr",
     "output_type": "stream",
     "text": [
      "Python(23517) MallocStackLogging: can't turn off malloc stack logging because it was not enabled.\n"
     ]
    },
    {
     "name": "stdout",
     "output_type": "stream",
     "text": [
      "PGS PGS000057 успешно рассчитан\n",
      "\n",
      "==========================================\n",
      "Обработка PGS: PGS000296\n",
      "PGS PGS000296, содержит 6630150 SNP\n",
      "Файл содержит позиционную информацию вместо rsID. Создаем синтетиические идентификаторы.\n",
      "Количество SNP в PGS: 6630150\n",
      "Количество общих SNP: 495928\n",
      "Процент покрытия: 7.48%\n",
      "Выполняем расчет PGS PGS000296\n"
     ]
    },
    {
     "name": "stderr",
     "output_type": "stream",
     "text": [
      "Python(23648) MallocStackLogging: can't turn off malloc stack logging because it was not enabled.\n"
     ]
    },
    {
     "name": "stdout",
     "output_type": "stream",
     "text": [
      "PGS PGS000296 успешно рассчитан\n",
      "\n",
      "==========================================\n",
      "Обработка PGS: PGS004743\n",
      "PGS PGS004743, содержит 3606321 SNP\n",
      "Файл содержит позиционную информацию вместо rsID. Создаем синтетиические идентификаторы.\n",
      "Количество SNP в PGS: 3606321\n",
      "Количество общих SNP: 3853\n",
      "Процент покрытия: 0.11%\n",
      "Выполняем расчет PGS PGS004743\n"
     ]
    },
    {
     "name": "stderr",
     "output_type": "stream",
     "text": [
      "Python(23684) MallocStackLogging: can't turn off malloc stack logging because it was not enabled.\n"
     ]
    },
    {
     "name": "stdout",
     "output_type": "stream",
     "text": [
      "Ошибк при расчете PGS PGS004743 Error: Duplicate variant 'rs7862687' in --score file.\n",
      "\n",
      "\n",
      "==========================================\n",
      "Обработка PGS: PGS004596\n",
      "PGS PGS004596, содержит 64 SNP\n",
      "Количество SNP в PGS: 64\n",
      "Количество общих SNP: 24\n",
      "Процент покрытия: 37.50%\n",
      "Выполняем расчет PGS PGS004596\n"
     ]
    },
    {
     "name": "stderr",
     "output_type": "stream",
     "text": [
      "Python(23689) MallocStackLogging: can't turn off malloc stack logging because it was not enabled.\n"
     ]
    },
    {
     "name": "stdout",
     "output_type": "stream",
     "text": [
      "PGS PGS004596 успешно рассчитан\n",
      "\n",
      "==========================================\n",
      "Обработка PGS: PGS000337\n",
      "PGS PGS000337, содержит 75028 SNP\n",
      "Файл содержит позиционную информацию вместо rsID. Создаем синтетиические идентификаторы.\n",
      "Количество SNP в PGS: 75028\n",
      "Количество общих SNP: 10154\n",
      "Процент покрытия: 13.53%\n",
      "Выполняем расчет PGS PGS000337\n"
     ]
    },
    {
     "name": "stderr",
     "output_type": "stream",
     "text": [
      "Python(23690) MallocStackLogging: can't turn off malloc stack logging because it was not enabled.\n"
     ]
    },
    {
     "name": "stdout",
     "output_type": "stream",
     "text": [
      "PGS PGS000337 успешно рассчитан\n",
      "\n",
      "==========================================\n",
      "Обработка PGS: PGS004309\n",
      "PGS PGS004309, содержит 3000 SNP\n",
      "Файл содержит позиционную информацию вместо rsID. Создаем синтетиические идентификаторы.\n",
      "Количество SNP в PGS: 3000\n",
      "Количество общих SNP: 1174\n",
      "Процент покрытия: 39.13%\n",
      "Выполняем расчет PGS PGS004309\n"
     ]
    },
    {
     "name": "stderr",
     "output_type": "stream",
     "text": [
      "Python(23691) MallocStackLogging: can't turn off malloc stack logging because it was not enabled.\n"
     ]
    },
    {
     "name": "stdout",
     "output_type": "stream",
     "text": [
      "PGS PGS004309 успешно рассчитан\n",
      "\n",
      "==========================================\n",
      "Обработка PGS: PGS004321\n",
      "PGS PGS004321, содержит 27 SNP\n",
      "Количество SNP в PGS: 27\n",
      "Количество общих SNP: 14\n",
      "Процент покрытия: 51.85%\n",
      "Выполняем расчет PGS PGS004321\n"
     ]
    },
    {
     "name": "stderr",
     "output_type": "stream",
     "text": [
      "Python(23692) MallocStackLogging: can't turn off malloc stack logging because it was not enabled.\n"
     ]
    },
    {
     "name": "stdout",
     "output_type": "stream",
     "text": [
      "PGS PGS004321 успешно рассчитан\n",
      "\n",
      "==========================================\n",
      "Обработка PGS: PGS004888\n",
      "PGS PGS004888, содержит 1110046 SNP\n",
      "Файл содержит позиционную информацию вместо rsID. Создаем синтетиические идентификаторы.\n",
      "Количество SNP в PGS: 1110046\n",
      "Количество общих SNP: 453801\n",
      "Процент покрытия: 40.88%\n",
      "Выполняем расчет PGS PGS004888\n"
     ]
    },
    {
     "name": "stderr",
     "output_type": "stream",
     "text": [
      "Python(23699) MallocStackLogging: can't turn off malloc stack logging because it was not enabled.\n"
     ]
    },
    {
     "name": "stdout",
     "output_type": "stream",
     "text": [
      "PGS PGS004888 успешно рассчитан\n",
      "\n",
      "==========================================\n",
      "Обработка PGS: PGS004308\n",
      "PGS PGS004308, содержит 1500 SNP\n",
      "Файл содержит позиционную информацию вместо rsID. Создаем синтетиические идентификаторы.\n",
      "Количество SNP в PGS: 1500\n",
      "Количество общих SNP: 584\n",
      "Процент покрытия: 38.93%\n",
      "Выполняем расчет PGS PGS004308\n"
     ]
    },
    {
     "name": "stderr",
     "output_type": "stream",
     "text": [
      "Python(23700) MallocStackLogging: can't turn off malloc stack logging because it was not enabled.\n"
     ]
    },
    {
     "name": "stdout",
     "output_type": "stream",
     "text": [
      "PGS PGS004308 успешно рассчитан\n",
      "\n",
      "==========================================\n",
      "Обработка PGS: PGS000018\n",
      "PGS PGS000018, содержит 1745179 SNP\n",
      "Количество SNP в PGS: 1745179\n",
      "Количество общих SNP: 129619\n",
      "Процент покрытия: 7.43%\n",
      "Выполняем расчет PGS PGS000018\n"
     ]
    },
    {
     "name": "stderr",
     "output_type": "stream",
     "text": [
      "Python(23714) MallocStackLogging: can't turn off malloc stack logging because it was not enabled.\n"
     ]
    },
    {
     "name": "stdout",
     "output_type": "stream",
     "text": [
      "PGS PGS000018 успешно рассчитан\n",
      "\n",
      "==========================================\n",
      "Обработка PGS: PGS004444\n",
      "PGS PGS004444, содержит 1059939 SNP\n",
      "Количество SNP в PGS: 1059939\n",
      "Количество общих SNP: 442559\n",
      "Процент покрытия: 41.75%\n",
      "Выполняем расчет PGS PGS004444\n"
     ]
    },
    {
     "name": "stderr",
     "output_type": "stream",
     "text": [
      "Python(23717) MallocStackLogging: can't turn off malloc stack logging because it was not enabled.\n"
     ]
    },
    {
     "name": "stdout",
     "output_type": "stream",
     "text": [
      "PGS PGS004444 успешно рассчитан\n",
      "\n",
      "==========================================\n",
      "Обработка PGS: PGS000019\n",
      "PGS PGS000019, содержит 192 SNP\n",
      "Количество SNP в PGS: 192\n",
      "Количество общих SNP: 26\n",
      "Процент покрытия: 13.54%\n",
      "Выполняем расчет PGS PGS000019\n"
     ]
    },
    {
     "name": "stderr",
     "output_type": "stream",
     "text": [
      "Python(23719) MallocStackLogging: can't turn off malloc stack logging because it was not enabled.\n"
     ]
    },
    {
     "name": "stdout",
     "output_type": "stream",
     "text": [
      "PGS PGS000019 успешно рассчитан\n",
      "\n",
      "==========================================\n",
      "Обработка PGS: PGS000747\n",
      "PGS PGS000747, содержит 375822 SNP\n",
      "Файл содержит позиционную информацию вместо rsID. Создаем синтетиические идентификаторы.\n",
      "Количество SNP в PGS: 375822\n",
      "Количество общих SNP: 31294\n",
      "Процент покрытия: 8.33%\n",
      "Выполняем расчет PGS PGS000747\n"
     ]
    },
    {
     "name": "stderr",
     "output_type": "stream",
     "text": [
      "Python(23720) MallocStackLogging: can't turn off malloc stack logging because it was not enabled.\n"
     ]
    },
    {
     "name": "stdout",
     "output_type": "stream",
     "text": [
      "PGS PGS000747 успешно рассчитан\n",
      "\n",
      "==========================================\n",
      "Обработка PGS: PGS000746\n",
      "PGS PGS000746, содержит 1940 SNP\n",
      "Файл содержит позиционную информацию вместо rsID. Создаем синтетиические идентификаторы.\n",
      "Количество SNP в PGS: 1940\n",
      "Количество общих SNP: 232\n",
      "Процент покрытия: 11.96%\n",
      "Выполняем расчет PGS PGS000746\n"
     ]
    },
    {
     "name": "stderr",
     "output_type": "stream",
     "text": [
      "Python(23721) MallocStackLogging: can't turn off malloc stack logging because it was not enabled.\n"
     ]
    },
    {
     "name": "stdout",
     "output_type": "stream",
     "text": [
      "PGS PGS000746 успешно рассчитан\n",
      "\n",
      "==========================================\n",
      "Обработка PGS: PGS004697\n",
      "PGS PGS004697, содержит 1120251 SNP\n",
      "Количество SNP в PGS: 1120251\n",
      "Количество общих SNP: 456041\n",
      "Процент покрытия: 40.71%\n",
      "Выполняем расчет PGS PGS004697\n"
     ]
    },
    {
     "name": "stderr",
     "output_type": "stream",
     "text": [
      "Python(23801) MallocStackLogging: can't turn off malloc stack logging because it was not enabled.\n"
     ]
    },
    {
     "name": "stdout",
     "output_type": "stream",
     "text": [
      "PGS PGS004697 успешно рассчитан\n",
      "\n",
      "==========================================\n",
      "Обработка PGS: PGS004899\n",
      "PGS PGS004899, содержит 7 SNP\n",
      "Количество SNP в PGS: 7\n",
      "Количество общих SNP: 0\n",
      "Процент покрытия: 0.00%\n",
      "нет общих SNP для PGS004899\n",
      "\n",
      "==========================================\n",
      "Обработка PGS: PGS004696\n",
      "PGS PGS004696, содержит 1289980 SNP\n",
      "Количество SNP в PGS: 1289980\n",
      "Количество общих SNP: 456450\n",
      "Процент покрытия: 35.38%\n",
      "Выполняем расчет PGS PGS004696\n"
     ]
    },
    {
     "name": "stderr",
     "output_type": "stream",
     "text": [
      "Python(24079) MallocStackLogging: can't turn off malloc stack logging because it was not enabled.\n"
     ]
    },
    {
     "name": "stdout",
     "output_type": "stream",
     "text": [
      "PGS PGS004696 успешно рассчитан\n",
      "\n",
      "==========================================\n",
      "Обработка PGS: PGS004443\n",
      "PGS PGS004443, содержит 1059939 SNP\n",
      "Количество SNP в PGS: 1059939\n",
      "Количество общих SNP: 442559\n",
      "Процент покрытия: 41.75%\n",
      "Выполняем расчет PGS PGS004443\n"
     ]
    },
    {
     "name": "stderr",
     "output_type": "stream",
     "text": [
      "Python(24184) MallocStackLogging: can't turn off malloc stack logging because it was not enabled.\n"
     ]
    },
    {
     "name": "stdout",
     "output_type": "stream",
     "text": [
      "PGS PGS004443 успешно рассчитан\n",
      "\n",
      "==========================================\n",
      "Обработка PGS: PGS000962\n",
      "PGS PGS000962, содержит 2168 SNP\n",
      "Количество SNP в PGS: 2168\n",
      "Количество общих SNP: 444\n",
      "Процент покрытия: 20.48%\n",
      "Выполняем расчет PGS PGS000962\n"
     ]
    },
    {
     "name": "stderr",
     "output_type": "stream",
     "text": [
      "Python(24185) MallocStackLogging: can't turn off malloc stack logging because it was not enabled.\n"
     ]
    },
    {
     "name": "stdout",
     "output_type": "stream",
     "text": [
      "PGS PGS000962 успешно рассчитан\n"
     ]
    },
    {
     "name": "stderr",
     "output_type": "stream",
     "text": [
      "/Users/daklo/for_dipl/pgs_calculator.py:139: SettingWithCopyWarning: \n",
      "A value is trying to be set on a copy of a slice from a DataFrame.\n",
      "Try using .loc[row_indexer,col_indexer] = value instead\n",
      "\n",
      "See the caveats in the documentation: https://pandas.pydata.org/pandas-docs/stable/user_guide/indexing.html#returning-a-view-versus-a-copy\n",
      "  combined[pgs_name] = df['SCORE']\n",
      "/Users/daklo/for_dipl/pgs_calculator.py:139: SettingWithCopyWarning: \n",
      "A value is trying to be set on a copy of a slice from a DataFrame.\n",
      "Try using .loc[row_indexer,col_indexer] = value instead\n",
      "\n",
      "See the caveats in the documentation: https://pandas.pydata.org/pandas-docs/stable/user_guide/indexing.html#returning-a-view-versus-a-copy\n",
      "  combined[pgs_name] = df['SCORE']\n",
      "/Users/daklo/for_dipl/pgs_calculator.py:139: SettingWithCopyWarning: \n",
      "A value is trying to be set on a copy of a slice from a DataFrame.\n",
      "Try using .loc[row_indexer,col_indexer] = value instead\n",
      "\n",
      "See the caveats in the documentation: https://pandas.pydata.org/pandas-docs/stable/user_guide/indexing.html#returning-a-view-versus-a-copy\n",
      "  combined[pgs_name] = df['SCORE']\n"
     ]
    },
    {
     "name": "stdout",
     "output_type": "stream",
     "text": [
      "Объеденены PGS для 896 образцов и 73 PGS\n",
      "Сохраняю в ./pgs_results_calculated/train_2_pgs.csv\n",
      "1\n",
      "файл ./test_2.bim, содержит 591998 SNP\n",
      "Найдено 76 PGS\n",
      "\n",
      "==========================================\n",
      "Обработка PGS: PGS003725\n",
      "PGS PGS003725, содержит 1296172 SNP\n",
      "Файл содержит позиционную информацию вместо rsID. Создаем синтетиические идентификаторы.\n",
      "Количество SNP в PGS: 1296172\n",
      "Количество общих SNP: 456468\n",
      "Процент покрытия: 35.22%\n",
      "Выполняем расчет PGS PGS003725\n"
     ]
    },
    {
     "name": "stderr",
     "output_type": "stream",
     "text": [
      "Python(24734) MallocStackLogging: can't turn off malloc stack logging because it was not enabled.\n"
     ]
    },
    {
     "name": "stdout",
     "output_type": "stream",
     "text": [
      "PGS PGS003725 успешно рассчитан\n",
      "\n",
      "==========================================\n",
      "Обработка PGS: PGS000748\n",
      "PGS PGS000748, содержит 3423987 SNP\n",
      "Файл содержит позиционную информацию вместо rsID. Создаем синтетиические идентификаторы.\n",
      "Количество SNP в PGS: 3423987\n",
      "Количество общих SNP: 416579\n",
      "Процент покрытия: 12.17%\n",
      "Выполняем расчет PGS PGS000748\n"
     ]
    },
    {
     "name": "stderr",
     "output_type": "stream",
     "text": [
      "Python(24844) MallocStackLogging: can't turn off malloc stack logging because it was not enabled.\n"
     ]
    },
    {
     "name": "stdout",
     "output_type": "stream",
     "text": [
      "PGS PGS000748 успешно рассчитан\n",
      "\n",
      "==========================================\n",
      "Обработка PGS: PGS000012\n",
      "PGS PGS000012, содержит 49310 SNP\n",
      "Количество SNP в PGS: 49310\n",
      "Количество общих SNP: 15881\n",
      "Процент покрытия: 32.21%\n",
      "Выполняем расчет PGS PGS000012\n"
     ]
    },
    {
     "name": "stderr",
     "output_type": "stream",
     "text": [
      "Python(24847) MallocStackLogging: can't turn off malloc stack logging because it was not enabled.\n"
     ]
    },
    {
     "name": "stdout",
     "output_type": "stream",
     "text": [
      "PGS PGS000012 успешно рассчитан\n",
      "\n",
      "==========================================\n",
      "Обработка PGS: PGS003446\n",
      "PGS PGS003446, содержит 538084 SNP\n",
      "Файл содержит позиционную информацию вместо rsID. Создаем синтетиические идентификаторы.\n",
      "Количество SNP в PGS: 538084\n",
      "Количество общих SNP: 25529\n",
      "Процент покрытия: 4.74%\n",
      "Выполняем расчет PGS PGS003446\n"
     ]
    },
    {
     "name": "stderr",
     "output_type": "stream",
     "text": [
      "Python(24851) MallocStackLogging: can't turn off malloc stack logging because it was not enabled.\n"
     ]
    },
    {
     "name": "stdout",
     "output_type": "stream",
     "text": [
      "PGS PGS003446 успешно рассчитан\n",
      "\n",
      "==========================================\n",
      "Обработка PGS: PGS004513\n",
      "PGS PGS004513, содержит 1059939 SNP\n",
      "Количество SNP в PGS: 1059939\n",
      "Количество общих SNP: 442559\n",
      "Процент покрытия: 41.75%\n",
      "Выполняем расчет PGS PGS004513\n"
     ]
    },
    {
     "name": "stderr",
     "output_type": "stream",
     "text": [
      "Python(24858) MallocStackLogging: can't turn off malloc stack logging because it was not enabled.\n"
     ]
    },
    {
     "name": "stdout",
     "output_type": "stream",
     "text": [
      "PGS PGS004513 успешно рассчитан\n",
      "\n",
      "==========================================\n",
      "Обработка PGS: PGS000013\n",
      "PGS PGS000013, содержит 6630150 SNP\n",
      "Файл содержит позиционную информацию вместо rsID. Создаем синтетиические идентификаторы.\n",
      "Количество SNP в PGS: 6630150\n",
      "Количество общих SNP: 495928\n",
      "Процент покрытия: 7.48%\n",
      "Выполняем расчет PGS PGS000013\n"
     ]
    },
    {
     "name": "stderr",
     "output_type": "stream",
     "text": [
      "Python(24983) MallocStackLogging: can't turn off malloc stack logging because it was not enabled.\n"
     ]
    },
    {
     "name": "stdout",
     "output_type": "stream",
     "text": [
      "PGS PGS000013 успешно рассчитан\n",
      "\n",
      "==========================================\n",
      "Обработка PGS: PGS005143\n",
      "PGS PGS005143, содержит 943274 SNP\n",
      "Количество SNP в PGS: 943274\n",
      "Количество общих SNP: 395304\n",
      "Процент покрытия: 41.91%\n",
      "Выполняем расчет PGS PGS005143\n"
     ]
    },
    {
     "name": "stderr",
     "output_type": "stream",
     "text": [
      "Python(24986) MallocStackLogging: can't turn off malloc stack logging because it was not enabled.\n"
     ]
    },
    {
     "name": "stdout",
     "output_type": "stream",
     "text": [
      "PGS PGS005143 успешно рассчитан\n",
      "\n",
      "==========================================\n",
      "Обработка PGS: PGS003726\n",
      "PGS PGS003726, содержит 1296172 SNP\n",
      "Файл содержит позиционную информацию вместо rsID. Создаем синтетиические идентификаторы.\n",
      "Количество SNP в PGS: 1296172\n",
      "Количество общих SNP: 456468\n",
      "Процент покрытия: 35.22%\n",
      "Выполняем расчет PGS PGS003726\n"
     ]
    },
    {
     "name": "stderr",
     "output_type": "stream",
     "text": [
      "Python(25126) MallocStackLogging: can't turn off malloc stack logging because it was not enabled.\n"
     ]
    },
    {
     "name": "stdout",
     "output_type": "stream",
     "text": [
      "PGS PGS003726 успешно рассчитан\n",
      "\n",
      "==========================================\n",
      "Обработка PGS: PGS002809\n",
      "PGS PGS002809, содержит 205 SNP\n",
      "Количество SNP в PGS: 205\n",
      "Количество общих SNP: 48\n",
      "Процент покрытия: 23.41%\n",
      "Выполняем расчет PGS PGS002809\n"
     ]
    },
    {
     "name": "stderr",
     "output_type": "stream",
     "text": [
      "Python(25127) MallocStackLogging: can't turn off malloc stack logging because it was not enabled.\n"
     ]
    },
    {
     "name": "stdout",
     "output_type": "stream",
     "text": [
      "PGS PGS002809 успешно рассчитан\n",
      "\n",
      "==========================================\n",
      "Обработка PGS: PGS000011\n",
      "PGS PGS000011, содержит 50 SNP\n",
      "Количество SNP в PGS: 50\n",
      "Количество общих SNP: 22\n",
      "Процент покрытия: 44.00%\n",
      "Выполняем расчет PGS PGS000011\n"
     ]
    },
    {
     "name": "stderr",
     "output_type": "stream",
     "text": [
      "Python(25128) MallocStackLogging: can't turn off malloc stack logging because it was not enabled.\n"
     ]
    },
    {
     "name": "stdout",
     "output_type": "stream",
     "text": [
      "PGS PGS000011 успешно рассчитан\n",
      "\n",
      "==========================================\n",
      "Обработка PGS: PGS000818\n",
      "PGS PGS000818, содержит 138 SNP\n",
      "Количество SNP в PGS: 138\n",
      "Количество общих SNP: 42\n",
      "Процент покрытия: 30.43%\n",
      "Выполняем расчет PGS PGS000818\n"
     ]
    },
    {
     "name": "stderr",
     "output_type": "stream",
     "text": [
      "Python(25129) MallocStackLogging: can't turn off malloc stack logging because it was not enabled.\n"
     ]
    },
    {
     "name": "stdout",
     "output_type": "stream",
     "text": [
      "PGS PGS000818 успешно рассчитан\n",
      "\n",
      "==========================================\n",
      "Обработка PGS: PGS004698\n",
      "PGS PGS004698, содержит 542218 SNP\n",
      "Файл содержит позиционную информацию вместо rsID. Создаем синтетиические идентификаторы.\n",
      "Количество SNP в PGS: 542218\n",
      "Количество общих SNP: 26884\n",
      "Процент покрытия: 4.96%\n",
      "Выполняем расчет PGS PGS004698\n"
     ]
    },
    {
     "name": "stderr",
     "output_type": "stream",
     "text": [
      "Python(25136) MallocStackLogging: can't turn off malloc stack logging because it was not enabled.\n"
     ]
    },
    {
     "name": "stdout",
     "output_type": "stream",
     "text": [
      "PGS PGS004698 успешно рассчитан\n",
      "\n",
      "==========================================\n",
      "Обработка PGS: PGS000010\n",
      "PGS PGS000010, содержит 27 SNP\n",
      "Количество SNP в PGS: 27\n",
      "Количество общих SNP: 14\n",
      "Процент покрытия: 51.85%\n",
      "Выполняем расчет PGS PGS000010\n"
     ]
    },
    {
     "name": "stderr",
     "output_type": "stream",
     "text": [
      "Python(25137) MallocStackLogging: can't turn off malloc stack logging because it was not enabled.\n"
     ]
    },
    {
     "name": "stdout",
     "output_type": "stream",
     "text": [
      "PGS PGS000010 успешно рассчитан\n",
      "\n",
      "==========================================\n",
      "Обработка PGS: PGS003727\n",
      "PGS PGS003727, содержит 1125113 SNP\n",
      "Файл содержит позиционную информацию вместо rsID. Создаем синтетиические идентификаторы.\n",
      "Количество SNP в PGS: 1125113\n",
      "Количество общих SNP: 455311\n",
      "Процент покрытия: 40.47%\n",
      "Выполняем расчет PGS PGS003727\n"
     ]
    },
    {
     "name": "stderr",
     "output_type": "stream",
     "text": [
      "Python(25150) MallocStackLogging: can't turn off malloc stack logging because it was not enabled.\n"
     ]
    },
    {
     "name": "stdout",
     "output_type": "stream",
     "text": [
      "PGS PGS003727 успешно рассчитан\n",
      "\n",
      "==========================================\n",
      "Обработка PGS: PGS004921\n",
      "PGS PGS004921, содержит 161 SNP\n",
      "Количество SNP в PGS: 161\n",
      "Количество общих SNP: 30\n",
      "Процент покрытия: 18.63%\n",
      "Выполняем расчет PGS PGS004921\n"
     ]
    },
    {
     "name": "stderr",
     "output_type": "stream",
     "text": [
      "Python(25151) MallocStackLogging: can't turn off malloc stack logging because it was not enabled.\n"
     ]
    },
    {
     "name": "stdout",
     "output_type": "stream",
     "text": [
      "PGS PGS004921 успешно рассчитан\n",
      "\n",
      "==========================================\n",
      "Обработка PGS: PGS004919\n",
      "PGS PGS004919, содержит 50 SNP\n",
      "Количество SNP в PGS: 50\n",
      "Количество общих SNP: 22\n",
      "Процент покрытия: 44.00%\n",
      "Выполняем расчет PGS PGS004919\n"
     ]
    },
    {
     "name": "stderr",
     "output_type": "stream",
     "text": [
      "Python(25152) MallocStackLogging: can't turn off malloc stack logging because it was not enabled.\n"
     ]
    },
    {
     "name": "stdout",
     "output_type": "stream",
     "text": [
      "PGS PGS004919 успешно рассчитан\n",
      "\n",
      "==========================================\n",
      "Обработка PGS: PGS004925\n",
      "PGS PGS004925, содержит 300 SNP\n",
      "Количество SNP в PGS: 300\n",
      "Количество общих SNP: 46\n",
      "Процент покрытия: 15.33%\n",
      "Выполняем расчет PGS PGS004925\n"
     ]
    },
    {
     "name": "stderr",
     "output_type": "stream",
     "text": [
      "Python(25153) MallocStackLogging: can't turn off malloc stack logging because it was not enabled.\n"
     ]
    },
    {
     "name": "stdout",
     "output_type": "stream",
     "text": [
      "PGS PGS004925 успешно рассчитан\n",
      "\n",
      "==========================================\n",
      "Обработка PGS: PGS004514\n",
      "PGS PGS004514, содержит 1059939 SNP\n",
      "Количество SNP в PGS: 1059939\n",
      "Количество общих SNP: 442559\n",
      "Процент покрытия: 41.75%\n",
      "Выполняем расчет PGS PGS004514\n"
     ]
    },
    {
     "name": "stderr",
     "output_type": "stream",
     "text": [
      "Python(25253) MallocStackLogging: can't turn off malloc stack logging because it was not enabled.\n"
     ]
    },
    {
     "name": "stdout",
     "output_type": "stream",
     "text": [
      "PGS PGS004514 успешно рассчитан\n",
      "\n",
      "==========================================\n",
      "Обработка PGS: PGS004306\n",
      "PGS PGS004306, содержит 4000 SNP\n",
      "Файл содержит позиционную информацию вместо rsID. Создаем синтетиические идентификаторы.\n",
      "Количество SNP в PGS: 4000\n",
      "Количество общих SNP: 1576\n",
      "Процент покрытия: 39.40%\n",
      "Выполняем расчет PGS PGS004306\n"
     ]
    },
    {
     "name": "stderr",
     "output_type": "stream",
     "text": [
      "Python(25254) MallocStackLogging: can't turn off malloc stack logging because it was not enabled.\n"
     ]
    },
    {
     "name": "stdout",
     "output_type": "stream",
     "text": [
      "PGS PGS004306 успешно рассчитан\n",
      "\n",
      "==========================================\n",
      "Обработка PGS: PGS004879\n",
      "PGS PGS004879, содержит 610677 SNP\n",
      "Количество SNP в PGS: 610677\n",
      "Количество общих SNP: 259008\n",
      "Процент покрытия: 42.41%\n",
      "Выполняем расчет PGS PGS004879\n"
     ]
    },
    {
     "name": "stderr",
     "output_type": "stream",
     "text": [
      "Python(25257) MallocStackLogging: can't turn off malloc stack logging because it was not enabled.\n"
     ]
    },
    {
     "name": "stdout",
     "output_type": "stream",
     "text": [
      "PGS PGS004879 успешно рассчитан\n",
      "\n",
      "==========================================\n",
      "Обработка PGS: PGS004307\n",
      "PGS PGS004307, содержит 4000 SNP\n",
      "Файл содержит позиционную информацию вместо rsID. Создаем синтетиические идентификаторы.\n",
      "Количество SNP в PGS: 4000\n",
      "Количество общих SNP: 1596\n",
      "Процент покрытия: 39.90%\n",
      "Выполняем расчет PGS PGS004307\n"
     ]
    },
    {
     "name": "stderr",
     "output_type": "stream",
     "text": [
      "Python(25258) MallocStackLogging: can't turn off malloc stack logging because it was not enabled.\n"
     ]
    },
    {
     "name": "stdout",
     "output_type": "stream",
     "text": [
      "PGS PGS004307 успешно рассчитан\n",
      "\n",
      "==========================================\n",
      "Обработка PGS: PGS002776\n",
      "PGS PGS002776, содержит 390782 SNP\n",
      "Количество SNP в PGS: 390782\n",
      "Количество общих SNP: 44688\n",
      "Процент покрытия: 11.44%\n",
      "Выполняем расчет PGS PGS002776\n"
     ]
    },
    {
     "name": "stderr",
     "output_type": "stream",
     "text": [
      "Python(25261) MallocStackLogging: can't turn off malloc stack logging because it was not enabled.\n"
     ]
    },
    {
     "name": "stdout",
     "output_type": "stream",
     "text": [
      "PGS PGS002776 успешно рассчитан\n",
      "\n",
      "==========================================\n",
      "Обработка PGS: PGS000798\n",
      "PGS PGS000798, содержит 157 SNP\n",
      "Количество SNP в PGS: 157\n",
      "Количество общих SNP: 29\n",
      "Процент покрытия: 18.47%\n",
      "Выполняем расчет PGS PGS000798\n"
     ]
    },
    {
     "name": "stderr",
     "output_type": "stream",
     "text": [
      "Python(25262) MallocStackLogging: can't turn off malloc stack logging because it was not enabled.\n"
     ]
    },
    {
     "name": "stdout",
     "output_type": "stream",
     "text": [
      "PGS PGS000798 успешно рассчитан\n",
      "\n",
      "==========================================\n",
      "Обработка PGS: PGS004305\n",
      "PGS PGS004305, содержит 3000 SNP\n",
      "Файл содержит позиционную информацию вместо rsID. Создаем синтетиические идентификаторы.\n",
      "Количество SNP в PGS: 3000\n",
      "Количество общих SNP: 1127\n",
      "Процент покрытия: 37.57%\n",
      "Выполняем расчет PGS PGS004305\n"
     ]
    },
    {
     "name": "stderr",
     "output_type": "stream",
     "text": [
      "Python(25263) MallocStackLogging: can't turn off malloc stack logging because it was not enabled.\n"
     ]
    },
    {
     "name": "stdout",
     "output_type": "stream",
     "text": [
      "PGS PGS004305 успешно рассчитан\n",
      "\n",
      "==========================================\n",
      "Обработка PGS: PGS000349\n",
      "PGS PGS000349, содержит 70 SNP\n",
      "Количество SNP в PGS: 70\n",
      "Количество общих SNP: 24\n",
      "Процент покрытия: 34.29%\n",
      "Выполняем расчет PGS PGS000349\n"
     ]
    },
    {
     "name": "stderr",
     "output_type": "stream",
     "text": [
      "Python(25264) MallocStackLogging: can't turn off malloc stack logging because it was not enabled.\n"
     ]
    },
    {
     "name": "stdout",
     "output_type": "stream",
     "text": [
      "PGS PGS000349 успешно рассчитан\n",
      "\n",
      "==========================================\n",
      "Обработка PGS: PGS003866\n",
      "PGS PGS003866, содержит 10440 SNP\n",
      "Количество SNP в PGS: 10440\n",
      "Количество общих SNP: 4335\n",
      "Процент покрытия: 41.52%\n",
      "Выполняем расчет PGS PGS003866\n"
     ]
    },
    {
     "name": "stderr",
     "output_type": "stream",
     "text": [
      "Python(25265) MallocStackLogging: can't turn off malloc stack logging because it was not enabled.\n"
     ]
    },
    {
     "name": "stdout",
     "output_type": "stream",
     "text": [
      "PGS PGS003866 успешно рассчитан\n",
      "\n",
      "==========================================\n",
      "Обработка PGS: PGS002775\n",
      "PGS PGS002775, содержит 1059 SNP\n",
      "Количество SNP в PGS: 1059\n",
      "Количество общих SNP: 180\n",
      "Процент покрытия: 17.00%\n",
      "Выполняем расчет PGS PGS002775\n"
     ]
    },
    {
     "name": "stderr",
     "output_type": "stream",
     "text": [
      "Python(25266) MallocStackLogging: can't turn off malloc stack logging because it was not enabled.\n"
     ]
    },
    {
     "name": "stdout",
     "output_type": "stream",
     "text": [
      "PGS PGS002775 успешно рассчитан\n",
      "\n",
      "==========================================\n",
      "Обработка PGS: PGS005152\n",
      "PGS PGS005152, содержит 943274 SNP\n",
      "Количество SNP в PGS: 943274\n",
      "Количество общих SNP: 395304\n",
      "Процент покрытия: 41.91%\n",
      "Выполняем расчет PGS PGS005152\n"
     ]
    },
    {
     "name": "stderr",
     "output_type": "stream",
     "text": [
      "Python(25270) MallocStackLogging: can't turn off malloc stack logging because it was not enabled.\n"
     ]
    },
    {
     "name": "stdout",
     "output_type": "stream",
     "text": [
      "PGS PGS005152 успешно рассчитан\n",
      "\n",
      "==========================================\n",
      "Обработка PGS: PGS000200\n",
      "PGS PGS000200, содержит 28 SNP\n",
      "Количество SNP в PGS: 28\n",
      "Количество общих SNP: 15\n",
      "Процент покрытия: 53.57%\n",
      "Выполняем расчет PGS PGS000200\n"
     ]
    },
    {
     "name": "stderr",
     "output_type": "stream",
     "text": [
      "Python(25271) MallocStackLogging: can't turn off malloc stack logging because it was not enabled.\n"
     ]
    },
    {
     "name": "stdout",
     "output_type": "stream",
     "text": [
      "PGS PGS000200 успешно рассчитан\n",
      "\n",
      "==========================================\n",
      "Обработка PGS: PGS000059\n",
      "PGS PGS000059, содержит 46 SNP\n",
      "Количество SNP в PGS: 46\n",
      "Количество общих SNP: 18\n",
      "Процент покрытия: 39.13%\n",
      "Выполняем расчет PGS PGS000059\n"
     ]
    },
    {
     "name": "stderr",
     "output_type": "stream",
     "text": [
      "Python(25272) MallocStackLogging: can't turn off malloc stack logging because it was not enabled.\n"
     ]
    },
    {
     "name": "stdout",
     "output_type": "stream",
     "text": [
      "PGS PGS000059 успешно рассчитан\n",
      "\n",
      "==========================================\n",
      "Обработка PGS: PGS003356\n",
      "PGS PGS003356, содержит 2324683 SNP\n",
      "Файл содержит позиционную информацию вместо rsID. Создаем синтетиические идентификаторы.\n",
      "Количество SNP в PGS: 2324683\n",
      "Количество общих SNP: 497605\n",
      "Процент покрытия: 21.41%\n",
      "Выполняем расчет PGS PGS003356\n"
     ]
    },
    {
     "name": "stderr",
     "output_type": "stream",
     "text": [
      "Python(25294) MallocStackLogging: can't turn off malloc stack logging because it was not enabled.\n"
     ]
    },
    {
     "name": "stdout",
     "output_type": "stream",
     "text": [
      "PGS PGS003356 успешно рассчитан\n",
      "\n",
      "==========================================\n",
      "Обработка PGS: PGS002048\n",
      "PGS PGS002048, содержит 762124 SNP\n",
      "Количество SNP в PGS: 762124\n",
      "Количество общих SNP: 322896\n",
      "Процент покрытия: 42.37%\n",
      "Выполняем расчет PGS PGS002048\n"
     ]
    },
    {
     "name": "stderr",
     "output_type": "stream",
     "text": [
      "Python(25369) MallocStackLogging: can't turn off malloc stack logging because it was not enabled.\n"
     ]
    },
    {
     "name": "stdout",
     "output_type": "stream",
     "text": [
      "PGS PGS002048 успешно рассчитан\n",
      "\n",
      "==========================================\n",
      "Обработка PGS: PGS001780\n",
      "PGS PGS001780, содержит 1090048 SNP\n",
      "Количество SNP в PGS: 1090048\n",
      "Количество общих SNP: 450206\n",
      "Процент покрытия: 41.30%\n",
      "Выполняем расчет PGS PGS001780\n"
     ]
    },
    {
     "name": "stderr",
     "output_type": "stream",
     "text": [
      "Python(25401) MallocStackLogging: can't turn off malloc stack logging because it was not enabled.\n"
     ]
    },
    {
     "name": "stdout",
     "output_type": "stream",
     "text": [
      "PGS PGS001780 успешно рассчитан\n",
      "\n",
      "==========================================\n",
      "Обработка PGS: PGS002262\n",
      "PGS PGS002262, содержит 540 SNP\n",
      "Количество SNP в PGS: 540\n",
      "Количество общих SNP: 136\n",
      "Процент покрытия: 25.19%\n",
      "Выполняем расчет PGS PGS002262\n"
     ]
    },
    {
     "name": "stderr",
     "output_type": "stream",
     "text": [
      "Python(25402) MallocStackLogging: can't turn off malloc stack logging because it was not enabled.\n"
     ]
    },
    {
     "name": "stdout",
     "output_type": "stream",
     "text": [
      "PGS PGS002262 успешно рассчитан\n",
      "\n",
      "==========================================\n",
      "Обработка PGS: PGS000058\n",
      "PGS PGS000058, содержит 204 SNP\n",
      "Количество SNP в PGS: 204\n",
      "Количество общих SNP: 41\n",
      "Процент покрытия: 20.10%\n",
      "Выполняем расчет PGS PGS000058\n"
     ]
    },
    {
     "name": "stderr",
     "output_type": "stream",
     "text": [
      "Python(25403) MallocStackLogging: can't turn off malloc stack logging because it was not enabled.\n"
     ]
    },
    {
     "name": "stdout",
     "output_type": "stream",
     "text": [
      "PGS PGS000058 успешно рассчитан\n",
      "\n",
      "==========================================\n",
      "Обработка PGS: PGS001839\n",
      "PGS PGS001839, содержит 25425 SNP\n",
      "Количество SNP в PGS: 25425\n",
      "Количество общих SNP: 11260\n",
      "Процент покрытия: 44.29%\n",
      "Выполняем расчет PGS PGS001839\n"
     ]
    },
    {
     "name": "stderr",
     "output_type": "stream",
     "text": [
      "Python(25406) MallocStackLogging: can't turn off malloc stack logging because it was not enabled.\n"
     ]
    },
    {
     "name": "stdout",
     "output_type": "stream",
     "text": [
      "PGS PGS001839 успешно рассчитан\n",
      "\n",
      "==========================================\n",
      "Обработка PGS: PGS004941\n",
      "PGS PGS004941, содержит 3711629 SNP\n",
      "Файл содержит позиционную информацию вместо rsID. Создаем синтетиические идентификаторы.\n",
      "Количество SNP в PGS: 3711629\n",
      "Количество общих SNP: 429616\n",
      "Процент покрытия: 11.57%\n",
      "Выполняем расчет PGS PGS004941\n"
     ]
    },
    {
     "name": "stderr",
     "output_type": "stream",
     "text": [
      "Python(25426) MallocStackLogging: can't turn off malloc stack logging because it was not enabled.\n"
     ]
    },
    {
     "name": "stdout",
     "output_type": "stream",
     "text": [
      "PGS PGS004941 успешно рассчитан\n",
      "\n",
      "==========================================\n",
      "Обработка PGS: PGS004200\n",
      "PGS PGS004200, содержит 8361 SNP\n",
      "Количество SNP в PGS: 8361\n",
      "Количество общих SNP: 899\n",
      "Процент покрытия: 10.75%\n",
      "Выполняем расчет PGS PGS004200\n"
     ]
    },
    {
     "name": "stderr",
     "output_type": "stream",
     "text": [
      "Python(25429) MallocStackLogging: can't turn off malloc stack logging because it was not enabled.\n"
     ]
    },
    {
     "name": "stdout",
     "output_type": "stream",
     "text": [
      "PGS PGS004200 успешно рассчитан\n",
      "\n",
      "==========================================\n",
      "Обработка PGS: PGS003355\n",
      "PGS PGS003355, содержит 1532758 SNP\n",
      "Файл содержит позиционную информацию вместо rsID. Создаем синтетиические идентификаторы.\n",
      "Количество SNP в PGS: 1532758\n",
      "Количество общих SNP: 116470\n",
      "Процент покрытия: 7.60%\n",
      "Выполняем расчет PGS PGS003355\n"
     ]
    },
    {
     "name": "stderr",
     "output_type": "stream",
     "text": [
      "Python(25507) MallocStackLogging: can't turn off malloc stack logging because it was not enabled.\n"
     ]
    },
    {
     "name": "stdout",
     "output_type": "stream",
     "text": [
      "PGS PGS003355 успешно рассчитан\n",
      "\n",
      "==========================================\n",
      "Обработка PGS: PGS001355\n",
      "PGS PGS001355, содержит 2994055 SNP\n",
      "Количество SNP в PGS: 2994055\n",
      "Количество общих SNP: 317044\n",
      "Процент покрытия: 10.59%\n",
      "Выполняем расчет PGS PGS001355\n"
     ]
    },
    {
     "name": "stderr",
     "output_type": "stream",
     "text": [
      "Python(25534) MallocStackLogging: can't turn off malloc stack logging because it was not enabled.\n"
     ]
    },
    {
     "name": "stdout",
     "output_type": "stream",
     "text": [
      "PGS PGS001355 успешно рассчитан\n",
      "\n",
      "==========================================\n",
      "Обработка PGS: PGS004198\n",
      "PGS PGS004198, содержит 5723 SNP\n",
      "Количество SNP в PGS: 5723\n",
      "Количество общих SNP: 670\n",
      "Процент покрытия: 11.71%\n",
      "Выполняем расчет PGS PGS004198\n"
     ]
    },
    {
     "name": "stderr",
     "output_type": "stream",
     "text": [
      "Python(25535) MallocStackLogging: can't turn off malloc stack logging because it was not enabled.\n"
     ]
    },
    {
     "name": "stdout",
     "output_type": "stream",
     "text": [
      "PGS PGS004198 успешно рассчитан\n",
      "\n",
      "==========================================\n",
      "Обработка PGS: PGS000329\n",
      "PGS PGS000329, содержит 6423165 SNP\n",
      "Количество SNP в PGS: 6423165\n",
      "Количество общих SNP: 490575\n",
      "Процент покрытия: 7.64%\n",
      "Выполняем расчет PGS PGS000329\n"
     ]
    },
    {
     "name": "stderr",
     "output_type": "stream",
     "text": [
      "Python(25548) MallocStackLogging: can't turn off malloc stack logging because it was not enabled.\n"
     ]
    },
    {
     "name": "stdout",
     "output_type": "stream",
     "text": [
      "PGS PGS000329 успешно рассчитан\n",
      "\n",
      "==========================================\n",
      "Обработка PGS: PGS004199\n",
      "PGS PGS004199, содержит 6085 SNP\n",
      "Количество SNP в PGS: 6085\n",
      "Количество общих SNP: 682\n",
      "Процент покрытия: 11.21%\n",
      "Выполняем расчет PGS PGS004199\n"
     ]
    },
    {
     "name": "stderr",
     "output_type": "stream",
     "text": [
      "Python(25550) MallocStackLogging: can't turn off malloc stack logging because it was not enabled.\n"
     ]
    },
    {
     "name": "stdout",
     "output_type": "stream",
     "text": [
      "PGS PGS004199 успешно рассчитан\n",
      "\n",
      "==========================================\n",
      "Обработка PGS: PGS000116\n",
      "PGS PGS000116, содержит 40079 SNP\n",
      "Количество SNP в PGS: 40079\n",
      "Количество общих SNP: 3662\n",
      "Процент покрытия: 9.14%\n",
      "Выполняем расчет PGS PGS000116\n"
     ]
    },
    {
     "name": "stderr",
     "output_type": "stream",
     "text": [
      "Python(25551) MallocStackLogging: can't turn off malloc stack logging because it was not enabled.\n"
     ]
    },
    {
     "name": "stdout",
     "output_type": "stream",
     "text": [
      "PGS PGS000116 успешно рассчитан\n",
      "\n",
      "==========================================\n",
      "Обработка PGS: PGS005091\n",
      "PGS PGS005091, содержит 1428772 SNP\n",
      "Файл содержит позиционную информацию вместо rsID. Создаем синтетиические идентификаторы.\n",
      "Количество SNP в PGS: 1428772\n",
      "Количество общих SNP: 4354\n",
      "Процент покрытия: 0.30%\n",
      "Выполняем расчет PGS PGS005091\n"
     ]
    },
    {
     "name": "stderr",
     "output_type": "stream",
     "text": [
      "Python(25566) MallocStackLogging: can't turn off malloc stack logging because it was not enabled.\n"
     ]
    },
    {
     "name": "stdout",
     "output_type": "stream",
     "text": [
      "PGS PGS005091 успешно рассчитан\n",
      "\n",
      "==========================================\n",
      "Обработка PGS: PGS005092\n",
      "PGS PGS005092, содержит 1279502 SNP\n",
      "Файл содержит позиционную информацию вместо rsID. Создаем синтетиические идентификаторы.\n",
      "Количество SNP в PGS: 1279502\n",
      "Количество общих SNP: 4540\n",
      "Процент покрытия: 0.35%\n",
      "Выполняем расчет PGS PGS005092\n"
     ]
    },
    {
     "name": "stderr",
     "output_type": "stream",
     "text": [
      "Python(25569) MallocStackLogging: can't turn off malloc stack logging because it was not enabled.\n"
     ]
    },
    {
     "name": "stdout",
     "output_type": "stream",
     "text": [
      "PGS PGS005092 успешно рассчитан\n",
      "\n",
      "==========================================\n",
      "Обработка PGS: PGS004746\n",
      "PGS PGS004746, содержит 6483064 SNP\n",
      "Файл содержит позиционную информацию вместо rsID. Создаем синтетиические идентификаторы.\n",
      "Количество SNP в PGS: 6483064\n",
      "Количество общих SNP: 6132\n",
      "Процент покрытия: 0.09%\n",
      "Выполняем расчет PGS PGS004746\n"
     ]
    },
    {
     "name": "stderr",
     "output_type": "stream",
     "text": [
      "Python(25678) MallocStackLogging: can't turn off malloc stack logging because it was not enabled.\n"
     ]
    },
    {
     "name": "stdout",
     "output_type": "stream",
     "text": [
      "PGS PGS004746 успешно рассчитан\n",
      "\n",
      "==========================================\n",
      "Обработка PGS: PGS004197\n",
      "PGS PGS004197, содержит 11490 SNP\n",
      "Количество SNP в PGS: 11490\n",
      "Количество общих SNP: 1193\n",
      "Процент покрытия: 10.38%\n",
      "Выполняем расчет PGS PGS004197\n"
     ]
    },
    {
     "name": "stderr",
     "output_type": "stream",
     "text": [
      "Python(25680) MallocStackLogging: can't turn off malloc stack logging because it was not enabled.\n"
     ]
    },
    {
     "name": "stdout",
     "output_type": "stream",
     "text": [
      "PGS PGS004197 успешно рассчитан\n",
      "\n",
      "==========================================\n",
      "Обработка PGS: PGS004196\n",
      "PGS PGS004196, содержит 3892 SNP\n",
      "Количество SNP в PGS: 3892\n",
      "Количество общих SNP: 464\n",
      "Процент покрытия: 11.92%\n",
      "Выполняем расчет PGS PGS004196\n"
     ]
    },
    {
     "name": "stderr",
     "output_type": "stream",
     "text": [
      "Python(25681) MallocStackLogging: can't turn off malloc stack logging because it was not enabled.\n"
     ]
    },
    {
     "name": "stdout",
     "output_type": "stream",
     "text": [
      "PGS PGS004196 успешно рассчитан\n",
      "\n",
      "==========================================\n",
      "Обработка PGS: PGS003438\n",
      "PGS PGS003438, содержит 241 SNP\n",
      "Количество SNP в PGS: 241\n",
      "Количество общих SNP: 29\n",
      "Процент покрытия: 12.03%\n",
      "Выполняем расчет PGS PGS003438\n"
     ]
    },
    {
     "name": "stderr",
     "output_type": "stream",
     "text": [
      "Python(25682) MallocStackLogging: can't turn off malloc stack logging because it was not enabled.\n"
     ]
    },
    {
     "name": "stdout",
     "output_type": "stream",
     "text": [
      "PGS PGS003438 успешно рассчитан\n",
      "\n",
      "==========================================\n",
      "Обработка PGS: PGS004237\n",
      "PGS PGS004237, содержит 1146511 SNP\n",
      "Количество SNP в PGS: 1146511\n",
      "Количество общих SNP: 474392\n",
      "Процент покрытия: 41.38%\n",
      "Выполняем расчет PGS PGS004237\n"
     ]
    },
    {
     "name": "stderr",
     "output_type": "stream",
     "text": [
      "Python(25689) MallocStackLogging: can't turn off malloc stack logging because it was not enabled.\n"
     ]
    },
    {
     "name": "stdout",
     "output_type": "stream",
     "text": [
      "PGS PGS004237 успешно рассчитан\n",
      "\n",
      "==========================================\n",
      "Обработка PGS: PGS004745\n",
      "PGS PGS004745, содержит 4769577 SNP\n",
      "Файл содержит позиционную информацию вместо rsID. Создаем синтетиические идентификаторы.\n",
      "Количество SNP в PGS: 4769577\n",
      "Количество общих SNP: 4560\n",
      "Процент покрытия: 0.10%\n",
      "Выполняем расчет PGS PGS004745\n"
     ]
    },
    {
     "name": "stderr",
     "output_type": "stream",
     "text": [
      "Python(25711) MallocStackLogging: can't turn off malloc stack logging because it was not enabled.\n"
     ]
    },
    {
     "name": "stdout",
     "output_type": "stream",
     "text": [
      "Ошибк при расчете PGS PGS004745 Error: Duplicate variant 'rs7862687' in --score file.\n",
      "\n",
      "\n",
      "==========================================\n",
      "Обработка PGS: PGS000899\n",
      "PGS PGS000899, содержит 176 SNP\n",
      "Количество SNP в PGS: 176\n",
      "Количество общих SNP: 37\n",
      "Процент покрытия: 21.02%\n",
      "Выполняем расчет PGS PGS000899\n"
     ]
    },
    {
     "name": "stderr",
     "output_type": "stream",
     "text": [
      "Python(25712) MallocStackLogging: can't turn off malloc stack logging because it was not enabled.\n"
     ]
    },
    {
     "name": "stdout",
     "output_type": "stream",
     "text": [
      "PGS PGS000899 успешно рассчитан\n",
      "\n",
      "==========================================\n",
      "Обработка PGS: PGS004744\n",
      "PGS PGS004744, содержит 7082943 SNP\n",
      "Файл содержит позиционную информацию вместо rsID. Создаем синтетиические идентификаторы.\n",
      "Количество SNP в PGS: 7082943\n",
      "Количество общих SNP: 6891\n",
      "Процент покрытия: 0.10%\n",
      "Выполняем расчет PGS PGS004744\n"
     ]
    },
    {
     "name": "stderr",
     "output_type": "stream",
     "text": [
      "Python(25823) MallocStackLogging: can't turn off malloc stack logging because it was not enabled.\n"
     ]
    },
    {
     "name": "stdout",
     "output_type": "stream",
     "text": [
      "PGS PGS004744 успешно рассчитан\n",
      "\n",
      "==========================================\n",
      "Обработка PGS: PGS004595\n",
      "PGS PGS004595, содержит 164 SNP\n",
      "Количество SNP в PGS: 164\n",
      "Количество общих SNP: 40\n",
      "Процент покрытия: 24.39%\n",
      "Выполняем расчет PGS PGS004595\n"
     ]
    },
    {
     "name": "stderr",
     "output_type": "stream",
     "text": [
      "Python(25825) MallocStackLogging: can't turn off malloc stack logging because it was not enabled.\n"
     ]
    },
    {
     "name": "stdout",
     "output_type": "stream",
     "text": [
      "PGS PGS004595 успешно рассчитан\n",
      "\n",
      "==========================================\n",
      "Обработка PGS: PGS005112\n",
      "PGS PGS005112, содержит 1106628 SNP\n",
      "Количество SNP в PGS: 1106628\n",
      "Количество общих SNP: 454934\n",
      "Процент покрытия: 41.11%\n",
      "Выполняем расчет PGS PGS005112\n"
     ]
    },
    {
     "name": "stderr",
     "output_type": "stream",
     "text": [
      "Python(25829) MallocStackLogging: can't turn off malloc stack logging because it was not enabled.\n"
     ]
    },
    {
     "name": "stdout",
     "output_type": "stream",
     "text": [
      "PGS PGS005112 успешно рассчитан\n",
      "\n",
      "==========================================\n",
      "Обработка PGS: PGS002244\n",
      "PGS PGS002244, содержит 6576338 SNP\n",
      "Количество SNP в PGS: 6576338\n",
      "Количество общих SNP: 497179\n",
      "Процент покрытия: 7.56%\n",
      "Выполняем расчет PGS PGS002244\n"
     ]
    },
    {
     "name": "stderr",
     "output_type": "stream",
     "text": [
      "Python(25856) MallocStackLogging: can't turn off malloc stack logging because it was not enabled.\n"
     ]
    },
    {
     "name": "stdout",
     "output_type": "stream",
     "text": [
      "PGS PGS002244 успешно рассчитан\n",
      "\n",
      "==========================================\n",
      "Обработка PGS: PGS000057\n",
      "PGS PGS000057, содержит 57 SNP\n",
      "Количество SNP в PGS: 57\n",
      "Количество общих SNP: 19\n",
      "Процент покрытия: 33.33%\n",
      "Выполняем расчет PGS PGS000057\n"
     ]
    },
    {
     "name": "stderr",
     "output_type": "stream",
     "text": [
      "Python(25858) MallocStackLogging: can't turn off malloc stack logging because it was not enabled.\n"
     ]
    },
    {
     "name": "stdout",
     "output_type": "stream",
     "text": [
      "PGS PGS000057 успешно рассчитан\n",
      "\n",
      "==========================================\n",
      "Обработка PGS: PGS000296\n",
      "PGS PGS000296, содержит 6630150 SNP\n",
      "Файл содержит позиционную информацию вместо rsID. Создаем синтетиические идентификаторы.\n",
      "Количество SNP в PGS: 6630150\n",
      "Количество общих SNP: 495928\n",
      "Процент покрытия: 7.48%\n",
      "Выполняем расчет PGS PGS000296\n"
     ]
    },
    {
     "name": "stderr",
     "output_type": "stream",
     "text": [
      "Python(25974) MallocStackLogging: can't turn off malloc stack logging because it was not enabled.\n"
     ]
    },
    {
     "name": "stdout",
     "output_type": "stream",
     "text": [
      "PGS PGS000296 успешно рассчитан\n",
      "\n",
      "==========================================\n",
      "Обработка PGS: PGS004743\n",
      "PGS PGS004743, содержит 3606321 SNP\n",
      "Файл содержит позиционную информацию вместо rsID. Создаем синтетиические идентификаторы.\n",
      "Количество SNP в PGS: 3606321\n",
      "Количество общих SNP: 3853\n",
      "Процент покрытия: 0.11%\n",
      "Выполняем расчет PGS PGS004743\n"
     ]
    },
    {
     "name": "stderr",
     "output_type": "stream",
     "text": [
      "Python(25992) MallocStackLogging: can't turn off malloc stack logging because it was not enabled.\n"
     ]
    },
    {
     "name": "stdout",
     "output_type": "stream",
     "text": [
      "Ошибк при расчете PGS PGS004743 Error: Duplicate variant 'rs7862687' in --score file.\n",
      "\n",
      "\n",
      "==========================================\n",
      "Обработка PGS: PGS004596\n",
      "PGS PGS004596, содержит 64 SNP\n",
      "Количество SNP в PGS: 64\n",
      "Количество общих SNP: 24\n",
      "Процент покрытия: 37.50%\n",
      "Выполняем расчет PGS PGS004596\n"
     ]
    },
    {
     "name": "stderr",
     "output_type": "stream",
     "text": [
      "Python(25993) MallocStackLogging: can't turn off malloc stack logging because it was not enabled.\n"
     ]
    },
    {
     "name": "stdout",
     "output_type": "stream",
     "text": [
      "PGS PGS004596 успешно рассчитан\n",
      "\n",
      "==========================================\n",
      "Обработка PGS: PGS000337\n",
      "PGS PGS000337, содержит 75028 SNP\n",
      "Файл содержит позиционную информацию вместо rsID. Создаем синтетиические идентификаторы.\n",
      "Количество SNP в PGS: 75028\n",
      "Количество общих SNP: 10154\n",
      "Процент покрытия: 13.53%\n",
      "Выполняем расчет PGS PGS000337\n"
     ]
    },
    {
     "name": "stderr",
     "output_type": "stream",
     "text": [
      "Python(25994) MallocStackLogging: can't turn off malloc stack logging because it was not enabled.\n"
     ]
    },
    {
     "name": "stdout",
     "output_type": "stream",
     "text": [
      "PGS PGS000337 успешно рассчитан\n",
      "\n",
      "==========================================\n",
      "Обработка PGS: PGS004309\n",
      "PGS PGS004309, содержит 3000 SNP\n",
      "Файл содержит позиционную информацию вместо rsID. Создаем синтетиические идентификаторы.\n",
      "Количество SNP в PGS: 3000\n",
      "Количество общих SNP: 1174\n",
      "Процент покрытия: 39.13%\n",
      "Выполняем расчет PGS PGS004309\n"
     ]
    },
    {
     "name": "stderr",
     "output_type": "stream",
     "text": [
      "Python(25995) MallocStackLogging: can't turn off malloc stack logging because it was not enabled.\n"
     ]
    },
    {
     "name": "stdout",
     "output_type": "stream",
     "text": [
      "PGS PGS004309 успешно рассчитан\n",
      "\n",
      "==========================================\n",
      "Обработка PGS: PGS004321\n",
      "PGS PGS004321, содержит 27 SNP\n",
      "Количество SNP в PGS: 27\n",
      "Количество общих SNP: 14\n",
      "Процент покрытия: 51.85%\n",
      "Выполняем расчет PGS PGS004321\n"
     ]
    },
    {
     "name": "stderr",
     "output_type": "stream",
     "text": [
      "Python(25996) MallocStackLogging: can't turn off malloc stack logging because it was not enabled.\n"
     ]
    },
    {
     "name": "stdout",
     "output_type": "stream",
     "text": [
      "PGS PGS004321 успешно рассчитан\n",
      "\n",
      "==========================================\n",
      "Обработка PGS: PGS004888\n",
      "PGS PGS004888, содержит 1110046 SNP\n",
      "Файл содержит позиционную информацию вместо rsID. Создаем синтетиические идентификаторы.\n",
      "Количество SNP в PGS: 1110046\n",
      "Количество общих SNP: 453801\n",
      "Процент покрытия: 40.88%\n",
      "Выполняем расчет PGS PGS004888\n"
     ]
    },
    {
     "name": "stderr",
     "output_type": "stream",
     "text": [
      "Python(26091) MallocStackLogging: can't turn off malloc stack logging because it was not enabled.\n"
     ]
    },
    {
     "name": "stdout",
     "output_type": "stream",
     "text": [
      "PGS PGS004888 успешно рассчитан\n",
      "\n",
      "==========================================\n",
      "Обработка PGS: PGS004308\n",
      "PGS PGS004308, содержит 1500 SNP\n",
      "Файл содержит позиционную информацию вместо rsID. Создаем синтетиические идентификаторы.\n",
      "Количество SNP в PGS: 1500\n",
      "Количество общих SNP: 584\n",
      "Процент покрытия: 38.93%\n",
      "Выполняем расчет PGS PGS004308\n"
     ]
    },
    {
     "name": "stderr",
     "output_type": "stream",
     "text": [
      "Python(26094) MallocStackLogging: can't turn off malloc stack logging because it was not enabled.\n"
     ]
    },
    {
     "name": "stdout",
     "output_type": "stream",
     "text": [
      "PGS PGS004308 успешно рассчитан\n",
      "\n",
      "==========================================\n",
      "Обработка PGS: PGS000018\n",
      "PGS PGS000018, содержит 1745179 SNP\n",
      "Количество SNP в PGS: 1745179\n",
      "Количество общих SNP: 129619\n",
      "Процент покрытия: 7.43%\n",
      "Выполняем расчет PGS PGS000018\n"
     ]
    },
    {
     "name": "stderr",
     "output_type": "stream",
     "text": [
      "Python(26109) MallocStackLogging: can't turn off malloc stack logging because it was not enabled.\n"
     ]
    },
    {
     "name": "stdout",
     "output_type": "stream",
     "text": [
      "PGS PGS000018 успешно рассчитан\n",
      "\n",
      "==========================================\n",
      "Обработка PGS: PGS004444\n",
      "PGS PGS004444, содержит 1059939 SNP\n",
      "Количество SNP в PGS: 1059939\n",
      "Количество общих SNP: 442559\n",
      "Процент покрытия: 41.75%\n",
      "Выполняем расчет PGS PGS004444\n"
     ]
    },
    {
     "name": "stderr",
     "output_type": "stream",
     "text": [
      "Python(26113) MallocStackLogging: can't turn off malloc stack logging because it was not enabled.\n"
     ]
    },
    {
     "name": "stdout",
     "output_type": "stream",
     "text": [
      "PGS PGS004444 успешно рассчитан\n",
      "\n",
      "==========================================\n",
      "Обработка PGS: PGS000019\n",
      "PGS PGS000019, содержит 192 SNP\n",
      "Количество SNP в PGS: 192\n",
      "Количество общих SNP: 26\n",
      "Процент покрытия: 13.54%\n",
      "Выполняем расчет PGS PGS000019\n"
     ]
    },
    {
     "name": "stderr",
     "output_type": "stream",
     "text": [
      "Python(26114) MallocStackLogging: can't turn off malloc stack logging because it was not enabled.\n"
     ]
    },
    {
     "name": "stdout",
     "output_type": "stream",
     "text": [
      "PGS PGS000019 успешно рассчитан\n",
      "\n",
      "==========================================\n",
      "Обработка PGS: PGS000747\n",
      "PGS PGS000747, содержит 375822 SNP\n",
      "Файл содержит позиционную информацию вместо rsID. Создаем синтетиические идентификаторы.\n",
      "Количество SNP в PGS: 375822\n",
      "Количество общих SNP: 31294\n",
      "Процент покрытия: 8.33%\n",
      "Выполняем расчет PGS PGS000747\n"
     ]
    },
    {
     "name": "stderr",
     "output_type": "stream",
     "text": [
      "Python(26118) MallocStackLogging: can't turn off malloc stack logging because it was not enabled.\n"
     ]
    },
    {
     "name": "stdout",
     "output_type": "stream",
     "text": [
      "PGS PGS000747 успешно рассчитан\n",
      "\n",
      "==========================================\n",
      "Обработка PGS: PGS000746\n",
      "PGS PGS000746, содержит 1940 SNP\n",
      "Файл содержит позиционную информацию вместо rsID. Создаем синтетиические идентификаторы.\n",
      "Количество SNP в PGS: 1940\n",
      "Количество общих SNP: 232\n",
      "Процент покрытия: 11.96%\n",
      "Выполняем расчет PGS PGS000746\n"
     ]
    },
    {
     "name": "stderr",
     "output_type": "stream",
     "text": [
      "Python(26119) MallocStackLogging: can't turn off malloc stack logging because it was not enabled.\n"
     ]
    },
    {
     "name": "stdout",
     "output_type": "stream",
     "text": [
      "PGS PGS000746 успешно рассчитан\n",
      "\n",
      "==========================================\n",
      "Обработка PGS: PGS004697\n",
      "PGS PGS004697, содержит 1120251 SNP\n",
      "Количество SNP в PGS: 1120251\n",
      "Количество общих SNP: 456041\n",
      "Процент покрытия: 40.71%\n",
      "Выполняем расчет PGS PGS004697\n"
     ]
    },
    {
     "name": "stderr",
     "output_type": "stream",
     "text": [
      "Python(26137) MallocStackLogging: can't turn off malloc stack logging because it was not enabled.\n"
     ]
    },
    {
     "name": "stdout",
     "output_type": "stream",
     "text": [
      "PGS PGS004697 успешно рассчитан\n",
      "\n",
      "==========================================\n",
      "Обработка PGS: PGS004899\n",
      "PGS PGS004899, содержит 7 SNP\n",
      "Количество SNP в PGS: 7\n",
      "Количество общих SNP: 0\n",
      "Процент покрытия: 0.00%\n",
      "нет общих SNP для PGS004899\n",
      "\n",
      "==========================================\n",
      "Обработка PGS: PGS004696\n",
      "PGS PGS004696, содержит 1289980 SNP\n",
      "Количество SNP в PGS: 1289980\n",
      "Количество общих SNP: 456450\n",
      "Процент покрытия: 35.38%\n",
      "Выполняем расчет PGS PGS004696\n"
     ]
    },
    {
     "name": "stderr",
     "output_type": "stream",
     "text": [
      "Python(26222) MallocStackLogging: can't turn off malloc stack logging because it was not enabled.\n"
     ]
    },
    {
     "name": "stdout",
     "output_type": "stream",
     "text": [
      "PGS PGS004696 успешно рассчитан\n",
      "\n",
      "==========================================\n",
      "Обработка PGS: PGS004443\n",
      "PGS PGS004443, содержит 1059939 SNP\n",
      "Количество SNP в PGS: 1059939\n",
      "Количество общих SNP: 442559\n",
      "Процент покрытия: 41.75%\n",
      "Выполняем расчет PGS PGS004443\n"
     ]
    },
    {
     "name": "stderr",
     "output_type": "stream",
     "text": [
      "Python(26255) MallocStackLogging: can't turn off malloc stack logging because it was not enabled.\n"
     ]
    },
    {
     "name": "stdout",
     "output_type": "stream",
     "text": [
      "PGS PGS004443 успешно рассчитан\n",
      "\n",
      "==========================================\n",
      "Обработка PGS: PGS000962\n",
      "PGS PGS000962, содержит 2168 SNP\n",
      "Количество SNP в PGS: 2168\n",
      "Количество общих SNP: 444\n",
      "Процент покрытия: 20.48%\n",
      "Выполняем расчет PGS PGS000962\n"
     ]
    },
    {
     "name": "stderr",
     "output_type": "stream",
     "text": [
      "Python(26256) MallocStackLogging: can't turn off malloc stack logging because it was not enabled.\n"
     ]
    },
    {
     "name": "stdout",
     "output_type": "stream",
     "text": [
      "PGS PGS000962 успешно рассчитан\n"
     ]
    },
    {
     "name": "stderr",
     "output_type": "stream",
     "text": [
      "/Users/daklo/for_dipl/pgs_calculator.py:139: SettingWithCopyWarning: \n",
      "A value is trying to be set on a copy of a slice from a DataFrame.\n",
      "Try using .loc[row_indexer,col_indexer] = value instead\n",
      "\n",
      "See the caveats in the documentation: https://pandas.pydata.org/pandas-docs/stable/user_guide/indexing.html#returning-a-view-versus-a-copy\n",
      "  combined[pgs_name] = df['SCORE']\n",
      "/Users/daklo/for_dipl/pgs_calculator.py:139: SettingWithCopyWarning: \n",
      "A value is trying to be set on a copy of a slice from a DataFrame.\n",
      "Try using .loc[row_indexer,col_indexer] = value instead\n",
      "\n",
      "See the caveats in the documentation: https://pandas.pydata.org/pandas-docs/stable/user_guide/indexing.html#returning-a-view-versus-a-copy\n",
      "  combined[pgs_name] = df['SCORE']\n",
      "/Users/daklo/for_dipl/pgs_calculator.py:139: SettingWithCopyWarning: \n",
      "A value is trying to be set on a copy of a slice from a DataFrame.\n",
      "Try using .loc[row_indexer,col_indexer] = value instead\n",
      "\n",
      "See the caveats in the documentation: https://pandas.pydata.org/pandas-docs/stable/user_guide/indexing.html#returning-a-view-versus-a-copy\n",
      "  combined[pgs_name] = df['SCORE']\n"
     ]
    },
    {
     "name": "stdout",
     "output_type": "stream",
     "text": [
      "Объеденены PGS для 224 образцов и 73 PGS\n",
      "Сохраняю в ./pgs_results_calculated/test_2_pgs.csv\n",
      "\n",
      "Примеры данных из X_train:\n"
     ]
    },
    {
     "data": {
      "text/html": [
       "<div>\n",
       "<style scoped>\n",
       "    .dataframe tbody tr th:only-of-type {\n",
       "        vertical-align: middle;\n",
       "    }\n",
       "\n",
       "    .dataframe tbody tr th {\n",
       "        vertical-align: top;\n",
       "    }\n",
       "\n",
       "    .dataframe thead th {\n",
       "        text-align: right;\n",
       "    }\n",
       "</style>\n",
       "<table border=\"1\" class=\"dataframe\">\n",
       "  <thead>\n",
       "    <tr style=\"text-align: right;\">\n",
       "      <th></th>\n",
       "      <th>PGS003725</th>\n",
       "      <th>PGS000748</th>\n",
       "      <th>PGS000012</th>\n",
       "      <th>PGS003446</th>\n",
       "      <th>PGS004513</th>\n",
       "      <th>PGS000013</th>\n",
       "      <th>PGS005143</th>\n",
       "      <th>PGS003726</th>\n",
       "      <th>PGS002809</th>\n",
       "      <th>PGS000011</th>\n",
       "      <th>...</th>\n",
       "      <th>PGS004308</th>\n",
       "      <th>PGS000018</th>\n",
       "      <th>PGS004444</th>\n",
       "      <th>PGS000019</th>\n",
       "      <th>PGS000747</th>\n",
       "      <th>PGS000746</th>\n",
       "      <th>PGS004697</th>\n",
       "      <th>PGS004696</th>\n",
       "      <th>PGS004443</th>\n",
       "      <th>PGS000962</th>\n",
       "    </tr>\n",
       "  </thead>\n",
       "  <tbody>\n",
       "    <tr>\n",
       "      <th>0</th>\n",
       "      <td>-0.000002</td>\n",
       "      <td>-0.000063</td>\n",
       "      <td>0.006168</td>\n",
       "      <td>0.000101</td>\n",
       "      <td>9.563590e-09</td>\n",
       "      <td>0.000001</td>\n",
       "      <td>2.133620e-07</td>\n",
       "      <td>-7.225190e-07</td>\n",
       "      <td>0.031908</td>\n",
       "      <td>0.049699</td>\n",
       "      <td>...</td>\n",
       "      <td>-0.000416</td>\n",
       "      <td>0.000024</td>\n",
       "      <td>-4.740360e-08</td>\n",
       "      <td>0.027669</td>\n",
       "      <td>-0.000215</td>\n",
       "      <td>-0.001157</td>\n",
       "      <td>9.104200e-08</td>\n",
       "      <td>-2.493230e-08</td>\n",
       "      <td>3.393840e-08</td>\n",
       "      <td>0.000154</td>\n",
       "    </tr>\n",
       "    <tr>\n",
       "      <th>1</th>\n",
       "      <td>-0.000002</td>\n",
       "      <td>-0.000086</td>\n",
       "      <td>0.006297</td>\n",
       "      <td>0.000143</td>\n",
       "      <td>-9.089200e-09</td>\n",
       "      <td>0.000001</td>\n",
       "      <td>3.249220e-07</td>\n",
       "      <td>-9.690630e-07</td>\n",
       "      <td>0.033945</td>\n",
       "      <td>0.052974</td>\n",
       "      <td>...</td>\n",
       "      <td>0.000108</td>\n",
       "      <td>0.000026</td>\n",
       "      <td>-4.726230e-08</td>\n",
       "      <td>0.041390</td>\n",
       "      <td>-0.000261</td>\n",
       "      <td>0.000481</td>\n",
       "      <td>-6.681350e-08</td>\n",
       "      <td>-8.733090e-08</td>\n",
       "      <td>-3.073520e-07</td>\n",
       "      <td>0.000240</td>\n",
       "    </tr>\n",
       "    <tr>\n",
       "      <th>2</th>\n",
       "      <td>-0.000002</td>\n",
       "      <td>-0.000090</td>\n",
       "      <td>0.006240</td>\n",
       "      <td>0.000113</td>\n",
       "      <td>3.234120e-08</td>\n",
       "      <td>0.000001</td>\n",
       "      <td>1.328640e-07</td>\n",
       "      <td>-8.976220e-07</td>\n",
       "      <td>0.031143</td>\n",
       "      <td>0.044140</td>\n",
       "      <td>...</td>\n",
       "      <td>-0.000299</td>\n",
       "      <td>0.000026</td>\n",
       "      <td>8.779570e-08</td>\n",
       "      <td>0.036693</td>\n",
       "      <td>-0.000271</td>\n",
       "      <td>0.000935</td>\n",
       "      <td>-2.101710e-07</td>\n",
       "      <td>-1.457680e-07</td>\n",
       "      <td>8.514760e-08</td>\n",
       "      <td>0.000223</td>\n",
       "    </tr>\n",
       "    <tr>\n",
       "      <th>3</th>\n",
       "      <td>-0.000002</td>\n",
       "      <td>-0.000103</td>\n",
       "      <td>0.006256</td>\n",
       "      <td>0.000172</td>\n",
       "      <td>3.375590e-08</td>\n",
       "      <td>0.000001</td>\n",
       "      <td>8.318560e-08</td>\n",
       "      <td>-1.076690e-06</td>\n",
       "      <td>0.028405</td>\n",
       "      <td>0.059610</td>\n",
       "      <td>...</td>\n",
       "      <td>-0.000317</td>\n",
       "      <td>0.000025</td>\n",
       "      <td>1.868750e-07</td>\n",
       "      <td>0.026249</td>\n",
       "      <td>-0.000253</td>\n",
       "      <td>0.001527</td>\n",
       "      <td>-4.598390e-08</td>\n",
       "      <td>9.236140e-09</td>\n",
       "      <td>2.314840e-07</td>\n",
       "      <td>0.000098</td>\n",
       "    </tr>\n",
       "    <tr>\n",
       "      <th>4</th>\n",
       "      <td>-0.000002</td>\n",
       "      <td>-0.000076</td>\n",
       "      <td>0.006315</td>\n",
       "      <td>0.000063</td>\n",
       "      <td>1.377980e-08</td>\n",
       "      <td>0.000001</td>\n",
       "      <td>1.328290e-07</td>\n",
       "      <td>-5.345950e-07</td>\n",
       "      <td>0.030465</td>\n",
       "      <td>0.052816</td>\n",
       "      <td>...</td>\n",
       "      <td>-0.000092</td>\n",
       "      <td>0.000026</td>\n",
       "      <td>4.031540e-08</td>\n",
       "      <td>0.038051</td>\n",
       "      <td>-0.000273</td>\n",
       "      <td>0.000886</td>\n",
       "      <td>9.229850e-08</td>\n",
       "      <td>-5.851200e-08</td>\n",
       "      <td>-4.544610e-08</td>\n",
       "      <td>0.000214</td>\n",
       "    </tr>\n",
       "  </tbody>\n",
       "</table>\n",
       "<p>5 rows × 73 columns</p>\n",
       "</div>"
      ],
      "text/plain": [
       "   PGS003725  PGS000748  PGS000012  PGS003446     PGS004513  PGS000013  \\\n",
       "0  -0.000002  -0.000063   0.006168   0.000101  9.563590e-09   0.000001   \n",
       "1  -0.000002  -0.000086   0.006297   0.000143 -9.089200e-09   0.000001   \n",
       "2  -0.000002  -0.000090   0.006240   0.000113  3.234120e-08   0.000001   \n",
       "3  -0.000002  -0.000103   0.006256   0.000172  3.375590e-08   0.000001   \n",
       "4  -0.000002  -0.000076   0.006315   0.000063  1.377980e-08   0.000001   \n",
       "\n",
       "      PGS005143     PGS003726  PGS002809  PGS000011  ...  PGS004308  \\\n",
       "0  2.133620e-07 -7.225190e-07   0.031908   0.049699  ...  -0.000416   \n",
       "1  3.249220e-07 -9.690630e-07   0.033945   0.052974  ...   0.000108   \n",
       "2  1.328640e-07 -8.976220e-07   0.031143   0.044140  ...  -0.000299   \n",
       "3  8.318560e-08 -1.076690e-06   0.028405   0.059610  ...  -0.000317   \n",
       "4  1.328290e-07 -5.345950e-07   0.030465   0.052816  ...  -0.000092   \n",
       "\n",
       "   PGS000018     PGS004444  PGS000019  PGS000747  PGS000746     PGS004697  \\\n",
       "0   0.000024 -4.740360e-08   0.027669  -0.000215  -0.001157  9.104200e-08   \n",
       "1   0.000026 -4.726230e-08   0.041390  -0.000261   0.000481 -6.681350e-08   \n",
       "2   0.000026  8.779570e-08   0.036693  -0.000271   0.000935 -2.101710e-07   \n",
       "3   0.000025  1.868750e-07   0.026249  -0.000253   0.001527 -4.598390e-08   \n",
       "4   0.000026  4.031540e-08   0.038051  -0.000273   0.000886  9.229850e-08   \n",
       "\n",
       "      PGS004696     PGS004443  PGS000962  \n",
       "0 -2.493230e-08  3.393840e-08   0.000154  \n",
       "1 -8.733090e-08 -3.073520e-07   0.000240  \n",
       "2 -1.457680e-07  8.514760e-08   0.000223  \n",
       "3  9.236140e-09  2.314840e-07   0.000098  \n",
       "4 -5.851200e-08 -4.544610e-08   0.000214  \n",
       "\n",
       "[5 rows x 73 columns]"
      ]
     },
     "metadata": {},
     "output_type": "display_data"
    },
    {
     "data": {
      "text/html": [
       "<div>\n",
       "<style scoped>\n",
       "    .dataframe tbody tr th:only-of-type {\n",
       "        vertical-align: middle;\n",
       "    }\n",
       "\n",
       "    .dataframe tbody tr th {\n",
       "        vertical-align: top;\n",
       "    }\n",
       "\n",
       "    .dataframe thead th {\n",
       "        text-align: right;\n",
       "    }\n",
       "</style>\n",
       "<table border=\"1\" class=\"dataframe\">\n",
       "  <thead>\n",
       "    <tr style=\"text-align: right;\">\n",
       "      <th></th>\n",
       "      <th>PGS003725</th>\n",
       "      <th>PGS000748</th>\n",
       "      <th>PGS000012</th>\n",
       "      <th>PGS003446</th>\n",
       "      <th>PGS004513</th>\n",
       "      <th>PGS000013</th>\n",
       "      <th>PGS005143</th>\n",
       "      <th>PGS003726</th>\n",
       "      <th>PGS002809</th>\n",
       "      <th>PGS000011</th>\n",
       "      <th>...</th>\n",
       "      <th>PGS004308</th>\n",
       "      <th>PGS000018</th>\n",
       "      <th>PGS004444</th>\n",
       "      <th>PGS000019</th>\n",
       "      <th>PGS000747</th>\n",
       "      <th>PGS000746</th>\n",
       "      <th>PGS004697</th>\n",
       "      <th>PGS004696</th>\n",
       "      <th>PGS004443</th>\n",
       "      <th>PGS000962</th>\n",
       "    </tr>\n",
       "  </thead>\n",
       "  <tbody>\n",
       "    <tr>\n",
       "      <th>0</th>\n",
       "      <td>-0.000002</td>\n",
       "      <td>-0.000077</td>\n",
       "      <td>0.006249</td>\n",
       "      <td>0.000084</td>\n",
       "      <td>-6.468390e-09</td>\n",
       "      <td>0.000001</td>\n",
       "      <td>2.050060e-07</td>\n",
       "      <td>-7.303820e-07</td>\n",
       "      <td>0.028568</td>\n",
       "      <td>0.053982</td>\n",
       "      <td>...</td>\n",
       "      <td>-0.000123</td>\n",
       "      <td>0.000025</td>\n",
       "      <td>4.188520e-08</td>\n",
       "      <td>0.028056</td>\n",
       "      <td>-0.000272</td>\n",
       "      <td>0.001207</td>\n",
       "      <td>2.060740e-08</td>\n",
       "      <td>-4.580640e-08</td>\n",
       "      <td>-1.235300e-07</td>\n",
       "      <td>0.000442</td>\n",
       "    </tr>\n",
       "    <tr>\n",
       "      <th>1</th>\n",
       "      <td>-0.000002</td>\n",
       "      <td>-0.000073</td>\n",
       "      <td>0.006176</td>\n",
       "      <td>0.000113</td>\n",
       "      <td>1.469660e-08</td>\n",
       "      <td>0.000001</td>\n",
       "      <td>-1.259850e-07</td>\n",
       "      <td>-1.020070e-06</td>\n",
       "      <td>0.029764</td>\n",
       "      <td>0.047192</td>\n",
       "      <td>...</td>\n",
       "      <td>-0.000132</td>\n",
       "      <td>0.000025</td>\n",
       "      <td>2.014970e-07</td>\n",
       "      <td>0.029192</td>\n",
       "      <td>-0.000246</td>\n",
       "      <td>0.000573</td>\n",
       "      <td>-5.138560e-08</td>\n",
       "      <td>-1.015960e-07</td>\n",
       "      <td>-2.863590e-08</td>\n",
       "      <td>0.000167</td>\n",
       "    </tr>\n",
       "    <tr>\n",
       "      <th>2</th>\n",
       "      <td>-0.000002</td>\n",
       "      <td>-0.000093</td>\n",
       "      <td>0.006337</td>\n",
       "      <td>0.000168</td>\n",
       "      <td>1.294410e-08</td>\n",
       "      <td>0.000001</td>\n",
       "      <td>8.225050e-08</td>\n",
       "      <td>-1.203660e-06</td>\n",
       "      <td>0.031145</td>\n",
       "      <td>0.054192</td>\n",
       "      <td>...</td>\n",
       "      <td>-0.000319</td>\n",
       "      <td>0.000026</td>\n",
       "      <td>2.498490e-07</td>\n",
       "      <td>0.033110</td>\n",
       "      <td>-0.000256</td>\n",
       "      <td>0.001609</td>\n",
       "      <td>-1.864660e-07</td>\n",
       "      <td>-1.512570e-07</td>\n",
       "      <td>9.906360e-08</td>\n",
       "      <td>0.000176</td>\n",
       "    </tr>\n",
       "    <tr>\n",
       "      <th>3</th>\n",
       "      <td>-0.000003</td>\n",
       "      <td>-0.000155</td>\n",
       "      <td>0.006232</td>\n",
       "      <td>0.000070</td>\n",
       "      <td>-8.073540e-10</td>\n",
       "      <td>0.000001</td>\n",
       "      <td>4.479050e-08</td>\n",
       "      <td>-1.672050e-06</td>\n",
       "      <td>0.034958</td>\n",
       "      <td>0.062859</td>\n",
       "      <td>...</td>\n",
       "      <td>-0.000207</td>\n",
       "      <td>0.000024</td>\n",
       "      <td>-8.926880e-08</td>\n",
       "      <td>0.025489</td>\n",
       "      <td>-0.000380</td>\n",
       "      <td>0.000331</td>\n",
       "      <td>-4.772550e-07</td>\n",
       "      <td>-3.884370e-07</td>\n",
       "      <td>-2.211720e-07</td>\n",
       "      <td>0.000419</td>\n",
       "    </tr>\n",
       "    <tr>\n",
       "      <th>4</th>\n",
       "      <td>-0.000002</td>\n",
       "      <td>-0.000082</td>\n",
       "      <td>0.006297</td>\n",
       "      <td>0.000077</td>\n",
       "      <td>8.738070e-09</td>\n",
       "      <td>0.000001</td>\n",
       "      <td>1.764720e-07</td>\n",
       "      <td>-7.048640e-07</td>\n",
       "      <td>0.036374</td>\n",
       "      <td>0.062315</td>\n",
       "      <td>...</td>\n",
       "      <td>0.000006</td>\n",
       "      <td>0.000024</td>\n",
       "      <td>-1.298470e-08</td>\n",
       "      <td>0.026312</td>\n",
       "      <td>-0.000300</td>\n",
       "      <td>0.001333</td>\n",
       "      <td>-1.391520e-09</td>\n",
       "      <td>-4.926360e-08</td>\n",
       "      <td>6.710440e-08</td>\n",
       "      <td>0.000610</td>\n",
       "    </tr>\n",
       "  </tbody>\n",
       "</table>\n",
       "<p>5 rows × 73 columns</p>\n",
       "</div>"
      ],
      "text/plain": [
       "   PGS003725  PGS000748  PGS000012  PGS003446     PGS004513  PGS000013  \\\n",
       "0  -0.000002  -0.000077   0.006249   0.000084 -6.468390e-09   0.000001   \n",
       "1  -0.000002  -0.000073   0.006176   0.000113  1.469660e-08   0.000001   \n",
       "2  -0.000002  -0.000093   0.006337   0.000168  1.294410e-08   0.000001   \n",
       "3  -0.000003  -0.000155   0.006232   0.000070 -8.073540e-10   0.000001   \n",
       "4  -0.000002  -0.000082   0.006297   0.000077  8.738070e-09   0.000001   \n",
       "\n",
       "      PGS005143     PGS003726  PGS002809  PGS000011  ...  PGS004308  \\\n",
       "0  2.050060e-07 -7.303820e-07   0.028568   0.053982  ...  -0.000123   \n",
       "1 -1.259850e-07 -1.020070e-06   0.029764   0.047192  ...  -0.000132   \n",
       "2  8.225050e-08 -1.203660e-06   0.031145   0.054192  ...  -0.000319   \n",
       "3  4.479050e-08 -1.672050e-06   0.034958   0.062859  ...  -0.000207   \n",
       "4  1.764720e-07 -7.048640e-07   0.036374   0.062315  ...   0.000006   \n",
       "\n",
       "   PGS000018     PGS004444  PGS000019  PGS000747  PGS000746     PGS004697  \\\n",
       "0   0.000025  4.188520e-08   0.028056  -0.000272   0.001207  2.060740e-08   \n",
       "1   0.000025  2.014970e-07   0.029192  -0.000246   0.000573 -5.138560e-08   \n",
       "2   0.000026  2.498490e-07   0.033110  -0.000256   0.001609 -1.864660e-07   \n",
       "3   0.000024 -8.926880e-08   0.025489  -0.000380   0.000331 -4.772550e-07   \n",
       "4   0.000024 -1.298470e-08   0.026312  -0.000300   0.001333 -1.391520e-09   \n",
       "\n",
       "      PGS004696     PGS004443  PGS000962  \n",
       "0 -4.580640e-08 -1.235300e-07   0.000442  \n",
       "1 -1.015960e-07 -2.863590e-08   0.000167  \n",
       "2 -1.512570e-07  9.906360e-08   0.000176  \n",
       "3 -3.884370e-07 -2.211720e-07   0.000419  \n",
       "4 -4.926360e-08  6.710440e-08   0.000610  \n",
       "\n",
       "[5 rows x 73 columns]"
      ]
     },
     "metadata": {},
     "output_type": "display_data"
    },
    {
     "name": "stdout",
     "output_type": "stream",
     "text": [
      "1\n",
      "файл ./train_3.bim, содержит 591998 SNP\n",
      "Найдено 76 PGS\n",
      "\n",
      "==========================================\n",
      "Обработка PGS: PGS003725\n",
      "PGS PGS003725, содержит 1296172 SNP\n",
      "Файл содержит позиционную информацию вместо rsID. Создаем синтетиические идентификаторы.\n",
      "Количество SNP в PGS: 1296172\n",
      "Количество общих SNP: 456468\n",
      "Процент покрытия: 35.22%\n",
      "Выполняем расчет PGS PGS003725\n"
     ]
    },
    {
     "name": "stderr",
     "output_type": "stream",
     "text": [
      "Python(26287) MallocStackLogging: can't turn off malloc stack logging because it was not enabled.\n"
     ]
    },
    {
     "name": "stdout",
     "output_type": "stream",
     "text": [
      "PGS PGS003725 успешно рассчитан\n",
      "\n",
      "==========================================\n",
      "Обработка PGS: PGS000748\n",
      "PGS PGS000748, содержит 3423987 SNP\n",
      "Файл содержит позиционную информацию вместо rsID. Создаем синтетиические идентификаторы.\n",
      "Количество SNP в PGS: 3423987\n",
      "Количество общих SNP: 416579\n",
      "Процент покрытия: 12.17%\n",
      "Выполняем расчет PGS PGS000748\n"
     ]
    },
    {
     "name": "stderr",
     "output_type": "stream",
     "text": [
      "Python(26394) MallocStackLogging: can't turn off malloc stack logging because it was not enabled.\n"
     ]
    },
    {
     "name": "stdout",
     "output_type": "stream",
     "text": [
      "PGS PGS000748 успешно рассчитан\n",
      "\n",
      "==========================================\n",
      "Обработка PGS: PGS000012\n",
      "PGS PGS000012, содержит 49310 SNP\n",
      "Количество SNP в PGS: 49310\n",
      "Количество общих SNP: 15881\n",
      "Процент покрытия: 32.21%\n",
      "Выполняем расчет PGS PGS000012\n"
     ]
    },
    {
     "name": "stderr",
     "output_type": "stream",
     "text": [
      "Python(26395) MallocStackLogging: can't turn off malloc stack logging because it was not enabled.\n"
     ]
    },
    {
     "name": "stdout",
     "output_type": "stream",
     "text": [
      "PGS PGS000012 успешно рассчитан\n",
      "\n",
      "==========================================\n",
      "Обработка PGS: PGS003446\n",
      "PGS PGS003446, содержит 538084 SNP\n",
      "Файл содержит позиционную информацию вместо rsID. Создаем синтетиические идентификаторы.\n",
      "Количество SNP в PGS: 538084\n",
      "Количество общих SNP: 25529\n",
      "Процент покрытия: 4.74%\n",
      "Выполняем расчет PGS PGS003446\n"
     ]
    },
    {
     "name": "stderr",
     "output_type": "stream",
     "text": [
      "Python(26400) MallocStackLogging: can't turn off malloc stack logging because it was not enabled.\n"
     ]
    },
    {
     "name": "stdout",
     "output_type": "stream",
     "text": [
      "PGS PGS003446 успешно рассчитан\n",
      "\n",
      "==========================================\n",
      "Обработка PGS: PGS004513\n",
      "PGS PGS004513, содержит 1059939 SNP\n",
      "Количество SNP в PGS: 1059939\n",
      "Количество общих SNP: 442559\n",
      "Процент покрытия: 41.75%\n",
      "Выполняем расчет PGS PGS004513\n"
     ]
    },
    {
     "name": "stderr",
     "output_type": "stream",
     "text": [
      "Python(26403) MallocStackLogging: can't turn off malloc stack logging because it was not enabled.\n"
     ]
    },
    {
     "name": "stdout",
     "output_type": "stream",
     "text": [
      "PGS PGS004513 успешно рассчитан\n",
      "\n",
      "==========================================\n",
      "Обработка PGS: PGS000013\n",
      "PGS PGS000013, содержит 6630150 SNP\n",
      "Файл содержит позиционную информацию вместо rsID. Создаем синтетиические идентификаторы.\n",
      "Количество SNP в PGS: 6630150\n",
      "Количество общих SNP: 495928\n",
      "Процент покрытия: 7.48%\n",
      "Выполняем расчет PGS PGS000013\n"
     ]
    },
    {
     "name": "stderr",
     "output_type": "stream",
     "text": [
      "Python(26652) MallocStackLogging: can't turn off malloc stack logging because it was not enabled.\n"
     ]
    },
    {
     "name": "stdout",
     "output_type": "stream",
     "text": [
      "PGS PGS000013 успешно рассчитан\n",
      "\n",
      "==========================================\n",
      "Обработка PGS: PGS005143\n",
      "PGS PGS005143, содержит 943274 SNP\n",
      "Количество SNP в PGS: 943274\n",
      "Количество общих SNP: 395304\n",
      "Процент покрытия: 41.91%\n",
      "Выполняем расчет PGS PGS005143\n"
     ]
    },
    {
     "name": "stderr",
     "output_type": "stream",
     "text": [
      "Python(26657) MallocStackLogging: can't turn off malloc stack logging because it was not enabled.\n"
     ]
    },
    {
     "name": "stdout",
     "output_type": "stream",
     "text": [
      "PGS PGS005143 успешно рассчитан\n",
      "\n",
      "==========================================\n",
      "Обработка PGS: PGS003726\n",
      "PGS PGS003726, содержит 1296172 SNP\n",
      "Файл содержит позиционную информацию вместо rsID. Создаем синтетиические идентификаторы.\n",
      "Количество SNP в PGS: 1296172\n",
      "Количество общих SNP: 456468\n",
      "Процент покрытия: 35.22%\n",
      "Выполняем расчет PGS PGS003726\n"
     ]
    },
    {
     "name": "stderr",
     "output_type": "stream",
     "text": [
      "Python(26675) MallocStackLogging: can't turn off malloc stack logging because it was not enabled.\n"
     ]
    },
    {
     "name": "stdout",
     "output_type": "stream",
     "text": [
      "PGS PGS003726 успешно рассчитан\n",
      "\n",
      "==========================================\n",
      "Обработка PGS: PGS002809\n",
      "PGS PGS002809, содержит 205 SNP\n",
      "Количество SNP в PGS: 205\n",
      "Количество общих SNP: 48\n",
      "Процент покрытия: 23.41%\n",
      "Выполняем расчет PGS PGS002809\n"
     ]
    },
    {
     "name": "stderr",
     "output_type": "stream",
     "text": [
      "Python(26676) MallocStackLogging: can't turn off malloc stack logging because it was not enabled.\n"
     ]
    },
    {
     "name": "stdout",
     "output_type": "stream",
     "text": [
      "PGS PGS002809 успешно рассчитан\n",
      "\n",
      "==========================================\n",
      "Обработка PGS: PGS000011\n",
      "PGS PGS000011, содержит 50 SNP\n",
      "Количество SNP в PGS: 50\n",
      "Количество общих SNP: 22\n",
      "Процент покрытия: 44.00%\n",
      "Выполняем расчет PGS PGS000011\n"
     ]
    },
    {
     "name": "stderr",
     "output_type": "stream",
     "text": [
      "Python(26677) MallocStackLogging: can't turn off malloc stack logging because it was not enabled.\n"
     ]
    },
    {
     "name": "stdout",
     "output_type": "stream",
     "text": [
      "PGS PGS000011 успешно рассчитан\n",
      "\n",
      "==========================================\n",
      "Обработка PGS: PGS000818\n",
      "PGS PGS000818, содержит 138 SNP\n",
      "Количество SNP в PGS: 138\n",
      "Количество общих SNP: 42\n",
      "Процент покрытия: 30.43%\n",
      "Выполняем расчет PGS PGS000818\n"
     ]
    },
    {
     "name": "stderr",
     "output_type": "stream",
     "text": [
      "Python(26678) MallocStackLogging: can't turn off malloc stack logging because it was not enabled.\n"
     ]
    },
    {
     "name": "stdout",
     "output_type": "stream",
     "text": [
      "PGS PGS000818 успешно рассчитан\n",
      "\n",
      "==========================================\n",
      "Обработка PGS: PGS004698\n",
      "PGS PGS004698, содержит 542218 SNP\n",
      "Файл содержит позиционную информацию вместо rsID. Создаем синтетиические идентификаторы.\n",
      "Количество SNP в PGS: 542218\n",
      "Количество общих SNP: 26884\n",
      "Процент покрытия: 4.96%\n",
      "Выполняем расчет PGS PGS004698\n"
     ]
    },
    {
     "name": "stderr",
     "output_type": "stream",
     "text": [
      "Python(26683) MallocStackLogging: can't turn off malloc stack logging because it was not enabled.\n"
     ]
    },
    {
     "name": "stdout",
     "output_type": "stream",
     "text": [
      "PGS PGS004698 успешно рассчитан\n",
      "\n",
      "==========================================\n",
      "Обработка PGS: PGS000010\n",
      "PGS PGS000010, содержит 27 SNP\n",
      "Количество SNP в PGS: 27\n",
      "Количество общих SNP: 14\n",
      "Процент покрытия: 51.85%\n",
      "Выполняем расчет PGS PGS000010\n"
     ]
    },
    {
     "name": "stderr",
     "output_type": "stream",
     "text": [
      "Python(26684) MallocStackLogging: can't turn off malloc stack logging because it was not enabled.\n"
     ]
    },
    {
     "name": "stdout",
     "output_type": "stream",
     "text": [
      "PGS PGS000010 успешно рассчитан\n",
      "\n",
      "==========================================\n",
      "Обработка PGS: PGS003727\n",
      "PGS PGS003727, содержит 1125113 SNP\n",
      "Файл содержит позиционную информацию вместо rsID. Создаем синтетиические идентификаторы.\n",
      "Количество SNP в PGS: 1125113\n",
      "Количество общих SNP: 455311\n",
      "Процент покрытия: 40.47%\n",
      "Выполняем расчет PGS PGS003727\n"
     ]
    },
    {
     "name": "stderr",
     "output_type": "stream",
     "text": [
      "Python(26779) MallocStackLogging: can't turn off malloc stack logging because it was not enabled.\n"
     ]
    },
    {
     "name": "stdout",
     "output_type": "stream",
     "text": [
      "PGS PGS003727 успешно рассчитан\n",
      "\n",
      "==========================================\n",
      "Обработка PGS: PGS004921\n",
      "PGS PGS004921, содержит 161 SNP\n",
      "Количество SNP в PGS: 161\n",
      "Количество общих SNP: 30\n",
      "Процент покрытия: 18.63%\n",
      "Выполняем расчет PGS PGS004921\n"
     ]
    },
    {
     "name": "stderr",
     "output_type": "stream",
     "text": [
      "Python(26780) MallocStackLogging: can't turn off malloc stack logging because it was not enabled.\n"
     ]
    },
    {
     "name": "stdout",
     "output_type": "stream",
     "text": [
      "PGS PGS004921 успешно рассчитан\n",
      "\n",
      "==========================================\n",
      "Обработка PGS: PGS004919\n",
      "PGS PGS004919, содержит 50 SNP\n",
      "Количество SNP в PGS: 50\n",
      "Количество общих SNP: 22\n",
      "Процент покрытия: 44.00%\n",
      "Выполняем расчет PGS PGS004919\n"
     ]
    },
    {
     "name": "stderr",
     "output_type": "stream",
     "text": [
      "Python(26781) MallocStackLogging: can't turn off malloc stack logging because it was not enabled.\n"
     ]
    },
    {
     "name": "stdout",
     "output_type": "stream",
     "text": [
      "PGS PGS004919 успешно рассчитан\n",
      "\n",
      "==========================================\n",
      "Обработка PGS: PGS004925\n",
      "PGS PGS004925, содержит 300 SNP\n",
      "Количество SNP в PGS: 300\n",
      "Количество общих SNP: 46\n",
      "Процент покрытия: 15.33%\n",
      "Выполняем расчет PGS PGS004925\n"
     ]
    },
    {
     "name": "stderr",
     "output_type": "stream",
     "text": [
      "Python(26783) MallocStackLogging: can't turn off malloc stack logging because it was not enabled.\n"
     ]
    },
    {
     "name": "stdout",
     "output_type": "stream",
     "text": [
      "PGS PGS004925 успешно рассчитан\n",
      "\n",
      "==========================================\n",
      "Обработка PGS: PGS004514\n",
      "PGS PGS004514, содержит 1059939 SNP\n",
      "Количество SNP в PGS: 1059939\n",
      "Количество общих SNP: 442559\n",
      "Процент покрытия: 41.75%\n",
      "Выполняем расчет PGS PGS004514\n"
     ]
    },
    {
     "name": "stderr",
     "output_type": "stream",
     "text": [
      "Python(26819) MallocStackLogging: can't turn off malloc stack logging because it was not enabled.\n"
     ]
    },
    {
     "name": "stdout",
     "output_type": "stream",
     "text": [
      "PGS PGS004514 успешно рассчитан\n",
      "\n",
      "==========================================\n",
      "Обработка PGS: PGS004306\n",
      "PGS PGS004306, содержит 4000 SNP\n",
      "Файл содержит позиционную информацию вместо rsID. Создаем синтетиические идентификаторы.\n",
      "Количество SNP в PGS: 4000\n",
      "Количество общих SNP: 1576\n",
      "Процент покрытия: 39.40%\n",
      "Выполняем расчет PGS PGS004306\n"
     ]
    },
    {
     "name": "stderr",
     "output_type": "stream",
     "text": [
      "Python(26820) MallocStackLogging: can't turn off malloc stack logging because it was not enabled.\n"
     ]
    },
    {
     "name": "stdout",
     "output_type": "stream",
     "text": [
      "PGS PGS004306 успешно рассчитан\n",
      "\n",
      "==========================================\n",
      "Обработка PGS: PGS004879\n",
      "PGS PGS004879, содержит 610677 SNP\n",
      "Количество SNP в PGS: 610677\n",
      "Количество общих SNP: 259008\n",
      "Процент покрытия: 42.41%\n",
      "Выполняем расчет PGS PGS004879\n"
     ]
    },
    {
     "name": "stderr",
     "output_type": "stream",
     "text": [
      "Python(26823) MallocStackLogging: can't turn off malloc stack logging because it was not enabled.\n"
     ]
    },
    {
     "name": "stdout",
     "output_type": "stream",
     "text": [
      "PGS PGS004879 успешно рассчитан\n",
      "\n",
      "==========================================\n",
      "Обработка PGS: PGS004307\n",
      "PGS PGS004307, содержит 4000 SNP\n",
      "Файл содержит позиционную информацию вместо rsID. Создаем синтетиические идентификаторы.\n",
      "Количество SNP в PGS: 4000\n",
      "Количество общих SNP: 1596\n",
      "Процент покрытия: 39.90%\n",
      "Выполняем расчет PGS PGS004307\n"
     ]
    },
    {
     "name": "stderr",
     "output_type": "stream",
     "text": [
      "Python(26824) MallocStackLogging: can't turn off malloc stack logging because it was not enabled.\n"
     ]
    },
    {
     "name": "stdout",
     "output_type": "stream",
     "text": [
      "PGS PGS004307 успешно рассчитан\n",
      "\n",
      "==========================================\n",
      "Обработка PGS: PGS002776\n",
      "PGS PGS002776, содержит 390782 SNP\n",
      "Количество SNP в PGS: 390782\n",
      "Количество общих SNP: 44688\n",
      "Процент покрытия: 11.44%\n",
      "Выполняем расчет PGS PGS002776\n"
     ]
    },
    {
     "name": "stderr",
     "output_type": "stream",
     "text": [
      "Python(26827) MallocStackLogging: can't turn off malloc stack logging because it was not enabled.\n"
     ]
    },
    {
     "name": "stdout",
     "output_type": "stream",
     "text": [
      "PGS PGS002776 успешно рассчитан\n",
      "\n",
      "==========================================\n",
      "Обработка PGS: PGS000798\n",
      "PGS PGS000798, содержит 157 SNP\n",
      "Количество SNP в PGS: 157\n",
      "Количество общих SNP: 29\n",
      "Процент покрытия: 18.47%\n",
      "Выполняем расчет PGS PGS000798\n"
     ]
    },
    {
     "name": "stderr",
     "output_type": "stream",
     "text": [
      "Python(26828) MallocStackLogging: can't turn off malloc stack logging because it was not enabled.\n"
     ]
    },
    {
     "name": "stdout",
     "output_type": "stream",
     "text": [
      "PGS PGS000798 успешно рассчитан\n",
      "\n",
      "==========================================\n",
      "Обработка PGS: PGS004305\n",
      "PGS PGS004305, содержит 3000 SNP\n",
      "Файл содержит позиционную информацию вместо rsID. Создаем синтетиические идентификаторы.\n",
      "Количество SNP в PGS: 3000\n",
      "Количество общих SNP: 1127\n",
      "Процент покрытия: 37.57%\n",
      "Выполняем расчет PGS PGS004305\n"
     ]
    },
    {
     "name": "stderr",
     "output_type": "stream",
     "text": [
      "Python(26829) MallocStackLogging: can't turn off malloc stack logging because it was not enabled.\n"
     ]
    },
    {
     "name": "stdout",
     "output_type": "stream",
     "text": [
      "PGS PGS004305 успешно рассчитан\n",
      "\n",
      "==========================================\n",
      "Обработка PGS: PGS000349\n",
      "PGS PGS000349, содержит 70 SNP\n",
      "Количество SNP в PGS: 70\n",
      "Количество общих SNP: 24\n",
      "Процент покрытия: 34.29%\n",
      "Выполняем расчет PGS PGS000349\n"
     ]
    },
    {
     "name": "stderr",
     "output_type": "stream",
     "text": [
      "Python(26830) MallocStackLogging: can't turn off malloc stack logging because it was not enabled.\n"
     ]
    },
    {
     "name": "stdout",
     "output_type": "stream",
     "text": [
      "PGS PGS000349 успешно рассчитан\n",
      "\n",
      "==========================================\n",
      "Обработка PGS: PGS003866\n",
      "PGS PGS003866, содержит 10440 SNP\n",
      "Количество SNP в PGS: 10440\n",
      "Количество общих SNP: 4335\n",
      "Процент покрытия: 41.52%\n",
      "Выполняем расчет PGS PGS003866\n"
     ]
    },
    {
     "name": "stderr",
     "output_type": "stream",
     "text": [
      "Python(26831) MallocStackLogging: can't turn off malloc stack logging because it was not enabled.\n"
     ]
    },
    {
     "name": "stdout",
     "output_type": "stream",
     "text": [
      "PGS PGS003866 успешно рассчитан\n",
      "\n",
      "==========================================\n",
      "Обработка PGS: PGS002775\n",
      "PGS PGS002775, содержит 1059 SNP\n",
      "Количество SNP в PGS: 1059\n",
      "Количество общих SNP: 180\n",
      "Процент покрытия: 17.00%\n",
      "Выполняем расчет PGS PGS002775\n"
     ]
    },
    {
     "name": "stderr",
     "output_type": "stream",
     "text": [
      "Python(26832) MallocStackLogging: can't turn off malloc stack logging because it was not enabled.\n"
     ]
    },
    {
     "name": "stdout",
     "output_type": "stream",
     "text": [
      "PGS PGS002775 успешно рассчитан\n",
      "\n",
      "==========================================\n",
      "Обработка PGS: PGS005152\n",
      "PGS PGS005152, содержит 943274 SNP\n",
      "Количество SNP в PGS: 943274\n",
      "Количество общих SNP: 395304\n",
      "Процент покрытия: 41.91%\n",
      "Выполняем расчет PGS PGS005152\n"
     ]
    },
    {
     "name": "stderr",
     "output_type": "stream",
     "text": [
      "Python(26856) MallocStackLogging: can't turn off malloc stack logging because it was not enabled.\n"
     ]
    },
    {
     "name": "stdout",
     "output_type": "stream",
     "text": [
      "PGS PGS005152 успешно рассчитан\n",
      "\n",
      "==========================================\n",
      "Обработка PGS: PGS000200\n",
      "PGS PGS000200, содержит 28 SNP\n",
      "Количество SNP в PGS: 28\n",
      "Количество общих SNP: 15\n",
      "Процент покрытия: 53.57%\n",
      "Выполняем расчет PGS PGS000200\n"
     ]
    },
    {
     "name": "stderr",
     "output_type": "stream",
     "text": [
      "Python(26857) MallocStackLogging: can't turn off malloc stack logging because it was not enabled.\n"
     ]
    },
    {
     "name": "stdout",
     "output_type": "stream",
     "text": [
      "PGS PGS000200 успешно рассчитан\n",
      "\n",
      "==========================================\n",
      "Обработка PGS: PGS000059\n",
      "PGS PGS000059, содержит 46 SNP\n",
      "Количество SNP в PGS: 46\n",
      "Количество общих SNP: 18\n",
      "Процент покрытия: 39.13%\n",
      "Выполняем расчет PGS PGS000059\n"
     ]
    },
    {
     "name": "stderr",
     "output_type": "stream",
     "text": [
      "Python(26858) MallocStackLogging: can't turn off malloc stack logging because it was not enabled.\n"
     ]
    },
    {
     "name": "stdout",
     "output_type": "stream",
     "text": [
      "PGS PGS000059 успешно рассчитан\n",
      "\n",
      "==========================================\n",
      "Обработка PGS: PGS003356\n",
      "PGS PGS003356, содержит 2324683 SNP\n",
      "Файл содержит позиционную информацию вместо rsID. Создаем синтетиические идентификаторы.\n",
      "Количество SNP в PGS: 2324683\n",
      "Количество общих SNP: 497605\n",
      "Процент покрытия: 21.41%\n",
      "Выполняем расчет PGS PGS003356\n"
     ]
    },
    {
     "name": "stderr",
     "output_type": "stream",
     "text": [
      "Python(26968) MallocStackLogging: can't turn off malloc stack logging because it was not enabled.\n"
     ]
    },
    {
     "name": "stdout",
     "output_type": "stream",
     "text": [
      "PGS PGS003356 успешно рассчитан\n",
      "\n",
      "==========================================\n",
      "Обработка PGS: PGS002048\n",
      "PGS PGS002048, содержит 762124 SNP\n",
      "Количество SNP в PGS: 762124\n",
      "Количество общих SNP: 322896\n",
      "Процент покрытия: 42.37%\n",
      "Выполняем расчет PGS PGS002048\n"
     ]
    },
    {
     "name": "stderr",
     "output_type": "stream",
     "text": [
      "Python(26972) MallocStackLogging: can't turn off malloc stack logging because it was not enabled.\n"
     ]
    },
    {
     "name": "stdout",
     "output_type": "stream",
     "text": [
      "PGS PGS002048 успешно рассчитан\n",
      "\n",
      "==========================================\n",
      "Обработка PGS: PGS001780\n",
      "PGS PGS001780, содержит 1090048 SNP\n",
      "Количество SNP в PGS: 1090048\n",
      "Количество общих SNP: 450206\n",
      "Процент покрытия: 41.30%\n",
      "Выполняем расчет PGS PGS001780\n"
     ]
    },
    {
     "name": "stderr",
     "output_type": "stream",
     "text": [
      "Python(26977) MallocStackLogging: can't turn off malloc stack logging because it was not enabled.\n"
     ]
    },
    {
     "name": "stdout",
     "output_type": "stream",
     "text": [
      "PGS PGS001780 успешно рассчитан\n",
      "\n",
      "==========================================\n",
      "Обработка PGS: PGS002262\n",
      "PGS PGS002262, содержит 540 SNP\n",
      "Количество SNP в PGS: 540\n",
      "Количество общих SNP: 136\n",
      "Процент покрытия: 25.19%\n",
      "Выполняем расчет PGS PGS002262\n"
     ]
    },
    {
     "name": "stderr",
     "output_type": "stream",
     "text": [
      "Python(26978) MallocStackLogging: can't turn off malloc stack logging because it was not enabled.\n"
     ]
    },
    {
     "name": "stdout",
     "output_type": "stream",
     "text": [
      "PGS PGS002262 успешно рассчитан\n",
      "\n",
      "==========================================\n",
      "Обработка PGS: PGS000058\n",
      "PGS PGS000058, содержит 204 SNP\n",
      "Количество SNP в PGS: 204\n",
      "Количество общих SNP: 41\n",
      "Процент покрытия: 20.10%\n",
      "Выполняем расчет PGS PGS000058\n"
     ]
    },
    {
     "name": "stderr",
     "output_type": "stream",
     "text": [
      "Python(26979) MallocStackLogging: can't turn off malloc stack logging because it was not enabled.\n"
     ]
    },
    {
     "name": "stdout",
     "output_type": "stream",
     "text": [
      "PGS PGS000058 успешно рассчитан\n",
      "\n",
      "==========================================\n",
      "Обработка PGS: PGS001839\n",
      "PGS PGS001839, содержит 25425 SNP\n",
      "Количество SNP в PGS: 25425\n",
      "Количество общих SNP: 11260\n",
      "Процент покрытия: 44.29%\n",
      "Выполняем расчет PGS PGS001839\n"
     ]
    },
    {
     "name": "stderr",
     "output_type": "stream",
     "text": [
      "Python(26981) MallocStackLogging: can't turn off malloc stack logging because it was not enabled.\n"
     ]
    },
    {
     "name": "stdout",
     "output_type": "stream",
     "text": [
      "PGS PGS001839 успешно рассчитан\n",
      "\n",
      "==========================================\n",
      "Обработка PGS: PGS004941\n",
      "PGS PGS004941, содержит 3711629 SNP\n",
      "Файл содержит позиционную информацию вместо rsID. Создаем синтетиические идентификаторы.\n",
      "Количество SNP в PGS: 3711629\n",
      "Количество общих SNP: 429616\n",
      "Процент покрытия: 11.57%\n",
      "Выполняем расчет PGS PGS004941\n"
     ]
    },
    {
     "name": "stderr",
     "output_type": "stream",
     "text": [
      "Python(27099) MallocStackLogging: can't turn off malloc stack logging because it was not enabled.\n"
     ]
    },
    {
     "name": "stdout",
     "output_type": "stream",
     "text": [
      "PGS PGS004941 успешно рассчитан\n",
      "\n",
      "==========================================\n",
      "Обработка PGS: PGS004200\n",
      "PGS PGS004200, содержит 8361 SNP\n",
      "Количество SNP в PGS: 8361\n",
      "Количество общих SNP: 899\n",
      "Процент покрытия: 10.75%\n",
      "Выполняем расчет PGS PGS004200\n"
     ]
    },
    {
     "name": "stderr",
     "output_type": "stream",
     "text": [
      "Python(27100) MallocStackLogging: can't turn off malloc stack logging because it was not enabled.\n"
     ]
    },
    {
     "name": "stdout",
     "output_type": "stream",
     "text": [
      "PGS PGS004200 успешно рассчитан\n",
      "\n",
      "==========================================\n",
      "Обработка PGS: PGS003355\n",
      "PGS PGS003355, содержит 1532758 SNP\n",
      "Файл содержит позиционную информацию вместо rsID. Создаем синтетиические идентификаторы.\n",
      "Количество SNP в PGS: 1532758\n",
      "Количество общих SNP: 116470\n",
      "Процент покрытия: 7.60%\n",
      "Выполняем расчет PGS PGS003355\n"
     ]
    },
    {
     "name": "stderr",
     "output_type": "stream",
     "text": [
      "Python(27109) MallocStackLogging: can't turn off malloc stack logging because it was not enabled.\n"
     ]
    },
    {
     "name": "stdout",
     "output_type": "stream",
     "text": [
      "PGS PGS003355 успешно рассчитан\n",
      "\n",
      "==========================================\n",
      "Обработка PGS: PGS001355\n",
      "PGS PGS001355, содержит 2994055 SNP\n",
      "Количество SNP в PGS: 2994055\n",
      "Количество общих SNP: 317044\n",
      "Процент покрытия: 10.59%\n",
      "Выполняем расчет PGS PGS001355\n"
     ]
    },
    {
     "name": "stderr",
     "output_type": "stream",
     "text": [
      "Python(27117) MallocStackLogging: can't turn off malloc stack logging because it was not enabled.\n"
     ]
    },
    {
     "name": "stdout",
     "output_type": "stream",
     "text": [
      "PGS PGS001355 успешно рассчитан\n",
      "\n",
      "==========================================\n",
      "Обработка PGS: PGS004198\n",
      "PGS PGS004198, содержит 5723 SNP\n",
      "Количество SNP в PGS: 5723\n",
      "Количество общих SNP: 670\n",
      "Процент покрытия: 11.71%\n",
      "Выполняем расчет PGS PGS004198\n"
     ]
    },
    {
     "name": "stderr",
     "output_type": "stream",
     "text": [
      "Python(27118) MallocStackLogging: can't turn off malloc stack logging because it was not enabled.\n"
     ]
    },
    {
     "name": "stdout",
     "output_type": "stream",
     "text": [
      "PGS PGS004198 успешно рассчитан\n",
      "\n",
      "==========================================\n",
      "Обработка PGS: PGS000329\n",
      "PGS PGS000329, содержит 6423165 SNP\n",
      "Количество SNP в PGS: 6423165\n",
      "Количество общих SNP: 490575\n",
      "Процент покрытия: 7.64%\n",
      "Выполняем расчет PGS PGS000329\n"
     ]
    },
    {
     "name": "stderr",
     "output_type": "stream",
     "text": [
      "Python(27234) MallocStackLogging: can't turn off malloc stack logging because it was not enabled.\n"
     ]
    },
    {
     "name": "stdout",
     "output_type": "stream",
     "text": [
      "PGS PGS000329 успешно рассчитан\n",
      "\n",
      "==========================================\n",
      "Обработка PGS: PGS004199\n",
      "PGS PGS004199, содержит 6085 SNP\n",
      "Количество SNP в PGS: 6085\n",
      "Количество общих SNP: 682\n",
      "Процент покрытия: 11.21%\n",
      "Выполняем расчет PGS PGS004199\n"
     ]
    },
    {
     "name": "stderr",
     "output_type": "stream",
     "text": [
      "Python(27237) MallocStackLogging: can't turn off malloc stack logging because it was not enabled.\n"
     ]
    },
    {
     "name": "stdout",
     "output_type": "stream",
     "text": [
      "PGS PGS004199 успешно рассчитан\n",
      "\n",
      "==========================================\n",
      "Обработка PGS: PGS000116\n",
      "PGS PGS000116, содержит 40079 SNP\n",
      "Количество SNP в PGS: 40079\n",
      "Количество общих SNP: 3662\n",
      "Процент покрытия: 9.14%\n",
      "Выполняем расчет PGS PGS000116\n"
     ]
    },
    {
     "name": "stderr",
     "output_type": "stream",
     "text": [
      "Python(27238) MallocStackLogging: can't turn off malloc stack logging because it was not enabled.\n"
     ]
    },
    {
     "name": "stdout",
     "output_type": "stream",
     "text": [
      "PGS PGS000116 успешно рассчитан\n",
      "\n",
      "==========================================\n",
      "Обработка PGS: PGS005091\n",
      "PGS PGS005091, содержит 1428772 SNP\n",
      "Файл содержит позиционную информацию вместо rsID. Создаем синтетиические идентификаторы.\n",
      "Количество SNP в PGS: 1428772\n",
      "Количество общих SNP: 4354\n",
      "Процент покрытия: 0.30%\n",
      "Выполняем расчет PGS PGS005091\n"
     ]
    },
    {
     "name": "stderr",
     "output_type": "stream",
     "text": [
      "Python(27249) MallocStackLogging: can't turn off malloc stack logging because it was not enabled.\n"
     ]
    },
    {
     "name": "stdout",
     "output_type": "stream",
     "text": [
      "PGS PGS005091 успешно рассчитан\n",
      "\n",
      "==========================================\n",
      "Обработка PGS: PGS005092\n",
      "PGS PGS005092, содержит 1279502 SNP\n",
      "Файл содержит позиционную информацию вместо rsID. Создаем синтетиические идентификаторы.\n",
      "Количество SNP в PGS: 1279502\n",
      "Количество общих SNP: 4540\n",
      "Процент покрытия: 0.35%\n",
      "Выполняем расчет PGS PGS005092\n"
     ]
    },
    {
     "name": "stderr",
     "output_type": "stream",
     "text": [
      "Python(27254) MallocStackLogging: can't turn off malloc stack logging because it was not enabled.\n"
     ]
    },
    {
     "name": "stdout",
     "output_type": "stream",
     "text": [
      "PGS PGS005092 успешно рассчитан\n",
      "\n",
      "==========================================\n",
      "Обработка PGS: PGS004746\n",
      "PGS PGS004746, содержит 6483064 SNP\n",
      "Файл содержит позиционную информацию вместо rsID. Создаем синтетиические идентификаторы.\n",
      "Количество SNP в PGS: 6483064\n",
      "Количество общих SNP: 6132\n",
      "Процент покрытия: 0.09%\n",
      "Выполняем расчет PGS PGS004746\n"
     ]
    },
    {
     "name": "stderr",
     "output_type": "stream",
     "text": [
      "Python(27313) MallocStackLogging: can't turn off malloc stack logging because it was not enabled.\n"
     ]
    },
    {
     "name": "stdout",
     "output_type": "stream",
     "text": [
      "PGS PGS004746 успешно рассчитан\n",
      "\n",
      "==========================================\n",
      "Обработка PGS: PGS004197\n",
      "PGS PGS004197, содержит 11490 SNP\n",
      "Количество SNP в PGS: 11490\n",
      "Количество общих SNP: 1193\n",
      "Процент покрытия: 10.38%\n",
      "Выполняем расчет PGS PGS004197\n"
     ]
    },
    {
     "name": "stderr",
     "output_type": "stream",
     "text": [
      "Python(27319) MallocStackLogging: can't turn off malloc stack logging because it was not enabled.\n"
     ]
    },
    {
     "name": "stdout",
     "output_type": "stream",
     "text": [
      "PGS PGS004197 успешно рассчитан\n",
      "\n",
      "==========================================\n",
      "Обработка PGS: PGS004196\n",
      "PGS PGS004196, содержит 3892 SNP\n",
      "Количество SNP в PGS: 3892\n",
      "Количество общих SNP: 464\n",
      "Процент покрытия: 11.92%\n",
      "Выполняем расчет PGS PGS004196\n"
     ]
    },
    {
     "name": "stderr",
     "output_type": "stream",
     "text": [
      "Python(27321) MallocStackLogging: can't turn off malloc stack logging because it was not enabled.\n"
     ]
    },
    {
     "name": "stdout",
     "output_type": "stream",
     "text": [
      "PGS PGS004196 успешно рассчитан\n",
      "\n",
      "==========================================\n",
      "Обработка PGS: PGS003438\n",
      "PGS PGS003438, содержит 241 SNP\n",
      "Количество SNP в PGS: 241\n",
      "Количество общих SNP: 29\n",
      "Процент покрытия: 12.03%\n",
      "Выполняем расчет PGS PGS003438\n"
     ]
    },
    {
     "name": "stderr",
     "output_type": "stream",
     "text": [
      "Python(27322) MallocStackLogging: can't turn off malloc stack logging because it was not enabled.\n"
     ]
    },
    {
     "name": "stdout",
     "output_type": "stream",
     "text": [
      "PGS PGS003438 успешно рассчитан\n",
      "\n",
      "==========================================\n",
      "Обработка PGS: PGS004237\n",
      "PGS PGS004237, содержит 1146511 SNP\n",
      "Количество SNP в PGS: 1146511\n",
      "Количество общих SNP: 474392\n",
      "Процент покрытия: 41.38%\n",
      "Выполняем расчет PGS PGS004237\n"
     ]
    },
    {
     "name": "stderr",
     "output_type": "stream",
     "text": [
      "Python(27424) MallocStackLogging: can't turn off malloc stack logging because it was not enabled.\n"
     ]
    },
    {
     "name": "stdout",
     "output_type": "stream",
     "text": [
      "PGS PGS004237 успешно рассчитан\n",
      "\n",
      "==========================================\n",
      "Обработка PGS: PGS004745\n",
      "PGS PGS004745, содержит 4769577 SNP\n",
      "Файл содержит позиционную информацию вместо rsID. Создаем синтетиические идентификаторы.\n",
      "Количество SNP в PGS: 4769577\n",
      "Количество общих SNP: 4560\n",
      "Процент покрытия: 0.10%\n",
      "Выполняем расчет PGS PGS004745\n"
     ]
    },
    {
     "name": "stderr",
     "output_type": "stream",
     "text": [
      "Python(27450) MallocStackLogging: can't turn off malloc stack logging because it was not enabled.\n"
     ]
    },
    {
     "name": "stdout",
     "output_type": "stream",
     "text": [
      "Ошибк при расчете PGS PGS004745 Error: Duplicate variant 'rs7862687' in --score file.\n",
      "\n",
      "\n",
      "==========================================\n",
      "Обработка PGS: PGS000899\n",
      "PGS PGS000899, содержит 176 SNP\n",
      "Количество SNP в PGS: 176\n",
      "Количество общих SNP: 37\n",
      "Процент покрытия: 21.02%\n",
      "Выполняем расчет PGS PGS000899\n"
     ]
    },
    {
     "name": "stderr",
     "output_type": "stream",
     "text": [
      "Python(27451) MallocStackLogging: can't turn off malloc stack logging because it was not enabled.\n"
     ]
    },
    {
     "name": "stdout",
     "output_type": "stream",
     "text": [
      "PGS PGS000899 успешно рассчитан\n",
      "\n",
      "==========================================\n",
      "Обработка PGS: PGS004744\n",
      "PGS PGS004744, содержит 7082943 SNP\n",
      "Файл содержит позиционную информацию вместо rsID. Создаем синтетиические идентификаторы.\n",
      "Количество SNP в PGS: 7082943\n",
      "Количество общих SNP: 6891\n",
      "Процент покрытия: 0.10%\n",
      "Выполняем расчет PGS PGS004744\n"
     ]
    },
    {
     "name": "stderr",
     "output_type": "stream",
     "text": [
      "Python(27550) MallocStackLogging: can't turn off malloc stack logging because it was not enabled.\n"
     ]
    },
    {
     "name": "stdout",
     "output_type": "stream",
     "text": [
      "PGS PGS004744 успешно рассчитан\n",
      "\n",
      "==========================================\n",
      "Обработка PGS: PGS004595\n",
      "PGS PGS004595, содержит 164 SNP\n",
      "Количество SNP в PGS: 164\n",
      "Количество общих SNP: 40\n",
      "Процент покрытия: 24.39%\n",
      "Выполняем расчет PGS PGS004595\n"
     ]
    },
    {
     "name": "stderr",
     "output_type": "stream",
     "text": [
      "Python(27552) MallocStackLogging: can't turn off malloc stack logging because it was not enabled.\n"
     ]
    },
    {
     "name": "stdout",
     "output_type": "stream",
     "text": [
      "PGS PGS004595 успешно рассчитан\n",
      "\n",
      "==========================================\n",
      "Обработка PGS: PGS005112\n",
      "PGS PGS005112, содержит 1106628 SNP\n",
      "Количество SNP в PGS: 1106628\n",
      "Количество общих SNP: 454934\n",
      "Процент покрытия: 41.11%\n",
      "Выполняем расчет PGS PGS005112\n"
     ]
    },
    {
     "name": "stderr",
     "output_type": "stream",
     "text": [
      "Python(27570) MallocStackLogging: can't turn off malloc stack logging because it was not enabled.\n"
     ]
    },
    {
     "name": "stdout",
     "output_type": "stream",
     "text": [
      "PGS PGS005112 успешно рассчитан\n",
      "\n",
      "==========================================\n",
      "Обработка PGS: PGS002244\n",
      "PGS PGS002244, содержит 6576338 SNP\n",
      "Количество SNP в PGS: 6576338\n",
      "Количество общих SNP: 497179\n",
      "Процент покрытия: 7.56%\n",
      "Выполняем расчет PGS PGS002244\n"
     ]
    },
    {
     "name": "stderr",
     "output_type": "stream",
     "text": [
      "Python(27592) MallocStackLogging: can't turn off malloc stack logging because it was not enabled.\n"
     ]
    },
    {
     "name": "stdout",
     "output_type": "stream",
     "text": [
      "PGS PGS002244 успешно рассчитан\n",
      "\n",
      "==========================================\n",
      "Обработка PGS: PGS000057\n",
      "PGS PGS000057, содержит 57 SNP\n",
      "Количество SNP в PGS: 57\n",
      "Количество общих SNP: 19\n",
      "Процент покрытия: 33.33%\n",
      "Выполняем расчет PGS PGS000057\n"
     ]
    },
    {
     "name": "stderr",
     "output_type": "stream",
     "text": [
      "Python(27593) MallocStackLogging: can't turn off malloc stack logging because it was not enabled.\n"
     ]
    },
    {
     "name": "stdout",
     "output_type": "stream",
     "text": [
      "PGS PGS000057 успешно рассчитан\n",
      "\n",
      "==========================================\n",
      "Обработка PGS: PGS000296\n",
      "PGS PGS000296, содержит 6630150 SNP\n",
      "Файл содержит позиционную информацию вместо rsID. Создаем синтетиические идентификаторы.\n",
      "Количество SNP в PGS: 6630150\n",
      "Количество общих SNP: 495928\n",
      "Процент покрытия: 7.48%\n",
      "Выполняем расчет PGS PGS000296\n"
     ]
    },
    {
     "name": "stderr",
     "output_type": "stream",
     "text": [
      "Python(27707) MallocStackLogging: can't turn off malloc stack logging because it was not enabled.\n"
     ]
    },
    {
     "name": "stdout",
     "output_type": "stream",
     "text": [
      "PGS PGS000296 успешно рассчитан\n",
      "\n",
      "==========================================\n",
      "Обработка PGS: PGS004743\n",
      "PGS PGS004743, содержит 3606321 SNP\n",
      "Файл содержит позиционную информацию вместо rsID. Создаем синтетиические идентификаторы.\n",
      "Количество SNP в PGS: 3606321\n",
      "Количество общих SNP: 3853\n",
      "Процент покрытия: 0.11%\n",
      "Выполняем расчет PGS PGS004743\n"
     ]
    },
    {
     "name": "stderr",
     "output_type": "stream",
     "text": [
      "Python(27725) MallocStackLogging: can't turn off malloc stack logging because it was not enabled.\n"
     ]
    },
    {
     "name": "stdout",
     "output_type": "stream",
     "text": [
      "Ошибк при расчете PGS PGS004743 Error: Duplicate variant 'rs7862687' in --score file.\n",
      "\n",
      "\n",
      "==========================================\n",
      "Обработка PGS: PGS004596\n",
      "PGS PGS004596, содержит 64 SNP\n",
      "Количество SNP в PGS: 64\n",
      "Количество общих SNP: 24\n",
      "Процент покрытия: 37.50%\n",
      "Выполняем расчет PGS PGS004596\n"
     ]
    },
    {
     "name": "stderr",
     "output_type": "stream",
     "text": [
      "Python(27726) MallocStackLogging: can't turn off malloc stack logging because it was not enabled.\n"
     ]
    },
    {
     "name": "stdout",
     "output_type": "stream",
     "text": [
      "PGS PGS004596 успешно рассчитан\n",
      "\n",
      "==========================================\n",
      "Обработка PGS: PGS000337\n",
      "PGS PGS000337, содержит 75028 SNP\n",
      "Файл содержит позиционную информацию вместо rsID. Создаем синтетиические идентификаторы.\n",
      "Количество SNP в PGS: 75028\n",
      "Количество общих SNP: 10154\n",
      "Процент покрытия: 13.53%\n",
      "Выполняем расчет PGS PGS000337\n"
     ]
    },
    {
     "name": "stderr",
     "output_type": "stream",
     "text": [
      "Python(27729) MallocStackLogging: can't turn off malloc stack logging because it was not enabled.\n"
     ]
    },
    {
     "name": "stdout",
     "output_type": "stream",
     "text": [
      "PGS PGS000337 успешно рассчитан\n",
      "\n",
      "==========================================\n",
      "Обработка PGS: PGS004309\n",
      "PGS PGS004309, содержит 3000 SNP\n",
      "Файл содержит позиционную информацию вместо rsID. Создаем синтетиические идентификаторы.\n",
      "Количество SNP в PGS: 3000\n",
      "Количество общих SNP: 1174\n",
      "Процент покрытия: 39.13%\n",
      "Выполняем расчет PGS PGS004309\n"
     ]
    },
    {
     "name": "stderr",
     "output_type": "stream",
     "text": [
      "Python(27730) MallocStackLogging: can't turn off malloc stack logging because it was not enabled.\n"
     ]
    },
    {
     "name": "stdout",
     "output_type": "stream",
     "text": [
      "PGS PGS004309 успешно рассчитан\n",
      "\n",
      "==========================================\n",
      "Обработка PGS: PGS004321\n",
      "PGS PGS004321, содержит 27 SNP\n",
      "Количество SNP в PGS: 27\n",
      "Количество общих SNP: 14\n",
      "Процент покрытия: 51.85%\n",
      "Выполняем расчет PGS PGS004321\n"
     ]
    },
    {
     "name": "stderr",
     "output_type": "stream",
     "text": [
      "Python(27731) MallocStackLogging: can't turn off malloc stack logging because it was not enabled.\n"
     ]
    },
    {
     "name": "stdout",
     "output_type": "stream",
     "text": [
      "PGS PGS004321 успешно рассчитан\n",
      "\n",
      "==========================================\n",
      "Обработка PGS: PGS004888\n",
      "PGS PGS004888, содержит 1110046 SNP\n",
      "Файл содержит позиционную информацию вместо rsID. Создаем синтетиические идентификаторы.\n",
      "Количество SNP в PGS: 1110046\n",
      "Количество общих SNP: 453801\n",
      "Процент покрытия: 40.88%\n",
      "Выполняем расчет PGS PGS004888\n"
     ]
    },
    {
     "name": "stderr",
     "output_type": "stream",
     "text": [
      "Python(27740) MallocStackLogging: can't turn off malloc stack logging because it was not enabled.\n"
     ]
    },
    {
     "name": "stdout",
     "output_type": "stream",
     "text": [
      "PGS PGS004888 успешно рассчитан\n",
      "\n",
      "==========================================\n",
      "Обработка PGS: PGS004308\n",
      "PGS PGS004308, содержит 1500 SNP\n",
      "Файл содержит позиционную информацию вместо rsID. Создаем синтетиические идентификаторы.\n",
      "Количество SNP в PGS: 1500\n",
      "Количество общих SNP: 584\n",
      "Процент покрытия: 38.93%\n",
      "Выполняем расчет PGS PGS004308\n"
     ]
    },
    {
     "name": "stderr",
     "output_type": "stream",
     "text": [
      "Python(27741) MallocStackLogging: can't turn off malloc stack logging because it was not enabled.\n"
     ]
    },
    {
     "name": "stdout",
     "output_type": "stream",
     "text": [
      "PGS PGS004308 успешно рассчитан\n",
      "\n",
      "==========================================\n",
      "Обработка PGS: PGS000018\n",
      "PGS PGS000018, содержит 1745179 SNP\n",
      "Количество SNP в PGS: 1745179\n",
      "Количество общих SNP: 129619\n",
      "Процент покрытия: 7.43%\n",
      "Выполняем расчет PGS PGS000018\n"
     ]
    },
    {
     "name": "stderr",
     "output_type": "stream",
     "text": [
      "Python(27743) MallocStackLogging: can't turn off malloc stack logging because it was not enabled.\n"
     ]
    },
    {
     "name": "stdout",
     "output_type": "stream",
     "text": [
      "PGS PGS000018 успешно рассчитан\n",
      "\n",
      "==========================================\n",
      "Обработка PGS: PGS004444\n",
      "PGS PGS004444, содержит 1059939 SNP\n",
      "Количество SNP в PGS: 1059939\n",
      "Количество общих SNP: 442559\n",
      "Процент покрытия: 41.75%\n",
      "Выполняем расчет PGS PGS004444\n"
     ]
    },
    {
     "name": "stderr",
     "output_type": "stream",
     "text": [
      "Python(27838) MallocStackLogging: can't turn off malloc stack logging because it was not enabled.\n"
     ]
    },
    {
     "name": "stdout",
     "output_type": "stream",
     "text": [
      "PGS PGS004444 успешно рассчитан\n",
      "\n",
      "==========================================\n",
      "Обработка PGS: PGS000019\n",
      "PGS PGS000019, содержит 192 SNP\n",
      "Количество SNP в PGS: 192\n",
      "Количество общих SNP: 26\n",
      "Процент покрытия: 13.54%\n",
      "Выполняем расчет PGS PGS000019\n"
     ]
    },
    {
     "name": "stderr",
     "output_type": "stream",
     "text": [
      "Python(27841) MallocStackLogging: can't turn off malloc stack logging because it was not enabled.\n"
     ]
    },
    {
     "name": "stdout",
     "output_type": "stream",
     "text": [
      "PGS PGS000019 успешно рассчитан\n",
      "\n",
      "==========================================\n",
      "Обработка PGS: PGS000747\n",
      "PGS PGS000747, содержит 375822 SNP\n",
      "Файл содержит позиционную информацию вместо rsID. Создаем синтетиические идентификаторы.\n",
      "Количество SNP в PGS: 375822\n",
      "Количество общих SNP: 31294\n",
      "Процент покрытия: 8.33%\n",
      "Выполняем расчет PGS PGS000747\n"
     ]
    },
    {
     "name": "stderr",
     "output_type": "stream",
     "text": [
      "Python(27848) MallocStackLogging: can't turn off malloc stack logging because it was not enabled.\n"
     ]
    },
    {
     "name": "stdout",
     "output_type": "stream",
     "text": [
      "PGS PGS000747 успешно рассчитан\n",
      "\n",
      "==========================================\n",
      "Обработка PGS: PGS000746\n",
      "PGS PGS000746, содержит 1940 SNP\n",
      "Файл содержит позиционную информацию вместо rsID. Создаем синтетиические идентификаторы.\n",
      "Количество SNP в PGS: 1940\n",
      "Количество общих SNP: 232\n",
      "Процент покрытия: 11.96%\n",
      "Выполняем расчет PGS PGS000746\n"
     ]
    },
    {
     "name": "stderr",
     "output_type": "stream",
     "text": [
      "Python(27849) MallocStackLogging: can't turn off malloc stack logging because it was not enabled.\n"
     ]
    },
    {
     "name": "stdout",
     "output_type": "stream",
     "text": [
      "PGS PGS000746 успешно рассчитан\n",
      "\n",
      "==========================================\n",
      "Обработка PGS: PGS004697\n",
      "PGS PGS004697, содержит 1120251 SNP\n",
      "Количество SNP в PGS: 1120251\n",
      "Количество общих SNP: 456041\n",
      "Процент покрытия: 40.71%\n",
      "Выполняем расчет PGS PGS004697\n"
     ]
    },
    {
     "name": "stderr",
     "output_type": "stream",
     "text": [
      "Python(27865) MallocStackLogging: can't turn off malloc stack logging because it was not enabled.\n"
     ]
    },
    {
     "name": "stdout",
     "output_type": "stream",
     "text": [
      "PGS PGS004697 успешно рассчитан\n",
      "\n",
      "==========================================\n",
      "Обработка PGS: PGS004899\n",
      "PGS PGS004899, содержит 7 SNP\n",
      "Количество SNP в PGS: 7\n",
      "Количество общих SNP: 0\n",
      "Процент покрытия: 0.00%\n",
      "нет общих SNP для PGS004899\n",
      "\n",
      "==========================================\n",
      "Обработка PGS: PGS004696\n",
      "PGS PGS004696, содержит 1289980 SNP\n",
      "Количество SNP в PGS: 1289980\n",
      "Количество общих SNP: 456450\n",
      "Процент покрытия: 35.38%\n",
      "Выполняем расчет PGS PGS004696\n"
     ]
    },
    {
     "name": "stderr",
     "output_type": "stream",
     "text": [
      "Python(27997) MallocStackLogging: can't turn off malloc stack logging because it was not enabled.\n"
     ]
    },
    {
     "name": "stdout",
     "output_type": "stream",
     "text": [
      "PGS PGS004696 успешно рассчитан\n",
      "\n",
      "==========================================\n",
      "Обработка PGS: PGS004443\n",
      "PGS PGS004443, содержит 1059939 SNP\n",
      "Количество SNP в PGS: 1059939\n",
      "Количество общих SNP: 442559\n",
      "Процент покрытия: 41.75%\n",
      "Выполняем расчет PGS PGS004443\n"
     ]
    },
    {
     "name": "stderr",
     "output_type": "stream",
     "text": [
      "Python(28003) MallocStackLogging: can't turn off malloc stack logging because it was not enabled.\n"
     ]
    },
    {
     "name": "stdout",
     "output_type": "stream",
     "text": [
      "PGS PGS004443 успешно рассчитан\n",
      "\n",
      "==========================================\n",
      "Обработка PGS: PGS000962\n",
      "PGS PGS000962, содержит 2168 SNP\n",
      "Количество SNP в PGS: 2168\n",
      "Количество общих SNP: 444\n",
      "Процент покрытия: 20.48%\n",
      "Выполняем расчет PGS PGS000962\n"
     ]
    },
    {
     "name": "stderr",
     "output_type": "stream",
     "text": [
      "Python(28004) MallocStackLogging: can't turn off malloc stack logging because it was not enabled.\n"
     ]
    },
    {
     "name": "stdout",
     "output_type": "stream",
     "text": [
      "PGS PGS000962 успешно рассчитан\n"
     ]
    },
    {
     "name": "stderr",
     "output_type": "stream",
     "text": [
      "/Users/daklo/for_dipl/pgs_calculator.py:139: SettingWithCopyWarning: \n",
      "A value is trying to be set on a copy of a slice from a DataFrame.\n",
      "Try using .loc[row_indexer,col_indexer] = value instead\n",
      "\n",
      "See the caveats in the documentation: https://pandas.pydata.org/pandas-docs/stable/user_guide/indexing.html#returning-a-view-versus-a-copy\n",
      "  combined[pgs_name] = df['SCORE']\n",
      "/Users/daklo/for_dipl/pgs_calculator.py:139: SettingWithCopyWarning: \n",
      "A value is trying to be set on a copy of a slice from a DataFrame.\n",
      "Try using .loc[row_indexer,col_indexer] = value instead\n",
      "\n",
      "See the caveats in the documentation: https://pandas.pydata.org/pandas-docs/stable/user_guide/indexing.html#returning-a-view-versus-a-copy\n",
      "  combined[pgs_name] = df['SCORE']\n",
      "/Users/daklo/for_dipl/pgs_calculator.py:139: SettingWithCopyWarning: \n",
      "A value is trying to be set on a copy of a slice from a DataFrame.\n",
      "Try using .loc[row_indexer,col_indexer] = value instead\n",
      "\n",
      "See the caveats in the documentation: https://pandas.pydata.org/pandas-docs/stable/user_guide/indexing.html#returning-a-view-versus-a-copy\n",
      "  combined[pgs_name] = df['SCORE']\n"
     ]
    },
    {
     "name": "stdout",
     "output_type": "stream",
     "text": [
      "Объеденены PGS для 896 образцов и 73 PGS\n",
      "Сохраняю в ./pgs_results_calculated/train_3_pgs.csv\n",
      "1\n",
      "файл ./test_3.bim, содержит 591998 SNP\n",
      "Найдено 76 PGS\n",
      "\n",
      "==========================================\n",
      "Обработка PGS: PGS003725\n",
      "PGS PGS003725, содержит 1296172 SNP\n",
      "Файл содержит позиционную информацию вместо rsID. Создаем синтетиические идентификаторы.\n",
      "Количество SNP в PGS: 1296172\n",
      "Количество общих SNP: 456468\n",
      "Процент покрытия: 35.22%\n",
      "Выполняем расчет PGS PGS003725\n"
     ]
    },
    {
     "name": "stderr",
     "output_type": "stream",
     "text": [
      "Python(28116) MallocStackLogging: can't turn off malloc stack logging because it was not enabled.\n"
     ]
    },
    {
     "name": "stdout",
     "output_type": "stream",
     "text": [
      "PGS PGS003725 успешно рассчитан\n",
      "\n",
      "==========================================\n",
      "Обработка PGS: PGS000748\n",
      "PGS PGS000748, содержит 3423987 SNP\n",
      "Файл содержит позиционную информацию вместо rsID. Создаем синтетиические идентификаторы.\n",
      "Количество SNP в PGS: 3423987\n",
      "Количество общих SNP: 416579\n",
      "Процент покрытия: 12.17%\n",
      "Выполняем расчет PGS PGS000748\n"
     ]
    },
    {
     "name": "stderr",
     "output_type": "stream",
     "text": [
      "Python(28143) MallocStackLogging: can't turn off malloc stack logging because it was not enabled.\n"
     ]
    },
    {
     "name": "stdout",
     "output_type": "stream",
     "text": [
      "PGS PGS000748 успешно рассчитан\n",
      "\n",
      "==========================================\n",
      "Обработка PGS: PGS000012\n",
      "PGS PGS000012, содержит 49310 SNP\n",
      "Количество SNP в PGS: 49310\n",
      "Количество общих SNP: 15881\n",
      "Процент покрытия: 32.21%\n",
      "Выполняем расчет PGS PGS000012\n"
     ]
    },
    {
     "name": "stderr",
     "output_type": "stream",
     "text": [
      "Python(28146) MallocStackLogging: can't turn off malloc stack logging because it was not enabled.\n"
     ]
    },
    {
     "name": "stdout",
     "output_type": "stream",
     "text": [
      "PGS PGS000012 успешно рассчитан\n",
      "\n",
      "==========================================\n",
      "Обработка PGS: PGS003446\n",
      "PGS PGS003446, содержит 538084 SNP\n",
      "Файл содержит позиционную информацию вместо rsID. Создаем синтетиические идентификаторы.\n",
      "Количество SNP в PGS: 538084\n",
      "Количество общих SNP: 25529\n",
      "Процент покрытия: 4.74%\n",
      "Выполняем расчет PGS PGS003446\n"
     ]
    },
    {
     "name": "stderr",
     "output_type": "stream",
     "text": [
      "Python(28148) MallocStackLogging: can't turn off malloc stack logging because it was not enabled.\n"
     ]
    },
    {
     "name": "stdout",
     "output_type": "stream",
     "text": [
      "PGS PGS003446 успешно рассчитан\n",
      "\n",
      "==========================================\n",
      "Обработка PGS: PGS004513\n",
      "PGS PGS004513, содержит 1059939 SNP\n",
      "Количество SNP в PGS: 1059939\n",
      "Количество общих SNP: 442559\n",
      "Процент покрытия: 41.75%\n",
      "Выполняем расчет PGS PGS004513\n"
     ]
    },
    {
     "name": "stderr",
     "output_type": "stream",
     "text": [
      "Python(28152) MallocStackLogging: can't turn off malloc stack logging because it was not enabled.\n"
     ]
    },
    {
     "name": "stdout",
     "output_type": "stream",
     "text": [
      "PGS PGS004513 успешно рассчитан\n",
      "\n",
      "==========================================\n",
      "Обработка PGS: PGS000013\n",
      "PGS PGS000013, содержит 6630150 SNP\n",
      "Файл содержит позиционную информацию вместо rsID. Создаем синтетиические идентификаторы.\n",
      "Количество SNP в PGS: 6630150\n",
      "Количество общих SNP: 495928\n",
      "Процент покрытия: 7.48%\n",
      "Выполняем расчет PGS PGS000013\n"
     ]
    },
    {
     "name": "stderr",
     "output_type": "stream",
     "text": [
      "Python(28289) MallocStackLogging: can't turn off malloc stack logging because it was not enabled.\n"
     ]
    },
    {
     "name": "stdout",
     "output_type": "stream",
     "text": [
      "PGS PGS000013 успешно рассчитан\n",
      "\n",
      "==========================================\n",
      "Обработка PGS: PGS005143\n",
      "PGS PGS005143, содержит 943274 SNP\n",
      "Количество SNP в PGS: 943274\n",
      "Количество общих SNP: 395304\n",
      "Процент покрытия: 41.91%\n",
      "Выполняем расчет PGS PGS005143\n"
     ]
    },
    {
     "name": "stderr",
     "output_type": "stream",
     "text": [
      "Python(28294) MallocStackLogging: can't turn off malloc stack logging because it was not enabled.\n"
     ]
    },
    {
     "name": "stdout",
     "output_type": "stream",
     "text": [
      "PGS PGS005143 успешно рассчитан\n",
      "\n",
      "==========================================\n",
      "Обработка PGS: PGS003726\n",
      "PGS PGS003726, содержит 1296172 SNP\n",
      "Файл содержит позиционную информацию вместо rsID. Создаем синтетиические идентификаторы.\n",
      "Количество SNP в PGS: 1296172\n",
      "Количество общих SNP: 456468\n",
      "Процент покрытия: 35.22%\n",
      "Выполняем расчет PGS PGS003726\n"
     ]
    },
    {
     "name": "stderr",
     "output_type": "stream",
     "text": [
      "Python(28397) MallocStackLogging: can't turn off malloc stack logging because it was not enabled.\n"
     ]
    },
    {
     "name": "stdout",
     "output_type": "stream",
     "text": [
      "PGS PGS003726 успешно рассчитан\n",
      "\n",
      "==========================================\n",
      "Обработка PGS: PGS002809\n",
      "PGS PGS002809, содержит 205 SNP\n",
      "Количество SNP в PGS: 205\n",
      "Количество общих SNP: 48\n",
      "Процент покрытия: 23.41%\n",
      "Выполняем расчет PGS PGS002809\n"
     ]
    },
    {
     "name": "stderr",
     "output_type": "stream",
     "text": [
      "Python(28398) MallocStackLogging: can't turn off malloc stack logging because it was not enabled.\n"
     ]
    },
    {
     "name": "stdout",
     "output_type": "stream",
     "text": [
      "PGS PGS002809 успешно рассчитан\n",
      "\n",
      "==========================================\n",
      "Обработка PGS: PGS000011\n",
      "PGS PGS000011, содержит 50 SNP\n",
      "Количество SNP в PGS: 50\n",
      "Количество общих SNP: 22\n",
      "Процент покрытия: 44.00%\n",
      "Выполняем расчет PGS PGS000011\n"
     ]
    },
    {
     "name": "stderr",
     "output_type": "stream",
     "text": [
      "Python(28399) MallocStackLogging: can't turn off malloc stack logging because it was not enabled.\n"
     ]
    },
    {
     "name": "stdout",
     "output_type": "stream",
     "text": [
      "PGS PGS000011 успешно рассчитан\n",
      "\n",
      "==========================================\n",
      "Обработка PGS: PGS000818\n",
      "PGS PGS000818, содержит 138 SNP\n",
      "Количество SNP в PGS: 138\n",
      "Количество общих SNP: 42\n",
      "Процент покрытия: 30.43%\n",
      "Выполняем расчет PGS PGS000818\n"
     ]
    },
    {
     "name": "stderr",
     "output_type": "stream",
     "text": [
      "Python(28400) MallocStackLogging: can't turn off malloc stack logging because it was not enabled.\n"
     ]
    },
    {
     "name": "stdout",
     "output_type": "stream",
     "text": [
      "PGS PGS000818 успешно рассчитан\n",
      "\n",
      "==========================================\n",
      "Обработка PGS: PGS004698\n",
      "PGS PGS004698, содержит 542218 SNP\n",
      "Файл содержит позиционную информацию вместо rsID. Создаем синтетиические идентификаторы.\n",
      "Количество SNP в PGS: 542218\n",
      "Количество общих SNP: 26884\n",
      "Процент покрытия: 4.96%\n",
      "Выполняем расчет PGS PGS004698\n"
     ]
    },
    {
     "name": "stderr",
     "output_type": "stream",
     "text": [
      "Python(28406) MallocStackLogging: can't turn off malloc stack logging because it was not enabled.\n"
     ]
    },
    {
     "name": "stdout",
     "output_type": "stream",
     "text": [
      "PGS PGS004698 успешно рассчитан\n",
      "\n",
      "==========================================\n",
      "Обработка PGS: PGS000010\n",
      "PGS PGS000010, содержит 27 SNP\n",
      "Количество SNP в PGS: 27\n",
      "Количество общих SNP: 14\n",
      "Процент покрытия: 51.85%\n",
      "Выполняем расчет PGS PGS000010\n"
     ]
    },
    {
     "name": "stderr",
     "output_type": "stream",
     "text": [
      "Python(28407) MallocStackLogging: can't turn off malloc stack logging because it was not enabled.\n"
     ]
    },
    {
     "name": "stdout",
     "output_type": "stream",
     "text": [
      "PGS PGS000010 успешно рассчитан\n",
      "\n",
      "==========================================\n",
      "Обработка PGS: PGS003727\n",
      "PGS PGS003727, содержит 1125113 SNP\n",
      "Файл содержит позиционную информацию вместо rsID. Создаем синтетиические идентификаторы.\n",
      "Количество SNP в PGS: 1125113\n",
      "Количество общих SNP: 455311\n",
      "Процент покрытия: 40.47%\n",
      "Выполняем расчет PGS PGS003727\n"
     ]
    },
    {
     "name": "stderr",
     "output_type": "stream",
     "text": [
      "Python(28413) MallocStackLogging: can't turn off malloc stack logging because it was not enabled.\n"
     ]
    },
    {
     "name": "stdout",
     "output_type": "stream",
     "text": [
      "PGS PGS003727 успешно рассчитан\n",
      "\n",
      "==========================================\n",
      "Обработка PGS: PGS004921\n",
      "PGS PGS004921, содержит 161 SNP\n",
      "Количество SNP в PGS: 161\n",
      "Количество общих SNP: 30\n",
      "Процент покрытия: 18.63%\n",
      "Выполняем расчет PGS PGS004921\n"
     ]
    },
    {
     "name": "stderr",
     "output_type": "stream",
     "text": [
      "Python(28414) MallocStackLogging: can't turn off malloc stack logging because it was not enabled.\n"
     ]
    },
    {
     "name": "stdout",
     "output_type": "stream",
     "text": [
      "PGS PGS004921 успешно рассчитан\n",
      "\n",
      "==========================================\n",
      "Обработка PGS: PGS004919\n",
      "PGS PGS004919, содержит 50 SNP\n",
      "Количество SNP в PGS: 50\n",
      "Количество общих SNP: 22\n",
      "Процент покрытия: 44.00%\n",
      "Выполняем расчет PGS PGS004919\n"
     ]
    },
    {
     "name": "stderr",
     "output_type": "stream",
     "text": [
      "Python(28415) MallocStackLogging: can't turn off malloc stack logging because it was not enabled.\n"
     ]
    },
    {
     "name": "stdout",
     "output_type": "stream",
     "text": [
      "PGS PGS004919 успешно рассчитан\n",
      "\n",
      "==========================================\n",
      "Обработка PGS: PGS004925\n",
      "PGS PGS004925, содержит 300 SNP\n",
      "Количество SNP в PGS: 300\n",
      "Количество общих SNP: 46\n",
      "Процент покрытия: 15.33%\n",
      "Выполняем расчет PGS PGS004925\n"
     ]
    },
    {
     "name": "stderr",
     "output_type": "stream",
     "text": [
      "Python(28416) MallocStackLogging: can't turn off malloc stack logging because it was not enabled.\n"
     ]
    },
    {
     "name": "stdout",
     "output_type": "stream",
     "text": [
      "PGS PGS004925 успешно рассчитан\n",
      "\n",
      "==========================================\n",
      "Обработка PGS: PGS004514\n",
      "PGS PGS004514, содержит 1059939 SNP\n",
      "Количество SNP в PGS: 1059939\n",
      "Количество общих SNP: 442559\n",
      "Процент покрытия: 41.75%\n",
      "Выполняем расчет PGS PGS004514\n"
     ]
    },
    {
     "name": "stderr",
     "output_type": "stream",
     "text": [
      "Python(28435) MallocStackLogging: can't turn off malloc stack logging because it was not enabled.\n"
     ]
    },
    {
     "name": "stdout",
     "output_type": "stream",
     "text": [
      "PGS PGS004514 успешно рассчитан\n",
      "\n",
      "==========================================\n",
      "Обработка PGS: PGS004306\n",
      "PGS PGS004306, содержит 4000 SNP\n",
      "Файл содержит позиционную информацию вместо rsID. Создаем синтетиические идентификаторы.\n",
      "Количество SNP в PGS: 4000\n",
      "Количество общих SNP: 1576\n",
      "Процент покрытия: 39.40%\n",
      "Выполняем расчет PGS PGS004306\n"
     ]
    },
    {
     "name": "stderr",
     "output_type": "stream",
     "text": [
      "Python(28436) MallocStackLogging: can't turn off malloc stack logging because it was not enabled.\n"
     ]
    },
    {
     "name": "stdout",
     "output_type": "stream",
     "text": [
      "PGS PGS004306 успешно рассчитан\n",
      "\n",
      "==========================================\n",
      "Обработка PGS: PGS004879\n",
      "PGS PGS004879, содержит 610677 SNP\n",
      "Количество SNP в PGS: 610677\n",
      "Количество общих SNP: 259008\n",
      "Процент покрытия: 42.41%\n",
      "Выполняем расчет PGS PGS004879\n"
     ]
    },
    {
     "name": "stderr",
     "output_type": "stream",
     "text": [
      "Python(28438) MallocStackLogging: can't turn off malloc stack logging because it was not enabled.\n"
     ]
    },
    {
     "name": "stdout",
     "output_type": "stream",
     "text": [
      "PGS PGS004879 успешно рассчитан\n",
      "\n",
      "==========================================\n",
      "Обработка PGS: PGS004307\n",
      "PGS PGS004307, содержит 4000 SNP\n",
      "Файл содержит позиционную информацию вместо rsID. Создаем синтетиические идентификаторы.\n",
      "Количество SNP в PGS: 4000\n",
      "Количество общих SNP: 1596\n",
      "Процент покрытия: 39.90%\n",
      "Выполняем расчет PGS PGS004307\n"
     ]
    },
    {
     "name": "stderr",
     "output_type": "stream",
     "text": [
      "Python(28439) MallocStackLogging: can't turn off malloc stack logging because it was not enabled.\n"
     ]
    },
    {
     "name": "stdout",
     "output_type": "stream",
     "text": [
      "PGS PGS004307 успешно рассчитан\n",
      "\n",
      "==========================================\n",
      "Обработка PGS: PGS002776\n",
      "PGS PGS002776, содержит 390782 SNP\n",
      "Количество SNP в PGS: 390782\n",
      "Количество общих SNP: 44688\n",
      "Процент покрытия: 11.44%\n",
      "Выполняем расчет PGS PGS002776\n"
     ]
    },
    {
     "name": "stderr",
     "output_type": "stream",
     "text": [
      "Python(28441) MallocStackLogging: can't turn off malloc stack logging because it was not enabled.\n"
     ]
    },
    {
     "name": "stdout",
     "output_type": "stream",
     "text": [
      "PGS PGS002776 успешно рассчитан\n",
      "\n",
      "==========================================\n",
      "Обработка PGS: PGS000798\n",
      "PGS PGS000798, содержит 157 SNP\n",
      "Количество SNP в PGS: 157\n",
      "Количество общих SNP: 29\n",
      "Процент покрытия: 18.47%\n",
      "Выполняем расчет PGS PGS000798\n"
     ]
    },
    {
     "name": "stderr",
     "output_type": "stream",
     "text": [
      "Python(28442) MallocStackLogging: can't turn off malloc stack logging because it was not enabled.\n"
     ]
    },
    {
     "name": "stdout",
     "output_type": "stream",
     "text": [
      "PGS PGS000798 успешно рассчитан\n",
      "\n",
      "==========================================\n",
      "Обработка PGS: PGS004305\n",
      "PGS PGS004305, содержит 3000 SNP\n",
      "Файл содержит позиционную информацию вместо rsID. Создаем синтетиические идентификаторы.\n",
      "Количество SNP в PGS: 3000\n",
      "Количество общих SNP: 1127\n",
      "Процент покрытия: 37.57%\n",
      "Выполняем расчет PGS PGS004305\n"
     ]
    },
    {
     "name": "stderr",
     "output_type": "stream",
     "text": [
      "Python(28443) MallocStackLogging: can't turn off malloc stack logging because it was not enabled.\n"
     ]
    },
    {
     "name": "stdout",
     "output_type": "stream",
     "text": [
      "PGS PGS004305 успешно рассчитан\n",
      "\n",
      "==========================================\n",
      "Обработка PGS: PGS000349\n",
      "PGS PGS000349, содержит 70 SNP\n",
      "Количество SNP в PGS: 70\n",
      "Количество общих SNP: 24\n",
      "Процент покрытия: 34.29%\n",
      "Выполняем расчет PGS PGS000349\n"
     ]
    },
    {
     "name": "stderr",
     "output_type": "stream",
     "text": [
      "Python(28444) MallocStackLogging: can't turn off malloc stack logging because it was not enabled.\n"
     ]
    },
    {
     "name": "stdout",
     "output_type": "stream",
     "text": [
      "PGS PGS000349 успешно рассчитан\n",
      "\n",
      "==========================================\n",
      "Обработка PGS: PGS003866\n",
      "PGS PGS003866, содержит 10440 SNP\n",
      "Количество SNP в PGS: 10440\n",
      "Количество общих SNP: 4335\n",
      "Процент покрытия: 41.52%\n",
      "Выполняем расчет PGS PGS003866\n"
     ]
    },
    {
     "name": "stderr",
     "output_type": "stream",
     "text": [
      "Python(28445) MallocStackLogging: can't turn off malloc stack logging because it was not enabled.\n"
     ]
    },
    {
     "name": "stdout",
     "output_type": "stream",
     "text": [
      "PGS PGS003866 успешно рассчитан\n",
      "\n",
      "==========================================\n",
      "Обработка PGS: PGS002775\n",
      "PGS PGS002775, содержит 1059 SNP\n",
      "Количество SNP в PGS: 1059\n",
      "Количество общих SNP: 180\n",
      "Процент покрытия: 17.00%\n",
      "Выполняем расчет PGS PGS002775\n"
     ]
    },
    {
     "name": "stderr",
     "output_type": "stream",
     "text": [
      "Python(28448) MallocStackLogging: can't turn off malloc stack logging because it was not enabled.\n"
     ]
    },
    {
     "name": "stdout",
     "output_type": "stream",
     "text": [
      "PGS PGS002775 успешно рассчитан\n",
      "\n",
      "==========================================\n",
      "Обработка PGS: PGS005152\n",
      "PGS PGS005152, содержит 943274 SNP\n",
      "Количество SNP в PGS: 943274\n",
      "Количество общих SNP: 395304\n",
      "Процент покрытия: 41.91%\n",
      "Выполняем расчет PGS PGS005152\n"
     ]
    },
    {
     "name": "stderr",
     "output_type": "stream",
     "text": [
      "Python(28539) MallocStackLogging: can't turn off malloc stack logging because it was not enabled.\n"
     ]
    },
    {
     "name": "stdout",
     "output_type": "stream",
     "text": [
      "PGS PGS005152 успешно рассчитан\n",
      "\n",
      "==========================================\n",
      "Обработка PGS: PGS000200\n",
      "PGS PGS000200, содержит 28 SNP\n",
      "Количество SNP в PGS: 28\n",
      "Количество общих SNP: 15\n",
      "Процент покрытия: 53.57%\n",
      "Выполняем расчет PGS PGS000200\n"
     ]
    },
    {
     "name": "stderr",
     "output_type": "stream",
     "text": [
      "Python(28540) MallocStackLogging: can't turn off malloc stack logging because it was not enabled.\n"
     ]
    },
    {
     "name": "stdout",
     "output_type": "stream",
     "text": [
      "PGS PGS000200 успешно рассчитан\n",
      "\n",
      "==========================================\n",
      "Обработка PGS: PGS000059\n",
      "PGS PGS000059, содержит 46 SNP\n",
      "Количество SNP в PGS: 46\n",
      "Количество общих SNP: 18\n",
      "Процент покрытия: 39.13%\n",
      "Выполняем расчет PGS PGS000059\n"
     ]
    },
    {
     "name": "stderr",
     "output_type": "stream",
     "text": [
      "Python(28541) MallocStackLogging: can't turn off malloc stack logging because it was not enabled.\n"
     ]
    },
    {
     "name": "stdout",
     "output_type": "stream",
     "text": [
      "PGS PGS000059 успешно рассчитан\n",
      "\n",
      "==========================================\n",
      "Обработка PGS: PGS003356\n",
      "PGS PGS003356, содержит 2324683 SNP\n",
      "Файл содержит позиционную информацию вместо rsID. Создаем синтетиические идентификаторы.\n",
      "Количество SNP в PGS: 2324683\n",
      "Количество общих SNP: 497605\n",
      "Процент покрытия: 21.41%\n",
      "Выполняем расчет PGS PGS003356\n"
     ]
    },
    {
     "name": "stderr",
     "output_type": "stream",
     "text": [
      "Python(28566) MallocStackLogging: can't turn off malloc stack logging because it was not enabled.\n"
     ]
    },
    {
     "name": "stdout",
     "output_type": "stream",
     "text": [
      "PGS PGS003356 успешно рассчитан\n",
      "\n",
      "==========================================\n",
      "Обработка PGS: PGS002048\n",
      "PGS PGS002048, содержит 762124 SNP\n",
      "Количество SNP в PGS: 762124\n",
      "Количество общих SNP: 322896\n",
      "Процент покрытия: 42.37%\n",
      "Выполняем расчет PGS PGS002048\n"
     ]
    },
    {
     "name": "stderr",
     "output_type": "stream",
     "text": [
      "Python(28582) MallocStackLogging: can't turn off malloc stack logging because it was not enabled.\n"
     ]
    },
    {
     "name": "stdout",
     "output_type": "stream",
     "text": [
      "PGS PGS002048 успешно рассчитан\n",
      "\n",
      "==========================================\n",
      "Обработка PGS: PGS001780\n",
      "PGS PGS001780, содержит 1090048 SNP\n",
      "Количество SNP в PGS: 1090048\n",
      "Количество общих SNP: 450206\n",
      "Процент покрытия: 41.30%\n",
      "Выполняем расчет PGS PGS001780\n"
     ]
    },
    {
     "name": "stderr",
     "output_type": "stream",
     "text": [
      "Python(28588) MallocStackLogging: can't turn off malloc stack logging because it was not enabled.\n"
     ]
    },
    {
     "name": "stdout",
     "output_type": "stream",
     "text": [
      "PGS PGS001780 успешно рассчитан\n",
      "\n",
      "==========================================\n",
      "Обработка PGS: PGS002262\n",
      "PGS PGS002262, содержит 540 SNP\n",
      "Количество SNP в PGS: 540\n",
      "Количество общих SNP: 136\n",
      "Процент покрытия: 25.19%\n",
      "Выполняем расчет PGS PGS002262\n"
     ]
    },
    {
     "name": "stderr",
     "output_type": "stream",
     "text": [
      "Python(28589) MallocStackLogging: can't turn off malloc stack logging because it was not enabled.\n"
     ]
    },
    {
     "name": "stdout",
     "output_type": "stream",
     "text": [
      "PGS PGS002262 успешно рассчитан\n",
      "\n",
      "==========================================\n",
      "Обработка PGS: PGS000058\n",
      "PGS PGS000058, содержит 204 SNP\n",
      "Количество SNP в PGS: 204\n",
      "Количество общих SNP: 41\n",
      "Процент покрытия: 20.10%\n",
      "Выполняем расчет PGS PGS000058\n"
     ]
    },
    {
     "name": "stderr",
     "output_type": "stream",
     "text": [
      "Python(28590) MallocStackLogging: can't turn off malloc stack logging because it was not enabled.\n"
     ]
    },
    {
     "name": "stdout",
     "output_type": "stream",
     "text": [
      "PGS PGS000058 успешно рассчитан\n",
      "\n",
      "==========================================\n",
      "Обработка PGS: PGS001839\n",
      "PGS PGS001839, содержит 25425 SNP\n",
      "Количество SNP в PGS: 25425\n",
      "Количество общих SNP: 11260\n",
      "Процент покрытия: 44.29%\n",
      "Выполняем расчет PGS PGS001839\n"
     ]
    },
    {
     "name": "stderr",
     "output_type": "stream",
     "text": [
      "Python(28591) MallocStackLogging: can't turn off malloc stack logging because it was not enabled.\n"
     ]
    },
    {
     "name": "stdout",
     "output_type": "stream",
     "text": [
      "PGS PGS001839 успешно рассчитан\n",
      "\n",
      "==========================================\n",
      "Обработка PGS: PGS004941\n",
      "PGS PGS004941, содержит 3711629 SNP\n",
      "Файл содержит позиционную информацию вместо rsID. Создаем синтетиические идентификаторы.\n",
      "Количество SNP в PGS: 3711629\n",
      "Количество общих SNP: 429616\n",
      "Процент покрытия: 11.57%\n",
      "Выполняем расчет PGS PGS004941\n"
     ]
    },
    {
     "name": "stderr",
     "output_type": "stream",
     "text": [
      "Python(28696) MallocStackLogging: can't turn off malloc stack logging because it was not enabled.\n"
     ]
    },
    {
     "name": "stdout",
     "output_type": "stream",
     "text": [
      "PGS PGS004941 успешно рассчитан\n",
      "\n",
      "==========================================\n",
      "Обработка PGS: PGS004200\n",
      "PGS PGS004200, содержит 8361 SNP\n",
      "Количество SNP в PGS: 8361\n",
      "Количество общих SNP: 899\n",
      "Процент покрытия: 10.75%\n",
      "Выполняем расчет PGS PGS004200\n"
     ]
    },
    {
     "name": "stderr",
     "output_type": "stream",
     "text": [
      "Python(28697) MallocStackLogging: can't turn off malloc stack logging because it was not enabled.\n"
     ]
    },
    {
     "name": "stdout",
     "output_type": "stream",
     "text": [
      "PGS PGS004200 успешно рассчитан\n",
      "\n",
      "==========================================\n",
      "Обработка PGS: PGS003355\n",
      "PGS PGS003355, содержит 1532758 SNP\n",
      "Файл содержит позиционную информацию вместо rsID. Создаем синтетиические идентификаторы.\n",
      "Количество SNP в PGS: 1532758\n",
      "Количество общих SNP: 116470\n",
      "Процент покрытия: 7.60%\n",
      "Выполняем расчет PGS PGS003355\n"
     ]
    },
    {
     "name": "stderr",
     "output_type": "stream",
     "text": [
      "Python(28701) MallocStackLogging: can't turn off malloc stack logging because it was not enabled.\n"
     ]
    },
    {
     "name": "stdout",
     "output_type": "stream",
     "text": [
      "PGS PGS003355 успешно рассчитан\n",
      "\n",
      "==========================================\n",
      "Обработка PGS: PGS001355\n",
      "PGS PGS001355, содержит 2994055 SNP\n",
      "Количество SNP в PGS: 2994055\n",
      "Количество общих SNP: 317044\n",
      "Процент покрытия: 10.59%\n",
      "Выполняем расчет PGS PGS001355\n"
     ]
    },
    {
     "name": "stderr",
     "output_type": "stream",
     "text": [
      "Python(28707) MallocStackLogging: can't turn off malloc stack logging because it was not enabled.\n"
     ]
    },
    {
     "name": "stdout",
     "output_type": "stream",
     "text": [
      "PGS PGS001355 успешно рассчитан\n",
      "\n",
      "==========================================\n",
      "Обработка PGS: PGS004198\n",
      "PGS PGS004198, содержит 5723 SNP\n",
      "Количество SNP в PGS: 5723\n",
      "Количество общих SNP: 670\n",
      "Процент покрытия: 11.71%\n",
      "Выполняем расчет PGS PGS004198\n"
     ]
    },
    {
     "name": "stderr",
     "output_type": "stream",
     "text": [
      "Python(28708) MallocStackLogging: can't turn off malloc stack logging because it was not enabled.\n"
     ]
    },
    {
     "name": "stdout",
     "output_type": "stream",
     "text": [
      "PGS PGS004198 успешно рассчитан\n",
      "\n",
      "==========================================\n",
      "Обработка PGS: PGS000329\n",
      "PGS PGS000329, содержит 6423165 SNP\n",
      "Количество SNP в PGS: 6423165\n",
      "Количество общих SNP: 490575\n",
      "Процент покрытия: 7.64%\n",
      "Выполняем расчет PGS PGS000329\n"
     ]
    },
    {
     "name": "stderr",
     "output_type": "stream",
     "text": [
      "Python(28727) MallocStackLogging: can't turn off malloc stack logging because it was not enabled.\n"
     ]
    },
    {
     "name": "stdout",
     "output_type": "stream",
     "text": [
      "PGS PGS000329 успешно рассчитан\n",
      "\n",
      "==========================================\n",
      "Обработка PGS: PGS004199\n",
      "PGS PGS004199, содержит 6085 SNP\n",
      "Количество SNP в PGS: 6085\n",
      "Количество общих SNP: 682\n",
      "Процент покрытия: 11.21%\n",
      "Выполняем расчет PGS PGS004199\n"
     ]
    },
    {
     "name": "stderr",
     "output_type": "stream",
     "text": [
      "Python(28728) MallocStackLogging: can't turn off malloc stack logging because it was not enabled.\n"
     ]
    },
    {
     "name": "stdout",
     "output_type": "stream",
     "text": [
      "PGS PGS004199 успешно рассчитан\n",
      "\n",
      "==========================================\n",
      "Обработка PGS: PGS000116\n",
      "PGS PGS000116, содержит 40079 SNP\n",
      "Количество SNP в PGS: 40079\n",
      "Количество общих SNP: 3662\n",
      "Процент покрытия: 9.14%\n",
      "Выполняем расчет PGS PGS000116\n"
     ]
    },
    {
     "name": "stderr",
     "output_type": "stream",
     "text": [
      "Python(28730) MallocStackLogging: can't turn off malloc stack logging because it was not enabled.\n"
     ]
    },
    {
     "name": "stdout",
     "output_type": "stream",
     "text": [
      "PGS PGS000116 успешно рассчитан\n",
      "\n",
      "==========================================\n",
      "Обработка PGS: PGS005091\n",
      "PGS PGS005091, содержит 1428772 SNP\n",
      "Файл содержит позиционную информацию вместо rsID. Создаем синтетиические идентификаторы.\n",
      "Количество SNP в PGS: 1428772\n",
      "Количество общих SNP: 4354\n",
      "Процент покрытия: 0.30%\n",
      "Выполняем расчет PGS PGS005091\n"
     ]
    },
    {
     "name": "stderr",
     "output_type": "stream",
     "text": [
      "Python(28744) MallocStackLogging: can't turn off malloc stack logging because it was not enabled.\n"
     ]
    },
    {
     "name": "stdout",
     "output_type": "stream",
     "text": [
      "PGS PGS005091 успешно рассчитан\n",
      "\n",
      "==========================================\n",
      "Обработка PGS: PGS005092\n",
      "PGS PGS005092, содержит 1279502 SNP\n",
      "Файл содержит позиционную информацию вместо rsID. Создаем синтетиические идентификаторы.\n",
      "Количество SNP в PGS: 1279502\n",
      "Количество общих SNP: 4540\n",
      "Процент покрытия: 0.35%\n",
      "Выполняем расчет PGS PGS005092\n"
     ]
    },
    {
     "name": "stderr",
     "output_type": "stream",
     "text": [
      "Python(28824) MallocStackLogging: can't turn off malloc stack logging because it was not enabled.\n"
     ]
    },
    {
     "name": "stdout",
     "output_type": "stream",
     "text": [
      "PGS PGS005092 успешно рассчитан\n",
      "\n",
      "==========================================\n",
      "Обработка PGS: PGS004746\n",
      "PGS PGS004746, содержит 6483064 SNP\n",
      "Файл содержит позиционную информацию вместо rsID. Создаем синтетиические идентификаторы.\n",
      "Количество SNP в PGS: 6483064\n",
      "Количество общих SNP: 6132\n",
      "Процент покрытия: 0.09%\n",
      "Выполняем расчет PGS PGS004746\n"
     ]
    },
    {
     "name": "stderr",
     "output_type": "stream",
     "text": [
      "Python(28858) MallocStackLogging: can't turn off malloc stack logging because it was not enabled.\n"
     ]
    },
    {
     "name": "stdout",
     "output_type": "stream",
     "text": [
      "PGS PGS004746 успешно рассчитан\n",
      "\n",
      "==========================================\n",
      "Обработка PGS: PGS004197\n",
      "PGS PGS004197, содержит 11490 SNP\n",
      "Количество SNP в PGS: 11490\n",
      "Количество общих SNP: 1193\n",
      "Процент покрытия: 10.38%\n",
      "Выполняем расчет PGS PGS004197\n"
     ]
    },
    {
     "name": "stderr",
     "output_type": "stream",
     "text": [
      "Python(28862) MallocStackLogging: can't turn off malloc stack logging because it was not enabled.\n"
     ]
    },
    {
     "name": "stdout",
     "output_type": "stream",
     "text": [
      "PGS PGS004197 успешно рассчитан\n",
      "\n",
      "==========================================\n",
      "Обработка PGS: PGS004196\n",
      "PGS PGS004196, содержит 3892 SNP\n",
      "Количество SNP в PGS: 3892\n",
      "Количество общих SNP: 464\n",
      "Процент покрытия: 11.92%\n",
      "Выполняем расчет PGS PGS004196\n"
     ]
    },
    {
     "name": "stderr",
     "output_type": "stream",
     "text": [
      "Python(28863) MallocStackLogging: can't turn off malloc stack logging because it was not enabled.\n"
     ]
    },
    {
     "name": "stdout",
     "output_type": "stream",
     "text": [
      "PGS PGS004196 успешно рассчитан\n",
      "\n",
      "==========================================\n",
      "Обработка PGS: PGS003438\n",
      "PGS PGS003438, содержит 241 SNP\n",
      "Количество SNP в PGS: 241\n",
      "Количество общих SNP: 29\n",
      "Процент покрытия: 12.03%\n",
      "Выполняем расчет PGS PGS003438\n"
     ]
    },
    {
     "name": "stderr",
     "output_type": "stream",
     "text": [
      "Python(28864) MallocStackLogging: can't turn off malloc stack logging because it was not enabled.\n"
     ]
    },
    {
     "name": "stdout",
     "output_type": "stream",
     "text": [
      "PGS PGS003438 успешно рассчитан\n",
      "\n",
      "==========================================\n",
      "Обработка PGS: PGS004237\n",
      "PGS PGS004237, содержит 1146511 SNP\n",
      "Количество SNP в PGS: 1146511\n",
      "Количество общих SNP: 474392\n",
      "Процент покрытия: 41.38%\n",
      "Выполняем расчет PGS PGS004237\n"
     ]
    },
    {
     "name": "stderr",
     "output_type": "stream",
     "text": [
      "Python(28893) MallocStackLogging: can't turn off malloc stack logging because it was not enabled.\n"
     ]
    },
    {
     "name": "stdout",
     "output_type": "stream",
     "text": [
      "PGS PGS004237 успешно рассчитан\n",
      "\n",
      "==========================================\n",
      "Обработка PGS: PGS004745\n",
      "PGS PGS004745, содержит 4769577 SNP\n",
      "Файл содержит позиционную информацию вместо rsID. Создаем синтетиические идентификаторы.\n",
      "Количество SNP в PGS: 4769577\n",
      "Количество общих SNP: 4560\n",
      "Процент покрытия: 0.10%\n",
      "Выполняем расчет PGS PGS004745\n"
     ]
    },
    {
     "name": "stderr",
     "output_type": "stream",
     "text": [
      "Python(28940) MallocStackLogging: can't turn off malloc stack logging because it was not enabled.\n"
     ]
    },
    {
     "name": "stdout",
     "output_type": "stream",
     "text": [
      "Ошибк при расчете PGS PGS004745 Error: Duplicate variant 'rs7862687' in --score file.\n",
      "\n",
      "\n",
      "==========================================\n",
      "Обработка PGS: PGS000899\n",
      "PGS PGS000899, содержит 176 SNP\n",
      "Количество SNP в PGS: 176\n",
      "Количество общих SNP: 37\n",
      "Процент покрытия: 21.02%\n",
      "Выполняем расчет PGS PGS000899\n"
     ]
    },
    {
     "name": "stderr",
     "output_type": "stream",
     "text": [
      "Python(28977) MallocStackLogging: can't turn off malloc stack logging because it was not enabled.\n"
     ]
    },
    {
     "name": "stdout",
     "output_type": "stream",
     "text": [
      "PGS PGS000899 успешно рассчитан\n",
      "\n",
      "==========================================\n",
      "Обработка PGS: PGS004744\n",
      "PGS PGS004744, содержит 7082943 SNP\n",
      "Файл содержит позиционную информацию вместо rsID. Создаем синтетиические идентификаторы.\n",
      "Количество SNP в PGS: 7082943\n",
      "Количество общих SNP: 6891\n",
      "Процент покрытия: 0.10%\n",
      "Выполняем расчет PGS PGS004744\n"
     ]
    },
    {
     "name": "stderr",
     "output_type": "stream",
     "text": [
      "Python(29016) MallocStackLogging: can't turn off malloc stack logging because it was not enabled.\n"
     ]
    },
    {
     "name": "stdout",
     "output_type": "stream",
     "text": [
      "PGS PGS004744 успешно рассчитан\n",
      "\n",
      "==========================================\n",
      "Обработка PGS: PGS004595\n",
      "PGS PGS004595, содержит 164 SNP\n",
      "Количество SNP в PGS: 164\n",
      "Количество общих SNP: 40\n",
      "Процент покрытия: 24.39%\n",
      "Выполняем расчет PGS PGS004595\n"
     ]
    },
    {
     "name": "stderr",
     "output_type": "stream",
     "text": [
      "Python(29017) MallocStackLogging: can't turn off malloc stack logging because it was not enabled.\n"
     ]
    },
    {
     "name": "stdout",
     "output_type": "stream",
     "text": [
      "PGS PGS004595 успешно рассчитан\n",
      "\n",
      "==========================================\n",
      "Обработка PGS: PGS005112\n",
      "PGS PGS005112, содержит 1106628 SNP\n",
      "Количество SNP в PGS: 1106628\n",
      "Количество общих SNP: 454934\n",
      "Процент покрытия: 41.11%\n",
      "Выполняем расчет PGS PGS005112\n"
     ]
    },
    {
     "name": "stderr",
     "output_type": "stream",
     "text": [
      "Python(29037) MallocStackLogging: can't turn off malloc stack logging because it was not enabled.\n"
     ]
    },
    {
     "name": "stdout",
     "output_type": "stream",
     "text": [
      "PGS PGS005112 успешно рассчитан\n",
      "\n",
      "==========================================\n",
      "Обработка PGS: PGS002244\n",
      "PGS PGS002244, содержит 6576338 SNP\n",
      "Количество SNP в PGS: 6576338\n",
      "Количество общих SNP: 497179\n",
      "Процент покрытия: 7.56%\n",
      "Выполняем расчет PGS PGS002244\n"
     ]
    },
    {
     "name": "stderr",
     "output_type": "stream",
     "text": [
      "Python(29046) MallocStackLogging: can't turn off malloc stack logging because it was not enabled.\n"
     ]
    },
    {
     "name": "stdout",
     "output_type": "stream",
     "text": [
      "PGS PGS002244 успешно рассчитан\n",
      "\n",
      "==========================================\n",
      "Обработка PGS: PGS000057\n",
      "PGS PGS000057, содержит 57 SNP\n",
      "Количество SNP в PGS: 57\n",
      "Количество общих SNP: 19\n",
      "Процент покрытия: 33.33%\n",
      "Выполняем расчет PGS PGS000057\n"
     ]
    },
    {
     "name": "stderr",
     "output_type": "stream",
     "text": [
      "Python(29047) MallocStackLogging: can't turn off malloc stack logging because it was not enabled.\n"
     ]
    },
    {
     "name": "stdout",
     "output_type": "stream",
     "text": [
      "PGS PGS000057 успешно рассчитан\n",
      "\n",
      "==========================================\n",
      "Обработка PGS: PGS000296\n",
      "PGS PGS000296, содержит 6630150 SNP\n",
      "Файл содержит позиционную информацию вместо rsID. Создаем синтетиические идентификаторы.\n",
      "Количество SNP в PGS: 6630150\n",
      "Количество общих SNP: 495928\n",
      "Процент покрытия: 7.48%\n",
      "Выполняем расчет PGS PGS000296\n"
     ]
    },
    {
     "name": "stderr",
     "output_type": "stream",
     "text": [
      "Python(29161) MallocStackLogging: can't turn off malloc stack logging because it was not enabled.\n"
     ]
    },
    {
     "name": "stdout",
     "output_type": "stream",
     "text": [
      "PGS PGS000296 успешно рассчитан\n",
      "\n",
      "==========================================\n",
      "Обработка PGS: PGS004743\n",
      "PGS PGS004743, содержит 3606321 SNP\n",
      "Файл содержит позиционную информацию вместо rsID. Создаем синтетиические идентификаторы.\n",
      "Количество SNP в PGS: 3606321\n",
      "Количество общих SNP: 3853\n",
      "Процент покрытия: 0.11%\n",
      "Выполняем расчет PGS PGS004743\n"
     ]
    },
    {
     "name": "stderr",
     "output_type": "stream",
     "text": [
      "Python(29180) MallocStackLogging: can't turn off malloc stack logging because it was not enabled.\n"
     ]
    },
    {
     "name": "stdout",
     "output_type": "stream",
     "text": [
      "Ошибк при расчете PGS PGS004743 Error: Duplicate variant 'rs7862687' in --score file.\n",
      "\n",
      "\n",
      "==========================================\n",
      "Обработка PGS: PGS004596\n",
      "PGS PGS004596, содержит 64 SNP\n",
      "Количество SNP в PGS: 64\n",
      "Количество общих SNP: 24\n",
      "Процент покрытия: 37.50%\n",
      "Выполняем расчет PGS PGS004596\n"
     ]
    },
    {
     "name": "stderr",
     "output_type": "stream",
     "text": [
      "Python(29181) MallocStackLogging: can't turn off malloc stack logging because it was not enabled.\n"
     ]
    },
    {
     "name": "stdout",
     "output_type": "stream",
     "text": [
      "PGS PGS004596 успешно рассчитан\n",
      "\n",
      "==========================================\n",
      "Обработка PGS: PGS000337\n",
      "PGS PGS000337, содержит 75028 SNP\n",
      "Файл содержит позиционную информацию вместо rsID. Создаем синтетиические идентификаторы.\n",
      "Количество SNP в PGS: 75028\n",
      "Количество общих SNP: 10154\n",
      "Процент покрытия: 13.53%\n",
      "Выполняем расчет PGS PGS000337\n"
     ]
    },
    {
     "name": "stderr",
     "output_type": "stream",
     "text": [
      "Python(29183) MallocStackLogging: can't turn off malloc stack logging because it was not enabled.\n"
     ]
    },
    {
     "name": "stdout",
     "output_type": "stream",
     "text": [
      "PGS PGS000337 успешно рассчитан\n",
      "\n",
      "==========================================\n",
      "Обработка PGS: PGS004309\n",
      "PGS PGS004309, содержит 3000 SNP\n",
      "Файл содержит позиционную информацию вместо rsID. Создаем синтетиические идентификаторы.\n",
      "Количество SNP в PGS: 3000\n",
      "Количество общих SNP: 1174\n",
      "Процент покрытия: 39.13%\n",
      "Выполняем расчет PGS PGS004309\n"
     ]
    },
    {
     "name": "stderr",
     "output_type": "stream",
     "text": [
      "Python(29184) MallocStackLogging: can't turn off malloc stack logging because it was not enabled.\n"
     ]
    },
    {
     "name": "stdout",
     "output_type": "stream",
     "text": [
      "PGS PGS004309 успешно рассчитан\n",
      "\n",
      "==========================================\n",
      "Обработка PGS: PGS004321\n",
      "PGS PGS004321, содержит 27 SNP\n",
      "Количество SNP в PGS: 27\n",
      "Количество общих SNP: 14\n",
      "Процент покрытия: 51.85%\n",
      "Выполняем расчет PGS PGS004321\n"
     ]
    },
    {
     "name": "stderr",
     "output_type": "stream",
     "text": [
      "Python(29186) MallocStackLogging: can't turn off malloc stack logging because it was not enabled.\n"
     ]
    },
    {
     "name": "stdout",
     "output_type": "stream",
     "text": [
      "PGS PGS004321 успешно рассчитан\n",
      "\n",
      "==========================================\n",
      "Обработка PGS: PGS004888\n",
      "PGS PGS004888, содержит 1110046 SNP\n",
      "Файл содержит позиционную информацию вместо rsID. Создаем синтетиические идентификаторы.\n",
      "Количество SNP в PGS: 1110046\n",
      "Количество общих SNP: 453801\n",
      "Процент покрытия: 40.88%\n",
      "Выполняем расчет PGS PGS004888\n"
     ]
    },
    {
     "name": "stderr",
     "output_type": "stream",
     "text": [
      "Python(29395) MallocStackLogging: can't turn off malloc stack logging because it was not enabled.\n"
     ]
    },
    {
     "name": "stdout",
     "output_type": "stream",
     "text": [
      "PGS PGS004888 успешно рассчитан\n",
      "\n",
      "==========================================\n",
      "Обработка PGS: PGS004308\n",
      "PGS PGS004308, содержит 1500 SNP\n",
      "Файл содержит позиционную информацию вместо rsID. Создаем синтетиические идентификаторы.\n",
      "Количество SNP в PGS: 1500\n",
      "Количество общих SNP: 584\n",
      "Процент покрытия: 38.93%\n",
      "Выполняем расчет PGS PGS004308\n"
     ]
    },
    {
     "name": "stderr",
     "output_type": "stream",
     "text": [
      "Python(29408) MallocStackLogging: can't turn off malloc stack logging because it was not enabled.\n"
     ]
    },
    {
     "name": "stdout",
     "output_type": "stream",
     "text": [
      "PGS PGS004308 успешно рассчитан\n",
      "\n",
      "==========================================\n",
      "Обработка PGS: PGS000018\n",
      "PGS PGS000018, содержит 1745179 SNP\n",
      "Количество SNP в PGS: 1745179\n",
      "Количество общих SNP: 129619\n",
      "Процент покрытия: 7.43%\n",
      "Выполняем расчет PGS PGS000018\n"
     ]
    },
    {
     "name": "stderr",
     "output_type": "stream",
     "text": [
      "Python(29411) MallocStackLogging: can't turn off malloc stack logging because it was not enabled.\n"
     ]
    },
    {
     "name": "stdout",
     "output_type": "stream",
     "text": [
      "PGS PGS000018 успешно рассчитан\n",
      "\n",
      "==========================================\n",
      "Обработка PGS: PGS004444\n",
      "PGS PGS004444, содержит 1059939 SNP\n",
      "Количество SNP в PGS: 1059939\n",
      "Количество общих SNP: 442559\n",
      "Процент покрытия: 41.75%\n",
      "Выполняем расчет PGS PGS004444\n"
     ]
    },
    {
     "name": "stderr",
     "output_type": "stream",
     "text": [
      "Python(29417) MallocStackLogging: can't turn off malloc stack logging because it was not enabled.\n"
     ]
    },
    {
     "name": "stdout",
     "output_type": "stream",
     "text": [
      "PGS PGS004444 успешно рассчитан\n",
      "\n",
      "==========================================\n",
      "Обработка PGS: PGS000019\n",
      "PGS PGS000019, содержит 192 SNP\n",
      "Количество SNP в PGS: 192\n",
      "Количество общих SNP: 26\n",
      "Процент покрытия: 13.54%\n",
      "Выполняем расчет PGS PGS000019\n"
     ]
    },
    {
     "name": "stderr",
     "output_type": "stream",
     "text": [
      "Python(29418) MallocStackLogging: can't turn off malloc stack logging because it was not enabled.\n"
     ]
    },
    {
     "name": "stdout",
     "output_type": "stream",
     "text": [
      "PGS PGS000019 успешно рассчитан\n",
      "\n",
      "==========================================\n",
      "Обработка PGS: PGS000747\n",
      "PGS PGS000747, содержит 375822 SNP\n",
      "Файл содержит позиционную информацию вместо rsID. Создаем синтетиические идентификаторы.\n",
      "Количество SNP в PGS: 375822\n",
      "Количество общих SNP: 31294\n",
      "Процент покрытия: 8.33%\n",
      "Выполняем расчет PGS PGS000747\n"
     ]
    },
    {
     "name": "stderr",
     "output_type": "stream",
     "text": [
      "Python(29422) MallocStackLogging: can't turn off malloc stack logging because it was not enabled.\n"
     ]
    },
    {
     "name": "stdout",
     "output_type": "stream",
     "text": [
      "PGS PGS000747 успешно рассчитан\n",
      "\n",
      "==========================================\n",
      "Обработка PGS: PGS000746\n",
      "PGS PGS000746, содержит 1940 SNP\n",
      "Файл содержит позиционную информацию вместо rsID. Создаем синтетиические идентификаторы.\n",
      "Количество SNP в PGS: 1940\n",
      "Количество общих SNP: 232\n",
      "Процент покрытия: 11.96%\n",
      "Выполняем расчет PGS PGS000746\n"
     ]
    },
    {
     "name": "stderr",
     "output_type": "stream",
     "text": [
      "Python(29423) MallocStackLogging: can't turn off malloc stack logging because it was not enabled.\n"
     ]
    },
    {
     "name": "stdout",
     "output_type": "stream",
     "text": [
      "PGS PGS000746 успешно рассчитан\n",
      "\n",
      "==========================================\n",
      "Обработка PGS: PGS004697\n",
      "PGS PGS004697, содержит 1120251 SNP\n",
      "Количество SNP в PGS: 1120251\n",
      "Количество общих SNP: 456041\n",
      "Процент покрытия: 40.71%\n",
      "Выполняем расчет PGS PGS004697\n"
     ]
    },
    {
     "name": "stderr",
     "output_type": "stream",
     "text": [
      "Python(29438) MallocStackLogging: can't turn off malloc stack logging because it was not enabled.\n"
     ]
    },
    {
     "name": "stdout",
     "output_type": "stream",
     "text": [
      "PGS PGS004697 успешно рассчитан\n",
      "\n",
      "==========================================\n",
      "Обработка PGS: PGS004899\n",
      "PGS PGS004899, содержит 7 SNP\n",
      "Количество SNP в PGS: 7\n",
      "Количество общих SNP: 0\n",
      "Процент покрытия: 0.00%\n",
      "нет общих SNP для PGS004899\n",
      "\n",
      "==========================================\n",
      "Обработка PGS: PGS004696\n",
      "PGS PGS004696, содержит 1289980 SNP\n",
      "Количество SNP в PGS: 1289980\n",
      "Количество общих SNP: 456450\n",
      "Процент покрытия: 35.38%\n",
      "Выполняем расчет PGS PGS004696\n"
     ]
    },
    {
     "name": "stderr",
     "output_type": "stream",
     "text": [
      "Python(29445) MallocStackLogging: can't turn off malloc stack logging because it was not enabled.\n"
     ]
    },
    {
     "name": "stdout",
     "output_type": "stream",
     "text": [
      "PGS PGS004696 успешно рассчитан\n",
      "\n",
      "==========================================\n",
      "Обработка PGS: PGS004443\n",
      "PGS PGS004443, содержит 1059939 SNP\n",
      "Количество SNP в PGS: 1059939\n",
      "Количество общих SNP: 442559\n",
      "Процент покрытия: 41.75%\n",
      "Выполняем расчет PGS PGS004443\n"
     ]
    },
    {
     "name": "stderr",
     "output_type": "stream",
     "text": [
      "Python(29534) MallocStackLogging: can't turn off malloc stack logging because it was not enabled.\n"
     ]
    },
    {
     "name": "stdout",
     "output_type": "stream",
     "text": [
      "PGS PGS004443 успешно рассчитан\n",
      "\n",
      "==========================================\n",
      "Обработка PGS: PGS000962\n",
      "PGS PGS000962, содержит 2168 SNP\n",
      "Количество SNP в PGS: 2168\n",
      "Количество общих SNP: 444\n",
      "Процент покрытия: 20.48%\n",
      "Выполняем расчет PGS PGS000962\n"
     ]
    },
    {
     "name": "stderr",
     "output_type": "stream",
     "text": [
      "Python(29535) MallocStackLogging: can't turn off malloc stack logging because it was not enabled.\n"
     ]
    },
    {
     "name": "stdout",
     "output_type": "stream",
     "text": [
      "PGS PGS000962 успешно рассчитан\n",
      "Объеденены PGS для 224 образцов и 73 PGS\n"
     ]
    },
    {
     "name": "stderr",
     "output_type": "stream",
     "text": [
      "/Users/daklo/for_dipl/pgs_calculator.py:139: SettingWithCopyWarning: \n",
      "A value is trying to be set on a copy of a slice from a DataFrame.\n",
      "Try using .loc[row_indexer,col_indexer] = value instead\n",
      "\n",
      "See the caveats in the documentation: https://pandas.pydata.org/pandas-docs/stable/user_guide/indexing.html#returning-a-view-versus-a-copy\n",
      "  combined[pgs_name] = df['SCORE']\n",
      "/Users/daklo/for_dipl/pgs_calculator.py:139: SettingWithCopyWarning: \n",
      "A value is trying to be set on a copy of a slice from a DataFrame.\n",
      "Try using .loc[row_indexer,col_indexer] = value instead\n",
      "\n",
      "See the caveats in the documentation: https://pandas.pydata.org/pandas-docs/stable/user_guide/indexing.html#returning-a-view-versus-a-copy\n",
      "  combined[pgs_name] = df['SCORE']\n",
      "/Users/daklo/for_dipl/pgs_calculator.py:139: SettingWithCopyWarning: \n",
      "A value is trying to be set on a copy of a slice from a DataFrame.\n",
      "Try using .loc[row_indexer,col_indexer] = value instead\n",
      "\n",
      "See the caveats in the documentation: https://pandas.pydata.org/pandas-docs/stable/user_guide/indexing.html#returning-a-view-versus-a-copy\n",
      "  combined[pgs_name] = df['SCORE']\n"
     ]
    },
    {
     "name": "stdout",
     "output_type": "stream",
     "text": [
      "Сохраняю в ./pgs_results_calculated/test_3_pgs.csv\n",
      "\n",
      "Примеры данных из X_train:\n"
     ]
    },
    {
     "data": {
      "text/html": [
       "<div>\n",
       "<style scoped>\n",
       "    .dataframe tbody tr th:only-of-type {\n",
       "        vertical-align: middle;\n",
       "    }\n",
       "\n",
       "    .dataframe tbody tr th {\n",
       "        vertical-align: top;\n",
       "    }\n",
       "\n",
       "    .dataframe thead th {\n",
       "        text-align: right;\n",
       "    }\n",
       "</style>\n",
       "<table border=\"1\" class=\"dataframe\">\n",
       "  <thead>\n",
       "    <tr style=\"text-align: right;\">\n",
       "      <th></th>\n",
       "      <th>PGS003725</th>\n",
       "      <th>PGS000748</th>\n",
       "      <th>PGS000012</th>\n",
       "      <th>PGS003446</th>\n",
       "      <th>PGS004513</th>\n",
       "      <th>PGS000013</th>\n",
       "      <th>PGS005143</th>\n",
       "      <th>PGS003726</th>\n",
       "      <th>PGS002809</th>\n",
       "      <th>PGS000011</th>\n",
       "      <th>...</th>\n",
       "      <th>PGS004308</th>\n",
       "      <th>PGS000018</th>\n",
       "      <th>PGS004444</th>\n",
       "      <th>PGS000019</th>\n",
       "      <th>PGS000747</th>\n",
       "      <th>PGS000746</th>\n",
       "      <th>PGS004697</th>\n",
       "      <th>PGS004696</th>\n",
       "      <th>PGS004443</th>\n",
       "      <th>PGS000962</th>\n",
       "    </tr>\n",
       "  </thead>\n",
       "  <tbody>\n",
       "    <tr>\n",
       "      <th>0</th>\n",
       "      <td>-0.000002</td>\n",
       "      <td>-0.000086</td>\n",
       "      <td>0.006297</td>\n",
       "      <td>0.000143</td>\n",
       "      <td>-9.065230e-09</td>\n",
       "      <td>0.000001</td>\n",
       "      <td>3.248490e-07</td>\n",
       "      <td>-9.691600e-07</td>\n",
       "      <td>0.033945</td>\n",
       "      <td>0.052974</td>\n",
       "      <td>...</td>\n",
       "      <td>0.000109</td>\n",
       "      <td>0.000026</td>\n",
       "      <td>-4.713670e-08</td>\n",
       "      <td>0.041390</td>\n",
       "      <td>-0.000261</td>\n",
       "      <td>0.000481</td>\n",
       "      <td>-6.655540e-08</td>\n",
       "      <td>-8.700770e-08</td>\n",
       "      <td>-3.071830e-07</td>\n",
       "      <td>0.000240</td>\n",
       "    </tr>\n",
       "    <tr>\n",
       "      <th>1</th>\n",
       "      <td>-0.000002</td>\n",
       "      <td>-0.000077</td>\n",
       "      <td>0.006248</td>\n",
       "      <td>0.000084</td>\n",
       "      <td>-6.483290e-09</td>\n",
       "      <td>0.000001</td>\n",
       "      <td>2.045480e-07</td>\n",
       "      <td>-7.315350e-07</td>\n",
       "      <td>0.028568</td>\n",
       "      <td>0.053982</td>\n",
       "      <td>...</td>\n",
       "      <td>-0.000122</td>\n",
       "      <td>0.000025</td>\n",
       "      <td>4.179180e-08</td>\n",
       "      <td>0.028056</td>\n",
       "      <td>-0.000272</td>\n",
       "      <td>0.001207</td>\n",
       "      <td>2.037160e-08</td>\n",
       "      <td>-4.622910e-08</td>\n",
       "      <td>-1.234900e-07</td>\n",
       "      <td>0.000442</td>\n",
       "    </tr>\n",
       "    <tr>\n",
       "      <th>2</th>\n",
       "      <td>-0.000002</td>\n",
       "      <td>-0.000090</td>\n",
       "      <td>0.006240</td>\n",
       "      <td>0.000113</td>\n",
       "      <td>3.235360e-08</td>\n",
       "      <td>0.000001</td>\n",
       "      <td>1.328500e-07</td>\n",
       "      <td>-8.986570e-07</td>\n",
       "      <td>0.031143</td>\n",
       "      <td>0.044140</td>\n",
       "      <td>...</td>\n",
       "      <td>-0.000300</td>\n",
       "      <td>0.000026</td>\n",
       "      <td>8.789890e-08</td>\n",
       "      <td>0.036693</td>\n",
       "      <td>-0.000271</td>\n",
       "      <td>0.000935</td>\n",
       "      <td>-2.099070e-07</td>\n",
       "      <td>-1.456200e-07</td>\n",
       "      <td>8.516600e-08</td>\n",
       "      <td>0.000223</td>\n",
       "    </tr>\n",
       "    <tr>\n",
       "      <th>3</th>\n",
       "      <td>-0.000002</td>\n",
       "      <td>-0.000103</td>\n",
       "      <td>0.006257</td>\n",
       "      <td>0.000172</td>\n",
       "      <td>3.374650e-08</td>\n",
       "      <td>0.000001</td>\n",
       "      <td>8.318160e-08</td>\n",
       "      <td>-1.076930e-06</td>\n",
       "      <td>0.028405</td>\n",
       "      <td>0.059610</td>\n",
       "      <td>...</td>\n",
       "      <td>-0.000317</td>\n",
       "      <td>0.000025</td>\n",
       "      <td>1.868390e-07</td>\n",
       "      <td>0.026249</td>\n",
       "      <td>-0.000253</td>\n",
       "      <td>0.001527</td>\n",
       "      <td>-4.603730e-08</td>\n",
       "      <td>9.167550e-09</td>\n",
       "      <td>2.314130e-07</td>\n",
       "      <td>0.000099</td>\n",
       "    </tr>\n",
       "    <tr>\n",
       "      <th>4</th>\n",
       "      <td>-0.000002</td>\n",
       "      <td>-0.000073</td>\n",
       "      <td>0.006176</td>\n",
       "      <td>0.000113</td>\n",
       "      <td>1.468920e-08</td>\n",
       "      <td>0.000001</td>\n",
       "      <td>-1.258190e-07</td>\n",
       "      <td>-1.019300e-06</td>\n",
       "      <td>0.029802</td>\n",
       "      <td>0.047192</td>\n",
       "      <td>...</td>\n",
       "      <td>-0.000132</td>\n",
       "      <td>0.000025</td>\n",
       "      <td>2.014450e-07</td>\n",
       "      <td>0.029261</td>\n",
       "      <td>-0.000246</td>\n",
       "      <td>0.000573</td>\n",
       "      <td>-5.126700e-08</td>\n",
       "      <td>-1.013910e-07</td>\n",
       "      <td>-2.859600e-08</td>\n",
       "      <td>0.000167</td>\n",
       "    </tr>\n",
       "  </tbody>\n",
       "</table>\n",
       "<p>5 rows × 73 columns</p>\n",
       "</div>"
      ],
      "text/plain": [
       "   PGS003725  PGS000748  PGS000012  PGS003446     PGS004513  PGS000013  \\\n",
       "0  -0.000002  -0.000086   0.006297   0.000143 -9.065230e-09   0.000001   \n",
       "1  -0.000002  -0.000077   0.006248   0.000084 -6.483290e-09   0.000001   \n",
       "2  -0.000002  -0.000090   0.006240   0.000113  3.235360e-08   0.000001   \n",
       "3  -0.000002  -0.000103   0.006257   0.000172  3.374650e-08   0.000001   \n",
       "4  -0.000002  -0.000073   0.006176   0.000113  1.468920e-08   0.000001   \n",
       "\n",
       "      PGS005143     PGS003726  PGS002809  PGS000011  ...  PGS004308  \\\n",
       "0  3.248490e-07 -9.691600e-07   0.033945   0.052974  ...   0.000109   \n",
       "1  2.045480e-07 -7.315350e-07   0.028568   0.053982  ...  -0.000122   \n",
       "2  1.328500e-07 -8.986570e-07   0.031143   0.044140  ...  -0.000300   \n",
       "3  8.318160e-08 -1.076930e-06   0.028405   0.059610  ...  -0.000317   \n",
       "4 -1.258190e-07 -1.019300e-06   0.029802   0.047192  ...  -0.000132   \n",
       "\n",
       "   PGS000018     PGS004444  PGS000019  PGS000747  PGS000746     PGS004697  \\\n",
       "0   0.000026 -4.713670e-08   0.041390  -0.000261   0.000481 -6.655540e-08   \n",
       "1   0.000025  4.179180e-08   0.028056  -0.000272   0.001207  2.037160e-08   \n",
       "2   0.000026  8.789890e-08   0.036693  -0.000271   0.000935 -2.099070e-07   \n",
       "3   0.000025  1.868390e-07   0.026249  -0.000253   0.001527 -4.603730e-08   \n",
       "4   0.000025  2.014450e-07   0.029261  -0.000246   0.000573 -5.126700e-08   \n",
       "\n",
       "      PGS004696     PGS004443  PGS000962  \n",
       "0 -8.700770e-08 -3.071830e-07   0.000240  \n",
       "1 -4.622910e-08 -1.234900e-07   0.000442  \n",
       "2 -1.456200e-07  8.516600e-08   0.000223  \n",
       "3  9.167550e-09  2.314130e-07   0.000099  \n",
       "4 -1.013910e-07 -2.859600e-08   0.000167  \n",
       "\n",
       "[5 rows x 73 columns]"
      ]
     },
     "metadata": {},
     "output_type": "display_data"
    },
    {
     "data": {
      "text/html": [
       "<div>\n",
       "<style scoped>\n",
       "    .dataframe tbody tr th:only-of-type {\n",
       "        vertical-align: middle;\n",
       "    }\n",
       "\n",
       "    .dataframe tbody tr th {\n",
       "        vertical-align: top;\n",
       "    }\n",
       "\n",
       "    .dataframe thead th {\n",
       "        text-align: right;\n",
       "    }\n",
       "</style>\n",
       "<table border=\"1\" class=\"dataframe\">\n",
       "  <thead>\n",
       "    <tr style=\"text-align: right;\">\n",
       "      <th></th>\n",
       "      <th>PGS003725</th>\n",
       "      <th>PGS000748</th>\n",
       "      <th>PGS000012</th>\n",
       "      <th>PGS003446</th>\n",
       "      <th>PGS004513</th>\n",
       "      <th>PGS000013</th>\n",
       "      <th>PGS005143</th>\n",
       "      <th>PGS003726</th>\n",
       "      <th>PGS002809</th>\n",
       "      <th>PGS000011</th>\n",
       "      <th>...</th>\n",
       "      <th>PGS004308</th>\n",
       "      <th>PGS000018</th>\n",
       "      <th>PGS004444</th>\n",
       "      <th>PGS000019</th>\n",
       "      <th>PGS000747</th>\n",
       "      <th>PGS000746</th>\n",
       "      <th>PGS004697</th>\n",
       "      <th>PGS004696</th>\n",
       "      <th>PGS004443</th>\n",
       "      <th>PGS000962</th>\n",
       "    </tr>\n",
       "  </thead>\n",
       "  <tbody>\n",
       "    <tr>\n",
       "      <th>0</th>\n",
       "      <td>-0.000002</td>\n",
       "      <td>-0.000063</td>\n",
       "      <td>0.006168</td>\n",
       "      <td>0.000101</td>\n",
       "      <td>9.720290e-09</td>\n",
       "      <td>0.000001</td>\n",
       "      <td>2.138130e-07</td>\n",
       "      <td>-7.236420e-07</td>\n",
       "      <td>0.031883</td>\n",
       "      <td>0.049781</td>\n",
       "      <td>...</td>\n",
       "      <td>-0.000414</td>\n",
       "      <td>0.000024</td>\n",
       "      <td>-4.695070e-08</td>\n",
       "      <td>0.027595</td>\n",
       "      <td>-0.000216</td>\n",
       "      <td>-0.001152</td>\n",
       "      <td>9.108970e-08</td>\n",
       "      <td>-2.489080e-08</td>\n",
       "      <td>3.490740e-08</td>\n",
       "      <td>0.000152</td>\n",
       "    </tr>\n",
       "    <tr>\n",
       "      <th>1</th>\n",
       "      <td>-0.000002</td>\n",
       "      <td>-0.000111</td>\n",
       "      <td>0.006257</td>\n",
       "      <td>0.000078</td>\n",
       "      <td>-2.156580e-08</td>\n",
       "      <td>0.000001</td>\n",
       "      <td>1.488730e-07</td>\n",
       "      <td>-1.083630e-06</td>\n",
       "      <td>0.032324</td>\n",
       "      <td>0.056074</td>\n",
       "      <td>...</td>\n",
       "      <td>-0.000164</td>\n",
       "      <td>0.000024</td>\n",
       "      <td>4.458920e-08</td>\n",
       "      <td>0.024687</td>\n",
       "      <td>-0.000255</td>\n",
       "      <td>0.000939</td>\n",
       "      <td>-1.540820e-07</td>\n",
       "      <td>-1.283690e-07</td>\n",
       "      <td>-1.432280e-07</td>\n",
       "      <td>0.000337</td>\n",
       "    </tr>\n",
       "    <tr>\n",
       "      <th>2</th>\n",
       "      <td>-0.000002</td>\n",
       "      <td>-0.000076</td>\n",
       "      <td>0.006165</td>\n",
       "      <td>0.000127</td>\n",
       "      <td>-6.329270e-09</td>\n",
       "      <td>0.000001</td>\n",
       "      <td>-2.717480e-08</td>\n",
       "      <td>-1.145760e-06</td>\n",
       "      <td>0.031846</td>\n",
       "      <td>0.049781</td>\n",
       "      <td>...</td>\n",
       "      <td>-0.000205</td>\n",
       "      <td>0.000025</td>\n",
       "      <td>-1.695170e-08</td>\n",
       "      <td>0.029873</td>\n",
       "      <td>-0.000252</td>\n",
       "      <td>0.001107</td>\n",
       "      <td>-1.121080e-07</td>\n",
       "      <td>-1.613770e-07</td>\n",
       "      <td>-8.614640e-08</td>\n",
       "      <td>0.000169</td>\n",
       "    </tr>\n",
       "    <tr>\n",
       "      <th>3</th>\n",
       "      <td>-0.000002</td>\n",
       "      <td>-0.000102</td>\n",
       "      <td>0.006282</td>\n",
       "      <td>0.000093</td>\n",
       "      <td>-3.392720e-09</td>\n",
       "      <td>0.000001</td>\n",
       "      <td>1.669130e-08</td>\n",
       "      <td>-1.104490e-06</td>\n",
       "      <td>0.030706</td>\n",
       "      <td>0.069226</td>\n",
       "      <td>...</td>\n",
       "      <td>-0.000407</td>\n",
       "      <td>0.000026</td>\n",
       "      <td>3.782500e-08</td>\n",
       "      <td>0.028593</td>\n",
       "      <td>-0.000282</td>\n",
       "      <td>0.001313</td>\n",
       "      <td>5.224720e-09</td>\n",
       "      <td>2.661700e-09</td>\n",
       "      <td>-2.606010e-08</td>\n",
       "      <td>0.000217</td>\n",
       "    </tr>\n",
       "    <tr>\n",
       "      <th>4</th>\n",
       "      <td>-0.000002</td>\n",
       "      <td>-0.000076</td>\n",
       "      <td>0.006283</td>\n",
       "      <td>0.000088</td>\n",
       "      <td>4.641350e-09</td>\n",
       "      <td>0.000001</td>\n",
       "      <td>1.343080e-07</td>\n",
       "      <td>-1.174170e-06</td>\n",
       "      <td>0.023494</td>\n",
       "      <td>0.045807</td>\n",
       "      <td>...</td>\n",
       "      <td>-0.000550</td>\n",
       "      <td>0.000026</td>\n",
       "      <td>9.099150e-08</td>\n",
       "      <td>0.036073</td>\n",
       "      <td>-0.000301</td>\n",
       "      <td>0.000336</td>\n",
       "      <td>-2.574740e-07</td>\n",
       "      <td>-3.102000e-07</td>\n",
       "      <td>8.779060e-08</td>\n",
       "      <td>0.000633</td>\n",
       "    </tr>\n",
       "  </tbody>\n",
       "</table>\n",
       "<p>5 rows × 73 columns</p>\n",
       "</div>"
      ],
      "text/plain": [
       "   PGS003725  PGS000748  PGS000012  PGS003446     PGS004513  PGS000013  \\\n",
       "0  -0.000002  -0.000063   0.006168   0.000101  9.720290e-09   0.000001   \n",
       "1  -0.000002  -0.000111   0.006257   0.000078 -2.156580e-08   0.000001   \n",
       "2  -0.000002  -0.000076   0.006165   0.000127 -6.329270e-09   0.000001   \n",
       "3  -0.000002  -0.000102   0.006282   0.000093 -3.392720e-09   0.000001   \n",
       "4  -0.000002  -0.000076   0.006283   0.000088  4.641350e-09   0.000001   \n",
       "\n",
       "      PGS005143     PGS003726  PGS002809  PGS000011  ...  PGS004308  \\\n",
       "0  2.138130e-07 -7.236420e-07   0.031883   0.049781  ...  -0.000414   \n",
       "1  1.488730e-07 -1.083630e-06   0.032324   0.056074  ...  -0.000164   \n",
       "2 -2.717480e-08 -1.145760e-06   0.031846   0.049781  ...  -0.000205   \n",
       "3  1.669130e-08 -1.104490e-06   0.030706   0.069226  ...  -0.000407   \n",
       "4  1.343080e-07 -1.174170e-06   0.023494   0.045807  ...  -0.000550   \n",
       "\n",
       "   PGS000018     PGS004444  PGS000019  PGS000747  PGS000746     PGS004697  \\\n",
       "0   0.000024 -4.695070e-08   0.027595  -0.000216  -0.001152  9.108970e-08   \n",
       "1   0.000024  4.458920e-08   0.024687  -0.000255   0.000939 -1.540820e-07   \n",
       "2   0.000025 -1.695170e-08   0.029873  -0.000252   0.001107 -1.121080e-07   \n",
       "3   0.000026  3.782500e-08   0.028593  -0.000282   0.001313  5.224720e-09   \n",
       "4   0.000026  9.099150e-08   0.036073  -0.000301   0.000336 -2.574740e-07   \n",
       "\n",
       "      PGS004696     PGS004443  PGS000962  \n",
       "0 -2.489080e-08  3.490740e-08   0.000152  \n",
       "1 -1.283690e-07 -1.432280e-07   0.000337  \n",
       "2 -1.613770e-07 -8.614640e-08   0.000169  \n",
       "3  2.661700e-09 -2.606010e-08   0.000217  \n",
       "4 -3.102000e-07  8.779060e-08   0.000633  \n",
       "\n",
       "[5 rows x 73 columns]"
      ]
     },
     "metadata": {},
     "output_type": "display_data"
    },
    {
     "name": "stdout",
     "output_type": "stream",
     "text": [
      "1\n",
      "файл ./train_4.bim, содержит 591998 SNP\n",
      "Найдено 76 PGS\n",
      "\n",
      "==========================================\n",
      "Обработка PGS: PGS003725\n",
      "PGS PGS003725, содержит 1296172 SNP\n",
      "Файл содержит позиционную информацию вместо rsID. Создаем синтетиические идентификаторы.\n",
      "Количество SNP в PGS: 1296172\n",
      "Количество общих SNP: 456468\n",
      "Процент покрытия: 35.22%\n",
      "Выполняем расчет PGS PGS003725\n"
     ]
    },
    {
     "name": "stderr",
     "output_type": "stream",
     "text": [
      "Python(29561) MallocStackLogging: can't turn off malloc stack logging because it was not enabled.\n"
     ]
    },
    {
     "name": "stdout",
     "output_type": "stream",
     "text": [
      "PGS PGS003725 успешно рассчитан\n",
      "\n",
      "==========================================\n",
      "Обработка PGS: PGS000748\n",
      "PGS PGS000748, содержит 3423987 SNP\n",
      "Файл содержит позиционную информацию вместо rsID. Создаем синтетиические идентификаторы.\n",
      "Количество SNP в PGS: 3423987\n",
      "Количество общих SNP: 416579\n",
      "Процент покрытия: 12.17%\n",
      "Выполняем расчет PGS PGS000748\n"
     ]
    },
    {
     "name": "stderr",
     "output_type": "stream",
     "text": [
      "Python(29681) MallocStackLogging: can't turn off malloc stack logging because it was not enabled.\n"
     ]
    },
    {
     "name": "stdout",
     "output_type": "stream",
     "text": [
      "PGS PGS000748 успешно рассчитан\n",
      "\n",
      "==========================================\n",
      "Обработка PGS: PGS000012\n",
      "PGS PGS000012, содержит 49310 SNP\n",
      "Количество SNP в PGS: 49310\n",
      "Количество общих SNP: 15881\n",
      "Процент покрытия: 32.21%\n",
      "Выполняем расчет PGS PGS000012\n"
     ]
    },
    {
     "name": "stderr",
     "output_type": "stream",
     "text": [
      "Python(29682) MallocStackLogging: can't turn off malloc stack logging because it was not enabled.\n"
     ]
    },
    {
     "name": "stdout",
     "output_type": "stream",
     "text": [
      "PGS PGS000012 успешно рассчитан\n",
      "\n",
      "==========================================\n",
      "Обработка PGS: PGS003446\n",
      "PGS PGS003446, содержит 538084 SNP\n",
      "Файл содержит позиционную информацию вместо rsID. Создаем синтетиические идентификаторы.\n",
      "Количество SNP в PGS: 538084\n",
      "Количество общих SNP: 25529\n",
      "Процент покрытия: 4.74%\n",
      "Выполняем расчет PGS PGS003446\n"
     ]
    },
    {
     "name": "stderr",
     "output_type": "stream",
     "text": [
      "Python(29699) MallocStackLogging: can't turn off malloc stack logging because it was not enabled.\n"
     ]
    },
    {
     "name": "stdout",
     "output_type": "stream",
     "text": [
      "PGS PGS003446 успешно рассчитан\n",
      "\n",
      "==========================================\n",
      "Обработка PGS: PGS004513\n",
      "PGS PGS004513, содержит 1059939 SNP\n",
      "Количество SNP в PGS: 1059939\n",
      "Количество общих SNP: 442559\n",
      "Процент покрытия: 41.75%\n",
      "Выполняем расчет PGS PGS004513\n"
     ]
    },
    {
     "name": "stderr",
     "output_type": "stream",
     "text": [
      "Python(29704) MallocStackLogging: can't turn off malloc stack logging because it was not enabled.\n"
     ]
    },
    {
     "name": "stdout",
     "output_type": "stream",
     "text": [
      "PGS PGS004513 успешно рассчитан\n",
      "\n",
      "==========================================\n",
      "Обработка PGS: PGS000013\n",
      "PGS PGS000013, содержит 6630150 SNP\n",
      "Файл содержит позиционную информацию вместо rsID. Создаем синтетиические идентификаторы.\n",
      "Количество SNP в PGS: 6630150\n",
      "Количество общих SNP: 495928\n",
      "Процент покрытия: 7.48%\n",
      "Выполняем расчет PGS PGS000013\n"
     ]
    },
    {
     "name": "stderr",
     "output_type": "stream",
     "text": [
      "Python(29830) MallocStackLogging: can't turn off malloc stack logging because it was not enabled.\n"
     ]
    },
    {
     "name": "stdout",
     "output_type": "stream",
     "text": [
      "PGS PGS000013 успешно рассчитан\n",
      "\n",
      "==========================================\n",
      "Обработка PGS: PGS005143\n",
      "PGS PGS005143, содержит 943274 SNP\n",
      "Количество SNP в PGS: 943274\n",
      "Количество общих SNP: 395304\n",
      "Процент покрытия: 41.91%\n",
      "Выполняем расчет PGS PGS005143\n"
     ]
    },
    {
     "name": "stderr",
     "output_type": "stream",
     "text": [
      "Python(29835) MallocStackLogging: can't turn off malloc stack logging because it was not enabled.\n"
     ]
    },
    {
     "name": "stdout",
     "output_type": "stream",
     "text": [
      "PGS PGS005143 успешно рассчитан\n",
      "\n",
      "==========================================\n",
      "Обработка PGS: PGS003726\n",
      "PGS PGS003726, содержит 1296172 SNP\n",
      "Файл содержит позиционную информацию вместо rsID. Создаем синтетиические идентификаторы.\n",
      "Количество SNP в PGS: 1296172\n",
      "Количество общих SNP: 456468\n",
      "Процент покрытия: 35.22%\n",
      "Выполняем расчет PGS PGS003726\n"
     ]
    },
    {
     "name": "stderr",
     "output_type": "stream",
     "text": [
      "Python(29855) MallocStackLogging: can't turn off malloc stack logging because it was not enabled.\n"
     ]
    },
    {
     "name": "stdout",
     "output_type": "stream",
     "text": [
      "PGS PGS003726 успешно рассчитан\n",
      "\n",
      "==========================================\n",
      "Обработка PGS: PGS002809\n",
      "PGS PGS002809, содержит 205 SNP\n",
      "Количество SNP в PGS: 205\n",
      "Количество общих SNP: 48\n",
      "Процент покрытия: 23.41%\n",
      "Выполняем расчет PGS PGS002809\n"
     ]
    },
    {
     "name": "stderr",
     "output_type": "stream",
     "text": [
      "Python(29856) MallocStackLogging: can't turn off malloc stack logging because it was not enabled.\n"
     ]
    },
    {
     "name": "stdout",
     "output_type": "stream",
     "text": [
      "PGS PGS002809 успешно рассчитан\n",
      "\n",
      "==========================================\n",
      "Обработка PGS: PGS000011\n",
      "PGS PGS000011, содержит 50 SNP\n",
      "Количество SNP в PGS: 50\n",
      "Количество общих SNP: 22\n",
      "Процент покрытия: 44.00%\n",
      "Выполняем расчет PGS PGS000011\n"
     ]
    },
    {
     "name": "stderr",
     "output_type": "stream",
     "text": [
      "Python(29857) MallocStackLogging: can't turn off malloc stack logging because it was not enabled.\n"
     ]
    },
    {
     "name": "stdout",
     "output_type": "stream",
     "text": [
      "PGS PGS000011 успешно рассчитан\n",
      "\n",
      "==========================================\n",
      "Обработка PGS: PGS000818\n",
      "PGS PGS000818, содержит 138 SNP\n",
      "Количество SNP в PGS: 138\n",
      "Количество общих SNP: 42\n",
      "Процент покрытия: 30.43%\n",
      "Выполняем расчет PGS PGS000818\n"
     ]
    },
    {
     "name": "stderr",
     "output_type": "stream",
     "text": [
      "Python(29858) MallocStackLogging: can't turn off malloc stack logging because it was not enabled.\n"
     ]
    },
    {
     "name": "stdout",
     "output_type": "stream",
     "text": [
      "PGS PGS000818 успешно рассчитан\n",
      "\n",
      "==========================================\n",
      "Обработка PGS: PGS004698\n",
      "PGS PGS004698, содержит 542218 SNP\n",
      "Файл содержит позиционную информацию вместо rsID. Создаем синтетиические идентификаторы.\n",
      "Количество SNP в PGS: 542218\n",
      "Количество общих SNP: 26884\n",
      "Процент покрытия: 4.96%\n",
      "Выполняем расчет PGS PGS004698\n"
     ]
    },
    {
     "name": "stderr",
     "output_type": "stream",
     "text": [
      "Python(29863) MallocStackLogging: can't turn off malloc stack logging because it was not enabled.\n"
     ]
    },
    {
     "name": "stdout",
     "output_type": "stream",
     "text": [
      "PGS PGS004698 успешно рассчитан\n",
      "\n",
      "==========================================\n",
      "Обработка PGS: PGS000010\n",
      "PGS PGS000010, содержит 27 SNP\n",
      "Количество SNP в PGS: 27\n",
      "Количество общих SNP: 14\n",
      "Процент покрытия: 51.85%\n",
      "Выполняем расчет PGS PGS000010\n"
     ]
    },
    {
     "name": "stderr",
     "output_type": "stream",
     "text": [
      "Python(29864) MallocStackLogging: can't turn off malloc stack logging because it was not enabled.\n"
     ]
    },
    {
     "name": "stdout",
     "output_type": "stream",
     "text": [
      "PGS PGS000010 успешно рассчитан\n",
      "\n",
      "==========================================\n",
      "Обработка PGS: PGS003727\n",
      "PGS PGS003727, содержит 1125113 SNP\n",
      "Файл содержит позиционную информацию вместо rsID. Создаем синтетиические идентификаторы.\n",
      "Количество SNP в PGS: 1125113\n",
      "Количество общих SNP: 455311\n",
      "Процент покрытия: 40.47%\n",
      "Выполняем расчет PGS PGS003727\n"
     ]
    },
    {
     "name": "stderr",
     "output_type": "stream",
     "text": [
      "Python(29967) MallocStackLogging: can't turn off malloc stack logging because it was not enabled.\n"
     ]
    },
    {
     "name": "stdout",
     "output_type": "stream",
     "text": [
      "PGS PGS003727 успешно рассчитан\n",
      "\n",
      "==========================================\n",
      "Обработка PGS: PGS004921\n",
      "PGS PGS004921, содержит 161 SNP\n",
      "Количество SNP в PGS: 161\n",
      "Количество общих SNP: 30\n",
      "Процент покрытия: 18.63%\n",
      "Выполняем расчет PGS PGS004921\n"
     ]
    },
    {
     "name": "stderr",
     "output_type": "stream",
     "text": [
      "Python(29968) MallocStackLogging: can't turn off malloc stack logging because it was not enabled.\n"
     ]
    },
    {
     "name": "stdout",
     "output_type": "stream",
     "text": [
      "PGS PGS004921 успешно рассчитан\n",
      "\n",
      "==========================================\n",
      "Обработка PGS: PGS004919\n",
      "PGS PGS004919, содержит 50 SNP\n",
      "Количество SNP в PGS: 50\n",
      "Количество общих SNP: 22\n",
      "Процент покрытия: 44.00%\n",
      "Выполняем расчет PGS PGS004919\n"
     ]
    },
    {
     "name": "stderr",
     "output_type": "stream",
     "text": [
      "Python(29969) MallocStackLogging: can't turn off malloc stack logging because it was not enabled.\n"
     ]
    },
    {
     "name": "stdout",
     "output_type": "stream",
     "text": [
      "PGS PGS004919 успешно рассчитан\n",
      "\n",
      "==========================================\n",
      "Обработка PGS: PGS004925\n",
      "PGS PGS004925, содержит 300 SNP\n",
      "Количество SNP в PGS: 300\n",
      "Количество общих SNP: 46\n",
      "Процент покрытия: 15.33%\n",
      "Выполняем расчет PGS PGS004925\n"
     ]
    },
    {
     "name": "stderr",
     "output_type": "stream",
     "text": [
      "Python(29970) MallocStackLogging: can't turn off malloc stack logging because it was not enabled.\n"
     ]
    },
    {
     "name": "stdout",
     "output_type": "stream",
     "text": [
      "PGS PGS004925 успешно рассчитан\n",
      "\n",
      "==========================================\n",
      "Обработка PGS: PGS004514\n",
      "PGS PGS004514, содержит 1059939 SNP\n",
      "Количество SNP в PGS: 1059939\n",
      "Количество общих SNP: 442559\n",
      "Процент покрытия: 41.75%\n",
      "Выполняем расчет PGS PGS004514\n"
     ]
    },
    {
     "name": "stderr",
     "output_type": "stream",
     "text": [
      "Python(29975) MallocStackLogging: can't turn off malloc stack logging because it was not enabled.\n"
     ]
    },
    {
     "name": "stdout",
     "output_type": "stream",
     "text": [
      "PGS PGS004514 успешно рассчитан\n",
      "\n",
      "==========================================\n",
      "Обработка PGS: PGS004306\n",
      "PGS PGS004306, содержит 4000 SNP\n",
      "Файл содержит позиционную информацию вместо rsID. Создаем синтетиические идентификаторы.\n",
      "Количество SNP в PGS: 4000\n",
      "Количество общих SNP: 1576\n",
      "Процент покрытия: 39.40%\n",
      "Выполняем расчет PGS PGS004306\n"
     ]
    },
    {
     "name": "stderr",
     "output_type": "stream",
     "text": [
      "Python(29976) MallocStackLogging: can't turn off malloc stack logging because it was not enabled.\n"
     ]
    },
    {
     "name": "stdout",
     "output_type": "stream",
     "text": [
      "PGS PGS004306 успешно рассчитан\n",
      "\n",
      "==========================================\n",
      "Обработка PGS: PGS004879\n",
      "PGS PGS004879, содержит 610677 SNP\n",
      "Количество SNP в PGS: 610677\n",
      "Количество общих SNP: 259008\n",
      "Процент покрытия: 42.41%\n",
      "Выполняем расчет PGS PGS004879\n"
     ]
    },
    {
     "name": "stderr",
     "output_type": "stream",
     "text": [
      "Python(29979) MallocStackLogging: can't turn off malloc stack logging because it was not enabled.\n"
     ]
    },
    {
     "name": "stdout",
     "output_type": "stream",
     "text": [
      "PGS PGS004879 успешно рассчитан\n",
      "\n",
      "==========================================\n",
      "Обработка PGS: PGS004307\n",
      "PGS PGS004307, содержит 4000 SNP\n",
      "Файл содержит позиционную информацию вместо rsID. Создаем синтетиические идентификаторы.\n",
      "Количество SNP в PGS: 4000\n",
      "Количество общих SNP: 1596\n",
      "Процент покрытия: 39.90%\n",
      "Выполняем расчет PGS PGS004307\n"
     ]
    },
    {
     "name": "stderr",
     "output_type": "stream",
     "text": [
      "Python(29981) MallocStackLogging: can't turn off malloc stack logging because it was not enabled.\n"
     ]
    },
    {
     "name": "stdout",
     "output_type": "stream",
     "text": [
      "PGS PGS004307 успешно рассчитан\n",
      "\n",
      "==========================================\n",
      "Обработка PGS: PGS002776\n",
      "PGS PGS002776, содержит 390782 SNP\n",
      "Количество SNP в PGS: 390782\n",
      "Количество общих SNP: 44688\n",
      "Процент покрытия: 11.44%\n",
      "Выполняем расчет PGS PGS002776\n"
     ]
    },
    {
     "name": "stderr",
     "output_type": "stream",
     "text": [
      "Python(29982) MallocStackLogging: can't turn off malloc stack logging because it was not enabled.\n"
     ]
    },
    {
     "name": "stdout",
     "output_type": "stream",
     "text": [
      "PGS PGS002776 успешно рассчитан\n",
      "\n",
      "==========================================\n",
      "Обработка PGS: PGS000798\n",
      "PGS PGS000798, содержит 157 SNP\n",
      "Количество SNP в PGS: 157\n",
      "Количество общих SNP: 29\n",
      "Процент покрытия: 18.47%\n",
      "Выполняем расчет PGS PGS000798\n"
     ]
    },
    {
     "name": "stderr",
     "output_type": "stream",
     "text": [
      "Python(29983) MallocStackLogging: can't turn off malloc stack logging because it was not enabled.\n"
     ]
    },
    {
     "name": "stdout",
     "output_type": "stream",
     "text": [
      "PGS PGS000798 успешно рассчитан\n",
      "\n",
      "==========================================\n",
      "Обработка PGS: PGS004305\n",
      "PGS PGS004305, содержит 3000 SNP\n",
      "Файл содержит позиционную информацию вместо rsID. Создаем синтетиические идентификаторы.\n",
      "Количество SNP в PGS: 3000\n",
      "Количество общих SNP: 1127\n",
      "Процент покрытия: 37.57%\n",
      "Выполняем расчет PGS PGS004305\n"
     ]
    },
    {
     "name": "stderr",
     "output_type": "stream",
     "text": [
      "Python(29984) MallocStackLogging: can't turn off malloc stack logging because it was not enabled.\n"
     ]
    },
    {
     "name": "stdout",
     "output_type": "stream",
     "text": [
      "PGS PGS004305 успешно рассчитан\n",
      "\n",
      "==========================================\n",
      "Обработка PGS: PGS000349\n",
      "PGS PGS000349, содержит 70 SNP\n",
      "Количество SNP в PGS: 70\n",
      "Количество общих SNP: 24\n",
      "Процент покрытия: 34.29%\n",
      "Выполняем расчет PGS PGS000349\n"
     ]
    },
    {
     "name": "stderr",
     "output_type": "stream",
     "text": [
      "Python(29985) MallocStackLogging: can't turn off malloc stack logging because it was not enabled.\n"
     ]
    },
    {
     "name": "stdout",
     "output_type": "stream",
     "text": [
      "PGS PGS000349 успешно рассчитан\n",
      "\n",
      "==========================================\n",
      "Обработка PGS: PGS003866\n",
      "PGS PGS003866, содержит 10440 SNP\n",
      "Количество SNP в PGS: 10440\n",
      "Количество общих SNP: 4335\n",
      "Процент покрытия: 41.52%\n",
      "Выполняем расчет PGS PGS003866\n"
     ]
    },
    {
     "name": "stderr",
     "output_type": "stream",
     "text": [
      "Python(29987) MallocStackLogging: can't turn off malloc stack logging because it was not enabled.\n"
     ]
    },
    {
     "name": "stdout",
     "output_type": "stream",
     "text": [
      "PGS PGS003866 успешно рассчитан\n",
      "\n",
      "==========================================\n",
      "Обработка PGS: PGS002775\n",
      "PGS PGS002775, содержит 1059 SNP\n",
      "Количество SNP в PGS: 1059\n",
      "Количество общих SNP: 180\n",
      "Процент покрытия: 17.00%\n",
      "Выполняем расчет PGS PGS002775\n"
     ]
    },
    {
     "name": "stderr",
     "output_type": "stream",
     "text": [
      "Python(29988) MallocStackLogging: can't turn off malloc stack logging because it was not enabled.\n"
     ]
    },
    {
     "name": "stdout",
     "output_type": "stream",
     "text": [
      "PGS PGS002775 успешно рассчитан\n",
      "\n",
      "==========================================\n",
      "Обработка PGS: PGS005152\n",
      "PGS PGS005152, содержит 943274 SNP\n",
      "Количество SNP в PGS: 943274\n",
      "Количество общих SNP: 395304\n",
      "Процент покрытия: 41.91%\n",
      "Выполняем расчет PGS PGS005152\n"
     ]
    },
    {
     "name": "stderr",
     "output_type": "stream",
     "text": [
      "Python(30005) MallocStackLogging: can't turn off malloc stack logging because it was not enabled.\n"
     ]
    },
    {
     "name": "stdout",
     "output_type": "stream",
     "text": [
      "PGS PGS005152 успешно рассчитан\n",
      "\n",
      "==========================================\n",
      "Обработка PGS: PGS000200\n",
      "PGS PGS000200, содержит 28 SNP\n",
      "Количество SNP в PGS: 28\n",
      "Количество общих SNP: 15\n",
      "Процент покрытия: 53.57%\n",
      "Выполняем расчет PGS PGS000200\n"
     ]
    },
    {
     "name": "stderr",
     "output_type": "stream",
     "text": [
      "Python(30006) MallocStackLogging: can't turn off malloc stack logging because it was not enabled.\n"
     ]
    },
    {
     "name": "stdout",
     "output_type": "stream",
     "text": [
      "PGS PGS000200 успешно рассчитан\n",
      "\n",
      "==========================================\n",
      "Обработка PGS: PGS000059\n",
      "PGS PGS000059, содержит 46 SNP\n",
      "Количество SNP в PGS: 46\n",
      "Количество общих SNP: 18\n",
      "Процент покрытия: 39.13%\n",
      "Выполняем расчет PGS PGS000059\n"
     ]
    },
    {
     "name": "stderr",
     "output_type": "stream",
     "text": [
      "Python(30007) MallocStackLogging: can't turn off malloc stack logging because it was not enabled.\n"
     ]
    },
    {
     "name": "stdout",
     "output_type": "stream",
     "text": [
      "PGS PGS000059 успешно рассчитан\n",
      "\n",
      "==========================================\n",
      "Обработка PGS: PGS003356\n",
      "PGS PGS003356, содержит 2324683 SNP\n",
      "Файл содержит позиционную информацию вместо rsID. Создаем синтетиические идентификаторы.\n",
      "Количество SNP в PGS: 2324683\n",
      "Количество общих SNP: 497605\n",
      "Процент покрытия: 21.41%\n",
      "Выполняем расчет PGS PGS003356\n"
     ]
    },
    {
     "name": "stderr",
     "output_type": "stream",
     "text": [
      "Python(30117) MallocStackLogging: can't turn off malloc stack logging because it was not enabled.\n"
     ]
    },
    {
     "name": "stdout",
     "output_type": "stream",
     "text": [
      "PGS PGS003356 успешно рассчитан\n",
      "\n",
      "==========================================\n",
      "Обработка PGS: PGS002048\n",
      "PGS PGS002048, содержит 762124 SNP\n",
      "Количество SNP в PGS: 762124\n",
      "Количество общих SNP: 322896\n",
      "Процент покрытия: 42.37%\n",
      "Выполняем расчет PGS PGS002048\n"
     ]
    },
    {
     "name": "stderr",
     "output_type": "stream",
     "text": [
      "Python(30127) MallocStackLogging: can't turn off malloc stack logging because it was not enabled.\n"
     ]
    },
    {
     "name": "stdout",
     "output_type": "stream",
     "text": [
      "PGS PGS002048 успешно рассчитан\n",
      "\n",
      "==========================================\n",
      "Обработка PGS: PGS001780\n",
      "PGS PGS001780, содержит 1090048 SNP\n",
      "Количество SNP в PGS: 1090048\n",
      "Количество общих SNP: 450206\n",
      "Процент покрытия: 41.30%\n",
      "Выполняем расчет PGS PGS001780\n"
     ]
    },
    {
     "name": "stderr",
     "output_type": "stream",
     "text": [
      "Python(30165) MallocStackLogging: can't turn off malloc stack logging because it was not enabled.\n"
     ]
    },
    {
     "name": "stdout",
     "output_type": "stream",
     "text": [
      "PGS PGS001780 успешно рассчитан\n",
      "\n",
      "==========================================\n",
      "Обработка PGS: PGS002262\n",
      "PGS PGS002262, содержит 540 SNP\n",
      "Количество SNP в PGS: 540\n",
      "Количество общих SNP: 136\n",
      "Процент покрытия: 25.19%\n",
      "Выполняем расчет PGS PGS002262\n"
     ]
    },
    {
     "name": "stderr",
     "output_type": "stream",
     "text": [
      "Python(30168) MallocStackLogging: can't turn off malloc stack logging because it was not enabled.\n"
     ]
    },
    {
     "name": "stdout",
     "output_type": "stream",
     "text": [
      "PGS PGS002262 успешно рассчитан\n",
      "\n",
      "==========================================\n",
      "Обработка PGS: PGS000058\n",
      "PGS PGS000058, содержит 204 SNP\n",
      "Количество SNP в PGS: 204\n",
      "Количество общих SNP: 41\n",
      "Процент покрытия: 20.10%\n",
      "Выполняем расчет PGS PGS000058\n"
     ]
    },
    {
     "name": "stderr",
     "output_type": "stream",
     "text": [
      "Python(30169) MallocStackLogging: can't turn off malloc stack logging because it was not enabled.\n"
     ]
    },
    {
     "name": "stdout",
     "output_type": "stream",
     "text": [
      "PGS PGS000058 успешно рассчитан\n",
      "\n",
      "==========================================\n",
      "Обработка PGS: PGS001839\n",
      "PGS PGS001839, содержит 25425 SNP\n",
      "Количество SNP в PGS: 25425\n",
      "Количество общих SNP: 11260\n",
      "Процент покрытия: 44.29%\n",
      "Выполняем расчет PGS PGS001839\n"
     ]
    },
    {
     "name": "stderr",
     "output_type": "stream",
     "text": [
      "Python(30170) MallocStackLogging: can't turn off malloc stack logging because it was not enabled.\n"
     ]
    },
    {
     "name": "stdout",
     "output_type": "stream",
     "text": [
      "PGS PGS001839 успешно рассчитан\n",
      "\n",
      "==========================================\n",
      "Обработка PGS: PGS004941\n",
      "PGS PGS004941, содержит 3711629 SNP\n",
      "Файл содержит позиционную информацию вместо rsID. Создаем синтетиические идентификаторы.\n",
      "Количество SNP в PGS: 3711629\n",
      "Количество общих SNP: 429616\n",
      "Процент покрытия: 11.57%\n",
      "Выполняем расчет PGS PGS004941\n"
     ]
    },
    {
     "name": "stderr",
     "output_type": "stream",
     "text": [
      "Python(30280) MallocStackLogging: can't turn off malloc stack logging because it was not enabled.\n"
     ]
    },
    {
     "name": "stdout",
     "output_type": "stream",
     "text": [
      "PGS PGS004941 успешно рассчитан\n",
      "\n",
      "==========================================\n",
      "Обработка PGS: PGS004200\n",
      "PGS PGS004200, содержит 8361 SNP\n",
      "Количество SNP в PGS: 8361\n",
      "Количество общих SNP: 899\n",
      "Процент покрытия: 10.75%\n",
      "Выполняем расчет PGS PGS004200\n"
     ]
    },
    {
     "name": "stderr",
     "output_type": "stream",
     "text": [
      "Python(30281) MallocStackLogging: can't turn off malloc stack logging because it was not enabled.\n"
     ]
    },
    {
     "name": "stdout",
     "output_type": "stream",
     "text": [
      "PGS PGS004200 успешно рассчитан\n",
      "\n",
      "==========================================\n",
      "Обработка PGS: PGS003355\n",
      "PGS PGS003355, содержит 1532758 SNP\n",
      "Файл содержит позиционную информацию вместо rsID. Создаем синтетиические идентификаторы.\n",
      "Количество SNP в PGS: 1532758\n",
      "Количество общих SNP: 116470\n",
      "Процент покрытия: 7.60%\n",
      "Выполняем расчет PGS PGS003355\n"
     ]
    },
    {
     "name": "stderr",
     "output_type": "stream",
     "text": [
      "Python(30292) MallocStackLogging: can't turn off malloc stack logging because it was not enabled.\n"
     ]
    },
    {
     "name": "stdout",
     "output_type": "stream",
     "text": [
      "PGS PGS003355 успешно рассчитан\n",
      "\n",
      "==========================================\n",
      "Обработка PGS: PGS001355\n",
      "PGS PGS001355, содержит 2994055 SNP\n",
      "Количество SNP в PGS: 2994055\n",
      "Количество общих SNP: 317044\n",
      "Процент покрытия: 10.59%\n",
      "Выполняем расчет PGS PGS001355\n"
     ]
    },
    {
     "name": "stderr",
     "output_type": "stream",
     "text": [
      "Python(30298) MallocStackLogging: can't turn off malloc stack logging because it was not enabled.\n"
     ]
    },
    {
     "name": "stdout",
     "output_type": "stream",
     "text": [
      "PGS PGS001355 успешно рассчитан\n",
      "\n",
      "==========================================\n",
      "Обработка PGS: PGS004198\n",
      "PGS PGS004198, содержит 5723 SNP\n",
      "Количество SNP в PGS: 5723\n",
      "Количество общих SNP: 670\n",
      "Процент покрытия: 11.71%\n",
      "Выполняем расчет PGS PGS004198\n"
     ]
    },
    {
     "name": "stderr",
     "output_type": "stream",
     "text": [
      "Python(30300) MallocStackLogging: can't turn off malloc stack logging because it was not enabled.\n"
     ]
    },
    {
     "name": "stdout",
     "output_type": "stream",
     "text": [
      "PGS PGS004198 успешно рассчитан\n",
      "\n",
      "==========================================\n",
      "Обработка PGS: PGS000329\n",
      "PGS PGS000329, содержит 6423165 SNP\n",
      "Количество SNP в PGS: 6423165\n",
      "Количество общих SNP: 490575\n",
      "Процент покрытия: 7.64%\n",
      "Выполняем расчет PGS PGS000329\n"
     ]
    },
    {
     "name": "stderr",
     "output_type": "stream",
     "text": [
      "Python(30390) MallocStackLogging: can't turn off malloc stack logging because it was not enabled.\n"
     ]
    },
    {
     "name": "stdout",
     "output_type": "stream",
     "text": [
      "PGS PGS000329 успешно рассчитан\n",
      "\n",
      "==========================================\n",
      "Обработка PGS: PGS004199\n",
      "PGS PGS004199, содержит 6085 SNP\n",
      "Количество SNP в PGS: 6085\n",
      "Количество общих SNP: 682\n",
      "Процент покрытия: 11.21%\n",
      "Выполняем расчет PGS PGS004199\n"
     ]
    },
    {
     "name": "stderr",
     "output_type": "stream",
     "text": [
      "Python(30403) MallocStackLogging: can't turn off malloc stack logging because it was not enabled.\n"
     ]
    },
    {
     "name": "stdout",
     "output_type": "stream",
     "text": [
      "PGS PGS004199 успешно рассчитан\n",
      "\n",
      "==========================================\n",
      "Обработка PGS: PGS000116\n",
      "PGS PGS000116, содержит 40079 SNP\n",
      "Количество SNP в PGS: 40079\n",
      "Количество общих SNP: 3662\n",
      "Процент покрытия: 9.14%\n",
      "Выполняем расчет PGS PGS000116\n"
     ]
    },
    {
     "name": "stderr",
     "output_type": "stream",
     "text": [
      "Python(30404) MallocStackLogging: can't turn off malloc stack logging because it was not enabled.\n"
     ]
    },
    {
     "name": "stdout",
     "output_type": "stream",
     "text": [
      "PGS PGS000116 успешно рассчитан\n",
      "\n",
      "==========================================\n",
      "Обработка PGS: PGS005091\n",
      "PGS PGS005091, содержит 1428772 SNP\n",
      "Файл содержит позиционную информацию вместо rsID. Создаем синтетиические идентификаторы.\n",
      "Количество SNP в PGS: 1428772\n",
      "Количество общих SNP: 4354\n",
      "Процент покрытия: 0.30%\n",
      "Выполняем расчет PGS PGS005091\n"
     ]
    },
    {
     "name": "stderr",
     "output_type": "stream",
     "text": [
      "Python(30408) MallocStackLogging: can't turn off malloc stack logging because it was not enabled.\n"
     ]
    },
    {
     "name": "stdout",
     "output_type": "stream",
     "text": [
      "PGS PGS005091 успешно рассчитан\n",
      "\n",
      "==========================================\n",
      "Обработка PGS: PGS005092\n",
      "PGS PGS005092, содержит 1279502 SNP\n",
      "Файл содержит позиционную информацию вместо rsID. Создаем синтетиические идентификаторы.\n",
      "Количество SNP в PGS: 1279502\n",
      "Количество общих SNP: 4540\n",
      "Процент покрытия: 0.35%\n",
      "Выполняем расчет PGS PGS005092\n"
     ]
    },
    {
     "name": "stderr",
     "output_type": "stream",
     "text": [
      "Python(30410) MallocStackLogging: can't turn off malloc stack logging because it was not enabled.\n"
     ]
    },
    {
     "name": "stdout",
     "output_type": "stream",
     "text": [
      "PGS PGS005092 успешно рассчитан\n",
      "\n",
      "==========================================\n",
      "Обработка PGS: PGS004746\n",
      "PGS PGS004746, содержит 6483064 SNP\n",
      "Файл содержит позиционную информацию вместо rsID. Создаем синтетиические идентификаторы.\n",
      "Количество SNP в PGS: 6483064\n",
      "Количество общих SNP: 6132\n",
      "Процент покрытия: 0.09%\n",
      "Выполняем расчет PGS PGS004746\n"
     ]
    },
    {
     "name": "stderr",
     "output_type": "stream",
     "text": [
      "Python(30433) MallocStackLogging: can't turn off malloc stack logging because it was not enabled.\n"
     ]
    },
    {
     "name": "stdout",
     "output_type": "stream",
     "text": [
      "PGS PGS004746 успешно рассчитан\n",
      "\n",
      "==========================================\n",
      "Обработка PGS: PGS004197\n",
      "PGS PGS004197, содержит 11490 SNP\n",
      "Количество SNP в PGS: 11490\n",
      "Количество общих SNP: 1193\n",
      "Процент покрытия: 10.38%\n",
      "Выполняем расчет PGS PGS004197\n"
     ]
    },
    {
     "name": "stderr",
     "output_type": "stream",
     "text": [
      "Python(30434) MallocStackLogging: can't turn off malloc stack logging because it was not enabled.\n"
     ]
    },
    {
     "name": "stdout",
     "output_type": "stream",
     "text": [
      "PGS PGS004197 успешно рассчитан\n",
      "\n",
      "==========================================\n",
      "Обработка PGS: PGS004196\n",
      "PGS PGS004196, содержит 3892 SNP\n",
      "Количество SNP в PGS: 3892\n",
      "Количество общих SNP: 464\n",
      "Процент покрытия: 11.92%\n",
      "Выполняем расчет PGS PGS004196\n"
     ]
    },
    {
     "name": "stderr",
     "output_type": "stream",
     "text": [
      "Python(30437) MallocStackLogging: can't turn off malloc stack logging because it was not enabled.\n"
     ]
    },
    {
     "name": "stdout",
     "output_type": "stream",
     "text": [
      "PGS PGS004196 успешно рассчитан\n",
      "\n",
      "==========================================\n",
      "Обработка PGS: PGS003438\n",
      "PGS PGS003438, содержит 241 SNP\n",
      "Количество SNP в PGS: 241\n",
      "Количество общих SNP: 29\n",
      "Процент покрытия: 12.03%\n",
      "Выполняем расчет PGS PGS003438\n"
     ]
    },
    {
     "name": "stderr",
     "output_type": "stream",
     "text": [
      "Python(30438) MallocStackLogging: can't turn off malloc stack logging because it was not enabled.\n"
     ]
    },
    {
     "name": "stdout",
     "output_type": "stream",
     "text": [
      "PGS PGS003438 успешно рассчитан\n",
      "\n",
      "==========================================\n",
      "Обработка PGS: PGS004237\n",
      "PGS PGS004237, содержит 1146511 SNP\n",
      "Количество SNP в PGS: 1146511\n",
      "Количество общих SNP: 474392\n",
      "Процент покрытия: 41.38%\n",
      "Выполняем расчет PGS PGS004237\n"
     ]
    },
    {
     "name": "stderr",
     "output_type": "stream",
     "text": [
      "Python(30529) MallocStackLogging: can't turn off malloc stack logging because it was not enabled.\n"
     ]
    },
    {
     "name": "stdout",
     "output_type": "stream",
     "text": [
      "PGS PGS004237 успешно рассчитан\n",
      "\n",
      "==========================================\n",
      "Обработка PGS: PGS004745\n",
      "PGS PGS004745, содержит 4769577 SNP\n",
      "Файл содержит позиционную информацию вместо rsID. Создаем синтетиические идентификаторы.\n",
      "Количество SNP в PGS: 4769577\n",
      "Количество общих SNP: 4560\n",
      "Процент покрытия: 0.10%\n",
      "Выполняем расчет PGS PGS004745\n"
     ]
    },
    {
     "name": "stderr",
     "output_type": "stream",
     "text": [
      "Python(30548) MallocStackLogging: can't turn off malloc stack logging because it was not enabled.\n"
     ]
    },
    {
     "name": "stdout",
     "output_type": "stream",
     "text": [
      "Ошибк при расчете PGS PGS004745 Error: Duplicate variant 'rs7862687' in --score file.\n",
      "\n",
      "\n",
      "==========================================\n",
      "Обработка PGS: PGS000899\n",
      "PGS PGS000899, содержит 176 SNP\n",
      "Количество SNP в PGS: 176\n",
      "Количество общих SNP: 37\n",
      "Процент покрытия: 21.02%\n",
      "Выполняем расчет PGS PGS000899\n"
     ]
    },
    {
     "name": "stderr",
     "output_type": "stream",
     "text": [
      "Python(30560) MallocStackLogging: can't turn off malloc stack logging because it was not enabled.\n"
     ]
    },
    {
     "name": "stdout",
     "output_type": "stream",
     "text": [
      "PGS PGS000899 успешно рассчитан\n",
      "\n",
      "==========================================\n",
      "Обработка PGS: PGS004744\n",
      "PGS PGS004744, содержит 7082943 SNP\n",
      "Файл содержит позиционную информацию вместо rsID. Создаем синтетиические идентификаторы.\n",
      "Количество SNP в PGS: 7082943\n",
      "Количество общих SNP: 6891\n",
      "Процент покрытия: 0.10%\n",
      "Выполняем расчет PGS PGS004744\n"
     ]
    },
    {
     "name": "stderr",
     "output_type": "stream",
     "text": [
      "Python(30578) MallocStackLogging: can't turn off malloc stack logging because it was not enabled.\n"
     ]
    },
    {
     "name": "stdout",
     "output_type": "stream",
     "text": [
      "PGS PGS004744 успешно рассчитан\n",
      "\n",
      "==========================================\n",
      "Обработка PGS: PGS004595\n",
      "PGS PGS004595, содержит 164 SNP\n",
      "Количество SNP в PGS: 164\n",
      "Количество общих SNP: 40\n",
      "Процент покрытия: 24.39%\n",
      "Выполняем расчет PGS PGS004595\n"
     ]
    },
    {
     "name": "stderr",
     "output_type": "stream",
     "text": [
      "Python(30581) MallocStackLogging: can't turn off malloc stack logging because it was not enabled.\n"
     ]
    },
    {
     "name": "stdout",
     "output_type": "stream",
     "text": [
      "PGS PGS004595 успешно рассчитан\n",
      "\n",
      "==========================================\n",
      "Обработка PGS: PGS005112\n",
      "PGS PGS005112, содержит 1106628 SNP\n",
      "Количество SNP в PGS: 1106628\n",
      "Количество общих SNP: 454934\n",
      "Процент покрытия: 41.11%\n",
      "Выполняем расчет PGS PGS005112\n"
     ]
    },
    {
     "name": "stderr",
     "output_type": "stream",
     "text": [
      "Python(30794) MallocStackLogging: can't turn off malloc stack logging because it was not enabled.\n"
     ]
    },
    {
     "name": "stdout",
     "output_type": "stream",
     "text": [
      "PGS PGS005112 успешно рассчитан\n",
      "\n",
      "==========================================\n",
      "Обработка PGS: PGS002244\n",
      "PGS PGS002244, содержит 6576338 SNP\n",
      "Количество SNP в PGS: 6576338\n",
      "Количество общих SNP: 497179\n",
      "Процент покрытия: 7.56%\n",
      "Выполняем расчет PGS PGS002244\n"
     ]
    },
    {
     "name": "stderr",
     "output_type": "stream",
     "text": [
      "Python(30826) MallocStackLogging: can't turn off malloc stack logging because it was not enabled.\n"
     ]
    },
    {
     "name": "stdout",
     "output_type": "stream",
     "text": [
      "PGS PGS002244 успешно рассчитан\n",
      "\n",
      "==========================================\n",
      "Обработка PGS: PGS000057\n",
      "PGS PGS000057, содержит 57 SNP\n",
      "Количество SNP в PGS: 57\n",
      "Количество общих SNP: 19\n",
      "Процент покрытия: 33.33%\n",
      "Выполняем расчет PGS PGS000057\n"
     ]
    },
    {
     "name": "stderr",
     "output_type": "stream",
     "text": [
      "Python(30829) MallocStackLogging: can't turn off malloc stack logging because it was not enabled.\n"
     ]
    },
    {
     "name": "stdout",
     "output_type": "stream",
     "text": [
      "PGS PGS000057 успешно рассчитан\n",
      "\n",
      "==========================================\n",
      "Обработка PGS: PGS000296\n",
      "PGS PGS000296, содержит 6630150 SNP\n",
      "Файл содержит позиционную информацию вместо rsID. Создаем синтетиические идентификаторы.\n",
      "Количество SNP в PGS: 6630150\n",
      "Количество общих SNP: 495928\n",
      "Процент покрытия: 7.48%\n",
      "Выполняем расчет PGS PGS000296\n"
     ]
    },
    {
     "name": "stderr",
     "output_type": "stream",
     "text": [
      "Python(30936) MallocStackLogging: can't turn off malloc stack logging because it was not enabled.\n"
     ]
    },
    {
     "name": "stdout",
     "output_type": "stream",
     "text": [
      "PGS PGS000296 успешно рассчитан\n",
      "\n",
      "==========================================\n",
      "Обработка PGS: PGS004743\n",
      "PGS PGS004743, содержит 3606321 SNP\n",
      "Файл содержит позиционную информацию вместо rsID. Создаем синтетиические идентификаторы.\n",
      "Количество SNP в PGS: 3606321\n",
      "Количество общих SNP: 3853\n",
      "Процент покрытия: 0.11%\n",
      "Выполняем расчет PGS PGS004743\n"
     ]
    },
    {
     "name": "stderr",
     "output_type": "stream",
     "text": [
      "Python(30954) MallocStackLogging: can't turn off malloc stack logging because it was not enabled.\n"
     ]
    },
    {
     "name": "stdout",
     "output_type": "stream",
     "text": [
      "Ошибк при расчете PGS PGS004743 Error: Duplicate variant 'rs7862687' in --score file.\n",
      "\n",
      "\n",
      "==========================================\n",
      "Обработка PGS: PGS004596\n",
      "PGS PGS004596, содержит 64 SNP\n",
      "Количество SNP в PGS: 64\n",
      "Количество общих SNP: 24\n",
      "Процент покрытия: 37.50%\n",
      "Выполняем расчет PGS PGS004596\n"
     ]
    },
    {
     "name": "stderr",
     "output_type": "stream",
     "text": [
      "Python(30956) MallocStackLogging: can't turn off malloc stack logging because it was not enabled.\n"
     ]
    },
    {
     "name": "stdout",
     "output_type": "stream",
     "text": [
      "PGS PGS004596 успешно рассчитан\n",
      "\n",
      "==========================================\n",
      "Обработка PGS: PGS000337\n",
      "PGS PGS000337, содержит 75028 SNP\n",
      "Файл содержит позиционную информацию вместо rsID. Создаем синтетиические идентификаторы.\n",
      "Количество SNP в PGS: 75028\n",
      "Количество общих SNP: 10154\n",
      "Процент покрытия: 13.53%\n",
      "Выполняем расчет PGS PGS000337\n"
     ]
    },
    {
     "name": "stderr",
     "output_type": "stream",
     "text": [
      "Python(30957) MallocStackLogging: can't turn off malloc stack logging because it was not enabled.\n"
     ]
    },
    {
     "name": "stdout",
     "output_type": "stream",
     "text": [
      "PGS PGS000337 успешно рассчитан\n",
      "\n",
      "==========================================\n",
      "Обработка PGS: PGS004309\n",
      "PGS PGS004309, содержит 3000 SNP\n",
      "Файл содержит позиционную информацию вместо rsID. Создаем синтетиические идентификаторы.\n",
      "Количество SNP в PGS: 3000\n",
      "Количество общих SNP: 1174\n",
      "Процент покрытия: 39.13%\n",
      "Выполняем расчет PGS PGS004309\n"
     ]
    },
    {
     "name": "stderr",
     "output_type": "stream",
     "text": [
      "Python(30958) MallocStackLogging: can't turn off malloc stack logging because it was not enabled.\n"
     ]
    },
    {
     "name": "stdout",
     "output_type": "stream",
     "text": [
      "PGS PGS004309 успешно рассчитан\n",
      "\n",
      "==========================================\n",
      "Обработка PGS: PGS004321\n",
      "PGS PGS004321, содержит 27 SNP\n",
      "Количество SNP в PGS: 27\n",
      "Количество общих SNP: 14\n",
      "Процент покрытия: 51.85%\n",
      "Выполняем расчет PGS PGS004321\n"
     ]
    },
    {
     "name": "stderr",
     "output_type": "stream",
     "text": [
      "Python(30959) MallocStackLogging: can't turn off malloc stack logging because it was not enabled.\n"
     ]
    },
    {
     "name": "stdout",
     "output_type": "stream",
     "text": [
      "PGS PGS004321 успешно рассчитан\n",
      "\n",
      "==========================================\n",
      "Обработка PGS: PGS004888\n",
      "PGS PGS004888, содержит 1110046 SNP\n",
      "Файл содержит позиционную информацию вместо rsID. Создаем синтетиические идентификаторы.\n",
      "Количество SNP в PGS: 1110046\n",
      "Количество общих SNP: 453801\n",
      "Процент покрытия: 40.88%\n",
      "Выполняем расчет PGS PGS004888\n"
     ]
    },
    {
     "name": "stderr",
     "output_type": "stream",
     "text": [
      "Python(30978) MallocStackLogging: can't turn off malloc stack logging because it was not enabled.\n"
     ]
    },
    {
     "name": "stdout",
     "output_type": "stream",
     "text": [
      "PGS PGS004888 успешно рассчитан\n",
      "\n",
      "==========================================\n",
      "Обработка PGS: PGS004308\n",
      "PGS PGS004308, содержит 1500 SNP\n",
      "Файл содержит позиционную информацию вместо rsID. Создаем синтетиические идентификаторы.\n",
      "Количество SNP в PGS: 1500\n",
      "Количество общих SNP: 584\n",
      "Процент покрытия: 38.93%\n",
      "Выполняем расчет PGS PGS004308\n"
     ]
    },
    {
     "name": "stderr",
     "output_type": "stream",
     "text": [
      "Python(30982) MallocStackLogging: can't turn off malloc stack logging because it was not enabled.\n"
     ]
    },
    {
     "name": "stdout",
     "output_type": "stream",
     "text": [
      "PGS PGS004308 успешно рассчитан\n",
      "\n",
      "==========================================\n",
      "Обработка PGS: PGS000018\n",
      "PGS PGS000018, содержит 1745179 SNP\n",
      "Количество SNP в PGS: 1745179\n",
      "Количество общих SNP: 129619\n",
      "Процент покрытия: 7.43%\n",
      "Выполняем расчет PGS PGS000018\n"
     ]
    },
    {
     "name": "stderr",
     "output_type": "stream",
     "text": [
      "Python(30984) MallocStackLogging: can't turn off malloc stack logging because it was not enabled.\n"
     ]
    },
    {
     "name": "stdout",
     "output_type": "stream",
     "text": [
      "PGS PGS000018 успешно рассчитан\n",
      "\n",
      "==========================================\n",
      "Обработка PGS: PGS004444\n",
      "PGS PGS004444, содержит 1059939 SNP\n",
      "Количество SNP в PGS: 1059939\n",
      "Количество общих SNP: 442559\n",
      "Процент покрытия: 41.75%\n",
      "Выполняем расчет PGS PGS004444\n"
     ]
    },
    {
     "name": "stderr",
     "output_type": "stream",
     "text": [
      "Python(31075) MallocStackLogging: can't turn off malloc stack logging because it was not enabled.\n"
     ]
    },
    {
     "name": "stdout",
     "output_type": "stream",
     "text": [
      "PGS PGS004444 успешно рассчитан\n",
      "\n",
      "==========================================\n",
      "Обработка PGS: PGS000019\n",
      "PGS PGS000019, содержит 192 SNP\n",
      "Количество SNP в PGS: 192\n",
      "Количество общих SNP: 26\n",
      "Процент покрытия: 13.54%\n",
      "Выполняем расчет PGS PGS000019\n"
     ]
    },
    {
     "name": "stderr",
     "output_type": "stream",
     "text": [
      "Python(31077) MallocStackLogging: can't turn off malloc stack logging because it was not enabled.\n"
     ]
    },
    {
     "name": "stdout",
     "output_type": "stream",
     "text": [
      "PGS PGS000019 успешно рассчитан\n",
      "\n",
      "==========================================\n",
      "Обработка PGS: PGS000747\n",
      "PGS PGS000747, содержит 375822 SNP\n",
      "Файл содержит позиционную информацию вместо rsID. Создаем синтетиические идентификаторы.\n",
      "Количество SNP в PGS: 375822\n",
      "Количество общих SNP: 31294\n",
      "Процент покрытия: 8.33%\n",
      "Выполняем расчет PGS PGS000747\n"
     ]
    },
    {
     "name": "stderr",
     "output_type": "stream",
     "text": [
      "Python(31087) MallocStackLogging: can't turn off malloc stack logging because it was not enabled.\n"
     ]
    },
    {
     "name": "stdout",
     "output_type": "stream",
     "text": [
      "PGS PGS000747 успешно рассчитан\n",
      "\n",
      "==========================================\n",
      "Обработка PGS: PGS000746\n",
      "PGS PGS000746, содержит 1940 SNP\n",
      "Файл содержит позиционную информацию вместо rsID. Создаем синтетиические идентификаторы.\n",
      "Количество SNP в PGS: 1940\n",
      "Количество общих SNP: 232\n",
      "Процент покрытия: 11.96%\n",
      "Выполняем расчет PGS PGS000746\n"
     ]
    },
    {
     "name": "stderr",
     "output_type": "stream",
     "text": [
      "Python(31088) MallocStackLogging: can't turn off malloc stack logging because it was not enabled.\n"
     ]
    },
    {
     "name": "stdout",
     "output_type": "stream",
     "text": [
      "PGS PGS000746 успешно рассчитан\n",
      "\n",
      "==========================================\n",
      "Обработка PGS: PGS004697\n",
      "PGS PGS004697, содержит 1120251 SNP\n",
      "Количество SNP в PGS: 1120251\n",
      "Количество общих SNP: 456041\n",
      "Процент покрытия: 40.71%\n",
      "Выполняем расчет PGS PGS004697\n"
     ]
    },
    {
     "name": "stderr",
     "output_type": "stream",
     "text": [
      "Python(31112) MallocStackLogging: can't turn off malloc stack logging because it was not enabled.\n"
     ]
    },
    {
     "name": "stdout",
     "output_type": "stream",
     "text": [
      "PGS PGS004697 успешно рассчитан\n",
      "\n",
      "==========================================\n",
      "Обработка PGS: PGS004899\n",
      "PGS PGS004899, содержит 7 SNP\n",
      "Количество SNP в PGS: 7\n",
      "Количество общих SNP: 0\n",
      "Процент покрытия: 0.00%\n",
      "нет общих SNP для PGS004899\n",
      "\n",
      "==========================================\n",
      "Обработка PGS: PGS004696\n",
      "PGS PGS004696, содержит 1289980 SNP\n",
      "Количество SNP в PGS: 1289980\n",
      "Количество общих SNP: 456450\n",
      "Процент покрытия: 35.38%\n",
      "Выполняем расчет PGS PGS004696\n"
     ]
    },
    {
     "name": "stderr",
     "output_type": "stream",
     "text": [
      "Python(31138) MallocStackLogging: can't turn off malloc stack logging because it was not enabled.\n"
     ]
    },
    {
     "name": "stdout",
     "output_type": "stream",
     "text": [
      "PGS PGS004696 успешно рассчитан\n",
      "\n",
      "==========================================\n",
      "Обработка PGS: PGS004443\n",
      "PGS PGS004443, содержит 1059939 SNP\n",
      "Количество SNP в PGS: 1059939\n",
      "Количество общих SNP: 442559\n",
      "Процент покрытия: 41.75%\n",
      "Выполняем расчет PGS PGS004443\n"
     ]
    },
    {
     "name": "stderr",
     "output_type": "stream",
     "text": [
      "Python(31142) MallocStackLogging: can't turn off malloc stack logging because it was not enabled.\n"
     ]
    },
    {
     "name": "stdout",
     "output_type": "stream",
     "text": [
      "PGS PGS004443 успешно рассчитан\n",
      "\n",
      "==========================================\n",
      "Обработка PGS: PGS000962\n",
      "PGS PGS000962, содержит 2168 SNP\n",
      "Количество SNP в PGS: 2168\n",
      "Количество общих SNP: 444\n",
      "Процент покрытия: 20.48%\n",
      "Выполняем расчет PGS PGS000962\n"
     ]
    },
    {
     "name": "stderr",
     "output_type": "stream",
     "text": [
      "Python(31143) MallocStackLogging: can't turn off malloc stack logging because it was not enabled.\n"
     ]
    },
    {
     "name": "stdout",
     "output_type": "stream",
     "text": [
      "PGS PGS000962 успешно рассчитан\n"
     ]
    },
    {
     "name": "stderr",
     "output_type": "stream",
     "text": [
      "/Users/daklo/for_dipl/pgs_calculator.py:139: SettingWithCopyWarning: \n",
      "A value is trying to be set on a copy of a slice from a DataFrame.\n",
      "Try using .loc[row_indexer,col_indexer] = value instead\n",
      "\n",
      "See the caveats in the documentation: https://pandas.pydata.org/pandas-docs/stable/user_guide/indexing.html#returning-a-view-versus-a-copy\n",
      "  combined[pgs_name] = df['SCORE']\n",
      "/Users/daklo/for_dipl/pgs_calculator.py:139: SettingWithCopyWarning: \n",
      "A value is trying to be set on a copy of a slice from a DataFrame.\n",
      "Try using .loc[row_indexer,col_indexer] = value instead\n",
      "\n",
      "See the caveats in the documentation: https://pandas.pydata.org/pandas-docs/stable/user_guide/indexing.html#returning-a-view-versus-a-copy\n",
      "  combined[pgs_name] = df['SCORE']\n",
      "/Users/daklo/for_dipl/pgs_calculator.py:139: SettingWithCopyWarning: \n",
      "A value is trying to be set on a copy of a slice from a DataFrame.\n",
      "Try using .loc[row_indexer,col_indexer] = value instead\n",
      "\n",
      "See the caveats in the documentation: https://pandas.pydata.org/pandas-docs/stable/user_guide/indexing.html#returning-a-view-versus-a-copy\n",
      "  combined[pgs_name] = df['SCORE']\n"
     ]
    },
    {
     "name": "stdout",
     "output_type": "stream",
     "text": [
      "Объеденены PGS для 896 образцов и 73 PGS\n",
      "Сохраняю в ./pgs_results_calculated/train_4_pgs.csv\n",
      "1\n",
      "файл ./test_4.bim, содержит 591998 SNP\n",
      "Найдено 76 PGS\n",
      "\n",
      "==========================================\n",
      "Обработка PGS: PGS003725\n",
      "PGS PGS003725, содержит 1296172 SNP\n",
      "Файл содержит позиционную информацию вместо rsID. Создаем синтетиические идентификаторы.\n",
      "Количество SNP в PGS: 1296172\n",
      "Количество общих SNP: 456468\n",
      "Процент покрытия: 35.22%\n",
      "Выполняем расчет PGS PGS003725\n"
     ]
    },
    {
     "name": "stderr",
     "output_type": "stream",
     "text": [
      "Python(31252) MallocStackLogging: can't turn off malloc stack logging because it was not enabled.\n"
     ]
    },
    {
     "name": "stdout",
     "output_type": "stream",
     "text": [
      "PGS PGS003725 успешно рассчитан\n",
      "\n",
      "==========================================\n",
      "Обработка PGS: PGS000748\n",
      "PGS PGS000748, содержит 3423987 SNP\n",
      "Файл содержит позиционную информацию вместо rsID. Создаем синтетиические идентификаторы.\n",
      "Количество SNP в PGS: 3423987\n",
      "Количество общих SNP: 416579\n",
      "Процент покрытия: 12.17%\n",
      "Выполняем расчет PGS PGS000748\n"
     ]
    },
    {
     "name": "stderr",
     "output_type": "stream",
     "text": [
      "Python(31276) MallocStackLogging: can't turn off malloc stack logging because it was not enabled.\n"
     ]
    },
    {
     "name": "stdout",
     "output_type": "stream",
     "text": [
      "PGS PGS000748 успешно рассчитан\n",
      "\n",
      "==========================================\n",
      "Обработка PGS: PGS000012\n",
      "PGS PGS000012, содержит 49310 SNP\n",
      "Количество SNP в PGS: 49310\n",
      "Количество общих SNP: 15881\n",
      "Процент покрытия: 32.21%\n",
      "Выполняем расчет PGS PGS000012\n"
     ]
    },
    {
     "name": "stderr",
     "output_type": "stream",
     "text": [
      "Python(31279) MallocStackLogging: can't turn off malloc stack logging because it was not enabled.\n"
     ]
    },
    {
     "name": "stdout",
     "output_type": "stream",
     "text": [
      "PGS PGS000012 успешно рассчитан\n",
      "\n",
      "==========================================\n",
      "Обработка PGS: PGS003446\n",
      "PGS PGS003446, содержит 538084 SNP\n",
      "Файл содержит позиционную информацию вместо rsID. Создаем синтетиические идентификаторы.\n",
      "Количество SNP в PGS: 538084\n",
      "Количество общих SNP: 25529\n",
      "Процент покрытия: 4.74%\n",
      "Выполняем расчет PGS PGS003446\n"
     ]
    },
    {
     "name": "stderr",
     "output_type": "stream",
     "text": [
      "Python(31282) MallocStackLogging: can't turn off malloc stack logging because it was not enabled.\n"
     ]
    },
    {
     "name": "stdout",
     "output_type": "stream",
     "text": [
      "PGS PGS003446 успешно рассчитан\n",
      "\n",
      "==========================================\n",
      "Обработка PGS: PGS004513\n",
      "PGS PGS004513, содержит 1059939 SNP\n",
      "Количество SNP в PGS: 1059939\n",
      "Количество общих SNP: 442559\n",
      "Процент покрытия: 41.75%\n",
      "Выполняем расчет PGS PGS004513\n"
     ]
    },
    {
     "name": "stderr",
     "output_type": "stream",
     "text": [
      "Python(31382) MallocStackLogging: can't turn off malloc stack logging because it was not enabled.\n"
     ]
    },
    {
     "name": "stdout",
     "output_type": "stream",
     "text": [
      "PGS PGS004513 успешно рассчитан\n",
      "\n",
      "==========================================\n",
      "Обработка PGS: PGS000013\n",
      "PGS PGS000013, содержит 6630150 SNP\n",
      "Файл содержит позиционную информацию вместо rsID. Создаем синтетиические идентификаторы.\n",
      "Количество SNP в PGS: 6630150\n",
      "Количество общих SNP: 495928\n",
      "Процент покрытия: 7.48%\n",
      "Выполняем расчет PGS PGS000013\n"
     ]
    },
    {
     "name": "stderr",
     "output_type": "stream",
     "text": [
      "Python(31406) MallocStackLogging: can't turn off malloc stack logging because it was not enabled.\n"
     ]
    },
    {
     "name": "stdout",
     "output_type": "stream",
     "text": [
      "PGS PGS000013 успешно рассчитан\n",
      "\n",
      "==========================================\n",
      "Обработка PGS: PGS005143\n",
      "PGS PGS005143, содержит 943274 SNP\n",
      "Количество SNP в PGS: 943274\n",
      "Количество общих SNP: 395304\n",
      "Процент покрытия: 41.91%\n",
      "Выполняем расчет PGS PGS005143\n"
     ]
    },
    {
     "name": "stderr",
     "output_type": "stream",
     "text": [
      "Python(31496) MallocStackLogging: can't turn off malloc stack logging because it was not enabled.\n"
     ]
    },
    {
     "name": "stdout",
     "output_type": "stream",
     "text": [
      "PGS PGS005143 успешно рассчитан\n",
      "\n",
      "==========================================\n",
      "Обработка PGS: PGS003726\n",
      "PGS PGS003726, содержит 1296172 SNP\n",
      "Файл содержит позиционную информацию вместо rsID. Создаем синтетиические идентификаторы.\n",
      "Количество SNP в PGS: 1296172\n",
      "Количество общих SNP: 456468\n",
      "Процент покрытия: 35.22%\n",
      "Выполняем расчет PGS PGS003726\n"
     ]
    },
    {
     "name": "stderr",
     "output_type": "stream",
     "text": [
      "Python(31512) MallocStackLogging: can't turn off malloc stack logging because it was not enabled.\n"
     ]
    },
    {
     "name": "stdout",
     "output_type": "stream",
     "text": [
      "PGS PGS003726 успешно рассчитан\n",
      "\n",
      "==========================================\n",
      "Обработка PGS: PGS002809\n",
      "PGS PGS002809, содержит 205 SNP\n",
      "Количество SNP в PGS: 205\n",
      "Количество общих SNP: 48\n",
      "Процент покрытия: 23.41%\n",
      "Выполняем расчет PGS PGS002809\n"
     ]
    },
    {
     "name": "stderr",
     "output_type": "stream",
     "text": [
      "Python(31513) MallocStackLogging: can't turn off malloc stack logging because it was not enabled.\n"
     ]
    },
    {
     "name": "stdout",
     "output_type": "stream",
     "text": [
      "PGS PGS002809 успешно рассчитан\n",
      "\n",
      "==========================================\n",
      "Обработка PGS: PGS000011\n",
      "PGS PGS000011, содержит 50 SNP\n",
      "Количество SNP в PGS: 50\n",
      "Количество общих SNP: 22\n",
      "Процент покрытия: 44.00%\n",
      "Выполняем расчет PGS PGS000011\n"
     ]
    },
    {
     "name": "stderr",
     "output_type": "stream",
     "text": [
      "Python(31514) MallocStackLogging: can't turn off malloc stack logging because it was not enabled.\n"
     ]
    },
    {
     "name": "stdout",
     "output_type": "stream",
     "text": [
      "PGS PGS000011 успешно рассчитан\n",
      "\n",
      "==========================================\n",
      "Обработка PGS: PGS000818\n",
      "PGS PGS000818, содержит 138 SNP\n",
      "Количество SNP в PGS: 138\n",
      "Количество общих SNP: 42\n",
      "Процент покрытия: 30.43%\n",
      "Выполняем расчет PGS PGS000818\n"
     ]
    },
    {
     "name": "stderr",
     "output_type": "stream",
     "text": [
      "Python(31515) MallocStackLogging: can't turn off malloc stack logging because it was not enabled.\n"
     ]
    },
    {
     "name": "stdout",
     "output_type": "stream",
     "text": [
      "PGS PGS000818 успешно рассчитан\n",
      "\n",
      "==========================================\n",
      "Обработка PGS: PGS004698\n",
      "PGS PGS004698, содержит 542218 SNP\n",
      "Файл содержит позиционную информацию вместо rsID. Создаем синтетиические идентификаторы.\n",
      "Количество SNP в PGS: 542218\n",
      "Количество общих SNP: 26884\n",
      "Процент покрытия: 4.96%\n",
      "Выполняем расчет PGS PGS004698\n"
     ]
    },
    {
     "name": "stderr",
     "output_type": "stream",
     "text": [
      "Python(31524) MallocStackLogging: can't turn off malloc stack logging because it was not enabled.\n"
     ]
    },
    {
     "name": "stdout",
     "output_type": "stream",
     "text": [
      "PGS PGS004698 успешно рассчитан\n",
      "\n",
      "==========================================\n",
      "Обработка PGS: PGS000010\n",
      "PGS PGS000010, содержит 27 SNP\n",
      "Количество SNP в PGS: 27\n",
      "Количество общих SNP: 14\n",
      "Процент покрытия: 51.85%\n",
      "Выполняем расчет PGS PGS000010\n"
     ]
    },
    {
     "name": "stderr",
     "output_type": "stream",
     "text": [
      "Python(31525) MallocStackLogging: can't turn off malloc stack logging because it was not enabled.\n"
     ]
    },
    {
     "name": "stdout",
     "output_type": "stream",
     "text": [
      "PGS PGS000010 успешно рассчитан\n",
      "\n",
      "==========================================\n",
      "Обработка PGS: PGS003727\n",
      "PGS PGS003727, содержит 1125113 SNP\n",
      "Файл содержит позиционную информацию вместо rsID. Создаем синтетиические идентификаторы.\n",
      "Количество SNP в PGS: 1125113\n",
      "Количество общих SNP: 455311\n",
      "Процент покрытия: 40.47%\n",
      "Выполняем расчет PGS PGS003727\n"
     ]
    },
    {
     "name": "stderr",
     "output_type": "stream",
     "text": [
      "Python(31543) MallocStackLogging: can't turn off malloc stack logging because it was not enabled.\n"
     ]
    },
    {
     "name": "stdout",
     "output_type": "stream",
     "text": [
      "PGS PGS003727 успешно рассчитан\n",
      "\n",
      "==========================================\n",
      "Обработка PGS: PGS004921\n",
      "PGS PGS004921, содержит 161 SNP\n",
      "Количество SNP в PGS: 161\n",
      "Количество общих SNP: 30\n",
      "Процент покрытия: 18.63%\n",
      "Выполняем расчет PGS PGS004921\n"
     ]
    },
    {
     "name": "stderr",
     "output_type": "stream",
     "text": [
      "Python(31545) MallocStackLogging: can't turn off malloc stack logging because it was not enabled.\n"
     ]
    },
    {
     "name": "stdout",
     "output_type": "stream",
     "text": [
      "PGS PGS004921 успешно рассчитан\n",
      "\n",
      "==========================================\n",
      "Обработка PGS: PGS004919\n",
      "PGS PGS004919, содержит 50 SNP\n",
      "Количество SNP в PGS: 50\n",
      "Количество общих SNP: 22\n",
      "Процент покрытия: 44.00%\n",
      "Выполняем расчет PGS PGS004919\n"
     ]
    },
    {
     "name": "stderr",
     "output_type": "stream",
     "text": [
      "Python(31546) MallocStackLogging: can't turn off malloc stack logging because it was not enabled.\n"
     ]
    },
    {
     "name": "stdout",
     "output_type": "stream",
     "text": [
      "PGS PGS004919 успешно рассчитан\n",
      "\n",
      "==========================================\n",
      "Обработка PGS: PGS004925\n",
      "PGS PGS004925, содержит 300 SNP\n",
      "Количество SNP в PGS: 300\n",
      "Количество общих SNP: 46\n",
      "Процент покрытия: 15.33%\n",
      "Выполняем расчет PGS PGS004925\n"
     ]
    },
    {
     "name": "stderr",
     "output_type": "stream",
     "text": [
      "Python(31547) MallocStackLogging: can't turn off malloc stack logging because it was not enabled.\n"
     ]
    },
    {
     "name": "stdout",
     "output_type": "stream",
     "text": [
      "PGS PGS004925 успешно рассчитан\n",
      "\n",
      "==========================================\n",
      "Обработка PGS: PGS004514\n",
      "PGS PGS004514, содержит 1059939 SNP\n",
      "Количество SNP в PGS: 1059939\n",
      "Количество общих SNP: 442559\n",
      "Процент покрытия: 41.75%\n",
      "Выполняем расчет PGS PGS004514\n"
     ]
    },
    {
     "name": "stderr",
     "output_type": "stream",
     "text": [
      "Python(31553) MallocStackLogging: can't turn off malloc stack logging because it was not enabled.\n"
     ]
    },
    {
     "name": "stdout",
     "output_type": "stream",
     "text": [
      "PGS PGS004514 успешно рассчитан\n",
      "\n",
      "==========================================\n",
      "Обработка PGS: PGS004306\n",
      "PGS PGS004306, содержит 4000 SNP\n",
      "Файл содержит позиционную информацию вместо rsID. Создаем синтетиические идентификаторы.\n",
      "Количество SNP в PGS: 4000\n",
      "Количество общих SNP: 1576\n",
      "Процент покрытия: 39.40%\n",
      "Выполняем расчет PGS PGS004306\n"
     ]
    },
    {
     "name": "stderr",
     "output_type": "stream",
     "text": [
      "Python(31554) MallocStackLogging: can't turn off malloc stack logging because it was not enabled.\n"
     ]
    },
    {
     "name": "stdout",
     "output_type": "stream",
     "text": [
      "PGS PGS004306 успешно рассчитан\n",
      "\n",
      "==========================================\n",
      "Обработка PGS: PGS004879\n",
      "PGS PGS004879, содержит 610677 SNP\n",
      "Количество SNP в PGS: 610677\n",
      "Количество общих SNP: 259008\n",
      "Процент покрытия: 42.41%\n",
      "Выполняем расчет PGS PGS004879\n"
     ]
    },
    {
     "name": "stderr",
     "output_type": "stream",
     "text": [
      "Python(31641) MallocStackLogging: can't turn off malloc stack logging because it was not enabled.\n"
     ]
    },
    {
     "name": "stdout",
     "output_type": "stream",
     "text": [
      "PGS PGS004879 успешно рассчитан\n",
      "\n",
      "==========================================\n",
      "Обработка PGS: PGS004307\n",
      "PGS PGS004307, содержит 4000 SNP\n",
      "Файл содержит позиционную информацию вместо rsID. Создаем синтетиические идентификаторы.\n",
      "Количество SNP в PGS: 4000\n",
      "Количество общих SNP: 1596\n",
      "Процент покрытия: 39.90%\n",
      "Выполняем расчет PGS PGS004307\n"
     ]
    },
    {
     "name": "stderr",
     "output_type": "stream",
     "text": [
      "Python(31642) MallocStackLogging: can't turn off malloc stack logging because it was not enabled.\n"
     ]
    },
    {
     "name": "stdout",
     "output_type": "stream",
     "text": [
      "PGS PGS004307 успешно рассчитан\n",
      "\n",
      "==========================================\n",
      "Обработка PGS: PGS002776\n",
      "PGS PGS002776, содержит 390782 SNP\n",
      "Количество SNP в PGS: 390782\n",
      "Количество общих SNP: 44688\n",
      "Процент покрытия: 11.44%\n",
      "Выполняем расчет PGS PGS002776\n"
     ]
    },
    {
     "name": "stderr",
     "output_type": "stream",
     "text": [
      "Python(31656) MallocStackLogging: can't turn off malloc stack logging because it was not enabled.\n"
     ]
    },
    {
     "name": "stdout",
     "output_type": "stream",
     "text": [
      "PGS PGS002776 успешно рассчитан\n",
      "\n",
      "==========================================\n",
      "Обработка PGS: PGS000798\n",
      "PGS PGS000798, содержит 157 SNP\n",
      "Количество SNP в PGS: 157\n",
      "Количество общих SNP: 29\n",
      "Процент покрытия: 18.47%\n",
      "Выполняем расчет PGS PGS000798\n"
     ]
    },
    {
     "name": "stderr",
     "output_type": "stream",
     "text": [
      "Python(31657) MallocStackLogging: can't turn off malloc stack logging because it was not enabled.\n"
     ]
    },
    {
     "name": "stdout",
     "output_type": "stream",
     "text": [
      "PGS PGS000798 успешно рассчитан\n",
      "\n",
      "==========================================\n",
      "Обработка PGS: PGS004305\n",
      "PGS PGS004305, содержит 3000 SNP\n",
      "Файл содержит позиционную информацию вместо rsID. Создаем синтетиические идентификаторы.\n",
      "Количество SNP в PGS: 3000\n",
      "Количество общих SNP: 1127\n",
      "Процент покрытия: 37.57%\n",
      "Выполняем расчет PGS PGS004305\n"
     ]
    },
    {
     "name": "stderr",
     "output_type": "stream",
     "text": [
      "Python(31658) MallocStackLogging: can't turn off malloc stack logging because it was not enabled.\n"
     ]
    },
    {
     "name": "stdout",
     "output_type": "stream",
     "text": [
      "PGS PGS004305 успешно рассчитан\n",
      "\n",
      "==========================================\n",
      "Обработка PGS: PGS000349\n",
      "PGS PGS000349, содержит 70 SNP\n",
      "Количество SNP в PGS: 70\n",
      "Количество общих SNP: 24\n",
      "Процент покрытия: 34.29%\n",
      "Выполняем расчет PGS PGS000349\n"
     ]
    },
    {
     "name": "stderr",
     "output_type": "stream",
     "text": [
      "Python(31659) MallocStackLogging: can't turn off malloc stack logging because it was not enabled.\n"
     ]
    },
    {
     "name": "stdout",
     "output_type": "stream",
     "text": [
      "PGS PGS000349 успешно рассчитан\n",
      "\n",
      "==========================================\n",
      "Обработка PGS: PGS003866\n",
      "PGS PGS003866, содержит 10440 SNP\n",
      "Количество SNP в PGS: 10440\n",
      "Количество общих SNP: 4335\n",
      "Процент покрытия: 41.52%\n",
      "Выполняем расчет PGS PGS003866\n"
     ]
    },
    {
     "name": "stderr",
     "output_type": "stream",
     "text": [
      "Python(31660) MallocStackLogging: can't turn off malloc stack logging because it was not enabled.\n"
     ]
    },
    {
     "name": "stdout",
     "output_type": "stream",
     "text": [
      "PGS PGS003866 успешно рассчитан\n",
      "\n",
      "==========================================\n",
      "Обработка PGS: PGS002775\n",
      "PGS PGS002775, содержит 1059 SNP\n",
      "Количество SNP в PGS: 1059\n",
      "Количество общих SNP: 180\n",
      "Процент покрытия: 17.00%\n",
      "Выполняем расчет PGS PGS002775\n"
     ]
    },
    {
     "name": "stderr",
     "output_type": "stream",
     "text": [
      "Python(31661) MallocStackLogging: can't turn off malloc stack logging because it was not enabled.\n"
     ]
    },
    {
     "name": "stdout",
     "output_type": "stream",
     "text": [
      "PGS PGS002775 успешно рассчитан\n",
      "\n",
      "==========================================\n",
      "Обработка PGS: PGS005152\n",
      "PGS PGS005152, содержит 943274 SNP\n",
      "Количество SNP в PGS: 943274\n",
      "Количество общих SNP: 395304\n",
      "Процент покрытия: 41.91%\n",
      "Выполняем расчет PGS PGS005152\n"
     ]
    },
    {
     "name": "stderr",
     "output_type": "stream",
     "text": [
      "Python(31665) MallocStackLogging: can't turn off malloc stack logging because it was not enabled.\n"
     ]
    },
    {
     "name": "stdout",
     "output_type": "stream",
     "text": [
      "PGS PGS005152 успешно рассчитан\n",
      "\n",
      "==========================================\n",
      "Обработка PGS: PGS000200\n",
      "PGS PGS000200, содержит 28 SNP\n",
      "Количество SNP в PGS: 28\n",
      "Количество общих SNP: 15\n",
      "Процент покрытия: 53.57%\n",
      "Выполняем расчет PGS PGS000200\n"
     ]
    },
    {
     "name": "stderr",
     "output_type": "stream",
     "text": [
      "Python(31666) MallocStackLogging: can't turn off malloc stack logging because it was not enabled.\n"
     ]
    },
    {
     "name": "stdout",
     "output_type": "stream",
     "text": [
      "PGS PGS000200 успешно рассчитан\n",
      "\n",
      "==========================================\n",
      "Обработка PGS: PGS000059\n",
      "PGS PGS000059, содержит 46 SNP\n",
      "Количество SNP в PGS: 46\n",
      "Количество общих SNP: 18\n",
      "Процент покрытия: 39.13%\n",
      "Выполняем расчет PGS PGS000059\n"
     ]
    },
    {
     "name": "stderr",
     "output_type": "stream",
     "text": [
      "Python(31667) MallocStackLogging: can't turn off malloc stack logging because it was not enabled.\n"
     ]
    },
    {
     "name": "stdout",
     "output_type": "stream",
     "text": [
      "PGS PGS000059 успешно рассчитан\n",
      "\n",
      "==========================================\n",
      "Обработка PGS: PGS003356\n",
      "PGS PGS003356, содержит 2324683 SNP\n",
      "Файл содержит позиционную информацию вместо rsID. Создаем синтетиические идентификаторы.\n",
      "Количество SNP в PGS: 2324683\n",
      "Количество общих SNP: 497605\n",
      "Процент покрытия: 21.41%\n",
      "Выполняем расчет PGS PGS003356\n"
     ]
    },
    {
     "name": "stderr",
     "output_type": "stream",
     "text": [
      "Python(31698) MallocStackLogging: can't turn off malloc stack logging because it was not enabled.\n"
     ]
    },
    {
     "name": "stdout",
     "output_type": "stream",
     "text": [
      "PGS PGS003356 успешно рассчитан\n",
      "\n",
      "==========================================\n",
      "Обработка PGS: PGS002048\n",
      "PGS PGS002048, содержит 762124 SNP\n",
      "Количество SNP в PGS: 762124\n",
      "Количество общих SNP: 322896\n",
      "Процент покрытия: 42.37%\n",
      "Выполняем расчет PGS PGS002048\n"
     ]
    },
    {
     "name": "stderr",
     "output_type": "stream",
     "text": [
      "Python(31703) MallocStackLogging: can't turn off malloc stack logging because it was not enabled.\n"
     ]
    },
    {
     "name": "stdout",
     "output_type": "stream",
     "text": [
      "PGS PGS002048 успешно рассчитан\n",
      "\n",
      "==========================================\n",
      "Обработка PGS: PGS001780\n",
      "PGS PGS001780, содержит 1090048 SNP\n",
      "Количество SNP в PGS: 1090048\n",
      "Количество общих SNP: 450206\n",
      "Процент покрытия: 41.30%\n",
      "Выполняем расчет PGS PGS001780\n"
     ]
    },
    {
     "name": "stderr",
     "output_type": "stream",
     "text": [
      "Python(31807) MallocStackLogging: can't turn off malloc stack logging because it was not enabled.\n"
     ]
    },
    {
     "name": "stdout",
     "output_type": "stream",
     "text": [
      "PGS PGS001780 успешно рассчитан\n",
      "\n",
      "==========================================\n",
      "Обработка PGS: PGS002262\n",
      "PGS PGS002262, содержит 540 SNP\n",
      "Количество SNP в PGS: 540\n",
      "Количество общих SNP: 136\n",
      "Процент покрытия: 25.19%\n",
      "Выполняем расчет PGS PGS002262\n"
     ]
    },
    {
     "name": "stderr",
     "output_type": "stream",
     "text": [
      "Python(31808) MallocStackLogging: can't turn off malloc stack logging because it was not enabled.\n"
     ]
    },
    {
     "name": "stdout",
     "output_type": "stream",
     "text": [
      "PGS PGS002262 успешно рассчитан\n",
      "\n",
      "==========================================\n",
      "Обработка PGS: PGS000058\n",
      "PGS PGS000058, содержит 204 SNP\n",
      "Количество SNP в PGS: 204\n",
      "Количество общих SNP: 41\n",
      "Процент покрытия: 20.10%\n",
      "Выполняем расчет PGS PGS000058\n"
     ]
    },
    {
     "name": "stderr",
     "output_type": "stream",
     "text": [
      "Python(31809) MallocStackLogging: can't turn off malloc stack logging because it was not enabled.\n"
     ]
    },
    {
     "name": "stdout",
     "output_type": "stream",
     "text": [
      "PGS PGS000058 успешно рассчитан\n",
      "\n",
      "==========================================\n",
      "Обработка PGS: PGS001839\n",
      "PGS PGS001839, содержит 25425 SNP\n",
      "Количество SNP в PGS: 25425\n",
      "Количество общих SNP: 11260\n",
      "Процент покрытия: 44.29%\n",
      "Выполняем расчет PGS PGS001839\n"
     ]
    },
    {
     "name": "stderr",
     "output_type": "stream",
     "text": [
      "Python(31810) MallocStackLogging: can't turn off malloc stack logging because it was not enabled.\n"
     ]
    },
    {
     "name": "stdout",
     "output_type": "stream",
     "text": [
      "PGS PGS001839 успешно рассчитан\n",
      "\n",
      "==========================================\n",
      "Обработка PGS: PGS004941\n",
      "PGS PGS004941, содержит 3711629 SNP\n",
      "Файл содержит позиционную информацию вместо rsID. Создаем синтетиические идентификаторы.\n",
      "Количество SNP в PGS: 3711629\n",
      "Количество общих SNP: 429616\n",
      "Процент покрытия: 11.57%\n",
      "Выполняем расчет PGS PGS004941\n"
     ]
    },
    {
     "name": "stderr",
     "output_type": "stream",
     "text": [
      "Python(31837) MallocStackLogging: can't turn off malloc stack logging because it was not enabled.\n"
     ]
    },
    {
     "name": "stdout",
     "output_type": "stream",
     "text": [
      "PGS PGS004941 успешно рассчитан\n",
      "\n",
      "==========================================\n",
      "Обработка PGS: PGS004200\n",
      "PGS PGS004200, содержит 8361 SNP\n",
      "Количество SNP в PGS: 8361\n",
      "Количество общих SNP: 899\n",
      "Процент покрытия: 10.75%\n",
      "Выполняем расчет PGS PGS004200\n"
     ]
    },
    {
     "name": "stderr",
     "output_type": "stream",
     "text": [
      "Python(31839) MallocStackLogging: can't turn off malloc stack logging because it was not enabled.\n"
     ]
    },
    {
     "name": "stdout",
     "output_type": "stream",
     "text": [
      "PGS PGS004200 успешно рассчитан\n",
      "\n",
      "==========================================\n",
      "Обработка PGS: PGS003355\n",
      "PGS PGS003355, содержит 1532758 SNP\n",
      "Файл содержит позиционную информацию вместо rsID. Создаем синтетиические идентификаторы.\n",
      "Количество SNP в PGS: 1532758\n",
      "Количество общих SNP: 116470\n",
      "Процент покрытия: 7.60%\n",
      "Выполняем расчет PGS PGS003355\n"
     ]
    },
    {
     "name": "stderr",
     "output_type": "stream",
     "text": [
      "Python(31846) MallocStackLogging: can't turn off malloc stack logging because it was not enabled.\n"
     ]
    },
    {
     "name": "stdout",
     "output_type": "stream",
     "text": [
      "PGS PGS003355 успешно рассчитан\n",
      "\n",
      "==========================================\n",
      "Обработка PGS: PGS001355\n",
      "PGS PGS001355, содержит 2994055 SNP\n",
      "Количество SNP в PGS: 2994055\n",
      "Количество общих SNP: 317044\n",
      "Процент покрытия: 10.59%\n",
      "Выполняем расчет PGS PGS001355\n"
     ]
    },
    {
     "name": "stderr",
     "output_type": "stream",
     "text": [
      "Python(31935) MallocStackLogging: can't turn off malloc stack logging because it was not enabled.\n"
     ]
    },
    {
     "name": "stdout",
     "output_type": "stream",
     "text": [
      "PGS PGS001355 успешно рассчитан\n",
      "\n",
      "==========================================\n",
      "Обработка PGS: PGS004198\n",
      "PGS PGS004198, содержит 5723 SNP\n",
      "Количество SNP в PGS: 5723\n",
      "Количество общих SNP: 670\n",
      "Процент покрытия: 11.71%\n",
      "Выполняем расчет PGS PGS004198\n"
     ]
    },
    {
     "name": "stderr",
     "output_type": "stream",
     "text": [
      "Python(31936) MallocStackLogging: can't turn off malloc stack logging because it was not enabled.\n"
     ]
    },
    {
     "name": "stdout",
     "output_type": "stream",
     "text": [
      "PGS PGS004198 успешно рассчитан\n",
      "\n",
      "==========================================\n",
      "Обработка PGS: PGS000329\n",
      "PGS PGS000329, содержит 6423165 SNP\n",
      "Количество SNP в PGS: 6423165\n",
      "Количество общих SNP: 490575\n",
      "Процент покрытия: 7.64%\n",
      "Выполняем расчет PGS PGS000329\n"
     ]
    },
    {
     "name": "stderr",
     "output_type": "stream",
     "text": [
      "Python(31960) MallocStackLogging: can't turn off malloc stack logging because it was not enabled.\n"
     ]
    },
    {
     "name": "stdout",
     "output_type": "stream",
     "text": [
      "PGS PGS000329 успешно рассчитан\n",
      "\n",
      "==========================================\n",
      "Обработка PGS: PGS004199\n",
      "PGS PGS004199, содержит 6085 SNP\n",
      "Количество SNP в PGS: 6085\n",
      "Количество общих SNP: 682\n",
      "Процент покрытия: 11.21%\n",
      "Выполняем расчет PGS PGS004199\n"
     ]
    },
    {
     "name": "stderr",
     "output_type": "stream",
     "text": [
      "Python(31962) MallocStackLogging: can't turn off malloc stack logging because it was not enabled.\n"
     ]
    },
    {
     "name": "stdout",
     "output_type": "stream",
     "text": [
      "PGS PGS004199 успешно рассчитан\n",
      "\n",
      "==========================================\n",
      "Обработка PGS: PGS000116\n",
      "PGS PGS000116, содержит 40079 SNP\n",
      "Количество SNP в PGS: 40079\n",
      "Количество общих SNP: 3662\n",
      "Процент покрытия: 9.14%\n",
      "Выполняем расчет PGS PGS000116\n"
     ]
    },
    {
     "name": "stderr",
     "output_type": "stream",
     "text": [
      "Python(31963) MallocStackLogging: can't turn off malloc stack logging because it was not enabled.\n"
     ]
    },
    {
     "name": "stdout",
     "output_type": "stream",
     "text": [
      "PGS PGS000116 успешно рассчитан\n",
      "\n",
      "==========================================\n",
      "Обработка PGS: PGS005091\n",
      "PGS PGS005091, содержит 1428772 SNP\n",
      "Файл содержит позиционную информацию вместо rsID. Создаем синтетиические идентификаторы.\n",
      "Количество SNP в PGS: 1428772\n",
      "Количество общих SNP: 4354\n",
      "Процент покрытия: 0.30%\n",
      "Выполняем расчет PGS PGS005091\n"
     ]
    },
    {
     "name": "stderr",
     "output_type": "stream",
     "text": [
      "Python(31970) MallocStackLogging: can't turn off malloc stack logging because it was not enabled.\n"
     ]
    },
    {
     "name": "stdout",
     "output_type": "stream",
     "text": [
      "PGS PGS005091 успешно рассчитан\n",
      "\n",
      "==========================================\n",
      "Обработка PGS: PGS005092\n",
      "PGS PGS005092, содержит 1279502 SNP\n",
      "Файл содержит позиционную информацию вместо rsID. Создаем синтетиические идентификаторы.\n",
      "Количество SNP в PGS: 1279502\n",
      "Количество общих SNP: 4540\n",
      "Процент покрытия: 0.35%\n",
      "Выполняем расчет PGS PGS005092\n"
     ]
    },
    {
     "name": "stderr",
     "output_type": "stream",
     "text": [
      "Python(31984) MallocStackLogging: can't turn off malloc stack logging because it was not enabled.\n"
     ]
    },
    {
     "name": "stdout",
     "output_type": "stream",
     "text": [
      "PGS PGS005092 успешно рассчитан\n",
      "\n",
      "==========================================\n",
      "Обработка PGS: PGS004746\n",
      "PGS PGS004746, содержит 6483064 SNP\n",
      "Файл содержит позиционную информацию вместо rsID. Создаем синтетиические идентификаторы.\n",
      "Количество SNP в PGS: 6483064\n",
      "Количество общих SNP: 6132\n",
      "Процент покрытия: 0.09%\n",
      "Выполняем расчет PGS PGS004746\n"
     ]
    },
    {
     "name": "stderr",
     "output_type": "stream",
     "text": [
      "Python(32190) MallocStackLogging: can't turn off malloc stack logging because it was not enabled.\n"
     ]
    },
    {
     "name": "stdout",
     "output_type": "stream",
     "text": [
      "PGS PGS004746 успешно рассчитан\n",
      "\n",
      "==========================================\n",
      "Обработка PGS: PGS004197\n",
      "PGS PGS004197, содержит 11490 SNP\n",
      "Количество SNP в PGS: 11490\n",
      "Количество общих SNP: 1193\n",
      "Процент покрытия: 10.38%\n",
      "Выполняем расчет PGS PGS004197\n"
     ]
    },
    {
     "name": "stderr",
     "output_type": "stream",
     "text": [
      "Python(32192) MallocStackLogging: can't turn off malloc stack logging because it was not enabled.\n"
     ]
    },
    {
     "name": "stdout",
     "output_type": "stream",
     "text": [
      "PGS PGS004197 успешно рассчитан\n",
      "\n",
      "==========================================\n",
      "Обработка PGS: PGS004196\n",
      "PGS PGS004196, содержит 3892 SNP\n",
      "Количество SNP в PGS: 3892\n",
      "Количество общих SNP: 464\n",
      "Процент покрытия: 11.92%\n",
      "Выполняем расчет PGS PGS004196\n"
     ]
    },
    {
     "name": "stderr",
     "output_type": "stream",
     "text": [
      "Python(32205) MallocStackLogging: can't turn off malloc stack logging because it was not enabled.\n"
     ]
    },
    {
     "name": "stdout",
     "output_type": "stream",
     "text": [
      "PGS PGS004196 успешно рассчитан\n",
      "\n",
      "==========================================\n",
      "Обработка PGS: PGS003438\n",
      "PGS PGS003438, содержит 241 SNP\n",
      "Количество SNP в PGS: 241\n",
      "Количество общих SNP: 29\n",
      "Процент покрытия: 12.03%\n",
      "Выполняем расчет PGS PGS003438\n"
     ]
    },
    {
     "name": "stderr",
     "output_type": "stream",
     "text": [
      "Python(32206) MallocStackLogging: can't turn off malloc stack logging because it was not enabled.\n"
     ]
    },
    {
     "name": "stdout",
     "output_type": "stream",
     "text": [
      "PGS PGS003438 успешно рассчитан\n",
      "\n",
      "==========================================\n",
      "Обработка PGS: PGS004237\n",
      "PGS PGS004237, содержит 1146511 SNP\n",
      "Количество SNP в PGS: 1146511\n",
      "Количество общих SNP: 474392\n",
      "Процент покрытия: 41.38%\n",
      "Выполняем расчет PGS PGS004237\n"
     ]
    },
    {
     "name": "stderr",
     "output_type": "stream",
     "text": [
      "Python(32222) MallocStackLogging: can't turn off malloc stack logging because it was not enabled.\n"
     ]
    },
    {
     "name": "stdout",
     "output_type": "stream",
     "text": [
      "PGS PGS004237 успешно рассчитан\n",
      "\n",
      "==========================================\n",
      "Обработка PGS: PGS004745\n",
      "PGS PGS004745, содержит 4769577 SNP\n",
      "Файл содержит позиционную информацию вместо rsID. Создаем синтетиические идентификаторы.\n",
      "Количество SNP в PGS: 4769577\n",
      "Количество общих SNP: 4560\n",
      "Процент покрытия: 0.10%\n",
      "Выполняем расчет PGS PGS004745\n"
     ]
    },
    {
     "name": "stderr",
     "output_type": "stream",
     "text": [
      "Python(32240) MallocStackLogging: can't turn off malloc stack logging because it was not enabled.\n"
     ]
    },
    {
     "name": "stdout",
     "output_type": "stream",
     "text": [
      "Ошибк при расчете PGS PGS004745 Error: Duplicate variant 'rs7862687' in --score file.\n",
      "\n",
      "\n",
      "==========================================\n",
      "Обработка PGS: PGS000899\n",
      "PGS PGS000899, содержит 176 SNP\n",
      "Количество SNP в PGS: 176\n",
      "Количество общих SNP: 37\n",
      "Процент покрытия: 21.02%\n",
      "Выполняем расчет PGS PGS000899\n"
     ]
    },
    {
     "name": "stderr",
     "output_type": "stream",
     "text": [
      "Python(32241) MallocStackLogging: can't turn off malloc stack logging because it was not enabled.\n"
     ]
    },
    {
     "name": "stdout",
     "output_type": "stream",
     "text": [
      "PGS PGS000899 успешно рассчитан\n",
      "\n",
      "==========================================\n",
      "Обработка PGS: PGS004744\n",
      "PGS PGS004744, содержит 7082943 SNP\n",
      "Файл содержит позиционную информацию вместо rsID. Создаем синтетиические идентификаторы.\n",
      "Количество SNP в PGS: 7082943\n",
      "Количество общих SNP: 6891\n",
      "Процент покрытия: 0.10%\n",
      "Выполняем расчет PGS PGS004744\n"
     ]
    },
    {
     "name": "stderr",
     "output_type": "stream",
     "text": [
      "Python(32353) MallocStackLogging: can't turn off malloc stack logging because it was not enabled.\n"
     ]
    },
    {
     "name": "stdout",
     "output_type": "stream",
     "text": [
      "PGS PGS004744 успешно рассчитан\n",
      "\n",
      "==========================================\n",
      "Обработка PGS: PGS004595\n",
      "PGS PGS004595, содержит 164 SNP\n",
      "Количество SNP в PGS: 164\n",
      "Количество общих SNP: 40\n",
      "Процент покрытия: 24.39%\n",
      "Выполняем расчет PGS PGS004595\n"
     ]
    },
    {
     "name": "stderr",
     "output_type": "stream",
     "text": [
      "Python(32354) MallocStackLogging: can't turn off malloc stack logging because it was not enabled.\n"
     ]
    },
    {
     "name": "stdout",
     "output_type": "stream",
     "text": [
      "PGS PGS004595 успешно рассчитан\n",
      "\n",
      "==========================================\n",
      "Обработка PGS: PGS005112\n",
      "PGS PGS005112, содержит 1106628 SNP\n",
      "Количество SNP в PGS: 1106628\n",
      "Количество общих SNP: 454934\n",
      "Процент покрытия: 41.11%\n",
      "Выполняем расчет PGS PGS005112\n"
     ]
    },
    {
     "name": "stderr",
     "output_type": "stream",
     "text": [
      "Python(32362) MallocStackLogging: can't turn off malloc stack logging because it was not enabled.\n"
     ]
    },
    {
     "name": "stdout",
     "output_type": "stream",
     "text": [
      "PGS PGS005112 успешно рассчитан\n",
      "\n",
      "==========================================\n",
      "Обработка PGS: PGS002244\n",
      "PGS PGS002244, содержит 6576338 SNP\n",
      "Количество SNP в PGS: 6576338\n",
      "Количество общих SNP: 497179\n",
      "Процент покрытия: 7.56%\n",
      "Выполняем расчет PGS PGS002244\n"
     ]
    },
    {
     "name": "stderr",
     "output_type": "stream",
     "text": [
      "Python(32383) MallocStackLogging: can't turn off malloc stack logging because it was not enabled.\n"
     ]
    },
    {
     "name": "stdout",
     "output_type": "stream",
     "text": [
      "PGS PGS002244 успешно рассчитан\n",
      "\n",
      "==========================================\n",
      "Обработка PGS: PGS000057\n",
      "PGS PGS000057, содержит 57 SNP\n",
      "Количество SNP в PGS: 57\n",
      "Количество общих SNP: 19\n",
      "Процент покрытия: 33.33%\n",
      "Выполняем расчет PGS PGS000057\n"
     ]
    },
    {
     "name": "stderr",
     "output_type": "stream",
     "text": [
      "Python(32385) MallocStackLogging: can't turn off malloc stack logging because it was not enabled.\n"
     ]
    },
    {
     "name": "stdout",
     "output_type": "stream",
     "text": [
      "PGS PGS000057 успешно рассчитан\n",
      "\n",
      "==========================================\n",
      "Обработка PGS: PGS000296\n",
      "PGS PGS000296, содержит 6630150 SNP\n",
      "Файл содержит позиционную информацию вместо rsID. Создаем синтетиические идентификаторы.\n",
      "Количество SNP в PGS: 6630150\n",
      "Количество общих SNP: 495928\n",
      "Процент покрытия: 7.48%\n",
      "Выполняем расчет PGS PGS000296\n"
     ]
    },
    {
     "name": "stderr",
     "output_type": "stream",
     "text": [
      "Python(32494) MallocStackLogging: can't turn off malloc stack logging because it was not enabled.\n"
     ]
    },
    {
     "name": "stdout",
     "output_type": "stream",
     "text": [
      "PGS PGS000296 успешно рассчитан\n",
      "\n",
      "==========================================\n",
      "Обработка PGS: PGS004743\n",
      "PGS PGS004743, содержит 3606321 SNP\n",
      "Файл содержит позиционную информацию вместо rsID. Создаем синтетиические идентификаторы.\n",
      "Количество SNP в PGS: 3606321\n",
      "Количество общих SNP: 3853\n",
      "Процент покрытия: 0.11%\n",
      "Выполняем расчет PGS PGS004743\n"
     ]
    },
    {
     "name": "stderr",
     "output_type": "stream",
     "text": [
      "Python(32514) MallocStackLogging: can't turn off malloc stack logging because it was not enabled.\n"
     ]
    },
    {
     "name": "stdout",
     "output_type": "stream",
     "text": [
      "Ошибк при расчете PGS PGS004743 Error: Duplicate variant 'rs7862687' in --score file.\n",
      "\n",
      "\n",
      "==========================================\n",
      "Обработка PGS: PGS004596\n",
      "PGS PGS004596, содержит 64 SNP\n",
      "Количество SNP в PGS: 64\n",
      "Количество общих SNP: 24\n",
      "Процент покрытия: 37.50%\n",
      "Выполняем расчет PGS PGS004596\n"
     ]
    },
    {
     "name": "stderr",
     "output_type": "stream",
     "text": [
      "Python(32515) MallocStackLogging: can't turn off malloc stack logging because it was not enabled.\n"
     ]
    },
    {
     "name": "stdout",
     "output_type": "stream",
     "text": [
      "PGS PGS004596 успешно рассчитан\n",
      "\n",
      "==========================================\n",
      "Обработка PGS: PGS000337\n",
      "PGS PGS000337, содержит 75028 SNP\n",
      "Файл содержит позиционную информацию вместо rsID. Создаем синтетиические идентификаторы.\n",
      "Количество SNP в PGS: 75028\n",
      "Количество общих SNP: 10154\n",
      "Процент покрытия: 13.53%\n",
      "Выполняем расчет PGS PGS000337\n"
     ]
    },
    {
     "name": "stderr",
     "output_type": "stream",
     "text": [
      "Python(32516) MallocStackLogging: can't turn off malloc stack logging because it was not enabled.\n"
     ]
    },
    {
     "name": "stdout",
     "output_type": "stream",
     "text": [
      "PGS PGS000337 успешно рассчитан\n",
      "\n",
      "==========================================\n",
      "Обработка PGS: PGS004309\n",
      "PGS PGS004309, содержит 3000 SNP\n",
      "Файл содержит позиционную информацию вместо rsID. Создаем синтетиические идентификаторы.\n",
      "Количество SNP в PGS: 3000\n",
      "Количество общих SNP: 1174\n",
      "Процент покрытия: 39.13%\n",
      "Выполняем расчет PGS PGS004309\n"
     ]
    },
    {
     "name": "stderr",
     "output_type": "stream",
     "text": [
      "Python(32517) MallocStackLogging: can't turn off malloc stack logging because it was not enabled.\n"
     ]
    },
    {
     "name": "stdout",
     "output_type": "stream",
     "text": [
      "PGS PGS004309 успешно рассчитан\n",
      "\n",
      "==========================================\n",
      "Обработка PGS: PGS004321\n",
      "PGS PGS004321, содержит 27 SNP\n",
      "Количество SNP в PGS: 27\n",
      "Количество общих SNP: 14\n",
      "Процент покрытия: 51.85%\n",
      "Выполняем расчет PGS PGS004321\n"
     ]
    },
    {
     "name": "stderr",
     "output_type": "stream",
     "text": [
      "Python(32518) MallocStackLogging: can't turn off malloc stack logging because it was not enabled.\n"
     ]
    },
    {
     "name": "stdout",
     "output_type": "stream",
     "text": [
      "PGS PGS004321 успешно рассчитан\n",
      "\n",
      "==========================================\n",
      "Обработка PGS: PGS004888\n",
      "PGS PGS004888, содержит 1110046 SNP\n",
      "Файл содержит позиционную информацию вместо rsID. Создаем синтетиические идентификаторы.\n",
      "Количество SNP в PGS: 1110046\n",
      "Количество общих SNP: 453801\n",
      "Процент покрытия: 40.88%\n",
      "Выполняем расчет PGS PGS004888\n"
     ]
    },
    {
     "name": "stderr",
     "output_type": "stream",
     "text": [
      "Python(32526) MallocStackLogging: can't turn off malloc stack logging because it was not enabled.\n"
     ]
    },
    {
     "name": "stdout",
     "output_type": "stream",
     "text": [
      "PGS PGS004888 успешно рассчитан\n",
      "\n",
      "==========================================\n",
      "Обработка PGS: PGS004308\n",
      "PGS PGS004308, содержит 1500 SNP\n",
      "Файл содержит позиционную информацию вместо rsID. Создаем синтетиические идентификаторы.\n",
      "Количество SNP в PGS: 1500\n",
      "Количество общих SNP: 584\n",
      "Процент покрытия: 38.93%\n",
      "Выполняем расчет PGS PGS004308\n"
     ]
    },
    {
     "name": "stderr",
     "output_type": "stream",
     "text": [
      "Python(32599) MallocStackLogging: can't turn off malloc stack logging because it was not enabled.\n"
     ]
    },
    {
     "name": "stdout",
     "output_type": "stream",
     "text": [
      "PGS PGS004308 успешно рассчитан\n",
      "\n",
      "==========================================\n",
      "Обработка PGS: PGS000018\n",
      "PGS PGS000018, содержит 1745179 SNP\n",
      "Количество SNP в PGS: 1745179\n",
      "Количество общих SNP: 129619\n",
      "Процент покрытия: 7.43%\n",
      "Выполняем расчет PGS PGS000018\n"
     ]
    },
    {
     "name": "stderr",
     "output_type": "stream",
     "text": [
      "Python(32602) MallocStackLogging: can't turn off malloc stack logging because it was not enabled.\n"
     ]
    },
    {
     "name": "stdout",
     "output_type": "stream",
     "text": [
      "PGS PGS000018 успешно рассчитан\n",
      "\n",
      "==========================================\n",
      "Обработка PGS: PGS004444\n",
      "PGS PGS004444, содержит 1059939 SNP\n",
      "Количество SNP в PGS: 1059939\n",
      "Количество общих SNP: 442559\n",
      "Процент покрытия: 41.75%\n",
      "Выполняем расчет PGS PGS004444\n"
     ]
    },
    {
     "name": "stderr",
     "output_type": "stream",
     "text": [
      "Python(32631) MallocStackLogging: can't turn off malloc stack logging because it was not enabled.\n"
     ]
    },
    {
     "name": "stdout",
     "output_type": "stream",
     "text": [
      "PGS PGS004444 успешно рассчитан\n",
      "\n",
      "==========================================\n",
      "Обработка PGS: PGS000019\n",
      "PGS PGS000019, содержит 192 SNP\n",
      "Количество SNP в PGS: 192\n",
      "Количество общих SNP: 26\n",
      "Процент покрытия: 13.54%\n",
      "Выполняем расчет PGS PGS000019\n"
     ]
    },
    {
     "name": "stderr",
     "output_type": "stream",
     "text": [
      "Python(32632) MallocStackLogging: can't turn off malloc stack logging because it was not enabled.\n"
     ]
    },
    {
     "name": "stdout",
     "output_type": "stream",
     "text": [
      "PGS PGS000019 успешно рассчитан\n",
      "\n",
      "==========================================\n",
      "Обработка PGS: PGS000747\n",
      "PGS PGS000747, содержит 375822 SNP\n",
      "Файл содержит позиционную информацию вместо rsID. Создаем синтетиические идентификаторы.\n",
      "Количество SNP в PGS: 375822\n",
      "Количество общих SNP: 31294\n",
      "Процент покрытия: 8.33%\n",
      "Выполняем расчет PGS PGS000747\n"
     ]
    },
    {
     "name": "stderr",
     "output_type": "stream",
     "text": [
      "Python(32636) MallocStackLogging: can't turn off malloc stack logging because it was not enabled.\n"
     ]
    },
    {
     "name": "stdout",
     "output_type": "stream",
     "text": [
      "PGS PGS000747 успешно рассчитан\n",
      "\n",
      "==========================================\n",
      "Обработка PGS: PGS000746\n",
      "PGS PGS000746, содержит 1940 SNP\n",
      "Файл содержит позиционную информацию вместо rsID. Создаем синтетиические идентификаторы.\n",
      "Количество SNP в PGS: 1940\n",
      "Количество общих SNP: 232\n",
      "Процент покрытия: 11.96%\n",
      "Выполняем расчет PGS PGS000746\n"
     ]
    },
    {
     "name": "stderr",
     "output_type": "stream",
     "text": [
      "Python(32638) MallocStackLogging: can't turn off malloc stack logging because it was not enabled.\n"
     ]
    },
    {
     "name": "stdout",
     "output_type": "stream",
     "text": [
      "PGS PGS000746 успешно рассчитан\n",
      "\n",
      "==========================================\n",
      "Обработка PGS: PGS004697\n",
      "PGS PGS004697, содержит 1120251 SNP\n",
      "Количество SNP в PGS: 1120251\n",
      "Количество общих SNP: 456041\n",
      "Процент покрытия: 40.71%\n",
      "Выполняем расчет PGS PGS004697\n"
     ]
    },
    {
     "name": "stderr",
     "output_type": "stream",
     "text": [
      "Python(32670) MallocStackLogging: can't turn off malloc stack logging because it was not enabled.\n"
     ]
    },
    {
     "name": "stdout",
     "output_type": "stream",
     "text": [
      "PGS PGS004697 успешно рассчитан\n",
      "\n",
      "==========================================\n",
      "Обработка PGS: PGS004899\n",
      "PGS PGS004899, содержит 7 SNP\n",
      "Количество SNP в PGS: 7\n",
      "Количество общих SNP: 0\n",
      "Процент покрытия: 0.00%\n",
      "нет общих SNP для PGS004899\n",
      "\n",
      "==========================================\n",
      "Обработка PGS: PGS004696\n",
      "PGS PGS004696, содержит 1289980 SNP\n",
      "Количество SNP в PGS: 1289980\n",
      "Количество общих SNP: 456450\n",
      "Процент покрытия: 35.38%\n",
      "Выполняем расчет PGS PGS004696\n"
     ]
    },
    {
     "name": "stderr",
     "output_type": "stream",
     "text": [
      "Python(32677) MallocStackLogging: can't turn off malloc stack logging because it was not enabled.\n"
     ]
    },
    {
     "name": "stdout",
     "output_type": "stream",
     "text": [
      "PGS PGS004696 успешно рассчитан\n",
      "\n",
      "==========================================\n",
      "Обработка PGS: PGS004443\n",
      "PGS PGS004443, содержит 1059939 SNP\n",
      "Количество SNP в PGS: 1059939\n",
      "Количество общих SNP: 442559\n",
      "Процент покрытия: 41.75%\n",
      "Выполняем расчет PGS PGS004443\n"
     ]
    },
    {
     "name": "stderr",
     "output_type": "stream",
     "text": [
      "Python(32766) MallocStackLogging: can't turn off malloc stack logging because it was not enabled.\n"
     ]
    },
    {
     "name": "stdout",
     "output_type": "stream",
     "text": [
      "PGS PGS004443 успешно рассчитан\n",
      "\n",
      "==========================================\n",
      "Обработка PGS: PGS000962\n",
      "PGS PGS000962, содержит 2168 SNP\n",
      "Количество SNP в PGS: 2168\n",
      "Количество общих SNP: 444\n",
      "Процент покрытия: 20.48%\n",
      "Выполняем расчет PGS PGS000962\n"
     ]
    },
    {
     "name": "stderr",
     "output_type": "stream",
     "text": [
      "Python(32767) MallocStackLogging: can't turn off malloc stack logging because it was not enabled.\n"
     ]
    },
    {
     "name": "stdout",
     "output_type": "stream",
     "text": [
      "PGS PGS000962 успешно рассчитан\n"
     ]
    },
    {
     "name": "stderr",
     "output_type": "stream",
     "text": [
      "/Users/daklo/for_dipl/pgs_calculator.py:139: SettingWithCopyWarning: \n",
      "A value is trying to be set on a copy of a slice from a DataFrame.\n",
      "Try using .loc[row_indexer,col_indexer] = value instead\n",
      "\n",
      "See the caveats in the documentation: https://pandas.pydata.org/pandas-docs/stable/user_guide/indexing.html#returning-a-view-versus-a-copy\n",
      "  combined[pgs_name] = df['SCORE']\n",
      "/Users/daklo/for_dipl/pgs_calculator.py:139: SettingWithCopyWarning: \n",
      "A value is trying to be set on a copy of a slice from a DataFrame.\n",
      "Try using .loc[row_indexer,col_indexer] = value instead\n",
      "\n",
      "See the caveats in the documentation: https://pandas.pydata.org/pandas-docs/stable/user_guide/indexing.html#returning-a-view-versus-a-copy\n",
      "  combined[pgs_name] = df['SCORE']\n",
      "/Users/daklo/for_dipl/pgs_calculator.py:139: SettingWithCopyWarning: \n",
      "A value is trying to be set on a copy of a slice from a DataFrame.\n",
      "Try using .loc[row_indexer,col_indexer] = value instead\n",
      "\n",
      "See the caveats in the documentation: https://pandas.pydata.org/pandas-docs/stable/user_guide/indexing.html#returning-a-view-versus-a-copy\n",
      "  combined[pgs_name] = df['SCORE']\n"
     ]
    },
    {
     "name": "stdout",
     "output_type": "stream",
     "text": [
      "Объеденены PGS для 224 образцов и 73 PGS\n",
      "Сохраняю в ./pgs_results_calculated/test_4_pgs.csv\n",
      "\n",
      "Примеры данных из X_train:\n"
     ]
    },
    {
     "data": {
      "text/html": [
       "<div>\n",
       "<style scoped>\n",
       "    .dataframe tbody tr th:only-of-type {\n",
       "        vertical-align: middle;\n",
       "    }\n",
       "\n",
       "    .dataframe tbody tr th {\n",
       "        vertical-align: top;\n",
       "    }\n",
       "\n",
       "    .dataframe thead th {\n",
       "        text-align: right;\n",
       "    }\n",
       "</style>\n",
       "<table border=\"1\" class=\"dataframe\">\n",
       "  <thead>\n",
       "    <tr style=\"text-align: right;\">\n",
       "      <th></th>\n",
       "      <th>PGS003725</th>\n",
       "      <th>PGS000748</th>\n",
       "      <th>PGS000012</th>\n",
       "      <th>PGS003446</th>\n",
       "      <th>PGS004513</th>\n",
       "      <th>PGS000013</th>\n",
       "      <th>PGS005143</th>\n",
       "      <th>PGS003726</th>\n",
       "      <th>PGS002809</th>\n",
       "      <th>PGS000011</th>\n",
       "      <th>...</th>\n",
       "      <th>PGS004308</th>\n",
       "      <th>PGS000018</th>\n",
       "      <th>PGS004444</th>\n",
       "      <th>PGS000019</th>\n",
       "      <th>PGS000747</th>\n",
       "      <th>PGS000746</th>\n",
       "      <th>PGS004697</th>\n",
       "      <th>PGS004696</th>\n",
       "      <th>PGS004443</th>\n",
       "      <th>PGS000962</th>\n",
       "    </tr>\n",
       "  </thead>\n",
       "  <tbody>\n",
       "    <tr>\n",
       "      <th>0</th>\n",
       "      <td>-0.000002</td>\n",
       "      <td>-0.000063</td>\n",
       "      <td>0.006168</td>\n",
       "      <td>0.000101</td>\n",
       "      <td>9.613130e-09</td>\n",
       "      <td>0.000001</td>\n",
       "      <td>2.133610e-07</td>\n",
       "      <td>-7.218340e-07</td>\n",
       "      <td>0.031910</td>\n",
       "      <td>0.049607</td>\n",
       "      <td>...</td>\n",
       "      <td>-0.000415</td>\n",
       "      <td>0.000024</td>\n",
       "      <td>-4.732270e-08</td>\n",
       "      <td>0.027712</td>\n",
       "      <td>-0.000216</td>\n",
       "      <td>-0.001151</td>\n",
       "      <td>9.158690e-08</td>\n",
       "      <td>-2.458310e-08</td>\n",
       "      <td>3.432230e-08</td>\n",
       "      <td>0.000154</td>\n",
       "    </tr>\n",
       "    <tr>\n",
       "      <th>1</th>\n",
       "      <td>-0.000002</td>\n",
       "      <td>-0.000086</td>\n",
       "      <td>0.006297</td>\n",
       "      <td>0.000143</td>\n",
       "      <td>-9.064740e-09</td>\n",
       "      <td>0.000001</td>\n",
       "      <td>3.248590e-07</td>\n",
       "      <td>-9.691140e-07</td>\n",
       "      <td>0.033945</td>\n",
       "      <td>0.052974</td>\n",
       "      <td>...</td>\n",
       "      <td>0.000108</td>\n",
       "      <td>0.000026</td>\n",
       "      <td>-4.716320e-08</td>\n",
       "      <td>0.041390</td>\n",
       "      <td>-0.000261</td>\n",
       "      <td>0.000481</td>\n",
       "      <td>-6.655820e-08</td>\n",
       "      <td>-8.717120e-08</td>\n",
       "      <td>-3.071940e-07</td>\n",
       "      <td>0.000240</td>\n",
       "    </tr>\n",
       "    <tr>\n",
       "      <th>2</th>\n",
       "      <td>-0.000002</td>\n",
       "      <td>-0.000077</td>\n",
       "      <td>0.006248</td>\n",
       "      <td>0.000084</td>\n",
       "      <td>-6.479190e-09</td>\n",
       "      <td>0.000001</td>\n",
       "      <td>2.045300e-07</td>\n",
       "      <td>-7.321420e-07</td>\n",
       "      <td>0.028568</td>\n",
       "      <td>0.053982</td>\n",
       "      <td>...</td>\n",
       "      <td>-0.000121</td>\n",
       "      <td>0.000025</td>\n",
       "      <td>4.186130e-08</td>\n",
       "      <td>0.028056</td>\n",
       "      <td>-0.000272</td>\n",
       "      <td>0.001207</td>\n",
       "      <td>1.991240e-08</td>\n",
       "      <td>-4.674110e-08</td>\n",
       "      <td>-1.233960e-07</td>\n",
       "      <td>0.000443</td>\n",
       "    </tr>\n",
       "    <tr>\n",
       "      <th>3</th>\n",
       "      <td>-0.000002</td>\n",
       "      <td>-0.000090</td>\n",
       "      <td>0.006240</td>\n",
       "      <td>0.000113</td>\n",
       "      <td>3.233330e-08</td>\n",
       "      <td>0.000001</td>\n",
       "      <td>1.327940e-07</td>\n",
       "      <td>-8.973410e-07</td>\n",
       "      <td>0.031143</td>\n",
       "      <td>0.044140</td>\n",
       "      <td>...</td>\n",
       "      <td>-0.000298</td>\n",
       "      <td>0.000026</td>\n",
       "      <td>8.775420e-08</td>\n",
       "      <td>0.036693</td>\n",
       "      <td>-0.000271</td>\n",
       "      <td>0.000935</td>\n",
       "      <td>-2.094320e-07</td>\n",
       "      <td>-1.452190e-07</td>\n",
       "      <td>8.513610e-08</td>\n",
       "      <td>0.000223</td>\n",
       "    </tr>\n",
       "    <tr>\n",
       "      <th>4</th>\n",
       "      <td>-0.000002</td>\n",
       "      <td>-0.000103</td>\n",
       "      <td>0.006256</td>\n",
       "      <td>0.000172</td>\n",
       "      <td>3.375490e-08</td>\n",
       "      <td>0.000001</td>\n",
       "      <td>8.308710e-08</td>\n",
       "      <td>-1.077210e-06</td>\n",
       "      <td>0.028405</td>\n",
       "      <td>0.059610</td>\n",
       "      <td>...</td>\n",
       "      <td>-0.000317</td>\n",
       "      <td>0.000025</td>\n",
       "      <td>1.868460e-07</td>\n",
       "      <td>0.026249</td>\n",
       "      <td>-0.000253</td>\n",
       "      <td>0.001525</td>\n",
       "      <td>-4.574120e-08</td>\n",
       "      <td>9.347250e-09</td>\n",
       "      <td>2.314120e-07</td>\n",
       "      <td>0.000099</td>\n",
       "    </tr>\n",
       "  </tbody>\n",
       "</table>\n",
       "<p>5 rows × 73 columns</p>\n",
       "</div>"
      ],
      "text/plain": [
       "   PGS003725  PGS000748  PGS000012  PGS003446     PGS004513  PGS000013  \\\n",
       "0  -0.000002  -0.000063   0.006168   0.000101  9.613130e-09   0.000001   \n",
       "1  -0.000002  -0.000086   0.006297   0.000143 -9.064740e-09   0.000001   \n",
       "2  -0.000002  -0.000077   0.006248   0.000084 -6.479190e-09   0.000001   \n",
       "3  -0.000002  -0.000090   0.006240   0.000113  3.233330e-08   0.000001   \n",
       "4  -0.000002  -0.000103   0.006256   0.000172  3.375490e-08   0.000001   \n",
       "\n",
       "      PGS005143     PGS003726  PGS002809  PGS000011  ...  PGS004308  \\\n",
       "0  2.133610e-07 -7.218340e-07   0.031910   0.049607  ...  -0.000415   \n",
       "1  3.248590e-07 -9.691140e-07   0.033945   0.052974  ...   0.000108   \n",
       "2  2.045300e-07 -7.321420e-07   0.028568   0.053982  ...  -0.000121   \n",
       "3  1.327940e-07 -8.973410e-07   0.031143   0.044140  ...  -0.000298   \n",
       "4  8.308710e-08 -1.077210e-06   0.028405   0.059610  ...  -0.000317   \n",
       "\n",
       "   PGS000018     PGS004444  PGS000019  PGS000747  PGS000746     PGS004697  \\\n",
       "0   0.000024 -4.732270e-08   0.027712  -0.000216  -0.001151  9.158690e-08   \n",
       "1   0.000026 -4.716320e-08   0.041390  -0.000261   0.000481 -6.655820e-08   \n",
       "2   0.000025  4.186130e-08   0.028056  -0.000272   0.001207  1.991240e-08   \n",
       "3   0.000026  8.775420e-08   0.036693  -0.000271   0.000935 -2.094320e-07   \n",
       "4   0.000025  1.868460e-07   0.026249  -0.000253   0.001525 -4.574120e-08   \n",
       "\n",
       "      PGS004696     PGS004443  PGS000962  \n",
       "0 -2.458310e-08  3.432230e-08   0.000154  \n",
       "1 -8.717120e-08 -3.071940e-07   0.000240  \n",
       "2 -4.674110e-08 -1.233960e-07   0.000443  \n",
       "3 -1.452190e-07  8.513610e-08   0.000223  \n",
       "4  9.347250e-09  2.314120e-07   0.000099  \n",
       "\n",
       "[5 rows x 73 columns]"
      ]
     },
     "metadata": {},
     "output_type": "display_data"
    },
    {
     "data": {
      "text/html": [
       "<div>\n",
       "<style scoped>\n",
       "    .dataframe tbody tr th:only-of-type {\n",
       "        vertical-align: middle;\n",
       "    }\n",
       "\n",
       "    .dataframe tbody tr th {\n",
       "        vertical-align: top;\n",
       "    }\n",
       "\n",
       "    .dataframe thead th {\n",
       "        text-align: right;\n",
       "    }\n",
       "</style>\n",
       "<table border=\"1\" class=\"dataframe\">\n",
       "  <thead>\n",
       "    <tr style=\"text-align: right;\">\n",
       "      <th></th>\n",
       "      <th>PGS003725</th>\n",
       "      <th>PGS000748</th>\n",
       "      <th>PGS000012</th>\n",
       "      <th>PGS003446</th>\n",
       "      <th>PGS004513</th>\n",
       "      <th>PGS000013</th>\n",
       "      <th>PGS005143</th>\n",
       "      <th>PGS003726</th>\n",
       "      <th>PGS002809</th>\n",
       "      <th>PGS000011</th>\n",
       "      <th>...</th>\n",
       "      <th>PGS004308</th>\n",
       "      <th>PGS000018</th>\n",
       "      <th>PGS004444</th>\n",
       "      <th>PGS000019</th>\n",
       "      <th>PGS000747</th>\n",
       "      <th>PGS000746</th>\n",
       "      <th>PGS004697</th>\n",
       "      <th>PGS004696</th>\n",
       "      <th>PGS004443</th>\n",
       "      <th>PGS000962</th>\n",
       "    </tr>\n",
       "  </thead>\n",
       "  <tbody>\n",
       "    <tr>\n",
       "      <th>0</th>\n",
       "      <td>-0.000002</td>\n",
       "      <td>-0.000077</td>\n",
       "      <td>0.006315</td>\n",
       "      <td>0.000063</td>\n",
       "      <td>1.373150e-08</td>\n",
       "      <td>0.000001</td>\n",
       "      <td>1.329370e-07</td>\n",
       "      <td>-5.344950e-07</td>\n",
       "      <td>0.030465</td>\n",
       "      <td>0.052816</td>\n",
       "      <td>...</td>\n",
       "      <td>-0.000092</td>\n",
       "      <td>0.000026</td>\n",
       "      <td>4.026850e-08</td>\n",
       "      <td>0.038051</td>\n",
       "      <td>-0.000273</td>\n",
       "      <td>0.000895</td>\n",
       "      <td>9.234520e-08</td>\n",
       "      <td>-5.842230e-08</td>\n",
       "      <td>-4.533990e-08</td>\n",
       "      <td>0.000216</td>\n",
       "    </tr>\n",
       "    <tr>\n",
       "      <th>1</th>\n",
       "      <td>-0.000002</td>\n",
       "      <td>-0.000067</td>\n",
       "      <td>0.006264</td>\n",
       "      <td>0.000056</td>\n",
       "      <td>-1.131590e-08</td>\n",
       "      <td>0.000001</td>\n",
       "      <td>2.133410e-07</td>\n",
       "      <td>-6.783780e-07</td>\n",
       "      <td>0.037170</td>\n",
       "      <td>0.064332</td>\n",
       "      <td>...</td>\n",
       "      <td>-0.000065</td>\n",
       "      <td>0.000024</td>\n",
       "      <td>-2.642070e-08</td>\n",
       "      <td>0.024051</td>\n",
       "      <td>-0.000240</td>\n",
       "      <td>0.001724</td>\n",
       "      <td>-2.447640e-07</td>\n",
       "      <td>-2.311520e-07</td>\n",
       "      <td>-1.423460e-07</td>\n",
       "      <td>0.000393</td>\n",
       "    </tr>\n",
       "    <tr>\n",
       "      <th>2</th>\n",
       "      <td>-0.000002</td>\n",
       "      <td>-0.000108</td>\n",
       "      <td>0.006298</td>\n",
       "      <td>0.000045</td>\n",
       "      <td>-4.426320e-08</td>\n",
       "      <td>0.000001</td>\n",
       "      <td>1.429200e-07</td>\n",
       "      <td>-1.313440e-06</td>\n",
       "      <td>0.030482</td>\n",
       "      <td>0.059226</td>\n",
       "      <td>...</td>\n",
       "      <td>-0.000181</td>\n",
       "      <td>0.000025</td>\n",
       "      <td>1.801980e-07</td>\n",
       "      <td>0.032604</td>\n",
       "      <td>-0.000227</td>\n",
       "      <td>0.000447</td>\n",
       "      <td>-2.728420e-07</td>\n",
       "      <td>-2.402760e-07</td>\n",
       "      <td>-2.680120e-07</td>\n",
       "      <td>0.000182</td>\n",
       "    </tr>\n",
       "    <tr>\n",
       "      <th>3</th>\n",
       "      <td>-0.000002</td>\n",
       "      <td>-0.000083</td>\n",
       "      <td>0.006219</td>\n",
       "      <td>0.000114</td>\n",
       "      <td>2.834000e-08</td>\n",
       "      <td>0.000001</td>\n",
       "      <td>6.662450e-08</td>\n",
       "      <td>-9.984750e-07</td>\n",
       "      <td>0.032051</td>\n",
       "      <td>0.053598</td>\n",
       "      <td>...</td>\n",
       "      <td>-0.000124</td>\n",
       "      <td>0.000025</td>\n",
       "      <td>1.920840e-08</td>\n",
       "      <td>0.036163</td>\n",
       "      <td>-0.000206</td>\n",
       "      <td>0.000818</td>\n",
       "      <td>-1.446520e-08</td>\n",
       "      <td>-5.386000e-08</td>\n",
       "      <td>5.697780e-09</td>\n",
       "      <td>0.000485</td>\n",
       "    </tr>\n",
       "    <tr>\n",
       "      <th>4</th>\n",
       "      <td>-0.000002</td>\n",
       "      <td>-0.000095</td>\n",
       "      <td>0.006170</td>\n",
       "      <td>0.000074</td>\n",
       "      <td>-2.716600e-08</td>\n",
       "      <td>0.000001</td>\n",
       "      <td>1.316540e-07</td>\n",
       "      <td>-9.756740e-07</td>\n",
       "      <td>0.034227</td>\n",
       "      <td>0.060001</td>\n",
       "      <td>...</td>\n",
       "      <td>-0.000372</td>\n",
       "      <td>0.000025</td>\n",
       "      <td>-2.409920e-08</td>\n",
       "      <td>0.031961</td>\n",
       "      <td>-0.000210</td>\n",
       "      <td>0.000203</td>\n",
       "      <td>-3.528710e-08</td>\n",
       "      <td>-9.406470e-08</td>\n",
       "      <td>-2.215370e-07</td>\n",
       "      <td>0.000416</td>\n",
       "    </tr>\n",
       "  </tbody>\n",
       "</table>\n",
       "<p>5 rows × 73 columns</p>\n",
       "</div>"
      ],
      "text/plain": [
       "   PGS003725  PGS000748  PGS000012  PGS003446     PGS004513  PGS000013  \\\n",
       "0  -0.000002  -0.000077   0.006315   0.000063  1.373150e-08   0.000001   \n",
       "1  -0.000002  -0.000067   0.006264   0.000056 -1.131590e-08   0.000001   \n",
       "2  -0.000002  -0.000108   0.006298   0.000045 -4.426320e-08   0.000001   \n",
       "3  -0.000002  -0.000083   0.006219   0.000114  2.834000e-08   0.000001   \n",
       "4  -0.000002  -0.000095   0.006170   0.000074 -2.716600e-08   0.000001   \n",
       "\n",
       "      PGS005143     PGS003726  PGS002809  PGS000011  ...  PGS004308  \\\n",
       "0  1.329370e-07 -5.344950e-07   0.030465   0.052816  ...  -0.000092   \n",
       "1  2.133410e-07 -6.783780e-07   0.037170   0.064332  ...  -0.000065   \n",
       "2  1.429200e-07 -1.313440e-06   0.030482   0.059226  ...  -0.000181   \n",
       "3  6.662450e-08 -9.984750e-07   0.032051   0.053598  ...  -0.000124   \n",
       "4  1.316540e-07 -9.756740e-07   0.034227   0.060001  ...  -0.000372   \n",
       "\n",
       "   PGS000018     PGS004444  PGS000019  PGS000747  PGS000746     PGS004697  \\\n",
       "0   0.000026  4.026850e-08   0.038051  -0.000273   0.000895  9.234520e-08   \n",
       "1   0.000024 -2.642070e-08   0.024051  -0.000240   0.001724 -2.447640e-07   \n",
       "2   0.000025  1.801980e-07   0.032604  -0.000227   0.000447 -2.728420e-07   \n",
       "3   0.000025  1.920840e-08   0.036163  -0.000206   0.000818 -1.446520e-08   \n",
       "4   0.000025 -2.409920e-08   0.031961  -0.000210   0.000203 -3.528710e-08   \n",
       "\n",
       "      PGS004696     PGS004443  PGS000962  \n",
       "0 -5.842230e-08 -4.533990e-08   0.000216  \n",
       "1 -2.311520e-07 -1.423460e-07   0.000393  \n",
       "2 -2.402760e-07 -2.680120e-07   0.000182  \n",
       "3 -5.386000e-08  5.697780e-09   0.000485  \n",
       "4 -9.406470e-08 -2.215370e-07   0.000416  \n",
       "\n",
       "[5 rows x 73 columns]"
      ]
     },
     "metadata": {},
     "output_type": "display_data"
    },
    {
     "name": "stdout",
     "output_type": "stream",
     "text": [
      "1\n",
      "файл ./train_5.bim, содержит 591998 SNP\n",
      "Найдено 76 PGS\n",
      "\n",
      "==========================================\n",
      "Обработка PGS: PGS003725\n",
      "PGS PGS003725, содержит 1296172 SNP\n",
      "Файл содержит позиционную информацию вместо rsID. Создаем синтетиические идентификаторы.\n",
      "Количество SNP в PGS: 1296172\n",
      "Количество общих SNP: 456468\n",
      "Процент покрытия: 35.22%\n",
      "Выполняем расчет PGS PGS003725\n"
     ]
    },
    {
     "name": "stderr",
     "output_type": "stream",
     "text": [
      "Python(32814) MallocStackLogging: can't turn off malloc stack logging because it was not enabled.\n"
     ]
    },
    {
     "name": "stdout",
     "output_type": "stream",
     "text": [
      "PGS PGS003725 успешно рассчитан\n",
      "\n",
      "==========================================\n",
      "Обработка PGS: PGS000748\n",
      "PGS PGS000748, содержит 3423987 SNP\n",
      "Файл содержит позиционную информацию вместо rsID. Создаем синтетиические идентификаторы.\n",
      "Количество SNP в PGS: 3423987\n",
      "Количество общих SNP: 416579\n",
      "Процент покрытия: 12.17%\n",
      "Выполняем расчет PGS PGS000748\n"
     ]
    },
    {
     "name": "stderr",
     "output_type": "stream",
     "text": [
      "Python(32922) MallocStackLogging: can't turn off malloc stack logging because it was not enabled.\n"
     ]
    },
    {
     "name": "stdout",
     "output_type": "stream",
     "text": [
      "PGS PGS000748 успешно рассчитан\n",
      "\n",
      "==========================================\n",
      "Обработка PGS: PGS000012\n",
      "PGS PGS000012, содержит 49310 SNP\n",
      "Количество SNP в PGS: 49310\n",
      "Количество общих SNP: 15881\n",
      "Процент покрытия: 32.21%\n",
      "Выполняем расчет PGS PGS000012\n"
     ]
    },
    {
     "name": "stderr",
     "output_type": "stream",
     "text": [
      "Python(32924) MallocStackLogging: can't turn off malloc stack logging because it was not enabled.\n"
     ]
    },
    {
     "name": "stdout",
     "output_type": "stream",
     "text": [
      "PGS PGS000012 успешно рассчитан\n",
      "\n",
      "==========================================\n",
      "Обработка PGS: PGS003446\n",
      "PGS PGS003446, содержит 538084 SNP\n",
      "Файл содержит позиционную информацию вместо rsID. Создаем синтетиические идентификаторы.\n",
      "Количество SNP в PGS: 538084\n",
      "Количество общих SNP: 25529\n",
      "Процент покрытия: 4.74%\n",
      "Выполняем расчет PGS PGS003446\n"
     ]
    },
    {
     "name": "stderr",
     "output_type": "stream",
     "text": [
      "Python(32940) MallocStackLogging: can't turn off malloc stack logging because it was not enabled.\n"
     ]
    },
    {
     "name": "stdout",
     "output_type": "stream",
     "text": [
      "PGS PGS003446 успешно рассчитан\n",
      "\n",
      "==========================================\n",
      "Обработка PGS: PGS004513\n",
      "PGS PGS004513, содержит 1059939 SNP\n",
      "Количество SNP в PGS: 1059939\n",
      "Количество общих SNP: 442559\n",
      "Процент покрытия: 41.75%\n",
      "Выполняем расчет PGS PGS004513\n"
     ]
    },
    {
     "name": "stderr",
     "output_type": "stream",
     "text": [
      "Python(32944) MallocStackLogging: can't turn off malloc stack logging because it was not enabled.\n"
     ]
    },
    {
     "name": "stdout",
     "output_type": "stream",
     "text": [
      "PGS PGS004513 успешно рассчитан\n",
      "\n",
      "==========================================\n",
      "Обработка PGS: PGS000013\n",
      "PGS PGS000013, содержит 6630150 SNP\n",
      "Файл содержит позиционную информацию вместо rsID. Создаем синтетиические идентификаторы.\n",
      "Количество SNP в PGS: 6630150\n",
      "Количество общих SNP: 495928\n",
      "Процент покрытия: 7.48%\n",
      "Выполняем расчет PGS PGS000013\n"
     ]
    },
    {
     "name": "stderr",
     "output_type": "stream",
     "text": [
      "Python(33058) MallocStackLogging: can't turn off malloc stack logging because it was not enabled.\n"
     ]
    },
    {
     "name": "stdout",
     "output_type": "stream",
     "text": [
      "PGS PGS000013 успешно рассчитан\n",
      "\n",
      "==========================================\n",
      "Обработка PGS: PGS005143\n",
      "PGS PGS005143, содержит 943274 SNP\n",
      "Количество SNP в PGS: 943274\n",
      "Количество общих SNP: 395304\n",
      "Процент покрытия: 41.91%\n",
      "Выполняем расчет PGS PGS005143\n"
     ]
    },
    {
     "name": "stderr",
     "output_type": "stream",
     "text": [
      "Python(33074) MallocStackLogging: can't turn off malloc stack logging because it was not enabled.\n"
     ]
    },
    {
     "name": "stdout",
     "output_type": "stream",
     "text": [
      "PGS PGS005143 успешно рассчитан\n",
      "\n",
      "==========================================\n",
      "Обработка PGS: PGS003726\n",
      "PGS PGS003726, содержит 1296172 SNP\n",
      "Файл содержит позиционную информацию вместо rsID. Создаем синтетиические идентификаторы.\n",
      "Количество SNP в PGS: 1296172\n",
      "Количество общих SNP: 456468\n",
      "Процент покрытия: 35.22%\n",
      "Выполняем расчет PGS PGS003726\n"
     ]
    },
    {
     "name": "stderr",
     "output_type": "stream",
     "text": [
      "Python(33094) MallocStackLogging: can't turn off malloc stack logging because it was not enabled.\n"
     ]
    },
    {
     "name": "stdout",
     "output_type": "stream",
     "text": [
      "PGS PGS003726 успешно рассчитан\n",
      "\n",
      "==========================================\n",
      "Обработка PGS: PGS002809\n",
      "PGS PGS002809, содержит 205 SNP\n",
      "Количество SNP в PGS: 205\n",
      "Количество общих SNP: 48\n",
      "Процент покрытия: 23.41%\n",
      "Выполняем расчет PGS PGS002809\n"
     ]
    },
    {
     "name": "stderr",
     "output_type": "stream",
     "text": [
      "Python(33095) MallocStackLogging: can't turn off malloc stack logging because it was not enabled.\n"
     ]
    },
    {
     "name": "stdout",
     "output_type": "stream",
     "text": [
      "PGS PGS002809 успешно рассчитан\n",
      "\n",
      "==========================================\n",
      "Обработка PGS: PGS000011\n",
      "PGS PGS000011, содержит 50 SNP\n",
      "Количество SNP в PGS: 50\n",
      "Количество общих SNP: 22\n",
      "Процент покрытия: 44.00%\n",
      "Выполняем расчет PGS PGS000011\n"
     ]
    },
    {
     "name": "stderr",
     "output_type": "stream",
     "text": [
      "Python(33097) MallocStackLogging: can't turn off malloc stack logging because it was not enabled.\n"
     ]
    },
    {
     "name": "stdout",
     "output_type": "stream",
     "text": [
      "PGS PGS000011 успешно рассчитан\n",
      "\n",
      "==========================================\n",
      "Обработка PGS: PGS000818\n",
      "PGS PGS000818, содержит 138 SNP\n",
      "Количество SNP в PGS: 138\n",
      "Количество общих SNP: 42\n",
      "Процент покрытия: 30.43%\n",
      "Выполняем расчет PGS PGS000818\n"
     ]
    },
    {
     "name": "stderr",
     "output_type": "stream",
     "text": [
      "Python(33098) MallocStackLogging: can't turn off malloc stack logging because it was not enabled.\n"
     ]
    },
    {
     "name": "stdout",
     "output_type": "stream",
     "text": [
      "PGS PGS000818 успешно рассчитан\n",
      "\n",
      "==========================================\n",
      "Обработка PGS: PGS004698\n",
      "PGS PGS004698, содержит 542218 SNP\n",
      "Файл содержит позиционную информацию вместо rsID. Создаем синтетиические идентификаторы.\n",
      "Количество SNP в PGS: 542218\n",
      "Количество общих SNP: 26884\n",
      "Процент покрытия: 4.96%\n",
      "Выполняем расчет PGS PGS004698\n"
     ]
    },
    {
     "name": "stderr",
     "output_type": "stream",
     "text": [
      "Python(33101) MallocStackLogging: can't turn off malloc stack logging because it was not enabled.\n"
     ]
    },
    {
     "name": "stdout",
     "output_type": "stream",
     "text": [
      "PGS PGS004698 успешно рассчитан\n",
      "\n",
      "==========================================\n",
      "Обработка PGS: PGS000010\n",
      "PGS PGS000010, содержит 27 SNP\n",
      "Количество SNP в PGS: 27\n",
      "Количество общих SNP: 14\n",
      "Процент покрытия: 51.85%\n",
      "Выполняем расчет PGS PGS000010\n"
     ]
    },
    {
     "name": "stderr",
     "output_type": "stream",
     "text": [
      "Python(33103) MallocStackLogging: can't turn off malloc stack logging because it was not enabled.\n"
     ]
    },
    {
     "name": "stdout",
     "output_type": "stream",
     "text": [
      "PGS PGS000010 успешно рассчитан\n",
      "\n",
      "==========================================\n",
      "Обработка PGS: PGS003727\n",
      "PGS PGS003727, содержит 1125113 SNP\n",
      "Файл содержит позиционную информацию вместо rsID. Создаем синтетиические идентификаторы.\n",
      "Количество SNP в PGS: 1125113\n",
      "Количество общих SNP: 455311\n",
      "Процент покрытия: 40.47%\n",
      "Выполняем расчет PGS PGS003727\n"
     ]
    },
    {
     "name": "stderr",
     "output_type": "stream",
     "text": [
      "Python(33198) MallocStackLogging: can't turn off malloc stack logging because it was not enabled.\n"
     ]
    },
    {
     "name": "stdout",
     "output_type": "stream",
     "text": [
      "PGS PGS003727 успешно рассчитан\n",
      "\n",
      "==========================================\n",
      "Обработка PGS: PGS004921\n",
      "PGS PGS004921, содержит 161 SNP\n",
      "Количество SNP в PGS: 161\n",
      "Количество общих SNP: 30\n",
      "Процент покрытия: 18.63%\n",
      "Выполняем расчет PGS PGS004921\n"
     ]
    },
    {
     "name": "stderr",
     "output_type": "stream",
     "text": [
      "Python(33199) MallocStackLogging: can't turn off malloc stack logging because it was not enabled.\n"
     ]
    },
    {
     "name": "stdout",
     "output_type": "stream",
     "text": [
      "PGS PGS004921 успешно рассчитан\n",
      "\n",
      "==========================================\n",
      "Обработка PGS: PGS004919\n",
      "PGS PGS004919, содержит 50 SNP\n",
      "Количество SNP в PGS: 50\n",
      "Количество общих SNP: 22\n",
      "Процент покрытия: 44.00%\n",
      "Выполняем расчет PGS PGS004919\n"
     ]
    },
    {
     "name": "stderr",
     "output_type": "stream",
     "text": [
      "Python(33200) MallocStackLogging: can't turn off malloc stack logging because it was not enabled.\n"
     ]
    },
    {
     "name": "stdout",
     "output_type": "stream",
     "text": [
      "PGS PGS004919 успешно рассчитан\n",
      "\n",
      "==========================================\n",
      "Обработка PGS: PGS004925\n",
      "PGS PGS004925, содержит 300 SNP\n",
      "Количество SNP в PGS: 300\n",
      "Количество общих SNP: 46\n",
      "Процент покрытия: 15.33%\n",
      "Выполняем расчет PGS PGS004925\n"
     ]
    },
    {
     "name": "stderr",
     "output_type": "stream",
     "text": [
      "Python(33202) MallocStackLogging: can't turn off malloc stack logging because it was not enabled.\n"
     ]
    },
    {
     "name": "stdout",
     "output_type": "stream",
     "text": [
      "PGS PGS004925 успешно рассчитан\n",
      "\n",
      "==========================================\n",
      "Обработка PGS: PGS004514\n",
      "PGS PGS004514, содержит 1059939 SNP\n",
      "Количество SNP в PGS: 1059939\n",
      "Количество общих SNP: 442559\n",
      "Процент покрытия: 41.75%\n",
      "Выполняем расчет PGS PGS004514\n"
     ]
    },
    {
     "name": "stderr",
     "output_type": "stream",
     "text": [
      "Python(33217) MallocStackLogging: can't turn off malloc stack logging because it was not enabled.\n"
     ]
    },
    {
     "name": "stdout",
     "output_type": "stream",
     "text": [
      "PGS PGS004514 успешно рассчитан\n",
      "\n",
      "==========================================\n",
      "Обработка PGS: PGS004306\n",
      "PGS PGS004306, содержит 4000 SNP\n",
      "Файл содержит позиционную информацию вместо rsID. Создаем синтетиические идентификаторы.\n",
      "Количество SNP в PGS: 4000\n",
      "Количество общих SNP: 1576\n",
      "Процент покрытия: 39.40%\n",
      "Выполняем расчет PGS PGS004306\n"
     ]
    },
    {
     "name": "stderr",
     "output_type": "stream",
     "text": [
      "Python(33218) MallocStackLogging: can't turn off malloc stack logging because it was not enabled.\n"
     ]
    },
    {
     "name": "stdout",
     "output_type": "stream",
     "text": [
      "PGS PGS004306 успешно рассчитан\n",
      "\n",
      "==========================================\n",
      "Обработка PGS: PGS004879\n",
      "PGS PGS004879, содержит 610677 SNP\n",
      "Количество SNP в PGS: 610677\n",
      "Количество общих SNP: 259008\n",
      "Процент покрытия: 42.41%\n",
      "Выполняем расчет PGS PGS004879\n"
     ]
    },
    {
     "name": "stderr",
     "output_type": "stream",
     "text": [
      "Python(33224) MallocStackLogging: can't turn off malloc stack logging because it was not enabled.\n"
     ]
    },
    {
     "name": "stdout",
     "output_type": "stream",
     "text": [
      "PGS PGS004879 успешно рассчитан\n",
      "\n",
      "==========================================\n",
      "Обработка PGS: PGS004307\n",
      "PGS PGS004307, содержит 4000 SNP\n",
      "Файл содержит позиционную информацию вместо rsID. Создаем синтетиические идентификаторы.\n",
      "Количество SNP в PGS: 4000\n",
      "Количество общих SNP: 1596\n",
      "Процент покрытия: 39.90%\n",
      "Выполняем расчет PGS PGS004307\n"
     ]
    },
    {
     "name": "stderr",
     "output_type": "stream",
     "text": [
      "Python(33225) MallocStackLogging: can't turn off malloc stack logging because it was not enabled.\n"
     ]
    },
    {
     "name": "stdout",
     "output_type": "stream",
     "text": [
      "PGS PGS004307 успешно рассчитан\n",
      "\n",
      "==========================================\n",
      "Обработка PGS: PGS002776\n",
      "PGS PGS002776, содержит 390782 SNP\n",
      "Количество SNP в PGS: 390782\n",
      "Количество общих SNP: 44688\n",
      "Процент покрытия: 11.44%\n",
      "Выполняем расчет PGS PGS002776\n"
     ]
    },
    {
     "name": "stderr",
     "output_type": "stream",
     "text": [
      "Python(33226) MallocStackLogging: can't turn off malloc stack logging because it was not enabled.\n"
     ]
    },
    {
     "name": "stdout",
     "output_type": "stream",
     "text": [
      "PGS PGS002776 успешно рассчитан\n",
      "\n",
      "==========================================\n",
      "Обработка PGS: PGS000798\n",
      "PGS PGS000798, содержит 157 SNP\n",
      "Количество SNP в PGS: 157\n",
      "Количество общих SNP: 29\n",
      "Процент покрытия: 18.47%\n",
      "Выполняем расчет PGS PGS000798\n"
     ]
    },
    {
     "name": "stderr",
     "output_type": "stream",
     "text": [
      "Python(33228) MallocStackLogging: can't turn off malloc stack logging because it was not enabled.\n"
     ]
    },
    {
     "name": "stdout",
     "output_type": "stream",
     "text": [
      "PGS PGS000798 успешно рассчитан\n",
      "\n",
      "==========================================\n",
      "Обработка PGS: PGS004305\n",
      "PGS PGS004305, содержит 3000 SNP\n",
      "Файл содержит позиционную информацию вместо rsID. Создаем синтетиические идентификаторы.\n",
      "Количество SNP в PGS: 3000\n",
      "Количество общих SNP: 1127\n",
      "Процент покрытия: 37.57%\n",
      "Выполняем расчет PGS PGS004305\n"
     ]
    },
    {
     "name": "stderr",
     "output_type": "stream",
     "text": [
      "Python(33229) MallocStackLogging: can't turn off malloc stack logging because it was not enabled.\n"
     ]
    },
    {
     "name": "stdout",
     "output_type": "stream",
     "text": [
      "PGS PGS004305 успешно рассчитан\n",
      "\n",
      "==========================================\n",
      "Обработка PGS: PGS000349\n",
      "PGS PGS000349, содержит 70 SNP\n",
      "Количество SNP в PGS: 70\n",
      "Количество общих SNP: 24\n",
      "Процент покрытия: 34.29%\n",
      "Выполняем расчет PGS PGS000349\n"
     ]
    },
    {
     "name": "stderr",
     "output_type": "stream",
     "text": [
      "Python(33230) MallocStackLogging: can't turn off malloc stack logging because it was not enabled.\n"
     ]
    },
    {
     "name": "stdout",
     "output_type": "stream",
     "text": [
      "PGS PGS000349 успешно рассчитан\n",
      "\n",
      "==========================================\n",
      "Обработка PGS: PGS003866\n",
      "PGS PGS003866, содержит 10440 SNP\n",
      "Количество SNP в PGS: 10440\n",
      "Количество общих SNP: 4335\n",
      "Процент покрытия: 41.52%\n",
      "Выполняем расчет PGS PGS003866\n"
     ]
    },
    {
     "name": "stderr",
     "output_type": "stream",
     "text": [
      "Python(33232) MallocStackLogging: can't turn off malloc stack logging because it was not enabled.\n"
     ]
    },
    {
     "name": "stdout",
     "output_type": "stream",
     "text": [
      "PGS PGS003866 успешно рассчитан\n",
      "\n",
      "==========================================\n",
      "Обработка PGS: PGS002775\n",
      "PGS PGS002775, содержит 1059 SNP\n",
      "Количество SNP в PGS: 1059\n",
      "Количество общих SNP: 180\n",
      "Процент покрытия: 17.00%\n",
      "Выполняем расчет PGS PGS002775\n"
     ]
    },
    {
     "name": "stderr",
     "output_type": "stream",
     "text": [
      "Python(33233) MallocStackLogging: can't turn off malloc stack logging because it was not enabled.\n"
     ]
    },
    {
     "name": "stdout",
     "output_type": "stream",
     "text": [
      "PGS PGS002775 успешно рассчитан\n",
      "\n",
      "==========================================\n",
      "Обработка PGS: PGS005152\n",
      "PGS PGS005152, содержит 943274 SNP\n",
      "Количество SNP в PGS: 943274\n",
      "Количество общих SNP: 395304\n",
      "Процент покрытия: 41.91%\n",
      "Выполняем расчет PGS PGS005152\n"
     ]
    },
    {
     "name": "stderr",
     "output_type": "stream",
     "text": [
      "Python(33248) MallocStackLogging: can't turn off malloc stack logging because it was not enabled.\n"
     ]
    },
    {
     "name": "stdout",
     "output_type": "stream",
     "text": [
      "PGS PGS005152 успешно рассчитан\n",
      "\n",
      "==========================================\n",
      "Обработка PGS: PGS000200\n",
      "PGS PGS000200, содержит 28 SNP\n",
      "Количество SNP в PGS: 28\n",
      "Количество общих SNP: 15\n",
      "Процент покрытия: 53.57%\n",
      "Выполняем расчет PGS PGS000200\n"
     ]
    },
    {
     "name": "stderr",
     "output_type": "stream",
     "text": [
      "Python(33249) MallocStackLogging: can't turn off malloc stack logging because it was not enabled.\n"
     ]
    },
    {
     "name": "stdout",
     "output_type": "stream",
     "text": [
      "PGS PGS000200 успешно рассчитан\n",
      "\n",
      "==========================================\n",
      "Обработка PGS: PGS000059\n",
      "PGS PGS000059, содержит 46 SNP\n",
      "Количество SNP в PGS: 46\n",
      "Количество общих SNP: 18\n",
      "Процент покрытия: 39.13%\n",
      "Выполняем расчет PGS PGS000059\n"
     ]
    },
    {
     "name": "stderr",
     "output_type": "stream",
     "text": [
      "Python(33250) MallocStackLogging: can't turn off malloc stack logging because it was not enabled.\n"
     ]
    },
    {
     "name": "stdout",
     "output_type": "stream",
     "text": [
      "PGS PGS000059 успешно рассчитан\n",
      "\n",
      "==========================================\n",
      "Обработка PGS: PGS003356\n",
      "PGS PGS003356, содержит 2324683 SNP\n",
      "Файл содержит позиционную информацию вместо rsID. Создаем синтетиические идентификаторы.\n",
      "Количество SNP в PGS: 2324683\n",
      "Количество общих SNP: 497605\n",
      "Процент покрытия: 21.41%\n",
      "Выполняем расчет PGS PGS003356\n"
     ]
    },
    {
     "name": "stderr",
     "output_type": "stream",
     "text": [
      "Python(33370) MallocStackLogging: can't turn off malloc stack logging because it was not enabled.\n"
     ]
    },
    {
     "name": "stdout",
     "output_type": "stream",
     "text": [
      "PGS PGS003356 успешно рассчитан\n",
      "\n",
      "==========================================\n",
      "Обработка PGS: PGS002048\n",
      "PGS PGS002048, содержит 762124 SNP\n",
      "Количество SNP в PGS: 762124\n",
      "Количество общих SNP: 322896\n",
      "Процент покрытия: 42.37%\n",
      "Выполняем расчет PGS PGS002048\n"
     ]
    },
    {
     "name": "stderr",
     "output_type": "stream",
     "text": [
      "Python(33390) MallocStackLogging: can't turn off malloc stack logging because it was not enabled.\n"
     ]
    },
    {
     "name": "stdout",
     "output_type": "stream",
     "text": [
      "PGS PGS002048 успешно рассчитан\n",
      "\n",
      "==========================================\n",
      "Обработка PGS: PGS001780\n",
      "PGS PGS001780, содержит 1090048 SNP\n",
      "Количество SNP в PGS: 1090048\n",
      "Количество общих SNP: 450206\n",
      "Процент покрытия: 41.30%\n",
      "Выполняем расчет PGS PGS001780\n"
     ]
    },
    {
     "name": "stderr",
     "output_type": "stream",
     "text": [
      "Python(33398) MallocStackLogging: can't turn off malloc stack logging because it was not enabled.\n"
     ]
    },
    {
     "name": "stdout",
     "output_type": "stream",
     "text": [
      "PGS PGS001780 успешно рассчитан\n",
      "\n",
      "==========================================\n",
      "Обработка PGS: PGS002262\n",
      "PGS PGS002262, содержит 540 SNP\n",
      "Количество SNP в PGS: 540\n",
      "Количество общих SNP: 136\n",
      "Процент покрытия: 25.19%\n",
      "Выполняем расчет PGS PGS002262\n"
     ]
    },
    {
     "name": "stderr",
     "output_type": "stream",
     "text": [
      "Python(33399) MallocStackLogging: can't turn off malloc stack logging because it was not enabled.\n"
     ]
    },
    {
     "name": "stdout",
     "output_type": "stream",
     "text": [
      "PGS PGS002262 успешно рассчитан\n",
      "\n",
      "==========================================\n",
      "Обработка PGS: PGS000058\n",
      "PGS PGS000058, содержит 204 SNP\n",
      "Количество SNP в PGS: 204\n",
      "Количество общих SNP: 41\n",
      "Процент покрытия: 20.10%\n",
      "Выполняем расчет PGS PGS000058\n"
     ]
    },
    {
     "name": "stderr",
     "output_type": "stream",
     "text": [
      "Python(33400) MallocStackLogging: can't turn off malloc stack logging because it was not enabled.\n"
     ]
    },
    {
     "name": "stdout",
     "output_type": "stream",
     "text": [
      "PGS PGS000058 успешно рассчитан\n",
      "\n",
      "==========================================\n",
      "Обработка PGS: PGS001839\n",
      "PGS PGS001839, содержит 25425 SNP\n",
      "Количество SNP в PGS: 25425\n",
      "Количество общих SNP: 11260\n",
      "Процент покрытия: 44.29%\n",
      "Выполняем расчет PGS PGS001839\n"
     ]
    },
    {
     "name": "stderr",
     "output_type": "stream",
     "text": [
      "Python(33407) MallocStackLogging: can't turn off malloc stack logging because it was not enabled.\n"
     ]
    },
    {
     "name": "stdout",
     "output_type": "stream",
     "text": [
      "PGS PGS001839 успешно рассчитан\n",
      "\n",
      "==========================================\n",
      "Обработка PGS: PGS004941\n",
      "PGS PGS004941, содержит 3711629 SNP\n",
      "Файл содержит позиционную информацию вместо rsID. Создаем синтетиические идентификаторы.\n",
      "Количество SNP в PGS: 3711629\n",
      "Количество общих SNP: 429616\n",
      "Процент покрытия: 11.57%\n",
      "Выполняем расчет PGS PGS004941\n"
     ]
    },
    {
     "name": "stderr",
     "output_type": "stream",
     "text": [
      "Python(33631) MallocStackLogging: can't turn off malloc stack logging because it was not enabled.\n"
     ]
    },
    {
     "name": "stdout",
     "output_type": "stream",
     "text": [
      "PGS PGS004941 успешно рассчитан\n",
      "\n",
      "==========================================\n",
      "Обработка PGS: PGS004200\n",
      "PGS PGS004200, содержит 8361 SNP\n",
      "Количество SNP в PGS: 8361\n",
      "Количество общих SNP: 899\n",
      "Процент покрытия: 10.75%\n",
      "Выполняем расчет PGS PGS004200\n"
     ]
    },
    {
     "name": "stderr",
     "output_type": "stream",
     "text": [
      "Python(33637) MallocStackLogging: can't turn off malloc stack logging because it was not enabled.\n"
     ]
    },
    {
     "name": "stdout",
     "output_type": "stream",
     "text": [
      "PGS PGS004200 успешно рассчитан\n",
      "\n",
      "==========================================\n",
      "Обработка PGS: PGS003355\n",
      "PGS PGS003355, содержит 1532758 SNP\n",
      "Файл содержит позиционную информацию вместо rsID. Создаем синтетиические идентификаторы.\n",
      "Количество SNP в PGS: 1532758\n",
      "Количество общих SNP: 116470\n",
      "Процент покрытия: 7.60%\n",
      "Выполняем расчет PGS PGS003355\n"
     ]
    },
    {
     "name": "stderr",
     "output_type": "stream",
     "text": [
      "Python(33665) MallocStackLogging: can't turn off malloc stack logging because it was not enabled.\n"
     ]
    },
    {
     "name": "stdout",
     "output_type": "stream",
     "text": [
      "PGS PGS003355 успешно рассчитан\n",
      "\n",
      "==========================================\n",
      "Обработка PGS: PGS001355\n",
      "PGS PGS001355, содержит 2994055 SNP\n",
      "Количество SNP в PGS: 2994055\n",
      "Количество общих SNP: 317044\n",
      "Процент покрытия: 10.59%\n",
      "Выполняем расчет PGS PGS001355\n"
     ]
    },
    {
     "name": "stderr",
     "output_type": "stream",
     "text": [
      "Python(33679) MallocStackLogging: can't turn off malloc stack logging because it was not enabled.\n"
     ]
    },
    {
     "name": "stdout",
     "output_type": "stream",
     "text": [
      "PGS PGS001355 успешно рассчитан\n",
      "\n",
      "==========================================\n",
      "Обработка PGS: PGS004198\n",
      "PGS PGS004198, содержит 5723 SNP\n",
      "Количество SNP в PGS: 5723\n",
      "Количество общих SNP: 670\n",
      "Процент покрытия: 11.71%\n",
      "Выполняем расчет PGS PGS004198\n"
     ]
    },
    {
     "name": "stderr",
     "output_type": "stream",
     "text": [
      "Python(33680) MallocStackLogging: can't turn off malloc stack logging because it was not enabled.\n"
     ]
    },
    {
     "name": "stdout",
     "output_type": "stream",
     "text": [
      "PGS PGS004198 успешно рассчитан\n",
      "\n",
      "==========================================\n",
      "Обработка PGS: PGS000329\n",
      "PGS PGS000329, содержит 6423165 SNP\n",
      "Количество SNP в PGS: 6423165\n",
      "Количество общих SNP: 490575\n",
      "Процент покрытия: 7.64%\n",
      "Выполняем расчет PGS PGS000329\n"
     ]
    },
    {
     "name": "stderr",
     "output_type": "stream",
     "text": [
      "Python(33778) MallocStackLogging: can't turn off malloc stack logging because it was not enabled.\n"
     ]
    },
    {
     "name": "stdout",
     "output_type": "stream",
     "text": [
      "PGS PGS000329 успешно рассчитан\n",
      "\n",
      "==========================================\n",
      "Обработка PGS: PGS004199\n",
      "PGS PGS004199, содержит 6085 SNP\n",
      "Количество SNP в PGS: 6085\n",
      "Количество общих SNP: 682\n",
      "Процент покрытия: 11.21%\n",
      "Выполняем расчет PGS PGS004199\n"
     ]
    },
    {
     "name": "stderr",
     "output_type": "stream",
     "text": [
      "Python(33781) MallocStackLogging: can't turn off malloc stack logging because it was not enabled.\n"
     ]
    },
    {
     "name": "stdout",
     "output_type": "stream",
     "text": [
      "PGS PGS004199 успешно рассчитан\n",
      "\n",
      "==========================================\n",
      "Обработка PGS: PGS000116\n",
      "PGS PGS000116, содержит 40079 SNP\n",
      "Количество SNP в PGS: 40079\n",
      "Количество общих SNP: 3662\n",
      "Процент покрытия: 9.14%\n",
      "Выполняем расчет PGS PGS000116\n"
     ]
    },
    {
     "name": "stderr",
     "output_type": "stream",
     "text": [
      "Python(33782) MallocStackLogging: can't turn off malloc stack logging because it was not enabled.\n"
     ]
    },
    {
     "name": "stdout",
     "output_type": "stream",
     "text": [
      "PGS PGS000116 успешно рассчитан\n",
      "\n",
      "==========================================\n",
      "Обработка PGS: PGS005091\n",
      "PGS PGS005091, содержит 1428772 SNP\n",
      "Файл содержит позиционную информацию вместо rsID. Создаем синтетиические идентификаторы.\n",
      "Количество SNP в PGS: 1428772\n",
      "Количество общих SNP: 4354\n",
      "Процент покрытия: 0.30%\n",
      "Выполняем расчет PGS PGS005091\n"
     ]
    },
    {
     "name": "stderr",
     "output_type": "stream",
     "text": [
      "Python(33796) MallocStackLogging: can't turn off malloc stack logging because it was not enabled.\n"
     ]
    },
    {
     "name": "stdout",
     "output_type": "stream",
     "text": [
      "PGS PGS005091 успешно рассчитан\n",
      "\n",
      "==========================================\n",
      "Обработка PGS: PGS005092\n",
      "PGS PGS005092, содержит 1279502 SNP\n",
      "Файл содержит позиционную информацию вместо rsID. Создаем синтетиические идентификаторы.\n",
      "Количество SNP в PGS: 1279502\n",
      "Количество общих SNP: 4540\n",
      "Процент покрытия: 0.35%\n",
      "Выполняем расчет PGS PGS005092\n"
     ]
    },
    {
     "name": "stderr",
     "output_type": "stream",
     "text": [
      "Python(33798) MallocStackLogging: can't turn off malloc stack logging because it was not enabled.\n"
     ]
    },
    {
     "name": "stdout",
     "output_type": "stream",
     "text": [
      "PGS PGS005092 успешно рассчитан\n",
      "\n",
      "==========================================\n",
      "Обработка PGS: PGS004746\n",
      "PGS PGS004746, содержит 6483064 SNP\n",
      "Файл содержит позиционную информацию вместо rsID. Создаем синтетиические идентификаторы.\n",
      "Количество SNP в PGS: 6483064\n",
      "Количество общих SNP: 6132\n",
      "Процент покрытия: 0.09%\n",
      "Выполняем расчет PGS PGS004746\n"
     ]
    },
    {
     "name": "stderr",
     "output_type": "stream",
     "text": [
      "Python(33826) MallocStackLogging: can't turn off malloc stack logging because it was not enabled.\n"
     ]
    },
    {
     "name": "stdout",
     "output_type": "stream",
     "text": [
      "PGS PGS004746 успешно рассчитан\n",
      "\n",
      "==========================================\n",
      "Обработка PGS: PGS004197\n",
      "PGS PGS004197, содержит 11490 SNP\n",
      "Количество SNP в PGS: 11490\n",
      "Количество общих SNP: 1193\n",
      "Процент покрытия: 10.38%\n",
      "Выполняем расчет PGS PGS004197\n"
     ]
    },
    {
     "name": "stderr",
     "output_type": "stream",
     "text": [
      "Python(33829) MallocStackLogging: can't turn off malloc stack logging because it was not enabled.\n"
     ]
    },
    {
     "name": "stdout",
     "output_type": "stream",
     "text": [
      "PGS PGS004197 успешно рассчитан\n",
      "\n",
      "==========================================\n",
      "Обработка PGS: PGS004196\n",
      "PGS PGS004196, содержит 3892 SNP\n",
      "Количество SNP в PGS: 3892\n",
      "Количество общих SNP: 464\n",
      "Процент покрытия: 11.92%\n",
      "Выполняем расчет PGS PGS004196\n"
     ]
    },
    {
     "name": "stderr",
     "output_type": "stream",
     "text": [
      "Python(33830) MallocStackLogging: can't turn off malloc stack logging because it was not enabled.\n"
     ]
    },
    {
     "name": "stdout",
     "output_type": "stream",
     "text": [
      "PGS PGS004196 успешно рассчитан\n",
      "\n",
      "==========================================\n",
      "Обработка PGS: PGS003438\n",
      "PGS PGS003438, содержит 241 SNP\n",
      "Количество SNP в PGS: 241\n",
      "Количество общих SNP: 29\n",
      "Процент покрытия: 12.03%\n",
      "Выполняем расчет PGS PGS003438\n"
     ]
    },
    {
     "name": "stderr",
     "output_type": "stream",
     "text": [
      "Python(33832) MallocStackLogging: can't turn off malloc stack logging because it was not enabled.\n"
     ]
    },
    {
     "name": "stdout",
     "output_type": "stream",
     "text": [
      "PGS PGS003438 успешно рассчитан\n",
      "\n",
      "==========================================\n",
      "Обработка PGS: PGS004237\n",
      "PGS PGS004237, содержит 1146511 SNP\n",
      "Количество SNP в PGS: 1146511\n",
      "Количество общих SNP: 474392\n",
      "Процент покрытия: 41.38%\n",
      "Выполняем расчет PGS PGS004237\n"
     ]
    },
    {
     "name": "stderr",
     "output_type": "stream",
     "text": [
      "Python(33928) MallocStackLogging: can't turn off malloc stack logging because it was not enabled.\n"
     ]
    },
    {
     "name": "stdout",
     "output_type": "stream",
     "text": [
      "PGS PGS004237 успешно рассчитан\n",
      "\n",
      "==========================================\n",
      "Обработка PGS: PGS004745\n",
      "PGS PGS004745, содержит 4769577 SNP\n",
      "Файл содержит позиционную информацию вместо rsID. Создаем синтетиические идентификаторы.\n",
      "Количество SNP в PGS: 4769577\n",
      "Количество общих SNP: 4560\n",
      "Процент покрытия: 0.10%\n",
      "Выполняем расчет PGS PGS004745\n"
     ]
    },
    {
     "name": "stderr",
     "output_type": "stream",
     "text": [
      "Python(33959) MallocStackLogging: can't turn off malloc stack logging because it was not enabled.\n"
     ]
    },
    {
     "name": "stdout",
     "output_type": "stream",
     "text": [
      "Ошибк при расчете PGS PGS004745 Error: Duplicate variant 'rs7862687' in --score file.\n",
      "\n",
      "\n",
      "==========================================\n",
      "Обработка PGS: PGS000899\n",
      "PGS PGS000899, содержит 176 SNP\n",
      "Количество SNP в PGS: 176\n",
      "Количество общих SNP: 37\n",
      "Процент покрытия: 21.02%\n",
      "Выполняем расчет PGS PGS000899\n"
     ]
    },
    {
     "name": "stderr",
     "output_type": "stream",
     "text": [
      "Python(33961) MallocStackLogging: can't turn off malloc stack logging because it was not enabled.\n"
     ]
    },
    {
     "name": "stdout",
     "output_type": "stream",
     "text": [
      "PGS PGS000899 успешно рассчитан\n",
      "\n",
      "==========================================\n",
      "Обработка PGS: PGS004744\n",
      "PGS PGS004744, содержит 7082943 SNP\n",
      "Файл содержит позиционную информацию вместо rsID. Создаем синтетиические идентификаторы.\n",
      "Количество SNP в PGS: 7082943\n",
      "Количество общих SNP: 6891\n",
      "Процент покрытия: 0.10%\n",
      "Выполняем расчет PGS PGS004744\n"
     ]
    },
    {
     "name": "stderr",
     "output_type": "stream",
     "text": [
      "Python(33986) MallocStackLogging: can't turn off malloc stack logging because it was not enabled.\n"
     ]
    },
    {
     "name": "stdout",
     "output_type": "stream",
     "text": [
      "PGS PGS004744 успешно рассчитан\n",
      "\n",
      "==========================================\n",
      "Обработка PGS: PGS004595\n",
      "PGS PGS004595, содержит 164 SNP\n",
      "Количество SNP в PGS: 164\n",
      "Количество общих SNP: 40\n",
      "Процент покрытия: 24.39%\n",
      "Выполняем расчет PGS PGS004595\n"
     ]
    },
    {
     "name": "stderr",
     "output_type": "stream",
     "text": [
      "Python(33989) MallocStackLogging: can't turn off malloc stack logging because it was not enabled.\n"
     ]
    },
    {
     "name": "stdout",
     "output_type": "stream",
     "text": [
      "PGS PGS004595 успешно рассчитан\n",
      "\n",
      "==========================================\n",
      "Обработка PGS: PGS005112\n",
      "PGS PGS005112, содержит 1106628 SNP\n",
      "Количество SNP в PGS: 1106628\n",
      "Количество общих SNP: 454934\n",
      "Процент покрытия: 41.11%\n",
      "Выполняем расчет PGS PGS005112\n"
     ]
    },
    {
     "name": "stderr",
     "output_type": "stream",
     "text": [
      "Python(34080) MallocStackLogging: can't turn off malloc stack logging because it was not enabled.\n"
     ]
    },
    {
     "name": "stdout",
     "output_type": "stream",
     "text": [
      "PGS PGS005112 успешно рассчитан\n",
      "\n",
      "==========================================\n",
      "Обработка PGS: PGS002244\n",
      "PGS PGS002244, содержит 6576338 SNP\n",
      "Количество SNP в PGS: 6576338\n",
      "Количество общих SNP: 497179\n",
      "Процент покрытия: 7.56%\n",
      "Выполняем расчет PGS PGS002244\n"
     ]
    },
    {
     "name": "stderr",
     "output_type": "stream",
     "text": [
      "Python(34099) MallocStackLogging: can't turn off malloc stack logging because it was not enabled.\n"
     ]
    },
    {
     "name": "stdout",
     "output_type": "stream",
     "text": [
      "PGS PGS002244 успешно рассчитан\n",
      "\n",
      "==========================================\n",
      "Обработка PGS: PGS000057\n",
      "PGS PGS000057, содержит 57 SNP\n",
      "Количество SNP в PGS: 57\n",
      "Количество общих SNP: 19\n",
      "Процент покрытия: 33.33%\n",
      "Выполняем расчет PGS PGS000057\n"
     ]
    },
    {
     "name": "stderr",
     "output_type": "stream",
     "text": [
      "Python(34101) MallocStackLogging: can't turn off malloc stack logging because it was not enabled.\n"
     ]
    },
    {
     "name": "stdout",
     "output_type": "stream",
     "text": [
      "PGS PGS000057 успешно рассчитан\n",
      "\n",
      "==========================================\n",
      "Обработка PGS: PGS000296\n",
      "PGS PGS000296, содержит 6630150 SNP\n",
      "Файл содержит позиционную информацию вместо rsID. Создаем синтетиические идентификаторы.\n",
      "Количество SNP в PGS: 6630150\n",
      "Количество общих SNP: 495928\n",
      "Процент покрытия: 7.48%\n",
      "Выполняем расчет PGS PGS000296\n"
     ]
    },
    {
     "name": "stderr",
     "output_type": "stream",
     "text": [
      "Python(34228) MallocStackLogging: can't turn off malloc stack logging because it was not enabled.\n"
     ]
    },
    {
     "name": "stdout",
     "output_type": "stream",
     "text": [
      "PGS PGS000296 успешно рассчитан\n",
      "\n",
      "==========================================\n",
      "Обработка PGS: PGS004743\n",
      "PGS PGS004743, содержит 3606321 SNP\n",
      "Файл содержит позиционную информацию вместо rsID. Создаем синтетиические идентификаторы.\n",
      "Количество SNP в PGS: 3606321\n",
      "Количество общих SNP: 3853\n",
      "Процент покрытия: 0.11%\n",
      "Выполняем расчет PGS PGS004743\n"
     ]
    },
    {
     "name": "stderr",
     "output_type": "stream",
     "text": [
      "Python(34246) MallocStackLogging: can't turn off malloc stack logging because it was not enabled.\n"
     ]
    },
    {
     "name": "stdout",
     "output_type": "stream",
     "text": [
      "Ошибк при расчете PGS PGS004743 Error: Duplicate variant 'rs7862687' in --score file.\n",
      "\n",
      "\n",
      "==========================================\n",
      "Обработка PGS: PGS004596\n",
      "PGS PGS004596, содержит 64 SNP\n",
      "Количество SNP в PGS: 64\n",
      "Количество общих SNP: 24\n",
      "Процент покрытия: 37.50%\n",
      "Выполняем расчет PGS PGS004596\n"
     ]
    },
    {
     "name": "stderr",
     "output_type": "stream",
     "text": [
      "Python(34247) MallocStackLogging: can't turn off malloc stack logging because it was not enabled.\n"
     ]
    },
    {
     "name": "stdout",
     "output_type": "stream",
     "text": [
      "PGS PGS004596 успешно рассчитан\n",
      "\n",
      "==========================================\n",
      "Обработка PGS: PGS000337\n",
      "PGS PGS000337, содержит 75028 SNP\n",
      "Файл содержит позиционную информацию вместо rsID. Создаем синтетиические идентификаторы.\n",
      "Количество SNP в PGS: 75028\n",
      "Количество общих SNP: 10154\n",
      "Процент покрытия: 13.53%\n",
      "Выполняем расчет PGS PGS000337\n"
     ]
    },
    {
     "name": "stderr",
     "output_type": "stream",
     "text": [
      "Python(34251) MallocStackLogging: can't turn off malloc stack logging because it was not enabled.\n"
     ]
    },
    {
     "name": "stdout",
     "output_type": "stream",
     "text": [
      "PGS PGS000337 успешно рассчитан\n",
      "\n",
      "==========================================\n",
      "Обработка PGS: PGS004309\n",
      "PGS PGS004309, содержит 3000 SNP\n",
      "Файл содержит позиционную информацию вместо rsID. Создаем синтетиические идентификаторы.\n",
      "Количество SNP в PGS: 3000\n",
      "Количество общих SNP: 1174\n",
      "Процент покрытия: 39.13%\n",
      "Выполняем расчет PGS PGS004309\n"
     ]
    },
    {
     "name": "stderr",
     "output_type": "stream",
     "text": [
      "Python(34252) MallocStackLogging: can't turn off malloc stack logging because it was not enabled.\n"
     ]
    },
    {
     "name": "stdout",
     "output_type": "stream",
     "text": [
      "PGS PGS004309 успешно рассчитан\n",
      "\n",
      "==========================================\n",
      "Обработка PGS: PGS004321\n",
      "PGS PGS004321, содержит 27 SNP\n",
      "Количество SNP в PGS: 27\n",
      "Количество общих SNP: 14\n",
      "Процент покрытия: 51.85%\n",
      "Выполняем расчет PGS PGS004321\n"
     ]
    },
    {
     "name": "stderr",
     "output_type": "stream",
     "text": [
      "Python(34253) MallocStackLogging: can't turn off malloc stack logging because it was not enabled.\n"
     ]
    },
    {
     "name": "stdout",
     "output_type": "stream",
     "text": [
      "PGS PGS004321 успешно рассчитан\n",
      "\n",
      "==========================================\n",
      "Обработка PGS: PGS004888\n",
      "PGS PGS004888, содержит 1110046 SNP\n",
      "Файл содержит позиционную информацию вместо rsID. Создаем синтетиические идентификаторы.\n",
      "Количество SNP в PGS: 1110046\n",
      "Количество общих SNP: 453801\n",
      "Процент покрытия: 40.88%\n",
      "Выполняем расчет PGS PGS004888\n"
     ]
    },
    {
     "name": "stderr",
     "output_type": "stream",
     "text": [
      "Python(34262) MallocStackLogging: can't turn off malloc stack logging because it was not enabled.\n"
     ]
    },
    {
     "name": "stdout",
     "output_type": "stream",
     "text": [
      "PGS PGS004888 успешно рассчитан\n",
      "\n",
      "==========================================\n",
      "Обработка PGS: PGS004308\n",
      "PGS PGS004308, содержит 1500 SNP\n",
      "Файл содержит позиционную информацию вместо rsID. Создаем синтетиические идентификаторы.\n",
      "Количество SNP в PGS: 1500\n",
      "Количество общих SNP: 584\n",
      "Процент покрытия: 38.93%\n",
      "Выполняем расчет PGS PGS004308\n"
     ]
    },
    {
     "name": "stderr",
     "output_type": "stream",
     "text": [
      "Python(34265) MallocStackLogging: can't turn off malloc stack logging because it was not enabled.\n"
     ]
    },
    {
     "name": "stdout",
     "output_type": "stream",
     "text": [
      "PGS PGS004308 успешно рассчитан\n",
      "\n",
      "==========================================\n",
      "Обработка PGS: PGS000018\n",
      "PGS PGS000018, содержит 1745179 SNP\n",
      "Количество SNP в PGS: 1745179\n",
      "Количество общих SNP: 129619\n",
      "Процент покрытия: 7.43%\n",
      "Выполняем расчет PGS PGS000018\n"
     ]
    },
    {
     "name": "stderr",
     "output_type": "stream",
     "text": [
      "Python(34279) MallocStackLogging: can't turn off malloc stack logging because it was not enabled.\n"
     ]
    },
    {
     "name": "stdout",
     "output_type": "stream",
     "text": [
      "PGS PGS000018 успешно рассчитан\n",
      "\n",
      "==========================================\n",
      "Обработка PGS: PGS004444\n",
      "PGS PGS004444, содержит 1059939 SNP\n",
      "Количество SNP в PGS: 1059939\n",
      "Количество общих SNP: 442559\n",
      "Процент покрытия: 41.75%\n",
      "Выполняем расчет PGS PGS004444\n"
     ]
    },
    {
     "name": "stderr",
     "output_type": "stream",
     "text": [
      "Python(34377) MallocStackLogging: can't turn off malloc stack logging because it was not enabled.\n"
     ]
    },
    {
     "name": "stdout",
     "output_type": "stream",
     "text": [
      "PGS PGS004444 успешно рассчитан\n",
      "\n",
      "==========================================\n",
      "Обработка PGS: PGS000019\n",
      "PGS PGS000019, содержит 192 SNP\n",
      "Количество SNP в PGS: 192\n",
      "Количество общих SNP: 26\n",
      "Процент покрытия: 13.54%\n",
      "Выполняем расчет PGS PGS000019\n"
     ]
    },
    {
     "name": "stderr",
     "output_type": "stream",
     "text": [
      "Python(34380) MallocStackLogging: can't turn off malloc stack logging because it was not enabled.\n"
     ]
    },
    {
     "name": "stdout",
     "output_type": "stream",
     "text": [
      "PGS PGS000019 успешно рассчитан\n",
      "\n",
      "==========================================\n",
      "Обработка PGS: PGS000747\n",
      "PGS PGS000747, содержит 375822 SNP\n",
      "Файл содержит позиционную информацию вместо rsID. Создаем синтетиические идентификаторы.\n",
      "Количество SNP в PGS: 375822\n",
      "Количество общих SNP: 31294\n",
      "Процент покрытия: 8.33%\n",
      "Выполняем расчет PGS PGS000747\n"
     ]
    },
    {
     "name": "stderr",
     "output_type": "stream",
     "text": [
      "Python(34382) MallocStackLogging: can't turn off malloc stack logging because it was not enabled.\n"
     ]
    },
    {
     "name": "stdout",
     "output_type": "stream",
     "text": [
      "PGS PGS000747 успешно рассчитан\n",
      "\n",
      "==========================================\n",
      "Обработка PGS: PGS000746\n",
      "PGS PGS000746, содержит 1940 SNP\n",
      "Файл содержит позиционную информацию вместо rsID. Создаем синтетиические идентификаторы.\n",
      "Количество SNP в PGS: 1940\n",
      "Количество общих SNP: 232\n",
      "Процент покрытия: 11.96%\n",
      "Выполняем расчет PGS PGS000746\n"
     ]
    },
    {
     "name": "stderr",
     "output_type": "stream",
     "text": [
      "Python(34383) MallocStackLogging: can't turn off malloc stack logging because it was not enabled.\n"
     ]
    },
    {
     "name": "stdout",
     "output_type": "stream",
     "text": [
      "PGS PGS000746 успешно рассчитан\n",
      "\n",
      "==========================================\n",
      "Обработка PGS: PGS004697\n",
      "PGS PGS004697, содержит 1120251 SNP\n",
      "Количество SNP в PGS: 1120251\n",
      "Количество общих SNP: 456041\n",
      "Процент покрытия: 40.71%\n",
      "Выполняем расчет PGS PGS004697\n"
     ]
    },
    {
     "name": "stderr",
     "output_type": "stream",
     "text": [
      "Python(34399) MallocStackLogging: can't turn off malloc stack logging because it was not enabled.\n"
     ]
    },
    {
     "name": "stdout",
     "output_type": "stream",
     "text": [
      "PGS PGS004697 успешно рассчитан\n",
      "\n",
      "==========================================\n",
      "Обработка PGS: PGS004899\n",
      "PGS PGS004899, содержит 7 SNP\n",
      "Количество SNP в PGS: 7\n",
      "Количество общих SNP: 0\n",
      "Процент покрытия: 0.00%\n",
      "нет общих SNP для PGS004899\n",
      "\n",
      "==========================================\n",
      "Обработка PGS: PGS004696\n",
      "PGS PGS004696, содержит 1289980 SNP\n",
      "Количество SNP в PGS: 1289980\n",
      "Количество общих SNP: 456450\n",
      "Процент покрытия: 35.38%\n",
      "Выполняем расчет PGS PGS004696\n"
     ]
    },
    {
     "name": "stderr",
     "output_type": "stream",
     "text": [
      "Python(34404) MallocStackLogging: can't turn off malloc stack logging because it was not enabled.\n"
     ]
    },
    {
     "name": "stdout",
     "output_type": "stream",
     "text": [
      "PGS PGS004696 успешно рассчитан\n",
      "\n",
      "==========================================\n",
      "Обработка PGS: PGS004443\n",
      "PGS PGS004443, содержит 1059939 SNP\n",
      "Количество SNP в PGS: 1059939\n",
      "Количество общих SNP: 442559\n",
      "Процент покрытия: 41.75%\n",
      "Выполняем расчет PGS PGS004443\n"
     ]
    },
    {
     "name": "stderr",
     "output_type": "stream",
     "text": [
      "Python(34424) MallocStackLogging: can't turn off malloc stack logging because it was not enabled.\n"
     ]
    },
    {
     "name": "stdout",
     "output_type": "stream",
     "text": [
      "PGS PGS004443 успешно рассчитан\n",
      "\n",
      "==========================================\n",
      "Обработка PGS: PGS000962\n",
      "PGS PGS000962, содержит 2168 SNP\n",
      "Количество SNP в PGS: 2168\n",
      "Количество общих SNP: 444\n",
      "Процент покрытия: 20.48%\n",
      "Выполняем расчет PGS PGS000962\n"
     ]
    },
    {
     "name": "stderr",
     "output_type": "stream",
     "text": [
      "Python(34425) MallocStackLogging: can't turn off malloc stack logging because it was not enabled.\n"
     ]
    },
    {
     "name": "stdout",
     "output_type": "stream",
     "text": [
      "PGS PGS000962 успешно рассчитан\n"
     ]
    },
    {
     "name": "stderr",
     "output_type": "stream",
     "text": [
      "/Users/daklo/for_dipl/pgs_calculator.py:139: SettingWithCopyWarning: \n",
      "A value is trying to be set on a copy of a slice from a DataFrame.\n",
      "Try using .loc[row_indexer,col_indexer] = value instead\n",
      "\n",
      "See the caveats in the documentation: https://pandas.pydata.org/pandas-docs/stable/user_guide/indexing.html#returning-a-view-versus-a-copy\n",
      "  combined[pgs_name] = df['SCORE']\n",
      "/Users/daklo/for_dipl/pgs_calculator.py:139: SettingWithCopyWarning: \n",
      "A value is trying to be set on a copy of a slice from a DataFrame.\n",
      "Try using .loc[row_indexer,col_indexer] = value instead\n",
      "\n",
      "See the caveats in the documentation: https://pandas.pydata.org/pandas-docs/stable/user_guide/indexing.html#returning-a-view-versus-a-copy\n",
      "  combined[pgs_name] = df['SCORE']\n",
      "/Users/daklo/for_dipl/pgs_calculator.py:139: SettingWithCopyWarning: \n",
      "A value is trying to be set on a copy of a slice from a DataFrame.\n",
      "Try using .loc[row_indexer,col_indexer] = value instead\n",
      "\n",
      "See the caveats in the documentation: https://pandas.pydata.org/pandas-docs/stable/user_guide/indexing.html#returning-a-view-versus-a-copy\n",
      "  combined[pgs_name] = df['SCORE']\n"
     ]
    },
    {
     "name": "stdout",
     "output_type": "stream",
     "text": [
      "Объеденены PGS для 896 образцов и 73 PGS\n",
      "Сохраняю в ./pgs_results_calculated/train_5_pgs.csv\n",
      "1\n",
      "файл ./test_5.bim, содержит 591998 SNP\n",
      "Найдено 76 PGS\n",
      "\n",
      "==========================================\n",
      "Обработка PGS: PGS003725\n",
      "PGS PGS003725, содержит 1296172 SNP\n",
      "Файл содержит позиционную информацию вместо rsID. Создаем синтетиические идентификаторы.\n",
      "Количество SNP в PGS: 1296172\n",
      "Количество общих SNP: 456468\n",
      "Процент покрытия: 35.22%\n",
      "Выполняем расчет PGS PGS003725\n"
     ]
    },
    {
     "name": "stderr",
     "output_type": "stream",
     "text": [
      "Python(34792) MallocStackLogging: can't turn off malloc stack logging because it was not enabled.\n"
     ]
    },
    {
     "name": "stdout",
     "output_type": "stream",
     "text": [
      "PGS PGS003725 успешно рассчитан\n",
      "\n",
      "==========================================\n",
      "Обработка PGS: PGS000748\n",
      "PGS PGS000748, содержит 3423987 SNP\n",
      "Файл содержит позиционную информацию вместо rsID. Создаем синтетиические идентификаторы.\n",
      "Количество SNP в PGS: 3423987\n",
      "Количество общих SNP: 416579\n",
      "Процент покрытия: 12.17%\n",
      "Выполняем расчет PGS PGS000748\n"
     ]
    },
    {
     "name": "stderr",
     "output_type": "stream",
     "text": [
      "Python(35236) MallocStackLogging: can't turn off malloc stack logging because it was not enabled.\n"
     ]
    },
    {
     "name": "stdout",
     "output_type": "stream",
     "text": [
      "PGS PGS000748 успешно рассчитан\n",
      "\n",
      "==========================================\n",
      "Обработка PGS: PGS000012\n",
      "PGS PGS000012, содержит 49310 SNP\n",
      "Количество SNP в PGS: 49310\n",
      "Количество общих SNP: 15881\n",
      "Процент покрытия: 32.21%\n",
      "Выполняем расчет PGS PGS000012\n"
     ]
    },
    {
     "name": "stderr",
     "output_type": "stream",
     "text": [
      "Python(35237) MallocStackLogging: can't turn off malloc stack logging because it was not enabled.\n"
     ]
    },
    {
     "name": "stdout",
     "output_type": "stream",
     "text": [
      "PGS PGS000012 успешно рассчитан\n",
      "\n",
      "==========================================\n",
      "Обработка PGS: PGS003446\n",
      "PGS PGS003446, содержит 538084 SNP\n",
      "Файл содержит позиционную информацию вместо rsID. Создаем синтетиические идентификаторы.\n",
      "Количество SNP в PGS: 538084\n",
      "Количество общих SNP: 25529\n",
      "Процент покрытия: 4.74%\n",
      "Выполняем расчет PGS PGS003446\n"
     ]
    },
    {
     "name": "stderr",
     "output_type": "stream",
     "text": [
      "Python(35239) MallocStackLogging: can't turn off malloc stack logging because it was not enabled.\n"
     ]
    },
    {
     "name": "stdout",
     "output_type": "stream",
     "text": [
      "PGS PGS003446 успешно рассчитан\n",
      "\n",
      "==========================================\n",
      "Обработка PGS: PGS004513\n",
      "PGS PGS004513, содержит 1059939 SNP\n",
      "Количество SNP в PGS: 1059939\n",
      "Количество общих SNP: 442559\n",
      "Процент покрытия: 41.75%\n",
      "Выполняем расчет PGS PGS004513\n"
     ]
    },
    {
     "name": "stderr",
     "output_type": "stream",
     "text": [
      "Python(35258) MallocStackLogging: can't turn off malloc stack logging because it was not enabled.\n"
     ]
    },
    {
     "name": "stdout",
     "output_type": "stream",
     "text": [
      "PGS PGS004513 успешно рассчитан\n",
      "\n",
      "==========================================\n",
      "Обработка PGS: PGS000013\n",
      "PGS PGS000013, содержит 6630150 SNP\n",
      "Файл содержит позиционную информацию вместо rsID. Создаем синтетиические идентификаторы.\n",
      "Количество SNP в PGS: 6630150\n",
      "Количество общих SNP: 495928\n",
      "Процент покрытия: 7.48%\n",
      "Выполняем расчет PGS PGS000013\n"
     ]
    },
    {
     "name": "stderr",
     "output_type": "stream",
     "text": [
      "Python(35886) MallocStackLogging: can't turn off malloc stack logging because it was not enabled.\n"
     ]
    },
    {
     "name": "stdout",
     "output_type": "stream",
     "text": [
      "PGS PGS000013 успешно рассчитан\n",
      "\n",
      "==========================================\n",
      "Обработка PGS: PGS005143\n",
      "PGS PGS005143, содержит 943274 SNP\n",
      "Количество SNP в PGS: 943274\n",
      "Количество общих SNP: 395304\n",
      "Процент покрытия: 41.91%\n",
      "Выполняем расчет PGS PGS005143\n"
     ]
    },
    {
     "name": "stderr",
     "output_type": "stream",
     "text": [
      "Python(36043) MallocStackLogging: can't turn off malloc stack logging because it was not enabled.\n"
     ]
    },
    {
     "name": "stdout",
     "output_type": "stream",
     "text": [
      "PGS PGS005143 успешно рассчитан\n",
      "\n",
      "==========================================\n",
      "Обработка PGS: PGS003726\n",
      "PGS PGS003726, содержит 1296172 SNP\n",
      "Файл содержит позиционную информацию вместо rsID. Создаем синтетиические идентификаторы.\n",
      "Количество SNP в PGS: 1296172\n",
      "Количество общих SNP: 456468\n",
      "Процент покрытия: 35.22%\n",
      "Выполняем расчет PGS PGS003726\n"
     ]
    },
    {
     "name": "stderr",
     "output_type": "stream",
     "text": [
      "Python(36388) MallocStackLogging: can't turn off malloc stack logging because it was not enabled.\n"
     ]
    },
    {
     "name": "stdout",
     "output_type": "stream",
     "text": [
      "PGS PGS003726 успешно рассчитан\n",
      "\n",
      "==========================================\n",
      "Обработка PGS: PGS002809\n",
      "PGS PGS002809, содержит 205 SNP\n",
      "Количество SNP в PGS: 205\n",
      "Количество общих SNP: 48\n",
      "Процент покрытия: 23.41%\n",
      "Выполняем расчет PGS PGS002809\n"
     ]
    },
    {
     "name": "stderr",
     "output_type": "stream",
     "text": [
      "Python(36395) MallocStackLogging: can't turn off malloc stack logging because it was not enabled.\n"
     ]
    },
    {
     "name": "stdout",
     "output_type": "stream",
     "text": [
      "PGS PGS002809 успешно рассчитан\n",
      "\n",
      "==========================================\n",
      "Обработка PGS: PGS000011\n",
      "PGS PGS000011, содержит 50 SNP\n",
      "Количество SNP в PGS: 50\n",
      "Количество общих SNP: 22\n",
      "Процент покрытия: 44.00%\n",
      "Выполняем расчет PGS PGS000011\n"
     ]
    },
    {
     "name": "stderr",
     "output_type": "stream",
     "text": [
      "Python(36401) MallocStackLogging: can't turn off malloc stack logging because it was not enabled.\n"
     ]
    },
    {
     "name": "stdout",
     "output_type": "stream",
     "text": [
      "PGS PGS000011 успешно рассчитан\n",
      "\n",
      "==========================================\n",
      "Обработка PGS: PGS000818\n",
      "PGS PGS000818, содержит 138 SNP\n",
      "Количество SNP в PGS: 138\n",
      "Количество общих SNP: 42\n",
      "Процент покрытия: 30.43%\n",
      "Выполняем расчет PGS PGS000818\n"
     ]
    },
    {
     "name": "stderr",
     "output_type": "stream",
     "text": [
      "Python(36405) MallocStackLogging: can't turn off malloc stack logging because it was not enabled.\n"
     ]
    },
    {
     "name": "stdout",
     "output_type": "stream",
     "text": [
      "PGS PGS000818 успешно рассчитан\n",
      "\n",
      "==========================================\n",
      "Обработка PGS: PGS004698\n",
      "PGS PGS004698, содержит 542218 SNP\n",
      "Файл содержит позиционную информацию вместо rsID. Создаем синтетиические идентификаторы.\n",
      "Количество SNP в PGS: 542218\n",
      "Количество общих SNP: 26884\n",
      "Процент покрытия: 4.96%\n",
      "Выполняем расчет PGS PGS004698\n"
     ]
    },
    {
     "name": "stderr",
     "output_type": "stream",
     "text": [
      "Python(36531) MallocStackLogging: can't turn off malloc stack logging because it was not enabled.\n"
     ]
    },
    {
     "name": "stdout",
     "output_type": "stream",
     "text": [
      "PGS PGS004698 успешно рассчитан\n",
      "\n",
      "==========================================\n",
      "Обработка PGS: PGS000010\n",
      "PGS PGS000010, содержит 27 SNP\n",
      "Количество SNP в PGS: 27\n",
      "Количество общих SNP: 14\n",
      "Процент покрытия: 51.85%\n",
      "Выполняем расчет PGS PGS000010\n"
     ]
    },
    {
     "name": "stderr",
     "output_type": "stream",
     "text": [
      "Python(36534) MallocStackLogging: can't turn off malloc stack logging because it was not enabled.\n"
     ]
    },
    {
     "name": "stdout",
     "output_type": "stream",
     "text": [
      "PGS PGS000010 успешно рассчитан\n",
      "\n",
      "==========================================\n",
      "Обработка PGS: PGS003727\n",
      "PGS PGS003727, содержит 1125113 SNP\n",
      "Файл содержит позиционную информацию вместо rsID. Создаем синтетиические идентификаторы.\n",
      "Количество SNP в PGS: 1125113\n",
      "Количество общих SNP: 455311\n",
      "Процент покрытия: 40.47%\n",
      "Выполняем расчет PGS PGS003727\n"
     ]
    },
    {
     "name": "stderr",
     "output_type": "stream",
     "text": [
      "Python(36779) MallocStackLogging: can't turn off malloc stack logging because it was not enabled.\n"
     ]
    },
    {
     "name": "stdout",
     "output_type": "stream",
     "text": [
      "PGS PGS003727 успешно рассчитан\n",
      "\n",
      "==========================================\n",
      "Обработка PGS: PGS004921\n",
      "PGS PGS004921, содержит 161 SNP\n",
      "Количество SNP в PGS: 161\n",
      "Количество общих SNP: 30\n",
      "Процент покрытия: 18.63%\n",
      "Выполняем расчет PGS PGS004921\n"
     ]
    },
    {
     "name": "stderr",
     "output_type": "stream",
     "text": [
      "Python(36792) MallocStackLogging: can't turn off malloc stack logging because it was not enabled.\n"
     ]
    },
    {
     "name": "stdout",
     "output_type": "stream",
     "text": [
      "PGS PGS004921 успешно рассчитан\n",
      "\n",
      "==========================================\n",
      "Обработка PGS: PGS004919\n",
      "PGS PGS004919, содержит 50 SNP\n",
      "Количество SNP в PGS: 50\n",
      "Количество общих SNP: 22\n",
      "Процент покрытия: 44.00%\n",
      "Выполняем расчет PGS PGS004919\n"
     ]
    },
    {
     "name": "stderr",
     "output_type": "stream",
     "text": [
      "Python(36797) MallocStackLogging: can't turn off malloc stack logging because it was not enabled.\n"
     ]
    },
    {
     "name": "stdout",
     "output_type": "stream",
     "text": [
      "PGS PGS004919 успешно рассчитан\n",
      "\n",
      "==========================================\n",
      "Обработка PGS: PGS004925\n",
      "PGS PGS004925, содержит 300 SNP\n",
      "Количество SNP в PGS: 300\n",
      "Количество общих SNP: 46\n",
      "Процент покрытия: 15.33%\n",
      "Выполняем расчет PGS PGS004925\n"
     ]
    },
    {
     "name": "stderr",
     "output_type": "stream",
     "text": [
      "Python(36803) MallocStackLogging: can't turn off malloc stack logging because it was not enabled.\n"
     ]
    },
    {
     "name": "stdout",
     "output_type": "stream",
     "text": [
      "PGS PGS004925 успешно рассчитан\n",
      "\n",
      "==========================================\n",
      "Обработка PGS: PGS004514\n",
      "PGS PGS004514, содержит 1059939 SNP\n",
      "Количество SNP в PGS: 1059939\n",
      "Количество общих SNP: 442559\n",
      "Процент покрытия: 41.75%\n",
      "Выполняем расчет PGS PGS004514\n"
     ]
    },
    {
     "name": "stderr",
     "output_type": "stream",
     "text": [
      "Python(37019) MallocStackLogging: can't turn off malloc stack logging because it was not enabled.\n"
     ]
    },
    {
     "name": "stdout",
     "output_type": "stream",
     "text": [
      "PGS PGS004514 успешно рассчитан\n",
      "\n",
      "==========================================\n",
      "Обработка PGS: PGS004306\n",
      "PGS PGS004306, содержит 4000 SNP\n",
      "Файл содержит позиционную информацию вместо rsID. Создаем синтетиические идентификаторы.\n",
      "Количество SNP в PGS: 4000\n",
      "Количество общих SNP: 1576\n",
      "Процент покрытия: 39.40%\n",
      "Выполняем расчет PGS PGS004306\n"
     ]
    },
    {
     "name": "stderr",
     "output_type": "stream",
     "text": [
      "Python(37025) MallocStackLogging: can't turn off malloc stack logging because it was not enabled.\n"
     ]
    },
    {
     "name": "stdout",
     "output_type": "stream",
     "text": [
      "PGS PGS004306 успешно рассчитан\n",
      "\n",
      "==========================================\n",
      "Обработка PGS: PGS004879\n",
      "PGS PGS004879, содержит 610677 SNP\n",
      "Количество SNP в PGS: 610677\n",
      "Количество общих SNP: 259008\n",
      "Процент покрытия: 42.41%\n",
      "Выполняем расчет PGS PGS004879\n"
     ]
    },
    {
     "name": "stderr",
     "output_type": "stream",
     "text": [
      "Python(37141) MallocStackLogging: can't turn off malloc stack logging because it was not enabled.\n"
     ]
    },
    {
     "name": "stdout",
     "output_type": "stream",
     "text": [
      "PGS PGS004879 успешно рассчитан\n",
      "\n",
      "==========================================\n",
      "Обработка PGS: PGS004307\n",
      "PGS PGS004307, содержит 4000 SNP\n",
      "Файл содержит позиционную информацию вместо rsID. Создаем синтетиические идентификаторы.\n",
      "Количество SNP в PGS: 4000\n",
      "Количество общих SNP: 1596\n",
      "Процент покрытия: 39.90%\n",
      "Выполняем расчет PGS PGS004307\n"
     ]
    },
    {
     "name": "stderr",
     "output_type": "stream",
     "text": [
      "Python(37146) MallocStackLogging: can't turn off malloc stack logging because it was not enabled.\n"
     ]
    },
    {
     "name": "stdout",
     "output_type": "stream",
     "text": [
      "PGS PGS004307 успешно рассчитан\n",
      "\n",
      "==========================================\n",
      "Обработка PGS: PGS002776\n",
      "PGS PGS002776, содержит 390782 SNP\n",
      "Количество SNP в PGS: 390782\n",
      "Количество общих SNP: 44688\n",
      "Процент покрытия: 11.44%\n",
      "Выполняем расчет PGS PGS002776\n"
     ]
    },
    {
     "name": "stderr",
     "output_type": "stream",
     "text": [
      "Python(37166) MallocStackLogging: can't turn off malloc stack logging because it was not enabled.\n"
     ]
    },
    {
     "name": "stdout",
     "output_type": "stream",
     "text": [
      "PGS PGS002776 успешно рассчитан\n",
      "\n",
      "==========================================\n",
      "Обработка PGS: PGS000798\n",
      "PGS PGS000798, содержит 157 SNP\n",
      "Количество SNP в PGS: 157\n",
      "Количество общих SNP: 29\n",
      "Процент покрытия: 18.47%\n",
      "Выполняем расчет PGS PGS000798\n"
     ]
    },
    {
     "name": "stderr",
     "output_type": "stream",
     "text": [
      "Python(37170) MallocStackLogging: can't turn off malloc stack logging because it was not enabled.\n"
     ]
    },
    {
     "name": "stdout",
     "output_type": "stream",
     "text": [
      "PGS PGS000798 успешно рассчитан\n",
      "\n",
      "==========================================\n",
      "Обработка PGS: PGS004305\n",
      "PGS PGS004305, содержит 3000 SNP\n",
      "Файл содержит позиционную информацию вместо rsID. Создаем синтетиические идентификаторы.\n",
      "Количество SNP в PGS: 3000\n",
      "Количество общих SNP: 1127\n",
      "Процент покрытия: 37.57%\n",
      "Выполняем расчет PGS PGS004305\n"
     ]
    },
    {
     "name": "stderr",
     "output_type": "stream",
     "text": [
      "Python(37173) MallocStackLogging: can't turn off malloc stack logging because it was not enabled.\n"
     ]
    },
    {
     "name": "stdout",
     "output_type": "stream",
     "text": [
      "PGS PGS004305 успешно рассчитан\n",
      "\n",
      "==========================================\n",
      "Обработка PGS: PGS000349\n",
      "PGS PGS000349, содержит 70 SNP\n",
      "Количество SNP в PGS: 70\n",
      "Количество общих SNP: 24\n",
      "Процент покрытия: 34.29%\n",
      "Выполняем расчет PGS PGS000349\n"
     ]
    },
    {
     "name": "stderr",
     "output_type": "stream",
     "text": [
      "Python(37177) MallocStackLogging: can't turn off malloc stack logging because it was not enabled.\n"
     ]
    },
    {
     "name": "stdout",
     "output_type": "stream",
     "text": [
      "PGS PGS000349 успешно рассчитан\n",
      "\n",
      "==========================================\n",
      "Обработка PGS: PGS003866\n",
      "PGS PGS003866, содержит 10440 SNP\n",
      "Количество SNP в PGS: 10440\n",
      "Количество общих SNP: 4335\n",
      "Процент покрытия: 41.52%\n",
      "Выполняем расчет PGS PGS003866\n"
     ]
    },
    {
     "name": "stderr",
     "output_type": "stream",
     "text": [
      "Python(37188) MallocStackLogging: can't turn off malloc stack logging because it was not enabled.\n"
     ]
    },
    {
     "name": "stdout",
     "output_type": "stream",
     "text": [
      "PGS PGS003866 успешно рассчитан\n",
      "\n",
      "==========================================\n",
      "Обработка PGS: PGS002775\n",
      "PGS PGS002775, содержит 1059 SNP\n",
      "Количество SNP в PGS: 1059\n",
      "Количество общих SNP: 180\n",
      "Процент покрытия: 17.00%\n",
      "Выполняем расчет PGS PGS002775\n"
     ]
    },
    {
     "name": "stderr",
     "output_type": "stream",
     "text": [
      "Python(37195) MallocStackLogging: can't turn off malloc stack logging because it was not enabled.\n"
     ]
    },
    {
     "name": "stdout",
     "output_type": "stream",
     "text": [
      "PGS PGS002775 успешно рассчитан\n",
      "\n",
      "==========================================\n",
      "Обработка PGS: PGS005152\n",
      "PGS PGS005152, содержит 943274 SNP\n",
      "Количество SNP в PGS: 943274\n",
      "Количество общих SNP: 395304\n",
      "Процент покрытия: 41.91%\n",
      "Выполняем расчет PGS PGS005152\n"
     ]
    },
    {
     "name": "stderr",
     "output_type": "stream",
     "text": [
      "Python(37331) MallocStackLogging: can't turn off malloc stack logging because it was not enabled.\n"
     ]
    },
    {
     "name": "stdout",
     "output_type": "stream",
     "text": [
      "PGS PGS005152 успешно рассчитан\n",
      "\n",
      "==========================================\n",
      "Обработка PGS: PGS000200\n",
      "PGS PGS000200, содержит 28 SNP\n",
      "Количество SNP в PGS: 28\n",
      "Количество общих SNP: 15\n",
      "Процент покрытия: 53.57%\n",
      "Выполняем расчет PGS PGS000200\n"
     ]
    },
    {
     "name": "stderr",
     "output_type": "stream",
     "text": [
      "Python(37336) MallocStackLogging: can't turn off malloc stack logging because it was not enabled.\n"
     ]
    },
    {
     "name": "stdout",
     "output_type": "stream",
     "text": [
      "PGS PGS000200 успешно рассчитан\n",
      "\n",
      "==========================================\n",
      "Обработка PGS: PGS000059\n",
      "PGS PGS000059, содержит 46 SNP\n",
      "Количество SNP в PGS: 46\n",
      "Количество общих SNP: 18\n",
      "Процент покрытия: 39.13%\n",
      "Выполняем расчет PGS PGS000059\n"
     ]
    },
    {
     "name": "stderr",
     "output_type": "stream",
     "text": [
      "Python(37338) MallocStackLogging: can't turn off malloc stack logging because it was not enabled.\n"
     ]
    },
    {
     "name": "stdout",
     "output_type": "stream",
     "text": [
      "PGS PGS000059 успешно рассчитан\n",
      "\n",
      "==========================================\n",
      "Обработка PGS: PGS003356\n",
      "PGS PGS003356, содержит 2324683 SNP\n",
      "Файл содержит позиционную информацию вместо rsID. Создаем синтетиические идентификаторы.\n",
      "Количество SNP в PGS: 2324683\n",
      "Количество общих SNP: 497605\n",
      "Процент покрытия: 21.41%\n",
      "Выполняем расчет PGS PGS003356\n"
     ]
    },
    {
     "name": "stderr",
     "output_type": "stream",
     "text": [
      "Python(37746) MallocStackLogging: can't turn off malloc stack logging because it was not enabled.\n"
     ]
    },
    {
     "name": "stdout",
     "output_type": "stream",
     "text": [
      "PGS PGS003356 успешно рассчитан\n",
      "\n",
      "==========================================\n",
      "Обработка PGS: PGS002048\n",
      "PGS PGS002048, содержит 762124 SNP\n",
      "Количество SNP в PGS: 762124\n",
      "Количество общих SNP: 322896\n",
      "Процент покрытия: 42.37%\n",
      "Выполняем расчет PGS PGS002048\n"
     ]
    },
    {
     "name": "stderr",
     "output_type": "stream",
     "text": [
      "Python(37886) MallocStackLogging: can't turn off malloc stack logging because it was not enabled.\n"
     ]
    },
    {
     "name": "stdout",
     "output_type": "stream",
     "text": [
      "PGS PGS002048 успешно рассчитан\n",
      "\n",
      "==========================================\n",
      "Обработка PGS: PGS001780\n",
      "PGS PGS001780, содержит 1090048 SNP\n",
      "Количество SNP в PGS: 1090048\n",
      "Количество общих SNP: 450206\n",
      "Процент покрытия: 41.30%\n",
      "Выполняем расчет PGS PGS001780\n"
     ]
    },
    {
     "name": "stderr",
     "output_type": "stream",
     "text": [
      "Python(38052) MallocStackLogging: can't turn off malloc stack logging because it was not enabled.\n"
     ]
    },
    {
     "name": "stdout",
     "output_type": "stream",
     "text": [
      "PGS PGS001780 успешно рассчитан\n",
      "\n",
      "==========================================\n",
      "Обработка PGS: PGS002262\n",
      "PGS PGS002262, содержит 540 SNP\n",
      "Количество SNP в PGS: 540\n",
      "Количество общих SNP: 136\n",
      "Процент покрытия: 25.19%\n",
      "Выполняем расчет PGS PGS002262\n"
     ]
    },
    {
     "name": "stderr",
     "output_type": "stream",
     "text": [
      "Python(38058) MallocStackLogging: can't turn off malloc stack logging because it was not enabled.\n"
     ]
    },
    {
     "name": "stdout",
     "output_type": "stream",
     "text": [
      "PGS PGS002262 успешно рассчитан\n",
      "\n",
      "==========================================\n",
      "Обработка PGS: PGS000058\n",
      "PGS PGS000058, содержит 204 SNP\n",
      "Количество SNP в PGS: 204\n",
      "Количество общих SNP: 41\n",
      "Процент покрытия: 20.10%\n",
      "Выполняем расчет PGS PGS000058\n"
     ]
    },
    {
     "name": "stderr",
     "output_type": "stream",
     "text": [
      "Python(38060) MallocStackLogging: can't turn off malloc stack logging because it was not enabled.\n"
     ]
    },
    {
     "name": "stdout",
     "output_type": "stream",
     "text": [
      "PGS PGS000058 успешно рассчитан\n",
      "\n",
      "==========================================\n",
      "Обработка PGS: PGS001839\n",
      "PGS PGS001839, содержит 25425 SNP\n",
      "Количество SNP в PGS: 25425\n",
      "Количество общих SNP: 11260\n",
      "Процент покрытия: 44.29%\n",
      "Выполняем расчет PGS PGS001839\n"
     ]
    },
    {
     "name": "stderr",
     "output_type": "stream",
     "text": [
      "Python(38075) MallocStackLogging: can't turn off malloc stack logging because it was not enabled.\n"
     ]
    },
    {
     "name": "stdout",
     "output_type": "stream",
     "text": [
      "PGS PGS001839 успешно рассчитан\n",
      "\n",
      "==========================================\n",
      "Обработка PGS: PGS004941\n",
      "PGS PGS004941, содержит 3711629 SNP\n",
      "Файл содержит позиционную информацию вместо rsID. Создаем синтетиические идентификаторы.\n",
      "Количество SNP в PGS: 3711629\n",
      "Количество общих SNP: 429616\n",
      "Процент покрытия: 11.57%\n",
      "Выполняем расчет PGS PGS004941\n"
     ]
    },
    {
     "name": "stderr",
     "output_type": "stream",
     "text": [
      "Python(38500) MallocStackLogging: can't turn off malloc stack logging because it was not enabled.\n"
     ]
    },
    {
     "name": "stdout",
     "output_type": "stream",
     "text": [
      "PGS PGS004941 успешно рассчитан\n",
      "\n",
      "==========================================\n",
      "Обработка PGS: PGS004200\n",
      "PGS PGS004200, содержит 8361 SNP\n",
      "Количество SNP в PGS: 8361\n",
      "Количество общих SNP: 899\n",
      "Процент покрытия: 10.75%\n",
      "Выполняем расчет PGS PGS004200\n"
     ]
    },
    {
     "name": "stderr",
     "output_type": "stream",
     "text": [
      "Python(38512) MallocStackLogging: can't turn off malloc stack logging because it was not enabled.\n"
     ]
    },
    {
     "name": "stdout",
     "output_type": "stream",
     "text": [
      "PGS PGS004200 успешно рассчитан\n",
      "\n",
      "==========================================\n",
      "Обработка PGS: PGS003355\n",
      "PGS PGS003355, содержит 1532758 SNP\n",
      "Файл содержит позиционную информацию вместо rsID. Создаем синтетиические идентификаторы.\n",
      "Количество SNP в PGS: 1532758\n",
      "Количество общих SNP: 116470\n",
      "Процент покрытия: 7.60%\n",
      "Выполняем расчет PGS PGS003355\n"
     ]
    },
    {
     "name": "stderr",
     "output_type": "stream",
     "text": [
      "Python(38545) MallocStackLogging: can't turn off malloc stack logging because it was not enabled.\n"
     ]
    },
    {
     "name": "stdout",
     "output_type": "stream",
     "text": [
      "PGS PGS003355 успешно рассчитан\n",
      "\n",
      "==========================================\n",
      "Обработка PGS: PGS001355\n",
      "PGS PGS001355, содержит 2994055 SNP\n",
      "Количество SNP в PGS: 2994055\n",
      "Количество общих SNP: 317044\n",
      "Процент покрытия: 10.59%\n",
      "Выполняем расчет PGS PGS001355\n"
     ]
    },
    {
     "name": "stderr",
     "output_type": "stream",
     "text": [
      "Python(38561) MallocStackLogging: can't turn off malloc stack logging because it was not enabled.\n"
     ]
    },
    {
     "name": "stdout",
     "output_type": "stream",
     "text": [
      "PGS PGS001355 успешно рассчитан\n",
      "\n",
      "==========================================\n",
      "Обработка PGS: PGS004198\n",
      "PGS PGS004198, содержит 5723 SNP\n",
      "Количество SNP в PGS: 5723\n",
      "Количество общих SNP: 670\n",
      "Процент покрытия: 11.71%\n",
      "Выполняем расчет PGS PGS004198\n"
     ]
    },
    {
     "name": "stderr",
     "output_type": "stream",
     "text": [
      "Python(38562) MallocStackLogging: can't turn off malloc stack logging because it was not enabled.\n"
     ]
    },
    {
     "name": "stdout",
     "output_type": "stream",
     "text": [
      "PGS PGS004198 успешно рассчитан\n",
      "\n",
      "==========================================\n",
      "Обработка PGS: PGS000329\n",
      "PGS PGS000329, содержит 6423165 SNP\n",
      "Количество SNP в PGS: 6423165\n",
      "Количество общих SNP: 490575\n",
      "Процент покрытия: 7.64%\n",
      "Выполняем расчет PGS PGS000329\n"
     ]
    },
    {
     "name": "stderr",
     "output_type": "stream",
     "text": [
      "Python(38655) MallocStackLogging: can't turn off malloc stack logging because it was not enabled.\n"
     ]
    },
    {
     "name": "stdout",
     "output_type": "stream",
     "text": [
      "PGS PGS000329 успешно рассчитан\n",
      "\n",
      "==========================================\n",
      "Обработка PGS: PGS004199\n",
      "PGS PGS004199, содержит 6085 SNP\n",
      "Количество SNP в PGS: 6085\n",
      "Количество общих SNP: 682\n",
      "Процент покрытия: 11.21%\n",
      "Выполняем расчет PGS PGS004199\n"
     ]
    },
    {
     "name": "stderr",
     "output_type": "stream",
     "text": [
      "Python(38656) MallocStackLogging: can't turn off malloc stack logging because it was not enabled.\n"
     ]
    },
    {
     "name": "stdout",
     "output_type": "stream",
     "text": [
      "PGS PGS004199 успешно рассчитан\n",
      "\n",
      "==========================================\n",
      "Обработка PGS: PGS000116\n",
      "PGS PGS000116, содержит 40079 SNP\n",
      "Количество SNP в PGS: 40079\n",
      "Количество общих SNP: 3662\n",
      "Процент покрытия: 9.14%\n",
      "Выполняем расчет PGS PGS000116\n"
     ]
    },
    {
     "name": "stderr",
     "output_type": "stream",
     "text": [
      "Python(38657) MallocStackLogging: can't turn off malloc stack logging because it was not enabled.\n"
     ]
    },
    {
     "name": "stdout",
     "output_type": "stream",
     "text": [
      "PGS PGS000116 успешно рассчитан\n",
      "\n",
      "==========================================\n",
      "Обработка PGS: PGS005091\n",
      "PGS PGS005091, содержит 1428772 SNP\n",
      "Файл содержит позиционную информацию вместо rsID. Создаем синтетиические идентификаторы.\n",
      "Количество SNP в PGS: 1428772\n",
      "Количество общих SNP: 4354\n",
      "Процент покрытия: 0.30%\n",
      "Выполняем расчет PGS PGS005091\n"
     ]
    },
    {
     "name": "stderr",
     "output_type": "stream",
     "text": [
      "Python(38685) MallocStackLogging: can't turn off malloc stack logging because it was not enabled.\n"
     ]
    },
    {
     "name": "stdout",
     "output_type": "stream",
     "text": [
      "PGS PGS005091 успешно рассчитан\n",
      "\n",
      "==========================================\n",
      "Обработка PGS: PGS005092\n",
      "PGS PGS005092, содержит 1279502 SNP\n",
      "Файл содержит позиционную информацию вместо rsID. Создаем синтетиические идентификаторы.\n",
      "Количество SNP в PGS: 1279502\n",
      "Количество общих SNP: 4540\n",
      "Процент покрытия: 0.35%\n",
      "Выполняем расчет PGS PGS005092\n"
     ]
    },
    {
     "name": "stderr",
     "output_type": "stream",
     "text": [
      "Python(38729) MallocStackLogging: can't turn off malloc stack logging because it was not enabled.\n"
     ]
    },
    {
     "name": "stdout",
     "output_type": "stream",
     "text": [
      "PGS PGS005092 успешно рассчитан\n",
      "\n",
      "==========================================\n",
      "Обработка PGS: PGS004746\n",
      "PGS PGS004746, содержит 6483064 SNP\n",
      "Файл содержит позиционную информацию вместо rsID. Создаем синтетиические идентификаторы.\n",
      "Количество SNP в PGS: 6483064\n",
      "Количество общих SNP: 6132\n",
      "Процент покрытия: 0.09%\n",
      "Выполняем расчет PGS PGS004746\n"
     ]
    },
    {
     "name": "stderr",
     "output_type": "stream",
     "text": [
      "Python(39019) MallocStackLogging: can't turn off malloc stack logging because it was not enabled.\n"
     ]
    },
    {
     "name": "stdout",
     "output_type": "stream",
     "text": [
      "PGS PGS004746 успешно рассчитан\n",
      "\n",
      "==========================================\n",
      "Обработка PGS: PGS004197\n",
      "PGS PGS004197, содержит 11490 SNP\n",
      "Количество SNP в PGS: 11490\n",
      "Количество общих SNP: 1193\n",
      "Процент покрытия: 10.38%\n",
      "Выполняем расчет PGS PGS004197\n"
     ]
    },
    {
     "name": "stderr",
     "output_type": "stream",
     "text": [
      "Python(39026) MallocStackLogging: can't turn off malloc stack logging because it was not enabled.\n"
     ]
    },
    {
     "name": "stdout",
     "output_type": "stream",
     "text": [
      "PGS PGS004197 успешно рассчитан\n",
      "\n",
      "==========================================\n",
      "Обработка PGS: PGS004196\n",
      "PGS PGS004196, содержит 3892 SNP\n",
      "Количество SNP в PGS: 3892\n",
      "Количество общих SNP: 464\n",
      "Процент покрытия: 11.92%\n",
      "Выполняем расчет PGS PGS004196\n"
     ]
    },
    {
     "name": "stderr",
     "output_type": "stream",
     "text": [
      "Python(39029) MallocStackLogging: can't turn off malloc stack logging because it was not enabled.\n"
     ]
    },
    {
     "name": "stdout",
     "output_type": "stream",
     "text": [
      "PGS PGS004196 успешно рассчитан\n",
      "\n",
      "==========================================\n",
      "Обработка PGS: PGS003438\n",
      "PGS PGS003438, содержит 241 SNP\n",
      "Количество SNP в PGS: 241\n",
      "Количество общих SNP: 29\n",
      "Процент покрытия: 12.03%\n",
      "Выполняем расчет PGS PGS003438\n"
     ]
    },
    {
     "name": "stderr",
     "output_type": "stream",
     "text": [
      "Python(39031) MallocStackLogging: can't turn off malloc stack logging because it was not enabled.\n"
     ]
    },
    {
     "name": "stdout",
     "output_type": "stream",
     "text": [
      "PGS PGS003438 успешно рассчитан\n",
      "\n",
      "==========================================\n",
      "Обработка PGS: PGS004237\n",
      "PGS PGS004237, содержит 1146511 SNP\n",
      "Количество SNP в PGS: 1146511\n",
      "Количество общих SNP: 474392\n",
      "Процент покрытия: 41.38%\n",
      "Выполняем расчет PGS PGS004237\n"
     ]
    },
    {
     "name": "stderr",
     "output_type": "stream",
     "text": [
      "Python(39390) MallocStackLogging: can't turn off malloc stack logging because it was not enabled.\n"
     ]
    },
    {
     "name": "stdout",
     "output_type": "stream",
     "text": [
      "PGS PGS004237 успешно рассчитан\n",
      "\n",
      "==========================================\n",
      "Обработка PGS: PGS004745\n",
      "PGS PGS004745, содержит 4769577 SNP\n",
      "Файл содержит позиционную информацию вместо rsID. Создаем синтетиические идентификаторы.\n",
      "Количество SNP в PGS: 4769577\n",
      "Количество общих SNP: 4560\n",
      "Процент покрытия: 0.10%\n",
      "Выполняем расчет PGS PGS004745\n"
     ]
    },
    {
     "name": "stderr",
     "output_type": "stream",
     "text": [
      "Python(39686) MallocStackLogging: can't turn off malloc stack logging because it was not enabled.\n"
     ]
    },
    {
     "name": "stdout",
     "output_type": "stream",
     "text": [
      "Ошибк при расчете PGS PGS004745 Error: Duplicate variant 'rs7862687' in --score file.\n",
      "\n",
      "\n",
      "==========================================\n",
      "Обработка PGS: PGS000899\n",
      "PGS PGS000899, содержит 176 SNP\n",
      "Количество SNP в PGS: 176\n",
      "Количество общих SNP: 37\n",
      "Процент покрытия: 21.02%\n",
      "Выполняем расчет PGS PGS000899\n"
     ]
    },
    {
     "name": "stderr",
     "output_type": "stream",
     "text": [
      "Python(39691) MallocStackLogging: can't turn off malloc stack logging because it was not enabled.\n"
     ]
    },
    {
     "name": "stdout",
     "output_type": "stream",
     "text": [
      "PGS PGS000899 успешно рассчитан\n",
      "\n",
      "==========================================\n",
      "Обработка PGS: PGS004744\n",
      "PGS PGS004744, содержит 7082943 SNP\n",
      "Файл содержит позиционную информацию вместо rsID. Создаем синтетиические идентификаторы.\n",
      "Количество SNP в PGS: 7082943\n",
      "Количество общих SNP: 6891\n",
      "Процент покрытия: 0.10%\n",
      "Выполняем расчет PGS PGS004744\n"
     ]
    },
    {
     "name": "stderr",
     "output_type": "stream",
     "text": [
      "Python(40109) MallocStackLogging: can't turn off malloc stack logging because it was not enabled.\n"
     ]
    },
    {
     "name": "stdout",
     "output_type": "stream",
     "text": [
      "PGS PGS004744 успешно рассчитан\n",
      "\n",
      "==========================================\n",
      "Обработка PGS: PGS004595\n",
      "PGS PGS004595, содержит 164 SNP\n",
      "Количество SNP в PGS: 164\n",
      "Количество общих SNP: 40\n",
      "Процент покрытия: 24.39%\n",
      "Выполняем расчет PGS PGS004595\n"
     ]
    },
    {
     "name": "stderr",
     "output_type": "stream",
     "text": [
      "Python(40116) MallocStackLogging: can't turn off malloc stack logging because it was not enabled.\n"
     ]
    },
    {
     "name": "stdout",
     "output_type": "stream",
     "text": [
      "PGS PGS004595 успешно рассчитан\n",
      "\n",
      "==========================================\n",
      "Обработка PGS: PGS005112\n",
      "PGS PGS005112, содержит 1106628 SNP\n",
      "Количество SNP в PGS: 1106628\n",
      "Количество общих SNP: 454934\n",
      "Процент покрытия: 41.11%\n",
      "Выполняем расчет PGS PGS005112\n"
     ]
    },
    {
     "name": "stderr",
     "output_type": "stream",
     "text": [
      "Python(40381) MallocStackLogging: can't turn off malloc stack logging because it was not enabled.\n"
     ]
    },
    {
     "name": "stdout",
     "output_type": "stream",
     "text": [
      "PGS PGS005112 успешно рассчитан\n",
      "\n",
      "==========================================\n",
      "Обработка PGS: PGS002244\n",
      "PGS PGS002244, содержит 6576338 SNP\n",
      "Количество SNP в PGS: 6576338\n",
      "Количество общих SNP: 497179\n",
      "Процент покрытия: 7.56%\n",
      "Выполняем расчет PGS PGS002244\n"
     ]
    },
    {
     "name": "stderr",
     "output_type": "stream",
     "text": [
      "Python(40616) MallocStackLogging: can't turn off malloc stack logging because it was not enabled.\n"
     ]
    },
    {
     "name": "stdout",
     "output_type": "stream",
     "text": [
      "PGS PGS002244 успешно рассчитан\n",
      "\n",
      "==========================================\n",
      "Обработка PGS: PGS000057\n",
      "PGS PGS000057, содержит 57 SNP\n",
      "Количество SNP в PGS: 57\n",
      "Количество общих SNP: 19\n",
      "Процент покрытия: 33.33%\n",
      "Выполняем расчет PGS PGS000057\n"
     ]
    },
    {
     "name": "stderr",
     "output_type": "stream",
     "text": [
      "Python(40632) MallocStackLogging: can't turn off malloc stack logging because it was not enabled.\n"
     ]
    },
    {
     "name": "stdout",
     "output_type": "stream",
     "text": [
      "PGS PGS000057 успешно рассчитан\n",
      "\n",
      "==========================================\n",
      "Обработка PGS: PGS000296\n",
      "PGS PGS000296, содержит 6630150 SNP\n",
      "Файл содержит позиционную информацию вместо rsID. Создаем синтетиические идентификаторы.\n",
      "Количество SNP в PGS: 6630150\n",
      "Количество общих SNP: 495928\n",
      "Процент покрытия: 7.48%\n",
      "Выполняем расчет PGS PGS000296\n"
     ]
    },
    {
     "name": "stderr",
     "output_type": "stream",
     "text": [
      "Python(41254) MallocStackLogging: can't turn off malloc stack logging because it was not enabled.\n"
     ]
    },
    {
     "name": "stdout",
     "output_type": "stream",
     "text": [
      "PGS PGS000296 успешно рассчитан\n",
      "\n",
      "==========================================\n",
      "Обработка PGS: PGS004743\n",
      "PGS PGS004743, содержит 3606321 SNP\n",
      "Файл содержит позиционную информацию вместо rsID. Создаем синтетиические идентификаторы.\n",
      "Количество SNP в PGS: 3606321\n",
      "Количество общих SNP: 3853\n",
      "Процент покрытия: 0.11%\n",
      "Выполняем расчет PGS PGS004743\n"
     ]
    },
    {
     "name": "stderr",
     "output_type": "stream",
     "text": [
      "Python(41445) MallocStackLogging: can't turn off malloc stack logging because it was not enabled.\n"
     ]
    },
    {
     "name": "stdout",
     "output_type": "stream",
     "text": [
      "Ошибк при расчете PGS PGS004743 Error: Duplicate variant 'rs7862687' in --score file.\n",
      "\n",
      "\n",
      "==========================================\n",
      "Обработка PGS: PGS004596\n",
      "PGS PGS004596, содержит 64 SNP\n",
      "Количество SNP в PGS: 64\n",
      "Количество общих SNP: 24\n",
      "Процент покрытия: 37.50%\n",
      "Выполняем расчет PGS PGS004596\n"
     ]
    },
    {
     "name": "stderr",
     "output_type": "stream",
     "text": [
      "Python(41450) MallocStackLogging: can't turn off malloc stack logging because it was not enabled.\n"
     ]
    },
    {
     "name": "stdout",
     "output_type": "stream",
     "text": [
      "PGS PGS004596 успешно рассчитан\n",
      "\n",
      "==========================================\n",
      "Обработка PGS: PGS000337\n",
      "PGS PGS000337, содержит 75028 SNP\n",
      "Файл содержит позиционную информацию вместо rsID. Создаем синтетиические идентификаторы.\n",
      "Количество SNP в PGS: 75028\n",
      "Количество общих SNP: 10154\n",
      "Процент покрытия: 13.53%\n",
      "Выполняем расчет PGS PGS000337\n"
     ]
    },
    {
     "name": "stderr",
     "output_type": "stream",
     "text": [
      "Python(41461) MallocStackLogging: can't turn off malloc stack logging because it was not enabled.\n"
     ]
    },
    {
     "name": "stdout",
     "output_type": "stream",
     "text": [
      "PGS PGS000337 успешно рассчитан\n",
      "\n",
      "==========================================\n",
      "Обработка PGS: PGS004309\n",
      "PGS PGS004309, содержит 3000 SNP\n",
      "Файл содержит позиционную информацию вместо rsID. Создаем синтетиические идентификаторы.\n",
      "Количество SNP в PGS: 3000\n",
      "Количество общих SNP: 1174\n",
      "Процент покрытия: 39.13%\n",
      "Выполняем расчет PGS PGS004309\n"
     ]
    },
    {
     "name": "stderr",
     "output_type": "stream",
     "text": [
      "Python(41465) MallocStackLogging: can't turn off malloc stack logging because it was not enabled.\n"
     ]
    },
    {
     "name": "stdout",
     "output_type": "stream",
     "text": [
      "PGS PGS004309 успешно рассчитан\n",
      "\n",
      "==========================================\n",
      "Обработка PGS: PGS004321\n",
      "PGS PGS004321, содержит 27 SNP\n",
      "Количество SNP в PGS: 27\n",
      "Количество общих SNP: 14\n",
      "Процент покрытия: 51.85%\n",
      "Выполняем расчет PGS PGS004321\n"
     ]
    },
    {
     "name": "stderr",
     "output_type": "stream",
     "text": [
      "Python(41468) MallocStackLogging: can't turn off malloc stack logging because it was not enabled.\n"
     ]
    },
    {
     "name": "stdout",
     "output_type": "stream",
     "text": [
      "PGS PGS004321 успешно рассчитан\n",
      "\n",
      "==========================================\n",
      "Обработка PGS: PGS004888\n",
      "PGS PGS004888, содержит 1110046 SNP\n",
      "Файл содержит позиционную информацию вместо rsID. Создаем синтетиические идентификаторы.\n",
      "Количество SNP в PGS: 1110046\n",
      "Количество общих SNP: 453801\n",
      "Процент покрытия: 40.88%\n",
      "Выполняем расчет PGS PGS004888\n"
     ]
    },
    {
     "name": "stderr",
     "output_type": "stream",
     "text": [
      "Python(41716) MallocStackLogging: can't turn off malloc stack logging because it was not enabled.\n"
     ]
    },
    {
     "name": "stdout",
     "output_type": "stream",
     "text": [
      "PGS PGS004888 успешно рассчитан\n",
      "\n",
      "==========================================\n",
      "Обработка PGS: PGS004308\n",
      "PGS PGS004308, содержит 1500 SNP\n",
      "Файл содержит позиционную информацию вместо rsID. Создаем синтетиические идентификаторы.\n",
      "Количество SNP в PGS: 1500\n",
      "Количество общих SNP: 584\n",
      "Процент покрытия: 38.93%\n",
      "Выполняем расчет PGS PGS004308\n"
     ]
    },
    {
     "name": "stderr",
     "output_type": "stream",
     "text": [
      "Python(41723) MallocStackLogging: can't turn off malloc stack logging because it was not enabled.\n"
     ]
    },
    {
     "name": "stdout",
     "output_type": "stream",
     "text": [
      "PGS PGS004308 успешно рассчитан\n",
      "\n",
      "==========================================\n",
      "Обработка PGS: PGS000018\n",
      "PGS PGS000018, содержит 1745179 SNP\n",
      "Количество SNP в PGS: 1745179\n",
      "Количество общих SNP: 129619\n",
      "Процент покрытия: 7.43%\n",
      "Выполняем расчет PGS PGS000018\n"
     ]
    },
    {
     "name": "stderr",
     "output_type": "stream",
     "text": [
      "Python(41794) MallocStackLogging: can't turn off malloc stack logging because it was not enabled.\n"
     ]
    },
    {
     "name": "stdout",
     "output_type": "stream",
     "text": [
      "PGS PGS000018 успешно рассчитан\n",
      "\n",
      "==========================================\n",
      "Обработка PGS: PGS004444\n",
      "PGS PGS004444, содержит 1059939 SNP\n",
      "Количество SNP в PGS: 1059939\n",
      "Количество общих SNP: 442559\n",
      "Процент покрытия: 41.75%\n",
      "Выполняем расчет PGS PGS004444\n"
     ]
    },
    {
     "name": "stderr",
     "output_type": "stream",
     "text": [
      "Python(42071) MallocStackLogging: can't turn off malloc stack logging because it was not enabled.\n"
     ]
    },
    {
     "name": "stdout",
     "output_type": "stream",
     "text": [
      "PGS PGS004444 успешно рассчитан\n",
      "\n",
      "==========================================\n",
      "Обработка PGS: PGS000019\n",
      "PGS PGS000019, содержит 192 SNP\n",
      "Количество SNP в PGS: 192\n",
      "Количество общих SNP: 26\n",
      "Процент покрытия: 13.54%\n",
      "Выполняем расчет PGS PGS000019\n"
     ]
    },
    {
     "name": "stderr",
     "output_type": "stream",
     "text": [
      "Python(42078) MallocStackLogging: can't turn off malloc stack logging because it was not enabled.\n"
     ]
    },
    {
     "name": "stdout",
     "output_type": "stream",
     "text": [
      "PGS PGS000019 успешно рассчитан\n",
      "\n",
      "==========================================\n",
      "Обработка PGS: PGS000747\n",
      "PGS PGS000747, содержит 375822 SNP\n",
      "Файл содержит позиционную информацию вместо rsID. Создаем синтетиические идентификаторы.\n",
      "Количество SNP в PGS: 375822\n",
      "Количество общих SNP: 31294\n",
      "Процент покрытия: 8.33%\n",
      "Выполняем расчет PGS PGS000747\n"
     ]
    },
    {
     "name": "stderr",
     "output_type": "stream",
     "text": [
      "Python(42118) MallocStackLogging: can't turn off malloc stack logging because it was not enabled.\n"
     ]
    },
    {
     "name": "stdout",
     "output_type": "stream",
     "text": [
      "PGS PGS000747 успешно рассчитан\n",
      "\n",
      "==========================================\n",
      "Обработка PGS: PGS000746\n",
      "PGS PGS000746, содержит 1940 SNP\n",
      "Файл содержит позиционную информацию вместо rsID. Создаем синтетиические идентификаторы.\n",
      "Количество SNP в PGS: 1940\n",
      "Количество общих SNP: 232\n",
      "Процент покрытия: 11.96%\n",
      "Выполняем расчет PGS PGS000746\n"
     ]
    },
    {
     "name": "stderr",
     "output_type": "stream",
     "text": [
      "Python(42122) MallocStackLogging: can't turn off malloc stack logging because it was not enabled.\n"
     ]
    },
    {
     "name": "stdout",
     "output_type": "stream",
     "text": [
      "PGS PGS000746 успешно рассчитан\n",
      "\n",
      "==========================================\n",
      "Обработка PGS: PGS004697\n",
      "PGS PGS004697, содержит 1120251 SNP\n",
      "Количество SNP в PGS: 1120251\n",
      "Количество общих SNP: 456041\n",
      "Процент покрытия: 40.71%\n",
      "Выполняем расчет PGS PGS004697\n"
     ]
    },
    {
     "name": "stderr",
     "output_type": "stream",
     "text": [
      "Python(42308) MallocStackLogging: can't turn off malloc stack logging because it was not enabled.\n"
     ]
    },
    {
     "name": "stdout",
     "output_type": "stream",
     "text": [
      "PGS PGS004697 успешно рассчитан\n",
      "\n",
      "==========================================\n",
      "Обработка PGS: PGS004899\n",
      "PGS PGS004899, содержит 7 SNP\n",
      "Количество SNP в PGS: 7\n",
      "Количество общих SNP: 0\n",
      "Процент покрытия: 0.00%\n",
      "нет общих SNP для PGS004899\n",
      "\n",
      "==========================================\n",
      "Обработка PGS: PGS004696\n",
      "PGS PGS004696, содержит 1289980 SNP\n",
      "Количество SNP в PGS: 1289980\n",
      "Количество общих SNP: 456450\n",
      "Процент покрытия: 35.38%\n",
      "Выполняем расчет PGS PGS004696\n"
     ]
    },
    {
     "name": "stderr",
     "output_type": "stream",
     "text": [
      "Python(42536) MallocStackLogging: can't turn off malloc stack logging because it was not enabled.\n"
     ]
    },
    {
     "name": "stdout",
     "output_type": "stream",
     "text": [
      "PGS PGS004696 успешно рассчитан\n",
      "\n",
      "==========================================\n",
      "Обработка PGS: PGS004443\n",
      "PGS PGS004443, содержит 1059939 SNP\n",
      "Количество SNP в PGS: 1059939\n",
      "Количество общих SNP: 442559\n",
      "Процент покрытия: 41.75%\n",
      "Выполняем расчет PGS PGS004443\n"
     ]
    },
    {
     "name": "stderr",
     "output_type": "stream",
     "text": [
      "Python(42814) MallocStackLogging: can't turn off malloc stack logging because it was not enabled.\n"
     ]
    },
    {
     "name": "stdout",
     "output_type": "stream",
     "text": [
      "PGS PGS004443 успешно рассчитан\n",
      "\n",
      "==========================================\n",
      "Обработка PGS: PGS000962\n",
      "PGS PGS000962, содержит 2168 SNP\n",
      "Количество SNP в PGS: 2168\n",
      "Количество общих SNP: 444\n",
      "Процент покрытия: 20.48%\n",
      "Выполняем расчет PGS PGS000962\n"
     ]
    },
    {
     "name": "stderr",
     "output_type": "stream",
     "text": [
      "Python(42826) MallocStackLogging: can't turn off malloc stack logging because it was not enabled.\n"
     ]
    },
    {
     "name": "stdout",
     "output_type": "stream",
     "text": [
      "PGS PGS000962 успешно рассчитан\n",
      "Объеденены PGS для 224 образцов и 73 PGS\n"
     ]
    },
    {
     "name": "stderr",
     "output_type": "stream",
     "text": [
      "/Users/daklo/for_dipl/pgs_calculator.py:139: SettingWithCopyWarning: \n",
      "A value is trying to be set on a copy of a slice from a DataFrame.\n",
      "Try using .loc[row_indexer,col_indexer] = value instead\n",
      "\n",
      "See the caveats in the documentation: https://pandas.pydata.org/pandas-docs/stable/user_guide/indexing.html#returning-a-view-versus-a-copy\n",
      "  combined[pgs_name] = df['SCORE']\n",
      "/Users/daklo/for_dipl/pgs_calculator.py:139: SettingWithCopyWarning: \n",
      "A value is trying to be set on a copy of a slice from a DataFrame.\n",
      "Try using .loc[row_indexer,col_indexer] = value instead\n",
      "\n",
      "See the caveats in the documentation: https://pandas.pydata.org/pandas-docs/stable/user_guide/indexing.html#returning-a-view-versus-a-copy\n",
      "  combined[pgs_name] = df['SCORE']\n",
      "/Users/daklo/for_dipl/pgs_calculator.py:139: SettingWithCopyWarning: \n",
      "A value is trying to be set on a copy of a slice from a DataFrame.\n",
      "Try using .loc[row_indexer,col_indexer] = value instead\n",
      "\n",
      "See the caveats in the documentation: https://pandas.pydata.org/pandas-docs/stable/user_guide/indexing.html#returning-a-view-versus-a-copy\n",
      "  combined[pgs_name] = df['SCORE']\n"
     ]
    },
    {
     "name": "stdout",
     "output_type": "stream",
     "text": [
      "Сохраняю в ./pgs_results_calculated/test_5_pgs.csv\n",
      "\n",
      "Примеры данных из X_train:\n"
     ]
    },
    {
     "data": {
      "text/html": [
       "<div>\n",
       "<style scoped>\n",
       "    .dataframe tbody tr th:only-of-type {\n",
       "        vertical-align: middle;\n",
       "    }\n",
       "\n",
       "    .dataframe tbody tr th {\n",
       "        vertical-align: top;\n",
       "    }\n",
       "\n",
       "    .dataframe thead th {\n",
       "        text-align: right;\n",
       "    }\n",
       "</style>\n",
       "<table border=\"1\" class=\"dataframe\">\n",
       "  <thead>\n",
       "    <tr style=\"text-align: right;\">\n",
       "      <th></th>\n",
       "      <th>PGS003725</th>\n",
       "      <th>PGS000748</th>\n",
       "      <th>PGS000012</th>\n",
       "      <th>PGS003446</th>\n",
       "      <th>PGS004513</th>\n",
       "      <th>PGS000013</th>\n",
       "      <th>PGS005143</th>\n",
       "      <th>PGS003726</th>\n",
       "      <th>PGS002809</th>\n",
       "      <th>PGS000011</th>\n",
       "      <th>...</th>\n",
       "      <th>PGS004308</th>\n",
       "      <th>PGS000018</th>\n",
       "      <th>PGS004444</th>\n",
       "      <th>PGS000019</th>\n",
       "      <th>PGS000747</th>\n",
       "      <th>PGS000746</th>\n",
       "      <th>PGS004697</th>\n",
       "      <th>PGS004696</th>\n",
       "      <th>PGS004443</th>\n",
       "      <th>PGS000962</th>\n",
       "    </tr>\n",
       "  </thead>\n",
       "  <tbody>\n",
       "    <tr>\n",
       "      <th>0</th>\n",
       "      <td>-0.000002</td>\n",
       "      <td>-0.000063</td>\n",
       "      <td>0.006168</td>\n",
       "      <td>0.000101</td>\n",
       "      <td>9.611310e-09</td>\n",
       "      <td>0.000001</td>\n",
       "      <td>2.134340e-07</td>\n",
       "      <td>-7.218600e-07</td>\n",
       "      <td>0.031897</td>\n",
       "      <td>0.049807</td>\n",
       "      <td>...</td>\n",
       "      <td>-0.000415</td>\n",
       "      <td>0.000024</td>\n",
       "      <td>-4.735880e-08</td>\n",
       "      <td>0.027604</td>\n",
       "      <td>-0.000215</td>\n",
       "      <td>-0.001155</td>\n",
       "      <td>9.161550e-08</td>\n",
       "      <td>-2.436330e-08</td>\n",
       "      <td>3.422480e-08</td>\n",
       "      <td>0.000154</td>\n",
       "    </tr>\n",
       "    <tr>\n",
       "      <th>1</th>\n",
       "      <td>-0.000002</td>\n",
       "      <td>-0.000077</td>\n",
       "      <td>0.006248</td>\n",
       "      <td>0.000084</td>\n",
       "      <td>-6.489150e-09</td>\n",
       "      <td>0.000001</td>\n",
       "      <td>2.042790e-07</td>\n",
       "      <td>-7.320490e-07</td>\n",
       "      <td>0.028568</td>\n",
       "      <td>0.053982</td>\n",
       "      <td>...</td>\n",
       "      <td>-0.000122</td>\n",
       "      <td>0.000025</td>\n",
       "      <td>4.169950e-08</td>\n",
       "      <td>0.028056</td>\n",
       "      <td>-0.000272</td>\n",
       "      <td>0.001207</td>\n",
       "      <td>2.026840e-08</td>\n",
       "      <td>-4.630000e-08</td>\n",
       "      <td>-1.235310e-07</td>\n",
       "      <td>0.000443</td>\n",
       "    </tr>\n",
       "    <tr>\n",
       "      <th>2</th>\n",
       "      <td>-0.000002</td>\n",
       "      <td>-0.000090</td>\n",
       "      <td>0.006240</td>\n",
       "      <td>0.000113</td>\n",
       "      <td>3.239140e-08</td>\n",
       "      <td>0.000001</td>\n",
       "      <td>1.326250e-07</td>\n",
       "      <td>-8.969760e-07</td>\n",
       "      <td>0.031143</td>\n",
       "      <td>0.044140</td>\n",
       "      <td>...</td>\n",
       "      <td>-0.000298</td>\n",
       "      <td>0.000026</td>\n",
       "      <td>8.806570e-08</td>\n",
       "      <td>0.036693</td>\n",
       "      <td>-0.000271</td>\n",
       "      <td>0.000935</td>\n",
       "      <td>-2.091790e-07</td>\n",
       "      <td>-1.451660e-07</td>\n",
       "      <td>8.545240e-08</td>\n",
       "      <td>0.000223</td>\n",
       "    </tr>\n",
       "    <tr>\n",
       "      <th>3</th>\n",
       "      <td>-0.000002</td>\n",
       "      <td>-0.000073</td>\n",
       "      <td>0.006176</td>\n",
       "      <td>0.000113</td>\n",
       "      <td>1.470510e-08</td>\n",
       "      <td>0.000001</td>\n",
       "      <td>-1.259290e-07</td>\n",
       "      <td>-1.019470e-06</td>\n",
       "      <td>0.029796</td>\n",
       "      <td>0.047192</td>\n",
       "      <td>...</td>\n",
       "      <td>-0.000132</td>\n",
       "      <td>0.000025</td>\n",
       "      <td>2.013840e-07</td>\n",
       "      <td>0.029249</td>\n",
       "      <td>-0.000246</td>\n",
       "      <td>0.000573</td>\n",
       "      <td>-5.123720e-08</td>\n",
       "      <td>-1.013570e-07</td>\n",
       "      <td>-2.863880e-08</td>\n",
       "      <td>0.000167</td>\n",
       "    </tr>\n",
       "    <tr>\n",
       "      <th>4</th>\n",
       "      <td>-0.000002</td>\n",
       "      <td>-0.000093</td>\n",
       "      <td>0.006337</td>\n",
       "      <td>0.000168</td>\n",
       "      <td>1.309570e-08</td>\n",
       "      <td>0.000001</td>\n",
       "      <td>8.261840e-08</td>\n",
       "      <td>-1.202020e-06</td>\n",
       "      <td>0.031145</td>\n",
       "      <td>0.054216</td>\n",
       "      <td>...</td>\n",
       "      <td>-0.000319</td>\n",
       "      <td>0.000026</td>\n",
       "      <td>2.504590e-07</td>\n",
       "      <td>0.033132</td>\n",
       "      <td>-0.000256</td>\n",
       "      <td>0.001597</td>\n",
       "      <td>-1.858000e-07</td>\n",
       "      <td>-1.509040e-07</td>\n",
       "      <td>1.007140e-07</td>\n",
       "      <td>0.000177</td>\n",
       "    </tr>\n",
       "  </tbody>\n",
       "</table>\n",
       "<p>5 rows × 73 columns</p>\n",
       "</div>"
      ],
      "text/plain": [
       "   PGS003725  PGS000748  PGS000012  PGS003446     PGS004513  PGS000013  \\\n",
       "0  -0.000002  -0.000063   0.006168   0.000101  9.611310e-09   0.000001   \n",
       "1  -0.000002  -0.000077   0.006248   0.000084 -6.489150e-09   0.000001   \n",
       "2  -0.000002  -0.000090   0.006240   0.000113  3.239140e-08   0.000001   \n",
       "3  -0.000002  -0.000073   0.006176   0.000113  1.470510e-08   0.000001   \n",
       "4  -0.000002  -0.000093   0.006337   0.000168  1.309570e-08   0.000001   \n",
       "\n",
       "      PGS005143     PGS003726  PGS002809  PGS000011  ...  PGS004308  \\\n",
       "0  2.134340e-07 -7.218600e-07   0.031897   0.049807  ...  -0.000415   \n",
       "1  2.042790e-07 -7.320490e-07   0.028568   0.053982  ...  -0.000122   \n",
       "2  1.326250e-07 -8.969760e-07   0.031143   0.044140  ...  -0.000298   \n",
       "3 -1.259290e-07 -1.019470e-06   0.029796   0.047192  ...  -0.000132   \n",
       "4  8.261840e-08 -1.202020e-06   0.031145   0.054216  ...  -0.000319   \n",
       "\n",
       "   PGS000018     PGS004444  PGS000019  PGS000747  PGS000746     PGS004697  \\\n",
       "0   0.000024 -4.735880e-08   0.027604  -0.000215  -0.001155  9.161550e-08   \n",
       "1   0.000025  4.169950e-08   0.028056  -0.000272   0.001207  2.026840e-08   \n",
       "2   0.000026  8.806570e-08   0.036693  -0.000271   0.000935 -2.091790e-07   \n",
       "3   0.000025  2.013840e-07   0.029249  -0.000246   0.000573 -5.123720e-08   \n",
       "4   0.000026  2.504590e-07   0.033132  -0.000256   0.001597 -1.858000e-07   \n",
       "\n",
       "      PGS004696     PGS004443  PGS000962  \n",
       "0 -2.436330e-08  3.422480e-08   0.000154  \n",
       "1 -4.630000e-08 -1.235310e-07   0.000443  \n",
       "2 -1.451660e-07  8.545240e-08   0.000223  \n",
       "3 -1.013570e-07 -2.863880e-08   0.000167  \n",
       "4 -1.509040e-07  1.007140e-07   0.000177  \n",
       "\n",
       "[5 rows x 73 columns]"
      ]
     },
     "metadata": {},
     "output_type": "display_data"
    },
    {
     "data": {
      "text/html": [
       "<div>\n",
       "<style scoped>\n",
       "    .dataframe tbody tr th:only-of-type {\n",
       "        vertical-align: middle;\n",
       "    }\n",
       "\n",
       "    .dataframe tbody tr th {\n",
       "        vertical-align: top;\n",
       "    }\n",
       "\n",
       "    .dataframe thead th {\n",
       "        text-align: right;\n",
       "    }\n",
       "</style>\n",
       "<table border=\"1\" class=\"dataframe\">\n",
       "  <thead>\n",
       "    <tr style=\"text-align: right;\">\n",
       "      <th></th>\n",
       "      <th>PGS003725</th>\n",
       "      <th>PGS000748</th>\n",
       "      <th>PGS000012</th>\n",
       "      <th>PGS003446</th>\n",
       "      <th>PGS004513</th>\n",
       "      <th>PGS000013</th>\n",
       "      <th>PGS005143</th>\n",
       "      <th>PGS003726</th>\n",
       "      <th>PGS002809</th>\n",
       "      <th>PGS000011</th>\n",
       "      <th>...</th>\n",
       "      <th>PGS004308</th>\n",
       "      <th>PGS000018</th>\n",
       "      <th>PGS004444</th>\n",
       "      <th>PGS000019</th>\n",
       "      <th>PGS000747</th>\n",
       "      <th>PGS000746</th>\n",
       "      <th>PGS004697</th>\n",
       "      <th>PGS004696</th>\n",
       "      <th>PGS004443</th>\n",
       "      <th>PGS000962</th>\n",
       "    </tr>\n",
       "  </thead>\n",
       "  <tbody>\n",
       "    <tr>\n",
       "      <th>0</th>\n",
       "      <td>-0.000002</td>\n",
       "      <td>-0.000086</td>\n",
       "      <td>0.006296</td>\n",
       "      <td>0.000143</td>\n",
       "      <td>-9.071360e-09</td>\n",
       "      <td>0.000001</td>\n",
       "      <td>3.249520e-07</td>\n",
       "      <td>-9.692450e-07</td>\n",
       "      <td>0.033945</td>\n",
       "      <td>0.052974</td>\n",
       "      <td>...</td>\n",
       "      <td>0.000109</td>\n",
       "      <td>0.000026</td>\n",
       "      <td>-4.732700e-08</td>\n",
       "      <td>0.041390</td>\n",
       "      <td>-0.000261</td>\n",
       "      <td>0.000481</td>\n",
       "      <td>-6.716470e-08</td>\n",
       "      <td>-8.755070e-08</td>\n",
       "      <td>-3.072770e-07</td>\n",
       "      <td>0.000240</td>\n",
       "    </tr>\n",
       "    <tr>\n",
       "      <th>1</th>\n",
       "      <td>-0.000002</td>\n",
       "      <td>-0.000103</td>\n",
       "      <td>0.006257</td>\n",
       "      <td>0.000172</td>\n",
       "      <td>3.372920e-08</td>\n",
       "      <td>0.000001</td>\n",
       "      <td>8.271480e-08</td>\n",
       "      <td>-1.078740e-06</td>\n",
       "      <td>0.028405</td>\n",
       "      <td>0.059610</td>\n",
       "      <td>...</td>\n",
       "      <td>-0.000316</td>\n",
       "      <td>0.000025</td>\n",
       "      <td>1.865330e-07</td>\n",
       "      <td>0.026249</td>\n",
       "      <td>-0.000254</td>\n",
       "      <td>0.001520</td>\n",
       "      <td>-4.609610e-08</td>\n",
       "      <td>9.216750e-09</td>\n",
       "      <td>2.311290e-07</td>\n",
       "      <td>0.000099</td>\n",
       "    </tr>\n",
       "    <tr>\n",
       "      <th>2</th>\n",
       "      <td>-0.000002</td>\n",
       "      <td>-0.000085</td>\n",
       "      <td>0.006229</td>\n",
       "      <td>0.000051</td>\n",
       "      <td>-4.780010e-08</td>\n",
       "      <td>0.000001</td>\n",
       "      <td>9.131020e-08</td>\n",
       "      <td>-1.011000e-06</td>\n",
       "      <td>0.033201</td>\n",
       "      <td>0.056297</td>\n",
       "      <td>...</td>\n",
       "      <td>-0.000496</td>\n",
       "      <td>0.000025</td>\n",
       "      <td>-1.093680e-07</td>\n",
       "      <td>0.029550</td>\n",
       "      <td>-0.000153</td>\n",
       "      <td>0.000661</td>\n",
       "      <td>-1.271620e-07</td>\n",
       "      <td>-1.377680e-07</td>\n",
       "      <td>-4.127820e-07</td>\n",
       "      <td>0.000387</td>\n",
       "    </tr>\n",
       "    <tr>\n",
       "      <th>3</th>\n",
       "      <td>-0.000002</td>\n",
       "      <td>-0.000095</td>\n",
       "      <td>0.006298</td>\n",
       "      <td>0.000128</td>\n",
       "      <td>5.275760e-08</td>\n",
       "      <td>0.000001</td>\n",
       "      <td>2.868880e-07</td>\n",
       "      <td>-1.178150e-06</td>\n",
       "      <td>0.027968</td>\n",
       "      <td>0.042473</td>\n",
       "      <td>...</td>\n",
       "      <td>-0.000330</td>\n",
       "      <td>0.000024</td>\n",
       "      <td>3.333530e-07</td>\n",
       "      <td>0.019080</td>\n",
       "      <td>-0.000308</td>\n",
       "      <td>0.000054</td>\n",
       "      <td>9.598930e-08</td>\n",
       "      <td>-1.407410e-08</td>\n",
       "      <td>3.819540e-07</td>\n",
       "      <td>0.000141</td>\n",
       "    </tr>\n",
       "    <tr>\n",
       "      <th>4</th>\n",
       "      <td>-0.000003</td>\n",
       "      <td>-0.000117</td>\n",
       "      <td>0.006228</td>\n",
       "      <td>0.000067</td>\n",
       "      <td>-1.870980e-08</td>\n",
       "      <td>0.000001</td>\n",
       "      <td>4.865190e-09</td>\n",
       "      <td>-1.836260e-06</td>\n",
       "      <td>0.024187</td>\n",
       "      <td>0.051589</td>\n",
       "      <td>...</td>\n",
       "      <td>-0.000453</td>\n",
       "      <td>0.000025</td>\n",
       "      <td>-7.728530e-09</td>\n",
       "      <td>0.034109</td>\n",
       "      <td>-0.000368</td>\n",
       "      <td>0.000396</td>\n",
       "      <td>-3.186450e-07</td>\n",
       "      <td>-3.232590e-07</td>\n",
       "      <td>-1.612170e-07</td>\n",
       "      <td>0.000072</td>\n",
       "    </tr>\n",
       "  </tbody>\n",
       "</table>\n",
       "<p>5 rows × 73 columns</p>\n",
       "</div>"
      ],
      "text/plain": [
       "   PGS003725  PGS000748  PGS000012  PGS003446     PGS004513  PGS000013  \\\n",
       "0  -0.000002  -0.000086   0.006296   0.000143 -9.071360e-09   0.000001   \n",
       "1  -0.000002  -0.000103   0.006257   0.000172  3.372920e-08   0.000001   \n",
       "2  -0.000002  -0.000085   0.006229   0.000051 -4.780010e-08   0.000001   \n",
       "3  -0.000002  -0.000095   0.006298   0.000128  5.275760e-08   0.000001   \n",
       "4  -0.000003  -0.000117   0.006228   0.000067 -1.870980e-08   0.000001   \n",
       "\n",
       "      PGS005143     PGS003726  PGS002809  PGS000011  ...  PGS004308  \\\n",
       "0  3.249520e-07 -9.692450e-07   0.033945   0.052974  ...   0.000109   \n",
       "1  8.271480e-08 -1.078740e-06   0.028405   0.059610  ...  -0.000316   \n",
       "2  9.131020e-08 -1.011000e-06   0.033201   0.056297  ...  -0.000496   \n",
       "3  2.868880e-07 -1.178150e-06   0.027968   0.042473  ...  -0.000330   \n",
       "4  4.865190e-09 -1.836260e-06   0.024187   0.051589  ...  -0.000453   \n",
       "\n",
       "   PGS000018     PGS004444  PGS000019  PGS000747  PGS000746     PGS004697  \\\n",
       "0   0.000026 -4.732700e-08   0.041390  -0.000261   0.000481 -6.716470e-08   \n",
       "1   0.000025  1.865330e-07   0.026249  -0.000254   0.001520 -4.609610e-08   \n",
       "2   0.000025 -1.093680e-07   0.029550  -0.000153   0.000661 -1.271620e-07   \n",
       "3   0.000024  3.333530e-07   0.019080  -0.000308   0.000054  9.598930e-08   \n",
       "4   0.000025 -7.728530e-09   0.034109  -0.000368   0.000396 -3.186450e-07   \n",
       "\n",
       "      PGS004696     PGS004443  PGS000962  \n",
       "0 -8.755070e-08 -3.072770e-07   0.000240  \n",
       "1  9.216750e-09  2.311290e-07   0.000099  \n",
       "2 -1.377680e-07 -4.127820e-07   0.000387  \n",
       "3 -1.407410e-08  3.819540e-07   0.000141  \n",
       "4 -3.232590e-07 -1.612170e-07   0.000072  \n",
       "\n",
       "[5 rows x 73 columns]"
      ]
     },
     "metadata": {},
     "output_type": "display_data"
    }
   ],
   "source": [
    "# Подсчет PGS\n",
    "X_trains_smalls = []\n",
    "y_train_smalls = []\n",
    "X_test_smalls = []\n",
    "y_test_smalls = []\n",
    "\n",
    "for i in range(1, 6):\n",
    "    train_plink = f\"./train_{i}\"\n",
    "    test_plink = f\"./test_{i}\"\n",
    "    pgs_folder = f\"./pgs\"\n",
    "    results_dir = f\"./pgs_results_calculated\"\n",
    "\n",
    "    os.makedirs(results_dir, exist_ok=True)\n",
    "    \n",
    "    train_output = os.path.join(results_dir, f\"train_{i}_pgs.csv\")\n",
    "    test_output = os.path.join(results_dir, f\"test_{i}_pgs.csv\")\n",
    "    X_train, y_train = calculate_pgs(train_plink, pgs_folder, train_output)\n",
    "    X_test, y_test = calculate_pgs(test_plink, pgs_folder, test_output)\n",
    "    print(\"\\nПримеры данных из X_train:\")\n",
    "    X_trains_smalls.append(X_train)\n",
    "    y_train_smalls.append(y_train)\n",
    "    X_test_smalls.append(X_test)\n",
    "    y_test_smalls.append(y_test)\n",
    "    display(X_train.head())\n",
    "    display(X_test.head())"
   ]
  },
  {
   "cell_type": "code",
   "execution_count": 77,
   "metadata": {},
   "outputs": [],
   "source": [
    "# Обучение и замер качества\n",
    "rocaucs = []\n",
    "rocaucs_selected = []\n",
    "\n",
    "for i in range(0, 5):\n",
    "    X_train, y_train = X_trains_smalls[i], y_train_smalls[i]\n",
    "    X_test, y_test = X_test_smalls[i], y_test_smalls[i]\n",
    "\n",
    "    model = LogisticRegression()\n",
    "    model.fit(X_train, y_train)\n",
    "\n",
    "    y_test_pred_probs = model.predict_proba(X_test)[:, 1]\n",
    "    roc_auc = roc_auc_score(y_test, y_test_pred_probs)\n",
    "    rocaucs.append(roc_auc)\n",
    "\n",
    "    selector = SelectKBest(f_classif, k=8)\n",
    "    X_train_new = selector.fit_transform(X_train, y_train)\n",
    "    X_test_new = selector.transform(X_test)\n",
    "\n",
    "    model = LogisticRegression()\n",
    "    model.fit(X_train_new, y_train)\n",
    "\n",
    "    y_test_pred_probs = model.predict_proba(X_test_new)[:, 1]\n",
    "    roc_auc = roc_auc_score(y_test, y_test_pred_probs)\n",
    "    rocaucs_selected.append(roc_auc)"
   ]
  },
  {
   "cell_type": "code",
   "execution_count": 78,
   "metadata": {},
   "outputs": [
    {
     "name": "stdout",
     "output_type": "stream",
     "text": [
      "Средний ROC-AUC для модели используещей все PGS: 0.5898\n",
      "Средний ROC-AUC для модели используещей отобранные PGS: 0.7048\n"
     ]
    }
   ],
   "source": [
    "print(f\"Средний ROC-AUC для модели используещей все PGS: {np.mean(rocaucs):.4f}\")\n",
    "print(f\"Средний ROC-AUC для модели используещей отобранные PGS: {np.mean(rocaucs_selected):.4f}\")"
   ]
  },
  {
   "cell_type": "code",
   "execution_count": null,
   "metadata": {},
   "outputs": [],
   "source": []
  }
 ],
 "metadata": {
  "kernelspec": {
   "display_name": "for_dipl",
   "language": "python",
   "name": "python3"
  },
  "language_info": {
   "codemirror_mode": {
    "name": "ipython",
    "version": 3
   },
   "file_extension": ".py",
   "mimetype": "text/x-python",
   "name": "python",
   "nbconvert_exporter": "python",
   "pygments_lexer": "ipython3",
   "version": "3.12.3"
  }
 },
 "nbformat": 4,
 "nbformat_minor": 2
}
