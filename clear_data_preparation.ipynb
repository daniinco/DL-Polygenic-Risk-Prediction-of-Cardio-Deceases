{
 "cells": [
  {
   "cell_type": "markdown",
   "metadata": {},
   "source": [
    "Переупорядочиваем SNP"
   ]
  },
  {
   "cell_type": "code",
   "execution_count": 4,
   "metadata": {},
   "outputs": [
    {
     "name": "stderr",
     "output_type": "stream",
     "text": [
      "Python(35428) MallocStackLogging: can't turn off malloc stack logging because it was not enabled.\n"
     ]
    },
    {
     "name": "stdout",
     "output_type": "stream",
     "text": [
      "PLINK v1.9.0-b.7.7 64-bit (22 Oct 2024)            cog-genomics.org/plink/1.9/\n",
      "(C) 2005-2024 Shaun Purcell, Christopher Chang   GNU General Public License v3\n",
      "Logging to intermediate_penncath.log.\n",
      "Options in effect:\n",
      "  --bfile ./penncath_data/penncath\n",
      "  --make-bed\n",
      "  --out intermediate_penncath\n",
      "\n",
      "16384 MB RAM detected; reserving 8192 MB for main workspace.\n",
      "861473 variants loaded from .bim file.\n",
      "1401 people (937 males, 464 females) loaded from .fam.\n",
      "933 phenotype values loaded from .fam.\n",
      "Using 1 thread (no multithreaded calculations invoked).\n",
      "Before main variant filters, 1401 founders and 0 nonfounders present.\n",
      "Calculating allele frequencies... 10111213141516171819202122232425262728293031323334353637383940414243444546474849505152535455565758596061626364656667686970717273747576777879808182838485868788899091929394959697989 done.\n",
      "Total genotyping rate is 0.977517.\n",
      "861473 variants and 1401 people pass filters and QC.\n",
      "Among remaining phenotypes, 463 are cases and 470 are controls.  (468\n",
      "phenotypes are missing.)\n",
      "--make-bed to intermediate_penncath.bed + intermediate_penncath.bim +\n",
      "intermediate_penncath.fam ... 1010111112121313141415151616171718181919202021212222232324242525262627272828292930303131323233333434353536363737383839394040414142424343444445454646474748484949505051515252535354545555565657575858595960606161626263636464656566666767686869697070717172727373747475757676777778787979808081818282838384848585868687878888898990909191929293939494959596969797989899done.\n"
     ]
    }
   ],
   "source": [
    "!plink --bfile ./penncath_data/penncath --make-bed --out intermediate_penncath"
   ]
  },
  {
   "cell_type": "markdown",
   "metadata": {},
   "source": [
    "Фильтруем SNP"
   ]
  },
  {
   "cell_type": "code",
   "execution_count": 24,
   "metadata": {},
   "outputs": [
    {
     "name": "stderr",
     "output_type": "stream",
     "text": [
      "Python(11693) MallocStackLogging: can't turn off malloc stack logging because it was not enabled.\n"
     ]
    },
    {
     "name": "stdout",
     "output_type": "stream",
     "text": [
      "PLINK v1.9.0-b.7.7 64-bit (22 Oct 2024)            cog-genomics.org/plink/1.9/\n",
      "(C) 2005-2024 Shaun Purcell, Christopher Chang   GNU General Public License v3\n",
      "Logging to filtered_data.log.\n",
      "Options in effect:\n",
      "  --bfile intermediate_penncath\n",
      "  --geno 0.05\n",
      "  --maf 0.05\n",
      "  --make-bed\n",
      "  --out filtered_data\n",
      "\n",
      "16384 MB RAM detected; reserving 8192 MB for main workspace.\n",
      "861473 variants loaded from .bim file.\n",
      "1401 people (937 males, 464 females) loaded from .fam.\n",
      "933 phenotype values loaded from .fam.\n",
      "Using 1 thread (no multithreaded calculations invoked).\n",
      "Before main variant filters, 1401 founders and 0 nonfounders present.\n",
      "Calculating allele frequencies... 10111213141516171819202122232425262728293031323334353637383940414243444546474849505152535455565758596061626364656667686970717273747576777879808182838485868788899091929394959697989 done.\n",
      "Total genotyping rate is 0.977517.\n",
      "94293 variants removed due to missing genotype data (--geno).\n",
      "175182 variants removed due to minor allele threshold(s)\n",
      "(--maf/--max-maf/--mac/--max-mac).\n",
      "591998 variants and 1401 people pass filters and QC.\n",
      "Among remaining phenotypes, 463 are cases and 470 are controls.  (468\n",
      "phenotypes are missing.)\n",
      "--make-bed to filtered_data.bed + filtered_data.bim + filtered_data.fam ...\n",
      "101112131415161718192021222324252627282930313233343536373839404142434445464748495051525354555657585960616263646566676869707172737475767778798081828384858687888990919293949596979899done.\n"
     ]
    }
   ],
   "source": [
    "!plink --bfile intermediate_penncath --maf 0.05 --geno 0.05 --hwe 1e-6 --make-bed --out filtered_data"
   ]
  },
  {
   "cell_type": "markdown",
   "metadata": {},
   "source": [
    "Замена фенотипа на таргет из csv файла."
   ]
  },
  {
   "cell_type": "code",
   "execution_count": 25,
   "metadata": {},
   "outputs": [],
   "source": [
    "import pandas as pd\n",
    "import numpy as np\n",
    "import subprocess\n",
    "import os\n",
    "from sklearn.model_selection import KFold\n"
   ]
  },
  {
   "cell_type": "code",
   "execution_count": 26,
   "metadata": {},
   "outputs": [
    {
     "data": {
      "text/plain": [
       "(          0  1  2  3  4  5\n",
       " 0     10002  1  0  0  1  2\n",
       " 1     10004  1  0  0  2  2\n",
       " 2     10005  1  0  0  1  2\n",
       " 3     10007  1  0  0  1  2\n",
       " 4     10008  1  0  0  1  2\n",
       " ...     ... .. .. .. .. ..\n",
       " 1396  11591  1  0  0  2  1\n",
       " 1397  11592  1  0  0  1  2\n",
       " 1398  11593  1  0  0  1  2\n",
       " 1399  11594  1  0  0  1  2\n",
       " 1400  11596  1  0  0  1  1\n",
       " \n",
       " [1401 rows x 6 columns],\n",
       "       FamID  CAD  sex  age     tg    hdl    ldl\n",
       " 0     10002    1    1   60    NaN    NaN    NaN\n",
       " 1     10004    1    2   50   55.0   23.0   75.0\n",
       " 2     10005    1    1   55  105.0   37.0   69.0\n",
       " 3     10007    1    1   52  314.0   54.0  108.0\n",
       " 4     10008    1    1   58  161.0   40.0   94.0\n",
       " ...     ...  ...  ...  ...    ...    ...    ...\n",
       " 1396  11591    0    2   59   34.0   44.0   89.0\n",
       " 1397  11592    1    1   45   69.0  101.0   77.0\n",
       " 1398  11593    1    1   59   77.0   27.0   41.0\n",
       " 1399  11594    1    1   30    NaN    NaN    NaN\n",
       " 1400  11596    0    1   64  224.0   35.0   96.0\n",
       " \n",
       " [1401 rows x 7 columns])"
      ]
     },
     "execution_count": 26,
     "metadata": {},
     "output_type": "execute_result"
    }
   ],
   "source": [
    "fam = pd.read_csv('./filtered_data.fam', sep=' ', header=None)\n",
    "csv = pd.read_csv('./penncath_data/penncath.csv', sep=',')\n",
    "fam[5] = csv[\"CAD\"] + 1\n",
    "fam.to_csv(\"filtered_data_1.fam\", \n",
    "           index=False,\n",
    "           sep=' ',\n",
    "           header=False\n",
    ")\n",
    "fam, csv"
   ]
  },
  {
   "cell_type": "code",
   "execution_count": 27,
   "metadata": {},
   "outputs": [
    {
     "data": {
      "text/plain": [
       "1.6659528907922911"
      ]
     },
     "execution_count": 27,
     "metadata": {},
     "output_type": "execute_result"
    }
   ],
   "source": [
    "fam[5].mean()"
   ]
  },
  {
   "cell_type": "markdown",
   "metadata": {},
   "source": [
    "Испрравляем формат первого столбца после записи через пандас"
   ]
  },
  {
   "cell_type": "code",
   "execution_count": 28,
   "metadata": {},
   "outputs": [],
   "source": [
    "with open('filtered_data_1.fam', 'r') as infile, open('filtered_data.fam', 'w') as outfile:\n",
    "    for line in infile:\n",
    "        number, value, a, b, c, d = line.split()\n",
    "\n",
    "        outfile.write(f'\"{number}\" {value} {a} {b} {c} {d}\\n')"
   ]
  },
  {
   "cell_type": "code",
   "execution_count": 29,
   "metadata": {},
   "outputs": [
    {
     "name": "stderr",
     "output_type": "stream",
     "text": [
      "<>:4: SyntaxWarning: invalid escape sequence '\\s'\n",
      "<>:4: SyntaxWarning: invalid escape sequence '\\s'\n",
      "/var/folders/vk/0y4fmhhn3cd_lwzv7g3n3fc5f83rjt/T/ipykernel_10568/1294136838.py:4: SyntaxWarning: invalid escape sequence '\\s'\n",
      "  fam_data = pd.read_csv(fam_file, sep='\\s+', header=None)\n"
     ]
    }
   ],
   "source": [
    "input_file = \"./filtered_data\"\n",
    "\n",
    "fam_file = input_file + '.fam'\n",
    "fam_data = pd.read_csv(fam_file, sep='\\s+', header=None)\n",
    "\n",
    "samples = fam_data.iloc[:, [0, 1]]\n"
   ]
  },
  {
   "cell_type": "code",
   "execution_count": 30,
   "metadata": {},
   "outputs": [],
   "source": [
    "shuffled_samples = samples.sample(frac=1, random_state=42)"
   ]
  },
  {
   "cell_type": "code",
   "execution_count": 31,
   "metadata": {},
   "outputs": [
    {
     "name": "stdout",
     "output_type": "stream",
     "text": [
      "Всего: 1401\n",
      "Обучающая выборка 1120 - (79.9%)\n",
      "Валидационная выборка 281 - (20.1%)\n"
     ]
    }
   ],
   "source": [
    "total_samples = len(shuffled_samples)\n",
    "train_size = int(total_samples * 0.8)\n",
    "# Разделение на обучающую и валидационную выборки\n",
    "train_samples = shuffled_samples.iloc[:train_size]\n",
    "validation_samples = shuffled_samples.iloc[train_size:]\n",
    "print(f\"Всего: {total_samples}\")\n",
    "print(f\"Обучающая выборка {len(train_samples)} - ({len(train_samples)/total_samples*100:.1f}%)\")\n",
    "print(f\"Валидационная выборка {len(validation_samples)} - ({len(validation_samples)/total_samples*100:.1f}%)\")"
   ]
  },
  {
   "cell_type": "code",
   "execution_count": 32,
   "metadata": {},
   "outputs": [],
   "source": [
    "train_file = 'train_samples.txt'\n",
    "validation_file = 'validation_samples.txt'\n",
    "train_file_1 = 'train_samples_1.txt'\n",
    "validation_file_1 = 'validation_samples_1.txt'\n",
    "\n",
    "train_samples.to_csv(train_file_1, sep='\\t', header=False, index=False)\n",
    "validation_samples.to_csv(validation_file_1, sep='\\t', header=False, index=False)"
   ]
  },
  {
   "cell_type": "code",
   "execution_count": 33,
   "metadata": {},
   "outputs": [],
   "source": [
    "with open('train_samples_1.txt', 'r') as infile, open('train_samples.txt', 'w') as outfile:\n",
    "    for line in infile:\n",
    "        number, value = line.split()\n",
    "\n",
    "        outfile.write(f'\"{number}\" {value}\\n')\n",
    "\n",
    "with open('validation_samples_1.txt', 'r') as infile, open('validation_samples.txt', 'w') as outfile:\n",
    "    for line in infile:\n",
    "        number, value = line.split()\n",
    "\n",
    "        outfile.write(f'\"{number}\" {value}\\n')"
   ]
  },
  {
   "cell_type": "code",
   "execution_count": 34,
   "metadata": {},
   "outputs": [
    {
     "name": "stdout",
     "output_type": "stream",
     "text": [
      "Создание обучающей выборки\n",
      "PLINK v1.9.0-b.7.7 64-bit (22 Oct 2024)            cog-genomics.org/plink/1.9/\n",
      "(C) 2005-2024 Shaun Purcell, Christopher Chang   GNU General Public License v3\n",
      "Logging to all_train.log.\n",
      "Options in effect:\n",
      "  --bfile ./filtered_data\n",
      "  --keep train_samples.txt\n",
      "  --make-bed\n",
      "  --out all_train\n",
      "\n",
      "16384 MB RAM detected; reserving 8192 MB for main workspace.\n",
      "591998 variants loaded from .bim file.\n",
      "1401 people (937 males, 464 females) loaded from .fam.\n",
      "1401 phenotype values loaded from .fam.\n",
      "--keep: 1120 people remaining.\n",
      "Using 1 thread (no multithreaded calculations invoked).\n",
      "Before main variant filters, 1120 founders and 0 nonfounders present.\n",
      "Calculating allele frequencies... 1011%"
     ]
    },
    {
     "name": "stderr",
     "output_type": "stream",
     "text": [
      "Python(11787) MallocStackLogging: can't turn off malloc stack logging because it was not enabled.\n"
     ]
    },
    {
     "name": "stdout",
     "output_type": "stream",
     "text": [
      "\b1213141516171819202122232425262728293031323334353637383940414243444546474849505152535455565758596061626364656667686970717273747576777879808182838485868788899091929394959697989 done.\n",
      "Total genotyping rate in remaining samples is 0.991709.\n",
      "591998 variants and 1120 people pass filters and QC.\n",
      "Among remaining phenotypes, 744 are cases and 376 are controls.\n",
      "--make-bed to all_train.bed + all_train.bim + all_train.fam ... 101112131415161718192021222324252627282930313233343536373839404142434445464748495051525354555657585960616263646566676869707172737475767778798081828384858687888990919293949596979899done.\n",
      "Создание валидационной выборки\n",
      "PLINK v1.9.0-b.7.7 64-bit (22 Oct 2024)            cog-genomics.org/plink/1.9/\n",
      "(C) 2005-2024 Shaun Purcell, Christopher Chang   GNU General Public License v3\n",
      "Logging to validation.log.\n",
      "Options in effect:\n",
      "  --bfile ./filtered_data\n",
      "  --keep validation_samples.txt\n",
      "  --make-bed\n",
      "  --out validation\n",
      "\n",
      "16384 MB RAM detected; reserving 8192 MB for main workspace.\n",
      "591998 variants loaded from .bim file.\n",
      "1401 people (937 males, 464 females) loaded from .fam.\n",
      "1401 phenotype values loaded from .fam.\n",
      "--keep: 281 people remaining.\n",
      "Using 1 thread (no multithreaded calculations invoked).\n",
      "Before main variant filters, 281 founders and 0 nonfounders present.\n",
      "Calculating allele frequencies... 10111213141516171819202122232425%"
     ]
    },
    {
     "name": "stderr",
     "output_type": "stream",
     "text": [
      "Python(11788) MallocStackLogging: can't turn off malloc stack logging because it was not enabled.\n"
     ]
    },
    {
     "name": "stdout",
     "output_type": "stream",
     "text": [
      "\b262728293031323334353637383940414243444546474849505152535455565758596061626364656667686970717273747576777879808182838485868788899091929394959697989 done.\n",
      "Total genotyping rate in remaining samples is 0.991561.\n",
      "591998 variants and 281 people pass filters and QC.\n",
      "Among remaining phenotypes, 189 are cases and 92 are controls.\n",
      "--make-bed to validation.bed + validation.bim + validation.fam ... 101112131415161718192021222324252627282930313233343536373839404142434445464748495051525354555657585960616263646566676869707172737475767778798081828384858687888990919293949596979899done.\n",
      "Разделение успешно\n"
     ]
    }
   ],
   "source": [
    "try:\n",
    "    # Создание обучающей выборки\n",
    "    print(\"Создание обучающей выборки\")\n",
    "    subprocess.run([\n",
    "        'plink',\n",
    "        '--bfile', input_file,\n",
    "        '--keep', train_file,\n",
    "        '--make-bed',\n",
    "        '--out', 'all_train'\n",
    "    ], check=True)\n",
    "    # Создание валидационной выборки\n",
    "    print(\"Создание валидационной выборки\")\n",
    "    subprocess.run([\n",
    "        'plink',\n",
    "        '--bfile', input_file,\n",
    "        '--keep', validation_file,\n",
    "        '--make-bed',\n",
    "        '--out', 'validation'\n",
    "    ], check=True)\n",
    "    print(\"Разделение успешно\")\n",
    "    \n",
    "except subprocess.CalledProcessError as e:\n",
    "    print(f\"Ошибка {e}\")"
   ]
  },
  {
   "cell_type": "code",
   "execution_count": 35,
   "metadata": {},
   "outputs": [],
   "source": [
    "for file in [train_file, validation_file, train_file_1, validation_file_1]:\n",
    "    if os.path.exists(file):\n",
    "        os.remove(file)\n"
   ]
  },
  {
   "cell_type": "code",
   "execution_count": 36,
   "metadata": {},
   "outputs": [
    {
     "name": "stderr",
     "output_type": "stream",
     "text": [
      "<>:4: SyntaxWarning: invalid escape sequence '\\s'\n",
      "<>:4: SyntaxWarning: invalid escape sequence '\\s'\n",
      "/var/folders/vk/0y4fmhhn3cd_lwzv7g3n3fc5f83rjt/T/ipykernel_10568/3204243319.py:4: SyntaxWarning: invalid escape sequence '\\s'\n",
      "  fam_data = pd.read_csv(fam_file, sep='\\s+', header=None)\n"
     ]
    },
    {
     "data": {
      "text/html": [
       "<div>\n",
       "<style scoped>\n",
       "    .dataframe tbody tr th:only-of-type {\n",
       "        vertical-align: middle;\n",
       "    }\n",
       "\n",
       "    .dataframe tbody tr th {\n",
       "        vertical-align: top;\n",
       "    }\n",
       "\n",
       "    .dataframe thead th {\n",
       "        text-align: right;\n",
       "    }\n",
       "</style>\n",
       "<table border=\"1\" class=\"dataframe\">\n",
       "  <thead>\n",
       "    <tr style=\"text-align: right;\">\n",
       "      <th></th>\n",
       "      <th>0</th>\n",
       "      <th>1</th>\n",
       "    </tr>\n",
       "  </thead>\n",
       "  <tbody>\n",
       "    <tr>\n",
       "      <th>0</th>\n",
       "      <td>10002</td>\n",
       "      <td>1</td>\n",
       "    </tr>\n",
       "    <tr>\n",
       "      <th>1</th>\n",
       "      <td>10005</td>\n",
       "      <td>1</td>\n",
       "    </tr>\n",
       "    <tr>\n",
       "      <th>2</th>\n",
       "      <td>10007</td>\n",
       "      <td>1</td>\n",
       "    </tr>\n",
       "    <tr>\n",
       "      <th>3</th>\n",
       "      <td>10008</td>\n",
       "      <td>1</td>\n",
       "    </tr>\n",
       "    <tr>\n",
       "      <th>4</th>\n",
       "      <td>10009</td>\n",
       "      <td>1</td>\n",
       "    </tr>\n",
       "  </tbody>\n",
       "</table>\n",
       "</div>"
      ],
      "text/plain": [
       "       0  1\n",
       "0  10002  1\n",
       "1  10005  1\n",
       "2  10007  1\n",
       "3  10008  1\n",
       "4  10009  1"
      ]
     },
     "execution_count": 36,
     "metadata": {},
     "output_type": "execute_result"
    }
   ],
   "source": [
    "input_file = \"./all_train\"\n",
    "\n",
    "fam_file = input_file + '.fam'\n",
    "fam_data = pd.read_csv(fam_file, sep='\\s+', header=None)\n",
    "\n",
    "samples = fam_data.iloc[:, [0, 1]]\n",
    "\n",
    "samples.head()\n"
   ]
  },
  {
   "cell_type": "code",
   "execution_count": 37,
   "metadata": {},
   "outputs": [
    {
     "name": "stdout",
     "output_type": "stream",
     "text": [
      "Фолд 1: 224 образцов\n",
      "Фолд 2: 224 образцов\n",
      "Фолд 3: 224 образцов\n",
      "Фолд 4: 224 образцов\n",
      "Фолд 5: 224 образцов\n"
     ]
    }
   ],
   "source": [
    "# Перемешиваем с фиксированным seed\n",
    "np.random.seed(42)\n",
    "shuffled_indices = np.random.permutation(len(samples))\n",
    "shuffled_samples = samples.iloc[shuffled_indices].reset_index(drop=True)\n",
    "\n",
    "n_folds = 5\n",
    "fold_size = len(shuffled_samples) // n_folds\n",
    "fold_samples = []\n",
    "\n",
    "for i in range(n_folds):\n",
    "    start_idx = i * fold_size\n",
    "    end_idx = (i + 1) * fold_size if i < n_folds - 1 else len(shuffled_samples)\n",
    "    fold_samples.append(shuffled_samples.iloc[start_idx:end_idx])\n",
    "    print(f\"Фолд {i+1}: {len(fold_samples[i])} образцов\")\n"
   ]
  },
  {
   "cell_type": "code",
   "execution_count": 38,
   "metadata": {},
   "outputs": [],
   "source": [
    "def create_plink_sets_for_fold(fold_idx, fold_samples, all_samples, input_file):\n",
    "    \"\"\"\n",
    "        fold_idx: 0-4\n",
    "        fold_samples: список DataFrames с обьектами для каждого фолда\n",
    "        all_samples: полный DataFrame\n",
    "        input_file: путь к PLINK\n",
    "    \"\"\"\n",
    "    test_samples = fold_samples[fold_idx]\n",
    "    train_indices = list(range(len(fold_samples)))\n",
    "    train_indices.remove(fold_idx)\n",
    "    train_samples = pd.concat([fold_samples[i] for i in train_indices])\n",
    "    \n",
    "    test_name = f\"test_{fold_idx+1}\"\n",
    "    train_name = f\"train_{fold_idx+1}\"\n",
    "    test_file = f\"{test_name}_samples.txt\"\n",
    "    train_file = f\"{train_name}_samples.txt\"\n",
    "    test_file_1 = f\"{test_name}_samples_1.txt\"\n",
    "    train_file_1 = f\"{train_name}_samples_1.txt\"\n",
    "    \n",
    "    test_samples.to_csv(test_file_1, sep='\\t', header=False, index=False)\n",
    "    train_samples.to_csv(train_file_1, sep='\\t', header=False, index=False)\n",
    "\n",
    "    with open(test_file_1, 'r') as infile, open(test_file, 'w') as outfile:\n",
    "        for line in infile:\n",
    "            number, value = line.split()\n",
    "            outfile.write(f'\"{number}\" {value}\\n')\n",
    "    \n",
    "    with open(train_file_1, 'r') as infile, open(train_file, 'w') as outfile:\n",
    "        for line in infile:\n",
    "            number, value = line.split()\n",
    "            outfile.write(f'\"{number}\" {value}\\n')\n",
    "    \n",
    "    try:\n",
    "        print(f\"Создание тестового набора {test_name}\")\n",
    "        subprocess.run([\n",
    "            'plink',\n",
    "            '--bfile', input_file,\n",
    "            '--keep', test_file,\n",
    "            '--make-bed',\n",
    "            '--out', test_name\n",
    "        ], check=True)\n",
    "        \n",
    "        print(f\"Создание обучающего набора {train_name}\")\n",
    "        subprocess.run([\n",
    "            'plink',\n",
    "            '--bfile', input_file,\n",
    "            '--keep', train_file,\n",
    "            '--make-bed',\n",
    "            '--out', train_name\n",
    "        ], check=True)\n",
    "        \n",
    "        print(f\"Фолд {fold_idx+1}: успешно\")\n",
    "        for file in [test_file, train_file, test_file_1, train_file_1]:\n",
    "            if os.path.exists(file):\n",
    "                os.remove(file)\n",
    "        return True\n",
    "        \n",
    "    except subprocess.CalledProcessError as e:\n",
    "        print(f\"Ошибка  {e}\")\n",
    "        for file in [test_file, train_file, test_file_1, train_file_1]:\n",
    "            if os.path.exists(file):\n",
    "                os.remove(file)\n",
    "        return False\n"
   ]
  },
  {
   "cell_type": "code",
   "execution_count": 39,
   "metadata": {},
   "outputs": [
    {
     "name": "stdout",
     "output_type": "stream",
     "text": [
      "\n",
      "==================================================\n",
      "фолд 1/5\n",
      "Создание тестового набора test_1\n",
      "PLINK v1.9.0-b.7.7 64-bit (22 Oct 2024)            cog-genomics.org/plink/1.9/\n",
      "(C) 2005-2024 Shaun Purcell, Christopher Chang   GNU General Public License v3\n",
      "Logging to test_1.log.\n",
      "Options in effect:\n",
      "  --bfile ./all_train\n",
      "  --keep test_1_samples.txt\n",
      "  --make-bed\n",
      "  --out test_1\n",
      "\n",
      "16384 MB RAM detected; reserving 8192 MB for main workspace.\n",
      "591998 variants loaded from .bim file.\n",
      "1120 people (749 males, 371 females) loaded from .fam.\n",
      "1120 phenotype values loaded from .fam.\n",
      "--keep: 224 people remaining.\n",
      "Using 1 thread (no multithreaded calculations invoked).\n",
      "Before main variant filters, 224 founders and 0 nonfounders present.\n",
      "Calculating allele frequencies... 9%"
     ]
    },
    {
     "name": "stderr",
     "output_type": "stream",
     "text": [
      "Python(11838) MallocStackLogging: can't turn off malloc stack logging because it was not enabled.\n"
     ]
    },
    {
     "name": "stdout",
     "output_type": "stream",
     "text": [
      "10111213141516171819202122232425262728293031323334353637383940414243444546474849505152535455565758596061626364656667686970717273747576777879808182838485868788899091929394959697989 done.\n",
      "Total genotyping rate in remaining samples is 0.991813.\n",
      "591998 variants and 224 people pass filters and QC.\n",
      "Among remaining phenotypes, 145 are cases and 79 are controls.\n",
      "--make-bed to test_1.bed + test_1.bim + test_1.fam ... 101112131415161718192021222324252627282930313233343536373839404142434445464748495051525354555657585960616263646566676869707172737475767778798081828384858687888990919293949596979899done.\n",
      "Создание обучающего набора train_1\n",
      "PLINK v1.9.0-b.7.7 64-bit (22 Oct 2024)            cog-genomics.org/plink/1.9/\n",
      "(C) 2005-2024 Shaun Purcell, Christopher Chang   GNU General Public License v3\n",
      "Logging to train_1.log.\n",
      "Options in effect:\n",
      "  --bfile ./all_train\n",
      "  --keep train_1_samples.txt\n",
      "  --make-bed\n",
      "  --out train_1\n",
      "\n",
      "16384 MB RAM detected; reserving 8192 MB for main workspace.\n",
      "591998 variants loaded from .bim file.\n",
      "1120 people (749 males, 371 females) loaded from .fam.\n",
      "1120 phenotype values loaded from .fam.\n",
      "--keep: 896 people remaining.\n",
      "Using 1 thread (no multithreaded calculations invoked).\n",
      "Before main variant filters, 896 founders and 0 nonfounders present.\n",
      "Calculating allele frequencies... 10111213141516%"
     ]
    },
    {
     "name": "stderr",
     "output_type": "stream",
     "text": [
      "Python(11840) MallocStackLogging: can't turn off malloc stack logging because it was not enabled.\n"
     ]
    },
    {
     "name": "stdout",
     "output_type": "stream",
     "text": [
      "\b171819202122232425262728293031323334353637383940414243444546474849505152535455565758596061626364656667686970717273747576777879808182838485868788899091929394959697989 done.\n",
      "Total genotyping rate in remaining samples is 0.991683.\n",
      "591998 variants and 896 people pass filters and QC.\n",
      "Among remaining phenotypes, 599 are cases and 297 are controls.\n",
      "--make-bed to train_1.bed + train_1.bim + train_1.fam ... 101112131415161718192021222324252627282930313233343536373839404142434445464748495051525354555657585960616263646566676869707172737475767778798081828384858687888990919293949596979899done.\n",
      "Фолд 1: успешно\n",
      "==================================================\n",
      "\n",
      "\n",
      "==================================================\n",
      "фолд 2/5\n",
      "Создание тестового набора test_2\n",
      "PLINK v1.9.0-b.7.7 64-bit (22 Oct 2024)            cog-genomics.org/plink/1.9/\n",
      "(C) 2005-2024 Shaun Purcell, Christopher Chang   GNU General Public License v3\n",
      "Logging to test_2.log.\n",
      "Options in effect:\n",
      "  --bfile ./all_train\n",
      "  --keep test_2_samples.txt\n",
      "  --make-bed\n",
      "  --out test_2\n",
      "\n",
      "16384 MB RAM detected; reserving 8192 MB for main workspace.\n",
      "591998 variants loaded from .bim file.\n",
      "1120 people (749 males, 371 females) loaded from .fam.\n",
      "1120 phenotype values loaded from .fam.\n",
      "--keep: 224 people remaining.\n",
      "Using 1 thread (no multithreaded calculations invoked).\n",
      "Before main variant filters, 224 founders and 0 nonfounders present.\n",
      "Calculating allele frequencies... 9%"
     ]
    },
    {
     "name": "stderr",
     "output_type": "stream",
     "text": [
      "Python(11844) MallocStackLogging: can't turn off malloc stack logging because it was not enabled.\n"
     ]
    },
    {
     "name": "stdout",
     "output_type": "stream",
     "text": [
      "10111213141516171819202122232425262728293031323334353637383940414243444546474849505152535455565758596061626364656667686970717273747576777879808182838485868788899091929394959697989 done.\n",
      "Total genotyping rate in remaining samples is 0.991216.\n",
      "591998 variants and 224 people pass filters and QC.\n",
      "Among remaining phenotypes, 149 are cases and 75 are controls.\n",
      "--make-bed to test_2.bed + test_2.bim + test_2.fam ... 101112131415161718192021222324252627282930313233343536373839404142434445464748495051525354555657585960616263646566676869707172737475767778798081828384858687888990919293949596979899done.\n",
      "Создание обучающего набора train_2\n",
      "PLINK v1.9.0-b.7.7 64-bit (22 Oct 2024)            cog-genomics.org/plink/1.9/\n",
      "(C) 2005-2024 Shaun Purcell, Christopher Chang   GNU General Public License v3\n",
      "Logging to train_2.log.\n",
      "Options in effect:\n",
      "  --bfile ./all_train\n",
      "  --keep train_2_samples.txt\n",
      "  --make-bed\n",
      "  --out train_2\n",
      "\n",
      "16384 MB RAM detected; reserving 8192 MB for main workspace.\n",
      "591998 variants loaded from .bim file.\n",
      "1120 people (749 males, 371 females) loaded from .fam.\n",
      "1120 phenotype values loaded from .fam.\n",
      "--keep: 896 people remaining.\n",
      "Using 1 thread (no multithreaded calculations invoked).\n",
      "Before main variant filters, 896 founders and 0 nonfounders present.\n",
      "Calculating allele frequencies... 101112131415161718%"
     ]
    },
    {
     "name": "stderr",
     "output_type": "stream",
     "text": [
      "Python(11845) MallocStackLogging: can't turn off malloc stack logging because it was not enabled.\n"
     ]
    },
    {
     "name": "stdout",
     "output_type": "stream",
     "text": [
      "\b19202122232425262728293031323334353637383940414243444546474849505152535455565758596061626364656667686970717273747576777879808182838485868788899091929394959697989 done.\n",
      "Total genotyping rate in remaining samples is 0.991832.\n",
      "591998 variants and 896 people pass filters and QC.\n",
      "Among remaining phenotypes, 595 are cases and 301 are controls.\n",
      "--make-bed to train_2.bed + train_2.bim + train_2.fam ... 101112131415161718192021222324252627282930313233343536373839404142434445464748495051525354555657585960616263646566676869707172737475767778798081828384858687888990919293949596979899done.\n",
      "Фолд 2: успешно\n",
      "==================================================\n",
      "\n",
      "\n",
      "==================================================\n",
      "фолд 3/5\n",
      "Создание тестового набора test_3\n",
      "PLINK v1.9.0-b.7.7 64-bit (22 Oct 2024)            cog-genomics.org/plink/1.9/\n",
      "(C) 2005-2024 Shaun Purcell, Christopher Chang   GNU General Public License v3\n",
      "Logging to test_3.log.\n",
      "Options in effect:\n",
      "  --bfile ./all_train\n",
      "  --keep test_3_samples.txt\n",
      "  --make-bed\n",
      "  --out test_3\n",
      "\n",
      "16384 MB RAM detected; reserving 8192 MB for main workspace.\n",
      "591998 variants loaded from .bim file.\n",
      "1120 people (749 males, 371 females) loaded from .fam.\n",
      "1120 phenotype values loaded from .fam.\n",
      "--keep: 224 people remaining.\n",
      "Using 1 thread (no multithreaded calculations invoked).\n",
      "Before main variant filters, 224 founders and 0 nonfounders present.\n",
      "Calculating allele frequencies... 1011121314151617181920212223242526%"
     ]
    },
    {
     "name": "stderr",
     "output_type": "stream",
     "text": [
      "Python(11846) MallocStackLogging: can't turn off malloc stack logging because it was not enabled.\n"
     ]
    },
    {
     "name": "stdout",
     "output_type": "stream",
     "text": [
      "\b2728293031323334353637383940414243444546474849505152535455565758596061626364656667686970717273747576777879808182838485868788899091929394959697989 done.\n",
      "Total genotyping rate in remaining samples is 0.991824.\n",
      "591998 variants and 224 people pass filters and QC.\n",
      "Among remaining phenotypes, 151 are cases and 73 are controls.\n",
      "--make-bed to test_3.bed + test_3.bim + test_3.fam ... 101112131415161718192021222324252627282930313233343536373839404142434445464748495051525354555657585960616263646566676869707172737475767778798081828384858687888990919293949596979899done.\n",
      "Создание обучающего набора train_3\n",
      "PLINK v1.9.0-b.7.7 64-bit (22 Oct 2024)            cog-genomics.org/plink/1.9/\n",
      "(C) 2005-2024 Shaun Purcell, Christopher Chang   GNU General Public License v3\n",
      "Logging to train_3.log.\n",
      "Options in effect:\n",
      "  --bfile ./all_train\n",
      "  --keep train_3_samples.txt\n",
      "  --make-bed\n",
      "  --out train_3\n",
      "\n",
      "16384 MB RAM detected; reserving 8192 MB for main workspace.\n",
      "591998 variants loaded from .bim file.\n",
      "1120 people (749 males, 371 females) loaded from .fam.\n",
      "1120 phenotype values loaded from .fam.\n",
      "--keep: 896 people remaining.\n",
      "Using 1 thread (no multithreaded calculations invoked).\n",
      "Before main variant filters, 896 founders and 0 nonfounders present.\n",
      "Calculating allele frequencies... 1011121314151617%"
     ]
    },
    {
     "name": "stderr",
     "output_type": "stream",
     "text": [
      "Python(11847) MallocStackLogging: can't turn off malloc stack logging because it was not enabled.\n"
     ]
    },
    {
     "name": "stdout",
     "output_type": "stream",
     "text": [
      "\b1819202122232425262728293031323334353637383940414243444546474849505152535455565758596061626364656667686970717273747576777879808182838485868788899091929394959697989 done.\n",
      "Total genotyping rate in remaining samples is 0.99168.\n",
      "591998 variants and 896 people pass filters and QC.\n",
      "Among remaining phenotypes, 593 are cases and 303 are controls.\n",
      "--make-bed to train_3.bed + train_3.bim + train_3.fam ... 101112131415161718192021222324252627282930313233343536373839404142434445464748495051525354555657585960616263646566676869707172737475767778798081828384858687888990919293949596979899done.\n",
      "Фолд 3: успешно\n",
      "==================================================\n",
      "\n",
      "\n",
      "==================================================\n",
      "фолд 4/5\n",
      "Создание тестового набора test_4\n",
      "PLINK v1.9.0-b.7.7 64-bit (22 Oct 2024)            cog-genomics.org/plink/1.9/\n",
      "(C) 2005-2024 Shaun Purcell, Christopher Chang   GNU General Public License v3\n",
      "Logging to test_4.log.\n",
      "Options in effect:\n",
      "  --bfile ./all_train\n",
      "  --keep test_4_samples.txt\n",
      "  --make-bed\n",
      "  --out test_4\n",
      "\n",
      "16384 MB RAM detected; reserving 8192 MB for main workspace.\n",
      "591998 variants loaded from .bim file.\n",
      "1120 people (749 males, 371 females) loaded from .fam.\n",
      "1120 phenotype values loaded from .fam.\n",
      "--keep: 224 people remaining.\n",
      "Using 1 thread (no multithreaded calculations invoked).\n",
      "Before main variant filters, 224 founders and 0 nonfounders present.\n",
      "Calculating allele frequencies... 4%"
     ]
    },
    {
     "name": "stderr",
     "output_type": "stream",
     "text": [
      "Python(11849) MallocStackLogging: can't turn off malloc stack logging because it was not enabled.\n"
     ]
    },
    {
     "name": "stdout",
     "output_type": "stream",
     "text": [
      "10111213141516171819202122232425262728293031323334353637383940414243444546474849505152535455565758596061626364656667686970717273747576777879808182838485868788899091929394959697989 done.\n",
      "Total genotyping rate in remaining samples is 0.991486.\n",
      "591998 variants and 224 people pass filters and QC.\n",
      "Among remaining phenotypes, 149 are cases and 75 are controls.\n",
      "--make-bed to test_4.bed + test_4.bim + test_4.fam ... 101112131415161718192021222324252627282930313233343536373839404142434445464748495051525354555657585960616263646566676869707172737475767778798081828384858687888990919293949596979899done.\n",
      "Создание обучающего набора train_4\n"
     ]
    },
    {
     "name": "stderr",
     "output_type": "stream",
     "text": [
      "Python(11850) MallocStackLogging: can't turn off malloc stack logging because it was not enabled.\n"
     ]
    },
    {
     "name": "stdout",
     "output_type": "stream",
     "text": [
      "PLINK v1.9.0-b.7.7 64-bit (22 Oct 2024)            cog-genomics.org/plink/1.9/\n",
      "(C) 2005-2024 Shaun Purcell, Christopher Chang   GNU General Public License v3\n",
      "Logging to train_4.log.\n",
      "Options in effect:\n",
      "  --bfile ./all_train\n",
      "  --keep train_4_samples.txt\n",
      "  --make-bed\n",
      "  --out train_4\n",
      "\n",
      "16384 MB RAM detected; reserving 8192 MB for main workspace.\n",
      "591998 variants loaded from .bim file.\n",
      "1120 people (749 males, 371 females) loaded from .fam.\n",
      "1120 phenotype values loaded from .fam.\n",
      "--keep: 896 people remaining.\n",
      "Using 1 thread (no multithreaded calculations invoked).\n",
      "Before main variant filters, 896 founders and 0 nonfounders present.\n",
      "Calculating allele frequencies... 10111213141516171819202122232425262728293031323334353637383940414243444546474849505152535455565758596061626364656667686970717273747576777879808182838485868788899091929394959697989 done.\n",
      "Total genotyping rate in remaining samples is 0.991765.\n",
      "591998 variants and 896 people pass filters and QC.\n",
      "Among remaining phenotypes, 595 are cases and 301 are controls.\n",
      "--make-bed to train_4.bed + train_4.bim + train_4.fam ... 101112131415161718192021222324252627282930313233343536373839404142434445464748495051525354555657585960616263646566676869707172737475767778798081828384858687888990919293949596979899done.\n",
      "Фолд 4: успешно\n",
      "==================================================\n",
      "\n",
      "\n",
      "==================================================\n",
      "фолд 5/5\n",
      "Создание тестового набора test_5\n",
      "PLINK v1.9.0-b.7.7 64-bit (22 Oct 2024)            cog-genomics.org/plink/1.9/\n",
      "(C) 2005-2024 Shaun Purcell, Christopher Chang   GNU General Public License v3\n",
      "Logging to test_5.log.\n",
      "Options in effect:\n",
      "  --bfile ./all_train\n",
      "  --keep test_5_samples.txt\n",
      "  --make-bed\n",
      "  --out test_5\n",
      "\n",
      "16384 MB RAM detected; reserving 8192 MB for main workspace.\n",
      "591998 variants loaded from .bim file.\n",
      "1120 people (749 males, 371 females) loaded from .fam.\n",
      "1120 phenotype values loaded from .fam.\n",
      "--keep: 224 people remaining.\n",
      "Using 1 thread (no multithreaded calculations invoked).\n",
      "Before main variant filters, 224 founders and 0 nonfounders present.\n",
      "Calculating allele frequencies... 101112131415161718192021222324252627282930313233343536373839%"
     ]
    },
    {
     "name": "stderr",
     "output_type": "stream",
     "text": [
      "Python(11854) MallocStackLogging: can't turn off malloc stack logging because it was not enabled.\n"
     ]
    },
    {
     "name": "stdout",
     "output_type": "stream",
     "text": [
      "\b40414243444546474849505152535455565758596061626364656667686970717273747576777879808182838485868788899091929394959697989 done.\n",
      "Total genotyping rate in remaining samples is 0.992207.\n",
      "591998 variants and 224 people pass filters and QC.\n",
      "Among remaining phenotypes, 150 are cases and 74 are controls.\n",
      "--make-bed to test_5.bed + test_5.bim + test_5.fam ... 101112131415161718192021222324252627282930313233343536373839404142434445464748495051525354555657585960616263646566676869707172737475767778798081828384858687888990919293949596979899done.\n",
      "Создание обучающего набора train_5\n",
      "PLINK v1.9.0-b.7.7 64-bit (22 Oct 2024)            cog-genomics.org/plink/1.9/\n",
      "(C) 2005-2024 Shaun Purcell, Christopher Chang   GNU General Public License v3\n",
      "Logging to train_5.log.\n",
      "Options in effect:\n",
      "  --bfile ./all_train\n",
      "  --keep train_5_samples.txt\n",
      "  --make-bed\n",
      "  --out train_5\n",
      "\n",
      "16384 MB RAM detected; reserving 8192 MB for main workspace.\n",
      "591998 variants loaded from .bim file.\n",
      "1120 people (749 males, 371 females) loaded from .fam.\n",
      "1120 phenotype values loaded from .fam.\n",
      "--keep: 896 people remaining.\n",
      "Using 1 thread (no multithreaded calculations invoked).\n",
      "Before main variant filters, 896 founders and 0 nonfounders present.\n",
      "Calculating allele frequencies... 101112131415161718192021222324252627282930313233343536%"
     ]
    },
    {
     "name": "stderr",
     "output_type": "stream",
     "text": [
      "Python(11865) MallocStackLogging: can't turn off malloc stack logging because it was not enabled.\n"
     ]
    },
    {
     "name": "stdout",
     "output_type": "stream",
     "text": [
      "\b37383940414243444546474849505152535455565758596061626364656667686970717273747576777879808182838485868788899091929394959697989 done.\n",
      "Total genotyping rate in remaining samples is 0.991585.\n",
      "591998 variants and 896 people pass filters and QC.\n",
      "Among remaining phenotypes, 594 are cases and 302 are controls.\n",
      "--make-bed to train_5.bed + train_5.bim + train_5.fam ... 101112131415161718192021222324252627282930313233343536373839404142434445464748495051525354555657585960616263646566676869707172737475767778798081828384858687888990919293949596979899done.\n",
      "Фолд 5: успешно\n",
      "==================================================\n",
      "\n"
     ]
    }
   ],
   "source": [
    "for i in range(n_folds):\n",
    "    print(f\"\\n{'='*50}\")\n",
    "    print(f\"фолд {i+1}/{n_folds}\")\n",
    "    create_plink_sets_for_fold(i, fold_samples, shuffled_samples, input_file)\n",
    "    print(f\"{'='*50}\\n\")\n"
   ]
  },
  {
   "cell_type": "code",
   "execution_count": 40,
   "metadata": {},
   "outputs": [
    {
     "name": "stdout",
     "output_type": "stream",
     "text": [
      "Фолд 1 тест = 224 обучение = 896 всего = 1120\n",
      "Фолд 2 тест = 224 обучение = 896 всего = 1120\n",
      "Фолд 3 тест = 224 обучение = 896 всего = 1120\n",
      "Фолд 4 тест = 224 обучение = 896 всего = 1120\n",
      "Фолд 5 тест = 224 обучение = 896 всего = 1120\n"
     ]
    },
    {
     "name": "stderr",
     "output_type": "stream",
     "text": [
      "<>:18: SyntaxWarning: invalid escape sequence '\\s'\n",
      "<>:19: SyntaxWarning: invalid escape sequence '\\s'\n",
      "<>:18: SyntaxWarning: invalid escape sequence '\\s'\n",
      "<>:19: SyntaxWarning: invalid escape sequence '\\s'\n",
      "/var/folders/vk/0y4fmhhn3cd_lwzv7g3n3fc5f83rjt/T/ipykernel_10568/1896703663.py:18: SyntaxWarning: invalid escape sequence '\\s'\n",
      "  test_count = len(pd.read_csv(test_file, sep='\\s+', header=None))\n",
      "/var/folders/vk/0y4fmhhn3cd_lwzv7g3n3fc5f83rjt/T/ipykernel_10568/1896703663.py:19: SyntaxWarning: invalid escape sequence '\\s'\n",
      "  train_count = len(pd.read_csv(train_file, sep='\\s+', header=None))\n"
     ]
    }
   ],
   "source": [
    "# Проверяем файлы\n",
    "file_types = ['.bed', '.bim', '.fam']\n",
    "all_files = []\n",
    "\n",
    "for i in range(1, n_folds+1):\n",
    "    for prefix in [f'test_{i}', f'train_{i}']:\n",
    "        for file_type in file_types:\n",
    "            all_files.append(f\"{prefix}{file_type}\")\n",
    "\n",
    "for file in all_files:\n",
    "    exists = os.path.exists(file)\n",
    "    if not exists:\n",
    "        print(f\"проблема с {file}\")\n",
    "\n",
    "for i in range(1, n_folds+1):\n",
    "    test_file = f\"test_{i}.fam\"\n",
    "    train_file = f\"train_{i}.fam\"\n",
    "    test_count = len(pd.read_csv(test_file, sep='\\s+', header=None))\n",
    "    train_count = len(pd.read_csv(train_file, sep='\\s+', header=None))\n",
    "    print(f\"Фолд {i} тест = {test_count} обучение = {train_count} всего = {test_count + train_count}\")\n"
   ]
  },
  {
   "cell_type": "code",
   "execution_count": null,
   "metadata": {},
   "outputs": [],
   "source": []
  }
 ],
 "metadata": {
  "kernelspec": {
   "display_name": "for_dipl",
   "language": "python",
   "name": "python3"
  },
  "language_info": {
   "codemirror_mode": {
    "name": "ipython",
    "version": 3
   },
   "file_extension": ".py",
   "mimetype": "text/x-python",
   "name": "python",
   "nbconvert_exporter": "python",
   "pygments_lexer": "ipython3",
   "version": "3.12.3"
  }
 },
 "nbformat": 4,
 "nbformat_minor": 2
}
